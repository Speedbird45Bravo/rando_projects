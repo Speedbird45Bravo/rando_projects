{
  "nbformat": 4,
  "nbformat_minor": 0,
  "metadata": {
    "colab": {
      "name": "XGB_51721.ipynb",
      "provenance": [],
      "authorship_tag": "ABX9TyP2zb1ta2yz8Mk9FmrLNpsh"
    },
    "kernelspec": {
      "name": "python3",
      "display_name": "Python 3"
    },
    "language_info": {
      "name": "python"
    }
  },
  "cells": [
    {
      "cell_type": "code",
      "metadata": {
        "id": "syfWGUVLUdwf"
      },
      "source": [
        "from sklearn.model_selection import train_test_split\n",
        "from sklearn.metrics import accuracy_score\n",
        "from xgboost import XGBClassifier\n",
        "import numpy as np\n",
        "import pandas as pd"
      ],
      "execution_count": 21,
      "outputs": []
    },
    {
      "cell_type": "code",
      "metadata": {
        "id": "e0oGGnP6Ukhw"
      },
      "source": [
        "url = \"https://projects.fivethirtyeight.com/soccer-api/club/spi_matches_latest.csv\"\n",
        "df = pd.read_csv(url, parse_dates=['date'])"
      ],
      "execution_count": 22,
      "outputs": []
    },
    {
      "cell_type": "code",
      "metadata": {
        "id": "dx-3WdHsUpy6"
      },
      "source": [
        "df['h_margin'] = df['score1'] - df['score2']\n",
        "df['total_goals'] = df['score1'] + df['score2']\n",
        "df['margin'] = np.abs(df['score1'] - df['score2'])"
      ],
      "execution_count": 23,
      "outputs": []
    },
    {
      "cell_type": "code",
      "metadata": {
        "id": "b6HzneN8WraC"
      },
      "source": [
        "res = []"
      ],
      "execution_count": 24,
      "outputs": []
    },
    {
      "cell_type": "code",
      "metadata": {
        "id": "ukATeB3JWvPY"
      },
      "source": [
        "for x in df['h_margin']:\n",
        "  if x > 0:\n",
        "    res.append(\"HOME WIN\")\n",
        "  elif x < 0:\n",
        "    res.append(\"AWAY WIN\")\n",
        "  else:\n",
        "    res.append(\"DRAW\")"
      ],
      "execution_count": 25,
      "outputs": []
    },
    {
      "cell_type": "code",
      "metadata": {
        "id": "uaGn7v6pWx6c"
      },
      "source": [
        "df['result'] = res"
      ],
      "execution_count": 26,
      "outputs": []
    },
    {
      "cell_type": "code",
      "metadata": {
        "id": "sGGuRQ_qW2Ok"
      },
      "source": [
        "X = df[['h_margin','total_goals','margin']]\n",
        "y = df[['result']].copy()"
      ],
      "execution_count": 27,
      "outputs": []
    },
    {
      "cell_type": "code",
      "metadata": {
        "id": "JnHB2o_8XC7c"
      },
      "source": [
        "X_train, X_test, y_train, y_test = train_test_split(X, y, test_size=0.2, random_state=6)"
      ],
      "execution_count": 28,
      "outputs": []
    },
    {
      "cell_type": "code",
      "metadata": {
        "id": "qk1MN7wqXHxw"
      },
      "source": [
        "model = XGBClassifier(n_estimators=400, objective='multi:softmax', num_class=3).fit(X_train, y_train['result'])"
      ],
      "execution_count": 29,
      "outputs": []
    },
    {
      "cell_type": "code",
      "metadata": {
        "id": "LTvUPS8fXXpT"
      },
      "source": [
        "predictions = model.predict(X_test)"
      ],
      "execution_count": 30,
      "outputs": []
    },
    {
      "cell_type": "code",
      "metadata": {
        "id": "7aRwW3TFXdEQ"
      },
      "source": [
        "accuracy = accuracy_score(y_test, predictions)"
      ],
      "execution_count": 33,
      "outputs": []
    },
    {
      "cell_type": "code",
      "metadata": {
        "colab": {
          "base_uri": "https://localhost:8080/"
        },
        "id": "s8UxflF7Xk4k",
        "outputId": "f9ae0fc8-0c7e-43c5-c9d7-8a89b9bdde8f"
      },
      "source": [
        "print(\"Test Accuracy: {}%\".format(accuracy * 100))"
      ],
      "execution_count": 34,
      "outputs": [
        {
          "output_type": "stream",
          "text": [
            "Test Accuracy: 100.0%\n"
          ],
          "name": "stdout"
        }
      ]
    }
  ]
}