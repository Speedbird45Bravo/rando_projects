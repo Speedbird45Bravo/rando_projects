{
 "cells": [
  {
   "cell_type": "code",
   "execution_count": 1,
   "metadata": {
    "id": "GK0-szqe23ZH"
   },
   "outputs": [],
   "source": [
    "import pandas as pd\n",
    "import numpy as np\n",
    "from sklearn.ensemble import StackingClassifier, VotingClassifier, RandomForestClassifier, GradientBoostingClassifier, AdaBoostClassifier, BaggingClassifier\n",
    "from sklearn.model_selection import train_test_split, KFold, cross_val_score, GridSearchCV\n",
    "from xgboost import XGBClassifier, XGBRFClassifier\n",
    "from catboost import CatBoostClassifier\n",
    "from lightgbm import LGBMClassifier\n",
    "from sklearn.preprocessing import LabelEncoder, PowerTransformer, StandardScaler\n",
    "import warnings\n",
    "warnings.filterwarnings(\"ignore\")\n",
    "pd.options.mode.chained_assignment = None"
   ]
  },
  {
   "cell_type": "code",
   "execution_count": 2,
   "metadata": {
    "id": "TXt88ug7TQkd"
   },
   "outputs": [],
   "source": [
    "le = LabelEncoder()\n",
    "pt = PowerTransformer()\n",
    "ss = StandardScaler()"
   ]
  },
  {
   "cell_type": "code",
   "execution_count": 3,
   "metadata": {
    "id": "SQpfjFEG6ZS7"
   },
   "outputs": [],
   "source": [
    "# A few matters of preprocessing.\n",
    "# We can see SibSP and Parch are related, so we combine them into SSP and delete them.\n",
    "# Families or groups traveling together could do so under a single ticket, so we create a dictionary of these value countst.\n",
    "# Finally, we create a feature on whether a person was alone based on how many time their ticket appears.\n",
    "train = pd.read_csv(\"train_titanic.csv\")\n",
    "train_target = train[\"Survived\"]\n",
    "train[\"SSP\"] = train[\"SibSp\"] + train[\"Parch\"]\n",
    "ticket_table = dict(train[\"Ticket\"].value_counts())\n",
    "train[\"Alone\"] = train[\"Ticket\"].map(ticket_table)\n",
    "train[\"Alone\"] = np.where(train[\"Alone\"]==1, 1, 0)\n",
    "train = train.drop([\"PassengerId\", \"Survived\", \"SibSp\", \"Ticket\", \"Parch\", \"Name\"], axis=1)\n",
    "test = pd.read_csv(\"test_titanic.csv\")\n",
    "test[\"SSP\"] = test[\"SibSp\"] + test[\"Parch\"]\n",
    "test_id = test[\"PassengerId\"]\n",
    "test[\"Alone\"] = test[\"Ticket\"].map(ticket_table)\n",
    "test[\"Alone\"] = np.where(test[\"Alone\"]==1, 1, 0)\n",
    "test = test.drop([\"PassengerId\", \"SibSp\", \"Parch\", \"Ticket\", \"Name\"], axis=1)"
   ]
  },
  {
   "cell_type": "code",
   "execution_count": 4,
   "metadata": {
    "id": "aEtSby_QUstH"
   },
   "outputs": [],
   "source": [
    "# Two people in Train had no embarkment location, so we assign them to Southampton.\n",
    "train[\"Embarked\"].fillna(\"S\", inplace=True)"
   ]
  },
  {
   "cell_type": "code",
   "execution_count": 5,
   "metadata": {
    "id": "L__jDctSRXTL"
   },
   "outputs": [],
   "source": [
    "# Mean imputation for non-objects; \"None\" imputed for objects.\n",
    "for col in train.columns:\n",
    "    if train[col].dtype != object:\n",
    "        train[col].fillna(train[col].median(), inplace=True)\n",
    "        test[col].fillna(train[col].median(), inplace=True)\n",
    "        train[col] = ss.fit_transform(train[col].values.reshape(-1,1))\n",
    "        test[col] = ss.transform(test[col].values.reshape(-1,1))\n",
    "    else:\n",
    "        train[col].fillna(\"None\", inplace=True)\n",
    "        test[col].fillna(\"None\", inplace=True)"
   ]
  },
  {
   "cell_type": "code",
   "execution_count": 6,
   "metadata": {},
   "outputs": [],
   "source": [
    "# If the skew of a given column is greater than 1 (absolute value), we use PowerTransformer to adjust.\n",
    "for col in train.columns:\n",
    "    if train[col].dtype != object:\n",
    "        if np.abs(train[col].skew()) > 1:\n",
    "            train[col] = pt.fit_transform(train[col].values.reshape(-1,1))\n",
    "            test[col] = pt.transform(test[col].values.reshape(-1,1))\n",
    "        else:\n",
    "            pass\n",
    "    else:\n",
    "        pass"
   ]
  },
  {
   "cell_type": "code",
   "execution_count": 7,
   "metadata": {},
   "outputs": [],
   "source": [
    "# Cabins are most indicative when looking at the first letter, so we extract it from the string.\n",
    "# If there is no cabin, we just call it \"N.\"\n",
    "train[\"Cabin\"] = train[\"Cabin\"].astype(str).str[0]\n",
    "test[\"Cabin\"] = test[\"Cabin\"].astype(str).str[0]"
   ]
  },
  {
   "cell_type": "code",
   "execution_count": 8,
   "metadata": {
    "colab": {
     "base_uri": "https://localhost:8080/",
     "height": 454
    },
    "id": "wEmEnl7AR89h",
    "outputId": "9fedf71d-b61e-4ad3-8142-39a61da93a92"
   },
   "outputs": [],
   "source": [
    "# Label encoding.\n",
    "for col in train.columns:\n",
    "    if train[col].dtype == object:\n",
    "        train[col] = le.fit_transform(train[col].astype(str))\n",
    "        test[col] = le.transform(test[col].astype(str))"
   ]
  },
  {
   "cell_type": "code",
   "execution_count": 9,
   "metadata": {},
   "outputs": [],
   "source": [
    "# To iteratively compare train vs. test scores, we do a split, although we will just use the entire train set for fitting.\n",
    "X_train, X_test, y_train, y_test = train_test_split(train, train_target, test_size=0.2, random_state=6)"
   ]
  },
  {
   "cell_type": "code",
   "execution_count": 10,
   "metadata": {},
   "outputs": [],
   "source": [
    "# A number of different models to evaluate. Some (high performers) have been iteratively adjusted based on the grid below.\n",
    "rfc = RandomForestClassifier(max_depth=9, n_estimators=200)\n",
    "gbc = GradientBoostingClassifier(max_depth=3, n_estimators=300, learning_rate=0.05)\n",
    "abc = AdaBoostClassifier()\n",
    "bc = BaggingClassifier()\n",
    "lgbmc = LGBMClassifier()\n",
    "xgbc = XGBClassifier(objective=\"binary:logistic\", eval_metric=\"error\", n_estimators=500, max_depth=2, learning_rate=0.1)\n",
    "xgbrfc = XGBRFClassifier(objective=\"binary:logistic\", eval_metric=\"error\", max_depth=5, n_estimators=200, learning_rate=0.001)\n",
    "cbc = CatBoostClassifier(verbose=0)"
   ]
  },
  {
   "cell_type": "code",
   "execution_count": 11,
   "metadata": {},
   "outputs": [],
   "source": [
    "models = []\n",
    "models.append((\"RFC\", rfc))\n",
    "models.append((\"GBC\", gbc))\n",
    "models.append((\"ABC\", abc))\n",
    "models.append((\"BC\", bc))\n",
    "models.append((\"LGBMC\", lgbmc))\n",
    "models.append((\"XGBC\", xgbc))\n",
    "models.append((\"XGBRFC\", xgbrfc))\n",
    "models.append((\"CBC\", cbc))"
   ]
  },
  {
   "cell_type": "code",
   "execution_count": 12,
   "metadata": {},
   "outputs": [],
   "source": [
    "names = []\n",
    "results = []"
   ]
  },
  {
   "cell_type": "code",
   "execution_count": 13,
   "metadata": {},
   "outputs": [
    {
     "name": "stdout",
     "output_type": "stream",
     "text": [
      "Estimator: RFC | Mean: 0.82 | SD: 0.068 | Min: 0.667 | Max: 0.943\n",
      "Estimator: GBC | Mean: 0.817 | SD: 0.07 | Min: 0.611 | Max: 0.943\n",
      "Estimator: ABC | Mean: 0.801 | SD: 0.075 | Min: 0.611 | Max: 0.917\n",
      "Estimator: BC | Mean: 0.807 | SD: 0.067 | Min: 0.629 | Max: 0.917\n",
      "Estimator: LGBMC | Mean: 0.822 | SD: 0.071 | Min: 0.629 | Max: 0.943\n",
      "Estimator: XGBC | Mean: 0.832 | SD: 0.065 | Min: 0.667 | Max: 1.0\n",
      "Estimator: XGBRFC | Mean: 0.819 | SD: 0.064 | Min: 0.694 | Max: 0.917\n",
      "Estimator: CBC | Mean: 0.823 | SD: 0.05 | Min: 0.722 | Max: 0.917\n"
     ]
    }
   ],
   "source": [
    "for name, model in models:\n",
    "    kfold = KFold(n_splits=25, shuffle=True)\n",
    "    result = cross_val_score(model, train, train_target, cv=kfold, scoring=\"accuracy\")\n",
    "    names.append(name)\n",
    "    results.append(result)\n",
    "    print(\"Estimator: {} | Mean: {} | SD: {} | Min: {} | Max: {}\".format(name, result.mean().round(3), result.std().round(3), result.min().round(3), result.max().round(3)))"
   ]
  },
  {
   "cell_type": "code",
   "execution_count": 16,
   "metadata": {},
   "outputs": [
    {
     "data": {
      "text/plain": [
       "GridSearchCV(estimator=GradientBoostingClassifier(),\n",
       "             param_grid={'learning_rate': [0.001, 0.01, 0.05, 0.1, 0.5],\n",
       "                         'max_depth': [1, 2, 3, 4, 5],\n",
       "                         'n_estimators': [100, 200, 300, 400, 500]})"
      ]
     },
     "execution_count": 16,
     "metadata": {},
     "output_type": "execute_result"
    }
   ],
   "source": [
    "# Here's the last grid.\n",
    "param_grid = {\"n_estimators\":[100,200,300,400,500], \"max_depth\":[1,2,3,4,5], \"learning_rate\":[0.001,0.01,0.05,0.1,0.5]}\n",
    "grid = GridSearchCV(GradientBoostingClassifier(), param_grid=param_grid)\n",
    "grid.fit(X_train, y_train)"
   ]
  },
  {
   "cell_type": "code",
   "execution_count": 17,
   "metadata": {},
   "outputs": [
    {
     "data": {
      "text/plain": [
       "{'learning_rate': 0.05, 'max_depth': 3, 'n_estimators': 300}"
      ]
     },
     "execution_count": 17,
     "metadata": {},
     "output_type": "execute_result"
    }
   ],
   "source": [
    "# Results of the last one.\n",
    "grid.best_params_"
   ]
  },
  {
   "cell_type": "code",
   "execution_count": 18,
   "metadata": {},
   "outputs": [],
   "source": [
    "# After a few iterations, landed on a voting classifier with XGBoost's RFC and Scikit-learn's GBC and RFC.\n",
    "vc = VotingClassifier(estimators=[(\"XGBRFC\", xgbrfc), (\"GBC\", gbc), (\"RFC\", rfc)])"
   ]
  },
  {
   "cell_type": "code",
   "execution_count": 19,
   "metadata": {},
   "outputs": [
    {
     "data": {
      "text/plain": [
       "VotingClassifier(estimators=[('XGBRFC',\n",
       "                              XGBRFClassifier(base_score=None, booster=None,\n",
       "                                              colsample_bylevel=None,\n",
       "                                              colsample_bytree=None,\n",
       "                                              eval_metric='error', gamma=None,\n",
       "                                              gpu_id=None,\n",
       "                                              importance_type='gain',\n",
       "                                              interaction_constraints=None,\n",
       "                                              learning_rate=0.001,\n",
       "                                              max_delta_step=None, max_depth=5,\n",
       "                                              min_child_weight=None,\n",
       "                                              missing=nan,\n",
       "                                              monotone_constraints=None,\n",
       "                                              n_estimators=200, n_jobs=None,\n",
       "                                              num_parallel_tree=None,\n",
       "                                              objective='binary:logistic',\n",
       "                                              random_state=None, reg_alpha=None,\n",
       "                                              scale_pos_weight=None,\n",
       "                                              tree_method=None,\n",
       "                                              validate_parameters=None,\n",
       "                                              verbosity=None)),\n",
       "                             ('GBC',\n",
       "                              GradientBoostingClassifier(learning_rate=0.05,\n",
       "                                                         n_estimators=300)),\n",
       "                             ('RFC',\n",
       "                              RandomForestClassifier(max_depth=9,\n",
       "                                                     n_estimators=200))])"
      ]
     },
     "execution_count": 19,
     "metadata": {},
     "output_type": "execute_result"
    }
   ],
   "source": [
    "vc.fit(train, train_target)"
   ]
  },
  {
   "cell_type": "code",
   "execution_count": 20,
   "metadata": {},
   "outputs": [],
   "source": [
    "predictions = vc.predict(test)"
   ]
  },
  {
   "cell_type": "code",
   "execution_count": 21,
   "metadata": {},
   "outputs": [],
   "source": [
    "submission = pd.DataFrame({\"PassengerId\":test_id, \"Survived\":predictions})"
   ]
  },
  {
   "cell_type": "code",
   "execution_count": 22,
   "metadata": {},
   "outputs": [],
   "source": [
    "submission.to_csv(\"Titanic_112521_IV.csv\", index=False)"
   ]
  }
 ],
 "metadata": {
  "colab": {
   "collapsed_sections": [],
   "name": "Titanic_112221.ipynb",
   "provenance": []
  },
  "kernelspec": {
   "display_name": "Python 3",
   "language": "python",
   "name": "python3"
  },
  "language_info": {
   "codemirror_mode": {
    "name": "ipython",
    "version": 3
   },
   "file_extension": ".py",
   "mimetype": "text/x-python",
   "name": "python",
   "nbconvert_exporter": "python",
   "pygments_lexer": "ipython3",
   "version": "3.9.5"
  }
 },
 "nbformat": 4,
 "nbformat_minor": 1
}
