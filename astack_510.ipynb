{
 "cells": [
  {
   "cell_type": "code",
   "execution_count": 1,
   "metadata": {},
   "outputs": [],
   "source": [
    "import pandas as pd\n",
    "import re\n",
    "import requests"
   ]
  },
  {
   "cell_type": "code",
   "execution_count": 7,
   "metadata": {},
   "outputs": [],
   "source": [
    "# API request to determine if any transatlantic flights utilized BGR and,\n",
    "# if so, display them.\n",
    "key = #key#\n",
    "icao = \"KBGR\"\n",
    "\n",
    "params1 = {'access_key':key, 'dep_icao':icao}\n",
    "params2 = {'access_key':key, 'arr_icao':icao}"
   ]
  },
  {
   "cell_type": "code",
   "execution_count": 8,
   "metadata": {},
   "outputs": [],
   "source": [
    "# Calls with each set of parameters: arrival and departure.\n",
    "response1 = requests.get(\"http://api.aviationstack.com/v1/flights\", params1)\n",
    "response2 = requests.get(\"http://api.aviationstack.com/v1/flights\", params2)\n",
    "data1 = response1.json()\n",
    "data2 = response2.json()"
   ]
  },
  {
   "cell_type": "code",
   "execution_count": 13,
   "metadata": {},
   "outputs": [],
   "source": [
    "# Pagination counts to iterate through.\n",
    "pc1 = data1['pagination']['count']\n",
    "pc2 = data2['pagination']['count']"
   ]
  },
  {
   "cell_type": "code",
   "execution_count": 14,
   "metadata": {},
   "outputs": [],
   "source": [
    "# Generating departure records. We use re to split all timezones \n",
    "# (featuring format 'Region/City') to derive if there are any TATL movements.\n",
    "for x in range(pc1):\n",
    "    l1.append(data1['data'][x]['flight_date'])\n",
    "    l2.append(data1['data'][x]['departure']['icao'])\n",
    "    l3.append(data1['data'][x]['arrival']['icao'])\n",
    "    if data1['data'][x]['arrival']['timezone'] is not None:\n",
    "        arg1, arg2 = re.split(\"/\", data1['data'][x]['arrival']['timezone'])\n",
    "        l5.append(arg1)\n",
    "        l6.append(arg2)\n",
    "    else:\n",
    "        l5.append(\"None\")\n",
    "        l6.append(\"None\")\n",
    "    if data1['data'][x]['aircraft'] is not None:\n",
    "        l4.append(data1['data'][x]['aircraft']['iata'])\n",
    "    else:\n",
    "        l4.append(\"None\")"
   ]
  },
  {
   "cell_type": "code",
   "execution_count": 15,
   "metadata": {},
   "outputs": [],
   "source": [
    "# Generating arrival records. Same re process as before.\n",
    "for y in range(pc2):\n",
    "    l7.append(data2['data'][y]['flight_date'])\n",
    "    l8.append(data2['data'][y]['departure']['icao'])\n",
    "    l9.append(data2['data'][y]['arrival']['icao'])\n",
    "    if data2['data'][y]['departure']['timezone'] is not None:\n",
    "        arg3, arg4 = re.split(\"/\", data2['data'][y]['departure']['timezone'])\n",
    "        l11.append(arg3)\n",
    "        l12.append(arg4)\n",
    "    else:\n",
    "        l11.append(\"None\")\n",
    "        l12.append(\"None\")\n",
    "    if data2['data'][y]['aircraft'] is not None:\n",
    "        l10.append(data2['data'][y]['aircraft']['iata'])\n",
    "    else:\n",
    "        l10.append(\"None\")"
   ]
  },
  {
   "cell_type": "code",
   "execution_count": 16,
   "metadata": {},
   "outputs": [],
   "source": [
    "# Much easier to work through functions than do it manually each time.\n",
    "def frame(array):\n",
    "    array = pd.Series(array)\n",
    "    array = pd.DataFrame(array).reset_index(drop=True)\n",
    "    return array"
   ]
  },
  {
   "cell_type": "code",
   "execution_count": 17,
   "metadata": {},
   "outputs": [],
   "source": [
    "# Ya been framed, lists. \n",
    "l1 = frame(l1)\n",
    "l2 = frame(l2)\n",
    "l3 = frame(l3)\n",
    "l4 = frame(l4)\n",
    "l5 = frame(l5)\n",
    "l6 = frame(l6)\n",
    "l7 = frame(l7)\n",
    "l8 = frame(l8)\n",
    "l9 = frame(l9)\n",
    "l10 = frame(l10)\n",
    "l11 = frame(l11)\n",
    "l12 = frame(l12)"
   ]
  },
  {
   "cell_type": "code",
   "execution_count": 18,
   "metadata": {},
   "outputs": [],
   "source": [
    "# Departure dataframe.\n",
    "df1 = pd.concat([l1, l2, l3, l4, l5, l6], axis=1)\n",
    "df1.columns = ['Date','DEP','ARR','Airline','TZ1','TZ2']\n",
    "df1 = df1[df1.TZ1 == \"Europe\"]\n",
    "df1 = df1[['Date','DEP','ARR']]"
   ]
  },
  {
   "cell_type": "code",
   "execution_count": 19,
   "metadata": {},
   "outputs": [],
   "source": [
    "# Arrival dataframe.\n",
    "df2 = pd.concat([l7, l8, l9, l10, l11, l12], axis=1)\n",
    "df2.columns = ['Date','DEP','ARR','Airline','TZ1','TZ2']\n",
    "df2 = df2[df2.TZ1 == \"Europe\"]\n",
    "df2 = df2[['Date','DEP','ARR']]"
   ]
  },
  {
   "cell_type": "code",
   "execution_count": 20,
   "metadata": {},
   "outputs": [],
   "source": [
    "# Joining the two on like columns.\n",
    "df = df1.append(df2)"
   ]
  },
  {
   "cell_type": "code",
   "execution_count": 22,
   "metadata": {},
   "outputs": [
    {
     "name": "stdout",
     "output_type": "stream",
     "text": [
      "Records\n"
     ]
    }
   ],
   "source": [
    "# Is it worth looking at the dataframe? Only if there is a dataframe.\n",
    "if len(df) > 0:\n",
    "    print(\"Records\")\n",
    "else:\n",
    "    print(\"No Records\")"
   ]
  },
  {
   "cell_type": "code",
   "execution_count": 23,
   "metadata": {},
   "outputs": [
    {
     "data": {
      "text/html": [
       "<div>\n",
       "<style scoped>\n",
       "    .dataframe tbody tr th:only-of-type {\n",
       "        vertical-align: middle;\n",
       "    }\n",
       "\n",
       "    .dataframe tbody tr th {\n",
       "        vertical-align: top;\n",
       "    }\n",
       "\n",
       "    .dataframe thead th {\n",
       "        text-align: right;\n",
       "    }\n",
       "</style>\n",
       "<table border=\"1\" class=\"dataframe\">\n",
       "  <thead>\n",
       "    <tr style=\"text-align: right;\">\n",
       "      <th></th>\n",
       "      <th>Date</th>\n",
       "      <th>DEP</th>\n",
       "      <th>ARR</th>\n",
       "    </tr>\n",
       "  </thead>\n",
       "  <tbody>\n",
       "    <tr>\n",
       "      <th>18</th>\n",
       "      <td>2021-05-10</td>\n",
       "      <td>KBGR</td>\n",
       "      <td>EGAA</td>\n",
       "    </tr>\n",
       "    <tr>\n",
       "      <th>26</th>\n",
       "      <td>2021-05-09</td>\n",
       "      <td>KBGR</td>\n",
       "      <td>EHRD</td>\n",
       "    </tr>\n",
       "  </tbody>\n",
       "</table>\n",
       "</div>"
      ],
      "text/plain": [
       "          Date   DEP   ARR\n",
       "18  2021-05-10  KBGR  EGAA\n",
       "26  2021-05-09  KBGR  EHRD"
      ]
     },
     "execution_count": 23,
     "metadata": {},
     "output_type": "execute_result"
    }
   ],
   "source": [
    "# There is, so we will. Rotterdam and Belfast departures on 5/9 and 5/10. \n",
    "df"
   ]
  }
 ],
 "metadata": {
  "kernelspec": {
   "display_name": "Python 3",
   "language": "python",
   "name": "python3"
  },
  "language_info": {
   "codemirror_mode": {
    "name": "ipython",
    "version": 3
   },
   "file_extension": ".py",
   "mimetype": "text/x-python",
   "name": "python",
   "nbconvert_exporter": "python",
   "pygments_lexer": "ipython3",
   "version": "3.8.5"
  }
 },
 "nbformat": 4,
 "nbformat_minor": 2
}
