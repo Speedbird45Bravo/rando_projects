{
  "nbformat": 4,
  "nbformat_minor": 0,
  "metadata": {
    "colab": {
      "name": "SPI_XGB_52821.ipynb",
      "provenance": [],
      "collapsed_sections": [],
      "authorship_tag": "ABX9TyN2XpgsKL41QKfAc/MAcblE"
    },
    "kernelspec": {
      "name": "python3",
      "display_name": "Python 3"
    },
    "language_info": {
      "name": "python"
    }
  },
  "cells": [
    {
      "cell_type": "code",
      "metadata": {
        "id": "4WiWoYME-AZA"
      },
      "source": [
        "from sklearn.metrics import accuracy_score\n",
        "from sklearn.model_selection import train_test_split\n",
        "from xgboost import XGBClassifier\n",
        "import numpy as np\n",
        "import pandas as pd"
      ],
      "execution_count": 2,
      "outputs": []
    },
    {
      "cell_type": "code",
      "metadata": {
        "id": "Uki2YenK-Dcf"
      },
      "source": [
        "df = pd.read_csv(\"https://projects.fivethirtyeight.com/soccer-api/club/spi_matches.csv\").dropna()\n",
        "df = df[(df.league==\"Barclays Premier League\") & (df.season >= 2019)]"
      ],
      "execution_count": 69,
      "outputs": []
    },
    {
      "cell_type": "code",
      "metadata": {
        "id": "njh_eXom-zHa"
      },
      "source": [
        "df['h_margin'] = df['score1'] - df['score2']"
      ],
      "execution_count": 70,
      "outputs": []
    },
    {
      "cell_type": "code",
      "metadata": {
        "id": "5N3xmfMG_2Ng"
      },
      "source": [
        "results = []"
      ],
      "execution_count": 71,
      "outputs": []
    },
    {
      "cell_type": "code",
      "metadata": {
        "id": "tWD_1f9-_4Kw"
      },
      "source": [
        "for x in df['h_margin']:\n",
        "  if x > 0:\n",
        "    results.append(\"HOME WIN\")\n",
        "  elif x == 0:\n",
        "    results.append(\"DRAW\")\n",
        "  else:\n",
        "    results.append(\"AWAY WIN\")"
      ],
      "execution_count": 72,
      "outputs": []
    },
    {
      "cell_type": "code",
      "metadata": {
        "id": "amMa5NrU__o0"
      },
      "source": [
        "df['result'] = results"
      ],
      "execution_count": 73,
      "outputs": []
    },
    {
      "cell_type": "code",
      "metadata": {
        "id": "G3VNZRXIACDE"
      },
      "source": [
        "df['h_prob_margin'] = df['prob1'] - df['prob2']\n",
        "prob_margins = []"
      ],
      "execution_count": 74,
      "outputs": []
    },
    {
      "cell_type": "code",
      "metadata": {
        "id": "__wZx3tDAdDr"
      },
      "source": [
        "for y in df['h_prob_margin']:\n",
        "  if y >= 0:\n",
        "    prob_margins.append(\"HOME FAVORITE\")\n",
        "  else:\n",
        "    prob_margins.append(\"AWAY FAVORITE\")"
      ],
      "execution_count": 75,
      "outputs": []
    },
    {
      "cell_type": "code",
      "metadata": {
        "id": "skNU0XiTAs1L"
      },
      "source": [
        "df['prob_bucket'] = prob_margins"
      ],
      "execution_count": 76,
      "outputs": []
    },
    {
      "cell_type": "code",
      "metadata": {
        "id": "PfCDWqQ3DXiw"
      },
      "source": [
        "df = df.drop(columns=['h_margin', 'h_prob_margin'])"
      ],
      "execution_count": 77,
      "outputs": []
    },
    {
      "cell_type": "code",
      "metadata": {
        "id": "hUD22gm9A3eX"
      },
      "source": [
        "comparison_df = df[['result','prob_bucket']]\n",
        "comparisons = []"
      ],
      "execution_count": 78,
      "outputs": []
    },
    {
      "cell_type": "code",
      "metadata": {
        "id": "54dUf6r8BjCx"
      },
      "source": [
        "ran = range(0, len(comparison_df), 1)"
      ],
      "execution_count": 79,
      "outputs": []
    },
    {
      "cell_type": "code",
      "metadata": {
        "id": "80Us-vIzEb1A"
      },
      "source": [
        "for z in ran:\n",
        "  z = comparison_df.iloc[z,:]\n",
        "  if (z[0]==\"HOME WIN\") & (z[1]==\"HOME FAVORITE\"):\n",
        "    comparisons.append(\"EXPECTED HOME\")\n",
        "  elif (z[0]==\"AWAY WIN\") & (z[1]==\"AWAY FAVORITE\"):\n",
        "    comparisons.append(\"EXPECTED AWAY\")\n",
        "  elif (z[0]==\"AWAY WIN\") & (z[1]==\"HOME FAVORITE\"):\n",
        "    comparisons.append(\"UNEXPECTED AWAY\")\n",
        "  elif (z[0]==\"HOME WIN\") & (z[1]==\"AWAY FAVORITE\"):\n",
        "    comparisons.append(\"UNEXPECTED HOME\")\n",
        "  else:\n",
        "    comparisons.append(\"NO DECISIVE OUTCOME\")"
      ],
      "execution_count": 80,
      "outputs": []
    },
    {
      "cell_type": "code",
      "metadata": {
        "id": "Ek763J0PH6_X"
      },
      "source": [
        "df['result_type'] = comparisons"
      ],
      "execution_count": 81,
      "outputs": []
    },
    {
      "cell_type": "code",
      "metadata": {
        "id": "OksTr6gJJ92O"
      },
      "source": [
        "X = df[['score1','score2','prob1','prob2']]\n",
        "y = df['result_type']\n",
        "X_train, X_test, y_train, y_test = train_test_split(X, y, test_size=0.2, random_state=6)"
      ],
      "execution_count": 87,
      "outputs": []
    },
    {
      "cell_type": "code",
      "metadata": {
        "id": "s0FiD91oKb_N"
      },
      "source": [
        "model = XGBClassifier(objective='multiclass:softprob')"
      ],
      "execution_count": 88,
      "outputs": []
    },
    {
      "cell_type": "code",
      "metadata": {
        "colab": {
          "base_uri": "https://localhost:8080/"
        },
        "id": "4_fyXyDjKfkl",
        "outputId": "caec9fbe-6b37-4bef-ac98-f5aa70946fd5"
      },
      "source": [
        "model.fit(X_train, y_train)"
      ],
      "execution_count": 89,
      "outputs": [
        {
          "output_type": "execute_result",
          "data": {
            "text/plain": [
              "XGBClassifier(base_score=0.5, booster='gbtree', colsample_bylevel=1,\n",
              "              colsample_bynode=1, colsample_bytree=1, gamma=0,\n",
              "              learning_rate=0.1, max_delta_step=0, max_depth=3,\n",
              "              min_child_weight=1, missing=None, n_estimators=100, n_jobs=1,\n",
              "              nthread=None, objective='multi:softprob', random_state=0,\n",
              "              reg_alpha=0, reg_lambda=1, scale_pos_weight=1, seed=None,\n",
              "              silent=None, subsample=1, verbosity=1)"
            ]
          },
          "metadata": {
            "tags": []
          },
          "execution_count": 89
        }
      ]
    },
    {
      "cell_type": "code",
      "metadata": {
        "id": "nHQ_LhKYKhGJ"
      },
      "source": [
        "predictions = model.predict(X_test)"
      ],
      "execution_count": 90,
      "outputs": []
    },
    {
      "cell_type": "code",
      "metadata": {
        "id": "wYkm-0d_Kp4s"
      },
      "source": [
        "accuracy = accuracy_score(y_test, predictions)"
      ],
      "execution_count": 92,
      "outputs": []
    },
    {
      "cell_type": "code",
      "metadata": {
        "colab": {
          "base_uri": "https://localhost:8080/"
        },
        "id": "1SBgbeTaKr60",
        "outputId": "821b6257-c8fa-4725-d9b1-9703046cd36c"
      },
      "source": [
        "print(\"Test Accuracy: {}%\".format(accuracy * 100))"
      ],
      "execution_count": 94,
      "outputs": [
        {
          "output_type": "stream",
          "text": [
            "Test Accuracy: 98.68421052631578%\n"
          ],
          "name": "stdout"
        }
      ]
    }
  ]
}