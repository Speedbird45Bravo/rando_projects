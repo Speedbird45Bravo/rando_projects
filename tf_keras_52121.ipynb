{
 "cells": [
  {
   "cell_type": "code",
   "execution_count": 1,
   "id": "bb204491",
   "metadata": {},
   "outputs": [],
   "source": [
    "from sklearn.metrics import accuracy_score\n",
    "from sklearn.model_selection import train_test_split\n",
    "import numpy as np\n",
    "import pandas as pd\n",
    "import tensorflow as tf"
   ]
  },
  {
   "cell_type": "code",
   "execution_count": 2,
   "id": "73a51024",
   "metadata": {},
   "outputs": [],
   "source": [
    "url = \"http://projects.fivethirtyeight.com/soccer-api/club/spi_matches.csv\""
   ]
  },
  {
   "cell_type": "code",
   "execution_count": 4,
   "id": "2e7c8467",
   "metadata": {},
   "outputs": [],
   "source": [
    "df = pd.read_csv(url).dropna()\n",
    "df = df[(df.league==\"Barclays Premier League\")|(df.league==\"German Bundesliga\")]"
   ]
  },
  {
   "cell_type": "code",
   "execution_count": 5,
   "id": "c1a1fac0",
   "metadata": {},
   "outputs": [],
   "source": [
    "res = []"
   ]
  },
  {
   "cell_type": "code",
   "execution_count": 6,
   "id": "24ad2bd8",
   "metadata": {},
   "outputs": [],
   "source": [
    "df[\"h_margin\"] = df[\"score1\"] - df[\"score2\"]"
   ]
  },
  {
   "cell_type": "code",
   "execution_count": 7,
   "id": "983680e9",
   "metadata": {},
   "outputs": [],
   "source": [
    "for x in df[\"h_margin\"]:\n",
    "    if x > 0:\n",
    "        res.append(\"HOME WIN\")\n",
    "    elif x == 0:\n",
    "        res.append(\"DRAW\")\n",
    "    else:\n",
    "        res.append(\"AWAY WIN\")"
   ]
  },
  {
   "cell_type": "code",
   "execution_count": 8,
   "id": "9b3b8db4",
   "metadata": {},
   "outputs": [],
   "source": [
    "df[\"result\"] = res"
   ]
  },
  {
   "cell_type": "code",
   "execution_count": 9,
   "id": "b845ba42",
   "metadata": {},
   "outputs": [],
   "source": [
    "X_final = df[[\"score1\",\"score2\",\"h_margin\"]]\n",
    "y_final = df[[\"result\"]].copy()\n",
    "X_train, X_test, y_train, y_test = train_test_split(X_final, y_final, test_size=0.2, random_state=6)"
   ]
  },
  {
   "cell_type": "code",
   "execution_count": 11,
   "id": "d4598db6",
   "metadata": {},
   "outputs": [],
   "source": [
    "def categorize(array):\n",
    "    array = tf.keras.utils.to_categorical(np.asarray(pd.factorize(array)[0]))\n",
    "    return array"
   ]
  },
  {
   "cell_type": "code",
   "execution_count": 12,
   "id": "9133b99a",
   "metadata": {},
   "outputs": [],
   "source": [
    "y_train = categorize(y_train[\"result\"])\n",
    "y_test = categorize(y_test[\"result\"])"
   ]
  },
  {
   "cell_type": "code",
   "execution_count": 16,
   "id": "a89bdca3",
   "metadata": {},
   "outputs": [],
   "source": [
    "def load_model():\n",
    "    model = tf.keras.models.Sequential()\n",
    "    model.add(tf.keras.layers.Dense(16, activation=\"relu\"))\n",
    "    model.add(tf.keras.layers.Dense(3, activation=\"softmax\"))\n",
    "    model.compile(optimizer='adam', loss='categorical_crossentropy', metrics=['accuracy'])\n",
    "    return model"
   ]
  },
  {
   "cell_type": "code",
   "execution_count": 17,
   "id": "fae64564",
   "metadata": {},
   "outputs": [],
   "source": [
    "model = load_model()"
   ]
  },
  {
   "cell_type": "code",
   "execution_count": 18,
   "id": "363b10e3",
   "metadata": {},
   "outputs": [
    {
     "name": "stdout",
     "output_type": "stream",
     "text": [
      "Epoch 1/25\n",
      "17/17 [==============================] - 1s 17ms/step - loss: 0.8649 - accuracy: 0.5511 - val_loss: 0.7766 - val_accuracy: 0.6667\n",
      "Epoch 2/25\n",
      "17/17 [==============================] - 0s 4ms/step - loss: 0.7058 - accuracy: 0.6828 - val_loss: 0.6464 - val_accuracy: 0.7341\n",
      "Epoch 3/25\n",
      "17/17 [==============================] - 0s 4ms/step - loss: 0.6012 - accuracy: 0.7807 - val_loss: 0.5602 - val_accuracy: 0.7940\n",
      "Epoch 4/25\n",
      "17/17 [==============================] - 0s 3ms/step - loss: 0.5278 - accuracy: 0.8121 - val_loss: 0.4994 - val_accuracy: 0.8184\n",
      "Epoch 5/25\n",
      "17/17 [==============================] - 0s 3ms/step - loss: 0.4735 - accuracy: 0.8538 - val_loss: 0.4534 - val_accuracy: 0.9363\n",
      "Epoch 6/25\n",
      "17/17 [==============================] - 0s 3ms/step - loss: 0.4316 - accuracy: 0.9414 - val_loss: 0.4165 - val_accuracy: 0.9363\n",
      "Epoch 7/25\n",
      "17/17 [==============================] - 0s 3ms/step - loss: 0.3972 - accuracy: 0.9419 - val_loss: 0.3854 - val_accuracy: 0.9363\n",
      "Epoch 8/25\n",
      "17/17 [==============================] - 0s 3ms/step - loss: 0.3676 - accuracy: 0.9803 - val_loss: 0.3576 - val_accuracy: 1.0000\n",
      "Epoch 9/25\n",
      "17/17 [==============================] - 0s 3ms/step - loss: 0.3411 - accuracy: 0.9995 - val_loss: 0.3331 - val_accuracy: 1.0000\n",
      "Epoch 10/25\n",
      "17/17 [==============================] - 0s 3ms/step - loss: 0.3175 - accuracy: 1.0000 - val_loss: 0.3106 - val_accuracy: 1.0000\n",
      "Epoch 11/25\n",
      "17/17 [==============================] - 0s 3ms/step - loss: 0.2960 - accuracy: 1.0000 - val_loss: 0.2901 - val_accuracy: 1.0000\n",
      "Epoch 12/25\n",
      "17/17 [==============================] - 0s 4ms/step - loss: 0.2763 - accuracy: 0.9995 - val_loss: 0.2713 - val_accuracy: 1.0000\n",
      "Epoch 13/25\n",
      "17/17 [==============================] - 0s 4ms/step - loss: 0.2585 - accuracy: 0.9995 - val_loss: 0.2543 - val_accuracy: 1.0000\n",
      "Epoch 14/25\n",
      "17/17 [==============================] - 0s 4ms/step - loss: 0.2423 - accuracy: 0.9995 - val_loss: 0.2388 - val_accuracy: 1.0000\n",
      "Epoch 15/25\n",
      "17/17 [==============================] - 0s 4ms/step - loss: 0.2275 - accuracy: 0.9995 - val_loss: 0.2245 - val_accuracy: 1.0000\n",
      "Epoch 16/25\n",
      "17/17 [==============================] - 0s 3ms/step - loss: 0.2138 - accuracy: 0.9995 - val_loss: 0.2110 - val_accuracy: 1.0000\n",
      "Epoch 17/25\n",
      "17/17 [==============================] - 0s 3ms/step - loss: 0.2009 - accuracy: 0.9995 - val_loss: 0.1989 - val_accuracy: 1.0000\n",
      "Epoch 18/25\n",
      "17/17 [==============================] - 0s 3ms/step - loss: 0.1893 - accuracy: 0.9995 - val_loss: 0.1879 - val_accuracy: 1.0000\n",
      "Epoch 19/25\n",
      "17/17 [==============================] - 0s 3ms/step - loss: 0.1787 - accuracy: 0.9995 - val_loss: 0.1775 - val_accuracy: 1.0000\n",
      "Epoch 20/25\n",
      "17/17 [==============================] - 0s 3ms/step - loss: 0.1690 - accuracy: 0.9995 - val_loss: 0.1682 - val_accuracy: 1.0000\n",
      "Epoch 21/25\n",
      "17/17 [==============================] - 0s 4ms/step - loss: 0.1601 - accuracy: 1.0000 - val_loss: 0.1597 - val_accuracy: 1.0000\n",
      "Epoch 22/25\n",
      "17/17 [==============================] - 0s 4ms/step - loss: 0.1518 - accuracy: 1.0000 - val_loss: 0.1516 - val_accuracy: 1.0000\n",
      "Epoch 23/25\n",
      "17/17 [==============================] - 0s 4ms/step - loss: 0.1439 - accuracy: 1.0000 - val_loss: 0.1437 - val_accuracy: 1.0000\n",
      "Epoch 24/25\n",
      "17/17 [==============================] - 0s 3ms/step - loss: 0.1365 - accuracy: 1.0000 - val_loss: 0.1363 - val_accuracy: 1.0000\n",
      "Epoch 25/25\n",
      "17/17 [==============================] - 0s 3ms/step - loss: 0.1294 - accuracy: 1.0000 - val_loss: 0.1295 - val_accuracy: 1.0000\n"
     ]
    },
    {
     "data": {
      "text/plain": [
       "<tensorflow.python.keras.callbacks.History at 0x109313700>"
      ]
     },
     "execution_count": 18,
     "metadata": {},
     "output_type": "execute_result"
    }
   ],
   "source": [
    "model.fit(X_train, y_train, epochs=25, verbose=1, batch_size=128, validation_split=0.2)"
   ]
  },
  {
   "cell_type": "code",
   "execution_count": 19,
   "id": "37fa2cd9",
   "metadata": {},
   "outputs": [],
   "source": [
    "predictions = model.predict(X_test)"
   ]
  },
  {
   "cell_type": "code",
   "execution_count": 20,
   "id": "4a1e167d",
   "metadata": {},
   "outputs": [
    {
     "name": "stdout",
     "output_type": "stream",
     "text": [
      "21/21 [==============================] - 0s 2ms/step - loss: 1.1981 - accuracy: 0.4408\n"
     ]
    }
   ],
   "source": [
    "loss, accuracy = model.evaluate(y_test, predictions)"
   ]
  },
  {
   "cell_type": "code",
   "execution_count": 21,
   "id": "b23eef3a",
   "metadata": {},
   "outputs": [
    {
     "name": "stdout",
     "output_type": "stream",
     "text": [
      "Test Accuracy: 44.07795965671539%\n"
     ]
    }
   ],
   "source": [
    "print(\"Test Accuracy: {}%\".format(accuracy * 100))"
   ]
  }
 ],
 "metadata": {
  "kernelspec": {
   "display_name": "Python 3",
   "language": "python",
   "name": "python3"
  },
  "language_info": {
   "codemirror_mode": {
    "name": "ipython",
    "version": 3
   },
   "file_extension": ".py",
   "mimetype": "text/x-python",
   "name": "python",
   "nbconvert_exporter": "python",
   "pygments_lexer": "ipython3",
   "version": "3.9.5"
  }
 },
 "nbformat": 4,
 "nbformat_minor": 5
}
