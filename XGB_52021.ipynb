{
 "cells": [
  {
   "cell_type": "code",
   "execution_count": 42,
   "id": "3bca60f1",
   "metadata": {},
   "outputs": [],
   "source": [
    "from sklearn.metrics import accuracy_score\n",
    "from sklearn.model_selection import train_test_split\n",
    "from xgboost import XGBClassifier\n",
    "import numpy as np\n",
    "import pandas as pd"
   ]
  },
  {
   "cell_type": "code",
   "execution_count": 43,
   "id": "ecc05125",
   "metadata": {},
   "outputs": [],
   "source": [
    "df = pd.read_csv(\"https://projects.fivethirtyeight.com/soccer-api/club/spi_matches.csv\").dropna()"
   ]
  },
  {
   "cell_type": "code",
   "execution_count": 44,
   "id": "423587c8",
   "metadata": {},
   "outputs": [],
   "source": [
    "df[\"spi_margin\"] = np.abs(df[\"spi1\"] - df[\"spi2\"])"
   ]
  },
  {
   "cell_type": "code",
   "execution_count": 45,
   "id": "b4d1a7a9",
   "metadata": {},
   "outputs": [],
   "source": [
    "spi = []"
   ]
  },
  {
   "cell_type": "code",
   "execution_count": 46,
   "id": "7f46e3cf",
   "metadata": {},
   "outputs": [],
   "source": [
    "msm = np.mean(df[\"spi_margin\"])\n",
    "mssd = np.std(df[\"spi_margin\"])\n",
    "msm15sd = msm + (mssd * 1.5)\n",
    "msm2sd = msm + (mssd * 2)"
   ]
  },
  {
   "cell_type": "code",
   "execution_count": 47,
   "id": "5ce29d8c",
   "metadata": {},
   "outputs": [],
   "source": [
    "for x in df[\"spi_margin\"]:\n",
    "    if x < msm:\n",
    "        spi.append(\"CLOSE SPI MATCHUP\")\n",
    "    elif (x >= msm) & (x < msm15sd):\n",
    "        spi.append(\"SLIGHT SPI FAVORITE\")\n",
    "    elif (x >= msm15sd) & (x < msm2sd):\n",
    "        spi.append(\"CLEAR SPI FAVORITE\")\n",
    "    else:\n",
    "        spi.append(\"SPI BLOWOUT\")"
   ]
  },
  {
   "cell_type": "code",
   "execution_count": 48,
   "id": "e042daa8",
   "metadata": {},
   "outputs": [],
   "source": [
    "df[\"spi_bucket\"] = spi"
   ]
  },
  {
   "cell_type": "code",
   "execution_count": 49,
   "id": "6ea54619",
   "metadata": {},
   "outputs": [],
   "source": [
    "X = df[['spi1', 'spi2', 'spi_margin']]\n",
    "y = df[['spi_bucket']].copy()\n",
    "X_train, X_test, y_train, y_test = train_test_split(X, y, test_size=0.2, random_state=6)"
   ]
  },
  {
   "cell_type": "code",
   "execution_count": 50,
   "id": "9c1e7f43",
   "metadata": {},
   "outputs": [
    {
     "name": "stderr",
     "output_type": "stream",
     "text": [
      "c:\\users\\henry\\miniconda3\\lib\\site-packages\\xgboost\\sklearn.py:1146: UserWarning: The use of label encoder in XGBClassifier is deprecated and will be removed in a future release. To remove this warning, do the following: 1) Pass option use_label_encoder=False when constructing XGBClassifier object; and 2) Encode your labels (y) as integers starting with 0, i.e. 0, 1, 2, ..., [num_class - 1].\n",
      "  warnings.warn(label_encoder_deprecation_msg, UserWarning)\n",
      "c:\\users\\henry\\miniconda3\\lib\\site-packages\\sklearn\\utils\\validation.py:63: DataConversionWarning: A column-vector y was passed when a 1d array was expected. Please change the shape of y to (n_samples, ), for example using ravel().\n",
      "  return f(*args, **kwargs)\n"
     ]
    },
    {
     "name": "stdout",
     "output_type": "stream",
     "text": [
      "[01:13:32] WARNING: C:/Users/Administrator/workspace/xgboost-win64_release_1.4.0/src/learner.cc:573: \n",
      "Parameters: { \"label_encoder\" } might not be used.\n",
      "\n",
      "  This may not be accurate due to some parameters are only used in language bindings but\n",
      "  passed down to XGBoost core.  Or some parameters are not used but slip through this\n",
      "  verification. Please open an issue if you find above cases.\n",
      "\n",
      "\n",
      "[01:13:32] WARNING: C:/Users/Administrator/workspace/xgboost-win64_release_1.4.0/src/learner.cc:1095: Starting in XGBoost 1.3.0, the default evaluation metric used with the objective 'multi:softprob' was changed from 'merror' to 'mlogloss'. Explicitly set eval_metric if you'd like to restore the old behavior.\n"
     ]
    }
   ],
   "source": [
    "model = XGBClassifier(n_estimators=400, random_state=6, label_encoder=False).fit(X_train, y_train)"
   ]
  },
  {
   "cell_type": "code",
   "execution_count": 51,
   "id": "5eb7a88e",
   "metadata": {},
   "outputs": [],
   "source": [
    "predictions = model.predict(X_test)"
   ]
  },
  {
   "cell_type": "code",
   "execution_count": 52,
   "id": "116de6fe",
   "metadata": {},
   "outputs": [],
   "source": [
    "accuracy = accuracy_score(y_test, predictions)"
   ]
  },
  {
   "cell_type": "code",
   "execution_count": 54,
   "id": "412a9cc8",
   "metadata": {},
   "outputs": [
    {
     "name": "stdout",
     "output_type": "stream",
     "text": [
      "Test Accuracy: 100.0%\n"
     ]
    }
   ],
   "source": [
    "print(\"Test Accuracy: {}%\".format(accuracy * 100))"
   ]
  }
 ],
 "metadata": {
  "kernelspec": {
   "display_name": "Python 3",
   "language": "python",
   "name": "python3"
  },
  "language_info": {
   "codemirror_mode": {
    "name": "ipython",
    "version": 3
   },
   "file_extension": ".py",
   "mimetype": "text/x-python",
   "name": "python",
   "nbconvert_exporter": "python",
   "pygments_lexer": "ipython3",
   "version": "3.9.1"
  }
 },
 "nbformat": 4,
 "nbformat_minor": 5
}
