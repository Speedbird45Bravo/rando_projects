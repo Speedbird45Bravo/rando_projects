{
 "cells": [
  {
   "cell_type": "code",
   "execution_count": 105,
   "id": "d28781d6",
   "metadata": {},
   "outputs": [],
   "source": [
    "import pandas as pd\n",
    "import numpy as np\n",
    "from keras.datasets import mnist\n",
    "from keras.models import load_model\n",
    "from keras.layers import Conv2D, Dense, Flatten, MaxPooling2D\n",
    "from keras.callbacks import EarlyStopping\n",
    "from tensorflow.keras.utils import to_categorical\n",
    "from datetime import datetime as dt"
   ]
  },
  {
   "cell_type": "code",
   "execution_count": 106,
   "id": "448c948d",
   "metadata": {},
   "outputs": [],
   "source": [
    "train = pd.read_csv(\"train.csv\")\n",
    "target = train['label']\n",
    "train = train.drop(\"label\", axis=1)\n",
    "test = pd.read_csv(\"test.csv\")"
   ]
  },
  {
   "cell_type": "code",
   "execution_count": 107,
   "id": "e5e1f5a8",
   "metadata": {},
   "outputs": [],
   "source": [
    "(X_train, y_train), (X_test, y_test) = mnist.load_data()"
   ]
  },
  {
   "cell_type": "code",
   "execution_count": 108,
   "id": "701849ea",
   "metadata": {},
   "outputs": [],
   "source": [
    "def reshape_28(array):\n",
    "    array = array.reshape((len(array),28,28,1))\n",
    "    return array"
   ]
  },
  {
   "cell_type": "code",
   "execution_count": 109,
   "id": "f02302d2",
   "metadata": {},
   "outputs": [],
   "source": [
    "train = reshape_28(train.values)\n",
    "X_train = reshape_28(X_train)\n",
    "X_test = reshape_28(X_test)\n",
    "y_train = to_categorical(y_train)\n",
    "y_test = to_categorical(y_test)\n",
    "target = to_categorical(target)"
   ]
  },
  {
   "cell_type": "code",
   "execution_count": 110,
   "id": "5aa5da40",
   "metadata": {},
   "outputs": [],
   "source": [
    "test = reshape_28(test.values.astype(\"float32\") / 255)"
   ]
  },
  {
   "cell_type": "code",
   "execution_count": 111,
   "id": "233e8a8b",
   "metadata": {},
   "outputs": [],
   "source": [
    "X = np.concatenate([X_train, X_test, train], axis=0)\n",
    "X = X.astype(\"float32\") / 255\n",
    "y = np.concatenate([y_train, y_test, target], axis=0)"
   ]
  },
  {
   "cell_type": "code",
   "execution_count": 112,
   "id": "8607b628",
   "metadata": {},
   "outputs": [],
   "source": [
    "stop = EarlyStopping(monitor=\"val_loss\", patience=2)"
   ]
  },
  {
   "cell_type": "code",
   "execution_count": 113,
   "id": "140d95ad",
   "metadata": {},
   "outputs": [
    {
     "name": "stdout",
     "output_type": "stream",
     "text": [
      "Model run at 2022-01-10 11:52:56.111539.\n"
     ]
    }
   ],
   "source": [
    "print(f\"Model run at {dt.now()}.\")"
   ]
  },
  {
   "cell_type": "code",
   "execution_count": 114,
   "id": "65a0d9f3",
   "metadata": {},
   "outputs": [
    {
     "name": "stdout",
     "output_type": "stream",
     "text": [
      "Epoch 1/6\n",
      "350/350 - 44s - loss: 0.0014 - accuracy: 0.9996 - val_loss: 0.0068 - val_accuracy: 0.9985\n",
      "Epoch 2/6\n",
      "350/350 - 43s - loss: 0.0049 - accuracy: 0.9986 - val_loss: 0.0031 - val_accuracy: 0.9990\n",
      "Epoch 3/6\n",
      "350/350 - 43s - loss: 0.0021 - accuracy: 0.9993 - val_loss: 9.8627e-04 - val_accuracy: 0.9996\n",
      "Epoch 4/6\n",
      "350/350 - 44s - loss: 0.0018 - accuracy: 0.9994 - val_loss: 0.0030 - val_accuracy: 0.9992\n",
      "Epoch 5/6\n",
      "350/350 - 45s - loss: 0.0028 - accuracy: 0.9993 - val_loss: 0.0030 - val_accuracy: 0.9991\n"
     ]
    },
    {
     "data": {
      "text/plain": [
       "<keras.callbacks.History at 0x24e9bad2910>"
      ]
     },
     "execution_count": 114,
     "metadata": {},
     "output_type": "execute_result"
    }
   ],
   "source": [
    "model = load_model(\"MNIST_11022.hdf5\")\n",
    "model.fit(X, y, epochs=6, verbose=2, batch_size=256, validation_split=0.2, callbacks=[stop])"
   ]
  },
  {
   "cell_type": "code",
   "execution_count": 123,
   "id": "88911503",
   "metadata": {},
   "outputs": [],
   "source": [
    "predictions = pd.DataFrame(model.predict(test)).idxmax(axis=1)"
   ]
  },
  {
   "cell_type": "code",
   "execution_count": 125,
   "id": "ce37a803",
   "metadata": {},
   "outputs": [],
   "source": [
    "submission = pd.DataFrame({\"ImageId\":np.arange(1,28001), \"label\":predictions})"
   ]
  },
  {
   "cell_type": "code",
   "execution_count": 126,
   "id": "43a3e690",
   "metadata": {},
   "outputs": [],
   "source": [
    "submission.to_csv(\"MNIST_11022.csv\", index=False)"
   ]
  }
 ],
 "metadata": {
  "kernelspec": {
   "display_name": "Python 3",
   "language": "python",
   "name": "python3"
  },
  "language_info": {
   "codemirror_mode": {
    "name": "ipython",
    "version": 3
   },
   "file_extension": ".py",
   "mimetype": "text/x-python",
   "name": "python",
   "nbconvert_exporter": "python",
   "pygments_lexer": "ipython3",
   "version": "3.9.5"
  }
 },
 "nbformat": 4,
 "nbformat_minor": 5
}
