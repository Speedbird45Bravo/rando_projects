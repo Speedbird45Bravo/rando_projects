{
 "cells": [
  {
   "cell_type": "code",
   "execution_count": 1,
   "id": "bac68dfa",
   "metadata": {},
   "outputs": [],
   "source": [
    "from sklearn.metrics import accuracy_score\n",
    "from sklearn.model_selection import train_test_split\n",
    "from xgboost import XGBClassifier\n",
    "import numpy as np\n",
    "import pandas as pd"
   ]
  },
  {
   "cell_type": "code",
   "execution_count": 3,
   "id": "9caf1ff8",
   "metadata": {},
   "outputs": [],
   "source": [
    "df = pd.read_csv(\"https://projects.fivethirtyeight.com/soccer-api/club/spi_matches.csv\").dropna()\n",
    "df['prob_margin'] = np.abs(df['prob1'] - df['prob2'])"
   ]
  },
  {
   "cell_type": "code",
   "execution_count": 6,
   "id": "8b60bdd1",
   "metadata": {},
   "outputs": [],
   "source": [
    "df['prob_margin'] = np.abs(df['prob1'] - df['prob2'])\n",
    "mpm = np.mean(df['prob_margin'])\n",
    "sdpm = np.std(df['prob_margin'])"
   ]
  },
  {
   "cell_type": "code",
   "execution_count": 7,
   "id": "19fab74c",
   "metadata": {},
   "outputs": [],
   "source": [
    "prob_margins = []"
   ]
  },
  {
   "cell_type": "code",
   "execution_count": 9,
   "id": "8f380e14",
   "metadata": {},
   "outputs": [],
   "source": [
    "for x in df['prob_margin']:\n",
    "    if x < mpm:\n",
    "        prob_margins.append(\"MINIMAL PROBABILITY MARGIN\")\n",
    "    elif (x >= mpm) & (x < (mpm + sdpm)):\n",
    "        prob_margins.append(\"SLIGHT PROBABILITY ADVANTAGE\")\n",
    "    elif (x >= (mpm + sdpm)) & (x < (mpm + (sdpm * 1.5))):\n",
    "        prob_margins.append(\"MODERATE PROBABILITY ADVANTAGE\")\n",
    "    else:\n",
    "        prob_margins.append(\"SIGNIFICANT PROBABILITY ADVANTAGE\")"
   ]
  },
  {
   "cell_type": "code",
   "execution_count": 11,
   "id": "7fad2b8f",
   "metadata": {},
   "outputs": [],
   "source": [
    "df['prob_bucket'] = prob_margins"
   ]
  },
  {
   "cell_type": "code",
   "execution_count": 12,
   "id": "f915c4d9",
   "metadata": {},
   "outputs": [],
   "source": [
    "X_final = df[['prob1','prob2','probtie']]\n",
    "y_final = df[['prob_bucket']].copy()\n",
    "X_train, X_test, y_train, y_test = train_test_split(X_final, y_final, test_size=0.2, random_state=6)"
   ]
  },
  {
   "cell_type": "code",
   "execution_count": 13,
   "id": "04f0cb98",
   "metadata": {},
   "outputs": [
    {
     "name": "stderr",
     "output_type": "stream",
     "text": [
      "c:\\users\\henry\\miniconda3\\lib\\site-packages\\xgboost\\sklearn.py:1146: UserWarning: The use of label encoder in XGBClassifier is deprecated and will be removed in a future release. To remove this warning, do the following: 1) Pass option use_label_encoder=False when constructing XGBClassifier object; and 2) Encode your labels (y) as integers starting with 0, i.e. 0, 1, 2, ..., [num_class - 1].\n",
      "  warnings.warn(label_encoder_deprecation_msg, UserWarning)\n"
     ]
    },
    {
     "name": "stdout",
     "output_type": "stream",
     "text": [
      "[20:56:40] WARNING: C:/Users/Administrator/workspace/xgboost-win64_release_1.4.0/src/learner.cc:1095: Starting in XGBoost 1.3.0, the default evaluation metric used with the objective 'multi:softprob' was changed from 'merror' to 'mlogloss'. Explicitly set eval_metric if you'd like to restore the old behavior.\n"
     ]
    }
   ],
   "source": [
    "model = XGBClassifier(n_estimators=400, objective=\"multiclass:softprob\").fit(X_train, y_train.values.ravel())"
   ]
  },
  {
   "cell_type": "code",
   "execution_count": 15,
   "id": "b30c05cf",
   "metadata": {},
   "outputs": [],
   "source": [
    "predictions = model.predict(X_test)"
   ]
  },
  {
   "cell_type": "code",
   "execution_count": 16,
   "id": "b5fcee2b",
   "metadata": {},
   "outputs": [],
   "source": [
    "accuracy = accuracy_score(y_test, predictions)"
   ]
  },
  {
   "cell_type": "code",
   "execution_count": 17,
   "id": "bff261c6",
   "metadata": {},
   "outputs": [
    {
     "name": "stdout",
     "output_type": "stream",
     "text": [
      "Test Accuracy: 99.47292764734068%\n"
     ]
    }
   ],
   "source": [
    "print(\"Test Accuracy: {}%\".format(accuracy * 100))"
   ]
  }
 ],
 "metadata": {
  "kernelspec": {
   "display_name": "Python 3",
   "language": "python",
   "name": "python3"
  },
  "language_info": {
   "codemirror_mode": {
    "name": "ipython",
    "version": 3
   },
   "file_extension": ".py",
   "mimetype": "text/x-python",
   "name": "python",
   "nbconvert_exporter": "python",
   "pygments_lexer": "ipython3",
   "version": "3.9.1"
  }
 },
 "nbformat": 4,
 "nbformat_minor": 5
}
