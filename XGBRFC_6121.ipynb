{
  "nbformat": 4,
  "nbformat_minor": 0,
  "metadata": {
    "colab": {
      "name": "XGBRFC_6121.ipynb",
      "provenance": [],
      "collapsed_sections": [],
      "authorship_tag": "ABX9TyOlmAL/0vyyMqXJXFEanJN5"
    },
    "kernelspec": {
      "name": "python3",
      "display_name": "Python 3"
    },
    "language_info": {
      "name": "python"
    }
  },
  "cells": [
    {
      "cell_type": "code",
      "metadata": {
        "id": "zet_NWjSj5Ti"
      },
      "source": [
        "from sklearn.metrics import accuracy_score\n",
        "from sklearn.model_selection import cross_val_score, KFold, train_test_split\n",
        "from xgboost import XGBRFClassifier\n",
        "import numpy as np\n",
        "import pandas as pd"
      ],
      "execution_count": 1,
      "outputs": []
    },
    {
      "cell_type": "code",
      "metadata": {
        "id": "t4iOLRUwkFBu"
      },
      "source": [
        "df = pd.read_csv(\"https://projects.fivethirtyeight.com/soccer-api/club/spi_matches.csv\").dropna()\n",
        "df = df[(df.league==\"Barclays Premier League\") | (df.league==\"UEFA Champions League\")]"
      ],
      "execution_count": 15,
      "outputs": []
    },
    {
      "cell_type": "code",
      "metadata": {
        "id": "rr_dg1s-kJ4e"
      },
      "source": [
        "df['h_margin'] = df['score1'] - df['score2']"
      ],
      "execution_count": 16,
      "outputs": []
    },
    {
      "cell_type": "code",
      "metadata": {
        "id": "8WsWwZw-kPZ4"
      },
      "source": [
        "results = []"
      ],
      "execution_count": 17,
      "outputs": []
    },
    {
      "cell_type": "code",
      "metadata": {
        "id": "avOvn3sLkNQK"
      },
      "source": [
        "for x in df['h_margin']:\n",
        "  if x > 0:\n",
        "    results.append(\"HOME WIN\")\n",
        "  elif x < 0:\n",
        "    results.append(\"AWAY WIN\")\n",
        "  else:\n",
        "    results.append(\"DRAW\")"
      ],
      "execution_count": 18,
      "outputs": []
    },
    {
      "cell_type": "code",
      "metadata": {
        "id": "t0pJlstokXLt"
      },
      "source": [
        "df = df.drop(columns=['h_margin'])\n",
        "df['result'] = results"
      ],
      "execution_count": 19,
      "outputs": []
    },
    {
      "cell_type": "code",
      "metadata": {
        "id": "2juVSvqTkcP9"
      },
      "source": [
        "X = df[['score1','score2']]\n",
        "y = df['result']\n",
        "X_train, X_test, y_train, y_test = train_test_split(X, y, test_size=0.2, random_state=6)"
      ],
      "execution_count": 22,
      "outputs": []
    },
    {
      "cell_type": "code",
      "metadata": {
        "id": "DwhPlR9tkwgw"
      },
      "source": [
        "model = XGBRFClassifier(max_depth=6, objective='multi:softmax', n_estimators=400)"
      ],
      "execution_count": 23,
      "outputs": []
    },
    {
      "cell_type": "code",
      "metadata": {
        "colab": {
          "base_uri": "https://localhost:8080/"
        },
        "id": "dSr2rDSMlBuE",
        "outputId": "1f315220-f887-40ee-f290-d6df563c76d7"
      },
      "source": [
        "model.fit(X_train, y_train)"
      ],
      "execution_count": 24,
      "outputs": [
        {
          "output_type": "execute_result",
          "data": {
            "text/plain": [
              "XGBRFClassifier(base_score=0.5, colsample_bylevel=1, colsample_bynode=0.8,\n",
              "                colsample_bytree=1, gamma=0, learning_rate=1, max_delta_step=0,\n",
              "                max_depth=6, min_child_weight=1, missing=None, n_estimators=400,\n",
              "                n_jobs=1, nthread=None, objective='multi:softprob',\n",
              "                random_state=0, reg_alpha=0, reg_lambda=1, scale_pos_weight=1,\n",
              "                seed=None, silent=None, subsample=0.8, verbosity=1)"
            ]
          },
          "metadata": {
            "tags": []
          },
          "execution_count": 24
        }
      ]
    },
    {
      "cell_type": "code",
      "metadata": {
        "id": "5Y3wcSbJlDPc"
      },
      "source": [
        "predictions = model.predict(X_test)"
      ],
      "execution_count": 25,
      "outputs": []
    },
    {
      "cell_type": "code",
      "metadata": {
        "id": "pCaHS6e7lInj"
      },
      "source": [
        "accuracy = accuracy_score(y_test, predictions)"
      ],
      "execution_count": 26,
      "outputs": []
    },
    {
      "cell_type": "code",
      "metadata": {
        "colab": {
          "base_uri": "https://localhost:8080/"
        },
        "id": "edvA993elKz3",
        "outputId": "f2682f4a-3916-4921-cfea-31808a768d98"
      },
      "source": [
        "print(\"Test Accuracy: {}%\".format(np.round(accuracy * 100),3))"
      ],
      "execution_count": 29,
      "outputs": [
        {
          "output_type": "stream",
          "text": [
            "Test Accuracy: 100.0%\n"
          ],
          "name": "stdout"
        }
      ]
    },
    {
      "cell_type": "code",
      "metadata": {
        "id": "4mjMbzu-lUHX"
      },
      "source": [
        "kfold = KFold(n_splits=10, shuffle=True)"
      ],
      "execution_count": 30,
      "outputs": []
    },
    {
      "cell_type": "code",
      "metadata": {
        "id": "QDJ6uemTlYiQ"
      },
      "source": [
        "cv_score = cross_val_score(model, X, y, cv=kfold)"
      ],
      "execution_count": 31,
      "outputs": []
    },
    {
      "cell_type": "code",
      "metadata": {
        "id": "90lR67Nrlbvo"
      },
      "source": [
        "cv_avg = np.mean(cv_score)"
      ],
      "execution_count": 33,
      "outputs": []
    },
    {
      "cell_type": "code",
      "metadata": {
        "colab": {
          "base_uri": "https://localhost:8080/"
        },
        "id": "LA2LhotplgF0",
        "outputId": "c9d7578c-2290-47dc-fc3b-59df5df28e23"
      },
      "source": [
        "print(\"Cross-Validation Mean: {}\".format(np.round(cv_avg),3))"
      ],
      "execution_count": 34,
      "outputs": [
        {
          "output_type": "stream",
          "text": [
            "Cross-Validation Mean: 1.0\n"
          ],
          "name": "stdout"
        }
      ]
    }
  ]
}