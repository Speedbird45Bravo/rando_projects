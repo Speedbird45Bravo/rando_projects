{
 "cells": [
  {
   "cell_type": "code",
   "execution_count": 206,
   "id": "9899060e",
   "metadata": {},
   "outputs": [],
   "source": [
    "from sklearn.ensemble import RandomForestClassifier\n",
    "from sklearn.linear_model import LogisticRegression, Perceptron, SGDClassifier\n",
    "from sklearn.metrics import confusion_matrix, f1_score, precision_recall_curve, precision_score, recall_score, roc_auc_score, roc_curve\n",
    "from sklearn.model_selection import cross_val_predict, cross_val_score, GridSearchCV\n",
    "from sklearn.naive_bayes import GaussianNB\n",
    "from sklearn.neighbors import KNeighborsClassifier\n",
    "from sklearn.svm import LinearSVC, SVC\n",
    "from sklearn.tree import DecisionTreeClassifier\n",
    "import matplotlib.pyplot as plt\n",
    "import numpy as np\n",
    "import os\n",
    "import pandas as pd\n",
    "import re\n",
    "import seaborn as sns\n",
    "import warnings\n",
    "warnings.filterwarnings(\"ignore\")"
   ]
  },
  {
   "cell_type": "code",
   "execution_count": 207,
   "id": "134c543a",
   "metadata": {},
   "outputs": [],
   "source": [
    "folder = \"C:\\\\Users\\\\henry\\\\\"\n",
    "train = \"train.csv\"\n",
    "test = \"test.csv\""
   ]
  },
  {
   "cell_type": "code",
   "execution_count": 208,
   "id": "efe20591",
   "metadata": {},
   "outputs": [],
   "source": [
    "train = pd.read_csv(os.path.join(folder, train))\n",
    "test = pd.read_csv(os.path.join(folder, test))"
   ]
  },
  {
   "cell_type": "code",
   "execution_count": 209,
   "id": "41e5c2cb",
   "metadata": {},
   "outputs": [
    {
     "data": {
      "text/html": [
       "<div>\n",
       "<style scoped>\n",
       "    .dataframe tbody tr th:only-of-type {\n",
       "        vertical-align: middle;\n",
       "    }\n",
       "\n",
       "    .dataframe tbody tr th {\n",
       "        vertical-align: top;\n",
       "    }\n",
       "\n",
       "    .dataframe thead th {\n",
       "        text-align: right;\n",
       "    }\n",
       "</style>\n",
       "<table border=\"1\" class=\"dataframe\">\n",
       "  <thead>\n",
       "    <tr style=\"text-align: right;\">\n",
       "      <th></th>\n",
       "      <th>Total</th>\n",
       "      <th>%</th>\n",
       "    </tr>\n",
       "  </thead>\n",
       "  <tbody>\n",
       "    <tr>\n",
       "      <th>Cabin</th>\n",
       "      <td>687</td>\n",
       "      <td>77.1</td>\n",
       "    </tr>\n",
       "    <tr>\n",
       "      <th>Age</th>\n",
       "      <td>177</td>\n",
       "      <td>19.9</td>\n",
       "    </tr>\n",
       "    <tr>\n",
       "      <th>Embarked</th>\n",
       "      <td>2</td>\n",
       "      <td>0.2</td>\n",
       "    </tr>\n",
       "    <tr>\n",
       "      <th>PassengerId</th>\n",
       "      <td>0</td>\n",
       "      <td>0.0</td>\n",
       "    </tr>\n",
       "    <tr>\n",
       "      <th>Survived</th>\n",
       "      <td>0</td>\n",
       "      <td>0.0</td>\n",
       "    </tr>\n",
       "  </tbody>\n",
       "</table>\n",
       "</div>"
      ],
      "text/plain": [
       "             Total     %\n",
       "Cabin          687  77.1\n",
       "Age            177  19.9\n",
       "Embarked         2   0.2\n",
       "PassengerId      0   0.0\n",
       "Survived         0   0.0"
      ]
     },
     "execution_count": 209,
     "metadata": {},
     "output_type": "execute_result"
    }
   ],
   "source": [
    "total = train.isnull().sum().sort_values(ascending=False)\n",
    "percent_1 = train.isnull().sum()/train.isnull().count()*100\n",
    "percent_2 = (round(percent_1, 1)).sort_values(ascending=False)\n",
    "nulls = pd.concat([total, percent_2], axis=1, keys=['Total','%'])\n",
    "nulls.head()"
   ]
  },
  {
   "cell_type": "code",
   "execution_count": 210,
   "id": "ba6f19fe",
   "metadata": {},
   "outputs": [],
   "source": [
    "survived = 'survived'\n",
    "not_survived = 'not survived'\n",
    "women = train[train['Sex']=='female']\n",
    "men = train[train['Sex']=='male']"
   ]
  },
  {
   "cell_type": "code",
   "execution_count": 211,
   "id": "e4eec9a7",
   "metadata": {},
   "outputs": [],
   "source": [
    "df = [train, test]\n",
    "for data in df:\n",
    "    data['relatives'] = data['SibSp'] + data['Parch']\n",
    "    data.loc[data['relatives'] > 0, 'not_alone'] = 0\n",
    "    data.loc[data['relatives'] == 0, 'not_alone'] = 1\n",
    "    data['not_alone'] = data['not_alone'].astype(int)"
   ]
  },
  {
   "cell_type": "code",
   "execution_count": 212,
   "id": "9811950e",
   "metadata": {},
   "outputs": [
    {
     "data": {
      "text/plain": [
       "1    537\n",
       "0    354\n",
       "Name: not_alone, dtype: int64"
      ]
     },
     "execution_count": 212,
     "metadata": {},
     "output_type": "execute_result"
    }
   ],
   "source": [
    "train['not_alone'].value_counts()"
   ]
  },
  {
   "cell_type": "code",
   "execution_count": 213,
   "id": "4f4e98c7",
   "metadata": {},
   "outputs": [],
   "source": [
    "train = train.drop(['PassengerId'], axis=1)"
   ]
  },
  {
   "cell_type": "code",
   "execution_count": 214,
   "id": "77c8e2a8",
   "metadata": {},
   "outputs": [],
   "source": [
    "deck_dict = {\"A\":1, \"B\":2, \"C\":3, \"D\":4, \"E\":5, \"F\":6, \"G\":7, \"U\":8}\n",
    "df = [train, test]"
   ]
  },
  {
   "cell_type": "code",
   "execution_count": 215,
   "id": "0c2652af",
   "metadata": {},
   "outputs": [],
   "source": [
    "for data in df:\n",
    "    data['Cabin'] = data['Cabin'].fillna(\"U0\")\n",
    "    data['Deck'] = data['Cabin'].map(lambda x: re.compile(\"([a-zA-Z])\").search(x).group())\n",
    "    data['Deck'] = data['Deck'].map(deck_dict)\n",
    "    data['Deck'] = data['Deck'].fillna(0)\n",
    "    data['Deck'] = data['Deck'].astype(int)"
   ]
  },
  {
   "cell_type": "code",
   "execution_count": 216,
   "id": "63fb3dc2",
   "metadata": {},
   "outputs": [],
   "source": [
    "train = train.drop(['Cabin'], axis=1)\n",
    "test = test.drop(['Cabin'], axis=1)"
   ]
  },
  {
   "cell_type": "code",
   "execution_count": 217,
   "id": "cfff8986",
   "metadata": {},
   "outputs": [],
   "source": [
    "df = [train, test]"
   ]
  },
  {
   "cell_type": "code",
   "execution_count": 218,
   "id": "7846da51",
   "metadata": {},
   "outputs": [],
   "source": [
    "for dataset in df:\n",
    "    mean = train['Age'].mean()\n",
    "    std = test['Age'].std()\n",
    "    is_null = dataset['Age'].isnull().sum()\n",
    "    rand_age = np.random.randint(mean - std, mean + std, size=is_null)\n",
    "    age_slice = dataset['Age'].copy()\n",
    "    age_slice[np.isnan(age_slice)] = rand_age\n",
    "    dataset['Age'] = age_slice\n",
    "    dataset['Age'] = train['Age'].astype(int)"
   ]
  },
  {
   "cell_type": "code",
   "execution_count": 219,
   "id": "8df11af6",
   "metadata": {},
   "outputs": [],
   "source": [
    "common_value = \"S\"\n",
    "df = [train, test]"
   ]
  },
  {
   "cell_type": "code",
   "execution_count": 220,
   "id": "358fb4b4",
   "metadata": {},
   "outputs": [],
   "source": [
    "for dataset in df:\n",
    "    dataset['Embarked'] = dataset['Embarked'].fillna(common_value)"
   ]
  },
  {
   "cell_type": "code",
   "execution_count": 221,
   "id": "20183f96",
   "metadata": {},
   "outputs": [],
   "source": [
    "df = [train, test]"
   ]
  },
  {
   "cell_type": "code",
   "execution_count": 222,
   "id": "324555cb",
   "metadata": {},
   "outputs": [],
   "source": [
    "for dataset in df:\n",
    "    dataset['Fare'] = dataset['Fare'].fillna(0)\n",
    "    dataset['Fare'] = dataset['Fare'].astype(int)"
   ]
  },
  {
   "cell_type": "code",
   "execution_count": 223,
   "id": "b8c29462",
   "metadata": {},
   "outputs": [],
   "source": [
    "df = [train, test]\n",
    "title_dict = {'Mr':1, \"Miss\":2, \"Mrs\":3, \"Master\":4, \"Rare\":5}"
   ]
  },
  {
   "cell_type": "code",
   "execution_count": 224,
   "id": "543d04bd",
   "metadata": {},
   "outputs": [],
   "source": [
    "for dataset in df:\n",
    "    dataset['Title'] = dataset.Name.str.extract(' ([A-Za-z]+)\\.', expand=False)\n",
    "    # replace titles with a more common title or as Rare\n",
    "    dataset['Title'] = dataset['Title'].replace(['Lady', 'Countess','Capt', 'Col','Don', 'Dr', 'Major', 'Rev', 'Sir', 'Jonkheer', 'Dona'], 'Rare')\n",
    "    dataset['Title'] = dataset['Title'].replace('Mlle', 'Miss')\n",
    "    dataset['Title'] = dataset['Title'].replace('Ms', 'Miss')\n",
    "    dataset['Title'] = dataset['Title'].replace('Mme', 'Mrs')\n",
    "    # convert titles into numbers\n",
    "    dataset['Title'] = dataset['Title'].map(title_dict)\n",
    "    # filling NaN with 0, to get safe\n",
    "    dataset['Title'] = dataset['Title'].fillna(0)\n",
    "train = train.drop(['Name'], axis=1)\n",
    "test = test.drop(['Name'], axis=1)"
   ]
  },
  {
   "cell_type": "code",
   "execution_count": 225,
   "id": "901f6aab",
   "metadata": {},
   "outputs": [],
   "source": [
    "gender_dict = {\"male\":0, \"female\":1}\n",
    "df = [train, test]"
   ]
  },
  {
   "cell_type": "code",
   "execution_count": 226,
   "id": "676f271b",
   "metadata": {},
   "outputs": [],
   "source": [
    "for dataset in df:\n",
    "    dataset['Sex'] = dataset['Sex'].map(gender_dict)"
   ]
  },
  {
   "cell_type": "code",
   "execution_count": 227,
   "id": "dc6a6d55",
   "metadata": {},
   "outputs": [],
   "source": [
    "train = train.drop(['Ticket'], axis=1)\n",
    "test = test.drop(['Ticket'], axis=1)"
   ]
  },
  {
   "cell_type": "code",
   "execution_count": 228,
   "id": "2438a5e5",
   "metadata": {},
   "outputs": [],
   "source": [
    "port_dict = {\"S\":0, \"C\":1, \"Q\":2}\n",
    "df = [train, test]"
   ]
  },
  {
   "cell_type": "code",
   "execution_count": 229,
   "id": "abb986b8",
   "metadata": {},
   "outputs": [],
   "source": [
    "for dataset in df:\n",
    "    dataset['Embarked'] = dataset['Embarked'].map(port_dict)"
   ]
  },
  {
   "cell_type": "code",
   "execution_count": 230,
   "id": "887a11d9",
   "metadata": {},
   "outputs": [],
   "source": [
    "df = [train, test]\n",
    "for dataset in df:\n",
    "    dataset['Age'] = dataset['Age'].astype(int)\n",
    "    dataset.loc[ dataset['Age'] <= 11, 'Age'] = 0\n",
    "    dataset.loc[(dataset['Age'] > 11) & (dataset['Age'] <= 18), 'Age'] = 1\n",
    "    dataset.loc[(dataset['Age'] > 18) & (dataset['Age'] <= 22), 'Age'] = 2\n",
    "    dataset.loc[(dataset['Age'] > 22) & (dataset['Age'] <= 27), 'Age'] = 3\n",
    "    dataset.loc[(dataset['Age'] > 27) & (dataset['Age'] <= 33), 'Age'] = 4\n",
    "    dataset.loc[(dataset['Age'] > 33) & (dataset['Age'] <= 40), 'Age'] = 5\n",
    "    dataset.loc[(dataset['Age'] > 40) & (dataset['Age'] <= 66), 'Age'] = 6\n",
    "    dataset.loc[ dataset['Age'] > 66, 'Age'] = 6"
   ]
  },
  {
   "cell_type": "code",
   "execution_count": 231,
   "id": "d63977f9",
   "metadata": {},
   "outputs": [],
   "source": [
    "df = [train, test]\n",
    "for dataset in df:\n",
    "    dataset.loc[ dataset['Fare'] <= 7.91, 'Fare'] = 0\n",
    "    dataset.loc[(dataset['Fare'] > 7.91) & (dataset['Fare'] <= 14.454), 'Fare'] = 1\n",
    "    dataset.loc[(dataset['Fare'] > 14.454) & (dataset['Fare'] <= 31), 'Fare']   = 2\n",
    "    dataset.loc[(dataset['Fare'] > 31) & (dataset['Fare'] <= 99), 'Fare']   = 3\n",
    "    dataset.loc[(dataset['Fare'] > 99) & (dataset['Fare'] <= 250), 'Fare']   = 4\n",
    "    dataset.loc[ dataset['Fare'] > 250, 'Fare'] = 5\n",
    "    dataset['Fare'] = dataset['Fare'].astype(int)"
   ]
  },
  {
   "cell_type": "code",
   "execution_count": 232,
   "id": "129665f5",
   "metadata": {},
   "outputs": [],
   "source": [
    "##### New Features #####\n",
    "df = [train, test]\n",
    "for dataset in df:\n",
    "    dataset['Age_Class'] = dataset['Age'] * dataset['Pclass']\n",
    "for dataset in df:\n",
    "    dataset['Fare_Per_Person'] = dataset['Fare'] / (dataset['relatives'] + 1)\n",
    "    dataset['Fare_Per_Person'] = dataset['Fare_Per_Person'].astype(int)"
   ]
  },
  {
   "cell_type": "code",
   "execution_count": 233,
   "id": "04c17ad9",
   "metadata": {},
   "outputs": [],
   "source": [
    "X_train = train.drop(\"Survived\", axis=1)\n",
    "y_train = train['Survived']\n",
    "X_test = test.drop(\"PassengerId\", axis=1).copy()"
   ]
  },
  {
   "cell_type": "code",
   "execution_count": 234,
   "id": "fe8010d6",
   "metadata": {},
   "outputs": [],
   "source": [
    "# Fitting classifiers\n",
    "\n",
    "# SGD\n",
    "sgd = SGDClassifier(max_iter=5, tol=None)\n",
    "sgd.fit(X_train, y_train)\n",
    "y_predictions = sgd.predict(X_test)\n",
    "acc_sgd = round(sgd.score(X_train, y_train) * 100, 2)"
   ]
  },
  {
   "cell_type": "code",
   "execution_count": 235,
   "id": "bd157a29",
   "metadata": {},
   "outputs": [],
   "source": [
    "# Random Forest\n",
    "rf = RandomForestClassifier(n_estimators=100)\n",
    "rf.fit(X_train, y_train)\n",
    "y_predictions = rf.predict(X_test)\n",
    "acc_rf = round(rf.score(X_train, y_train) * 100, 2)"
   ]
  },
  {
   "cell_type": "code",
   "execution_count": 236,
   "id": "2c50112d",
   "metadata": {},
   "outputs": [],
   "source": [
    "# Logistic Regression\n",
    "lr = LogisticRegression(solver='liblinear')\n",
    "lr.fit(X_train, y_train)\n",
    "y_predictions = lr.predict(X_test)\n",
    "acc_lr = round(lr.score(X_train, y_train) * 100, 2)"
   ]
  },
  {
   "cell_type": "code",
   "execution_count": 237,
   "id": "9e0bae41",
   "metadata": {},
   "outputs": [],
   "source": [
    "# KNeighbors\n",
    "knn = KNeighborsClassifier(n_neighbors=3)\n",
    "knn.fit(X_train, y_train)\n",
    "y_predictions = knn.predict(X_test)\n",
    "acc_knn = round(knn.score(X_train, y_train) * 100, 2)"
   ]
  },
  {
   "cell_type": "code",
   "execution_count": 238,
   "id": "4ef37464",
   "metadata": {},
   "outputs": [],
   "source": [
    "# Perceptron\n",
    "perceptron = Perceptron(max_iter=10)\n",
    "perceptron.fit(X_train, y_train)\n",
    "y_predictions = perceptron.predict(X_test)\n",
    "acc_perceptron = round(perceptron.score(X_train, y_train) * 100, 2)"
   ]
  },
  {
   "cell_type": "code",
   "execution_count": 239,
   "id": "71edaee5",
   "metadata": {},
   "outputs": [],
   "source": [
    "# Naive Bayes\n",
    "nb = GaussianNB()\n",
    "nb.fit(X_train, y_train)\n",
    "y_predictions = nb.predict(X_test)\n",
    "acc_nb = round(nb.score(X_train, y_train) * 100, 2)"
   ]
  },
  {
   "cell_type": "code",
   "execution_count": 240,
   "id": "e224cb70",
   "metadata": {},
   "outputs": [],
   "source": [
    "# Linear SVC\n",
    "linear_SVC = LinearSVC()\n",
    "linear_SVC.fit(X_train, y_train)\n",
    "y_predictions = linear_SVC.predict(X_test)\n",
    "acc_linear_SVC = round(linear_SVC.score(X_train, y_train) * 100, 2)"
   ]
  },
  {
   "cell_type": "code",
   "execution_count": 241,
   "id": "be2fb15c",
   "metadata": {},
   "outputs": [],
   "source": [
    "# Decision Tree\n",
    "dt = DecisionTreeClassifier()\n",
    "dt.fit(X_train, y_train)\n",
    "y_predictions = dt.predict(X_test)\n",
    "acc_dt = round(dt.score(X_train, y_train) * 100, 2)"
   ]
  },
  {
   "cell_type": "code",
   "execution_count": 242,
   "id": "afba9017",
   "metadata": {},
   "outputs": [],
   "source": [
    "models = pd.Series(['Random Forest Classifier','Decision Tree Classifier','KNeighbors Classifier', 'Logistic Regression', 'Support Vector Machines', 'Perceptron', 'Naive Bayes', 'Stochastic Gradient Descent']).to_frame()\n",
    "nums = pd.Series([acc_rf, acc_dt, acc_knn, acc_lr, acc_linear_SVC, acc_perceptron, acc_nb, acc_sgd]).to_frame()\n",
    "acc_df = pd.concat([models, nums], axis=1)\n",
    "acc_df.columns = ['Model', 'Score']"
   ]
  },
  {
   "cell_type": "code",
   "execution_count": 243,
   "id": "1d123a2b",
   "metadata": {},
   "outputs": [],
   "source": [
    "cv_score = cross_val_score(rf, X_train, y_train, cv=10, scoring=\"accuracy\")"
   ]
  },
  {
   "cell_type": "code",
   "execution_count": 244,
   "id": "cf3b27a1",
   "metadata": {},
   "outputs": [
    {
     "name": "stdout",
     "output_type": "stream",
     "text": [
      "                 importance\n",
      "feature                    \n",
      "Title                 0.198\n",
      "Sex                   0.180\n",
      "Age_Class             0.093\n",
      "Deck                  0.083\n",
      "Age                   0.080\n",
      "Pclass                0.078\n",
      "relatives             0.062\n",
      "Fare                  0.059\n",
      "Embarked              0.050\n",
      "Fare_Per_Person       0.044\n",
      "SibSp                 0.040\n",
      "Parch                 0.021\n",
      "not_alone             0.011\n"
     ]
    }
   ],
   "source": [
    "importances = pd.DataFrame({'feature':X_train.columns,'importance':np.round(rf.feature_importances_,3)})\n",
    "importances = importances.sort_values('importance',ascending=False).set_index('feature')\n",
    "print(importances)"
   ]
  },
  {
   "cell_type": "code",
   "execution_count": 245,
   "id": "ac5216f3",
   "metadata": {},
   "outputs": [],
   "source": [
    "train = train.drop(columns=['not_alone','Parch'])\n",
    "test = test.drop(columns=['not_alone','Parch'])"
   ]
  },
  {
   "cell_type": "code",
   "execution_count": 41,
   "id": "be2f6526",
   "metadata": {},
   "outputs": [],
   "source": [
    "rf = RandomForestClassifier(n_estimators=100, oob_score=True)\n",
    "rf.fit(X_train, y_train)\n",
    "y_predictions = rf.predict(X_test)\n",
    "acc_rf = rf.score(X_train, y_train).round(2) * 100\n",
    "oob_rf = round(rf.oob_score_, 4) * 100"
   ]
  },
  {
   "cell_type": "code",
   "execution_count": 42,
   "id": "86d8aa97",
   "metadata": {},
   "outputs": [
    {
     "data": {
      "text/plain": [
       "GridSearchCV(cv=None, error_score=nan,\n",
       "             estimator=RandomForestClassifier(bootstrap=True, ccp_alpha=0.0,\n",
       "                                              class_weight=None,\n",
       "                                              criterion='gini', max_depth=None,\n",
       "                                              max_features='auto',\n",
       "                                              max_leaf_nodes=None,\n",
       "                                              max_samples=None,\n",
       "                                              min_impurity_decrease=0.0,\n",
       "                                              min_impurity_split=None,\n",
       "                                              min_samples_leaf=1,\n",
       "                                              min_samples_split=2,\n",
       "                                              min_weight_fraction_leaf=0.0,\n",
       "                                              n_estimators=100, n_jobs=-1,\n",
       "                                              oob_score=True, random_state=1,\n",
       "                                              verbose=0, warm_start=False),\n",
       "             iid='deprecated', n_jobs=-1,\n",
       "             param_grid={'criterion': ['gini', 'entropy'],\n",
       "                         'min_samples_leaf': [1, 5, 10, 25, 50, 70],\n",
       "                         'min_samples_split': [2, 4, 10, 12, 16, 18, 25, 35],\n",
       "                         'n_estimators': [100, 400, 700, 1000, 1500]},\n",
       "             pre_dispatch='2*n_jobs', refit=True, return_train_score=False,\n",
       "             scoring=None, verbose=0)"
      ]
     },
     "execution_count": 42,
     "metadata": {},
     "output_type": "execute_result"
    }
   ],
   "source": [
    "# CV\n",
    "param_grid = { \"criterion\" : [\"gini\", \"entropy\"], \"min_samples_leaf\" : [1, 5, 10, 25, 50, 70], \"min_samples_split\" : [2, 4, 10, 12, 16, 18, 25, 35], \"n_estimators\": [100, 400, 700, 1000, 1500]}\n",
    "rf = RandomForestClassifier(n_estimators=100, max_features='auto', oob_score=True, random_state=1, n_jobs=-1)\n",
    "clf = GridSearchCV(estimator=rf, param_grid=param_grid, n_jobs=-1)\n",
    "clf.fit(X_train, y_train)"
   ]
  },
  {
   "cell_type": "code",
   "execution_count": 246,
   "id": "af2a3af0",
   "metadata": {},
   "outputs": [
    {
     "data": {
      "text/plain": [
       "{'criterion': 'entropy',\n",
       " 'min_samples_leaf': 1,\n",
       " 'min_samples_split': 12,\n",
       " 'n_estimators': 100}"
      ]
     },
     "execution_count": 246,
     "metadata": {},
     "output_type": "execute_result"
    }
   ],
   "source": [
    "clf.best_params_"
   ]
  },
  {
   "cell_type": "code",
   "execution_count": 247,
   "id": "57b29c3e",
   "metadata": {},
   "outputs": [],
   "source": [
    "rf = RandomForestClassifier(criterion='entropy', min_samples_leaf=1, min_samples_split=12, n_estimators=100, max_features='auto', oob_score=True, random_state=1, n_jobs=-1)"
   ]
  },
  {
   "cell_type": "code",
   "execution_count": 248,
   "id": "4439026c",
   "metadata": {},
   "outputs": [
    {
     "data": {
      "text/plain": [
       "RandomForestClassifier(bootstrap=True, ccp_alpha=0.0, class_weight=None,\n",
       "                       criterion='entropy', max_depth=None, max_features='auto',\n",
       "                       max_leaf_nodes=None, max_samples=None,\n",
       "                       min_impurity_decrease=0.0, min_impurity_split=None,\n",
       "                       min_samples_leaf=1, min_samples_split=12,\n",
       "                       min_weight_fraction_leaf=0.0, n_estimators=100,\n",
       "                       n_jobs=-1, oob_score=True, random_state=1, verbose=0,\n",
       "                       warm_start=False)"
      ]
     },
     "execution_count": 248,
     "metadata": {},
     "output_type": "execute_result"
    }
   ],
   "source": [
    "rf.fit(X_train, y_train)"
   ]
  },
  {
   "cell_type": "code",
   "execution_count": 249,
   "id": "ce4b5751",
   "metadata": {},
   "outputs": [],
   "source": [
    "y_predictions = rf.predict(X_test)"
   ]
  },
  {
   "cell_type": "code",
   "execution_count": 250,
   "id": "a7bd5240",
   "metadata": {},
   "outputs": [
    {
     "data": {
      "text/plain": [
       "0.8888888888888888"
      ]
     },
     "execution_count": 250,
     "metadata": {},
     "output_type": "execute_result"
    }
   ],
   "source": [
    "rf.score(X_train, y_train)"
   ]
  },
  {
   "cell_type": "code",
   "execution_count": 251,
   "id": "48685e92",
   "metadata": {},
   "outputs": [
    {
     "data": {
      "text/plain": [
       "0.8294051627384961"
      ]
     },
     "execution_count": 251,
     "metadata": {},
     "output_type": "execute_result"
    }
   ],
   "source": [
    "rf.oob_score_"
   ]
  },
  {
   "cell_type": "code",
   "execution_count": 252,
   "id": "a539eaf6",
   "metadata": {},
   "outputs": [],
   "source": [
    "predictions = cross_val_predict(rf, X_train, y_train, cv=3)"
   ]
  },
  {
   "cell_type": "code",
   "execution_count": 253,
   "id": "adeac51c",
   "metadata": {},
   "outputs": [
    {
     "data": {
      "text/plain": [
       "array([[492,  57],\n",
       "       [ 97, 245]], dtype=int64)"
      ]
     },
     "execution_count": 253,
     "metadata": {},
     "output_type": "execute_result"
    }
   ],
   "source": [
    "confusion_matrix(y_train, predictions)"
   ]
  },
  {
   "cell_type": "code",
   "execution_count": 254,
   "id": "5cce2bbe",
   "metadata": {},
   "outputs": [
    {
     "data": {
      "text/plain": [
       "0.8112582781456954"
      ]
     },
     "execution_count": 254,
     "metadata": {},
     "output_type": "execute_result"
    }
   ],
   "source": [
    "precision_score(y_train, predictions)"
   ]
  },
  {
   "cell_type": "code",
   "execution_count": 255,
   "id": "e8bb704c",
   "metadata": {},
   "outputs": [
    {
     "data": {
      "text/plain": [
       "0.716374269005848"
      ]
     },
     "execution_count": 255,
     "metadata": {},
     "output_type": "execute_result"
    }
   ],
   "source": [
    "recall_score(y_train, predictions)"
   ]
  },
  {
   "cell_type": "code",
   "execution_count": 256,
   "id": "5669235a",
   "metadata": {},
   "outputs": [
    {
     "data": {
      "text/plain": [
       "0.7608695652173915"
      ]
     },
     "execution_count": 256,
     "metadata": {},
     "output_type": "execute_result"
    }
   ],
   "source": [
    "f1_score(y_train, predictions)"
   ]
  },
  {
   "cell_type": "code",
   "execution_count": 259,
   "id": "dc4a4dff",
   "metadata": {},
   "outputs": [
    {
     "data": {
      "image/png": "[encoded data removed]",
      "text/plain": [
       "<Figure size 1008x504 with 1 Axes>"
      ]
     },
     "metadata": {
      "needs_background": "light"
     },
     "output_type": "display_data"
    }
   ],
   "source": [
    "# getting the probabilities of our predictions\n",
    "y_scores = rf.predict_proba(X_train)\n",
    "y_scores = y_scores[:,1]\n",
    "\n",
    "precision, recall, threshold = precision_recall_curve(y_train, y_scores)\n",
    "def plot_precision_and_recall(precision, recall, threshold):\n",
    "    plt.plot(threshold, precision[:-1], \"r-\", label=\"precision\", linewidth=5)\n",
    "    plt.plot(threshold, recall[:-1], \"b\", label=\"recall\", linewidth=5)\n",
    "    plt.xlabel(\"threshold\", fontsize=19)\n",
    "    plt.legend(loc=\"upper right\", fontsize=19)\n",
    "    plt.ylim([0, 1])\n",
    "\n",
    "plt.figure(figsize=(14, 7))\n",
    "plot_precision_and_recall(precision, recall, threshold)\n",
    "plt.show()"
   ]
  },
  {
   "cell_type": "code",
   "execution_count": 260,
   "id": "5e70a3cf",
   "metadata": {},
   "outputs": [
    {
     "data": {
      "image/png": "[encoded data removed]",
      "text/plain": [
       "<Figure size 1008x504 with 1 Axes>"
      ]
     },
     "metadata": {
      "needs_background": "light"
     },
     "output_type": "display_data"
    }
   ],
   "source": [
    "def plot_precision_vs_recall(precision, recall):\n",
    "    plt.plot(recall, precision, \"g--\", linewidth=2.5)\n",
    "    plt.ylabel(\"recall\", fontsize=19)\n",
    "    plt.xlabel(\"precision\", fontsize=19)\n",
    "    plt.axis([0, 1.5, 0, 1.5])\n",
    "\n",
    "plt.figure(figsize=(14, 7))\n",
    "plot_precision_vs_recall(precision, recall)\n",
    "plt.show()"
   ]
  },
  {
   "cell_type": "code",
   "execution_count": 262,
   "id": "986265bf",
   "metadata": {},
   "outputs": [
    {
     "data": {
      "image/png": "[encoded data removed]",
      "text/plain": [
       "<Figure size 1008x504 with 1 Axes>"
      ]
     },
     "metadata": {
      "needs_background": "light"
     },
     "output_type": "display_data"
    }
   ],
   "source": [
    "false_positive_rate, true_positive_rate, thresholds = roc_curve(y_train, y_scores)\n",
    "# plotting them against each other\n",
    "def plot_roc_curve(false_positive_rate, true_positive_rate, label=None):\n",
    "    plt.plot(false_positive_rate, true_positive_rate, linewidth=2, label=label)\n",
    "    plt.plot([0, 1], [0, 1], 'r', linewidth=4)\n",
    "    plt.axis([0, 1, 0, 1])\n",
    "    plt.xlabel('False Positive Rate (FPR)', fontsize=16)\n",
    "    plt.ylabel('True Positive Rate (TPR)', fontsize=16)\n",
    "\n",
    "plt.figure(figsize=(14, 7))\n",
    "plot_roc_curve(false_positive_rate, true_positive_rate)\n",
    "plt.show()"
   ]
  },
  {
   "cell_type": "code",
   "execution_count": 266,
   "id": "ca4aaa3d",
   "metadata": {},
   "outputs": [],
   "source": [
    "roc_auc = roc_auc_score(y_train, y_scores).round(3)"
   ]
  },
  {
   "cell_type": "code",
   "execution_count": 267,
   "id": "d1ccc864",
   "metadata": {},
   "outputs": [
    {
     "name": "stdout",
     "output_type": "stream",
     "text": [
      "ROC-AUC Score: 0.939\n"
     ]
    }
   ],
   "source": [
    "print(\"ROC-AUC Score: {}\".format(roc_auc))"
   ]
  }
 ],
 "metadata": {
  "kernelspec": {
   "display_name": "Python 3",
   "language": "python",
   "name": "python3"
  },
  "language_info": {
   "codemirror_mode": {
    "name": "ipython",
    "version": 3
   },
   "file_extension": ".py",
   "mimetype": "text/x-python",
   "name": "python",
   "nbconvert_exporter": "python",
   "pygments_lexer": "ipython3",
   "version": "3.9.5"
  }
 },
 "nbformat": 4,
 "nbformat_minor": 5
}
