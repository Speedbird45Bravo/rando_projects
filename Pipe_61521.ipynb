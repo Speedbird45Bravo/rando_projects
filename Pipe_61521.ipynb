{
  "nbformat": 4,
  "nbformat_minor": 0,
  "metadata": {
    "colab": {
      "name": "Pipe_61521.ipynb",
      "provenance": [],
      "collapsed_sections": [],
      "authorship_tag": "ABX9TyOvGD5T5zF8Luo1PJYPOvhj",
      "include_colab_link": true
    },
    "kernelspec": {
      "name": "python3",
      "display_name": "Python 3"
    },
    "language_info": {
      "name": "python"
    }
  },
  "cells": [
    {
      "cell_type": "markdown",
      "metadata": {
        "id": "view-in-github",
        "colab_type": "text"
      },
      "source": [
        "<a href=\"https://colab.research.google.com/github/Speedbird45Bravo/rando_projects/blob/main/Pipe_61521.ipynb\" target=\"_parent\"><img src=\"https://colab.research.google.com/assets/colab-badge.svg\" alt=\"Open In Colab\"/></a>"
      ]
    },
    {
      "cell_type": "code",
      "metadata": {
        "id": "f4_5jZ5K8uBl"
      },
      "source": [
        "from sklearn.feature_selection import VarianceThreshold\n",
        "from sklearn.model_selection import train_test_split\n",
        "from sklearn.pipeline import Pipeline\n",
        "from sklearn.preprocessing import StandardScaler\n",
        "from xgboost import XGBClassifier\n",
        "import numpy as np\n",
        "import pandas as pd"
      ],
      "execution_count": 1,
      "outputs": []
    },
    {
      "cell_type": "code",
      "metadata": {
        "id": "cEjPU7fz91Oc"
      },
      "source": [
        "df = pd.read_csv(\"https://projects.fivethirtyeight.com/soccer-api/club/spi_matches_latest.csv\").dropna()\n",
        "df = df[(df.league==\"Barclays Premier League\") | (df.league==\"UEFA Champions League\")].reset_index(drop=True)"
      ],
      "execution_count": 2,
      "outputs": []
    },
    {
      "cell_type": "code",
      "metadata": {
        "id": "BR6671d__rd5"
      },
      "source": [
        "df['spi_margin'] = df['spi1'] - df['spi2']\n",
        "df['goal_margin'] = df['score1'] - df['score2']"
      ],
      "execution_count": 3,
      "outputs": []
    },
    {
      "cell_type": "code",
      "metadata": {
        "id": "zkK612fXAtCl"
      },
      "source": [
        "spis = []\n",
        "results = []"
      ],
      "execution_count": 4,
      "outputs": []
    },
    {
      "cell_type": "code",
      "metadata": {
        "id": "WROXSSY6Apbc"
      },
      "source": [
        "for x in df['spi_margin']:\n",
        "  if x > 0:\n",
        "    spis.append(\"HOME\")\n",
        "  else:\n",
        "    spis.append(\"AWAY\")"
      ],
      "execution_count": 5,
      "outputs": []
    },
    {
      "cell_type": "code",
      "metadata": {
        "id": "a8ewBOPlA0r5"
      },
      "source": [
        "for y in df['goal_margin']:\n",
        "  if y > 0:\n",
        "    results.append(\"HOME\")\n",
        "  elif y < 0:\n",
        "    results.append(\"AWAY\")\n",
        "  else:\n",
        "    results.append(\"DRAW\")"
      ],
      "execution_count": 6,
      "outputs": []
    },
    {
      "cell_type": "code",
      "metadata": {
        "id": "uHyHBRv-BREC"
      },
      "source": [
        "df['spi_margin'] = spis\n",
        "df['goal_margin'] = results"
      ],
      "execution_count": 7,
      "outputs": []
    },
    {
      "cell_type": "code",
      "metadata": {
        "id": "ppzjsqwQBbOU"
      },
      "source": [
        "matches = []"
      ],
      "execution_count": 8,
      "outputs": []
    },
    {
      "cell_type": "code",
      "metadata": {
        "id": "y99pNd1bAhek"
      },
      "source": [
        "for z in range(len(df)):\n",
        "  z = df.iloc[z,:]\n",
        "  if z['goal_margin'] == z['spi_margin']:\n",
        "    matches.append(\"MATCH\")\n",
        "  else:\n",
        "    matches.append(\"NO MATCH\")"
      ],
      "execution_count": 9,
      "outputs": []
    },
    {
      "cell_type": "code",
      "metadata": {
        "id": "zf7VULZrCKGG"
      },
      "source": [
        "df['match'] = matches"
      ],
      "execution_count": 10,
      "outputs": []
    },
    {
      "cell_type": "code",
      "metadata": {
        "id": "mW_nb2KlB6Ek"
      },
      "source": [
        "X_final = df[['spi1','spi2','score1','score2']]\n",
        "y_final = df['match']"
      ],
      "execution_count": 11,
      "outputs": []
    },
    {
      "cell_type": "code",
      "metadata": {
        "id": "J_CYj9ArCNc7"
      },
      "source": [
        "X_train, X_test, y_train, y_test = train_test_split(X_final, y_final, test_size=0.2, random_state=3)"
      ],
      "execution_count": 12,
      "outputs": []
    },
    {
      "cell_type": "code",
      "metadata": {
        "id": "P5ZZKeyCCQ4m"
      },
      "source": [
        "pipe = Pipeline([('Feature Selector', VarianceThreshold()), ('Scaler', StandardScaler()), ('Classifier', XGBClassifier(base_score=0.56, max_depth=6, n_estimators=400))])"
      ],
      "execution_count": 13,
      "outputs": []
    },
    {
      "cell_type": "code",
      "metadata": {
        "colab": {
          "base_uri": "https://localhost:8080/"
        },
        "id": "LjnsSuDADLs7",
        "outputId": "91c2b1c4-1c8d-41d7-95b5-b5539d203ae0"
      },
      "source": [
        "pipe.fit(X_train, y_train)"
      ],
      "execution_count": 15,
      "outputs": [
        {
          "output_type": "execute_result",
          "data": {
            "text/plain": [
              "Pipeline(memory=None,\n",
              "         steps=[('Feature Selector', VarianceThreshold(threshold=0.0)),\n",
              "                ('Scaler',\n",
              "                 StandardScaler(copy=True, with_mean=True, with_std=True)),\n",
              "                ('Classifier',\n",
              "                 XGBClassifier(base_score=0.56, booster='gbtree',\n",
              "                               colsample_bylevel=1, colsample_bynode=1,\n",
              "                               colsample_bytree=1, gamma=0, learning_rate=0.1,\n",
              "                               max_delta_step=0, max_depth=6,\n",
              "                               min_child_weight=1, missing=None,\n",
              "                               n_estimators=400, n_jobs=1, nthread=None,\n",
              "                               objective='binary:logistic', random_state=0,\n",
              "                               reg_alpha=0, reg_lambda=1, scale_pos_weight=1,\n",
              "                               seed=None, silent=None, subsample=1,\n",
              "                               verbosity=1))],\n",
              "         verbose=False)"
            ]
          },
          "metadata": {
            "tags": []
          },
          "execution_count": 15
        }
      ]
    },
    {
      "cell_type": "code",
      "metadata": {
        "id": "jVh-Zk3uDM42"
      },
      "source": [
        "def r_3_score(x, y):\n",
        "  score = pipe.score(x, y)\n",
        "  num = score * 100\n",
        "  return num"
      ],
      "execution_count": 16,
      "outputs": []
    },
    {
      "cell_type": "code",
      "metadata": {
        "id": "zQgu5k37J6rV"
      },
      "source": [
        "pipe_train = r_3_score(X_train, y_train).round(3)\n",
        "pipe_test = r_3_score(X_test, y_test).round(3)"
      ],
      "execution_count": 17,
      "outputs": []
    },
    {
      "cell_type": "code",
      "metadata": {
        "colab": {
          "base_uri": "https://localhost:8080/"
        },
        "id": "3blCTvOXKCM_",
        "outputId": "2800635f-653d-42c4-a824-d3ecacd2c55b"
      },
      "source": [
        "print(\"Train Score: {}% | Test Score: {}%\".format(pipe_train, pipe_test))"
      ],
      "execution_count": 19,
      "outputs": [
        {
          "output_type": "stream",
          "text": [
            "Train Score: 100.0% | Test Score: 92.079%\n"
          ],
          "name": "stdout"
        }
      ]
    }
  ]
}