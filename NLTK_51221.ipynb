{
  "nbformat": 4,
  "nbformat_minor": 0,
  "metadata": {
    "colab": {
      "name": "NLTK_51221.ipynb",
      "provenance": [],
      "collapsed_sections": [],
      "authorship_tag": "ABX9TyMzd1wQeTXdrBpoahFrvunx",
      "include_colab_link": true
    },
    "kernelspec": {
      "name": "python3",
      "display_name": "Python 3"
    },
    "language_info": {
      "name": "python"
    }
  },
  "cells": [
    {
      "cell_type": "markdown",
      "metadata": {
        "id": "view-in-github",
        "colab_type": "text"
      },
      "source": [
        "<a href=\"https://colab.research.google.com/github/Speedbird45Bravo/rando_projects/blob/main/NLTK_51221.ipynb\" target=\"_parent\"><img src=\"https://colab.research.google.com/assets/colab-badge.svg\" alt=\"Open In Colab\"/></a>"
      ]
    },
    {
      "cell_type": "code",
      "metadata": {
        "id": "T5ZJEgO9xXt3"
      },
      "source": [
        "import numpy as np\n",
        "from sklearn.feature_extraction.text import TfidfVectorizer\n",
        "from sklearn.metrics import precision_score, recall_score\n",
        "from sklearn.model_selection import train_test_split\n",
        "from sklearn.ensemble import RandomForestClassifier\n",
        "from string import punctuation\n",
        "import gensim\n",
        "import gensim.downloader as api\n",
        "import nltk\n",
        "import pandas as pd\n",
        "import re\n",
        "from keras.preprocessing.text import Tokenizer\n",
        "from keras.preprocessing.sequence import pad_sequences\n",
        "import keras.backend as K\n",
        "from keras.layers import Dense, Embedding, LSTM\n",
        "from keras.models import Sequential\n",
        "stopwords = nltk.corpus.stopwords.words('english')"
      ],
      "execution_count": 311,
      "outputs": []
    },
    {
      "cell_type": "code",
      "metadata": {
        "id": "MGEPqDowxcXH"
      },
      "source": [
        "text = pd.read_csv(\"spam.csv\", encoding=\"latin-1\")\n",
        "text = text[['v1','v2']]\n",
        "text.columns = ['label','text']"
      ],
      "execution_count": 312,
      "outputs": []
    },
    {
      "cell_type": "code",
      "metadata": {
        "id": "4D9GKdp31un5"
      },
      "source": [
        "def cleaner(text):\n",
        "    text = \"\".join([char for char in text if char not in punctuation])\n",
        "    tokens = re.split(\"\\W+\", text.lower())\n",
        "    text = [word for word in tokens if word not in stopwords]\n",
        "    return text"
      ],
      "execution_count": 313,
      "outputs": []
    },
    {
      "cell_type": "code",
      "metadata": {
        "id": "yGx3oGXm1vcs"
      },
      "source": [
        "tfidf = TfidfVectorizer(analyzer=cleaner)"
      ],
      "execution_count": 314,
      "outputs": []
    },
    {
      "cell_type": "code",
      "metadata": {
        "id": "WgU5wPzX1wlY"
      },
      "source": [
        "X = tfidf.fit_transform(text['text'])"
      ],
      "execution_count": 315,
      "outputs": []
    },
    {
      "cell_type": "code",
      "metadata": {
        "id": "8YL7OvAU1xnI"
      },
      "source": [
        "X = pd.DataFrame(X.toarray())\n",
        "y = text[['label']].copy()"
      ],
      "execution_count": 316,
      "outputs": []
    },
    {
      "cell_type": "code",
      "metadata": {
        "id": "i5VOlxIf1yuo"
      },
      "source": [
        "X_train, X_test, y_train, y_test = train_test_split(X, y, test_size=0.2, random_state=6)"
      ],
      "execution_count": 317,
      "outputs": []
    },
    {
      "cell_type": "code",
      "metadata": {
        "id": "0KcxlmkP10Bo"
      },
      "source": [
        "rf = RandomForestClassifier(n_estimators=100).fit(X_train, y_train.values.ravel())"
      ],
      "execution_count": 318,
      "outputs": []
    },
    {
      "cell_type": "code",
      "metadata": {
        "id": "dTvAiMJk11N4"
      },
      "source": [
        "predictions = rf.predict(X_test)"
      ],
      "execution_count": 319,
      "outputs": []
    },
    {
      "cell_type": "code",
      "metadata": {
        "id": "4ILPxvwx16Y8"
      },
      "source": [
        "pos = \"ham\"\n",
        "precision = precision_score(y_test, predictions, pos_label=pos).round(3)\n",
        "recall = recall_score(y_test, predictions, pos_label=pos).round(3)"
      ],
      "execution_count": 320,
      "outputs": []
    },
    {
      "cell_type": "code",
      "metadata": {
        "colab": {
          "base_uri": "https://localhost:8080/"
        },
        "id": "leviJcwc17S8",
        "outputId": "ce37dea8-00ad-4307-c65b-800d86909475"
      },
      "source": [
        "print(\"Precision: {} | Recall: {}\".format(precision, recall))"
      ],
      "execution_count": 321,
      "outputs": [
        {
          "output_type": "stream",
          "text": [
            "Precision: 0.968 | Recall: 1.0\n"
          ],
          "name": "stdout"
        }
      ]
    },
    {
      "cell_type": "code",
      "metadata": {
        "id": "O4jVPzzR18lU"
      },
      "source": [
        "wiki_embeddings = api.load('glove-wiki-gigaword-100')"
      ],
      "execution_count": 322,
      "outputs": []
    },
    {
      "cell_type": "code",
      "metadata": {
        "colab": {
          "base_uri": "https://localhost:8080/"
        },
        "id": "FaoDoibA1-Ao",
        "outputId": "d081f8ba-9ab0-4f73-8bdd-367960efd7d7"
      },
      "source": [
        "wiki_embeddings.most_similar('maine')"
      ],
      "execution_count": 323,
      "outputs": [
        {
          "output_type": "execute_result",
          "data": {
            "text/plain": [
              "[('vermont', 0.8391201496124268),\n",
              " ('connecticut', 0.7976082563400269),\n",
              " ('oregon', 0.7730393409729004),\n",
              " ('massachusetts', 0.7728150486946106),\n",
              " ('missouri', 0.7665733098983765),\n",
              " ('virginia', 0.7642097473144531),\n",
              " ('rhode', 0.7578915357589722),\n",
              " ('carolina', 0.756413996219635),\n",
              " ('delaware', 0.7552822828292847),\n",
              " ('wisconsin', 0.7548272609710693)]"
            ]
          },
          "metadata": {
            "tags": []
          },
          "execution_count": 323
        }
      ]
    },
    {
      "cell_type": "code",
      "metadata": {
        "id": "eA2HFx041_s4"
      },
      "source": [
        "text['text_clean'] = text['text'].apply(lambda x: gensim.utils.simple_preprocess(x))\n",
        "X_train, X_test, y_train, y_test = train_test_split(text['text_clean'], text['label'])"
      ],
      "execution_count": 324,
      "outputs": []
    },
    {
      "cell_type": "code",
      "metadata": {
        "id": "N7mpLPu-2AvQ"
      },
      "source": [
        "w2v = gensim.models.Word2Vec(X_train, size=100, window=5, min_count=2)"
      ],
      "execution_count": 325,
      "outputs": []
    },
    {
      "cell_type": "code",
      "metadata": {
        "colab": {
          "base_uri": "https://localhost:8080/"
        },
        "id": "vWNaop6h2B5Z",
        "outputId": "4914d545-9fdd-42af-dc46-3f5c92a6ddb4"
      },
      "source": [
        "w2v.wv.most_similar('house')"
      ],
      "execution_count": 327,
      "outputs": [
        {
          "output_type": "execute_result",
          "data": {
            "text/plain": [
              "[('up', 0.999786913394928),\n",
              " ('no', 0.9997838735580444),\n",
              " ('msg', 0.9997835159301758),\n",
              " ('as', 0.9997766613960266),\n",
              " ('any', 0.9997725486755371),\n",
              " ('get', 0.9997689723968506),\n",
              " ('by', 0.9997686147689819),\n",
              " ('here', 0.9997678995132446),\n",
              " ('wait', 0.9997670650482178),\n",
              " ('its', 0.9997647404670715)]"
            ]
          },
          "metadata": {
            "tags": []
          },
          "execution_count": 327
        }
      ]
    },
    {
      "cell_type": "code",
      "metadata": {
        "id": "jo8cH3en2DJh"
      },
      "source": [
        "%%capture \n",
        "w2v_vect = np.array([np.array([w2v.wv[i] for i in ls if i in w2v.wv.index2word]) for ls in X_test])"
      ],
      "execution_count": 329,
      "outputs": []
    },
    {
      "cell_type": "code",
      "metadata": {
        "id": "6Cqt1ccd2FmM"
      },
      "source": [
        "w2v_vect_avg = []\n",
        "for vect in w2v_vect: \n",
        "    if len(vect)!=0:\n",
        "        w2v_vect_avg.append(vect.mean(axis=0))\n",
        "    else:\n",
        "        w2v_vect_avg.append(np.zeros(100))"
      ],
      "execution_count": 330,
      "outputs": []
    },
    {
      "cell_type": "code",
      "metadata": {
        "id": "C2HmvwNr2HbU"
      },
      "source": [
        "tagged_docs = [gensim.models.doc2vec.TaggedDocument(v, [i]) for i, v in enumerate(X_train)]"
      ],
      "execution_count": 332,
      "outputs": []
    },
    {
      "cell_type": "code",
      "metadata": {
        "id": "RYm0k7yq2IoE"
      },
      "source": [
        "d2v = gensim.models.Doc2Vec(tagged_docs, vector_size=100, window=5, min_count=2)"
      ],
      "execution_count": 333,
      "outputs": []
    },
    {
      "cell_type": "code",
      "metadata": {
        "colab": {
          "base_uri": "https://localhost:8080/"
        },
        "id": "yWNj6YQz2Jqc",
        "outputId": "81a1c060-cc89-454e-a5ea-32622c236a74"
      },
      "source": [
        "d2v.infer_vector(['king','queen'])"
      ],
      "execution_count": 335,
      "outputs": [
        {
          "output_type": "execute_result",
          "data": {
            "text/plain": [
              "array([-2.19391007e-02,  2.73283347e-02, -4.02135076e-03, -1.31881507e-02,\n",
              "       -2.95545477e-02,  4.33455408e-03, -8.49400647e-03, -2.36688135e-03,\n",
              "        1.57928478e-03,  1.40861226e-02,  8.60079763e-06,  1.94708128e-02,\n",
              "       -4.81459545e-03,  4.57884930e-03,  7.86823686e-03, -9.82737169e-03,\n",
              "        1.33067612e-02, -2.69060265e-02, -4.09757718e-03, -4.93764644e-03,\n",
              "        1.08793397e-02,  8.98676552e-03,  1.04231425e-02,  6.33892021e-04,\n",
              "        1.00570275e-02, -1.26737645e-02, -1.15146190e-02, -2.36522127e-02,\n",
              "       -3.26715559e-02, -2.34243483e-03,  5.28964680e-03, -1.20118661e-02,\n",
              "       -6.83485018e-03, -3.35601419e-02,  9.03923344e-03, -2.34689545e-02,\n",
              "        8.46854132e-03,  1.62315574e-02, -1.62493624e-02,  1.54244630e-02,\n",
              "       -3.93188279e-03, -3.24654356e-02, -1.35524096e-02, -1.87780382e-03,\n",
              "        2.18140730e-03, -7.50894193e-03,  1.15650902e-02,  9.72089916e-03,\n",
              "        8.52358062e-03,  8.49572197e-03, -1.19118821e-02, -6.37604250e-03,\n",
              "        2.47242441e-03, -1.70794278e-02, -2.09684297e-02, -5.83494967e-03,\n",
              "       -3.91763315e-05,  8.25638417e-04, -1.09099678e-03, -6.42815046e-03,\n",
              "        7.85339344e-03, -5.11807669e-03,  1.09170936e-02, -1.65810820e-03,\n",
              "        1.20673878e-02, -3.56271039e-06, -1.43033722e-02,  6.02555415e-03,\n",
              "        4.15433059e-03, -1.01976860e-02,  6.16148487e-03,  4.46493039e-03,\n",
              "        8.61524884e-03,  2.15572934e-03,  9.42353066e-03,  4.07829415e-03,\n",
              "       -4.70578158e-03,  6.23684470e-03,  4.55609849e-03, -1.27994018e-02,\n",
              "       -1.96788628e-02,  4.30682441e-03,  2.19612126e-03,  9.22506268e-04,\n",
              "       -6.39412738e-03,  1.26426211e-02,  1.10735092e-02, -5.76342270e-03,\n",
              "        4.65947576e-03, -1.23693552e-02, -1.15585504e-02, -5.10811005e-05,\n",
              "       -2.26107966e-02, -1.51433861e-02,  1.24974269e-03, -1.49754919e-02,\n",
              "        2.46584062e-02, -1.05832163e-02, -1.84395313e-02, -7.23063061e-03],\n",
              "      dtype=float32)"
            ]
          },
          "metadata": {
            "tags": []
          },
          "execution_count": 335
        }
      ]
    },
    {
      "cell_type": "code",
      "metadata": {
        "id": "7Ki8euRD2Kpc"
      },
      "source": [
        "vectors = [[d2v.infer_vector(words)] for words in X_test]"
      ],
      "execution_count": 336,
      "outputs": []
    },
    {
      "cell_type": "code",
      "metadata": {
        "id": "0konjw-N2LrE"
      },
      "source": [
        "tokenizer = Tokenizer()\n",
        "tokenizer.fit_on_texts(X_train)"
      ],
      "execution_count": 337,
      "outputs": []
    },
    {
      "cell_type": "code",
      "metadata": {
        "id": "Pf2BdM1z3rya"
      },
      "source": [
        "X_train_sequences = tokenizer.texts_to_sequences(X_train)\n",
        "X_test_sequences = tokenizer.texts_to_sequences(X_test)"
      ],
      "execution_count": 338,
      "outputs": []
    },
    {
      "cell_type": "code",
      "metadata": {
        "id": "-qq17u9U359X"
      },
      "source": [
        "X_train_sequences_padded = pad_sequences(X_train_sequences, 50)\n",
        "X_test_sequences_padded = pad_sequences(X_test_sequences, 50)"
      ],
      "execution_count": 339,
      "outputs": []
    },
    {
      "cell_type": "code",
      "metadata": {
        "id": "ol345ZmxNz4G"
      },
      "source": [
        "y_train = y_train.replace(\"ham\",1)\n",
        "y_train = y_train.replace(\"spam\",0)"
      ],
      "execution_count": 340,
      "outputs": []
    },
    {
      "cell_type": "code",
      "metadata": {
        "id": "KTse1whQUM09"
      },
      "source": [
        "y_test = y_test.replace(\"ham\",1)\n",
        "y_test = y_test.replace(\"spam\",0)"
      ],
      "execution_count": 341,
      "outputs": []
    },
    {
      "cell_type": "code",
      "metadata": {
        "id": "TsXaxuat4Egv"
      },
      "source": [
        "def recall_score(y_true, y_predictions):\n",
        "  true_positives = K.sum(K.round(K.clip(y_true * y_predictions, 0, 1)))\n",
        "  possible_positives = K.sum(K.round(K.clip(y_true, 0, 1)))\n",
        "  recall = true_positives / (possible_positives + K.epsilon())\n",
        "  return recall"
      ],
      "execution_count": 342,
      "outputs": []
    },
    {
      "cell_type": "code",
      "metadata": {
        "id": "uq68qq6i5E5P"
      },
      "source": [
        "\n",
        "def precision_score(y_true, y_predictions):\n",
        "  true_positives = K.sum(K.round(K.clip(y_true * y_predictions, 0, 1)))\n",
        "  predicted_positives = K.sum(K.round(K.clip(y_predictions, 0, 1)))\n",
        "  recall = true_positives / (predicted_positives + K.epsilon())\n",
        "  return recall"
      ],
      "execution_count": 343,
      "outputs": []
    },
    {
      "cell_type": "code",
      "metadata": {
        "colab": {
          "base_uri": "https://localhost:8080/"
        },
        "id": "1WfvPpgl5Pqr",
        "outputId": "10698e8b-f97c-4595-cc0c-c0fcd16946e0"
      },
      "source": [
        "model = Sequential()\n",
        "model.add(Embedding(len(tokenizer.index_word)+1, 32))\n",
        "model.add(LSTM(32, dropout=0, recurrent_dropout=0))\n",
        "model.add(Dense(32, activation='relu'))\n",
        "model.add(Dense(1, activation='sigmoid'))\n",
        "model.summary()"
      ],
      "execution_count": 344,
      "outputs": [
        {
          "output_type": "stream",
          "text": [
            "Model: \"sequential_7\"\n",
            "_________________________________________________________________\n",
            "Layer (type)                 Output Shape              Param #   \n",
            "=================================================================\n",
            "embedding_7 (Embedding)      (None, None, 32)          211072    \n",
            "_________________________________________________________________\n",
            "lstm_7 (LSTM)                (None, 32)                8320      \n",
            "_________________________________________________________________\n",
            "dense_14 (Dense)             (None, 32)                1056      \n",
            "_________________________________________________________________\n",
            "dense_15 (Dense)             (None, 1)                 33        \n",
            "=================================================================\n",
            "Total params: 220,481\n",
            "Trainable params: 220,481\n",
            "Non-trainable params: 0\n",
            "_________________________________________________________________\n"
          ],
          "name": "stdout"
        }
      ]
    },
    {
      "cell_type": "code",
      "metadata": {
        "id": "lb1M96rF8QTv"
      },
      "source": [
        "model.compile(optimizer='adam', loss='binary_crossentropy', metrics=['accuracy', recall_score, precision_score])"
      ],
      "execution_count": 345,
      "outputs": []
    },
    {
      "cell_type": "code",
      "metadata": {
        "colab": {
          "base_uri": "https://localhost:8080/"
        },
        "id": "HMwO4IM88h-z",
        "outputId": "dba7470d-27c1-40b7-9db9-57c725d20f3c"
      },
      "source": [
        "history = model.fit(X_train_sequences_padded, y_train, batch_size=32, epochs=10, validation_data=(X_test_sequences_padded, y_test))"
      ],
      "execution_count": 346,
      "outputs": [
        {
          "output_type": "stream",
          "text": [
            "Epoch 1/10\n",
            "131/131 [==============================] - 7s 34ms/step - loss: 0.4264 - accuracy: 0.8803 - recall_score: 0.9946 - precision_score: 0.8828 - val_loss: 0.0844 - val_accuracy: 0.9763 - val_recall_score: 0.9893 - val_precision_score: 0.9836\n",
            "Epoch 2/10\n",
            "131/131 [==============================] - 4s 29ms/step - loss: 0.0406 - accuracy: 0.9859 - recall_score: 0.9942 - precision_score: 0.9894 - val_loss: 0.0764 - val_accuracy: 0.9806 - val_recall_score: 0.9977 - val_precision_score: 0.9805\n",
            "Epoch 3/10\n",
            "131/131 [==============================] - 4s 29ms/step - loss: 0.0216 - accuracy: 0.9953 - recall_score: 0.9994 - precision_score: 0.9949 - val_loss: 0.0858 - val_accuracy: 0.9785 - val_recall_score: 0.9960 - val_precision_score: 0.9796\n",
            "Epoch 4/10\n",
            "131/131 [==============================] - 4s 29ms/step - loss: 0.0099 - accuracy: 0.9962 - recall_score: 0.9970 - precision_score: 0.9985 - val_loss: 0.0947 - val_accuracy: 0.9806 - val_recall_score: 0.9960 - val_precision_score: 0.9820\n",
            "Epoch 5/10\n",
            "131/131 [==============================] - 4s 29ms/step - loss: 0.0055 - accuracy: 0.9988 - recall_score: 0.9998 - precision_score: 0.9987 - val_loss: 0.1178 - val_accuracy: 0.9799 - val_recall_score: 0.9985 - val_precision_score: 0.9790\n",
            "Epoch 6/10\n",
            "131/131 [==============================] - 4s 29ms/step - loss: 0.0012 - accuracy: 0.9998 - recall_score: 1.0000 - precision_score: 0.9997 - val_loss: 0.1140 - val_accuracy: 0.9792 - val_recall_score: 0.9969 - val_precision_score: 0.9796\n",
            "Epoch 7/10\n",
            "131/131 [==============================] - 4s 28ms/step - loss: 0.0014 - accuracy: 0.9997 - recall_score: 1.0000 - precision_score: 0.9996 - val_loss: 0.1212 - val_accuracy: 0.9792 - val_recall_score: 0.9961 - val_precision_score: 0.9804\n",
            "Epoch 8/10\n",
            "131/131 [==============================] - 4s 28ms/step - loss: 5.8914e-04 - accuracy: 1.0000 - recall_score: 1.0000 - precision_score: 1.0000 - val_loss: 0.1379 - val_accuracy: 0.9806 - val_recall_score: 0.9985 - val_precision_score: 0.9798\n",
            "Epoch 9/10\n",
            "131/131 [==============================] - 4s 29ms/step - loss: 1.8779e-04 - accuracy: 1.0000 - recall_score: 1.0000 - precision_score: 1.0000 - val_loss: 0.1439 - val_accuracy: 0.9799 - val_recall_score: 0.9977 - val_precision_score: 0.9798\n",
            "Epoch 10/10\n",
            "131/131 [==============================] - 4s 29ms/step - loss: 1.2474e-04 - accuracy: 1.0000 - recall_score: 1.0000 - precision_score: 1.0000 - val_loss: 0.1533 - val_accuracy: 0.9799 - val_recall_score: 0.9977 - val_precision_score: 0.9798\n"
          ],
          "name": "stdout"
        }
      ]
    },
    {
      "cell_type": "code",
      "metadata": {
        "id": "rO2mj_bMVQ13"
      },
      "source": [
        "predictions = model.predict(X_test_sequences_padded).round(0)"
      ],
      "execution_count": 347,
      "outputs": []
    },
    {
      "cell_type": "code",
      "metadata": {
        "colab": {
          "base_uri": "https://localhost:8080/"
        },
        "id": "fprfjr-fc7ZP",
        "outputId": "b0a808ef-80cc-44bf-bcba-f35bd9ba7708"
      },
      "source": [
        "loss, accuracy, precision, recall = model.evaluate(y_test, predictions)\n",
        "loss = np.round(loss, 2) * 100\n",
        "accuracy = np.round(accuracy, 2) * 100\n",
        "precision = np.round(precision, 2) * 100\n",
        "recall = np.round(recall, 2) * 100\n",
        "print(\"Test Accuracy: {}% | Test Precision: {}% | Test Recall: {}%\".format(accuracy, precision, recall))"
      ],
      "execution_count": 361,
      "outputs": [
        {
          "output_type": "stream",
          "text": [
            "44/44 [==============================] - 0s 2ms/step - loss: 0.4297 - accuracy: 0.8966 - recall_score: 1.0000 - precision_score: 0.8958\n",
            "Test Accuracy: 90.0% | Test Precision: 100.0% | Test Recall: 90.0%\n"
          ],
          "name": "stdout"
        }
      ]
    }
  ]
}