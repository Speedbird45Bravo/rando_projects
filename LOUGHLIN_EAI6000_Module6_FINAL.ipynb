{
 "cells": [
  {
   "cell_type": "markdown",
   "id": "0303d7a4",
   "metadata": {
    "id": "0303d7a4",
    "papermill": {
     "duration": 0.038405,
     "end_time": "2022-05-20T01:07:42.339289",
     "exception": false,
     "start_time": "2022-05-20T01:07:42.300884",
     "status": "completed"
    },
    "tags": []
   },
   "source": [
    "<div align=\"center\"><img src=\"https://i1.wp.com/speedbirdspotter.com/wp-content/uploads/2017/04/17917451_10209370256432909_1730598885171112811_o.jpg?fit=1108%2C737&ssl=1\" width=\"400\" align=\"center\"></div>"
   ]
  },
  {
   "cell_type": "markdown",
   "id": "3ed6a7ba",
   "metadata": {
    "id": "3ed6a7ba",
    "papermill": {
     "duration": 0.035799,
     "end_time": "2022-05-20T01:07:42.411052",
     "exception": false,
     "start_time": "2022-05-20T01:07:42.375253",
     "status": "completed"
    },
    "tags": []
   },
   "source": [
    "<p style=\"font-size: 2em; text-align: center;\">Assignment 6: Natural Language Processing with NLTK and scikit-learn</p>\n",
    "<p style=\"font-size: 1.5em; text-align: center;\">Analyzing Sentiment of Airline Passenger Tweets</p>\n",
    "<p style=\"text-align: center;\">Henry Loughlin</p>\n",
    "<p style=\"text-align: center;\">EAI6000</p>\n",
    "<p style=\"text-align: center;\">Professor Mark Wagy</p>\n",
    "<p style=\"text-align: center;\">May 19, 2022</p>"
   ]
  },
  {
   "cell_type": "code",
   "execution_count": 1,
   "id": "addd5246",
   "metadata": {
    "execution": {
     "iopub.execute_input": "2022-05-20T01:07:42.486351Z",
     "iopub.status.busy": "2022-05-20T01:07:42.485765Z",
     "iopub.status.idle": "2022-05-20T01:07:44.137585Z",
     "shell.execute_reply": "2022-05-20T01:07:44.136750Z"
    },
    "id": "addd5246",
    "papermill": {
     "duration": 1.691818,
     "end_time": "2022-05-20T01:07:44.140652",
     "exception": false,
     "start_time": "2022-05-20T01:07:42.448834",
     "status": "completed"
    },
    "tags": []
   },
   "outputs": [],
   "source": [
    "import nltk\n",
    "import json\n",
    "import pandas as pd\n",
    "import random\n",
    "import numpy as np\n",
    "import matplotlib.pyplot as plt\n",
    "from nltk import sent_tokenize, word_tokenize, pos_tag\n",
    "from nltk.corpus import brown, webtext, stopwords\n",
    "from string import punctuation\n",
    "from nltk.stem import PorterStemmer, WordNetLemmatizer\n",
    "from sklearn.feature_extraction.text import CountVectorizer\n",
    "from sklearn.model_selection import train_test_split\n",
    "from sklearn.naive_bayes import MultinomialNB, ComplementNB\n",
    "from sklearn.metrics import accuracy_score, classification_report,\\\n",
    "confusion_matrix, ConfusionMatrixDisplay\n",
    "from collections import Counter\n",
    "from datetime import datetime as dt"
   ]
  },
  {
   "cell_type": "code",
   "execution_count": 2,
   "id": "eab4bcad",
   "metadata": {
    "colab": {
     "base_uri": "https://localhost:8080/"
    },
    "execution": {
     "iopub.execute_input": "2022-05-20T01:07:44.223651Z",
     "iopub.status.busy": "2022-05-20T01:07:44.223360Z",
     "iopub.status.idle": "2022-05-20T01:07:44.594816Z",
     "shell.execute_reply": "2022-05-20T01:07:44.593680Z"
    },
    "id": "eab4bcad",
    "outputId": "c8cfd053-432f-4bc6-966c-93dec085b0cc",
    "papermill": {
     "duration": 0.41056,
     "end_time": "2022-05-20T01:07:44.597135",
     "exception": false,
     "start_time": "2022-05-20T01:07:44.186575",
     "status": "completed"
    },
    "tags": []
   },
   "outputs": [
    {
     "data": {
      "text/plain": [
       "True"
      ]
     },
     "execution_count": 2,
     "metadata": {},
     "output_type": "execute_result"
    }
   ],
   "source": [
    "# Having done all our imports, we need to download the corpora we'll be working with.\n",
    "# There are seven in total, and each will be necessary for training our models.\n",
    "nltk.download(\"brown\", quiet=True)\n",
    "nltk.download(\"webtext\", quiet=True)\n",
    "nltk.download(\"wordnet\", quiet=True)\n",
    "nltk.download(\"averaged_perceptron_tagger\", quiet=True)\n",
    "nltk.download(\"stopwords\", quiet=True)\n",
    "nltk.download(\"punkt\", quiet=True)\n",
    "nltk.download('omw-1.4', quiet=True)"
   ]
  },
  {
   "cell_type": "code",
   "execution_count": 3,
   "id": "c452a391",
   "metadata": {
    "colab": {
     "base_uri": "https://localhost:8080/"
    },
    "execution": {
     "iopub.execute_input": "2022-05-20T01:07:44.672473Z",
     "iopub.status.busy": "2022-05-20T01:07:44.672216Z",
     "iopub.status.idle": "2022-05-20T01:07:47.531445Z",
     "shell.execute_reply": "2022-05-20T01:07:47.530547Z"
    },
    "id": "c452a391",
    "outputId": "6d2b4ac6-d3a7-4049-a32b-4d6ad83140f8",
    "papermill": {
     "duration": 2.899106,
     "end_time": "2022-05-20T01:07:47.533653",
     "exception": false,
     "start_time": "2022-05-20T01:07:44.634547",
     "status": "completed"
    },
    "tags": []
   },
   "outputs": [
    {
     "name": "stdout",
     "output_type": "stream",
     "text": [
      "The length of the Brown corpus is 1161192.\n",
      "\n",
      "Words: ['The', 'Fulton', 'County', 'Grand', 'Jury', 'said', ...]\n",
      "\n",
      "Sentences: [['The', 'Fulton', 'County', 'Grand', 'Jury', 'said', 'Friday', 'an', 'investigation', 'of', \"Atlanta's\", 'recent', 'primary', 'election', 'produced', '``', 'no', 'evidence', \"''\", 'that', 'any', 'irregularities', 'took', 'place', '.'], ['The', 'jury', 'further', 'said', 'in', 'term-end', 'presentments', 'that', 'the', 'City', 'Executive', 'Committee', ',', 'which', 'had', 'over-all', 'charge', 'of', 'the', 'election', ',', '``', 'deserves', 'the', 'praise', 'and', 'thanks', 'of', 'the', 'City', 'of', 'Atlanta', \"''\", 'for', 'the', 'manner', 'in', 'which', 'the', 'election', 'was', 'conducted', '.'], ...]\n"
     ]
    }
   ],
   "source": [
    "# Get the number of words in the Brown corpus.\n",
    "print(f\"The length of the Brown corpus is {len(brown.words())}.\")\n",
    "\n",
    "print()\n",
    "\n",
    "# Here are some words.\n",
    "print(f\"Words: {brown.words()}\")\n",
    "\n",
    "print()\n",
    "\n",
    "# Here's a sample.\n",
    "print(f\"Sentences: {brown.sents()}\")"
   ]
  },
  {
   "cell_type": "code",
   "execution_count": 4,
   "id": "edffc6ec",
   "metadata": {
    "colab": {
     "base_uri": "https://localhost:8080/"
    },
    "execution": {
     "iopub.execute_input": "2022-05-20T01:07:47.608771Z",
     "iopub.status.busy": "2022-05-20T01:07:47.608518Z",
     "iopub.status.idle": "2022-05-20T01:07:47.614406Z",
     "shell.execute_reply": "2022-05-20T01:07:47.613589Z"
    },
    "id": "edffc6ec",
    "outputId": "e1ff2400-b08d-44e6-fc25-bd2f4be2089c",
    "papermill": {
     "duration": 0.046164,
     "end_time": "2022-05-20T01:07:47.616321",
     "exception": false,
     "start_time": "2022-05-20T01:07:47.570157",
     "status": "completed"
    },
    "tags": []
   },
   "outputs": [
    {
     "data": {
      "text/plain": [
       "[['The', 'Fulton', 'County', 'Grand', 'Jury', 'said', 'Friday', 'an', 'investigation', 'of', \"Atlanta's\", 'recent', 'primary', 'election', 'produced', '``', 'no', 'evidence', \"''\", 'that', 'any', 'irregularities', 'took', 'place', '.'], ['The', 'jury', 'further', 'said', 'in', 'term-end', 'presentments', 'that', 'the', 'City', 'Executive', 'Committee', ',', 'which', 'had', 'over-all', 'charge', 'of', 'the', 'election', ',', '``', 'deserves', 'the', 'praise', 'and', 'thanks', 'of', 'the', 'City', 'of', 'Atlanta', \"''\", 'for', 'the', 'manner', 'in', 'which', 'the', 'election', 'was', 'conducted', '.'], ...]"
      ]
     },
     "execution_count": 4,
     "metadata": {},
     "output_type": "execute_result"
    }
   ],
   "source": [
    "# Examine fileids='ca01'\n",
    "brown.sents(fileids='ca01')"
   ]
  },
  {
   "cell_type": "code",
   "execution_count": 5,
   "id": "d1157178",
   "metadata": {
    "colab": {
     "base_uri": "https://localhost:8080/"
    },
    "execution": {
     "iopub.execute_input": "2022-05-20T01:07:47.690921Z",
     "iopub.status.busy": "2022-05-20T01:07:47.690666Z",
     "iopub.status.idle": "2022-05-20T01:07:47.696153Z",
     "shell.execute_reply": "2022-05-20T01:07:47.695156Z"
    },
    "id": "d1157178",
    "outputId": "8e6d46cc-8d20-4f65-c59a-1d961beaa486",
    "papermill": {
     "duration": 0.045377,
     "end_time": "2022-05-20T01:07:47.697973",
     "exception": false,
     "start_time": "2022-05-20T01:07:47.652596",
     "status": "completed"
    },
    "tags": []
   },
   "outputs": [
    {
     "data": {
      "text/plain": [
       "500"
      ]
     },
     "execution_count": 5,
     "metadata": {},
     "output_type": "execute_result"
    }
   ],
   "source": [
    "# How many sources?\n",
    "len(brown.fileids())"
   ]
  },
  {
   "cell_type": "code",
   "execution_count": 6,
   "id": "a6ed5662",
   "metadata": {
    "colab": {
     "base_uri": "https://localhost:8080/"
    },
    "execution": {
     "iopub.execute_input": "2022-05-20T01:07:47.773729Z",
     "iopub.status.busy": "2022-05-20T01:07:47.773490Z",
     "iopub.status.idle": "2022-05-20T01:07:47.777423Z",
     "shell.execute_reply": "2022-05-20T01:07:47.776575Z"
    },
    "id": "a6ed5662",
    "outputId": "6335d753-b492-46b3-b8d3-850108863cd3",
    "papermill": {
     "duration": 0.044529,
     "end_time": "2022-05-20T01:07:47.780351",
     "exception": false,
     "start_time": "2022-05-20T01:07:47.735822",
     "status": "completed"
    },
    "tags": []
   },
   "outputs": [
    {
     "name": "stdout",
     "output_type": "stream",
     "text": [
      "['ca01', 'ca02', 'ca03', 'ca04', 'ca05', 'ca06', 'ca07', 'ca08', 'ca09', 'ca10', 'ca11', 'ca12', 'ca13', 'ca14', 'ca15', 'ca16', 'ca17', 'ca18', 'ca19', 'ca20', 'ca21', 'ca22', 'ca23', 'ca24', 'ca25', 'ca26', 'ca27', 'ca28', 'ca29', 'ca30', 'ca31', 'ca32', 'ca33', 'ca34', 'ca35', 'ca36', 'ca37', 'ca38', 'ca39', 'ca40', 'ca41', 'ca42', 'ca43', 'ca44', 'cb01', 'cb02', 'cb03', 'cb04', 'cb05', 'cb06', 'cb07', 'cb08', 'cb09', 'cb10', 'cb11', 'cb12', 'cb13', 'cb14', 'cb15', 'cb16', 'cb17', 'cb18', 'cb19', 'cb20', 'cb21', 'cb22', 'cb23', 'cb24', 'cb25', 'cb26', 'cb27', 'cc01', 'cc02', 'cc03', 'cc04', 'cc05', 'cc06', 'cc07', 'cc08', 'cc09', 'cc10', 'cc11', 'cc12', 'cc13', 'cc14', 'cc15', 'cc16', 'cc17', 'cd01', 'cd02', 'cd03', 'cd04', 'cd05', 'cd06', 'cd07', 'cd08', 'cd09', 'cd10', 'cd11', 'cd12']\n"
     ]
    }
   ],
   "source": [
    "# Top 100 sources.\n",
    "print(brown.fileids()[:100])"
   ]
  },
  {
   "cell_type": "code",
   "execution_count": 7,
   "id": "adc17cb6",
   "metadata": {
    "colab": {
     "base_uri": "https://localhost:8080/"
    },
    "execution": {
     "iopub.execute_input": "2022-05-20T01:07:47.857206Z",
     "iopub.status.busy": "2022-05-20T01:07:47.856602Z",
     "iopub.status.idle": "2022-05-20T01:07:47.861844Z",
     "shell.execute_reply": "2022-05-20T01:07:47.861053Z"
    },
    "id": "adc17cb6",
    "outputId": "fe7d08cd-31f5-4bc0-fe76-e80dc3cd1303",
    "papermill": {
     "duration": 0.045862,
     "end_time": "2022-05-20T01:07:47.863802",
     "exception": false,
     "start_time": "2022-05-20T01:07:47.817940",
     "status": "completed"
    },
    "tags": []
   },
   "outputs": [
    {
     "name": "stdout",
     "output_type": "stream",
     "text": [
      "Assembly/nn-hl session/nn-hl brought/vbd-hl much/ap-hl good/nn-hl \n",
      "The/at General/jj-tl Assembly/nn-tl ,/, which/wdt adjourns/vbz today/nr ,/, has/hvz performed/vbn in/in an/at atmosphere/nn of/in crisis/nn and/cc struggle/nn from/in the/at day/nn it/pps convened/vbd ./.\n",
      "It/pps was/bedz faced/vbn immediately/rb with/in a/at showdown/nn on/in the/at schools/nns ,/, an/at issue/nn which/wdt was/bedz met/vbn squarely/rb in/in conjunction/nn with/in the/at governor/nn with/in a/at decision/nn not/* to/to risk/vb abandoning/vbg public/nn education/nn ./.\n",
      "\n",
      "\n",
      "\tThere/ex followed/vbd the/at historic/jj appropriations/nns and/cc budget/nn fight/nn ,/, in/in which/wdt the/at General/jj-tl Assembly/nn-tl decided/vbd to/to tackle/vb executive/nn powers/nns ./.\n",
      "The/at final/jj decision/nn went/vbd to/in the/at executive/nn but/cc a/at way/nn has/hvz been/ben opened/vbn for/in strengthening/vbg budgeting/vbg procedures/nns and/cc to/to provide/vb legislators/nns information/nn they/ppss need/vb ./.\n",
      "\n",
      "\n",
      "\n"
     ]
    }
   ],
   "source": [
    "# First 1,000 characters.\n",
    "print(brown.raw('cb01').strip()[:1000])"
   ]
  },
  {
   "cell_type": "code",
   "execution_count": 8,
   "id": "6de2f78a",
   "metadata": {
    "colab": {
     "base_uri": "https://localhost:8080/"
    },
    "execution": {
     "iopub.execute_input": "2022-05-20T01:07:47.941684Z",
     "iopub.status.busy": "2022-05-20T01:07:47.940870Z",
     "iopub.status.idle": "2022-05-20T01:07:47.947109Z",
     "shell.execute_reply": "2022-05-20T01:07:47.946164Z"
    },
    "id": "6de2f78a",
    "outputId": "4c87e038-7ff1-4448-852b-5526bab5f2b5",
    "papermill": {
     "duration": 0.047605,
     "end_time": "2022-05-20T01:07:47.949127",
     "exception": false,
     "start_time": "2022-05-20T01:07:47.901522",
     "status": "completed"
    },
    "tags": []
   },
   "outputs": [
    {
     "data": {
      "text/plain": [
       "['firefox.txt',\n",
       " 'grail.txt',\n",
       " 'overheard.txt',\n",
       " 'pirates.txt',\n",
       " 'singles.txt',\n",
       " 'wine.txt']"
      ]
     },
     "execution_count": 8,
     "metadata": {},
     "output_type": "execute_result"
    }
   ],
   "source": [
    "# Now we will check out webtext, another corpus.\n",
    "# Here we examine the names of the documents in it.\n",
    "webtext.fileids()"
   ]
  },
  {
   "cell_type": "code",
   "execution_count": 9,
   "id": "a6b949d4",
   "metadata": {
    "colab": {
     "base_uri": "https://localhost:8080/"
    },
    "execution": {
     "iopub.execute_input": "2022-05-20T01:07:48.028245Z",
     "iopub.status.busy": "2022-05-20T01:07:48.027916Z",
     "iopub.status.idle": "2022-05-20T01:07:48.037269Z",
     "shell.execute_reply": "2022-05-20T01:07:48.036144Z"
    },
    "id": "a6b949d4",
    "outputId": "0548471d-c613-45f4-a388-783d82d37ad4",
    "papermill": {
     "duration": 0.051174,
     "end_time": "2022-05-20T01:07:48.039667",
     "exception": false,
     "start_time": "2022-05-20T01:07:47.988493",
     "status": "completed"
    },
    "tags": []
   },
   "outputs": [
    {
     "name": "stdout",
     "output_type": "stream",
     "text": [
      "0:\t25 SEXY MALE, seeks attrac older single lady, for discreet encounters.\n",
      "1:\t35YO Security Guard, seeking lady in uniform for fun times.\n",
      "2:\t40 yo SINGLE DAD, sincere friendly DTE seeks r/ship with fem age open S/E\n",
      "3:\t44yo tall seeks working single mum or lady below 45 fship rship. Nat Open\n",
      "4:\t6.2 35 yr old OUTGOING M seeks fem 28-35 for o/door sports - w/e away\n",
      "5:\tA professional business male, late 40s, 6 feet tall, slim build, well groomed, great personality, home owner, interests include the arts travel and all things good, Ringwood area, is seeking a genuine female of similar age or older, in same area or surrounds, for a meaningful long term rship. Looking forward to hearing from you all.\n",
      "6:\tABLE young man seeks, sexy older women. Phone for fun ready to play\n",
      "7:\tAFFECTIONATE LADY Sought by generous guy, 40s, mutual fulfillment\n",
      "8:\tARE YOU ALONE or lost in a r/ship too, with no hope in sight? Maybe we could explore new beginnings together? Im 45 Slim/Med build, GSOH, high needs and looking for someone similar. You WONT be disappointed.\n",
      "9:\tAMIABLE 43 y.o. gentleman with European background, 170 cm, medium build, employed, never married, no children. Enjoys sports, music, cafes, beach &c. Seeks an honest, attractive lady with a European background, without children, who would like to get married and have chil dren in the future. 29-39 y.o. Prefer non-smoker and living in Adelaide.\n",
      "10:\tARE YOU A COPPER REDHEAD? I am 36 y.o. and looking for companionship/friendship. I enjoy the AFL, animals and dining out.\n"
     ]
    }
   ],
   "source": [
    "# For fun, we'll look at some singles ads in webtext.\n",
    "# We will perform some NLP tasks with them, including tokenizing and\n",
    "# removing stopwords, which are common words (a, an, etc.) and do not\n",
    "# give the model useful information.\n",
    "\n",
    "# For each instance (#:) and line of the singles ads.\n",
    "for i, line in enumerate(webtext.raw('singles.txt').split('\\n')):\n",
    "    \n",
    "    # Stop when we get to #10 (net #11)\n",
    "    if i > 10:\n",
    "        break\n",
    "        \n",
    "    # Otherwise, print the number, tab space in between, then the line.\n",
    "    # A bunch of fun ones in there.\n",
    "    print(str(i) + ':\\t' + line)"
   ]
  },
  {
   "cell_type": "code",
   "execution_count": 66,
   "id": "087e3c64",
   "metadata": {
    "colab": {
     "base_uri": "https://localhost:8080/"
    },
    "execution": {
     "iopub.execute_input": "2022-05-20T01:07:48.120299Z",
     "iopub.status.busy": "2022-05-20T01:07:48.119421Z",
     "iopub.status.idle": "2022-05-20T01:07:48.125340Z",
     "shell.execute_reply": "2022-05-20T01:07:48.124001Z"
    },
    "id": "087e3c64",
    "outputId": "e09b15ee-1f27-4674-fe57-e7e2dd06635c",
    "papermill": {
     "duration": 0.048239,
     "end_time": "2022-05-20T01:07:48.127270",
     "exception": false,
     "start_time": "2022-05-20T01:07:48.079031",
     "status": "completed"
    },
    "tags": []
   },
   "outputs": [
    {
     "name": "stdout",
     "output_type": "stream",
     "text": [
      "4\n"
     ]
    }
   ],
   "source": [
    "# For fun, we will examine a candidate in further depth.\n",
    "# Let's generate a random integer to choose.\n",
    "num = random.randint(0,10)\n",
    "print(num)"
   ]
  },
  {
   "cell_type": "code",
   "execution_count": 67,
   "id": "f4d3572d",
   "metadata": {
    "colab": {
     "base_uri": "https://localhost:8080/"
    },
    "execution": {
     "iopub.execute_input": "2022-05-20T01:07:48.206650Z",
     "iopub.status.busy": "2022-05-20T01:07:48.205827Z",
     "iopub.status.idle": "2022-05-20T01:07:48.212339Z",
     "shell.execute_reply": "2022-05-20T01:07:48.211089Z"
    },
    "id": "f4d3572d",
    "outputId": "0b34ca4f-154e-447b-98fc-ddf61384bfed",
    "papermill": {
     "duration": 0.048192,
     "end_time": "2022-05-20T01:07:48.214204",
     "exception": false,
     "start_time": "2022-05-20T01:07:48.166012",
     "status": "completed"
    },
    "tags": []
   },
   "outputs": [
    {
     "name": "stdout",
     "output_type": "stream",
     "text": [
      "6.2 35 yr old OUTGOING M seeks fem 28-35 for o/door sports - w/e away\n"
     ]
    }
   ],
   "source": [
    "# Here's our ad. Seems normal enough.\n",
    "person = webtext.raw('singles.txt').split('\\n')[num]\n",
    "print(person)"
   ]
  },
  {
   "cell_type": "code",
   "execution_count": 68,
   "id": "805d823b",
   "metadata": {
    "colab": {
     "base_uri": "https://localhost:8080/"
    },
    "execution": {
     "iopub.execute_input": "2022-05-20T01:07:48.294697Z",
     "iopub.status.busy": "2022-05-20T01:07:48.294409Z",
     "iopub.status.idle": "2022-05-20T01:07:48.308554Z",
     "shell.execute_reply": "2022-05-20T01:07:48.307621Z"
    },
    "id": "805d823b",
    "outputId": "a9577d86-ba5b-4b57-bbdc-875e5876f2d4",
    "papermill": {
     "duration": 0.056588,
     "end_time": "2022-05-20T01:07:48.310634",
     "exception": false,
     "start_time": "2022-05-20T01:07:48.254046",
     "status": "completed"
    },
    "tags": []
   },
   "outputs": [
    {
     "data": {
      "text/plain": [
       "['6.2 35 yr old OUTGOING M seeks fem 28-35 for o/door sports - w/e away']"
      ]
     },
     "execution_count": 68,
     "metadata": {},
     "output_type": "execute_result"
    }
   ],
   "source": [
    "# Let's tokenize this person's ad by sentences.\n",
    "sent_tokenize(person)"
   ]
  },
  {
   "cell_type": "code",
   "execution_count": 69,
   "id": "b02f8cce",
   "metadata": {
    "colab": {
     "base_uri": "https://localhost:8080/"
    },
    "execution": {
     "iopub.execute_input": "2022-05-20T01:07:48.390320Z",
     "iopub.status.busy": "2022-05-20T01:07:48.390022Z",
     "iopub.status.idle": "2022-05-20T01:07:48.395916Z",
     "shell.execute_reply": "2022-05-20T01:07:48.394902Z"
    },
    "id": "b02f8cce",
    "outputId": "ff8f6f40-7f94-435b-aee6-c9b863614539",
    "papermill": {
     "duration": 0.048526,
     "end_time": "2022-05-20T01:07:48.398469",
     "exception": false,
     "start_time": "2022-05-20T01:07:48.349943",
     "status": "completed"
    },
    "tags": []
   },
   "outputs": [
    {
     "name": "stdout",
     "output_type": "stream",
     "text": [
      "['6.2', '35', 'yr', 'old', 'outgoing', 'm', 'seeks', 'fem', '28-35', 'for', 'o/door', 'sports', '-', 'w/e', 'away']\n"
     ]
    }
   ],
   "source": [
    "# A quick for loop.\n",
    "for sent in sent_tokenize(person):\n",
    "    \n",
    "    # Lowercasing makes our text more useful - we're comparing\n",
    "    # apples to apples. The first of many generators is,\n",
    "    # ironically, in a list comprehension.\n",
    "    print([word.lower() for word in word_tokenize(sent)])\n"
   ]
  },
  {
   "cell_type": "code",
   "execution_count": 70,
   "id": "a82bb18b",
   "metadata": {
    "colab": {
     "base_uri": "https://localhost:8080/"
    },
    "execution": {
     "iopub.execute_input": "2022-05-20T01:07:48.480618Z",
     "iopub.status.busy": "2022-05-20T01:07:48.480303Z",
     "iopub.status.idle": "2022-05-20T01:07:48.484409Z",
     "shell.execute_reply": "2022-05-20T01:07:48.483536Z"
    },
    "id": "a82bb18b",
    "outputId": "50d3e498-1cae-40f2-b275-e1f1f5094cdc",
    "papermill": {
     "duration": 0.04718,
     "end_time": "2022-05-20T01:07:48.486929",
     "exception": false,
     "start_time": "2022-05-20T01:07:48.439749",
     "status": "completed"
    },
    "tags": []
   },
   "outputs": [
    {
     "name": "stdout",
     "output_type": "stream",
     "text": [
      "['6.2', '35', 'yr', 'old', 'OUTGOING', 'M', 'seeks', 'fem', '28-35', 'for', 'o/door', 'sports', '-', 'w/e', 'away']\n"
     ]
    }
   ],
   "source": [
    "# Then we'll tokenize the words.\n",
    "print(word_tokenize(person))"
   ]
  },
  {
   "cell_type": "code",
   "execution_count": 83,
   "id": "a5536725",
   "metadata": {
    "execution": {
     "iopub.execute_input": "2022-05-20T01:07:48.571257Z",
     "iopub.status.busy": "2022-05-20T01:07:48.570995Z",
     "iopub.status.idle": "2022-05-20T01:07:48.574135Z",
     "shell.execute_reply": "2022-05-20T01:07:48.573469Z"
    },
    "id": "a5536725",
    "papermill": {
     "duration": 0.04659,
     "end_time": "2022-05-20T01:07:48.575840",
     "exception": false,
     "start_time": "2022-05-20T01:07:48.529250",
     "status": "completed"
    },
    "tags": []
   },
   "outputs": [],
   "source": [
    "# We'll pull up a second ad.\n",
    "# No repeats, so we set the upper cap of the\n",
    "# random number generator to be less than our \n",
    "# previous number.\n",
    "# Just to be extra safe, we'll take one off of that, too.\n",
    "second_num = random.randint(0,(10-num))"
   ]
  },
  {
   "cell_type": "code",
   "execution_count": 84,
   "id": "da412525",
   "metadata": {
    "colab": {
     "base_uri": "https://localhost:8080/"
    },
    "execution": {
     "iopub.execute_input": "2022-05-20T01:07:48.658007Z",
     "iopub.status.busy": "2022-05-20T01:07:48.657668Z",
     "iopub.status.idle": "2022-05-20T01:07:48.661780Z",
     "shell.execute_reply": "2022-05-20T01:07:48.661180Z"
    },
    "id": "da412525",
    "outputId": "77a0aa08-64f2-45fd-bba0-58768e311d5b",
    "papermill": {
     "duration": 0.047625,
     "end_time": "2022-05-20T01:07:48.663742",
     "exception": false,
     "start_time": "2022-05-20T01:07:48.616117",
     "status": "completed"
    },
    "tags": []
   },
   "outputs": [
    {
     "name": "stdout",
     "output_type": "stream",
     "text": [
      "0\n"
     ]
    }
   ],
   "source": [
    "# Here it is.\n",
    "print(second_num)"
   ]
  },
  {
   "cell_type": "code",
   "execution_count": 85,
   "id": "39149756",
   "metadata": {
    "colab": {
     "base_uri": "https://localhost:8080/"
    },
    "execution": {
     "iopub.execute_input": "2022-05-20T01:07:48.745400Z",
     "iopub.status.busy": "2022-05-20T01:07:48.745121Z",
     "iopub.status.idle": "2022-05-20T01:07:48.751132Z",
     "shell.execute_reply": "2022-05-20T01:07:48.749833Z"
    },
    "id": "39149756",
    "outputId": "4f4f0d2f-7b92-4f0c-8874-a26ffdf31b23",
    "papermill": {
     "duration": 0.048655,
     "end_time": "2022-05-20T01:07:48.752939",
     "exception": false,
     "start_time": "2022-05-20T01:07:48.704284",
     "status": "completed"
    },
    "tags": []
   },
   "outputs": [
    {
     "name": "stdout",
     "output_type": "stream",
     "text": [
      "25 SEXY MALE, seeks attrac older single lady, for discreet encounters.\n"
     ]
    }
   ],
   "source": [
    "# Second ad. Oh boy.\n",
    "person_two = webtext.raw('singles.txt').split('\\n')[second_num]\n",
    "print(person_two)"
   ]
  },
  {
   "cell_type": "code",
   "execution_count": 86,
   "id": "419efbd1",
   "metadata": {
    "colab": {
     "base_uri": "https://localhost:8080/"
    },
    "execution": {
     "iopub.execute_input": "2022-05-20T01:07:48.836752Z",
     "iopub.status.busy": "2022-05-20T01:07:48.836477Z",
     "iopub.status.idle": "2022-05-20T01:07:48.841287Z",
     "shell.execute_reply": "2022-05-20T01:07:48.840314Z"
    },
    "id": "419efbd1",
    "outputId": "248f5fc0-37ae-4fb3-b099-79ad182e9b8e",
    "papermill": {
     "duration": 0.04913,
     "end_time": "2022-05-20T01:07:48.843241",
     "exception": false,
     "start_time": "2022-05-20T01:07:48.794111",
     "status": "completed"
    },
    "tags": []
   },
   "outputs": [
    {
     "data": {
      "text/plain": [
       "['25 SEXY MALE, seeks attrac older single lady, for discreet encounters.']"
      ]
     },
     "execution_count": 86,
     "metadata": {},
     "output_type": "execute_result"
    }
   ],
   "source": [
    "# Second ad tokenized.\n",
    "sent_tokenize(person_two)"
   ]
  },
  {
   "cell_type": "code",
   "execution_count": 87,
   "id": "c614ca93",
   "metadata": {
    "colab": {
     "base_uri": "https://localhost:8080/"
    },
    "execution": {
     "iopub.execute_input": "2022-05-20T01:07:48.928476Z",
     "iopub.status.busy": "2022-05-20T01:07:48.928201Z",
     "iopub.status.idle": "2022-05-20T01:07:48.935626Z",
     "shell.execute_reply": "2022-05-20T01:07:48.934552Z"
    },
    "id": "c614ca93",
    "outputId": "b55b7e16-5a87-4545-c318-09bbd0cd71ed",
    "papermill": {
     "duration": 0.052297,
     "end_time": "2022-05-20T01:07:48.938079",
     "exception": false,
     "start_time": "2022-05-20T01:07:48.885782",
     "status": "completed"
    },
    "tags": []
   },
   "outputs": [
    {
     "name": "stdout",
     "output_type": "stream",
     "text": [
      "{'its', 'too', \"didn't\", 'if', 'same', 'were', 'm', 'shan', 'other', 'few', 'between', 'itself', \"wasn't\", 'any', 'yours', \"needn't\", 'not', \"shouldn't\", 'to', 'by', 'won', \"hasn't\", 'until', 'am', 'for', 'did', 'above', 'haven', 'them', 'our', 'being', 'it', 'all', 'aren', 'shouldn', \"you'll\", 'or', 'having', 'and', 'out', 're', \"hadn't\", 'which', 'there', 'isn', 'an', 'we', 'couldn', 'through', 'such', 'how', 'just', 'don', 'they', \"should've\", 'before', 'most', 'had', 'in', 'over', 've', 'are', 'down', 'then', 'own', 'during', 'himself', 'those', 'against', 'from', 'where', 'ain', \"won't\", 'myself', \"mustn't\", \"aren't\", 'your', \"wouldn't\", \"shan't\", 'after', 'd', 'so', 'theirs', 'while', 'needn', 'under', 'this', \"haven't\", 'nor', \"you've\", 'wasn', 'now', 'their', 'of', 'when', 'here', 'ours', 'who', 'didn', 'weren', \"you're\", 'has', \"weren't\", 'themselves', 't', 'these', 'him', 'herself', 'have', 'about', 'both', 's', 'whom', 'only', 'me', \"isn't\", 'more', 'a', 'doing', 'what', 'will', 'because', 'with', 'very', 'you', 'yourself', 'yourselves', 'at', 'hers', 'been', 'again', 'hasn', 'does', 'but', \"that'll\", 'wouldn', \"you'd\", 'she', 'ma', 'mustn', 'on', 'off', 'my', \"she's\", 'o', 'ourselves', 'his', 'should', \"it's\", 'y', 'he', 'can', 'hadn', 'was', 'why', 'each', 'than', \"mightn't\", 'as', 'the', 'her', 'that', 'is', \"couldn't\", 'doesn', 'll', 'some', 'be', 'into', 'once', \"doesn't\", 'do', 'below', 'further', 'mightn', 'up', 'i', \"don't\", 'no'}\n"
     ]
    }
   ],
   "source": [
    "# Now we need to get rid of stopwords.\n",
    "# It's faster to generate a set vs. list so we'll do that here.\n",
    "english_stopwords = set(stopwords.words('english'))\n",
    "print(english_stopwords)"
   ]
  },
  {
   "cell_type": "code",
   "execution_count": 97,
   "id": "6c538765",
   "metadata": {
    "colab": {
     "base_uri": "https://localhost:8080/"
    },
    "execution": {
     "iopub.execute_input": "2022-05-20T01:07:49.023752Z",
     "iopub.status.busy": "2022-05-20T01:07:49.022935Z",
     "iopub.status.idle": "2022-05-20T01:07:49.027487Z",
     "shell.execute_reply": "2022-05-20T01:07:49.026954Z"
    },
    "id": "6c538765",
    "outputId": "52c3f2d4-ec38-4f4d-c332-4e3609c485f1",
    "papermill": {
     "duration": 0.049084,
     "end_time": "2022-05-20T01:07:49.029370",
     "exception": false,
     "start_time": "2022-05-20T01:07:48.980286",
     "status": "completed"
    },
    "tags": []
   },
   "outputs": [
    {
     "name": "stdout",
     "output_type": "stream",
     "text": [
      "['6.2', '35', 'yr', 'old', 'outgoing', 'm', 'seeks', 'fem', '28-35', 'for', 'o/door', 'sports', '-', 'w/e', 'away']\n"
     ]
    }
   ],
   "source": [
    "# Now we will tokenize and lowercase the whole first ad.\n",
    "ptl = list(map(str.lower, word_tokenize(person)))\n",
    "print(person_tokenized_lowercase)"
   ]
  },
  {
   "cell_type": "code",
   "execution_count": 98,
   "id": "d1345365",
   "metadata": {
    "colab": {
     "base_uri": "https://localhost:8080/"
    },
    "execution": {
     "iopub.execute_input": "2022-05-20T01:07:49.115608Z",
     "iopub.status.busy": "2022-05-20T01:07:49.115113Z",
     "iopub.status.idle": "2022-05-20T01:07:49.118780Z",
     "shell.execute_reply": "2022-05-20T01:07:49.118241Z"
    },
    "id": "d1345365",
    "outputId": "2b4bf907-aaa8-4171-e99c-fb6ad92b18dd",
    "papermill": {
     "duration": 0.048453,
     "end_time": "2022-05-20T01:07:49.120932",
     "exception": false,
     "start_time": "2022-05-20T01:07:49.072479",
     "status": "completed"
    },
    "tags": []
   },
   "outputs": [
    {
     "name": "stdout",
     "output_type": "stream",
     "text": [
      "['6.2', '35', 'yr', 'old', 'outgoing', 'seeks', 'fem', '28-35', 'o/door', 'sports', '-', 'w/e', 'away']\n"
     ]
    }
   ],
   "source": [
    "# Sans stopwords!\n",
    "print([word for word in ptl if word not in english_stopwords])"
   ]
  },
  {
   "cell_type": "code",
   "execution_count": 99,
   "id": "9f054bab",
   "metadata": {
    "colab": {
     "base_uri": "https://localhost:8080/"
    },
    "execution": {
     "iopub.execute_input": "2022-05-20T01:07:49.205342Z",
     "iopub.status.busy": "2022-05-20T01:07:49.204905Z",
     "iopub.status.idle": "2022-05-20T01:07:49.209766Z",
     "shell.execute_reply": "2022-05-20T01:07:49.208857Z"
    },
    "id": "9f054bab",
    "outputId": "4e6a8b69-10c4-46a9-e370-4ad4b367634d",
    "papermill": {
     "duration": 0.048903,
     "end_time": "2022-05-20T01:07:49.211435",
     "exception": false,
     "start_time": "2022-05-20T01:07:49.162532",
     "status": "completed"
    },
    "tags": []
   },
   "outputs": [
    {
     "name": "stdout",
     "output_type": "stream",
     "text": [
      "['its', '{', 'too', '!', \"didn't\", 'if', '/', 'same', 'were', 'm', 'shan', '_', 'other', ',', 'few', 'between', 'itself', \"wasn't\", 'any', 'yours', \"needn't\", 'not', \"shouldn't\", 'to', ']', 'by', '+', 'won', \"hasn't\", 'until', 'am', '%', 'for', 'did', '#', 'above', '}', 'haven', 'them', 'our', 'being', ';', 'it', 'all', 'aren', 'shouldn', \"you'll\", 'or', 'having', 'and', 'out', 're', '`', \"hadn't\", 'which', 'there', 'isn', '\"', 'an', 'we', 'couldn', 'through', 'such', 'how', 'just', 'don', '*', ':', 'they', \"should've\", 'before', 'most', 'had', 'in', 'over', 've', 'are', 'down', 'then', 'own', 'during', '&', 'himself', 'those', 'against', 'from', 'where', 'ain', \"won't\", 'myself', '(', \"mustn't\", \"aren't\", 'your', \"wouldn't\", \"shan't\", '>', 'after', 'd', 'so']\n"
     ]
    }
   ],
   "source": [
    "# Punctuation doesn't help our models, either, so it makes sense to\n",
    "# create a new set by joining the stopwords set with a new set of punctuation.\n",
    "english_stopwords_punctuation = english_stopwords.union(set(punctuation))\n",
    "# Print the first 100 (list comprehension purely for indexing purposes\n",
    "# since sets aren't subscriptable).\n",
    "print(list(english_stopwords_punctuation)[0:100])"
   ]
  },
  {
   "cell_type": "code",
   "execution_count": 101,
   "id": "cd4797fa",
   "metadata": {
    "colab": {
     "base_uri": "https://localhost:8080/"
    },
    "execution": {
     "iopub.execute_input": "2022-05-20T01:07:49.296620Z",
     "iopub.status.busy": "2022-05-20T01:07:49.296074Z",
     "iopub.status.idle": "2022-05-20T01:07:49.300717Z",
     "shell.execute_reply": "2022-05-20T01:07:49.299602Z"
    },
    "id": "cd4797fa",
    "outputId": "7fa43f30-2010-478b-af16-9c6514bdde0f",
    "papermill": {
     "duration": 0.049409,
     "end_time": "2022-05-20T01:07:49.302662",
     "exception": false,
     "start_time": "2022-05-20T01:07:49.253253",
     "status": "completed"
    },
    "tags": []
   },
   "outputs": [
    {
     "name": "stdout",
     "output_type": "stream",
     "text": [
      "['6.2', '35', 'yr', 'old', 'outgoing', 'seeks', 'fem', '28-35', 'o/door', 'sports', 'w/e', 'away']\n"
     ]
    }
   ],
   "source": [
    "# The ad, sans stopwords and punctuation.\n",
    "print([word for word in ptl if word not in english_stopwords_punctuation])"
   ]
  },
  {
   "cell_type": "code",
   "execution_count": 102,
   "id": "5a5d9078",
   "metadata": {
    "execution": {
     "iopub.execute_input": "2022-05-20T01:07:49.388517Z",
     "iopub.status.busy": "2022-05-20T01:07:49.387523Z",
     "iopub.status.idle": "2022-05-20T01:07:49.579193Z",
     "shell.execute_reply": "2022-05-20T01:07:49.578203Z"
    },
    "id": "5a5d9078",
    "papermill": {
     "duration": 0.236748,
     "end_time": "2022-05-20T01:07:49.581530",
     "exception": false,
     "start_time": "2022-05-20T01:07:49.344782",
     "status": "completed"
    },
    "tags": []
   },
   "outputs": [],
   "source": [
    "# Here we will get more stopwords to get rid of all the \"dangling\" verbs.\n",
    "# The only way we can read this into a DataFrame is by index and then transpose it so we can pull \"en.\" \n",
    "# Then drop nulls.\n",
    "more_stopwords = pd.read_json(\\\n",
    "    \"https://raw.githubusercontent.com/6/stopwords-json/\" + \\\n",
    "    \"master/stopwords-all.json\",\\\n",
    "    orient=\"index\").transpose()[\"en\"].dropna()"
   ]
  },
  {
   "cell_type": "code",
   "execution_count": 103,
   "id": "93de4267",
   "metadata": {
    "colab": {
     "base_uri": "https://localhost:8080/"
    },
    "execution": {
     "iopub.execute_input": "2022-05-20T01:07:49.668474Z",
     "iopub.status.busy": "2022-05-20T01:07:49.667737Z",
     "iopub.status.idle": "2022-05-20T01:07:49.673038Z",
     "shell.execute_reply": "2022-05-20T01:07:49.672241Z"
    },
    "id": "93de4267",
    "outputId": "d9988b27-f1c6-47ff-cd6c-be008739e63b",
    "papermill": {
     "duration": 0.051298,
     "end_time": "2022-05-20T01:07:49.675866",
     "exception": false,
     "start_time": "2022-05-20T01:07:49.624568",
     "status": "completed"
    },
    "tags": []
   },
   "outputs": [
    {
     "name": "stdout",
     "output_type": "stream",
     "text": [
      "{'aside', 'consequently', 'apart', 'certainly', 'between', 'any', 'besides', 'able', 'cant', 'by', 'becoming', 'around', 'beside', 'becomes', 'always', 'am', 'above', 'ask', 'being', 'all', 'alone', 'among', \"can't\", 'and', 'come', 'also', 'amongst', 'anyways', 'an', 'b', 'before', 'anyhow', 'accordingly', 'actually', 'appear', 'are', 'com', 'against', 'became', 'changes', 'behind', \"aren't\", 'after', 'almost', 'cause', 'certain', \"a's\", 'appropriate', 'become', 'c', 'associated', 'across', 'along', 'best', 'afterwards', \"ain't\", 'concerning', 'about', 'both', 'believe', 'allows', 'a', 'anybody', 'came', 'comes', 'because', 'brief', \"c's\", 'according', 'clearly', 'allow', 'although', 'anywhere', \"c'mon\", 'at', 'again', 'been', 'away', 'but', 'considering', 'already', 'available', 'can', 'co', 'another', 'causes', 'as', 'anyway', 'anything', 'awfully', 'consider', 'better', 'be', 'asking', 'below', 'appreciate', 'beyond', 'beforehand', 'anyone', 'cannot'}\n"
     ]
    }
   ],
   "source": [
    "# Here they are.\n",
    "# Ironically since we are using an array, we have to convert it to\n",
    "# a set so we can see the whole 100!\n",
    "# Otherwise, we'd only see 0-4 and 95-99.\n",
    "print(set(more_stopwords[0:100]))"
   ]
  },
  {
   "cell_type": "code",
   "execution_count": 104,
   "id": "1aab909a",
   "metadata": {
    "colab": {
     "base_uri": "https://localhost:8080/"
    },
    "execution": {
     "iopub.execute_input": "2022-05-20T01:07:49.763575Z",
     "iopub.status.busy": "2022-05-20T01:07:49.763137Z",
     "iopub.status.idle": "2022-05-20T01:07:49.768715Z",
     "shell.execute_reply": "2022-05-20T01:07:49.767709Z"
    },
    "id": "1aab909a",
    "outputId": "bb407e4a-65d3-478d-e5dd-a6402c54d13c",
    "papermill": {
     "duration": 0.051252,
     "end_time": "2022-05-20T01:07:49.770737",
     "exception": false,
     "start_time": "2022-05-20T01:07:49.719485",
     "status": "completed"
    },
    "tags": []
   },
   "outputs": [
    {
     "name": "stdout",
     "output_type": "stream",
     "text": [
      "Length of Combined Stoplist: 631\n"
     ]
    }
   ],
   "source": [
    "# Monster set! This will help us filter out a lot of noise.\n",
    "combined_stoplist = set.union(english_stopwords_punctuation, more_stopwords)\n",
    "print(f\"Length of Combined Stoplist: {len(combined_stoplist)}\")\n"
   ]
  },
  {
   "cell_type": "code",
   "execution_count": 105,
   "id": "c8708636",
   "metadata": {
    "colab": {
     "base_uri": "https://localhost:8080/"
    },
    "execution": {
     "iopub.execute_input": "2022-05-20T01:07:49.859400Z",
     "iopub.status.busy": "2022-05-20T01:07:49.859133Z",
     "iopub.status.idle": "2022-05-20T01:07:49.862897Z",
     "shell.execute_reply": "2022-05-20T01:07:49.862284Z"
    },
    "id": "c8708636",
    "outputId": "a52076d2-76b2-49cb-eaf5-3a2d4e0e1cf3",
    "papermill": {
     "duration": 0.050154,
     "end_time": "2022-05-20T01:07:49.864941",
     "exception": false,
     "start_time": "2022-05-20T01:07:49.814787",
     "status": "completed"
    },
    "tags": []
   },
   "outputs": [
    {
     "name": "stdout",
     "output_type": "stream",
     "text": [
      "With combined stopwords:     ['6.2', '35', 'yr', 'outgoing', 'seeks', 'fem', '28-35', 'o/door', 'sports', 'w/e']\n"
     ]
    }
   ],
   "source": [
    "# The second ad with the combined stoplist.\n",
    "print(f\"With combined stopwords: \\\n",
    "    {[word for word in ptl if word not in combined_stoplist]}\")"
   ]
  },
  {
   "cell_type": "code",
   "execution_count": 106,
   "id": "aa323f2d",
   "metadata": {
    "execution": {
     "iopub.execute_input": "2022-05-20T01:07:49.953003Z",
     "iopub.status.busy": "2022-05-20T01:07:49.952441Z",
     "iopub.status.idle": "2022-05-20T01:07:50.079408Z",
     "shell.execute_reply": "2022-05-20T01:07:50.078620Z"
    },
    "id": "aa323f2d",
    "papermill": {
     "duration": 0.173477,
     "end_time": "2022-05-20T01:07:50.081723",
     "exception": false,
     "start_time": "2022-05-20T01:07:49.908246",
     "status": "completed"
    },
    "tags": []
   },
   "outputs": [],
   "source": [
    "# This is where the fun begins!\n",
    "\n",
    "# For the main part of the assignment, We'll be analyzing airline\n",
    "# passenger tweets for sentiment.\n",
    "\n",
    "# Our target variable is airline_sentiment:\n",
    "#     positive\n",
    "#     neutral\n",
    "#     negative\n",
    "\n",
    "# Given these are distinct categories, this is a multi-class\n",
    "# classification problem.\n",
    "\n",
    "tas = pd.read_csv(\"https://raw.githubusercontent.com/yxccxxx/Twitter-Airline\"\\\n",
    "    +\"-Sentiment-Analysis/master/Tweets.csv\")"
   ]
  },
  {
   "cell_type": "code",
   "execution_count": 107,
   "id": "20e2a390",
   "metadata": {
    "colab": {
     "base_uri": "https://localhost:8080/",
     "height": 496
    },
    "execution": {
     "iopub.execute_input": "2022-05-20T01:07:50.170525Z",
     "iopub.status.busy": "2022-05-20T01:07:50.169875Z",
     "iopub.status.idle": "2022-05-20T01:07:50.190715Z",
     "shell.execute_reply": "2022-05-20T01:07:50.189851Z"
    },
    "id": "20e2a390",
    "outputId": "11f7eb64-0fc1-4fa8-bb0a-0a5e4ae45b31",
    "papermill": {
     "duration": 0.067811,
     "end_time": "2022-05-20T01:07:50.192716",
     "exception": false,
     "start_time": "2022-05-20T01:07:50.124905",
     "status": "completed"
    },
    "tags": []
   },
   "outputs": [
    {
     "data": {
      "text/html": [
       "<div>\n",
       "<style scoped>\n",
       "    .dataframe tbody tr th:only-of-type {\n",
       "        vertical-align: middle;\n",
       "    }\n",
       "\n",
       "    .dataframe tbody tr th {\n",
       "        vertical-align: top;\n",
       "    }\n",
       "\n",
       "    .dataframe thead th {\n",
       "        text-align: right;\n",
       "    }\n",
       "</style>\n",
       "<table border=\"1\" class=\"dataframe\">\n",
       "  <thead>\n",
       "    <tr style=\"text-align: right;\">\n",
       "      <th></th>\n",
       "      <th>tweet_id</th>\n",
       "      <th>airline_sentiment</th>\n",
       "      <th>airline_sentiment_confidence</th>\n",
       "      <th>negativereason</th>\n",
       "      <th>negativereason_confidence</th>\n",
       "      <th>airline</th>\n",
       "      <th>airline_sentiment_gold</th>\n",
       "      <th>name</th>\n",
       "      <th>negativereason_gold</th>\n",
       "      <th>retweet_count</th>\n",
       "      <th>text</th>\n",
       "      <th>tweet_coord</th>\n",
       "      <th>tweet_created</th>\n",
       "      <th>tweet_location</th>\n",
       "      <th>user_timezone</th>\n",
       "    </tr>\n",
       "  </thead>\n",
       "  <tbody>\n",
       "    <tr>\n",
       "      <th>0</th>\n",
       "      <td>570306133677760513</td>\n",
       "      <td>neutral</td>\n",
       "      <td>1.0000</td>\n",
       "      <td>NaN</td>\n",
       "      <td>NaN</td>\n",
       "      <td>Virgin America</td>\n",
       "      <td>NaN</td>\n",
       "      <td>cairdin</td>\n",
       "      <td>NaN</td>\n",
       "      <td>0</td>\n",
       "      <td>@VirginAmerica What @dhepburn said.</td>\n",
       "      <td>NaN</td>\n",
       "      <td>2015-02-24 11:35:52 -0800</td>\n",
       "      <td>NaN</td>\n",
       "      <td>Eastern Time (US &amp; Canada)</td>\n",
       "    </tr>\n",
       "    <tr>\n",
       "      <th>1</th>\n",
       "      <td>570301130888122368</td>\n",
       "      <td>positive</td>\n",
       "      <td>0.3486</td>\n",
       "      <td>NaN</td>\n",
       "      <td>0.0000</td>\n",
       "      <td>Virgin America</td>\n",
       "      <td>NaN</td>\n",
       "      <td>jnardino</td>\n",
       "      <td>NaN</td>\n",
       "      <td>0</td>\n",
       "      <td>@VirginAmerica plus you've added commercials t...</td>\n",
       "      <td>NaN</td>\n",
       "      <td>2015-02-24 11:15:59 -0800</td>\n",
       "      <td>NaN</td>\n",
       "      <td>Pacific Time (US &amp; Canada)</td>\n",
       "    </tr>\n",
       "    <tr>\n",
       "      <th>2</th>\n",
       "      <td>570301083672813571</td>\n",
       "      <td>neutral</td>\n",
       "      <td>0.6837</td>\n",
       "      <td>NaN</td>\n",
       "      <td>NaN</td>\n",
       "      <td>Virgin America</td>\n",
       "      <td>NaN</td>\n",
       "      <td>yvonnalynn</td>\n",
       "      <td>NaN</td>\n",
       "      <td>0</td>\n",
       "      <td>@VirginAmerica I didn't today... Must mean I n...</td>\n",
       "      <td>NaN</td>\n",
       "      <td>2015-02-24 11:15:48 -0800</td>\n",
       "      <td>Lets Play</td>\n",
       "      <td>Central Time (US &amp; Canada)</td>\n",
       "    </tr>\n",
       "    <tr>\n",
       "      <th>3</th>\n",
       "      <td>570301031407624196</td>\n",
       "      <td>negative</td>\n",
       "      <td>1.0000</td>\n",
       "      <td>Bad Flight</td>\n",
       "      <td>0.7033</td>\n",
       "      <td>Virgin America</td>\n",
       "      <td>NaN</td>\n",
       "      <td>jnardino</td>\n",
       "      <td>NaN</td>\n",
       "      <td>0</td>\n",
       "      <td>@VirginAmerica it's really aggressive to blast...</td>\n",
       "      <td>NaN</td>\n",
       "      <td>2015-02-24 11:15:36 -0800</td>\n",
       "      <td>NaN</td>\n",
       "      <td>Pacific Time (US &amp; Canada)</td>\n",
       "    </tr>\n",
       "    <tr>\n",
       "      <th>4</th>\n",
       "      <td>570300817074462722</td>\n",
       "      <td>negative</td>\n",
       "      <td>1.0000</td>\n",
       "      <td>Can't Tell</td>\n",
       "      <td>1.0000</td>\n",
       "      <td>Virgin America</td>\n",
       "      <td>NaN</td>\n",
       "      <td>jnardino</td>\n",
       "      <td>NaN</td>\n",
       "      <td>0</td>\n",
       "      <td>@VirginAmerica and it's a really big bad thing...</td>\n",
       "      <td>NaN</td>\n",
       "      <td>2015-02-24 11:14:45 -0800</td>\n",
       "      <td>NaN</td>\n",
       "      <td>Pacific Time (US &amp; Canada)</td>\n",
       "    </tr>\n",
       "  </tbody>\n",
       "</table>\n",
       "</div>"
      ],
      "text/plain": [
       "             tweet_id airline_sentiment  airline_sentiment_confidence  \\\n",
       "0  570306133677760513           neutral                        1.0000   \n",
       "1  570301130888122368          positive                        0.3486   \n",
       "2  570301083672813571           neutral                        0.6837   \n",
       "3  570301031407624196          negative                        1.0000   \n",
       "4  570300817074462722          negative                        1.0000   \n",
       "\n",
       "  negativereason  negativereason_confidence         airline  \\\n",
       "0            NaN                        NaN  Virgin America   \n",
       "1            NaN                     0.0000  Virgin America   \n",
       "2            NaN                        NaN  Virgin America   \n",
       "3     Bad Flight                     0.7033  Virgin America   \n",
       "4     Can't Tell                     1.0000  Virgin America   \n",
       "\n",
       "  airline_sentiment_gold        name negativereason_gold  retweet_count  \\\n",
       "0                    NaN     cairdin                 NaN              0   \n",
       "1                    NaN    jnardino                 NaN              0   \n",
       "2                    NaN  yvonnalynn                 NaN              0   \n",
       "3                    NaN    jnardino                 NaN              0   \n",
       "4                    NaN    jnardino                 NaN              0   \n",
       "\n",
       "                                                text tweet_coord  \\\n",
       "0                @VirginAmerica What @dhepburn said.         NaN   \n",
       "1  @VirginAmerica plus you've added commercials t...         NaN   \n",
       "2  @VirginAmerica I didn't today... Must mean I n...         NaN   \n",
       "3  @VirginAmerica it's really aggressive to blast...         NaN   \n",
       "4  @VirginAmerica and it's a really big bad thing...         NaN   \n",
       "\n",
       "               tweet_created tweet_location               user_timezone  \n",
       "0  2015-02-24 11:35:52 -0800            NaN  Eastern Time (US & Canada)  \n",
       "1  2015-02-24 11:15:59 -0800            NaN  Pacific Time (US & Canada)  \n",
       "2  2015-02-24 11:15:48 -0800      Lets Play  Central Time (US & Canada)  \n",
       "3  2015-02-24 11:15:36 -0800            NaN  Pacific Time (US & Canada)  \n",
       "4  2015-02-24 11:14:45 -0800            NaN  Pacific Time (US & Canada)  "
      ]
     },
     "execution_count": 107,
     "metadata": {},
     "output_type": "execute_result"
    }
   ],
   "source": [
    "# Quick peek at the top of the data.\n",
    "tas.head()"
   ]
  },
  {
   "cell_type": "code",
   "execution_count": 118,
   "id": "9decd4da",
   "metadata": {
    "colab": {
     "base_uri": "https://localhost:8080/"
    },
    "execution": {
     "iopub.execute_input": "2022-05-20T01:07:50.282021Z",
     "iopub.status.busy": "2022-05-20T01:07:50.280913Z",
     "iopub.status.idle": "2022-05-20T01:07:50.293011Z",
     "shell.execute_reply": "2022-05-20T01:07:50.291968Z"
    },
    "id": "9decd4da",
    "outputId": "a5bc4c4f-d49f-4e01-f736-330e24d298bd",
    "papermill": {
     "duration": 0.059009,
     "end_time": "2022-05-20T01:07:50.294941",
     "exception": false,
     "start_time": "2022-05-20T01:07:50.235932",
     "status": "completed"
    },
    "tags": []
   },
   "outputs": [
    {
     "name": "stdout",
     "output_type": "stream",
     "text": [
      "Number of Tweets: 14640\n",
      "\n",
      "% Sent: negative    0.626913\n",
      "neutral     0.211680\n",
      "positive    0.161407\n",
      "Name: airline_sentiment, dtype: float64\n"
     ]
    }
   ],
   "source": [
    "# Let's see how many tweets there are, as well as the number of tweets in each bucket.\n",
    "# We might anticipate that the % of negative tweets is highest, and this is the case.\n",
    "print(f\"Number of Tweets: {len(tas)}\")\n",
    "print()\n",
    "print(f\"% Sent: {tas['airline_sentiment'].value_counts(ascending=False, normalize=True)}\")"
   ]
  },
  {
   "cell_type": "code",
   "execution_count": 119,
   "id": "61fe01e2",
   "metadata": {
    "colab": {
     "base_uri": "https://localhost:8080/"
    },
    "execution": {
     "iopub.execute_input": "2022-05-20T01:07:50.384114Z",
     "iopub.status.busy": "2022-05-20T01:07:50.383817Z",
     "iopub.status.idle": "2022-05-20T01:07:50.391220Z",
     "shell.execute_reply": "2022-05-20T01:07:50.390172Z"
    },
    "id": "61fe01e2",
    "outputId": "ceddc5fc-bb0e-45b0-9681-ba499438d77e",
    "papermill": {
     "duration": 0.054973,
     "end_time": "2022-05-20T01:07:50.393708",
     "exception": false,
     "start_time": "2022-05-20T01:07:50.338735",
     "status": "completed"
    },
    "tags": []
   },
   "outputs": [
    {
     "name": "stdout",
     "output_type": "stream",
     "text": [
      "Random Number: 2903\n",
      "\n",
      "\n",
      "Tweet #2903: @united I get that. But doing it by giving inaccurate/misleading info doesn't seem like a great way to do it. #hopethegearmakesitintact\n"
     ]
    }
   ],
   "source": [
    "# Let's look at a random tweet.\n",
    "rand_tweet_num = random.randint(0,len(tas))\n",
    "print(f\"Random Number: {rand_tweet_num}\")\n",
    "\n",
    "# New line.\n",
    "print(\"\\n\")\n",
    "\n",
    "# We are pulling the text from the \"text\" column.\n",
    "tweet = tas.loc[rand_tweet_num,\"text\"]\n",
    "print(f\"Tweet #{rand_tweet_num}: {tweet}\")"
   ]
  },
  {
   "cell_type": "code",
   "execution_count": 120,
   "id": "f5beeb08",
   "metadata": {
    "colab": {
     "base_uri": "https://localhost:8080/"
    },
    "execution": {
     "iopub.execute_input": "2022-05-20T01:07:50.485662Z",
     "iopub.status.busy": "2022-05-20T01:07:50.484605Z",
     "iopub.status.idle": "2022-05-20T01:07:50.491255Z",
     "shell.execute_reply": "2022-05-20T01:07:50.490247Z"
    },
    "id": "f5beeb08",
    "outputId": "aa1c50c1-eb3b-4891-9307-e9b60f46e48a",
    "papermill": {
     "duration": 0.054096,
     "end_time": "2022-05-20T01:07:50.493599",
     "exception": false,
     "start_time": "2022-05-20T01:07:50.439503",
     "status": "completed"
    },
    "tags": []
   },
   "outputs": [
    {
     "name": "stdout",
     "output_type": "stream",
     "text": [
      "['@', 'united', 'get', '.', 'giving', 'inaccurate/misleading', 'info', \"n't\", 'seem', 'like', 'great', 'way', '.', '#', 'hopethegearmakesitintact']\n"
     ]
    }
   ],
   "source": [
    "# Without stopwords or punctuation.\n",
    "tweet_tokenized_lowercase = list(map(str.lower, word_tokenize(tweet)))\n",
    "print([word for word in tweet_tokenized_lowercase if word not\\\n",
    "       in english_stopwords])"
   ]
  },
  {
   "cell_type": "code",
   "execution_count": 121,
   "id": "a0cbb610",
   "metadata": {
    "colab": {
     "base_uri": "https://localhost:8080/"
    },
    "execution": {
     "iopub.execute_input": "2022-05-20T01:07:50.585830Z",
     "iopub.status.busy": "2022-05-20T01:07:50.585274Z",
     "iopub.status.idle": "2022-05-20T01:07:50.591263Z",
     "shell.execute_reply": "2022-05-20T01:07:50.590397Z"
    },
    "id": "a0cbb610",
    "outputId": "3a428bc4-12f0-4d24-96e2-2058c130bb20",
    "papermill": {
     "duration": 0.053785,
     "end_time": "2022-05-20T01:07:50.592992",
     "exception": false,
     "start_time": "2022-05-20T01:07:50.539207",
     "status": "completed"
    },
    "tags": []
   },
   "outputs": [
    {
     "name": "stdout",
     "output_type": "stream",
     "text": [
      "['unit', 'give', 'inaccurate/mislead', 'info', \"n't\", 'great', 'hopethegearmakesitintact']\n"
     ]
    }
   ],
   "source": [
    "# Now let's stem the words so that like words are treated the same.\n",
    "# For fun, and because I like Ireland, the object name is irish_porter.\n",
    "# Also, sans stopwords.\n",
    "irish_porter = PorterStemmer()\n",
    "print([irish_porter.stem(word) for word in tweet_tokenized_lowercase\\\n",
    "       if word not in combined_stoplist])"
   ]
  },
  {
   "cell_type": "code",
   "execution_count": 122,
   "id": "86106a8f",
   "metadata": {
    "colab": {
     "base_uri": "https://localhost:8080/"
    },
    "execution": {
     "iopub.execute_input": "2022-05-20T01:07:50.684339Z",
     "iopub.status.busy": "2022-05-20T01:07:50.683755Z",
     "iopub.status.idle": "2022-05-20T01:07:52.353511Z",
     "shell.execute_reply": "2022-05-20T01:07:52.352610Z"
    },
    "id": "86106a8f",
    "outputId": "a93b6445-bda7-40b5-c7bb-4342b1d19deb",
    "papermill": {
     "duration": 1.718782,
     "end_time": "2022-05-20T01:07:52.356264",
     "exception": false,
     "start_time": "2022-05-20T01:07:50.637482",
     "status": "completed"
    },
    "tags": []
   },
   "outputs": [
    {
     "name": "stdout",
     "output_type": "stream",
     "text": [
      "['united', 'giving', 'inaccurate/misleading', 'info', \"n't\", 'great', 'hopethegearmakesitintact']\n"
     ]
    }
   ],
   "source": [
    "# Now we'll use the lemmatizer, which — by grouping the distinct forms of\n",
    "# a given word — enables us to further analyze it.\n",
    "# Since they compare words to their \"dictionary\" forms, it is more\n",
    "# resource-intensive than a stemmer.\n",
    "# No such fun object name for the lemmatizer.\n",
    "wnl = WordNetLemmatizer()\n",
    "print([wnl.lemmatize(word) for word in tweet_tokenized_lowercase if \\\n",
    "       word not in combined_stoplist])"
   ]
  },
  {
   "cell_type": "code",
   "execution_count": 139,
   "id": "93e098ce",
   "metadata": {
    "execution": {
     "iopub.execute_input": "2022-05-20T01:07:52.450540Z",
     "iopub.status.busy": "2022-05-20T01:07:52.449925Z",
     "iopub.status.idle": "2022-05-20T01:07:52.456261Z",
     "shell.execute_reply": "2022-05-20T01:07:52.455508Z"
    },
    "id": "93e098ce",
    "papermill": {
     "duration": 0.056122,
     "end_time": "2022-05-20T01:07:52.458324",
     "exception": false,
     "start_time": "2022-05-20T01:07:52.402202",
     "status": "completed"
    },
    "tags": []
   },
   "outputs": [],
   "source": [
    "# Before lemmatization, we need to ensure we properly process\n",
    "# words that are not nouns.\n",
    "# If the lemmatizer doesn't know what the words \"are\", then\n",
    "# it is not of much help.\n",
    "# As such we need to convert the words from being assumed\n",
    "# nouns to their respective forms of verb, adjective, or adverb.\n",
    "\n",
    "def penn_to_morphy(penn_tag):\n",
    "    \n",
    "    morphy_tag = {'NN':'n', 'JJ':'a',\n",
    "                 'VB':'v', 'RB':'r'}\n",
    "    \n",
    "    try:\n",
    "        return morphy_tag[penn_tag[:2]]\n",
    "    except:\n",
    "        \n",
    "        # If we don't find a map then we will assume it's a noun.\n",
    "        return 'n'\n",
    "    \n",
    "# Then we can lemmatize without issue.\n",
    "\n",
    "def lemm(text):\n",
    "    \n",
    "    return [wnl.lemmatize(word.lower(), pos=penn_to_morphy(tag))\\\n",
    "            for word, tag in pos_tag(word_tokenize(text))]"
   ]
  },
  {
   "cell_type": "code",
   "execution_count": 146,
   "id": "423cc656",
   "metadata": {
    "colab": {
     "base_uri": "https://localhost:8080/"
    },
    "execution": {
     "iopub.execute_input": "2022-05-20T01:07:52.552140Z",
     "iopub.status.busy": "2022-05-20T01:07:52.551513Z",
     "iopub.status.idle": "2022-05-20T01:07:52.676821Z",
     "shell.execute_reply": "2022-05-20T01:07:52.675823Z"
    },
    "id": "423cc656",
    "outputId": "1a984fb4-ebd4-45a5-ae96-0edc165f1948",
    "papermill": {
     "duration": 0.174556,
     "end_time": "2022-05-20T01:07:52.679284",
     "exception": false,
     "start_time": "2022-05-20T01:07:52.504728",
     "status": "completed"
    },
    "tags": []
   },
   "outputs": [
    {
     "name": "stdout",
     "output_type": "stream",
     "text": [
      "Original Tweet: @united I get that. But doing it by giving inaccurate/misleading info doesn't seem like a great way to do it. #hopethegearmakesitintact\n",
      "\n",
      "\n",
      "Lemmatized and Without Stopwords: ['unite', 'give', 'inaccurate/misleading', 'info', \"n't\", 'great', 'hopethegearmakesitintact']\n"
     ]
    }
   ],
   "source": [
    "# Let's compare the original tweet and the lemmatized and sans stopwords version.\n",
    "print(f\"Original Tweet: {tweet}\")\n",
    "print(\"\\n\")\n",
    "\n",
    "# We're going to use this again in a minute, so more efficient to give \n",
    "# the generator an object.\n",
    "tg = [w for w in lemm(tweet) if w not in combined_stoplist and not w.isdigit()]\n",
    "\n",
    "# We will also chain the .isdigit() method into the generator\n",
    "# so that no digits are included.\n",
    "print(f\"Lemmatized and Without Stopwords: {tg}\")\n"
   ]
  },
  {
   "cell_type": "code",
   "execution_count": 148,
   "id": "15a83c65",
   "metadata": {
    "execution": {
     "iopub.execute_input": "2022-05-20T01:07:52.774796Z",
     "iopub.status.busy": "2022-05-20T01:07:52.774295Z",
     "iopub.status.idle": "2022-05-20T01:07:52.778176Z",
     "shell.execute_reply": "2022-05-20T01:07:52.777608Z"
    },
    "id": "15a83c65",
    "papermill": {
     "duration": 0.054159,
     "end_time": "2022-05-20T01:07:52.779789",
     "exception": false,
     "start_time": "2022-05-20T01:07:52.725630",
     "status": "completed"
    },
    "tags": []
   },
   "outputs": [],
   "source": [
    "# Now that the text is all lowercase and without digits and stopwords, \n",
    "# we can define a preprocessing function, which takes text and returns\n",
    "# all the lemmas.\n",
    "\n",
    "def preprocessing_function(text):\n",
    "    \n",
    "    return [word for word in lemmatize_sentence(text) if word \\\n",
    "            not in combined_stoplist and not word.isdigit()]"
   ]
  },
  {
   "cell_type": "code",
   "execution_count": 150,
   "id": "68c8fe9f",
   "metadata": {
    "execution": {
     "iopub.execute_input": "2022-05-20T01:07:52.872447Z",
     "iopub.status.busy": "2022-05-20T01:07:52.871834Z",
     "iopub.status.idle": "2022-05-20T01:07:52.877795Z",
     "shell.execute_reply": "2022-05-20T01:07:52.877200Z"
    },
    "id": "68c8fe9f",
    "papermill": {
     "duration": 0.054369,
     "end_time": "2022-05-20T01:07:52.879550",
     "exception": false,
     "start_time": "2022-05-20T01:07:52.825181",
     "status": "completed"
    },
    "tags": []
   },
   "outputs": [],
   "source": [
    "# Time to vectorize these strings with the Counter class.\n",
    "processed_tweet = preprocessing_function(str(tg))"
   ]
  },
  {
   "cell_type": "code",
   "execution_count": 151,
   "id": "50e0da98",
   "metadata": {
    "colab": {
     "base_uri": "https://localhost:8080/"
    },
    "execution": {
     "iopub.execute_input": "2022-05-20T01:07:52.972739Z",
     "iopub.status.busy": "2022-05-20T01:07:52.972136Z",
     "iopub.status.idle": "2022-05-20T01:07:53.083469Z",
     "shell.execute_reply": "2022-05-20T01:07:53.082063Z"
    },
    "id": "50e0da98",
    "outputId": "7ef3e684-00e9-46fe-e5d8-27aeb5e4f874",
    "papermill": {
     "duration": 0.160485,
     "end_time": "2022-05-20T01:07:53.085327",
     "exception": true,
     "start_time": "2022-05-20T01:07:52.924842",
     "status": "failed"
    },
    "tags": []
   },
   "outputs": [
    {
     "name": "stdout",
     "output_type": "stream",
     "text": [
      "Processed Tweet: [\"'unite\", \"'give\", \"'inaccurate/misleading\", \"'info\", '``', \"n't\", \"''\", \"'great\", \"'hopethegearmakesitintact\"]\n",
      "\n",
      "\n",
      "Word Counts for Tweet: Counter({\"'unite\": 1, \"'give\": 1, \"'inaccurate/misleading\": 1, \"'info\": 1, '``': 1, \"n't\": 1, \"''\": 1, \"'great\": 1, \"'hopethegearmakesitintact\": 1})\n"
     ]
    }
   ],
   "source": [
    "# Let's look at the processed tweet and the word counts.\n",
    "print(f\"Processed Tweet: {processed_tweet}\")\n",
    "print(\"\\n\")\n",
    "print(f\"Word Counts for Tweet: {Counter(processed_tweet)}\")"
   ]
  },
  {
   "cell_type": "code",
   "execution_count": 152,
   "id": "81d7188c",
   "metadata": {
    "execution": {
     "iopub.execute_input": "2022-05-20T00:20:37.456054Z",
     "iopub.status.busy": "2022-05-20T00:20:37.455812Z",
     "iopub.status.idle": "2022-05-20T00:21:05.407493Z",
     "shell.execute_reply": "2022-05-20T00:21:05.406746Z",
     "shell.execute_reply.started": "2022-05-20T00:20:37.456027Z"
    },
    "id": "81d7188c",
    "papermill": {
     "duration": null,
     "end_time": null,
     "exception": null,
     "start_time": null,
     "status": "pending"
    },
    "tags": []
   },
   "outputs": [],
   "source": [
    "# Since we've generated our preprocessing function, we can now\n",
    "# apply it to the text of the tweets.\n",
    "# This is where lambda functions are incredibly helpful, since\n",
    "# we can go line-by-line and preprocess, since our lemmatizer\n",
    "# requires strings.\n",
    "tas['text_edited'] = tas['text'].apply(lambda text: preprocessing_function(text))"
   ]
  },
  {
   "cell_type": "code",
   "execution_count": 153,
   "id": "54f7e39a",
   "metadata": {
    "colab": {
     "base_uri": "https://localhost:8080/"
    },
    "execution": {
     "iopub.execute_input": "2022-05-20T00:21:10.519562Z",
     "iopub.status.busy": "2022-05-20T00:21:10.519323Z",
     "iopub.status.idle": "2022-05-20T00:21:11.318574Z",
     "shell.execute_reply": "2022-05-20T00:21:11.317576Z",
     "shell.execute_reply.started": "2022-05-20T00:21:10.519539Z"
    },
    "id": "54f7e39a",
    "outputId": "b392ee60-0222-46d3-9139-fa77787b9c2e",
    "papermill": {
     "duration": null,
     "end_time": null,
     "exception": null,
     "start_time": null,
     "status": "pending"
    },
    "tags": []
   },
   "outputs": [
    {
     "name": "stdout",
     "output_type": "stream",
     "text": [
      "Shape of Array: (14640, 12386)\n"
     ]
    }
   ],
   "source": [
    "count_vectorizer = CountVectorizer()\n",
    "\n",
    "# Now we can generate our predictors! This is pretty exciting.\n",
    "# Basically, we are combining the Counter step that we performed\n",
    "# before with vectorization through scikit-learn's fit_transform method.\n",
    "# We will generate counts for each word and vectorize them in an array,\n",
    "# which will serve as our predictors when we fit the model.\n",
    "X = count_vectorizer.fit_transform(tas['text_edited'].astype(str)).toarray()\n",
    "\n",
    "# Pretty large\n",
    "print(f\"Shape of Array: {X.shape}\")\n",
    "\n",
    "# And targets.\n",
    "y = tas['airline_sentiment']\n",
    "\n",
    "# Now that we have vectorized our text, we can split between train and test.\n",
    "# random_state=0 so our result is deterministic.\n",
    "X_train, X_test, y_train, y_test = \\\n",
    "    train_test_split(X, y, test_size=0.2, random_state=0)"
   ]
  },
  {
   "cell_type": "code",
   "execution_count": 154,
   "id": "7e7bb072",
   "metadata": {
    "colab": {
     "base_uri": "https://localhost:8080/"
    },
    "execution": {
     "iopub.execute_input": "2022-05-20T00:21:13.394166Z",
     "iopub.status.busy": "2022-05-20T00:21:13.393909Z",
     "iopub.status.idle": "2022-05-20T00:21:15.897401Z",
     "shell.execute_reply": "2022-05-20T00:21:15.896746Z",
     "shell.execute_reply.started": "2022-05-20T00:21:13.394138Z"
    },
    "id": "7e7bb072",
    "outputId": "b6528498-92ac-46a8-ff85-542a5479e2e0",
    "papermill": {
     "duration": null,
     "end_time": null,
     "exception": null,
     "start_time": null,
     "status": "pending"
    },
    "tags": []
   },
   "outputs": [
    {
     "name": "stdout",
     "output_type": "stream",
     "text": [
      "Our model predicts the correct sentiment     72.917% of the time.\n"
     ]
    }
   ],
   "source": [
    "# Fitting the model, generating predictions, and getting the accuracy\n",
    "# between our test labels (actual values) and predictions.\n",
    "mnb = MultinomialNB()\n",
    "mnb.fit(X_train, y_train)\n",
    "predictions = mnb.predict(X_test)\n",
    "print(f\"Our model predicts the correct sentiment \\\n",
    "    {round(accuracy_score(y_test, predictions) * 100,3)}% of the time.\")"
   ]
  },
  {
   "cell_type": "code",
   "execution_count": 163,
   "id": "0a2f83c3",
   "metadata": {
    "colab": {
     "base_uri": "https://localhost:8080/",
     "height": 609
    },
    "execution": {
     "iopub.execute_input": "2022-05-20T00:21:23.585266Z",
     "iopub.status.busy": "2022-05-20T00:21:23.584927Z",
     "iopub.status.idle": "2022-05-20T00:21:23.834053Z",
     "shell.execute_reply": "2022-05-20T00:21:23.833323Z",
     "shell.execute_reply.started": "2022-05-20T00:21:23.585233Z"
    },
    "id": "0a2f83c3",
    "outputId": "04f286fd-34b9-4a32-ae39-63d7dbed0431",
    "papermill": {
     "duration": null,
     "end_time": null,
     "exception": null,
     "start_time": null,
     "status": "pending"
    },
    "tags": []
   },
   "outputs": [
    {
     "name": "stdout",
     "output_type": "stream",
     "text": [
      "Classification Report:\n",
      "              precision    recall  f1-score   support\n",
      "\n",
      "    negative       0.81      0.86      0.84      1870\n",
      "     neutral       0.55      0.50      0.53       614\n",
      "    positive       0.56      0.50      0.53       444\n",
      "\n",
      "    accuracy                           0.73      2928\n",
      "   macro avg       0.64      0.62      0.63      2928\n",
      "weighted avg       0.72      0.73      0.73      2928\n",
      "\n",
      "\n",
      "Confusion Matrix:\n",
      "[[1608  160  102]\n",
      " [ 235  308   71]\n",
      " [ 131   89  224]]\n",
      "\n",
      "\n",
      "Confusion Matrix Plot:\n"
     ]
    },
    {
     "data": {
      "image/png": "[encoded data removed]",
      "text/plain": [
       "<Figure size 432x288 with 2 Axes>"
      ]
     },
     "metadata": {
      "needs_background": "light"
     },
     "output_type": "display_data"
    }
   ],
   "source": [
    "# For some additional information, we can generate a classification_report\n",
    "# and confusion_matrix.\n",
    "\n",
    "# The top part of the classification report shows how well we did predicting\n",
    "# each label:\n",
    "#\n",
    "#     Precision: True Positives / False Positives. Our model is pretty\n",
    "#     good at predicting negative tweets,\n",
    "#     decently good at predicting positive tweets, and\n",
    "#     so-so with neutral tweets.\n",
    "#     Recall: True Positives / (True Positives + False Negatives).\n",
    "#     Given a negative tweet, our model is VERY likely to find it,\n",
    "#          but not as likely (~40% comparative likelihood) with\n",
    "#          positive or neutral tweets.\n",
    "#     F-1 Score: 2 * (Recall * Precision) / (Recall + Precision).\n",
    "#     The \"harmonic mean\" of precision and recall, this provides\n",
    "#          an objective, balanced metric for us to evaluate model\n",
    "#          performance. Again, we perform well with negative, but not\n",
    "#          nearly as well with positive or neutral.\n",
    "#     Support: Number of samples in each class (in actuality).\n",
    "#     Given everything that's been said above, it's important to point out\n",
    "#          that it is completely unsurprising that negative had\n",
    "#          the strongest performance metrics in each category by some distance\n",
    "#          because it was the largest class (56% of the test labels!).\n",
    "#          When you have a class imbalance that decisive, it can affect\n",
    "#          model performance, so I would like to re-run the experiment\n",
    "#          after addressing the imbalance.\n",
    "\n",
    "print(\"Classification Report:\")\n",
    "print(classification_report(y_test, predictions))\n",
    "\n",
    "# Skip a line.\n",
    "print()\n",
    "\n",
    "# The bottom part of the classification report provides some more\n",
    "# intelligence regarding our model's performance:\n",
    "#     Accuracy: Correct Observations / Total Observations. A performance\n",
    "#     of 73% on our test set isn't bad,\n",
    "#          but we can improve our model performance by balancing\n",
    "#          the classes more.\n",
    "#     Macro Average: (Negative + Neutral + Positive) / 3.\n",
    "#     The sum of our F-1 scores,\n",
    "#          divided by the number of classes (3).\n",
    "#     Weighted Average: The F-1 score per class times the percentage\n",
    "#     of the dataset that\n",
    "#          the class comprises. Each product is then added together,\n",
    "#          giving a total. This\n",
    "#          goes some way to addressing the class imbalances, but we\n",
    "#          still want to see if\n",
    "#          the model will perform better on test data with an adapted\n",
    "#          Naive Bayes classifier.\n",
    "\n",
    "# The confusion matrix provides a simple breakdown of the number of\n",
    "# predicted samples per class,\n",
    "#     as well as the number of labels per actual class.\n",
    "print(\"Confusion Matrix:\")\n",
    "print(confusion_matrix(y_test, predictions))\n",
    "\n",
    "# New line.\n",
    "print(\"\\n\")\n",
    "\n",
    "# Confusion Matrix Plot\n",
    "print(\"Confusion Matrix Plot:\")\n",
    "ConfusionMatrixDisplay.from_predictions(y_true=y_test, y_pred=predictions)\n",
    "plt.show()"
   ]
  },
  {
   "cell_type": "code",
   "execution_count": 169,
   "id": "7f0d4287",
   "metadata": {
    "colab": {
     "base_uri": "https://localhost:8080/"
    },
    "execution": {
     "iopub.execute_input": "2022-05-20T00:22:34.445678Z",
     "iopub.status.busy": "2022-05-20T00:22:34.445438Z",
     "iopub.status.idle": "2022-05-20T00:22:36.964034Z",
     "shell.execute_reply": "2022-05-20T00:22:36.96056Z",
     "shell.execute_reply.started": "2022-05-20T00:22:34.445654Z"
    },
    "id": "7f0d4287",
    "outputId": "58598300-15f4-475d-8227-2bcb592eac73",
    "papermill": {
     "duration": null,
     "end_time": null,
     "exception": null,
     "start_time": null,
     "status": "pending"
    },
    "tags": []
   },
   "outputs": [
    {
     "name": "stdout",
     "output_type": "stream",
     "text": [
      "Our new model predicts the correct sentiment 73.087% of the time.\n"
     ]
    }
   ],
   "source": [
    "# Due to the class imbalance (way more negatives than neutral or positives),\n",
    "# we will use ComplementNB, a scikit-learn Naive Bayes classifier that is\n",
    "# said to handle imbalanced classes better\n",
    "# than MultinomialNB. We want the result to be deterministic so we're not\n",
    "# changing the train_test_split's random_state,\n",
    "# or the train/test balance of 0.8/0.2 — so no need to re-split.\n",
    "cnb = ComplementNB()\n",
    "cnb.fit(X_train, y_train)\n",
    "\n",
    "# Generating our new_predictions\n",
    "predictions = cnb.predict(X_test)\n",
    "\n",
    "# A slight improvement, but nothing to \n",
    "print(\"Our new model predicts the correct sentiment \" + \\\n",
    "    f\"{round(accuracy_score(y_test, predictions) * 100,3)}% of the time.\")"
   ]
  },
  {
   "cell_type": "code",
   "execution_count": 170,
   "id": "156472c2",
   "metadata": {
    "colab": {
     "base_uri": "https://localhost:8080/"
    },
    "execution": {
     "iopub.execute_input": "2022-05-20T00:22:38.242599Z",
     "iopub.status.busy": "2022-05-20T00:22:38.24236Z",
     "iopub.status.idle": "2022-05-20T00:22:38.289407Z",
     "shell.execute_reply": "2022-05-20T00:22:38.288641Z",
     "shell.execute_reply.started": "2022-05-20T00:22:38.242574Z"
    },
    "id": "156472c2",
    "outputId": "7f136899-8bea-4ccf-aeb6-b98e28834205",
    "papermill": {
     "duration": null,
     "end_time": null,
     "exception": null,
     "start_time": null,
     "status": "pending"
    },
    "tags": []
   },
   "outputs": [
    {
     "name": "stdout",
     "output_type": "stream",
     "text": [
      "New Classification Report:\n",
      "              precision    recall  f1-score   support\n",
      "\n",
      "    negative       0.81      0.86      0.84      1870\n",
      "     neutral       0.55      0.50      0.53       614\n",
      "    positive       0.56      0.50      0.53       444\n",
      "\n",
      "    accuracy                           0.73      2928\n",
      "   macro avg       0.64      0.62      0.63      2928\n",
      "weighted avg       0.72      0.73      0.73      2928\n",
      "\n"
     ]
    }
   ],
   "source": [
    "# A comparative look. The F-1 scores are identical, but we're slightly more\n",
    "# precise with negatives and less precise with positives.\n",
    "# We had intended to counteract that, but our macro averages are higher and\n",
    "# the weighted averages pretty consistent.\n",
    "# All that CPU power for 0.1%.\n",
    "print(\"New Classification Report:\")\n",
    "print(classification_report(y_test, predictions))"
   ]
  },
  {
   "cell_type": "code",
   "execution_count": 172,
   "id": "9dff3adc",
   "metadata": {
    "colab": {
     "base_uri": "https://localhost:8080/",
     "height": 404
    },
    "execution": {
     "iopub.execute_input": "2022-05-20T00:22:48.890804Z",
     "iopub.status.busy": "2022-05-20T00:22:48.890346Z",
     "iopub.status.idle": "2022-05-20T00:22:49.12645Z",
     "shell.execute_reply": "2022-05-20T00:22:49.125649Z",
     "shell.execute_reply.started": "2022-05-20T00:22:48.89077Z"
    },
    "id": "9dff3adc",
    "outputId": "aab988df-4652-4088-94d9-f99605c3a063",
    "papermill": {
     "duration": null,
     "end_time": null,
     "exception": null,
     "start_time": null,
     "status": "pending"
    },
    "tags": []
   },
   "outputs": [
    {
     "name": "stdout",
     "output_type": "stream",
     "text": [
      "New Confusion Matrix:\n",
      "[[1608  160  102]\n",
      " [ 235  308   71]\n",
      " [ 131   89  224]]\n",
      "\n",
      "\n",
      "New Confusion Matrix Plot:\n"
     ]
    },
    {
     "data": {
      "image/png": "[encoded data removed]",
      "text/plain": [
       "<Figure size 432x288 with 2 Axes>"
      ]
     },
     "metadata": {
      "needs_background": "light"
     },
     "output_type": "display_data"
    }
   ],
   "source": [
    "# Another confusion matrix and plot.\n",
    "print(\"New Confusion Matrix:\")\n",
    "print(confusion_matrix(y_test, predictions))\n",
    "\n",
    "# New line.\n",
    "print(\"\\n\")\n",
    "\n",
    "# Confusion Matrix Plot\n",
    "print(\"New Confusion Matrix Plot:\")\n",
    "ConfusionMatrixDisplay.from_predictions(y_true=y_test, y_pred=predictions)\n",
    "plt.show()"
   ]
  }
 ],
 "metadata": {
  "colab": {
   "collapsed_sections": [],
   "name": "LOUGHLIN_EAI6000_Module6_FINAL.ipynb",
   "provenance": []
  },
  "kernelspec": {
   "display_name": "Python 3 (ipykernel)",
   "language": "python",
   "name": "python3"
  },
  "language_info": {
   "codemirror_mode": {
    "name": "ipython",
    "version": 3
   },
   "file_extension": ".py",
   "mimetype": "text/x-python",
   "name": "python",
   "nbconvert_exporter": "python",
   "pygments_lexer": "ipython3",
   "version": "3.9.12"
  },
  "papermill": {
   "default_parameters": {},
   "duration": 20.608935,
   "end_time": "2022-05-20T01:07:54.155318",
   "environment_variables": {},
   "exception": true,
   "input_path": "__notebook__.ipynb",
   "output_path": "__notebook__.ipynb",
   "parameters": {},
   "start_time": "2022-05-20T01:07:33.546383",
   "version": "2.3.4"
  }
 },
 "nbformat": 4,
 "nbformat_minor": 5
}
