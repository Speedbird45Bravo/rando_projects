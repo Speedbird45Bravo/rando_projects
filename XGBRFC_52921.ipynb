{
 "cells": [
  {
   "cell_type": "code",
   "execution_count": 31,
   "id": "da76f370",
   "metadata": {},
   "outputs": [],
   "source": [
    "from sklearn.metrics import accuracy_score\n",
    "from sklearn.model_selection import cross_val_score, KFold, train_test_split\n",
    "from xgboost import XGBRFClassifier\n",
    "import numpy as np\n",
    "import pandas as pd"
   ]
  },
  {
   "cell_type": "code",
   "execution_count": 32,
   "id": "bfc2f4c6",
   "metadata": {},
   "outputs": [],
   "source": [
    "df = pd.read_csv(\"https://projects.fivethirtyeight.com/soccer-api/club/spi_matches.csv\").dropna()\n",
    "df = df[(df.league==\"Barclays Premier League\") & (df.season >= 2019)]"
   ]
  },
  {
   "cell_type": "code",
   "execution_count": 33,
   "id": "11557a7b",
   "metadata": {},
   "outputs": [],
   "source": [
    "df['h_margin'] = df['score1'] - df['score2']"
   ]
  },
  {
   "cell_type": "code",
   "execution_count": 34,
   "id": "56420914",
   "metadata": {},
   "outputs": [],
   "source": [
    "results = []"
   ]
  },
  {
   "cell_type": "code",
   "execution_count": 35,
   "id": "7ab2f3fb",
   "metadata": {},
   "outputs": [],
   "source": [
    "for x in df['h_margin']:\n",
    "    if x > 0:\n",
    "        results.append(\"HOME WIN\")\n",
    "    elif x == 0:\n",
    "        results.append(\"DRAW\")\n",
    "    else:\n",
    "        results.append(\"AWAY WIN\")"
   ]
  },
  {
   "cell_type": "code",
   "execution_count": 36,
   "id": "75be8b55",
   "metadata": {},
   "outputs": [],
   "source": [
    "df['result'] = results"
   ]
  },
  {
   "cell_type": "code",
   "execution_count": 37,
   "id": "cc97c7ff",
   "metadata": {},
   "outputs": [],
   "source": [
    "df['xg_h_margin'] = df['xg1'] - df['xg2']"
   ]
  },
  {
   "cell_type": "code",
   "execution_count": 38,
   "id": "41ccb328",
   "metadata": {},
   "outputs": [],
   "source": [
    "xg_results = []"
   ]
  },
  {
   "cell_type": "code",
   "execution_count": 39,
   "id": "7baf2719",
   "metadata": {},
   "outputs": [],
   "source": [
    "for y in df['xg_h_margin']:\n",
    "    if y > 0:\n",
    "        xg_results.append(\"HOME xG WIN\")\n",
    "    elif y == 0:\n",
    "        xg_results.append(\"xG DRAW\")\n",
    "    else:\n",
    "        xg_results.append(\"AWAY xG WIN\")"
   ]
  },
  {
   "cell_type": "code",
   "execution_count": 40,
   "id": "63438216",
   "metadata": {},
   "outputs": [],
   "source": [
    "df['xg_result'] = xg_results"
   ]
  },
  {
   "cell_type": "code",
   "execution_count": 41,
   "id": "9f44d6b1",
   "metadata": {},
   "outputs": [],
   "source": [
    "df = df.drop(columns=['h_margin', 'xg_h_margin'])"
   ]
  },
  {
   "cell_type": "code",
   "execution_count": 47,
   "id": "ffe51987",
   "metadata": {},
   "outputs": [],
   "source": [
    "comp_df = df[['result', 'xg_result']]\n",
    "comp_ran = range(len(comp_df))"
   ]
  },
  {
   "cell_type": "code",
   "execution_count": 55,
   "id": "8ae210d9",
   "metadata": {},
   "outputs": [],
   "source": [
    "comparisons = []"
   ]
  },
  {
   "cell_type": "code",
   "execution_count": 56,
   "id": "c23d454b",
   "metadata": {},
   "outputs": [
    {
     "data": {
      "text/plain": [
       "'AWAY WIN'"
      ]
     },
     "execution_count": 56,
     "metadata": {},
     "output_type": "execute_result"
    }
   ],
   "source": [
    "comp_df.iloc[1,:][0]"
   ]
  },
  {
   "cell_type": "code",
   "execution_count": 57,
   "id": "b1ba0788",
   "metadata": {},
   "outputs": [],
   "source": [
    "for z in comp_ran:\n",
    "    z = comp_df.iloc[z,:]\n",
    "    if (z[0] == \"HOME WIN\") & (z[1]==\"HOME xG WIN\"):\n",
    "        comparisons.append(\"HOME EXPECTED\")\n",
    "    elif (z[0] == \"AWAY WIN\") & (z[1]==\"HOME xG WIN\"):\n",
    "        comparisons.append(\"AWAY UNEXPECTED\")\n",
    "    elif (z[0] == \"HOME WIN\") & (z[1]==\"AWAY xG WIN\"):\n",
    "        comparisons.append(\"HOME UNEXPECTED\")\n",
    "    elif (z[0] == \"AWAY WIN\") & (z[1]==\"AWAY xG WIN\"):\n",
    "        comparisons.append(\"AWAY EXPECTED\")\n",
    "    else:\n",
    "        comparisons.append(\"DRAW\")"
   ]
  },
  {
   "cell_type": "code",
   "execution_count": 59,
   "id": "5e3b5034",
   "metadata": {},
   "outputs": [],
   "source": [
    "df['comparison'] = comparisons"
   ]
  },
  {
   "cell_type": "code",
   "execution_count": 60,
   "id": "ebdf9225",
   "metadata": {},
   "outputs": [],
   "source": [
    "X = df[['score1','score2','xg1','xg2']]\n",
    "y = df['comparison']\n",
    "X_train, X_test, y_train, y_test = train_test_split(X, y, test_size=0.25, random_state=6)"
   ]
  },
  {
   "cell_type": "code",
   "execution_count": 79,
   "id": "a4c0bf11",
   "metadata": {},
   "outputs": [],
   "source": [
    "model = XGBRFClassifier(max_depth=6, eval_metric='mlogloss').fit(X_train, y_train)"
   ]
  },
  {
   "cell_type": "code",
   "execution_count": 80,
   "id": "636dafce",
   "metadata": {},
   "outputs": [],
   "source": [
    "kfold = KFold(n_splits=10, shuffle=True)"
   ]
  },
  {
   "cell_type": "code",
   "execution_count": 85,
   "id": "0ac6caef",
   "metadata": {},
   "outputs": [],
   "source": [
    "import warnings\n",
    "warnings.filterwarnings(\"ignore\")\n",
    "cv_scores = cross_val_score(model, X_train, y_train, cv=kfold)"
   ]
  },
  {
   "cell_type": "code",
   "execution_count": 86,
   "id": "3d3b7808",
   "metadata": {},
   "outputs": [
    {
     "name": "stdout",
     "output_type": "stream",
     "text": [
      "Cross Val Scores: [0.96491228 0.87719298 0.96491228 0.9122807  0.87719298 0.92982456\n",
      " 0.94736842 0.94642857 0.91071429 0.96428571]\n"
     ]
    }
   ],
   "source": [
    "print(\"Cross Val Scores:\", cv_scores)"
   ]
  },
  {
   "cell_type": "code",
   "execution_count": 87,
   "id": "f6cbdd76",
   "metadata": {},
   "outputs": [],
   "source": [
    "predictions = model.predict(X_test)"
   ]
  },
  {
   "cell_type": "code",
   "execution_count": 94,
   "id": "2d3270af",
   "metadata": {},
   "outputs": [],
   "source": [
    "accuracy = accuracy_score(y_test, predictions) * 100"
   ]
  },
  {
   "cell_type": "code",
   "execution_count": 95,
   "id": "53348300",
   "metadata": {},
   "outputs": [
    {
     "name": "stdout",
     "output_type": "stream",
     "text": [
      "Test Accuracy: 92.593%\n"
     ]
    }
   ],
   "source": [
    "print(\"Test Accuracy: {}%\".format(np.round(accuracy, 3)))"
   ]
  }
 ],
 "metadata": {
  "kernelspec": {
   "display_name": "Python 3",
   "language": "python",
   "name": "python3"
  },
  "language_info": {
   "codemirror_mode": {
    "name": "ipython",
    "version": 3
   },
   "file_extension": ".py",
   "mimetype": "text/x-python",
   "name": "python",
   "nbconvert_exporter": "python",
   "pygments_lexer": "ipython3",
   "version": "3.9.5"
  }
 },
 "nbformat": 4,
 "nbformat_minor": 5
}
