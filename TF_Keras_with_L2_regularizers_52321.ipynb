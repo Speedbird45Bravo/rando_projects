{
 "cells": [
  {
   "cell_type": "code",
   "execution_count": 160,
   "id": "046b1ee2",
   "metadata": {},
   "outputs": [],
   "source": [
    "from sklearn.model_selection import train_test_split\n",
    "import pandas as pd\n",
    "import numpy as np\n",
    "import tensorflow as tf"
   ]
  },
  {
   "cell_type": "code",
   "execution_count": 161,
   "id": "dc6d0459",
   "metadata": {},
   "outputs": [],
   "source": [
    "# The probability margin is the absolute value of the difference\n",
    "# between the two teams in terms of who is more likely to win: np.abs(df['prob1'] - df['prob2']).\n",
    "# There is also probtie which predicts the probability the game ends up level.\n",
    "# Simple three-layer neural network to anticipate which\n",
    "# bucket of probability margin a given match falls into:\n",
    "    # If X is less than the mean probability margin (MPM), it's \"WITHIN MEAN PROBABILITY MARGIN.\"\n",
    "    # If X is greater than or equal to MPM, but less than MPM + 1 standard deviation (SDPM), it's \"SLIGHT PROBABILITY ADVANTAGE.\"\n",
    "    # If X is greater than MPM + SDPM, but less than MPM + (SDPM * 1.5), it's \"MODERATE PROBABILITY ADVANTAGE.\"\n",
    "    # If X is greater than MPM + (SDPM * 1.5), meaning it is an \"outlier\", it's \"SIGNIFICANT PROBABILITY ADVANTAGE.\"\n",
    "# We will use statistics from the Barclays Premier League from the start of the 2018-19 season.\n",
    "\n",
    "df = pd.read_csv(\"https://projects.fivethirtyeight.com/soccer-api/club/spi_matches.csv\")\n",
    "df = df[(df.league==\"Barclays Premier League\") & (df.season >= 2018)]"
   ]
  },
  {
   "cell_type": "code",
   "execution_count": 162,
   "id": "677f4cad",
   "metadata": {},
   "outputs": [],
   "source": [
    "# A three-layer model is idea because it has enough filtering capability to generalize and get rid of the noise.\n",
    "# That said, we will throw in an l2 regularizer just to trim it even further.\n",
    "def load_model():\n",
    "    model = tf.keras.models.Sequential()\n",
    "    model.add(tf.keras.layers.Dense(8, kernel_regularizer=tf.keras.regularizers.l2(0.001), activation='relu'))\n",
    "    model.add(tf.keras.layers.Dense(8, activation='relu'))\n",
    "    model.add(tf.keras.layers.Dense(4, activation='softmax'))\n",
    "    model.compile(optimizer='adam', loss='categorical_crossentropy', metrics=['accuracy'])\n",
    "    return model"
   ]
  },
  {
   "cell_type": "code",
   "execution_count": 163,
   "id": "d7ba4c16",
   "metadata": {},
   "outputs": [],
   "source": [
    "# The y variables need to be converted from their existing state after train_test_split to categorical.\n",
    "# That said, it's a bit more than just calling to_categorical...the array in question has to be factorized, then converted\n",
    "# to a NumPy array, then converted to categorical.\n",
    "# This results in a four-column array of one-hot values for the variables.\n",
    "# We have to do it twice, so best to create a basic function for it.\n",
    "def cat(array):\n",
    "    array = tf.keras.utils.to_categorical(np.asarray(pd.factorize(array)[0]))\n",
    "    return array"
   ]
  },
  {
   "cell_type": "code",
   "execution_count": 164,
   "id": "234b0347",
   "metadata": {},
   "outputs": [],
   "source": [
    "# OK, now the fun part. Probability margin, MPM, and SDPM generation.\n",
    "df['prob_margin'] = np.abs(df['prob1'] - df['prob2'])\n",
    "mpm = np.mean(df['prob_margin'])\n",
    "sdpm = np.std(df['prob_margin'])"
   ]
  },
  {
   "cell_type": "code",
   "execution_count": 165,
   "id": "c2a6ec5c",
   "metadata": {},
   "outputs": [],
   "source": [
    "# Empty list.\n",
    "pm = []"
   ]
  },
  {
   "cell_type": "code",
   "execution_count": 166,
   "id": "fc54a880",
   "metadata": {},
   "outputs": [],
   "source": [
    "# It's bucketing time.\n",
    "for x in df['prob_margin']:\n",
    "    if x < mpm:\n",
    "        pm.append(\"WITHIN MEAN PROBABILITY MARGIN\")\n",
    "    elif (x >= mpm) & (x < (mpm + sdpm)):\n",
    "        pm.append(\"SLIGHT PROBABILITY ADVANTAGE\")\n",
    "    elif (x >= (mpm + sdpm)) & (x < (mpm + (sdpm * 1.5))):\n",
    "        pm.append(\"MODERATE PROBABILITY ADVANTAGE\")\n",
    "    else:\n",
    "        pm.append(\"SIGNIFICANT PROBABILITY ADVANTAGE\")"
   ]
  },
  {
   "cell_type": "code",
   "execution_count": 167,
   "id": "412ef383",
   "metadata": {},
   "outputs": [],
   "source": [
    "# Assigning PM to our new column, prob_bucket.\n",
    "df['prob_bucket'] = pm"
   ]
  },
  {
   "cell_type": "code",
   "execution_count": 168,
   "id": "efca0088",
   "metadata": {},
   "outputs": [],
   "source": [
    "# Since there are four output classes, we need to have the identical number of columns as our predictor variables (4).\n",
    "# We haven't used probtie yet, but it would be good to include.\n",
    "X_final = df[['prob1', 'prob2', 'prob_margin', 'probtie']]\n",
    "y_final = df[['prob_bucket']].copy()\n",
    "X_train, X_test, y_train, y_test = train_test_split(X_final, y_final, test_size=0.2, random_state=6)"
   ]
  },
  {
   "cell_type": "code",
   "execution_count": 169,
   "id": "fdd698bb",
   "metadata": {},
   "outputs": [],
   "source": [
    "# Converting y_train and y_test to categorical.\n",
    "y_train = cat(y_train[\"prob_bucket\"])\n",
    "y_test = cat(y_test[\"prob_bucket\"])"
   ]
  },
  {
   "cell_type": "code",
   "execution_count": 170,
   "id": "8899854e",
   "metadata": {},
   "outputs": [],
   "source": [
    "# We want to see if there is a more optimal number of epochs.\n",
    "# We will set it to tell us with a patience setting of 5.\n",
    "early_stop = tf.keras.callbacks.EarlyStopping(monitor=\"val_loss\", mode=\"min\", patience=5, restore_best_weights=True)"
   ]
  },
  {
   "cell_type": "code",
   "execution_count": 171,
   "id": "dabcb049",
   "metadata": {},
   "outputs": [],
   "source": [
    "# Best to generate new train and test samples to see that our results are reproducible.\n",
    "# First thing to do is shuffle the X and y dataframes with the sample function.\n",
    "X_final_sampled = X_final.sample(frac=1)\n",
    "y_final_sampled = y_final.sample(frac=1)\n",
    "X_train, X_test, y_train, y_test = train_test_split(X_final_sampled, y_final_sampled, test_size=0.2, random_state=6)"
   ]
  },
  {
   "cell_type": "code",
   "execution_count": 172,
   "id": "edab3f6d",
   "metadata": {},
   "outputs": [],
   "source": [
    "# Second time around categorization.\n",
    "y_train = cat(y_train['prob_bucket'])\n",
    "y_test = cat(y_test['prob_bucket'])"
   ]
  },
  {
   "cell_type": "code",
   "execution_count": 173,
   "id": "a56e6a47",
   "metadata": {},
   "outputs": [
    {
     "name": "stdout",
     "output_type": "stream",
     "text": [
      "Epoch 1/25\n",
      "8/8 [==============================] - 0s 16ms/step - loss: 1.3862 - accuracy: 0.3092 - val_loss: 1.3559 - val_accuracy: 0.1886\n",
      "Epoch 2/25\n",
      "8/8 [==============================] - 0s 2ms/step - loss: 1.3701 - accuracy: 0.5548 - val_loss: 1.3482 - val_accuracy: 0.1667\n",
      "Epoch 3/25\n",
      "8/8 [==============================] - 0s 2ms/step - loss: 1.3550 - accuracy: 0.5592 - val_loss: 1.3430 - val_accuracy: 0.1667\n",
      "Epoch 4/25\n",
      "8/8 [==============================] - 0s 2ms/step - loss: 1.3410 - accuracy: 0.5592 - val_loss: 1.3401 - val_accuracy: 0.1667\n",
      "Epoch 5/25\n",
      "8/8 [==============================] - 0s 2ms/step - loss: 1.3266 - accuracy: 0.5592 - val_loss: 1.3415 - val_accuracy: 0.1667\n",
      "Epoch 6/25\n",
      "8/8 [==============================] - 0s 2ms/step - loss: 1.3127 - accuracy: 0.5592 - val_loss: 1.3475 - val_accuracy: 0.1667\n",
      "Epoch 7/25\n",
      "8/8 [==============================] - 0s 2ms/step - loss: 1.2976 - accuracy: 0.5592 - val_loss: 1.3583 - val_accuracy: 0.1667\n",
      "Epoch 8/25\n",
      "8/8 [==============================] - 0s 2ms/step - loss: 1.2817 - accuracy: 0.5592 - val_loss: 1.3739 - val_accuracy: 0.1667\n",
      "Epoch 9/25\n",
      "8/8 [==============================] - 0s 2ms/step - loss: 1.2635 - accuracy: 0.5592 - val_loss: 1.3939 - val_accuracy: 0.1667\n"
     ]
    }
   ],
   "source": [
    "# Optimizing the model based on the resampled data.\n",
    "model_opt = load_model()\n",
    "history = model_opt.fit(X_train, y_train, batch_size=128, epochs=25, validation_data=(X_test, y_test), callbacks=[early_stop])"
   ]
  },
  {
   "cell_type": "code",
   "execution_count": 174,
   "id": "fd997f0f",
   "metadata": {},
   "outputs": [],
   "source": [
    "# We could see the number of epochs, but easier to just tie it to an object.\n",
    "num_epochs = len(history.__dict__['epoch'])"
   ]
  },
  {
   "cell_type": "code",
   "execution_count": 175,
   "id": "1e55a892",
   "metadata": {},
   "outputs": [
    {
     "name": "stdout",
     "output_type": "stream",
     "text": [
      "Epoch 1/9\n",
      "8/8 [==============================] - 0s 572us/step - loss: 1.1356 - accuracy: 0.5592\n",
      "Epoch 2/9\n",
      "8/8 [==============================] - 0s 572us/step - loss: 1.1337 - accuracy: 0.5592\n",
      "Epoch 3/9\n",
      "8/8 [==============================] - 0s 572us/step - loss: 1.1320 - accuracy: 0.5592\n",
      "Epoch 4/9\n",
      "8/8 [==============================] - 0s 572us/step - loss: 1.1309 - accuracy: 0.5592\n",
      "Epoch 5/9\n",
      "8/8 [==============================] - 0s 429us/step - loss: 1.1297 - accuracy: 0.5592\n",
      "Epoch 6/9\n",
      "8/8 [==============================] - 0s 572us/step - loss: 1.1291 - accuracy: 0.5592\n",
      "Epoch 7/9\n",
      "8/8 [==============================] - 0s 572us/step - loss: 1.1282 - accuracy: 0.5592\n",
      "Epoch 8/9\n",
      "8/8 [==============================] - 0s 572us/step - loss: 1.1278 - accuracy: 0.5592\n",
      "Epoch 9/9\n",
      "8/8 [==============================] - 0s 572us/step - loss: 1.1275 - accuracy: 0.5592\n"
     ]
    },
    {
     "data": {
      "text/plain": [
       "<tensorflow.python.keras.callbacks.History at 0x16a15300e50>"
      ]
     },
     "execution_count": 175,
     "metadata": {},
     "output_type": "execute_result"
    }
   ],
   "source": [
    "# Given that earlystopping stopped after 9 epochs, we will run 9 as well.\n",
    "# Again, since it's tied to an object, not much extra work involved.\n",
    "model.fit(X_train, y_train, epochs=num_epochs, batch_size=128, verbose=1)"
   ]
  },
  {
   "cell_type": "code",
   "execution_count": 176,
   "id": "f299eb07",
   "metadata": {},
   "outputs": [],
   "source": [
    "# Generating the predictions.\n",
    "predictions = model.predict(X_test)"
   ]
  },
  {
   "cell_type": "code",
   "execution_count": 177,
   "id": "d53271de",
   "metadata": {},
   "outputs": [
    {
     "name": "stdout",
     "output_type": "stream",
     "text": [
      "8/8 [==============================] - 0s 715us/step - loss: 1.1523 - accuracy: 1.0000\n"
     ]
    }
   ],
   "source": [
    "# We'll take it.\n",
    "loss, accuracy = model.evaluate(y_test, predictions)"
   ]
  },
  {
   "cell_type": "code",
   "execution_count": 178,
   "id": "f2ea2948",
   "metadata": {},
   "outputs": [
    {
     "name": "stdout",
     "output_type": "stream",
     "text": [
      "Test Accuracy: 100.0%\n"
     ]
    }
   ],
   "source": [
    "# For good measure to close it out.\n",
    "print(\"Test Accuracy: {}%\".format(accuracy * 100))"
   ]
  }
 ],
 "metadata": {
  "kernelspec": {
   "display_name": "Python 3",
   "language": "python",
   "name": "python3"
  },
  "language_info": {
   "codemirror_mode": {
    "name": "ipython",
    "version": 3
   },
   "file_extension": ".py",
   "mimetype": "text/x-python",
   "name": "python",
   "nbconvert_exporter": "python",
   "pygments_lexer": "ipython3",
   "version": "3.9.5"
  }
 },
 "nbformat": 4,
 "nbformat_minor": 5
}
