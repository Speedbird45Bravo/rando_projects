{
 "cells": [
  {
   "cell_type": "code",
   "execution_count": 347,
   "id": "2364e8e5",
   "metadata": {},
   "outputs": [],
   "source": [
    "from sklearn.model_selection import train_test_split\n",
    "from keras.layers import Dense, Conv2D, Flatten, MaxPooling2D\n",
    "from keras.models import Sequential, load_model\n",
    "from tensorflow.keras.utils import to_categorical\n",
    "from keras.callbacks import EarlyStopping, ModelCheckpoint\n",
    "import tensorflow_datasets as tfds\n",
    "from keras.datasets import mnist\n",
    "import numpy as np\n",
    "import pandas as pd\n",
    "import tensorflow as tf"
   ]
  },
  {
   "cell_type": "code",
   "execution_count": 348,
   "id": "55e5cfb2",
   "metadata": {},
   "outputs": [],
   "source": [
    "train = pd.read_csv(\"train.csv\")\n",
    "y_final = train[\"label\"]\n",
    "train = train.drop(\"label\", axis=1)\n",
    "train = train.values.reshape(42000,28,28,1)\n",
    "test = pd.read_csv(\"test.csv\")"
   ]
  },
  {
   "cell_type": "code",
   "execution_count": 349,
   "id": "9c990779",
   "metadata": {},
   "outputs": [],
   "source": [
    "MNIST = tfds.image.MNIST()"
   ]
  },
  {
   "cell_type": "code",
   "execution_count": 350,
   "id": "e90a64e9",
   "metadata": {},
   "outputs": [],
   "source": [
    "assert MNIST.info.features['image'].shape == (28,28,1)\n",
    "assert MNIST.info.features['label'].num_classes == 10\n",
    "assert MNIST.info.splits['train'].num_examples == 60000"
   ]
  },
  {
   "cell_type": "code",
   "execution_count": 351,
   "id": "068670d3",
   "metadata": {},
   "outputs": [],
   "source": [
    "MNIST.download_and_prepare()"
   ]
  },
  {
   "cell_type": "code",
   "execution_count": 352,
   "id": "b500196a",
   "metadata": {},
   "outputs": [],
   "source": [
    "ds, info = tfds.load(\"mnist\", split=\"train\", with_info=True)\n",
    "train_examples = tfds.as_dataframe(ds.take(10000), info)"
   ]
  },
  {
   "cell_type": "code",
   "execution_count": 353,
   "id": "23534e9a",
   "metadata": {},
   "outputs": [],
   "source": [
    "train_images = np.asarray(train_examples['image'])\n",
    "train_labels = np.asarray(train_examples['label'])"
   ]
  },
  {
   "cell_type": "code",
   "execution_count": 354,
   "id": "29a843ca",
   "metadata": {},
   "outputs": [],
   "source": [
    "t2 = []\n",
    "t4 = []"
   ]
  },
  {
   "cell_type": "code",
   "execution_count": 355,
   "id": "8156b1c7",
   "metadata": {},
   "outputs": [],
   "source": [
    "for i in range(len(train_images)):\n",
    "    t2.append(train_images[i])\n",
    "    t4.append(train_labels[i])"
   ]
  },
  {
   "cell_type": "code",
   "execution_count": 356,
   "id": "43c8baa4",
   "metadata": {},
   "outputs": [],
   "source": [
    "train_3 = np.asarray(t2)\n",
    "train_y = np.asarray(t4)"
   ]
  },
  {
   "cell_type": "code",
   "execution_count": 357,
   "id": "0833a6b0",
   "metadata": {},
   "outputs": [],
   "source": [
    "train_y = to_categorical(train_y)"
   ]
  },
  {
   "cell_type": "code",
   "execution_count": 358,
   "id": "0ce84ccf",
   "metadata": {},
   "outputs": [],
   "source": [
    "y_final = to_categorical(y_final)"
   ]
  },
  {
   "cell_type": "code",
   "execution_count": 359,
   "id": "576554df",
   "metadata": {},
   "outputs": [],
   "source": [
    "rows = train.shape[1]\n",
    "cols = train.shape[2]\n",
    "stopper = EarlyStopping(monitor=\"val_loss\", patience=10)"
   ]
  },
  {
   "cell_type": "code",
   "execution_count": 360,
   "id": "320c679d",
   "metadata": {},
   "outputs": [],
   "source": [
    "(X_train, y_train), (X_test, y_test) = mnist.load_data()"
   ]
  },
  {
   "cell_type": "code",
   "execution_count": 361,
   "id": "d1ce749d",
   "metadata": {},
   "outputs": [],
   "source": [
    "X_train = X_train.reshape(60000,28,28,1)\n",
    "y_train = to_categorical(y_train)"
   ]
  },
  {
   "cell_type": "code",
   "execution_count": 362,
   "id": "ce5872ac",
   "metadata": {},
   "outputs": [],
   "source": [
    "new_train = np.concatenate((X_train, train, train_3), axis=0).astype(\"float32\")\n",
    "new_target_train = np.concatenate((y_train, y_final, train_y), axis=0)"
   ]
  },
  {
   "cell_type": "code",
   "execution_count": 363,
   "id": "76b849c1",
   "metadata": {},
   "outputs": [],
   "source": [
    "def mod():\n",
    "    model = Sequential()\n",
    "    model.add(Conv2D(64, activation=\"relu\", kernel_size=2, input_shape=(28,28,1)))\n",
    "    model.add(MaxPooling2D(pool_size=(2,2)))\n",
    "    model.add(Conv2D(128, activation=\"relu\", kernel_size=2))\n",
    "    model.add(MaxPooling2D(pool_size=(2,2)))    \n",
    "    model.add(Flatten())\n",
    "    model.add(Dense(10, activation=\"softmax\"))\n",
    "    model.compile(optimizer=\"adam\", loss=\"categorical_crossentropy\", metrics=[\"accuracy\"])\n",
    "    return model"
   ]
  },
  {
   "cell_type": "code",
   "execution_count": 364,
   "id": "94e3fa15",
   "metadata": {},
   "outputs": [
    {
     "name": "stdout",
     "output_type": "stream",
     "text": [
      "Epoch 1/20\n",
      "1400/1400 [==============================] - 37s 26ms/step - loss: 0.2178 - accuracy: 0.9983 - val_loss: 0.5881 - val_accuracy: 0.9977\n",
      "Epoch 2/20\n",
      "1400/1400 [==============================] - 39s 28ms/step - loss: 0.2065 - accuracy: 0.9986 - val_loss: 0.8303 - val_accuracy: 0.9971\n",
      "Epoch 3/20\n",
      "1400/1400 [==============================] - 37s 27ms/step - loss: 0.1991 - accuracy: 0.9984 - val_loss: 0.6271 - val_accuracy: 0.9974\n",
      "Epoch 4/20\n",
      "1400/1400 [==============================] - 39s 28ms/step - loss: 0.1868 - accuracy: 0.9987 - val_loss: 0.5405 - val_accuracy: 0.9983\n",
      "Epoch 5/20\n",
      "1400/1400 [==============================] - 39s 28ms/step - loss: 0.2001 - accuracy: 0.9985 - val_loss: 0.4623 - val_accuracy: 0.9979\n",
      "Epoch 6/20\n",
      "1400/1400 [==============================] - 38s 27ms/step - loss: 0.1681 - accuracy: 0.9987 - val_loss: 0.5875 - val_accuracy: 0.9980\n",
      "Epoch 7/20\n",
      "1400/1400 [==============================] - 37s 26ms/step - loss: 0.1705 - accuracy: 0.9988 - val_loss: 0.5236 - val_accuracy: 0.9983\n",
      "Epoch 8/20\n",
      "1400/1400 [==============================] - 36s 26ms/step - loss: 0.2060 - accuracy: 0.9985 - val_loss: 0.6362 - val_accuracy: 0.9985\n",
      "Epoch 9/20\n",
      "1400/1400 [==============================] - 36s 26ms/step - loss: 0.1439 - accuracy: 0.9989 - val_loss: 0.5636 - val_accuracy: 0.9982\n",
      "Epoch 10/20\n",
      "1400/1400 [==============================] - 36s 26ms/step - loss: 0.1745 - accuracy: 0.9988 - val_loss: 0.5147 - val_accuracy: 0.9984\n",
      "Epoch 11/20\n",
      "1400/1400 [==============================] - 37s 26ms/step - loss: 0.1769 - accuracy: 0.9986 - val_loss: 0.5495 - val_accuracy: 0.9983\n",
      "Epoch 12/20\n",
      "1400/1400 [==============================] - 36s 26ms/step - loss: 0.1535 - accuracy: 0.9989 - val_loss: 0.4600 - val_accuracy: 0.9982\n",
      "Epoch 13/20\n",
      "1400/1400 [==============================] - 36s 26ms/step - loss: 0.1381 - accuracy: 0.9988 - val_loss: 0.3975 - val_accuracy: 0.9986\n",
      "Epoch 14/20\n",
      "1400/1400 [==============================] - 36s 26ms/step - loss: 0.1355 - accuracy: 0.9989 - val_loss: 0.6532 - val_accuracy: 0.9979\n",
      "Epoch 15/20\n",
      "1400/1400 [==============================] - 36s 26ms/step - loss: 0.1430 - accuracy: 0.9989 - val_loss: 0.3786 - val_accuracy: 0.9990\n",
      "Epoch 16/20\n",
      "1400/1400 [==============================] - 36s 26ms/step - loss: 0.1512 - accuracy: 0.9989 - val_loss: 0.5412 - val_accuracy: 0.9978\n",
      "Epoch 17/20\n",
      "1400/1400 [==============================] - 36s 26ms/step - loss: 0.1385 - accuracy: 0.9989 - val_loss: 0.6438 - val_accuracy: 0.9984\n",
      "Epoch 18/20\n",
      "1400/1400 [==============================] - 36s 26ms/step - loss: 0.1468 - accuracy: 0.9988 - val_loss: 0.5091 - val_accuracy: 0.9987\n",
      "Epoch 19/20\n",
      "1400/1400 [==============================] - 36s 26ms/step - loss: 0.1043 - accuracy: 0.9991 - val_loss: 0.5967 - val_accuracy: 0.9980\n",
      "Epoch 20/20\n",
      "1400/1400 [==============================] - 36s 26ms/step - loss: 0.1167 - accuracy: 0.9990 - val_loss: 0.5049 - val_accuracy: 0.9988\n"
     ]
    },
    {
     "data": {
      "text/plain": [
       "<keras.callbacks.History at 0x16e1eaeac70>"
      ]
     },
     "execution_count": 364,
     "metadata": {},
     "output_type": "execute_result"
    }
   ],
   "source": [
    "##### CALL LOAD MODEL FROM new_best_model #####\n",
    "model = load_model(\"CNN_101121.hdf5\")\n",
    "model.fit(new_train, new_target_train, epochs=20, batch_size=64, verbose=1, validation_split=0.2, callbacks=[stopper])"
   ]
  },
  {
   "cell_type": "code",
   "execution_count": 365,
   "id": "d532cf68",
   "metadata": {},
   "outputs": [],
   "source": [
    "X_test = test.values.reshape(28000,28,28,1)\n",
    "predictions = model.predict(X_test)"
   ]
  },
  {
   "cell_type": "code",
   "execution_count": 366,
   "id": "a4eb6e11",
   "metadata": {},
   "outputs": [],
   "source": [
    "predictions = pd.DataFrame(predictions).idxmax(axis=1)"
   ]
  },
  {
   "cell_type": "code",
   "execution_count": 367,
   "id": "b37acd93",
   "metadata": {},
   "outputs": [],
   "source": [
    "submission = pd.DataFrame({\"ImageId\":np.arange(1,28001), \"label\":predictions})"
   ]
  },
  {
   "cell_type": "code",
   "execution_count": 368,
   "id": "a34975b0",
   "metadata": {},
   "outputs": [],
   "source": [
    "submission.to_csv(\"mnist_101021_XI.csv\", index=False)"
   ]
  }
 ],
 "metadata": {
  "kernelspec": {
   "display_name": "Python 3",
   "language": "python",
   "name": "python3"
  },
  "language_info": {
   "codemirror_mode": {
    "name": "ipython",
    "version": 3
   },
   "file_extension": ".py",
   "mimetype": "text/x-python",
   "name": "python",
   "nbconvert_exporter": "python",
   "pygments_lexer": "ipython3",
   "version": "3.9.5"
  }
 },
 "nbformat": 4,
 "nbformat_minor": 5
}
