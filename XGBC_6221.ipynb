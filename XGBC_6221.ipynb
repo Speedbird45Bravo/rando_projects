{
  "nbformat": 4,
  "nbformat_minor": 0,
  "metadata": {
    "colab": {
      "name": "XGBC_6221.ipynb",
      "provenance": [],
      "collapsed_sections": [],
      "authorship_tag": "ABX9TyMR6YBeXQQMS6MjMMpmE+pq"
    },
    "kernelspec": {
      "name": "python3",
      "display_name": "Python 3"
    },
    "language_info": {
      "name": "python"
    }
  },
  "cells": [
    {
      "cell_type": "code",
      "metadata": {
        "id": "5WQrffAk1w0H"
      },
      "source": [
        "from sklearn.metrics import accuracy_score\n",
        "from sklearn.model_selection import cross_val_score, KFold, train_test_split\n",
        "from xgboost import XGBClassifier\n",
        "import numpy as np\n",
        "import pandas as pd"
      ],
      "execution_count": 144,
      "outputs": []
    },
    {
      "cell_type": "code",
      "metadata": {
        "id": "BuUXb99U13l_"
      },
      "source": [
        "df = pd.read_csv(\"https://projects.fivethirtyeight.com/soccer-api/club/spi_matches_latest.csv\").dropna()"
      ],
      "execution_count": 145,
      "outputs": []
    },
    {
      "cell_type": "code",
      "metadata": {
        "id": "ysiSkZHf3IOC"
      },
      "source": [
        "df['result'] = np.abs(df['score1'] - df['score2'])"
      ],
      "execution_count": 146,
      "outputs": []
    },
    {
      "cell_type": "code",
      "metadata": {
        "id": "QrgU1s2LI_Pj"
      },
      "source": [
        "results = []"
      ],
      "execution_count": 147,
      "outputs": []
    },
    {
      "cell_type": "code",
      "metadata": {
        "id": "qWsSRxeYJA72"
      },
      "source": [
        "for x in df['result']:\n",
        "  if x == 0:\n",
        "    results.append(\"TIE\")\n",
        "  else:\n",
        "    results.append(\"RESULT\")"
      ],
      "execution_count": 148,
      "outputs": []
    },
    {
      "cell_type": "code",
      "metadata": {
        "id": "FEi9Mv5GJIhe"
      },
      "source": [
        "df['result'] = results"
      ],
      "execution_count": 149,
      "outputs": []
    },
    {
      "cell_type": "code",
      "metadata": {
        "id": "kyq7Qv3HJJ2F"
      },
      "source": [
        "ties = []"
      ],
      "execution_count": 150,
      "outputs": []
    },
    {
      "cell_type": "code",
      "metadata": {
        "id": "xSg_dxcqJSvh"
      },
      "source": [
        "mean_pt = np.mean(df['probtie'])\n",
        "max_pt = np.max(df['probtie'])\n",
        "sd_pt = np.std(df['probtie'])"
      ],
      "execution_count": 151,
      "outputs": []
    },
    {
      "cell_type": "code",
      "metadata": {
        "id": "Etu9NOKoJbnt"
      },
      "source": [
        "for y in df['probtie']:\n",
        "  if y < mean_pt:\n",
        "    ties.append(\"TIER 1\")\n",
        "  elif (y >= mean_pt) & (y < (mean_pt + sd_pt)):\n",
        "    ties.append(\"TIER 2\")\n",
        "  elif (y >= (mean_pt + sd_pt)) & (y < (mean_pt + (sd_pt * 1.5))):\n",
        "    ties.append(\"TIER 3\")\n",
        "  else:\n",
        "    ties.append(\"TIER 4\")"
      ],
      "execution_count": 152,
      "outputs": []
    },
    {
      "cell_type": "code",
      "metadata": {
        "id": "fE_Sd-HRJ1Mc"
      },
      "source": [
        "df['tie_prob'] = ties"
      ],
      "execution_count": 153,
      "outputs": []
    },
    {
      "cell_type": "code",
      "metadata": {
        "id": "6qV6QpPBKUQY"
      },
      "source": [
        "X = df[['prob1','prob2']]\n",
        "y = df['tie_prob']\n",
        "X_train, X_test, y_train, y_test = train_test_split(X, y, test_size=0.2, random_state=6)"
      ],
      "execution_count": 154,
      "outputs": []
    },
    {
      "cell_type": "code",
      "metadata": {
        "id": "o42yVyfaKqYE"
      },
      "source": [
        "model = XGBClassifier(max_depth=6)"
      ],
      "execution_count": 155,
      "outputs": []
    },
    {
      "cell_type": "code",
      "metadata": {
        "colab": {
          "base_uri": "https://localhost:8080/"
        },
        "id": "EREk8HEDLFX7",
        "outputId": "ab7297c9-6024-4d9c-a6b4-39f8d7c3347b"
      },
      "source": [
        "model.fit(X_train, y_train)"
      ],
      "execution_count": 156,
      "outputs": [
        {
          "output_type": "execute_result",
          "data": {
            "text/plain": [
              "XGBClassifier(base_score=0.5, booster='gbtree', colsample_bylevel=1,\n",
              "              colsample_bynode=1, colsample_bytree=1, gamma=0,\n",
              "              learning_rate=0.1, max_delta_step=0, max_depth=6,\n",
              "              min_child_weight=1, missing=None, n_estimators=100, n_jobs=1,\n",
              "              nthread=None, objective='multi:softprob', random_state=0,\n",
              "              reg_alpha=0, reg_lambda=1, scale_pos_weight=1, seed=None,\n",
              "              silent=None, subsample=1, verbosity=1)"
            ]
          },
          "metadata": {
            "tags": []
          },
          "execution_count": 156
        }
      ]
    },
    {
      "cell_type": "code",
      "metadata": {
        "id": "7AdJHBKzLGrT"
      },
      "source": [
        "predictions = model.predict(X_test)"
      ],
      "execution_count": 157,
      "outputs": []
    },
    {
      "cell_type": "code",
      "metadata": {
        "id": "JmiMbHDMLLg_"
      },
      "source": [
        "accuracy = accuracy_score(y_test, predictions)"
      ],
      "execution_count": 158,
      "outputs": []
    },
    {
      "cell_type": "code",
      "metadata": {
        "colab": {
          "base_uri": "https://localhost:8080/"
        },
        "id": "lUGhPdZ8LOzu",
        "outputId": "17a9bb80-e3a0-4cf5-df2d-7c6830e1c1ca"
      },
      "source": [
        "print(\"Test Accuracy: {}%\".format(np.round(accuracy * 100),3))"
      ],
      "execution_count": 159,
      "outputs": [
        {
          "output_type": "stream",
          "text": [
            "Test Accuracy: 93.0%\n"
          ],
          "name": "stdout"
        }
      ]
    },
    {
      "cell_type": "code",
      "metadata": {
        "id": "14AovBOoLWnr"
      },
      "source": [
        "kfold = KFold(n_splits=10, shuffle=True)"
      ],
      "execution_count": 160,
      "outputs": []
    },
    {
      "cell_type": "code",
      "metadata": {
        "id": "yHk1dDkFLY0P"
      },
      "source": [
        "cv_score = cross_val_score(model, X, y, cv=kfold).mean()"
      ],
      "execution_count": 161,
      "outputs": []
    },
    {
      "cell_type": "code",
      "metadata": {
        "colab": {
          "base_uri": "https://localhost:8080/"
        },
        "id": "wzVAP2_0LdW_",
        "outputId": "e6936923-2737-4c01-9075-09653a4dfcfb"
      },
      "source": [
        "print(\"Cross-Validation Score: {}\".format(cv_score))"
      ],
      "execution_count": 162,
      "outputs": [
        {
          "output_type": "stream",
          "text": [
            "Cross-Validation Score: 0.95239489660997\n"
          ],
          "name": "stdout"
        }
      ]
    },
    {
      "cell_type": "code",
      "metadata": {
        "id": "HxED492R_EKE"
      },
      "source": [
        "acc = []"
      ],
      "execution_count": 163,
      "outputs": []
    },
    {
      "cell_type": "code",
      "metadata": {
        "id": "W-vwUNSr9gOo"
      },
      "source": [
        "def random_data(df):\n",
        "  count = 0    \n",
        "  df = pd.read_csv(df).dropna()\n",
        "  df = df[df.season <= 2018]\n",
        "\n",
        "  while count < 100:\n",
        "    df['result'] = np.abs(df['score1'] - df['score2'])\n",
        "\n",
        "    results = []\n",
        "\n",
        "\n",
        "    for x in df['result']:\n",
        "      if x == 0:\n",
        "        results.append(\"TIE\")\n",
        "      else:\n",
        "        results.append(\"RESULT\")\n",
        "\n",
        "    df['result'] = results\n",
        "\n",
        "    ties = []\n",
        "\n",
        "    mean_pt = np.mean(df['probtie'])\n",
        "    max_pt = np.max(df['probtie'])\n",
        "    sd_pt = np.std(df['probtie'])\n",
        "\n",
        "    for y in df['probtie']:\n",
        "      if y < mean_pt:\n",
        "        ties.append(\"TIER 1\")\n",
        "      elif (y >= mean_pt) & (y < (mean_pt + sd_pt)):\n",
        "        ties.append(\"TIER 2\")\n",
        "      elif (y >= (mean_pt + sd_pt)) & (y < (mean_pt + (sd_pt * 1.5))):\n",
        "        ties.append(\"TIER 3\")\n",
        "      else:\n",
        "        ties.append(\"TIER 4\")        \n",
        "\n",
        "    df['tie_prob'] = ties\n",
        "\n",
        "    X = df[['prob1','prob2']]\n",
        "    y = df['tie_prob']\n",
        "    X_train, X_test, y_train, y_test = train_test_split(X, y, test_size=0.2, random_state=count)\n",
        "\n",
        "    predictions = model.predict(X_test)\n",
        "\n",
        "    accuracy = accuracy_score(y_test, predictions)\n",
        "\n",
        "    acc.append(accuracy)\n",
        "\n",
        "    count += 1"
      ],
      "execution_count": 164,
      "outputs": []
    },
    {
      "cell_type": "code",
      "metadata": {
        "id": "pIdzzkWMhGKC"
      },
      "source": [
        "run = random_data(\"https://projects.fivethirtyeight.com/soccer-api/club/spi_matches.csv\")"
      ],
      "execution_count": 165,
      "outputs": []
    },
    {
      "cell_type": "code",
      "metadata": {
        "id": "8TzrxV94hLCn"
      },
      "source": [
        "min_acc = np.min(acc)\n",
        "max_acc = np.max(acc)\n",
        "mean_acc = np.mean(acc)"
      ],
      "execution_count": 166,
      "outputs": []
    },
    {
      "cell_type": "code",
      "metadata": {
        "colab": {
          "base_uri": "https://localhost:8080/"
        },
        "id": "OPyxPPo-AQkE",
        "outputId": "ab084b1d-65b8-4d02-c2fc-1ff3bb01883b"
      },
      "source": [
        "print(\"Accuracy Values:\")\n",
        "print(\"Min: {} | Mean: {} | Max: {}\".format(min_acc, mean_acc, max_acc))"
      ],
      "execution_count": 168,
      "outputs": [
        {
          "output_type": "stream",
          "text": [
            "Accuracy Values:\n",
            "Min: 0.931214421252372 | Mean: 0.9430597722960151 | Max: 0.9535104364326376\n"
          ],
          "name": "stdout"
        }
      ]
    }
  ]
}