{
 "cells": [
  {
   "cell_type": "code",
   "execution_count": 2,
   "id": "c073771f",
   "metadata": {},
   "outputs": [],
   "source": [
    "from IPython.display import display, Image\n",
    "from sagemaker import get_execution_role\n",
    "from sagemaker.predictor import csv_serializer\n",
    "from sagemaker.serializers import CSVSerializer\n",
    "from time import gmtime, strftime\n",
    "import boto3, re, sys, math, json, os, sagemaker, urllib.request\n",
    "import matplotlib.pyplot as plt\n",
    "import numpy as np\n",
    "import pandas as pd"
   ]
  },
  {
   "cell_type": "code",
   "execution_count": 3,
   "id": "aab8e335",
   "metadata": {},
   "outputs": [],
   "source": [
    "# AWS Sagemaker deployment\n",
    "# Role definition\n",
    "role = get_execution_role()\n",
    "prefix = \"sage-boost\"\n",
    "my_region = boto3.session.Session().region_name"
   ]
  },
  {
   "cell_type": "code",
   "execution_count": 4,
   "id": "b721ed8c",
   "metadata": {},
   "outputs": [],
   "source": [
    "XGB_container = sagemaker.image_uris.retrieve(\"xgboost\", my_region, \"latest\")"
   ]
  },
  {
   "cell_type": "code",
   "execution_count": 5,
   "id": "3eaabfc8",
   "metadata": {},
   "outputs": [
    {
     "name": "stdout",
     "output_type": "stream",
     "text": [
      "Success - the MySageMakerInstance is in the us-east-1 region. You will use the 811284229777.dkr.ecr.us-east-1.amazonaws.com/xgboost:latest container for your SageMaker endpoint.\n"
     ]
    }
   ],
   "source": [
    "print(\"Success - the MySageMakerInstance is in the \" + my_region + \" region. You will use the \" + XGB_container + \" container for your SageMaker endpoint.\")"
   ]
  },
  {
   "cell_type": "code",
   "execution_count": 12,
   "id": "0a6c21d0",
   "metadata": {},
   "outputs": [],
   "source": [
    "bucket_name = \"sage-goose\"\n",
    "s3 = boto3.resource(\"s3\")"
   ]
  },
  {
   "cell_type": "code",
   "execution_count": 13,
   "id": "782e4468",
   "metadata": {},
   "outputs": [
    {
     "name": "stdout",
     "output_type": "stream",
     "text": [
      "Successful Bucket Creation\n"
     ]
    }
   ],
   "source": [
    "# The creation of the buckets.\n",
    "try:\n",
    "    if my_region == \"us-east-1\":\n",
    "        s3.create_bucket(Bucket=bucket_name)\n",
    "    else:\n",
    "        s3.create_bucket(Bucket=bucket_name, CreateBucketConfiguration={'LocationConstraint':my_region})\n",
    "    print(\"Successful Bucket Creation\")\n",
    "except Exception as e:\n",
    "    print(\"S3 error!\", e)"
   ]
  },
  {
   "cell_type": "code",
   "execution_count": 14,
   "id": "b970cde3",
   "metadata": {},
   "outputs": [
    {
     "name": "stdout",
     "output_type": "stream",
     "text": [
      "Success!\n"
     ]
    }
   ],
   "source": [
    "# Obtaining the data\n",
    "try:\n",
    "    urllib.request.urlretrieve(\"https://d1.awsstatic.com/tmt/build-train-deploy-machine-learning-model-sagemaker/bank_clean.27f01fbbdf43271788427f3682996ae29ceca05d.csv\", \"bank_clean.csv\")\n",
    "    print(\"Success!\")\n",
    "except Exception as e:\n",
    "    print(\"Error.\", e)"
   ]
  },
  {
   "cell_type": "code",
   "execution_count": 15,
   "id": "fdc204b7",
   "metadata": {},
   "outputs": [
    {
     "name": "stdout",
     "output_type": "stream",
     "text": [
      "Success!\n"
     ]
    }
   ],
   "source": [
    "try:\n",
    "    df = pd.read_csv(\"./bank_clean.csv\", index_col=0)\n",
    "    print(\"Success!\")\n",
    "except Exception as e:\n",
    "    print(\"Error.\",e)"
   ]
  },
  {
   "cell_type": "code",
   "execution_count": 16,
   "id": "dc6af1d4",
   "metadata": {},
   "outputs": [
    {
     "name": "stdout",
     "output_type": "stream",
     "text": [
      "(28831, 61) (12357, 61)\n"
     ]
    }
   ],
   "source": [
    "train_data, test_data = np.split(df.sample(frac=1, random_state=1729), [int(0.7 * len(df))])\n",
    "print(train_data.shape, test_data.shape)"
   ]
  },
  {
   "cell_type": "code",
   "execution_count": 17,
   "id": "8fe0aec8",
   "metadata": {},
   "outputs": [],
   "source": [
    "pd.concat([train_data['y_yes'], train_data.drop(['y_no', 'y_yes'], axis=1)], axis=1).to_csv('train.csv', index=False, header=False)\n",
    "boto3.Session().resource('s3').Bucket(bucket_name).Object(os.path.join(prefix, 'train/train.csv')).upload_file('train.csv')\n",
    "trains = sagemaker.inputs.TrainingInput(s3_data='s3://{}/{}/train'.format(bucket_name, prefix), content_type='csv')"
   ]
  },
  {
   "cell_type": "code",
   "execution_count": 18,
   "id": "eac01d23",
   "metadata": {},
   "outputs": [],
   "source": [
    "sess = sagemaker.Session()\n",
    "XGB = sagemaker.estimator.Estimator(XGB_container, role, instance_count=1, instance_type='ml.m4.xlarge', output_path='s3://{}/{}/output'.format(bucket_name, prefix), sagemaker_session=sess)\n",
    "XGB.set_hyperparameters(max_depth=6, eta=0.2, gamma=4, min_child_weight=6, subsample=0.8, silent=0, objective='binary:logistic', num_round=100)"
   ]
  },
  {
   "cell_type": "code",
   "execution_count": 19,
   "id": "d5c7cd5e",
   "metadata": {},
   "outputs": [
    {
     "name": "stdout",
     "output_type": "stream",
     "text": [
      "2021-06-09 16:11:15 Starting - Starting the training job...\n",
      "2021-06-09 16:11:43 Starting - Launching requested ML instancesProfilerReport-1623255074: InProgress\n",
      "......\n",
      "2021-06-09 16:12:43 Starting - Preparing the instances for training.........\n",
      "2021-06-09 16:14:04 Downloading - Downloading input data...\n",
      "2021-06-09 16:14:44 Training - Downloading the training image..\u001b[34mArguments: train\u001b[0m\n",
      "\u001b[34m[2021-06-09:16:14:54:INFO] Running standalone xgboost training.\u001b[0m\n",
      "\u001b[34m[2021-06-09:16:14:54:INFO] Path /opt/ml/input/data/validation does not exist!\u001b[0m\n",
      "\u001b[34m[2021-06-09:16:14:54:INFO] File size need to be processed in the node: 3.38mb. Available memory size in the node: 8419.96mb\u001b[0m\n",
      "\u001b[34m[2021-06-09:16:14:54:INFO] Determined delimiter of CSV input is ','\u001b[0m\n",
      "\u001b[34m[16:14:54] S3DistributionType set as FullyReplicated\u001b[0m\n",
      "\u001b[34m[16:14:54] 28831x59 matrix with 1701029 entries loaded from /opt/ml/input/data/train?format=csv&label_column=0&delimiter=,\u001b[0m\n",
      "\u001b[34m[16:14:54] src/tree/updater_prune.cc:74: tree pruning end, 1 roots, 40 extra nodes, 26 pruned nodes, max_depth=6\u001b[0m\n",
      "\u001b[34m[0]#011train-error:0.099997\u001b[0m\n",
      "\u001b[34m[16:14:54] src/tree/updater_prune.cc:74: tree pruning end, 1 roots, 40 extra nodes, 22 pruned nodes, max_depth=6\u001b[0m\n",
      "\u001b[34m[1]#011train-error:0.099338\u001b[0m\n",
      "\u001b[34m[16:14:54] src/tree/updater_prune.cc:74: tree pruning end, 1 roots, 36 extra nodes, 36 pruned nodes, max_depth=6\u001b[0m\n",
      "\u001b[34m[2]#011train-error:0.099268\u001b[0m\n",
      "\u001b[34m[16:14:54] src/tree/updater_prune.cc:74: tree pruning end, 1 roots, 32 extra nodes, 24 pruned nodes, max_depth=6\u001b[0m\n",
      "\u001b[34m[3]#011train-error:0.099129\u001b[0m\n",
      "\u001b[34m[16:14:54] src/tree/updater_prune.cc:74: tree pruning end, 1 roots, 40 extra nodes, 12 pruned nodes, max_depth=6\u001b[0m\n",
      "\u001b[34m[4]#011train-error:0.099199\u001b[0m\n",
      "\u001b[34m[16:14:54] src/tree/updater_prune.cc:74: tree pruning end, 1 roots, 36 extra nodes, 26 pruned nodes, max_depth=6\u001b[0m\n",
      "\u001b[34m[5]#011train-error:0.098713\u001b[0m\n",
      "\u001b[34m[16:14:54] src/tree/updater_prune.cc:74: tree pruning end, 1 roots, 38 extra nodes, 34 pruned nodes, max_depth=6\u001b[0m\n",
      "\u001b[34m[6]#011train-error:0.098852\u001b[0m\n",
      "\u001b[34m[16:14:54] src/tree/updater_prune.cc:74: tree pruning end, 1 roots, 36 extra nodes, 42 pruned nodes, max_depth=6\u001b[0m\n",
      "\u001b[34m[7]#011train-error:0.098644\u001b[0m\n",
      "\u001b[34m[16:14:54] src/tree/updater_prune.cc:74: tree pruning end, 1 roots, 36 extra nodes, 38 pruned nodes, max_depth=6\u001b[0m\n",
      "\u001b[34m[8]#011train-error:0.098644\u001b[0m\n",
      "\u001b[34m[16:14:54] src/tree/updater_prune.cc:74: tree pruning end, 1 roots, 42 extra nodes, 28 pruned nodes, max_depth=6\u001b[0m\n",
      "\u001b[34m[9]#011train-error:0.098887\u001b[0m\n",
      "\u001b[34m[16:14:54] src/tree/updater_prune.cc:74: tree pruning end, 1 roots, 38 extra nodes, 40 pruned nodes, max_depth=6\u001b[0m\n",
      "\u001b[34m[10]#011train-error:0.098817\u001b[0m\n",
      "\u001b[34m[16:14:54] src/tree/updater_prune.cc:74: tree pruning end, 1 roots, 38 extra nodes, 34 pruned nodes, max_depth=6\u001b[0m\n",
      "\u001b[34m[11]#011train-error:0.098644\u001b[0m\n",
      "\u001b[34m[16:14:54] src/tree/updater_prune.cc:74: tree pruning end, 1 roots, 22 extra nodes, 46 pruned nodes, max_depth=6\u001b[0m\n",
      "\u001b[34m[12]#011train-error:0.097985\u001b[0m\n",
      "\u001b[34m[16:14:55] src/tree/updater_prune.cc:74: tree pruning end, 1 roots, 30 extra nodes, 22 pruned nodes, max_depth=6\u001b[0m\n",
      "\u001b[34m[13]#011train-error:0.097985\u001b[0m\n",
      "\u001b[34m[16:14:55] src/tree/updater_prune.cc:74: tree pruning end, 1 roots, 38 extra nodes, 44 pruned nodes, max_depth=6\u001b[0m\n",
      "\u001b[34m[14]#011train-error:0.098193\u001b[0m\n",
      "\u001b[34m[16:14:55] src/tree/updater_prune.cc:74: tree pruning end, 1 roots, 30 extra nodes, 42 pruned nodes, max_depth=6\u001b[0m\n",
      "\u001b[34m[15]#011train-error:0.098054\u001b[0m\n",
      "\u001b[34m[16:14:55] src/tree/updater_prune.cc:74: tree pruning end, 1 roots, 26 extra nodes, 28 pruned nodes, max_depth=6\u001b[0m\n",
      "\u001b[34m[16]#011train-error:0.098089\u001b[0m\n",
      "\u001b[34m[16:14:55] src/tree/updater_prune.cc:74: tree pruning end, 1 roots, 30 extra nodes, 26 pruned nodes, max_depth=6\u001b[0m\n",
      "\u001b[34m[17]#011train-error:0.097915\u001b[0m\n",
      "\u001b[34m[16:14:55] src/tree/updater_prune.cc:74: tree pruning end, 1 roots, 24 extra nodes, 32 pruned nodes, max_depth=6\u001b[0m\n",
      "\u001b[34m[18]#011train-error:0.09743\u001b[0m\n",
      "\u001b[34m[16:14:55] src/tree/updater_prune.cc:74: tree pruning end, 1 roots, 32 extra nodes, 24 pruned nodes, max_depth=6\u001b[0m\n",
      "\u001b[34m[19]#011train-error:0.097499\u001b[0m\n",
      "\u001b[34m[16:14:55] src/tree/updater_prune.cc:74: tree pruning end, 1 roots, 18 extra nodes, 22 pruned nodes, max_depth=6\u001b[0m\n",
      "\u001b[34m[20]#011train-error:0.09743\u001b[0m\n",
      "\u001b[34m[16:14:55] src/tree/updater_prune.cc:74: tree pruning end, 1 roots, 40 extra nodes, 28 pruned nodes, max_depth=6\u001b[0m\n",
      "\u001b[34m[21]#011train-error:0.097534\u001b[0m\n",
      "\u001b[34m[16:14:55] src/tree/updater_prune.cc:74: tree pruning end, 1 roots, 30 extra nodes, 48 pruned nodes, max_depth=6\u001b[0m\n",
      "\u001b[34m[22]#011train-error:0.097638\u001b[0m\n",
      "\u001b[34m[16:14:55] src/tree/updater_prune.cc:74: tree pruning end, 1 roots, 32 extra nodes, 18 pruned nodes, max_depth=6\u001b[0m\n",
      "\u001b[34m[23]#011train-error:0.097638\u001b[0m\n",
      "\u001b[34m[16:14:55] src/tree/updater_prune.cc:74: tree pruning end, 1 roots, 38 extra nodes, 54 pruned nodes, max_depth=6\u001b[0m\n",
      "\u001b[34m[24]#011train-error:0.097638\u001b[0m\n",
      "\u001b[34m[16:14:55] src/tree/updater_prune.cc:74: tree pruning end, 1 roots, 18 extra nodes, 34 pruned nodes, max_depth=6\u001b[0m\n",
      "\u001b[34m[25]#011train-error:0.097395\u001b[0m\n",
      "\u001b[34m[16:14:55] src/tree/updater_prune.cc:74: tree pruning end, 1 roots, 20 extra nodes, 32 pruned nodes, max_depth=6\u001b[0m\n",
      "\u001b[34m[26]#011train-error:0.09736\u001b[0m\n",
      "\u001b[34m[16:14:55] src/tree/updater_prune.cc:74: tree pruning end, 1 roots, 34 extra nodes, 30 pruned nodes, max_depth=6\u001b[0m\n",
      "\u001b[34m[27]#011train-error:0.097326\u001b[0m\n",
      "\u001b[34m[16:14:55] src/tree/updater_prune.cc:74: tree pruning end, 1 roots, 10 extra nodes, 22 pruned nodes, max_depth=4\u001b[0m\n",
      "\u001b[34m[28]#011train-error:0.09743\u001b[0m\n",
      "\u001b[34m[16:14:55] src/tree/updater_prune.cc:74: tree pruning end, 1 roots, 30 extra nodes, 24 pruned nodes, max_depth=6\u001b[0m\n",
      "\u001b[34m[29]#011train-error:0.097291\u001b[0m\n",
      "\u001b[34m[16:14:55] src/tree/updater_prune.cc:74: tree pruning end, 1 roots, 34 extra nodes, 28 pruned nodes, max_depth=6\u001b[0m\n",
      "\u001b[34m[30]#011train-error:0.09736\u001b[0m\n",
      "\u001b[34m[16:14:56] src/tree/updater_prune.cc:74: tree pruning end, 1 roots, 38 extra nodes, 22 pruned nodes, max_depth=6\u001b[0m\n",
      "\u001b[34m[31]#011train-error:0.097187\u001b[0m\n",
      "\u001b[34m[16:14:56] src/tree/updater_prune.cc:74: tree pruning end, 1 roots, 28 extra nodes, 30 pruned nodes, max_depth=6\u001b[0m\n",
      "\u001b[34m[32]#011train-error:0.096875\u001b[0m\n",
      "\u001b[34m[16:14:56] src/tree/updater_prune.cc:74: tree pruning end, 1 roots, 14 extra nodes, 46 pruned nodes, max_depth=5\u001b[0m\n",
      "\u001b[34m[33]#011train-error:0.09691\u001b[0m\n",
      "\u001b[34m[16:14:56] src/tree/updater_prune.cc:74: tree pruning end, 1 roots, 12 extra nodes, 16 pruned nodes, max_depth=6\u001b[0m\n",
      "\u001b[34m[34]#011train-error:0.096806\u001b[0m\n",
      "\u001b[34m[16:14:56] src/tree/updater_prune.cc:74: tree pruning end, 1 roots, 26 extra nodes, 36 pruned nodes, max_depth=6\u001b[0m\n",
      "\u001b[34m[35]#011train-error:0.096736\u001b[0m\n",
      "\u001b[34m[16:14:56] src/tree/updater_prune.cc:74: tree pruning end, 1 roots, 14 extra nodes, 22 pruned nodes, max_depth=6\u001b[0m\n",
      "\u001b[34m[36]#011train-error:0.096597\u001b[0m\n",
      "\u001b[34m[16:14:56] src/tree/updater_prune.cc:74: tree pruning end, 1 roots, 30 extra nodes, 18 pruned nodes, max_depth=6\u001b[0m\n",
      "\u001b[34m[37]#011train-error:0.096667\u001b[0m\n",
      "\u001b[34m[16:14:56] src/tree/updater_prune.cc:74: tree pruning end, 1 roots, 28 extra nodes, 46 pruned nodes, max_depth=6\u001b[0m\n",
      "\u001b[34m[38]#011train-error:0.096493\u001b[0m\n",
      "\u001b[34m[16:14:56] src/tree/updater_prune.cc:74: tree pruning end, 1 roots, 22 extra nodes, 42 pruned nodes, max_depth=5\u001b[0m\n",
      "\u001b[34m[39]#011train-error:0.096389\u001b[0m\n",
      "\u001b[34m[16:14:56] src/tree/updater_prune.cc:74: tree pruning end, 1 roots, 26 extra nodes, 42 pruned nodes, max_depth=6\u001b[0m\n",
      "\u001b[34m[40]#011train-error:0.096355\u001b[0m\n",
      "\u001b[34m[16:14:56] src/tree/updater_prune.cc:74: tree pruning end, 1 roots, 16 extra nodes, 48 pruned nodes, max_depth=5\u001b[0m\n",
      "\u001b[34m[41]#011train-error:0.096251\u001b[0m\n",
      "\u001b[34m[16:14:56] src/tree/updater_prune.cc:74: tree pruning end, 1 roots, 26 extra nodes, 14 pruned nodes, max_depth=6\u001b[0m\n",
      "\u001b[34m[42]#011train-error:0.096355\u001b[0m\n",
      "\u001b[34m[16:14:56] src/tree/updater_prune.cc:74: tree pruning end, 1 roots, 12 extra nodes, 18 pruned nodes, max_depth=6\u001b[0m\n",
      "\u001b[34m[43]#011train-error:0.096251\u001b[0m\n",
      "\u001b[34m[16:14:56] src/tree/updater_prune.cc:74: tree pruning end, 1 roots, 22 extra nodes, 20 pruned nodes, max_depth=6\u001b[0m\n",
      "\u001b[34m[44]#011train-error:0.096216\u001b[0m\n",
      "\u001b[34m[16:14:56] src/tree/updater_prune.cc:74: tree pruning end, 1 roots, 12 extra nodes, 46 pruned nodes, max_depth=6\u001b[0m\n",
      "\u001b[34m[45]#011train-error:0.096285\u001b[0m\n",
      "\u001b[34m[16:14:56] src/tree/updater_prune.cc:74: tree pruning end, 1 roots, 20 extra nodes, 14 pruned nodes, max_depth=6\u001b[0m\n",
      "\u001b[34m[46]#011train-error:0.096181\u001b[0m\n",
      "\u001b[34m[16:14:56] src/tree/updater_prune.cc:74: tree pruning end, 1 roots, 16 extra nodes, 40 pruned nodes, max_depth=6\u001b[0m\n",
      "\u001b[34m[47]#011train-error:0.095973\u001b[0m\n",
      "\u001b[34m[16:14:56] src/tree/updater_prune.cc:74: tree pruning end, 1 roots, 22 extra nodes, 28 pruned nodes, max_depth=6\u001b[0m\n",
      "\u001b[34m[48]#011train-error:0.09573\u001b[0m\n",
      "\u001b[34m[16:14:57] src/tree/updater_prune.cc:74: tree pruning end, 1 roots, 24 extra nodes, 22 pruned nodes, max_depth=6\u001b[0m\n",
      "\u001b[34m[49]#011train-error:0.09573\u001b[0m\n",
      "\u001b[34m[16:14:57] src/tree/updater_prune.cc:74: tree pruning end, 1 roots, 10 extra nodes, 32 pruned nodes, max_depth=5\u001b[0m\n",
      "\u001b[34m[50]#011train-error:0.095696\u001b[0m\n",
      "\u001b[34m[16:14:57] src/tree/updater_prune.cc:74: tree pruning end, 1 roots, 14 extra nodes, 44 pruned nodes, max_depth=6\u001b[0m\n",
      "\u001b[34m[51]#011train-error:0.095626\u001b[0m\n",
      "\u001b[34m[16:14:57] src/tree/updater_prune.cc:74: tree pruning end, 1 roots, 10 extra nodes, 20 pruned nodes, max_depth=5\u001b[0m\n",
      "\u001b[34m[52]#011train-error:0.095661\u001b[0m\n",
      "\u001b[34m[16:14:57] src/tree/updater_prune.cc:74: tree pruning end, 1 roots, 6 extra nodes, 24 pruned nodes, max_depth=3\u001b[0m\n",
      "\u001b[34m[53]#011train-error:0.095661\u001b[0m\n",
      "\u001b[34m[16:14:57] src/tree/updater_prune.cc:74: tree pruning end, 1 roots, 20 extra nodes, 42 pruned nodes, max_depth=6\u001b[0m\n",
      "\u001b[34m[54]#011train-error:0.095383\u001b[0m\n",
      "\u001b[34m[16:14:57] src/tree/updater_prune.cc:74: tree pruning end, 1 roots, 18 extra nodes, 50 pruned nodes, max_depth=6\u001b[0m\n",
      "\u001b[34m[55]#011train-error:0.09521\u001b[0m\n",
      "\u001b[34m[16:14:57] src/tree/updater_prune.cc:74: tree pruning end, 1 roots, 14 extra nodes, 34 pruned nodes, max_depth=6\u001b[0m\n",
      "\u001b[34m[56]#011train-error:0.095245\u001b[0m\n",
      "\u001b[34m[16:14:57] src/tree/updater_prune.cc:74: tree pruning end, 1 roots, 42 extra nodes, 22 pruned nodes, max_depth=6\u001b[0m\n",
      "\u001b[34m[57]#011train-error:0.094863\u001b[0m\n",
      "\u001b[34m[16:14:57] src/tree/updater_prune.cc:74: tree pruning end, 1 roots, 26 extra nodes, 30 pruned nodes, max_depth=6\u001b[0m\n",
      "\u001b[34m[58]#011train-error:0.094794\u001b[0m\n",
      "\u001b[34m[16:14:57] src/tree/updater_prune.cc:74: tree pruning end, 1 roots, 22 extra nodes, 36 pruned nodes, max_depth=6\u001b[0m\n",
      "\u001b[34m[59]#011train-error:0.094863\u001b[0m\n",
      "\u001b[34m[16:14:57] src/tree/updater_prune.cc:74: tree pruning end, 1 roots, 18 extra nodes, 42 pruned nodes, max_depth=6\u001b[0m\n",
      "\u001b[34m[60]#011train-error:0.094933\u001b[0m\n",
      "\u001b[34m[16:14:57] src/tree/updater_prune.cc:74: tree pruning end, 1 roots, 12 extra nodes, 26 pruned nodes, max_depth=5\u001b[0m\n",
      "\u001b[34m[61]#011train-error:0.094898\u001b[0m\n",
      "\u001b[34m[16:14:57] src/tree/updater_prune.cc:74: tree pruning end, 1 roots, 28 extra nodes, 30 pruned nodes, max_depth=6\u001b[0m\n",
      "\u001b[34m[62]#011train-error:0.094967\u001b[0m\n",
      "\u001b[34m[16:14:57] src/tree/updater_prune.cc:74: tree pruning end, 1 roots, 24 extra nodes, 34 pruned nodes, max_depth=6\u001b[0m\n",
      "\u001b[34m[63]#011train-error:0.094828\u001b[0m\n",
      "\u001b[34m[16:14:57] src/tree/updater_prune.cc:74: tree pruning end, 1 roots, 16 extra nodes, 44 pruned nodes, max_depth=6\u001b[0m\n",
      "\u001b[34m[64]#011train-error:0.094933\u001b[0m\n",
      "\u001b[34m[16:14:57] src/tree/updater_prune.cc:74: tree pruning end, 1 roots, 16 extra nodes, 40 pruned nodes, max_depth=6\u001b[0m\n",
      "\u001b[34m[65]#011train-error:0.094863\u001b[0m\n",
      "\u001b[34m[16:14:57] src/tree/updater_prune.cc:74: tree pruning end, 1 roots, 14 extra nodes, 30 pruned nodes, max_depth=6\u001b[0m\n",
      "\u001b[34m[66]#011train-error:0.094759\u001b[0m\n",
      "\u001b[34m[16:14:57] src/tree/updater_prune.cc:74: tree pruning end, 1 roots, 28 extra nodes, 48 pruned nodes, max_depth=6\u001b[0m\n",
      "\u001b[34m[67]#011train-error:0.094828\u001b[0m\n",
      "\u001b[34m[16:14:57] src/tree/updater_prune.cc:74: tree pruning end, 1 roots, 20 extra nodes, 38 pruned nodes, max_depth=6\u001b[0m\n",
      "\u001b[34m[68]#011train-error:0.09462\u001b[0m\n",
      "\u001b[34m[16:14:57] src/tree/updater_prune.cc:74: tree pruning end, 1 roots, 0 extra nodes, 30 pruned nodes, max_depth=0\u001b[0m\n",
      "\u001b[34m[69]#011train-error:0.094586\u001b[0m\n",
      "\u001b[34m[16:14:57] src/tree/updater_prune.cc:74: tree pruning end, 1 roots, 20 extra nodes, 26 pruned nodes, max_depth=6\u001b[0m\n",
      "\u001b[34m[70]#011train-error:0.094378\u001b[0m\n",
      "\u001b[34m[16:14:57] src/tree/updater_prune.cc:74: tree pruning end, 1 roots, 22 extra nodes, 32 pruned nodes, max_depth=6\u001b[0m\n",
      "\u001b[34m[71]#011train-error:0.094482\u001b[0m\n",
      "\u001b[34m[16:14:57] src/tree/updater_prune.cc:74: tree pruning end, 1 roots, 16 extra nodes, 28 pruned nodes, max_depth=6\u001b[0m\n",
      "\u001b[34m[72]#011train-error:0.093996\u001b[0m\n",
      "\u001b[34m[16:14:58] src/tree/updater_prune.cc:74: tree pruning end, 1 roots, 20 extra nodes, 46 pruned nodes, max_depth=6\u001b[0m\n",
      "\u001b[34m[73]#011train-error:0.094031\u001b[0m\n",
      "\u001b[34m[16:14:58] src/tree/updater_prune.cc:74: tree pruning end, 1 roots, 16 extra nodes, 28 pruned nodes, max_depth=6\u001b[0m\n",
      "\u001b[34m[74]#011train-error:0.0941\u001b[0m\n",
      "\u001b[34m[16:14:58] src/tree/updater_prune.cc:74: tree pruning end, 1 roots, 16 extra nodes, 24 pruned nodes, max_depth=6\u001b[0m\n",
      "\u001b[34m[75]#011train-error:0.094031\u001b[0m\n",
      "\u001b[34m[16:14:58] src/tree/updater_prune.cc:74: tree pruning end, 1 roots, 26 extra nodes, 40 pruned nodes, max_depth=6\u001b[0m\n",
      "\u001b[34m[76]#011train-error:0.0941\u001b[0m\n",
      "\u001b[34m[16:14:58] src/tree/updater_prune.cc:74: tree pruning end, 1 roots, 34 extra nodes, 44 pruned nodes, max_depth=6\u001b[0m\n",
      "\u001b[34m[77]#011train-error:0.093927\u001b[0m\n",
      "\u001b[34m[16:14:58] src/tree/updater_prune.cc:74: tree pruning end, 1 roots, 10 extra nodes, 36 pruned nodes, max_depth=4\u001b[0m\n",
      "\u001b[34m[78]#011train-error:0.093996\u001b[0m\n",
      "\u001b[34m[16:14:58] src/tree/updater_prune.cc:74: tree pruning end, 1 roots, 16 extra nodes, 18 pruned nodes, max_depth=6\u001b[0m\n",
      "\u001b[34m[79]#011train-error:0.093996\u001b[0m\n",
      "\u001b[34m[16:14:58] src/tree/updater_prune.cc:74: tree pruning end, 1 roots, 32 extra nodes, 28 pruned nodes, max_depth=6\u001b[0m\n",
      "\u001b[34m[80]#011train-error:0.093823\u001b[0m\n",
      "\u001b[34m[16:14:58] src/tree/updater_prune.cc:74: tree pruning end, 1 roots, 12 extra nodes, 44 pruned nodes, max_depth=5\u001b[0m\n",
      "\u001b[34m[81]#011train-error:0.093927\u001b[0m\n",
      "\u001b[34m[16:14:58] src/tree/updater_prune.cc:74: tree pruning end, 1 roots, 38 extra nodes, 32 pruned nodes, max_depth=6\u001b[0m\n",
      "\u001b[34m[82]#011train-error:0.093823\u001b[0m\n",
      "\u001b[34m[16:14:58] src/tree/updater_prune.cc:74: tree pruning end, 1 roots, 22 extra nodes, 34 pruned nodes, max_depth=6\u001b[0m\n",
      "\u001b[34m[83]#011train-error:0.093684\u001b[0m\n",
      "\u001b[34m[16:14:58] src/tree/updater_prune.cc:74: tree pruning end, 1 roots, 14 extra nodes, 12 pruned nodes, max_depth=6\u001b[0m\n",
      "\u001b[34m[84]#011train-error:0.093649\u001b[0m\n",
      "\u001b[34m[16:14:58] src/tree/updater_prune.cc:74: tree pruning end, 1 roots, 16 extra nodes, 16 pruned nodes, max_depth=6\u001b[0m\n",
      "\u001b[34m[85]#011train-error:0.09358\u001b[0m\n",
      "\u001b[34m[16:14:58] src/tree/updater_prune.cc:74: tree pruning end, 1 roots, 62 extra nodes, 28 pruned nodes, max_depth=6\u001b[0m\n",
      "\u001b[34m[86]#011train-error:0.093615\u001b[0m\n",
      "\u001b[34m[16:14:58] src/tree/updater_prune.cc:74: tree pruning end, 1 roots, 12 extra nodes, 26 pruned nodes, max_depth=6\u001b[0m\n",
      "\u001b[34m[87]#011train-error:0.093788\u001b[0m\n",
      "\u001b[34m[16:14:58] src/tree/updater_prune.cc:74: tree pruning end, 1 roots, 22 extra nodes, 14 pruned nodes, max_depth=6\u001b[0m\n",
      "\u001b[34m[88]#011train-error:0.093857\u001b[0m\n",
      "\u001b[34m[16:14:58] src/tree/updater_prune.cc:74: tree pruning end, 1 roots, 16 extra nodes, 34 pruned nodes, max_depth=6\u001b[0m\n",
      "\u001b[34m[89]#011train-error:0.093753\u001b[0m\n",
      "\u001b[34m[16:14:58] src/tree/updater_prune.cc:74: tree pruning end, 1 roots, 22 extra nodes, 58 pruned nodes, max_depth=6\u001b[0m\n",
      "\u001b[34m[90]#011train-error:0.093961\u001b[0m\n",
      "\u001b[34m[16:14:58] src/tree/updater_prune.cc:74: tree pruning end, 1 roots, 0 extra nodes, 32 pruned nodes, max_depth=0\u001b[0m\n",
      "\u001b[34m[91]#011train-error:0.093961\u001b[0m\n",
      "\u001b[34m[16:14:58] src/tree/updater_prune.cc:74: tree pruning end, 1 roots, 10 extra nodes, 28 pruned nodes, max_depth=5\u001b[0m\n",
      "\u001b[34m[92]#011train-error:0.093753\u001b[0m\n",
      "\u001b[34m[16:14:58] src/tree/updater_prune.cc:74: tree pruning end, 1 roots, 10 extra nodes, 50 pruned nodes, max_depth=5\u001b[0m\n",
      "\u001b[34m[93]#011train-error:0.093788\u001b[0m\n",
      "\u001b[34m[16:14:58] src/tree/updater_prune.cc:74: tree pruning end, 1 roots, 22 extra nodes, 46 pruned nodes, max_depth=6\u001b[0m\n",
      "\u001b[34m[94]#011train-error:0.093753\u001b[0m\n",
      "\u001b[34m[16:14:58] src/tree/updater_prune.cc:74: tree pruning end, 1 roots, 0 extra nodes, 32 pruned nodes, max_depth=0\u001b[0m\n",
      "\u001b[34m[95]#011train-error:0.093788\u001b[0m\n",
      "\u001b[34m[16:14:58] src/tree/updater_prune.cc:74: tree pruning end, 1 roots, 18 extra nodes, 52 pruned nodes, max_depth=6\u001b[0m\n",
      "\u001b[34m[96]#011train-error:0.093857\u001b[0m\n",
      "\u001b[34m[16:14:59] src/tree/updater_prune.cc:74: tree pruning end, 1 roots, 24 extra nodes, 42 pruned nodes, max_depth=5\u001b[0m\n",
      "\u001b[34m[97]#011train-error:0.093719\u001b[0m\n",
      "\u001b[34m[16:14:59] src/tree/updater_prune.cc:74: tree pruning end, 1 roots, 18 extra nodes, 42 pruned nodes, max_depth=6\u001b[0m\n",
      "\u001b[34m[98]#011train-error:0.093615\u001b[0m\n",
      "\u001b[34m[16:14:59] src/tree/updater_prune.cc:74: tree pruning end, 1 roots, 10 extra nodes, 30 pruned nodes, max_depth=5\u001b[0m\n",
      "\u001b[34m[99]#011train-error:0.093406\u001b[0m\n",
      "\n",
      "2021-06-09 16:15:07 Uploading - Uploading generated training model\n",
      "2021-06-09 16:15:07 Completed - Training job completed\n",
      "Training seconds: 69\n",
      "Billable seconds: 69\n"
     ]
    }
   ],
   "source": [
    "XGB.fit({'train':trains})"
   ]
  },
  {
   "cell_type": "code",
   "execution_count": 22,
   "id": "f3a499ff",
   "metadata": {},
   "outputs": [
    {
     "name": "stdout",
     "output_type": "stream",
     "text": [
      "-------------!"
     ]
    }
   ],
   "source": [
    "XGB_predictor = XGB.deploy(initial_instance_count=1, instance_type='ml.m4.xlarge')"
   ]
  },
  {
   "cell_type": "code",
   "execution_count": 23,
   "id": "fc555b9a",
   "metadata": {},
   "outputs": [
    {
     "name": "stdout",
     "output_type": "stream",
     "text": [
      "(12357,)\n"
     ]
    }
   ],
   "source": [
    "test_array = test_data.drop(columns=['y_yes','y_no'], axis=1).values\n",
    "XGB_predictor.serializer = CSVSerializer()\n",
    "predictions = XGB_predictor.predict(test_array).decode(\"utf-8\")\n",
    "predictions_array = np.fromstring(predictions[1:], sep=\",\")\n",
    "print(predictions_array.shape)"
   ]
  },
  {
   "cell_type": "code",
   "execution_count": 31,
   "id": "003e2086",
   "metadata": {},
   "outputs": [
    {
     "name": "stdout",
     "output_type": "stream",
     "text": [
      "\n",
      "Overall Classification Rate: 89.4%\n",
      "\n",
      "Predicted      No Purchase    Purchase\n",
      "Observed\n",
      "No Purchase    90% (10757)    38% (179)\n",
      "Purchase        10% (1131)     62% (290) \n",
      "\n"
     ]
    }
   ],
   "source": [
    "cm = pd.crosstab(index=test_data['y_yes'], columns=np.round(predictions_array), rownames=['Observed'], colnames=['Predicted'])\n",
    "tn = cm.iloc[0,0]; fn = cm.iloc[1,0]; tp = cm.iloc[1,1]; fp = cm.iloc[0,1]; p = (tp+tn)/(tp+tn+fp+fn)*100\n",
    "print(\"\\n{0:<20}{1:<4.1f}%\\n\".format(\"Overall Classification Rate: \", p))\n",
    "print(\"{0:<15}{1:<15}{2:>8}\".format(\"Predicted\", \"No Purchase\", \"Purchase\"))\n",
    "print(\"Observed\")\n",
    "print(\"{0:<15}{1:<2.0f}% ({2:<}){3:>6.0f}% ({4:<})\".format(\"No Purchase\", tn/(tn+fn)*100,tn, fp/(tp+fp)*100, fp))\n",
    "print(\"{0:<16}{1:<1.0f}% ({2:<}){3:>7.0f}% ({4:<}) \\n\".format(\"Purchase\", fn/(tn+fn)*100,fn, tp/(tp+fp)*100, tp))"
   ]
  },
  {
   "cell_type": "code",
   "execution_count": 32,
   "id": "a543b479",
   "metadata": {},
   "outputs": [
    {
     "data": {
      "text/plain": [
       "[{'ResponseMetadata': {'RequestId': 'C08G6T477QWE45QV',\n",
       "   'HostId': 'n4R/r0Zs/1TaBinKIqSX6dLV8Tv+Q873W1kWAYok6k3bW8N5ymXP+6iWgrfqQldzV1NpYgiQ7JI=',\n",
       "   'HTTPStatusCode': 200,\n",
       "   'HTTPHeaders': {'x-amz-id-2': 'n4R/r0Zs/1TaBinKIqSX6dLV8Tv+Q873W1kWAYok6k3bW8N5ymXP+6iWgrfqQldzV1NpYgiQ7JI=',\n",
       "    'x-amz-request-id': 'C08G6T477QWE45QV',\n",
       "    'date': 'Wed, 09 Jun 2021 16:36:12 GMT',\n",
       "    'content-type': 'application/xml',\n",
       "    'transfer-encoding': 'chunked',\n",
       "    'server': 'AmazonS3',\n",
       "    'connection': 'close'},\n",
       "   'RetryAttempts': 0},\n",
       "  'Deleted': [{'Key': 'sage-boost/output/xgboost-2021-06-09-16-11-14-949/rule-output/ProfilerReport-1623255074/profiler-output/profiler-reports/GPUMemoryIncrease.json'},\n",
       "   {'Key': 'sage-boost/output/xgboost-2021-06-09-16-11-14-949/profiler-output/system/incremental/2021060916/1623255240.algo-1.json'},\n",
       "   {'Key': 'sage-boost/output/xgboost-2021-06-09-16-11-14-949/rule-output/ProfilerReport-1623255074/profiler-output/profiler-reports/Dataloader.json'},\n",
       "   {'Key': 'sage-boost/output/xgboost-2021-06-09-16-11-14-949/rule-output/ProfilerReport-1623255074/profiler-output/profiler-reports/OverallSystemUsage.json'},\n",
       "   {'Key': 'sage-boost/output/xgboost-2021-06-09-16-11-14-949/rule-output/ProfilerReport-1623255074/profiler-output/profiler-reports/LoadBalancing.json'},\n",
       "   {'Key': 'sage-boost/output/xgboost-2021-06-09-16-11-14-949/rule-output/ProfilerReport-1623255074/profiler-output/profiler-report.html'},\n",
       "   {'Key': 'sage-boost/output/xgboost-2021-06-09-16-11-14-949/rule-output/ProfilerReport-1623255074/profiler-output/profiler-reports/CPUBottleneck.json'},\n",
       "   {'Key': 'sage-boost/output/xgboost-2021-06-09-16-11-14-949/rule-output/ProfilerReport-1623255074/profiler-output/profiler-reports/StepOutlier.json'},\n",
       "   {'Key': 'sage-boost/output/xgboost-2021-06-09-16-11-14-949/profiler-output/framework/training_job_end.ts'},\n",
       "   {'Key': 'sage-boost/output/xgboost-2021-06-09-16-11-14-949/rule-output/ProfilerReport-1623255074/profiler-output/profiler-reports/OverallFrameworkMetrics.json'},\n",
       "   {'Key': 'sage-boost/train/train.csv'},\n",
       "   {'Key': 'sage-boost/output/xgboost-2021-06-09-16-11-14-949/rule-output/ProfilerReport-1623255074/profiler-output/profiler-reports/IOBottleneck.json'},\n",
       "   {'Key': 'sage-boost/output/xgboost-2021-06-09-16-11-14-949/output/model.tar.gz'},\n",
       "   {'Key': 'sage-boost/output/xgboost-2021-06-09-16-11-14-949/rule-output/ProfilerReport-1623255074/profiler-output/profiler-reports/BatchSize.json'},\n",
       "   {'Key': 'sage-boost/output/xgboost-2021-06-09-16-11-14-949/rule-output/ProfilerReport-1623255074/profiler-output/profiler-reports/LowGPUUtilization.json'},\n",
       "   {'Key': 'sage-boost/output/xgboost-2021-06-09-16-11-14-949/profiler-output/system/incremental/2021060916/1623255180.algo-1.json'},\n",
       "   {'Key': 'sage-boost/output/xgboost-2021-06-09-16-11-14-949/rule-output/ProfilerReport-1623255074/profiler-output/profiler-reports/MaxInitializationTime.json'},\n",
       "   {'Key': 'sage-boost/output/xgboost-2021-06-09-16-11-14-949/profiler-output/system/training_job_end.ts'},\n",
       "   {'Key': 'sage-boost/output/xgboost-2021-06-09-16-11-14-949/rule-output/ProfilerReport-1623255074/profiler-output/profiler-report.ipynb'}]}]"
      ]
     },
     "execution_count": 32,
     "metadata": {},
     "output_type": "execute_result"
    }
   ],
   "source": [
    "# Closing time.\n",
    "XGB_predictor.delete_endpoint(delete_endpoint_config=True)\n",
    "bucket_to_delete = boto3.resource(\"s3\").Bucket(bucket_name)\n",
    "bucket_to_delete.objects.all().delete()"
   ]
  }
 ],
 "metadata": {
  "kernelspec": {
   "display_name": "conda_python3",
   "language": "python",
   "name": "conda_python3"
  },
  "language_info": {
   "codemirror_mode": {
    "name": "ipython",
    "version": 3
   },
   "file_extension": ".py",
   "mimetype": "text/x-python",
   "name": "python",
   "nbconvert_exporter": "python",
   "pygments_lexer": "ipython3",
   "version": "3.6.13"
  }
 },
 "nbformat": 4,
 "nbformat_minor": 5
}
