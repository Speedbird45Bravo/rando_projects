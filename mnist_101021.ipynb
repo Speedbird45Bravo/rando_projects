{
 "cells": [
  {
   "cell_type": "code",
   "execution_count": 327,
   "id": "2364e8e5",
   "metadata": {},
   "outputs": [],
   "source": [
    "from sklearn.model_selection import train_test_split\n",
    "from keras.layers import Dense, Conv2D, Flatten, MaxPooling2D\n",
    "from keras.models import Sequential, load_model\n",
    "from tensorflow.keras.utils import to_categorical\n",
    "from keras.callbacks import EarlyStopping, ModelCheckpoint\n",
    "from keras.datasets import mnist\n",
    "import numpy as np\n",
    "import pandas as pd"
   ]
  },
  {
   "cell_type": "code",
   "execution_count": 328,
   "id": "55e5cfb2",
   "metadata": {},
   "outputs": [],
   "source": [
    "train = pd.read_csv(\"train.csv\")\n",
    "y_final = train[\"label\"]\n",
    "train = train.drop(\"label\", axis=1)\n",
    "train = train.values.reshape(42000,28,28,1)\n",
    "\n",
    "\n",
    "train_2 = pd.read_csv(\"train.csv\")\n",
    "y_final_2 = train_2[\"label\"]\n",
    "train_2 = train_2.drop(\"label\", axis=1)\n",
    "train_2 = train_2.values.reshape(42000,28,28,1)\n",
    "\n",
    "train_3 = pd.read_csv(\"train.csv\")\n",
    "y_final_3 = train_3[\"label\"]\n",
    "train_3 = train_3.drop(\"label\", axis=1)\n",
    "train_3 = train_3.values.reshape(42000,28,28,1)\n",
    "\n",
    "train = np.concatenate((train, train_2, train_3), axis=0)"
   ]
  },
  {
   "cell_type": "code",
   "execution_count": 329,
   "id": "0ce84ccf",
   "metadata": {},
   "outputs": [],
   "source": [
    "y_final = to_categorical(y_final)\n",
    "y_final_3 = to_categorical(y_final_3)\n",
    "y_final_2 = to_categorical(y_final_2)"
   ]
  },
  {
   "cell_type": "code",
   "execution_count": 330,
   "id": "e6f603ff",
   "metadata": {},
   "outputs": [],
   "source": [
    "y_final = np.concatenate((y_final, y_final_2, y_final_3), axis=0)"
   ]
  },
  {
   "cell_type": "code",
   "execution_count": 331,
   "id": "576554df",
   "metadata": {},
   "outputs": [],
   "source": [
    "rows = train.shape[1]\n",
    "cols = train.shape[2]"
   ]
  },
  {
   "cell_type": "code",
   "execution_count": 332,
   "id": "320c679d",
   "metadata": {},
   "outputs": [],
   "source": [
    "(X_train, y_train), (X_test, y_test) = mnist.load_data()"
   ]
  },
  {
   "cell_type": "code",
   "execution_count": 333,
   "id": "d1ce749d",
   "metadata": {},
   "outputs": [],
   "source": [
    "X_train = X_train.reshape(60000,28,28,1)\n",
    "y_train = to_categorical(y_train)"
   ]
  },
  {
   "cell_type": "code",
   "execution_count": 334,
   "id": "ce5872ac",
   "metadata": {},
   "outputs": [],
   "source": [
    "new_train = np.concatenate((X_train, train), axis=0)\n",
    "new_target_train = np.concatenate((y_train, y_final), axis=0)"
   ]
  },
  {
   "cell_type": "code",
   "execution_count": 335,
   "id": "94e3fa15",
   "metadata": {},
   "outputs": [
    {
     "name": "stdout",
     "output_type": "stream",
     "text": [
      "2325/2325 [==============================] - 128s 55ms/step - loss: 0.0073 - accuracy: 0.9978 - val_loss: 0.0053 - val_accuracy: 0.9984\n"
     ]
    },
    {
     "data": {
      "text/plain": [
       "<keras.callbacks.History at 0x1b5b00b95b0>"
      ]
     },
     "execution_count": 335,
     "metadata": {},
     "output_type": "execute_result"
    }
   ],
   "source": [
    "##### CALL LOAD MODEL FROM new_best_model #####\n",
    "model = load_model(\"best_model_optimized_101021.hdf5\")\n",
    "model.fit(new_train, new_target_train, epochs=1, batch_size=64, verbose=1, validation_split=0.2)"
   ]
  },
  {
   "cell_type": "code",
   "execution_count": 336,
   "id": "d532cf68",
   "metadata": {},
   "outputs": [],
   "source": [
    "X_test = test.values.reshape(28000,28,28,1)\n",
    "predictions = model.predict(X_test)"
   ]
  },
  {
   "cell_type": "code",
   "execution_count": 337,
   "id": "a4eb6e11",
   "metadata": {},
   "outputs": [],
   "source": [
    "predictions = pd.DataFrame(predictions).idxmax(axis=1)"
   ]
  },
  {
   "cell_type": "code",
   "execution_count": 338,
   "id": "b37acd93",
   "metadata": {},
   "outputs": [],
   "source": [
    "submission = pd.DataFrame({\"ImageId\":np.arange(1,28001), \"label\":predictions})"
   ]
  },
  {
   "cell_type": "code",
   "execution_count": 339,
   "id": "a34975b0",
   "metadata": {},
   "outputs": [],
   "source": [
    "submission.to_csv(\"mnist_101021_VIII.csv\", index=False)"
   ]
  }
 ],
 "metadata": {
  "kernelspec": {
   "display_name": "Python 3",
   "language": "python",
   "name": "python3"
  },
  "language_info": {
   "codemirror_mode": {
    "name": "ipython",
    "version": 3
   },
   "file_extension": ".py",
   "mimetype": "text/x-python",
   "name": "python",
   "nbconvert_exporter": "python",
   "pygments_lexer": "ipython3",
   "version": "3.9.5"
  }
 },
 "nbformat": 4,
 "nbformat_minor": 5
}
