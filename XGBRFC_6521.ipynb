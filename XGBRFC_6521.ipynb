{
 "cells": [
  {
   "cell_type": "code",
   "execution_count": 1,
   "id": "6f62ae6b",
   "metadata": {},
   "outputs": [],
   "source": [
    "from sklearn.metrics import accuracy_score\n",
    "from sklearn.model_selection import train_test_split\n",
    "from xgboost import XGBRFClassifier\n",
    "import numpy as np\n",
    "import pandas as pd"
   ]
  },
  {
   "cell_type": "code",
   "execution_count": 7,
   "id": "347e1599",
   "metadata": {},
   "outputs": [],
   "source": [
    "df = pd.read_csv(\"https://projects.fivethirtyeight.com/soccer-api/club/spi_matches.csv\").dropna()\n",
    "df = df[df.league==\"Barclays Premier League\"].reset_index(drop=True)"
   ]
  },
  {
   "cell_type": "code",
   "execution_count": 13,
   "id": "fde8b356",
   "metadata": {},
   "outputs": [
    {
     "name": "stdout",
     "output_type": "stream",
     "text": [
      "Accuracy Values: Minimum: 0.941 | Mean: 0.968 | Max: 0.997\n"
     ]
    }
   ],
   "source": [
    "import warnings\n",
    "warnings.filterwarnings(\"ignore\")\n",
    "df['proj_h_margin'] = df['proj_score1'] - df['proj_score2']\n",
    "df['act_h_margin'] = df['score1'] - df['score2']\n",
    "\n",
    "projs = []\n",
    "acts = []\n",
    "\n",
    "# The projected result is derived from the projected home margin.\n",
    "for x in df['proj_h_margin']:\n",
    "    if x > 0:\n",
    "        projs.append(\"PROJECTED HOME\")\n",
    "    elif x < 0:\n",
    "        projs.append(\"PROJECTED AWAY\")\n",
    "    else:\n",
    "        projs.append(\"PROJECTED DRAW\")\n",
    "\n",
    "# Likewise, the actual result is derived from the actual home margin.\n",
    "for y in df['act_h_margin']:\n",
    "    if y > 0:\n",
    "        acts.append(\"HOME\")\n",
    "    elif y < 0:\n",
    "        acts.append(\"AWAY\")\n",
    "    else:\n",
    "        acts.append(\"DRAW\")\n",
    "\n",
    "# We don't need these columns for the construction of the model.\n",
    "df = df.drop(columns=['proj_h_margin', 'act_h_margin'])\n",
    "\n",
    "df['proj_result'] = projs\n",
    "df['result'] = acts\n",
    "\n",
    "matches = []\n",
    "\n",
    "# This is where the rubber hits the road, or where we compare the projected results vs. the actual results.\n",
    "# If they match, it's \"MATCH.\" If they don't, it's \"NO MATCH.\"\n",
    "for z in range(len(df)):\n",
    "    p = df['proj_result'][z]\n",
    "    a = df['result'][z]\n",
    "    if p == \"PROJECTED HOME\" and a == \"HOME\":\n",
    "        matches.append(\"MATCH\")\n",
    "    elif p == \"PROJECTED HOME\" and a == \"AWAY\":\n",
    "        matches.append(\"NO MATCH\")\n",
    "    elif p == \"PROJECTED HOME\" and a == \"DRAW\":\n",
    "        matches.append(\"NO MATCH\")\n",
    "    elif p == \"PROJECTED AWAY\" and a == \"AWAY\":\n",
    "        matches.append(\"MATCH\")\n",
    "    elif p == \"PROJECTED AWAY\" and a == \"HOME\":\n",
    "        matches.append(\"NO MATCH\")\n",
    "    elif p == \"PROJECTED AWAY\" and a == \"DRAW\":\n",
    "        matches.append(\"NO MATCH\")\n",
    "    elif p == \"PROJECTED DRAW\" and a == \"HOME\":\n",
    "        matches.append(\"NO MATCH\")\n",
    "    elif p == \"PROJECTED DRAW\" and a == \"AWAY\":\n",
    "        matches.append(\"NO MATCH\")\n",
    "    else:\n",
    "        matches.append(\"MATCH\")\n",
    "\n",
    "df['match'] = matches\n",
    "\n",
    "# Defining the predictor and targets.\n",
    "X_final = df[['proj_score1','proj_score2','score1','score2']]\n",
    "y_final = df['match']\n",
    "\n",
    "a_score = []\n",
    "\n",
    "def model():\n",
    "  # This is the heavy lifting part of the experiment, where we generate 1,000 rounds of predictions and the random_state increases by 1 each time.\n",
    "  # After each iteration, the accuracy value is appended to a list where we will examine the min, mean, and max values.\n",
    "    count = 0\n",
    "    while count < 1000:\n",
    "        X_train, X_test, y_train, y_test = train_test_split(X_final, y_final, test_size=0.2, random_state=count)\n",
    "        model = XGBRFClassifier(max_depth=6, objective='binary:logistic', eval_metric='logloss', n_estimators=400).fit(X_train, y_train)\n",
    "        predictions = model.predict(X_test)\n",
    "        accuracy = accuracy_score(y_test, predictions)\n",
    "        a_score.append(accuracy)\n",
    "        count += 1\n",
    "\n",
    "model = model()\n",
    "\n",
    "# Accuracy results based on 1,000 rounds of y_test and prediction comparisons.\n",
    "print(\"Accuracy Values: Minimum: {} | Mean: {} | Max: {}\".format(np.round(np.min(a_score),3), np.round(np.mean(a_score),3), np.round(np.max(a_score),3)))"
   ]
  }
 ],
 "metadata": {
  "kernelspec": {
   "display_name": "Python 3",
   "language": "python",
   "name": "python3"
  },
  "language_info": {
   "codemirror_mode": {
    "name": "ipython",
    "version": 3
   },
   "file_extension": ".py",
   "mimetype": "text/x-python",
   "name": "python",
   "nbconvert_exporter": "python",
   "pygments_lexer": "ipython3",
   "version": "3.9.5"
  }
 },
 "nbformat": 4,
 "nbformat_minor": 5
}
