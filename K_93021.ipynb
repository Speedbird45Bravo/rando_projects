{
  "nbformat": 4,
  "nbformat_minor": 0,
  "metadata": {
    "colab": {
      "name": "K_93021.ipynb",
      "provenance": [],
      "collapsed_sections": [],
      "authorship_tag": "ABX9TyMp43atu3zFoxsz56DN65wh"
    },
    "kernelspec": {
      "name": "python3",
      "display_name": "Python 3"
    },
    "language_info": {
      "name": "python"
    }
  },
  "cells": [
    {
      "cell_type": "code",
      "metadata": {
        "id": "VXlOojTEbIzE"
      },
      "source": [
        "from keras.models import Model\n",
        "from keras.layers import Dense, Input\n",
        "from tensorflow.keras.utils import plot_model\n",
        "import pandas as pd\n",
        "import numpy as np\n",
        "from sklearn.model_selection import train_test_split"
      ],
      "execution_count": 207,
      "outputs": []
    },
    {
      "cell_type": "code",
      "metadata": {
        "id": "SRAoaYuPdnhg"
      },
      "source": [
        "games = pd.read_csv(\"games_season.csv\")\n",
        "tourney = pd.read_csv(\"games_tourney.csv\")"
      ],
      "execution_count": 208,
      "outputs": []
    },
    {
      "cell_type": "code",
      "metadata": {
        "id": "bpxSJeh3i9yX"
      },
      "source": [
        "predictors = \"seed_diff\""
      ],
      "execution_count": 209,
      "outputs": []
    },
    {
      "cell_type": "code",
      "metadata": {
        "id": "OIe04m26eNbC"
      },
      "source": [
        "def get_split_point(df, y=\"score_diff\", split=0.8, x=None):\n",
        "  len_df = len(df)\n",
        "  calc = int(len_df * 0.8)\n",
        "  y_final = df.loc[:,df.columns == y]\n",
        "\n",
        "  if x is None:\n",
        "    X_final = df.loc[:,df.columns != y]\n",
        "\n",
        "  else:\n",
        "    X_final = df.loc[:,df.columns == x]\n",
        "\n",
        "  X_train, X_test, y_train, y_test = train_test_split(X_final, y_final, test_size=0.2)\n",
        "  return X_train, y_train, X_test, y_test"
      ],
      "execution_count": 210,
      "outputs": []
    },
    {
      "cell_type": "code",
      "metadata": {
        "id": "h5j9gnwae1-h"
      },
      "source": [
        "X_train_tourney, y_train_tourney, X_test_tourney, y_test_tourney = get_split_point(tourney, x=predictors)"
      ],
      "execution_count": 211,
      "outputs": []
    },
    {
      "cell_type": "code",
      "metadata": {
        "id": "0FYVXZ8Qe67H"
      },
      "source": [
        "def model_build():\n",
        "  print(X_train_tourney.columns)\n",
        "  input_tensor = Input(shape=(len(X_train_tourney.columns)),)\n",
        "  output_tensor = Dense(1)(input_tensor)\n",
        "  model = Model(input_tensor, output_tensor)\n",
        "  model.compile(optimizer=\"adam\", loss=\"mean_absolute_error\")\n",
        "  print(model.summary())\n",
        "  return model"
      ],
      "execution_count": 212,
      "outputs": []
    },
    {
      "cell_type": "code",
      "metadata": {
        "colab": {
          "base_uri": "https://localhost:8080/"
        },
        "id": "_9kx8r9FnZpj",
        "outputId": "ed0f9ced-dfe1-44d2-b0e9-719ee94728c2"
      },
      "source": [
        "model = model_build()"
      ],
      "execution_count": 242,
      "outputs": [
        {
          "output_type": "stream",
          "name": "stdout",
          "text": [
            "Index(['seed_diff'], dtype='object')\n",
            "Model: \"model_19\"\n",
            "_________________________________________________________________\n",
            "Layer (type)                 Output Shape              Param #   \n",
            "=================================================================\n",
            "input_24 (InputLayer)        [(None, 1)]               0         \n",
            "_________________________________________________________________\n",
            "dense_20 (Dense)             (None, 1)                 2         \n",
            "=================================================================\n",
            "Total params: 2\n",
            "Trainable params: 2\n",
            "Non-trainable params: 0\n",
            "_________________________________________________________________\n",
            "None\n"
          ]
        }
      ]
    },
    {
      "cell_type": "code",
      "metadata": {
        "colab": {
          "base_uri": "https://localhost:8080/"
        },
        "id": "nMVbTRiakzre",
        "outputId": "59b23a51-38ad-468d-91ca-90de60f0a451"
      },
      "source": [
        "history = model.fit(X_train_tourney, y_train_tourney, batch_size=1024, verbose=1, epochs=25)"
      ],
      "execution_count": 243,
      "outputs": [
        {
          "output_type": "stream",
          "name": "stdout",
          "text": [
            "Epoch 1/25\n",
            "4/4 [==============================] - 0s 2ms/step - loss: 13.8122\n",
            "Epoch 2/25\n",
            "4/4 [==============================] - 0s 3ms/step - loss: 13.7938\n",
            "Epoch 3/25\n",
            "4/4 [==============================] - 0s 3ms/step - loss: 13.7754\n",
            "Epoch 4/25\n",
            "4/4 [==============================] - 0s 3ms/step - loss: 13.7570\n",
            "Epoch 5/25\n",
            "4/4 [==============================] - 0s 2ms/step - loss: 13.7387\n",
            "Epoch 6/25\n",
            "4/4 [==============================] - 0s 3ms/step - loss: 13.7203\n",
            "Epoch 7/25\n",
            "4/4 [==============================] - 0s 3ms/step - loss: 13.7018\n",
            "Epoch 8/25\n",
            "4/4 [==============================] - 0s 4ms/step - loss: 13.6835\n",
            "Epoch 9/25\n",
            "4/4 [==============================] - 0s 3ms/step - loss: 13.6654\n",
            "Epoch 10/25\n",
            "4/4 [==============================] - 0s 3ms/step - loss: 13.6469\n",
            "Epoch 11/25\n",
            "4/4 [==============================] - 0s 3ms/step - loss: 13.6287\n",
            "Epoch 12/25\n",
            "4/4 [==============================] - 0s 3ms/step - loss: 13.6101\n",
            "Epoch 13/25\n",
            "4/4 [==============================] - 0s 3ms/step - loss: 13.5920\n",
            "Epoch 14/25\n",
            "4/4 [==============================] - 0s 4ms/step - loss: 13.5736\n",
            "Epoch 15/25\n",
            "4/4 [==============================] - 0s 5ms/step - loss: 13.5555\n",
            "Epoch 16/25\n",
            "4/4 [==============================] - 0s 3ms/step - loss: 13.5370\n",
            "Epoch 17/25\n",
            "4/4 [==============================] - 0s 3ms/step - loss: 13.5191\n",
            "Epoch 18/25\n",
            "4/4 [==============================] - 0s 4ms/step - loss: 13.5011\n",
            "Epoch 19/25\n",
            "4/4 [==============================] - 0s 7ms/step - loss: 13.4830\n",
            "Epoch 20/25\n",
            "4/4 [==============================] - 0s 3ms/step - loss: 13.4653\n",
            "Epoch 21/25\n",
            "4/4 [==============================] - 0s 3ms/step - loss: 13.4475\n",
            "Epoch 22/25\n",
            "4/4 [==============================] - 0s 3ms/step - loss: 13.4298\n",
            "Epoch 23/25\n",
            "4/4 [==============================] - 0s 3ms/step - loss: 13.4119\n",
            "Epoch 24/25\n",
            "4/4 [==============================] - 0s 3ms/step - loss: 13.3941\n",
            "Epoch 25/25\n",
            "4/4 [==============================] - 0s 4ms/step - loss: 13.3763\n"
          ]
        }
      ]
    },
    {
      "cell_type": "code",
      "metadata": {
        "id": "2WOkhjBSoPzq"
      },
      "source": [
        "err = np.round(history.history['loss'][0],2)"
      ],
      "execution_count": 245,
      "outputs": []
    },
    {
      "cell_type": "code",
      "metadata": {
        "colab": {
          "base_uri": "https://localhost:8080/"
        },
        "id": "_S08w2Jookw6",
        "outputId": "169eae89-cd9a-4342-d24b-a5ac5bfc8ce3"
      },
      "source": [
        "print(\"Minimum Error: {}\".format(err))"
      ],
      "execution_count": 247,
      "outputs": [
        {
          "output_type": "stream",
          "name": "stdout",
          "text": [
            "Minimum Error: 13.81\n"
          ]
        }
      ]
    }
  ]
}