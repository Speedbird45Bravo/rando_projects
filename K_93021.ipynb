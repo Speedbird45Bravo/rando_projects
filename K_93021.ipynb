{
  "nbformat": 4,
  "nbformat_minor": 0,
  "metadata": {
    "colab": {
      "name": "K_93021.ipynb",
      "provenance": [],
      "collapsed_sections": [],
      "authorship_tag": "ABX9TyN3eP9K8wXZQnD3yl/Pqrs3"
    },
    "kernelspec": {
      "name": "python3",
      "display_name": "Python 3"
    },
    "language_info": {
      "name": "python"
    }
  },
  "cells": [
    {
      "cell_type": "code",
      "metadata": {
        "id": "VXlOojTEbIzE"
      },
      "source": [
        "from keras.models import Model\n",
        "from keras.layers import Dense, Input\n",
        "from tensorflow.keras.utils import plot_model\n",
        "import pandas as pd\n",
        "import numpy as np\n",
        "from sklearn.model_selection import train_test_split"
      ],
      "execution_count": 250,
      "outputs": []
    },
    {
      "cell_type": "code",
      "metadata": {
        "id": "SRAoaYuPdnhg"
      },
      "source": [
        "tourney = pd.read_csv(\"games_tourney.csv\")"
      ],
      "execution_count": 251,
      "outputs": []
    },
    {
      "cell_type": "code",
      "metadata": {
        "id": "bpxSJeh3i9yX"
      },
      "source": [
        "predictors = \"seed_diff\""
      ],
      "execution_count": 252,
      "outputs": []
    },
    {
      "cell_type": "code",
      "metadata": {
        "id": "OIe04m26eNbC"
      },
      "source": [
        "def get_split_point(df, y=\"score_diff\", split=0.8, x=None):\n",
        "  len_df = len(df)\n",
        "  calc = int(len_df * 0.8)\n",
        "  y_final = df.loc[:,df.columns == y]\n",
        "\n",
        "  if x is None:\n",
        "    X_final = df.loc[:,df.columns != y]\n",
        "\n",
        "  else:\n",
        "    X_final = df.loc[:,df.columns == x]\n",
        "\n",
        "  X_train, X_test, y_train, y_test = train_test_split(X_final, y_final, test_size=0.2)\n",
        "  return X_train, y_train, X_test, y_test"
      ],
      "execution_count": 253,
      "outputs": []
    },
    {
      "cell_type": "code",
      "metadata": {
        "id": "h5j9gnwae1-h"
      },
      "source": [
        "X_train_tourney, y_train_tourney, X_test_tourney, y_test_tourney = get_split_point(tourney, x=predictors)"
      ],
      "execution_count": 254,
      "outputs": []
    },
    {
      "cell_type": "code",
      "metadata": {
        "id": "0FYVXZ8Qe67H"
      },
      "source": [
        "def model_build():\n",
        "  print(X_train_tourney.columns)\n",
        "  input_tensor = Input(shape=(len(X_train_tourney.columns)),)\n",
        "  output_tensor = Dense(1)(input_tensor)\n",
        "  model = Model(input_tensor, output_tensor)\n",
        "  model.compile(optimizer=\"adam\", loss=\"mean_absolute_error\")\n",
        "  print(model.summary())\n",
        "  return model"
      ],
      "execution_count": 255,
      "outputs": []
    },
    {
      "cell_type": "code",
      "metadata": {
        "colab": {
          "base_uri": "https://localhost:8080/"
        },
        "id": "_9kx8r9FnZpj",
        "outputId": "4f8b957f-3868-4cd7-ed1e-0e1e8a57f07a"
      },
      "source": [
        "model = model_build()"
      ],
      "execution_count": 256,
      "outputs": [
        {
          "output_type": "stream",
          "name": "stdout",
          "text": [
            "Index(['seed_diff'], dtype='object')\n",
            "Model: \"model_20\"\n",
            "_________________________________________________________________\n",
            "Layer (type)                 Output Shape              Param #   \n",
            "=================================================================\n",
            "input_25 (InputLayer)        [(None, 1)]               0         \n",
            "_________________________________________________________________\n",
            "dense_21 (Dense)             (None, 1)                 2         \n",
            "=================================================================\n",
            "Total params: 2\n",
            "Trainable params: 2\n",
            "Non-trainable params: 0\n",
            "_________________________________________________________________\n",
            "None\n"
          ]
        }
      ]
    },
    {
      "cell_type": "code",
      "metadata": {
        "colab": {
          "base_uri": "https://localhost:8080/"
        },
        "id": "nMVbTRiakzre",
        "outputId": "5e61863c-6843-4223-942d-0e93b3fc1502"
      },
      "source": [
        "history = model.fit(X_train_tourney, y_train_tourney, batch_size=1024, verbose=1, epochs=25)"
      ],
      "execution_count": 257,
      "outputs": [
        {
          "output_type": "stream",
          "name": "stdout",
          "text": [
            "Epoch 1/25\n",
            "4/4 [==============================] - 0s 3ms/step - loss: 9.2949\n",
            "Epoch 2/25\n",
            "4/4 [==============================] - 0s 4ms/step - loss: 9.2909\n",
            "Epoch 3/25\n",
            "4/4 [==============================] - 0s 3ms/step - loss: 9.2873\n",
            "Epoch 4/25\n",
            "4/4 [==============================] - 0s 4ms/step - loss: 9.2838\n",
            "Epoch 5/25\n",
            "4/4 [==============================] - 0s 3ms/step - loss: 9.2802\n",
            "Epoch 6/25\n",
            "4/4 [==============================] - 0s 3ms/step - loss: 9.2766\n",
            "Epoch 7/25\n",
            "4/4 [==============================] - 0s 5ms/step - loss: 9.2734\n",
            "Epoch 8/25\n",
            "4/4 [==============================] - 0s 4ms/step - loss: 9.2698\n",
            "Epoch 9/25\n",
            "4/4 [==============================] - 0s 3ms/step - loss: 9.2662\n",
            "Epoch 10/25\n",
            "4/4 [==============================] - 0s 5ms/step - loss: 9.2630\n",
            "Epoch 11/25\n",
            "4/4 [==============================] - 0s 6ms/step - loss: 9.2596\n",
            "Epoch 12/25\n",
            "4/4 [==============================] - 0s 3ms/step - loss: 9.2560\n",
            "Epoch 13/25\n",
            "4/4 [==============================] - 0s 2ms/step - loss: 9.2526\n",
            "Epoch 14/25\n",
            "4/4 [==============================] - 0s 3ms/step - loss: 9.2492\n",
            "Epoch 15/25\n",
            "4/4 [==============================] - 0s 3ms/step - loss: 9.2456\n",
            "Epoch 16/25\n",
            "4/4 [==============================] - 0s 4ms/step - loss: 9.2422\n",
            "Epoch 17/25\n",
            "4/4 [==============================] - 0s 4ms/step - loss: 9.2386\n",
            "Epoch 18/25\n",
            "4/4 [==============================] - 0s 4ms/step - loss: 9.2354\n",
            "Epoch 19/25\n",
            "4/4 [==============================] - 0s 3ms/step - loss: 9.2321\n",
            "Epoch 20/25\n",
            "4/4 [==============================] - 0s 2ms/step - loss: 9.2289\n",
            "Epoch 21/25\n",
            "4/4 [==============================] - 0s 3ms/step - loss: 9.2266\n",
            "Epoch 22/25\n",
            "4/4 [==============================] - 0s 4ms/step - loss: 9.2253\n",
            "Epoch 23/25\n",
            "4/4 [==============================] - 0s 3ms/step - loss: 9.2240\n",
            "Epoch 24/25\n",
            "4/4 [==============================] - 0s 5ms/step - loss: 9.2229\n",
            "Epoch 25/25\n",
            "4/4 [==============================] - 0s 3ms/step - loss: 9.2219\n"
          ]
        }
      ]
    },
    {
      "cell_type": "code",
      "metadata": {
        "id": "2WOkhjBSoPzq"
      },
      "source": [
        "err = np.round(history.history['loss'][0],2)"
      ],
      "execution_count": 258,
      "outputs": []
    },
    {
      "cell_type": "code",
      "metadata": {
        "colab": {
          "base_uri": "https://localhost:8080/"
        },
        "id": "_S08w2Jookw6",
        "outputId": "25a93473-8a02-4bcc-d363-361eb58165d6"
      },
      "source": [
        "print(\"Model Rounded Error: {}\".format(err))"
      ],
      "execution_count": 259,
      "outputs": [
        {
          "output_type": "stream",
          "name": "stdout",
          "text": [
            "Model Rounded Error: 9.29\n"
          ]
        }
      ]
    }
  ]
}