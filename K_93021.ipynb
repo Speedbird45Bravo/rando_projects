{
  "nbformat": 4,
  "nbformat_minor": 0,
  "metadata": {
    "colab": {
      "name": "K_93021.ipynb",
      "provenance": [],
      "collapsed_sections": [],
      "authorship_tag": "ABX9TyN8s2dywxXxtfqfHM8EdfXk",
      "include_colab_link": true
    },
    "kernelspec": {
      "name": "python3",
      "display_name": "Python 3"
    },
    "language_info": {
      "name": "python"
    }
  },
  "cells": [
    {
      "cell_type": "markdown",
      "metadata": {
        "id": "view-in-github",
        "colab_type": "text"
      },
      "source": [
        "<a href=\"https://colab.research.google.com/github/Speedbird45Bravo/rando_projects/blob/main/K_93021.ipynb\" target=\"_parent\"><img src=\"https://colab.research.google.com/assets/colab-badge.svg\" alt=\"Open In Colab\"/></a>"
      ]
    },
    {
      "cell_type": "code",
      "metadata": {
        "id": "VXlOojTEbIzE"
      },
      "source": [
        "from keras.models import Model\n",
        "from keras.layers import Dense, Input\n",
        "from tensorflow.keras.utils import plot_model\n",
        "import numpy as np\n",
        "import pandas as pd\n",
        "from sklearn.model_selection import train_test_split"
      ],
      "execution_count": 101,
      "outputs": []
    },
    {
      "cell_type": "code",
      "metadata": {
        "id": "SRAoaYuPdnhg"
      },
      "source": [
        "games = pd.read_csv(\"games_season.csv\")\n",
        "tourney = pd.read_csv(\"games_tourney.csv\")"
      ],
      "execution_count": 102,
      "outputs": []
    },
    {
      "cell_type": "code",
      "metadata": {
        "id": "bpxSJeh3i9yX"
      },
      "source": [
        "games_calc = len(games.columns)-1"
      ],
      "execution_count": 103,
      "outputs": []
    },
    {
      "cell_type": "code",
      "metadata": {
        "id": "OIe04m26eNbC"
      },
      "source": [
        "def get_split_point(df, y=\"score_diff\", split=0.8, x=None):\n",
        "  len_df = len(df)\n",
        "  calc = int(len_df * 0.8)\n",
        "  y_final = df.loc[:,df.columns == y]\n",
        "\n",
        "  if x is None:\n",
        "    X_final = df.loc[:,df.columns != y]\n",
        "\n",
        "  else:\n",
        "    X_final = df.loc[:,x]\n",
        "\n",
        "  X_train, X_test, y_train, y_test = train_test_split(X_final, y_final, test_size=0.2)\n",
        "  return X_train, y_train, X_test, y_test"
      ],
      "execution_count": 104,
      "outputs": []
    },
    {
      "cell_type": "code",
      "metadata": {
        "id": "h5j9gnwae1-h"
      },
      "source": [
        "X_train_games, y_train_games, X_test_games, y_test_games = get_split_point(games, x=[\"home\",\"score_1\",\"score_2\"])"
      ],
      "execution_count": 105,
      "outputs": []
    },
    {
      "cell_type": "code",
      "metadata": {
        "id": "0FYVXZ8Qe67H"
      },
      "source": [
        "def model_build(X_final=X_train_games):\n",
        "  input_tensor = Input(shape=(len(X_final.columns),))\n",
        "  print(len(X_final.columns))\n",
        "  output_tensor = Dense(1)(input_tensor)\n",
        "  model = Model(input_tensor, output_tensor)\n",
        "  model.compile(optimizer=\"adam\", loss=\"mean_absolute_error\")\n",
        "  print(model.summary())\n",
        "  return model"
      ],
      "execution_count": 128,
      "outputs": []
    },
    {
      "cell_type": "code",
      "metadata": {
        "colab": {
          "base_uri": "https://localhost:8080/"
        },
        "id": "nMVbTRiakzre",
        "outputId": "9bb8ce11-4b04-4f85-9fbf-ba1c21f9dd7b"
      },
      "source": [
        "model.fit(X_train_games, y_train_games)"
      ],
      "execution_count": 130,
      "outputs": [
        {
          "output_type": "stream",
          "name": "stdout",
          "text": [
            "7805/7805 [==============================] - 8s 964us/step - loss: 1.1873\n"
          ]
        },
        {
          "output_type": "execute_result",
          "data": {
            "text/plain": [
              "<keras.callbacks.History at 0x7fed9a6b5d50>"
            ]
          },
          "metadata": {},
          "execution_count": 130
        }
      ]
    }
  ]
}