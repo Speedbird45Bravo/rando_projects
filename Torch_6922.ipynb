{
  "nbformat": 4,
  "nbformat_minor": 0,
  "metadata": {
    "colab": {
      "name": "Torch_6922.ipynb",
      "provenance": [],
      "collapsed_sections": [],
      "authorship_tag": "ABX9TyMFp1TrAc7+XRtyIG4zz/8O",
      "include_colab_link": true
    },
    "kernelspec": {
      "name": "python3",
      "display_name": "Python 3"
    },
    "language_info": {
      "name": "python"
    }
  },
  "cells": [
    {
      "cell_type": "markdown",
      "metadata": {
        "id": "view-in-github",
        "colab_type": "text"
      },
      "source": [
        "<a href=\"https://colab.research.google.com/github/Speedbird45Bravo/rando_projects/blob/main/Torch_6922.ipynb\" target=\"_parent\"><img src=\"https://colab.research.google.com/assets/colab-badge.svg\" alt=\"Open In Colab\"/></a>"
      ]
    },
    {
      "cell_type": "code",
      "execution_count": 25,
      "metadata": {
        "id": "R3VWg5xanne-"
      },
      "outputs": [],
      "source": [
        "import torch\n",
        "from torch.nn import Module, Sequential, Linear, Conv2d, ReLU, MaxPool2d, CrossEntropyLoss\n",
        "from torchvision.datasets import MNIST\n",
        "from torchvision.transforms import ToTensor\n",
        "from torch.autograd import Variable\n",
        "from torch.utils.data import DataLoader\n",
        "from torch.optim import Adam\n",
        "from pytz import timezone\n",
        "from datetime import datetime as dt\n",
        "import warnings\n",
        "warnings.filterwarnings(\"ignore\")"
      ]
    },
    {
      "cell_type": "code",
      "source": [
        "train = MNIST(\"/files\", train=True, download=True, transform=ToTensor())\n",
        "test = MNIST(\"/files\", train=False, download=True, transform=ToTensor())\n",
        "loaders = {\"train\":DataLoader(train, num_workers=4, shuffle=True, batch_size=64),\\\n",
        "           \"test\":DataLoader(train, num_workers=4, shuffle=True, batch_size=64)}"
      ],
      "metadata": {
        "id": "Qljhj_2VAYhI"
      },
      "execution_count": 26,
      "outputs": []
    },
    {
      "cell_type": "code",
      "source": [
        "class NeuralNetwork(Module):\n",
        "\n",
        "  def __init__(self):\n",
        "    \n",
        "    super(NeuralNetwork, self).__init__()\n",
        "    self.c1 = Sequential(Conv2d(1,16,5,1,2),ReLU(),MaxPool2d(2))\n",
        "    self.c2 = Sequential(Conv2d(16,32,5,1,2),ReLU(),MaxPool2d(2))\n",
        "    self.out = Sequential(Linear(32 * 7 * 7, 10))\n",
        "\n",
        "  def forward(self, x):\n",
        "    x = self.c1(x)\n",
        "    x = self.c2(x)\n",
        "    x = x.view(x.size(0),-1)\n",
        "    output = self.out(x)\n",
        "    return output, x"
      ],
      "metadata": {
        "id": "2Pa2bxHEAp0r"
      },
      "execution_count": 27,
      "outputs": []
    },
    {
      "cell_type": "code",
      "source": [
        "tz = timezone(\"US/Eastern\")\n",
        "cnn = NeuralNetwork()\n",
        "print(cnn)\n",
        "print(f\"Network printed at {dt.now(tz=tz)}\")"
      ],
      "metadata": {
        "id": "mp5s9yk4BZ2p",
        "colab": {
          "base_uri": "https://localhost:8080/"
        },
        "outputId": "37795d14-304a-431d-8e0d-e51bea8fc7a6"
      },
      "execution_count": 28,
      "outputs": [
        {
          "output_type": "stream",
          "name": "stdout",
          "text": [
            "NeuralNetwork(\n",
            "  (c1): Sequential(\n",
            "    (0): Conv2d(1, 16, kernel_size=(5, 5), stride=(1, 1), padding=(2, 2))\n",
            "    (1): ReLU()\n",
            "    (2): MaxPool2d(kernel_size=2, stride=2, padding=0, dilation=1, ceil_mode=False)\n",
            "  )\n",
            "  (c2): Sequential(\n",
            "    (0): Conv2d(16, 32, kernel_size=(5, 5), stride=(1, 1), padding=(2, 2))\n",
            "    (1): ReLU()\n",
            "    (2): MaxPool2d(kernel_size=2, stride=2, padding=0, dilation=1, ceil_mode=False)\n",
            "  )\n",
            "  (out): Sequential(\n",
            "    (0): Linear(in_features=1568, out_features=10, bias=True)\n",
            "  )\n",
            ")\n",
            "Network printed at 2022-06-09 20:40:02.346602-04:00\n"
          ]
        }
      ]
    },
    {
      "cell_type": "code",
      "source": [
        "epochs = 6\n",
        "loss_function = CrossEntropyLoss()\n",
        "rabinowitz = Adam(cnn.parameters(), lr=0.01)"
      ],
      "metadata": {
        "id": "Q2NO-FfACK2T"
      },
      "execution_count": 29,
      "outputs": []
    },
    {
      "cell_type": "code",
      "source": [
        "def train(cnn, epochs, loaders):\n",
        "\n",
        "  cnn.train()\n",
        "\n",
        "  for epoch in range(epochs):\n",
        "    \n",
        "    for i, (images, labels) in enumerate(loaders[\"train\"]):\n",
        "      b_X = Variable(images)\n",
        "      b_y = Variable(labels)\n",
        "      output = cnn(b_X)[0]\n",
        "      loss = loss_function(output, b_y)\n",
        "\n",
        "      rabinowitz.zero_grad()\n",
        "\n",
        "      loss.backward()\n",
        "\n",
        "      rabinowitz.step()\n",
        "\n",
        "      if (i + 1) % 100 == 0:\n",
        "        print(f\"Epoch: {epoch+1}/{epochs} | Loss: {loss.item()}\")\n",
        "\n",
        "  print(f\"Model Trained at {dt.now(tz=tz)}\")"
      ],
      "metadata": {
        "id": "lfPBigOlCmDN"
      },
      "execution_count": 38,
      "outputs": []
    },
    {
      "cell_type": "code",
      "source": [
        "train(cnn, epochs, loaders)"
      ],
      "metadata": {
        "colab": {
          "base_uri": "https://localhost:8080/"
        },
        "id": "8MeoXFsHDBwA",
        "outputId": "2a732c8d-cda0-40ce-95df-99add350536a"
      },
      "execution_count": 39,
      "outputs": [
        {
          "output_type": "stream",
          "name": "stdout",
          "text": [
            "Epoch: 1/6 | Loss: 0.04065423458814621\n",
            "Epoch: 1/6 | Loss: 0.062293462455272675\n",
            "Epoch: 1/6 | Loss: 0.020458277314901352\n",
            "Epoch: 1/6 | Loss: 0.038256216794252396\n",
            "Epoch: 1/6 | Loss: 0.01141560822725296\n",
            "Epoch: 1/6 | Loss: 0.007013246417045593\n",
            "Epoch: 1/6 | Loss: 0.16946765780448914\n",
            "Epoch: 1/6 | Loss: 0.03629615902900696\n",
            "Epoch: 1/6 | Loss: 0.04748102277517319\n",
            "Epoch: 2/6 | Loss: 0.07532931864261627\n",
            "Epoch: 2/6 | Loss: 0.003262479789555073\n",
            "Epoch: 2/6 | Loss: 0.022120216861367226\n",
            "Epoch: 2/6 | Loss: 0.17363499104976654\n",
            "Epoch: 2/6 | Loss: 0.10468323528766632\n",
            "Epoch: 2/6 | Loss: 0.31312018632888794\n",
            "Epoch: 2/6 | Loss: 0.04865209013223648\n",
            "Epoch: 2/6 | Loss: 0.0065182787366211414\n",
            "Epoch: 2/6 | Loss: 0.003868302796036005\n",
            "Epoch: 3/6 | Loss: 0.0041288044303655624\n",
            "Epoch: 3/6 | Loss: 0.000285739719402045\n",
            "Epoch: 3/6 | Loss: 0.09741739183664322\n",
            "Epoch: 3/6 | Loss: 0.0012608522083610296\n",
            "Epoch: 3/6 | Loss: 0.0024540573358535767\n",
            "Epoch: 3/6 | Loss: 0.19656941294670105\n",
            "Epoch: 3/6 | Loss: 0.12336269021034241\n",
            "Epoch: 3/6 | Loss: 0.07018913328647614\n",
            "Epoch: 3/6 | Loss: 0.0018608502577990294\n",
            "Epoch: 4/6 | Loss: 0.002263127127662301\n",
            "Epoch: 4/6 | Loss: 0.14748069643974304\n",
            "Epoch: 4/6 | Loss: 0.052691008895635605\n",
            "Epoch: 4/6 | Loss: 0.08298412710428238\n",
            "Epoch: 4/6 | Loss: 0.000291620846837759\n",
            "Epoch: 4/6 | Loss: 0.0012685987167060375\n",
            "Epoch: 4/6 | Loss: 0.03871779516339302\n",
            "Epoch: 4/6 | Loss: 0.12909026443958282\n",
            "Epoch: 4/6 | Loss: 0.034966930747032166\n",
            "Epoch: 5/6 | Loss: 0.00247740326449275\n",
            "Epoch: 5/6 | Loss: 0.0013330213259905577\n",
            "Epoch: 5/6 | Loss: 0.0015822025015950203\n",
            "Epoch: 5/6 | Loss: 0.0041844542138278484\n",
            "Epoch: 5/6 | Loss: 0.02139468677341938\n",
            "Epoch: 5/6 | Loss: 0.0001636057859286666\n",
            "Epoch: 5/6 | Loss: 0.011328034102916718\n",
            "Epoch: 5/6 | Loss: 0.015116719529032707\n",
            "Epoch: 5/6 | Loss: 0.023297950625419617\n",
            "Epoch: 6/6 | Loss: 0.021413950249552727\n",
            "Epoch: 6/6 | Loss: 0.08914738148450851\n",
            "Epoch: 6/6 | Loss: 0.005735150072723627\n",
            "Epoch: 6/6 | Loss: 0.10474793612957001\n",
            "Epoch: 6/6 | Loss: 0.07319370657205582\n",
            "Epoch: 6/6 | Loss: 0.0584108792245388\n",
            "Epoch: 6/6 | Loss: 0.02098173275589943\n",
            "Epoch: 6/6 | Loss: 0.07434658706188202\n",
            "Epoch: 6/6 | Loss: 9.183474321616814e-05\n",
            "Model Trained at 2022-06-09 20:45:26.506860-04:00\n"
          ]
        }
      ]
    },
    {
      "cell_type": "code",
      "source": [
        "def test():\n",
        "\n",
        "  cnn.eval()\n",
        "\n",
        "  with torch.no_grad():\n",
        "\n",
        "    total = 0\n",
        "\n",
        "    correct = 0\n",
        "\n",
        "    for images, labels in loaders[\"test\"]:\n",
        "      test_output, last_layer = cnn(images)\n",
        "      y_predictions = torch.max(test_output,1)[1].data.squeeze()\n",
        "      accuracy = (y_predictions == labels).sum().item() / float(labels.size(0))\n",
        "      pass\n",
        "\n",
        "  print(f\"Test Accuracy: {round(accuracy * 100, 3)}%\")\n",
        "  print(f\"Model Tested at {dt.now(tz=tz)}\")"
      ],
      "metadata": {
        "id": "-yB_jDw9DGo6"
      },
      "execution_count": 40,
      "outputs": []
    },
    {
      "cell_type": "code",
      "source": [
        "test()"
      ],
      "metadata": {
        "colab": {
          "base_uri": "https://localhost:8080/"
        },
        "id": "eiMwUNpfF6i7",
        "outputId": "96162761-109f-4e2f-9ab9-a26e550daea1"
      },
      "execution_count": 41,
      "outputs": [
        {
          "output_type": "stream",
          "name": "stdout",
          "text": [
            "Test Accuracy: 100.0%\n",
            "Model Tested at 2022-06-09 20:51:11.615674-04:00\n"
          ]
        }
      ]
    }
  ]
}