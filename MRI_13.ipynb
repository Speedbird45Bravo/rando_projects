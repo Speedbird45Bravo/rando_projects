{
  "nbformat": 4,
  "nbformat_minor": 0,
  "metadata": {
    "colab": {
      "name": "MRI_13.ipynb",
      "provenance": [],
      "collapsed_sections": []
    },
    "kernelspec": {
      "name": "python3",
      "display_name": "Python 3"
    }
  },
  "cells": [
    {
      "cell_type": "code",
      "metadata": {
        "id": "dSKcyAeISKpF"
      },
      "source": [
        "# This is super ugly and primitive basic classifier of MRI images."
        "import numpy as np\r\n",
        "import cv2\r\n",
        "import pandas as pd\r\n",
        "import keras.backend as K\r\n",
        "import imutils\r\n",
        "import matplotlib.pyplot as plt\r\n",
        "import glob"
      ],
      "execution_count": 247,
      "outputs": []
    },
    {
      "cell_type": "code",
      "metadata": {
        "id": "bHYCd6piSW4E"
      },
      "source": [
        "import glob\r\n",
        "no_files = []\r\n",
        "yes_files = []\r\n",
        "for file in glob.glob('/content/yes/*.jpg'):\r\n",
        "  yes_files.append(file)\r\n",
        "for file in glob.glob('/content/no/*.jpg'):\r\n",
        "  no_files.append(file)"
      ],
      "execution_count": 248,
      "outputs": []
    },
    {
      "cell_type": "code",
      "metadata": {
        "id": "w19xKZ5eSkgX"
      },
      "source": [
        "import os\r\n",
        "try:\r\n",
        "    os.rmdir('/content/yes_output/')\r\n",
        "except:\r\n",
        "    pass\r\n",
        "try:\r\n",
        "    os.rmdir('/content/no_output/')\r\n",
        "except:\r\n",
        "    pass\r\n",
        "try:\r\n",
        "    os.makedirs('/content/yes_output/')\r\n",
        "except:\r\n",
        "    pass\r\n",
        "try:\r\n",
        "    os.makedirs('/content/no_output/')\r\n",
        "except:\r\n",
        "    pass"
      ],
      "execution_count": 249,
      "outputs": []
    },
    {
      "cell_type": "code",
      "metadata": {
        "id": "8tRliSPSSzOO"
      },
      "source": [
        "for file in yes_files:\r\n",
        "  ex_img = cv2.imread(file)\r\n",
        "  ex_crop_img = crop_brain_contour(ex_img, False)\r\n",
        "  filename = '/content/yes_output/'+os.path.basename(file)\r\n",
        "  cv2.imwrite(filename, ex_crop_img)\r\n",
        "\r\n",
        "for file in no_files:\r\n",
        "  ex_img = cv2.imread(file)\r\n",
        "  ex_crop_img = crop_brain_contour(ex_img, False)\r\n",
        "  filename = '/content/no_output/'+os.path.basename(file)\r\n",
        "  cv2.imwrite(filename, ex_crop_img)"
      ],
      "execution_count": 250,
      "outputs": []
    },
    {
      "cell_type": "code",
      "metadata": {
        "id": "4Ysxjpd8S4La"
      },
      "source": [
        "import glob\r\n",
        "no_files_crop = []\r\n",
        "yes_files_crop = []\r\n",
        "for file in glob.glob('/content/no_output/*.jpg'):\r\n",
        "  no_files_crop.append(file)\r\n",
        "for file in glob.glob('/content/yes_output/*.jpg'):\r\n",
        "  yes_files_crop.append(file)"
      ],
      "execution_count": 252,
      "outputs": []
    },
    {
      "cell_type": "code",
      "metadata": {
        "id": "VJdl6JU5XCPr"
      },
      "source": [
        "df = pd.DataFrame(columns=['filename', 'class'])\r\n",
        "\r\n",
        "for file in no_files_crop:\r\n",
        "  df = df.append({'filename':file, 'class':'no'}, ignore_index=True)\r\n",
        "for file in yes_files_crop:\r\n",
        "  df = df.append({'filename':file, 'class':'yes'}, ignore_index=True)"
      ],
      "execution_count": 254,
      "outputs": []
    },
    {
      "cell_type": "code",
      "metadata": {
        "colab": {
          "base_uri": "https://localhost:8080/",
          "height": 419
        },
        "id": "QXEgxVtIXfYc",
        "outputId": "aab57302-7f4e-4ab6-c5cc-17731416a6f4"
      },
      "source": [
        "df"
      ],
      "execution_count": 255,
      "outputs": [
        {
          "output_type": "execute_result",
          "data": {
            "text/html": [
              "<div>\n",
              "<style scoped>\n",
              "    .dataframe tbody tr th:only-of-type {\n",
              "        vertical-align: middle;\n",
              "    }\n",
              "\n",
              "    .dataframe tbody tr th {\n",
              "        vertical-align: top;\n",
              "    }\n",
              "\n",
              "    .dataframe thead th {\n",
              "        text-align: right;\n",
              "    }\n",
              "</style>\n",
              "<table border=\"1\" class=\"dataframe\">\n",
              "  <thead>\n",
              "    <tr style=\"text-align: right;\">\n",
              "      <th></th>\n",
              "      <th>filename</th>\n",
              "      <th>class</th>\n",
              "    </tr>\n",
              "  </thead>\n",
              "  <tbody>\n",
              "    <tr>\n",
              "      <th>0</th>\n",
              "      <td>/content/no_output/no 2.jpg</td>\n",
              "      <td>no</td>\n",
              "    </tr>\n",
              "    <tr>\n",
              "      <th>1</th>\n",
              "      <td>/content/no_output/no 10.jpg</td>\n",
              "      <td>no</td>\n",
              "    </tr>\n",
              "    <tr>\n",
              "      <th>2</th>\n",
              "      <td>/content/no_output/24 no.jpg</td>\n",
              "      <td>no</td>\n",
              "    </tr>\n",
              "    <tr>\n",
              "      <th>3</th>\n",
              "      <td>/content/no_output/No13.jpg</td>\n",
              "      <td>no</td>\n",
              "    </tr>\n",
              "    <tr>\n",
              "      <th>4</th>\n",
              "      <td>/content/no_output/43 no.jpg</td>\n",
              "      <td>no</td>\n",
              "    </tr>\n",
              "    <tr>\n",
              "      <th>...</th>\n",
              "      <td>...</td>\n",
              "      <td>...</td>\n",
              "    </tr>\n",
              "    <tr>\n",
              "      <th>166</th>\n",
              "      <td>/content/yes_output/Y108.jpg</td>\n",
              "      <td>yes</td>\n",
              "    </tr>\n",
              "    <tr>\n",
              "      <th>167</th>\n",
              "      <td>/content/yes_output/Y106.jpg</td>\n",
              "      <td>yes</td>\n",
              "    </tr>\n",
              "    <tr>\n",
              "      <th>168</th>\n",
              "      <td>/content/yes_output/Y9.jpg</td>\n",
              "      <td>yes</td>\n",
              "    </tr>\n",
              "    <tr>\n",
              "      <th>169</th>\n",
              "      <td>/content/yes_output/Y73.jpg</td>\n",
              "      <td>yes</td>\n",
              "    </tr>\n",
              "    <tr>\n",
              "      <th>170</th>\n",
              "      <td>/content/yes_output/Y3.jpg</td>\n",
              "      <td>yes</td>\n",
              "    </tr>\n",
              "  </tbody>\n",
              "</table>\n",
              "<p>171 rows × 2 columns</p>\n",
              "</div>"
            ],
            "text/plain": [
              "                         filename class\n",
              "0     /content/no_output/no 2.jpg    no\n",
              "1    /content/no_output/no 10.jpg    no\n",
              "2    /content/no_output/24 no.jpg    no\n",
              "3     /content/no_output/No13.jpg    no\n",
              "4    /content/no_output/43 no.jpg    no\n",
              "..                            ...   ...\n",
              "166  /content/yes_output/Y108.jpg   yes\n",
              "167  /content/yes_output/Y106.jpg   yes\n",
              "168    /content/yes_output/Y9.jpg   yes\n",
              "169   /content/yes_output/Y73.jpg   yes\n",
              "170    /content/yes_output/Y3.jpg   yes\n",
              "\n",
              "[171 rows x 2 columns]"
            ]
          },
          "metadata": {
            "tags": []
          },
          "execution_count": 255
        }
      ]
    },
    {
      "cell_type": "code",
      "metadata": {
        "id": "Qo9TjkaGXnTg"
      },
      "source": [
        "from sklearn.utils import shuffle\r\n",
        "df_shuffle = shuffle(df)"
      ],
      "execution_count": 256,
      "outputs": []
    },
    {
      "cell_type": "code",
      "metadata": {
        "colab": {
          "base_uri": "https://localhost:8080/",
          "height": 281
        },
        "id": "6DBBTrvbXtpj",
        "outputId": "a359bd1d-18a1-4654-8aec-e96fa0a869a5"
      },
      "source": [
        "df_shuffle.groupby(['class']).count().hist(bins=3)\r\n",
        "plt.show()"
      ],
      "execution_count": 259,
      "outputs": [
        {
          "output_type": "display_data",
          "data": {
            "image/png": "iVBORw0KGgoAAAANSUhEUgAAAXQAAAEICAYAAABPgw/pAAAABHNCSVQICAgIfAhkiAAAAAlwSFlzAAALEgAACxIB0t1+/AAAADh0RVh0U29mdHdhcmUAbWF0cGxvdGxpYiB2ZXJzaW9uMy4yLjIsIGh0dHA6Ly9tYXRwbG90bGliLm9yZy+WH4yJAAATPklEQVR4nO3df7DldX3f8eeLXUHcjUCD3tEFXVqXNNRNiF7AmHG4K5osmQ40U6eBwejSJDvTlrGNNHUzaWlDk44mIU4DtMkmNVsIuhJrwjZsBm3kThoHLDASVpaiK1DY1YCKbr1qxA3v/nEO7en13r1nz/mevfd+9vmYOcP5fr+f7+e+35zvvu73fs+vVBWSpNXvpOUuQJLUDQNdkhphoEtSIwx0SWqEgS5JjTDQJakRBrpWlSTfl+TBJF9P8nySf9VfP5Pk4HLXJy2ntctdgHSM/gVwd1Wdv9yFSCuNZ+habV4NPLzcRUgrkYGuVSPJJ4AtwE1J5pJ8MMkvLzL2lUn+S5IvJXk8ybsGtv2bJLcnuaV/6ebhJNMD23ck+Xx/2/4kPzGwbVuSTyZ5f5KvJXksyRv7659K8kySdw6MPyXJryd5MsnTSX4ryamT+T+kE52BrlWjqt4M/HfgmqpaDzy30LgkJwH/FfgLYANwCfDPkvzYwLDLgN3A6cAe4KaBbZ8H3gScBvwS8PtJXjGw/SLgIeB7gQ/257kAeA3wdnq/cNb3x74XOBc4v799A3DdCO1LSzLQ1aILgJdV1fVV9VxVPQb8DnDFwJg/r6q9VfXXwK3AD76woar+oKq+UFXPV9WHgc8BFw7s+3hV/V5/3w8DZwPXV9W3q+pj9H7RvCZJgO3Az1XVs1X1deDfzatD6oxPiqpFrwZemeRrA+vW0Du7f8FfDtz/JvDiJGur6kiSdwDvBjb2t68HzhwY//TA/W8BVNX8deuBlwEvAR7oZTsA6dcidc5AV4ueoncWvelYd0zyanpn85cA91TVXyd5kF4QH6sv0wv3v1NVh0bYXzomXnJRi/4H8PUk70lyapI1SV6b5IIh9l0HFPAlgCRXA68dpYiqep7eL4f3J3l5f74N867lS50x0NWc/rXtv0vvicjH6Z0p/y69JzmX2nc/cANwD71LK5uBT45RznuAA8C9Sf438N+A7xtjPmlR8QsuJKkNnqFLUiMMdElqhIEuSY0w0CWpEcv2OvQzzzyzNm7cONK+3/jGN1i3bl23Ba1w9nxisOcTwzg9P/DAA1+uqpcttG3ZAn3jxo3cf//9I+07OzvLzMxMtwWtcPZ8YrDnE8M4PSf5X4tt85KLJDXCQJekRhjoktQIA12SGmGgS1IjDHRJasSSgZ7kA/3vSfzMItuT5DeTHEjyUJLXdV+mJGkpw5yh7wK2HmX7pcCm/m078B/HL0uSdKyWDPSq+jPg2aMMuRy4pXruBU6f94W6kqTjYKjPQ0+yEfjjqvqub25J8sfAe6vqz/vLfwq8p6q+622gSbbTO4tnamrq9bt37x6p6GeePczT3xpp11Vr6lRWfM+bNyz5/RHHZG5ujvXr13c650rXdc/7Dh3ubK5JWQ3HdtfOOW3NyI/zli1bHqiq6YW2Hde3/lfVTmAnwPT0dI361tcbb7uDG/adWF+Heu3mIyu+5yeumul0Pt8SPr5tO+7sbK5JWQ3Hdtd2bV03kWO7i1e5HALOHlg+q79OknQcdRHoe4B39F/t8gbgcFV9sYN5JUnHYMm/c5J8CJgBzkxyEPjXwIsAquq3gL3Aj9P7ItxvAldPqlhJ0uKWDPSqunKJ7QX8k84qkiSNxHeKSlIjDHRJaoSBLkmNMNAlqREGuiQ1wkCXpEYY6JLUCANdkhphoEtSIwx0SWqEgS5JjTDQJakRBrokNcJAl6RGGOiS1AgDXZIaYaBLUiMMdElqhIEuSY0w0CWpEQa6JDXCQJekRhjoktQIA12SGmGgS1IjDHRJaoSBLkmNMNAlqREGuiQ1wkCXpEYY6JLUCANdkhoxVKAn2Zrk0SQHkuxYYPurktyd5NNJHkry492XKkk6miUDPcka4GbgUuA84Mok580b9i+B26vqh4ArgP/QdaGSpKMb5gz9QuBAVT1WVc8Bu4HL540p4KX9+6cBX+iuREnSMFJVRx+QvA3YWlU/01/+KeCiqrpmYMwrgI8BZwDrgLdU1QMLzLUd2A4wNTX1+t27d49U9DPPHubpb42066o1dSorvufNG07rdL65uTnWr1/f6ZwrXdc97zt0uLO5JmU1HNtdO+e0NSM/zlu2bHmgqqYX2rZ2rKr+nyuBXVV1Q5IfBm5N8tqqen5wUFXtBHYCTE9P18zMzEg/7Mbb7uCGfV2Vvjpcu/nIiu/5iatmOp1vdnaWUY+R1arrnrftuLOzuSZlNRzbXdu1dd1Eju1hLrkcAs4eWD6rv27QTwO3A1TVPcCLgTO7KFCSNJxhAv0+YFOSc5KcTO9Jzz3zxjwJXAKQ5PvpBfqXuixUknR0SwZ6VR0BrgHuAh6h92qWh5Ncn+Sy/rBrgZ9N8hfAh4BttdTFeUlSp4a6cFVVe4G989ZdN3B/P/Aj3ZYmSToWvlNUkhphoEtSIwx0SWqEgS5JjTDQJakRBrokNcJAl6RGGOiS1AgDXZIaYaBLUiMMdElqhIEuSY0w0CWpEQa6JDXCQJekRhjoktQIA12SGmGgS1IjDHRJaoSBLkmNMNAlqREGuiQ1wkCXpEYY6JLUCANdkhphoEtSIwx0SWqEgS5JjTDQJakRBrokNcJAl6RGGOiS1IihAj3J1iSPJjmQZMciY/5Bkv1JHk7ywW7LlCQtZe1SA5KsAW4G3gocBO5Lsqeq9g+M2QT8AvAjVfXVJC+fVMGSpIUNc4Z+IXCgqh6rqueA3cDl88b8LHBzVX0VoKqe6bZMSdJShgn0DcBTA8sH++sGnQucm+STSe5NsrWrAiVJw1nykssxzLMJmAHOAv4syeaq+trgoCTbge0AU1NTzM7OjvTDpk6FazcfGafeVWc19Dzq47mYubm5zudc6brueaUfM7A6ju2uTerYHibQDwFnDyyf1V836CDwqar6DvB4ks/SC/j7BgdV1U5gJ8D09HTNzMyMVPSNt93BDfu6+l20Oly7+ciK7/mJq2Y6nW92dpZRj5HVquuet+24s7O5JmU1HNtd27V13USO7WEuudwHbEpyTpKTgSuAPfPG/BG9s3OSnEnvEsxjHdYpSVrCkoFeVUeAa4C7gEeA26vq4STXJ7msP+wu4CtJ9gN3Az9fVV+ZVNGSpO821N85VbUX2Dtv3XUD9wt4d/8mSVoGvlNUkhphoEtSIwx0SWqEgS5JjTDQJakRBrokNcJAl6RGGOiS1AgDXZIaYaBLUiMMdElqhIEuSY0w0CWpEQa6JDXCQJekRhjoktQIA12SGmGgS1IjDHRJaoSBLkmNMNAlqREGuiQ1wkCXpEYY6JLUCANdkhphoEtSIwx0SWqEgS5JjTDQJakRBrokNcJAl6RGGOiS1AgDXZIaMVSgJ9ma5NEkB5LsOMq4v5+kkkx3V6IkaRhLBnqSNcDNwKXAecCVSc5bYNz3AP8U+FTXRUqSljbMGfqFwIGqeqyqngN2A5cvMO7fAu8D/qrD+iRJQ1o7xJgNwFMDyweBiwYHJHkdcHZV3Znk5xebKMl2YDvA1NQUs7Ozx1wwwNSpcO3mIyPtu1qthp5HfTwXMzc31/mcK13XPa/0YwZWx7HdtUkd28ME+lElOQn4DWDbUmOraiewE2B6erpmZmZG+pk33nYHN+wbu/RV5drNR1Z8z09cNdPpfLOzs4x6jKxWXfe8bcednc01Kavh2O7arq3rJnJsD3PJ5RBw9sDyWf11L/ge4LXAbJIngDcAe3xiVJKOr2EC/T5gU5JzkpwMXAHseWFjVR2uqjOramNVbQTuBS6rqvsnUrEkaUFLBnpVHQGuAe4CHgFur6qHk1yf5LJJFyhJGs5QF66qai+wd9666xYZOzN+WZKkY+U7RSWpEQa6JDXCQJekRhjoktQIA12SGmGgS1IjDHRJaoSBLkmNMNAlqREGuiQ1wkCXpEYY6JLUCANdkhphoEtSIwx0SWqEgS5JjTDQJakRBrokNcJAl6RGGOiS1AgDXZIaYaBLUiMMdElqhIEuSY0w0CWpEQa6JDXCQJekRhjoktQIA12SGmGgS1IjDHRJaoSBLkmNGCrQk2xN8miSA0l2LLD93Un2J3koyZ8meXX3pUqSjmbJQE+yBrgZuBQ4D7gyyXnzhn0amK6qHwA+Avxq14VKko5umDP0C4EDVfVYVT0H7AYuHxxQVXdX1Tf7i/cCZ3VbpiRpKamqow9I3gZsraqf6S//FHBRVV2zyPibgL+sql9eYNt2YDvA1NTU63fv3j1S0c88e5invzXSrqvW1Kms+J43bzit0/nm5uZYv359p3OudF33vO/Q4c7mmpTVcGx37ZzT1oz8OG/ZsuWBqppeaNvasaqaJ8nbgWng4oW2V9VOYCfA9PR0zczMjPRzbrztDm7Y12npK961m4+s+J6fuGqm0/lmZ2cZ9RhZrbrueduOOzuba1JWw7HdtV1b103k2B7m/+Ih4OyB5bP66/4/Sd4C/CJwcVV9u5vyJEnDGuYa+n3ApiTnJDkZuALYMzggyQ8Bvw1cVlXPdF+mJGkpSwZ6VR0BrgHuAh4Bbq+qh5Ncn+Sy/rBfA9YDf5DkwSR7FplOkjQhQ124qqq9wN55664buP+WjuuSJB0j3ykqSY0w0CWpEQa6JDXCQJekRhjoktQIA12SGmGgS1IjDHRJaoSBLkmNMNAlqREGuiQ1wkCXpEYY6JLUCANdkhphoEtSIwx0SWqEgS5JjTDQJakRBrokNcJAl6RGGOiS1AgDXZIaYaBLUiMMdElqhIEuSY0w0CWpEQa6JDXCQJekRhjoktQIA12SGmGgS1IjDHRJaoSBLkmNGCrQk2xN8miSA0l2LLD9lCQf7m//VJKNXRcqSTq6JQM9yRrgZuBS4DzgyiTnzRv208BXq+o1wPuB93VdqCTp6IY5Q78QOFBVj1XVc8Bu4PJ5Yy4H/nP//keAS5KkuzIlSUtZO8SYDcBTA8sHgYsWG1NVR5IcBr4X+PLgoCTbge39xbkkj45SNHDm/Llb965V0HO6/7tsxfc8ASdcz6vh2O7alveN1fOrF9swTKB3pqp2AjvHnSfJ/VU13UFJq4Y9nxjs+cQwqZ6HueRyCDh7YPms/roFxyRZC5wGfKWLAiVJwxkm0O8DNiU5J8nJwBXAnnlj9gDv7N9/G/CJqqruypQkLWXJSy79a+LXAHcBa4APVNXDSa4H7q+qPcB/Am5NcgB4ll7oT9LYl21WIXs+MdjziWEiPccTaUlqg+8UlaRGGOiS1IgVF+hJfi7Jw0k+k+RDSV6cZFeSx5M82L+dv8i+70zyuf7tnQuNWYlG7TnJ+Unu6e/7UJKfXI76RzHO49zf/6VJDia56XjWPaoxj+tXJflYkkeS7F8tH60xZs+/2t/3kSS/uVreqLhIz0nyK0k+2+/nXYvsO35+VdWKudF7g9LjwKn95duBbcAu4G1L7Ps3gMf6/z2jf/+M5e5pwj2fC2zq338l8EXg9OXuaZI9D8zx74EPAjctdz+T7heYBd7av78eeMly9zTJnoE3Ap+k9yKMNcA9wMxy9zRGz1cDtwAn9de/fIF9O8mvFXeGTu+VN6f2X8/+EuALQ+73Y8DHq+rZqvoq8HFg64Rq7NpIPVfVZ6vqc/37XwCeAV42sSq7NerjTJLXA1PAxyZU2ySM1G//c5PWVtXHAapqrqq+ObkyOzXqY1zAi4GTgVOAFwFPT6TC7i3U8z8Crq+q5wGq6pkF9uskv1ZUoFfVIeDXgSfpnW0erqoX/tH+Sv+ywvuTnLLA7gt9RMGGiRbcgTF7/r+SXEjvH8DnJ1pwB8bpOclJwA3APz9uBY9pzMf4XOBrST6a5NNJfi29D8xb0cbpuaruAe7u7/dF4K6qeuQ4lT6yo/T8t4CfTHJ/kj9JsmmB3TvJrxUV6EnOoPdBX+fQu4SwLsnbgV8A/jZwAb0/Sd6zbEV2rIuek7wCuBW4+oWzgJVszJ7/MbC3qg4ep3LHNma/a4E30fsFdgHwN+n9Gb+ijdNzktcA30/vXekbgDcnedNxKn1kR+n5FOCvqvdW/98BPjCpGlZUoANvAR6vqi9V1XeAjwJvrKovVs+3gd+j9wmQ8w3zEQUr0Tg9k+SlwJ3AL1bVvcet6vGM0/MPA9ckeYLe2dA7krz3eBU+onH6PQg8WL1POz0C/BHwuuNW+ejG6fkngHv7l5fmgD+h97ivdAv2TO8x/Gh/zB8CP7DAvp3k10oL9CeBNyR5Sf9Z7UuAR/pnoPTX/T3gMwvsexfwo0nO6P+m/NH+upVu5J7T+yiGPwRuqaqPHMeaxzVyz1V1VVW9qqo20jtrvaWqvutLV1aYcY7r+4DTk7zw3Mibgf3HoeZxjdPzk8DFSdYmeRFwMbDiL7mwSM/0fglv6Y+5GPjsAvt2k1+TfNZ3lBvwS8D/pPdA30rvz5VPAPv6634fWN8fOw387sC+/xA40L9dvdy9TLpn4O3Ad4AHB27nL3c/k36cB+bYxip4lcu4/QJvBR7qj90FnLzc/UyyZ3qvbPltemG4H/iN5e5lzJ5Pp/dX9D56r9j5wUUe57Hzy7f+S1IjVtolF0nSiAx0SWqEgS5JjTDQJakRBrokNcJAl6RGGOiS1Ij/A5tew0OScTS2AAAAAElFTkSuQmCC\n",
            "text/plain": [
              "<Figure size 432x288 with 1 Axes>"
            ]
          },
          "metadata": {
            "tags": [],
            "needs_background": "light"
          }
        }
      ]
    },
    {
      "cell_type": "code",
      "metadata": {
        "id": "0dA0sJjRXyGf"
      },
      "source": [
        "from sklearn.model_selection import train_test_split\r\n",
        "X_train, X_ = train_test_split(df_shuffle, test_size=0.2, random_state=6)\r\n",
        "X_test, X_val = train_test_split(X_, test_size=0.2, random_state=6)"
      ],
      "execution_count": 264,
      "outputs": []
    },
    {
      "cell_type": "code",
      "metadata": {
        "colab": {
          "base_uri": "https://localhost:8080/"
        },
        "id": "2ZvKCez9YWdG",
        "outputId": "7cdecc94-fa98-46bd-dbf1-9a7a400d49db"
      },
      "source": [
        "tf.keras.preprocessing.image.ImageDataGenerator(\r\n",
        "    featurewise_center=False,\r\n",
        "    samplewise_center=False,\r\n",
        "    featurewise_std_normalization=False,\r\n",
        "    samplewise_std_normalization=False,\r\n",
        "    zca_whitening=False,\r\n",
        "    zca_epsilon=1e-06,\r\n",
        "    rotation_range=0,\r\n",
        "    width_shift_range=0.0,\r\n",
        "    height_shift_range=0.0,\r\n",
        "    brightness_range=None,\r\n",
        "    shear_range=0.0,\r\n",
        "    zoom_range=0.0,\r\n",
        "    channel_shift_range=0.0,\r\n",
        "    fill_mode=\"nearest\",\r\n",
        "    cval=0.0,\r\n",
        "    horizontal_flip=False,\r\n",
        "    vertical_flip=False,\r\n",
        "    rescale=None,\r\n",
        "    preprocessing_function=None,\r\n",
        "    data_format=None,\r\n",
        "    validation_split=0.0,\r\n",
        "    dtype=None,\r\n",
        ")"
      ],
      "execution_count": 269,
      "outputs": [
        {
          "output_type": "execute_result",
          "data": {
            "text/plain": [
              "<tensorflow.python.keras.preprocessing.image.ImageDataGenerator at 0x7fb7f81f9c18>"
            ]
          },
          "metadata": {
            "tags": []
          },
          "execution_count": 269
        }
      ]
    },
    {
      "cell_type": "code",
      "metadata": {
        "id": "ckvOQp5cYbOl"
      },
      "source": [
        "img_gen = ImageDataGenerator(rescale=1/255)"
      ],
      "execution_count": 270,
      "outputs": []
    },
    {
      "cell_type": "code",
      "metadata": {
        "colab": {
          "base_uri": "https://localhost:8080/"
        },
        "id": "YnrxviQOYs29",
        "outputId": "be081609-d68e-4386-8ad6-a5b8ee4c0736"
      },
      "source": [
        "train_it = img_gen.flow_from_dataframe(X_train, class_mode='binary', featurewise_std_normalization=True, batch_size=136, image_size=(256, 256))\r\n",
        "test_it = img_gen.flow_from_dataframe(X_test, class_mode='binary',image_size=(256, 256),featurewise_std_normalization=True,batch_size=28)\r\n",
        "val_it = img_gen.flow_from_dataframe(X_val, class_mode='binary',image_size=(256, 256),featurewise_std_normalization=True)"
      ],
      "execution_count": 273,
      "outputs": [
        {
          "output_type": "stream",
          "text": [
            "Found 136 validated image filenames belonging to 2 classes.\n",
            "Found 28 validated image filenames belonging to 2 classes.\n",
            "Found 7 validated image filenames belonging to 2 classes.\n"
          ],
          "name": "stdout"
        }
      ]
    },
    {
      "cell_type": "code",
      "metadata": {
        "colab": {
          "base_uri": "https://localhost:8080/",
          "height": 378
        },
        "id": "XkIymqhUZepw",
        "outputId": "f559830f-1a95-4d2c-b349-a6006ac778be"
      },
      "source": [
        "fig, ax = plt.subplots(2,2, figsize=(6,6))\r\n",
        "images, labels = train_it.next()\r\n",
        "X = 0\r\n",
        "y = 0\r\n",
        "for i in range(0, 16):\r\n",
        "  image = images[i]\r\n",
        "  if y<2 and X<2:\r\n",
        "    ax[y][X].imshow(image)\r\n",
        "  if X>2:\r\n",
        "    y = y+1\r\n",
        "    X = 0\r\n",
        "  X = X+1\r\n",
        "plt.show()"
      ],
      "execution_count": 276,
      "outputs": [
        {
          "output_type": "display_data",
          "data": {
            "image/png": "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\n",
            "text/plain": [
              "<Figure size 432x432 with 4 Axes>"
            ]
          },
          "metadata": {
            "tags": [],
            "needs_background": "light"
          }
        }
      ]
    },
    {
      "cell_type": "code",
      "metadata": {
        "colab": {
          "base_uri": "https://localhost:8080/"
        },
        "id": "9TzWK2imaPwV",
        "outputId": "99ac277a-0d93-486f-cc18-2f64988cb5f5"
      },
      "source": [
        "from keras.applications.vgg16 import VGG16\r\n",
        "from keras.models import Model\r\n",
        "from keras.layers import Dense, Flatten, BatchNormalization, Dropout\r\n",
        "vgg = VGG16(include_top=False, input_shape=(256, 256, 3))\r\n",
        "flat1 = Flatten()(vgg.output)\r\n",
        "dropout = Dropout(0.5)(flat1)\r\n",
        "dense1 = Dense(1024, activation='relu')(flat1)\r\n",
        "batch = BatchNormalization()(dense1)\r\n",
        "dense2 = Dense(1024, activation='relu')(batch)\r\n",
        "dropout = Dropout(0.5)(dense2)\r\n",
        "output = Dense(1, activation='sigmoid')(dropout)\r\n",
        "model = Model(inputs=vgg.inputs, outputs=output)\r\n",
        "model.summary()\r\n",
        "model.compile(loss='binary_crossentropy', optimizer='adam', metrics=['accuracy'])"
      ],
      "execution_count": 280,
      "outputs": [
        {
          "output_type": "stream",
          "text": [
            "Model: \"model\"\n",
            "_________________________________________________________________\n",
            "Layer (type)                 Output Shape              Param #   \n",
            "=================================================================\n",
            "input_2 (InputLayer)         [(None, 256, 256, 3)]     0         \n",
            "_________________________________________________________________\n",
            "block1_conv1 (Conv2D)        (None, 256, 256, 64)      1792      \n",
            "_________________________________________________________________\n",
            "block1_conv2 (Conv2D)        (None, 256, 256, 64)      36928     \n",
            "_________________________________________________________________\n",
            "block1_pool (MaxPooling2D)   (None, 128, 128, 64)      0         \n",
            "_________________________________________________________________\n",
            "block2_conv1 (Conv2D)        (None, 128, 128, 128)     73856     \n",
            "_________________________________________________________________\n",
            "block2_conv2 (Conv2D)        (None, 128, 128, 128)     147584    \n",
            "_________________________________________________________________\n",
            "block2_pool (MaxPooling2D)   (None, 64, 64, 128)       0         \n",
            "_________________________________________________________________\n",
            "block3_conv1 (Conv2D)        (None, 64, 64, 256)       295168    \n",
            "_________________________________________________________________\n",
            "block3_conv2 (Conv2D)        (None, 64, 64, 256)       590080    \n",
            "_________________________________________________________________\n",
            "block3_conv3 (Conv2D)        (None, 64, 64, 256)       590080    \n",
            "_________________________________________________________________\n",
            "block3_pool (MaxPooling2D)   (None, 32, 32, 256)       0         \n",
            "_________________________________________________________________\n",
            "block4_conv1 (Conv2D)        (None, 32, 32, 512)       1180160   \n",
            "_________________________________________________________________\n",
            "block4_conv2 (Conv2D)        (None, 32, 32, 512)       2359808   \n",
            "_________________________________________________________________\n",
            "block4_conv3 (Conv2D)        (None, 32, 32, 512)       2359808   \n",
            "_________________________________________________________________\n",
            "block4_pool (MaxPooling2D)   (None, 16, 16, 512)       0         \n",
            "_________________________________________________________________\n",
            "block5_conv1 (Conv2D)        (None, 16, 16, 512)       2359808   \n",
            "_________________________________________________________________\n",
            "block5_conv2 (Conv2D)        (None, 16, 16, 512)       2359808   \n",
            "_________________________________________________________________\n",
            "block5_conv3 (Conv2D)        (None, 16, 16, 512)       2359808   \n",
            "_________________________________________________________________\n",
            "block5_pool (MaxPooling2D)   (None, 8, 8, 512)         0         \n",
            "_________________________________________________________________\n",
            "flatten_1 (Flatten)          (None, 32768)             0         \n",
            "_________________________________________________________________\n",
            "dense (Dense)                (None, 1024)              33555456  \n",
            "_________________________________________________________________\n",
            "batch_normalization (BatchNo (None, 1024)              4096      \n",
            "_________________________________________________________________\n",
            "dense_1 (Dense)              (None, 1024)              1049600   \n",
            "_________________________________________________________________\n",
            "dropout_2 (Dropout)          (None, 1024)              0         \n",
            "_________________________________________________________________\n",
            "dense_2 (Dense)              (None, 1)                 1025      \n",
            "=================================================================\n",
            "Total params: 49,324,865\n",
            "Trainable params: 49,322,817\n",
            "Non-trainable params: 2,048\n",
            "_________________________________________________________________\n"
          ],
          "name": "stdout"
        }
      ]
    },
    {
      "cell_type": "code",
      "metadata": {
        "colab": {
          "base_uri": "https://localhost:8080/",
          "height": 1000
        },
        "id": "GIsBTYNEaqoL",
        "outputId": "3692102f-c617-4fcf-c424-999a2ae5f7ff"
      },
      "source": [
        "import tensorflow as tf\r\n",
        "import autokeras as ak\r\n",
        "images, labels = train_it.next()\r\n",
        "\r\n",
        "classifier = ak.ImageClassifier(overwrite=True, max_trials=2)\r\n",
        "classifier.fit(images, labels, epochs=10)"
      ],
      "execution_count": 281,
      "outputs": [
        {
          "output_type": "display_data",
          "data": {
            "text/html": [
              "<span style=\"color:#4527A0\"><h1 style=\"font-size:18px\">Starting new trial</h1></span>"
            ],
            "text/plain": [
              "<IPython.core.display.HTML object>"
            ]
          },
          "metadata": {
            "tags": []
          }
        },
        {
          "output_type": "stream",
          "text": [
            "Epoch 1/10\n",
            "4/4 [==============================] - 24s 6s/step - loss: 5.9730 - accuracy: 0.5703 - val_loss: 8.7937 - val_accuracy: 0.3750\n",
            "Epoch 2/10\n",
            "4/4 [==============================] - 23s 6s/step - loss: 5.8857 - accuracy: 0.5234 - val_loss: 2.0841 - val_accuracy: 0.3750\n",
            "Epoch 3/10\n",
            "4/4 [==============================] - 22s 6s/step - loss: 0.6763 - accuracy: 0.7422 - val_loss: 0.7578 - val_accuracy: 0.6250\n",
            "Epoch 4/10\n",
            "4/4 [==============================] - 22s 6s/step - loss: 0.5400 - accuracy: 0.6953 - val_loss: 0.3967 - val_accuracy: 0.8750\n",
            "Epoch 5/10\n",
            "4/4 [==============================] - 23s 6s/step - loss: 0.2716 - accuracy: 0.8984 - val_loss: 0.4915 - val_accuracy: 0.8750\n",
            "Epoch 6/10\n",
            "4/4 [==============================] - 24s 6s/step - loss: 0.1662 - accuracy: 0.9922 - val_loss: 0.2272 - val_accuracy: 0.8750\n",
            "Epoch 7/10\n",
            "4/4 [==============================] - 22s 6s/step - loss: 0.0944 - accuracy: 0.9922 - val_loss: 0.2011 - val_accuracy: 0.8750\n",
            "Epoch 8/10\n",
            "4/4 [==============================] - 22s 6s/step - loss: 0.0423 - accuracy: 1.0000 - val_loss: 0.3012 - val_accuracy: 0.8750\n",
            "Epoch 9/10\n",
            "4/4 [==============================] - 25s 6s/step - loss: 0.0191 - accuracy: 1.0000 - val_loss: 0.2239 - val_accuracy: 0.8750\n",
            "Epoch 10/10\n",
            "4/4 [==============================] - 23s 6s/step - loss: 0.0091 - accuracy: 1.0000 - val_loss: 0.3183 - val_accuracy: 0.8750\n"
          ],
          "name": "stdout"
        },
        {
          "output_type": "display_data",
          "data": {
            "text/html": [
              "<span style=\"color:#4527A0\"><h1 style=\"font-size:18px\">Trial complete</h1></span>"
            ],
            "text/plain": [
              "<IPython.core.display.HTML object>"
            ]
          },
          "metadata": {
            "tags": []
          }
        },
        {
          "output_type": "display_data",
          "data": {
            "text/html": [
              "<span style=\"color:#4527A0\"><h1 style=\"font-size:18px\">Trial summary</h1></span>"
            ],
            "text/plain": [
              "<IPython.core.display.HTML object>"
            ]
          },
          "metadata": {
            "tags": []
          }
        },
        {
          "output_type": "display_data",
          "data": {
            "text/html": [
              "<span style=\"color:cyan\"> |-Trial ID: 01f63a4d3fe752ceb820bca3c4a2b9cb</span>"
            ],
            "text/plain": [
              "<IPython.core.display.HTML object>"
            ]
          },
          "metadata": {
            "tags": []
          }
        },
        {
          "output_type": "display_data",
          "data": {
            "text/html": [
              "<span style=\"color:cyan\"> |-Score: 0.20114240050315857</span>"
            ],
            "text/plain": [
              "<IPython.core.display.HTML object>"
            ]
          },
          "metadata": {
            "tags": []
          }
        },
        {
          "output_type": "display_data",
          "data": {
            "text/html": [
              "<span style=\"color:cyan\"> |-Best step: 6</span>"
            ],
            "text/plain": [
              "<IPython.core.display.HTML object>"
            ]
          },
          "metadata": {
            "tags": []
          }
        },
        {
          "output_type": "display_data",
          "data": {
            "text/html": [
              "<span style=\"color:#7E57C2\"><h2 style=\"font-size:16px\">Hyperparameters:</h2></span>"
            ],
            "text/plain": [
              "<IPython.core.display.HTML object>"
            ]
          },
          "metadata": {
            "tags": []
          }
        },
        {
          "output_type": "display_data",
          "data": {
            "text/html": [
              "<span style=\"color:cyan\"> |-classification_head_1/dropout_rate: 0.5</span>"
            ],
            "text/plain": [
              "<IPython.core.display.HTML object>"
            ]
          },
          "metadata": {
            "tags": []
          }
        },
        {
          "output_type": "display_data",
          "data": {
            "text/html": [
              "<span style=\"color:blue\"> |-classification_head_1/spatial_reduction_1/reduction_type: flatten</span>"
            ],
            "text/plain": [
              "<IPython.core.display.HTML object>"
            ]
          },
          "metadata": {
            "tags": []
          }
        },
        {
          "output_type": "display_data",
          "data": {
            "text/html": [
              "<span style=\"color:cyan\"> |-image_block_1/augment: False</span>"
            ],
            "text/plain": [
              "<IPython.core.display.HTML object>"
            ]
          },
          "metadata": {
            "tags": []
          }
        },
        {
          "output_type": "display_data",
          "data": {
            "text/html": [
              "<span style=\"color:blue\"> |-image_block_1/block_type: vanilla</span>"
            ],
            "text/plain": [
              "<IPython.core.display.HTML object>"
            ]
          },
          "metadata": {
            "tags": []
          }
        },
        {
          "output_type": "display_data",
          "data": {
            "text/html": [
              "<span style=\"color:cyan\"> |-image_block_1/conv_block_1/dropout_rate: 0.25</span>"
            ],
            "text/plain": [
              "<IPython.core.display.HTML object>"
            ]
          },
          "metadata": {
            "tags": []
          }
        },
        {
          "output_type": "display_data",
          "data": {
            "text/html": [
              "<span style=\"color:blue\"> |-image_block_1/conv_block_1/filters_0_0: 32</span>"
            ],
            "text/plain": [
              "<IPython.core.display.HTML object>"
            ]
          },
          "metadata": {
            "tags": []
          }
        },
        {
          "output_type": "display_data",
          "data": {
            "text/html": [
              "<span style=\"color:cyan\"> |-image_block_1/conv_block_1/filters_0_1: 64</span>"
            ],
            "text/plain": [
              "<IPython.core.display.HTML object>"
            ]
          },
          "metadata": {
            "tags": []
          }
        },
        {
          "output_type": "display_data",
          "data": {
            "text/html": [
              "<span style=\"color:blue\"> |-image_block_1/conv_block_1/kernel_size: 3</span>"
            ],
            "text/plain": [
              "<IPython.core.display.HTML object>"
            ]
          },
          "metadata": {
            "tags": []
          }
        },
        {
          "output_type": "display_data",
          "data": {
            "text/html": [
              "<span style=\"color:cyan\"> |-image_block_1/conv_block_1/max_pooling: True</span>"
            ],
            "text/plain": [
              "<IPython.core.display.HTML object>"
            ]
          },
          "metadata": {
            "tags": []
          }
        },
        {
          "output_type": "display_data",
          "data": {
            "text/html": [
              "<span style=\"color:blue\"> |-image_block_1/conv_block_1/num_blocks: 1</span>"
            ],
            "text/plain": [
              "<IPython.core.display.HTML object>"
            ]
          },
          "metadata": {
            "tags": []
          }
        },
        {
          "output_type": "display_data",
          "data": {
            "text/html": [
              "<span style=\"color:cyan\"> |-image_block_1/conv_block_1/num_layers: 2</span>"
            ],
            "text/plain": [
              "<IPython.core.display.HTML object>"
            ]
          },
          "metadata": {
            "tags": []
          }
        },
        {
          "output_type": "display_data",
          "data": {
            "text/html": [
              "<span style=\"color:blue\"> |-image_block_1/conv_block_1/separable: False</span>"
            ],
            "text/plain": [
              "<IPython.core.display.HTML object>"
            ]
          },
          "metadata": {
            "tags": []
          }
        },
        {
          "output_type": "display_data",
          "data": {
            "text/html": [
              "<span style=\"color:cyan\"> |-image_block_1/normalize: True</span>"
            ],
            "text/plain": [
              "<IPython.core.display.HTML object>"
            ]
          },
          "metadata": {
            "tags": []
          }
        },
        {
          "output_type": "display_data",
          "data": {
            "text/html": [
              "<span style=\"color:blue\"> |-optimizer: adam</span>"
            ],
            "text/plain": [
              "<IPython.core.display.HTML object>"
            ]
          },
          "metadata": {
            "tags": []
          }
        },
        {
          "output_type": "display_data",
          "data": {
            "text/html": [
              "<span style=\"color:#4527A0\"><h1 style=\"font-size:18px\">Starting new trial</h1></span>"
            ],
            "text/plain": [
              "<IPython.core.display.HTML object>"
            ]
          },
          "metadata": {
            "tags": []
          }
        },
        {
          "output_type": "stream",
          "text": [
            "Epoch 1/10\n",
            "4/4 [==============================] - 78s 19s/step - loss: 1.1962 - accuracy: 0.5312 - val_loss: 4.2208 - val_accuracy: 0.3750\n",
            "Epoch 2/10\n",
            "4/4 [==============================] - 72s 18s/step - loss: 0.8833 - accuracy: 0.5547 - val_loss: 75.3771 - val_accuracy: 0.6250\n",
            "Epoch 3/10\n",
            "4/4 [==============================] - 82s 20s/step - loss: 0.6210 - accuracy: 0.6562 - val_loss: 456.6560 - val_accuracy: 0.6250\n",
            "Epoch 4/10\n",
            "4/4 [==============================] - 74s 18s/step - loss: 0.6267 - accuracy: 0.6406 - val_loss: 1544.9264 - val_accuracy: 0.6250\n",
            "Epoch 5/10\n",
            "4/4 [==============================] - 72s 18s/step - loss: 0.5925 - accuracy: 0.6562 - val_loss: 3208.9646 - val_accuracy: 0.6250\n",
            "Epoch 6/10\n",
            "4/4 [==============================] - 81s 20s/step - loss: 0.5684 - accuracy: 0.6172 - val_loss: 3467.1836 - val_accuracy: 0.6250\n",
            "Epoch 7/10\n",
            "4/4 [==============================] - 74s 18s/step - loss: 0.5205 - accuracy: 0.7266 - val_loss: 1594.9624 - val_accuracy: 0.6250\n",
            "Epoch 8/10\n",
            "4/4 [==============================] - 74s 19s/step - loss: 0.5510 - accuracy: 0.7344 - val_loss: 888.5018 - val_accuracy: 0.6250\n",
            "Epoch 9/10\n",
            "4/4 [==============================] - 73s 18s/step - loss: 0.5621 - accuracy: 0.7188 - val_loss: 813.1426 - val_accuracy: 0.6250\n",
            "Epoch 10/10\n",
            "4/4 [==============================] - 75s 19s/step - loss: 0.4726 - accuracy: 0.7500 - val_loss: 498.5855 - val_accuracy: 0.6250\n"
          ],
          "name": "stdout"
        },
        {
          "output_type": "display_data",
          "data": {
            "text/html": [
              "<span style=\"color:#4527A0\"><h1 style=\"font-size:18px\">Trial complete</h1></span>"
            ],
            "text/plain": [
              "<IPython.core.display.HTML object>"
            ]
          },
          "metadata": {
            "tags": []
          }
        },
        {
          "output_type": "display_data",
          "data": {
            "text/html": [
              "<span style=\"color:#4527A0\"><h1 style=\"font-size:18px\">Trial summary</h1></span>"
            ],
            "text/plain": [
              "<IPython.core.display.HTML object>"
            ]
          },
          "metadata": {
            "tags": []
          }
        },
        {
          "output_type": "display_data",
          "data": {
            "text/html": [
              "<span style=\"color:cyan\"> |-Trial ID: 59acbcc57b00865725e9a9e97aa5ee77</span>"
            ],
            "text/plain": [
              "<IPython.core.display.HTML object>"
            ]
          },
          "metadata": {
            "tags": []
          }
        },
        {
          "output_type": "display_data",
          "data": {
            "text/html": [
              "<span style=\"color:cyan\"> |-Score: 4.2208147048950195</span>"
            ],
            "text/plain": [
              "<IPython.core.display.HTML object>"
            ]
          },
          "metadata": {
            "tags": []
          }
        },
        {
          "output_type": "display_data",
          "data": {
            "text/html": [
              "<span style=\"color:cyan\"> |-Best step: 0</span>"
            ],
            "text/plain": [
              "<IPython.core.display.HTML object>"
            ]
          },
          "metadata": {
            "tags": []
          }
        },
        {
          "output_type": "display_data",
          "data": {
            "text/html": [
              "<span style=\"color:#7E57C2\"><h2 style=\"font-size:16px\">Hyperparameters:</h2></span>"
            ],
            "text/plain": [
              "<IPython.core.display.HTML object>"
            ]
          },
          "metadata": {
            "tags": []
          }
        },
        {
          "output_type": "display_data",
          "data": {
            "text/html": [
              "<span style=\"color:cyan\"> |-classification_head_1/dropout_rate: 0</span>"
            ],
            "text/plain": [
              "<IPython.core.display.HTML object>"
            ]
          },
          "metadata": {
            "tags": []
          }
        },
        {
          "output_type": "display_data",
          "data": {
            "text/html": [
              "<span style=\"color:blue\"> |-image_block_1/augment: True</span>"
            ],
            "text/plain": [
              "<IPython.core.display.HTML object>"
            ]
          },
          "metadata": {
            "tags": []
          }
        },
        {
          "output_type": "display_data",
          "data": {
            "text/html": [
              "<span style=\"color:cyan\"> |-image_block_1/block_type: resnet</span>"
            ],
            "text/plain": [
              "<IPython.core.display.HTML object>"
            ]
          },
          "metadata": {
            "tags": []
          }
        },
        {
          "output_type": "display_data",
          "data": {
            "text/html": [
              "<span style=\"color:blue\"> |-image_block_1/image_augmentation_1/horizontal_flip: True</span>"
            ],
            "text/plain": [
              "<IPython.core.display.HTML object>"
            ]
          },
          "metadata": {
            "tags": []
          }
        },
        {
          "output_type": "display_data",
          "data": {
            "text/html": [
              "<span style=\"color:cyan\"> |-image_block_1/image_augmentation_1/vertical_flip: True</span>"
            ],
            "text/plain": [
              "<IPython.core.display.HTML object>"
            ]
          },
          "metadata": {
            "tags": []
          }
        },
        {
          "output_type": "display_data",
          "data": {
            "text/html": [
              "<span style=\"color:blue\"> |-image_block_1/normalize: True</span>"
            ],
            "text/plain": [
              "<IPython.core.display.HTML object>"
            ]
          },
          "metadata": {
            "tags": []
          }
        },
        {
          "output_type": "display_data",
          "data": {
            "text/html": [
              "<span style=\"color:cyan\"> |-image_block_1/res_net_block_1/conv3_depth: 4</span>"
            ],
            "text/plain": [
              "<IPython.core.display.HTML object>"
            ]
          },
          "metadata": {
            "tags": []
          }
        },
        {
          "output_type": "display_data",
          "data": {
            "text/html": [
              "<span style=\"color:blue\"> |-image_block_1/res_net_block_1/conv4_depth: 6</span>"
            ],
            "text/plain": [
              "<IPython.core.display.HTML object>"
            ]
          },
          "metadata": {
            "tags": []
          }
        },
        {
          "output_type": "display_data",
          "data": {
            "text/html": [
              "<span style=\"color:cyan\"> |-image_block_1/res_net_block_1/pooling: avg</span>"
            ],
            "text/plain": [
              "<IPython.core.display.HTML object>"
            ]
          },
          "metadata": {
            "tags": []
          }
        },
        {
          "output_type": "display_data",
          "data": {
            "text/html": [
              "<span style=\"color:blue\"> |-image_block_1/res_net_block_1/version: v2</span>"
            ],
            "text/plain": [
              "<IPython.core.display.HTML object>"
            ]
          },
          "metadata": {
            "tags": []
          }
        },
        {
          "output_type": "display_data",
          "data": {
            "text/html": [
              "<span style=\"color:cyan\"> |-optimizer: adam</span>"
            ],
            "text/plain": [
              "<IPython.core.display.HTML object>"
            ]
          },
          "metadata": {
            "tags": []
          }
        },
        {
          "output_type": "stream",
          "text": [
            "INFO:tensorflow:Oracle triggered exit\n",
            "5/5 [==============================] - 26s 5s/step - loss: 4.7357 - accuracy: 0.4926\n"
          ],
          "name": "stdout"
        }
      ]
    },
    {
      "cell_type": "code",
      "metadata": {
        "colab": {
          "base_uri": "https://localhost:8080/"
        },
        "id": "19V49ESibLPm",
        "outputId": "28b5cb1f-6b72-483e-ae1d-3abc7d4eeb40"
      },
      "source": [
        "X_test, y_test = test_it.next()\r\n",
        "accuracy = classifier.evaluate(X_test, y_test)"
      ],
      "execution_count": 310,
      "outputs": [
        {
          "output_type": "stream",
          "text": [
            "WARNING:tensorflow:Unresolved object in checkpoint: (root).optimizer.iter\n",
            "WARNING:tensorflow:Unresolved object in checkpoint: (root).optimizer.beta_1\n",
            "WARNING:tensorflow:Unresolved object in checkpoint: (root).optimizer.beta_2\n",
            "WARNING:tensorflow:Unresolved object in checkpoint: (root).optimizer.decay\n",
            "WARNING:tensorflow:Unresolved object in checkpoint: (root).optimizer.learning_rate\n",
            "WARNING:tensorflow:A checkpoint was restored (e.g. tf.train.Checkpoint.restore or tf.keras.Model.load_weights) but not all checkpointed values were used. See above for specific issues. Use expect_partial() on the load status object, e.g. tf.train.Checkpoint.restore(...).expect_partial(), to silence these warnings, or use assert_consumed() to make the check explicit. See https://www.tensorflow.org/guide/checkpoint#loading_mechanics for details.\n",
            "WARNING:tensorflow:Unresolved object in checkpoint: (root).optimizer.iter\n",
            "WARNING:tensorflow:Unresolved object in checkpoint: (root).optimizer.beta_1\n",
            "WARNING:tensorflow:Unresolved object in checkpoint: (root).optimizer.beta_2\n",
            "WARNING:tensorflow:Unresolved object in checkpoint: (root).optimizer.decay\n",
            "WARNING:tensorflow:Unresolved object in checkpoint: (root).optimizer.learning_rate\n",
            "WARNING:tensorflow:A checkpoint was restored (e.g. tf.train.Checkpoint.restore or tf.keras.Model.load_weights) but not all checkpointed values were used. See above for specific issues. Use expect_partial() on the load status object, e.g. tf.train.Checkpoint.restore(...).expect_partial(), to silence these warnings, or use assert_consumed() to make the check explicit. See https://www.tensorflow.org/guide/checkpoint#loading_mechanics for details.\n",
            "1/1 [==============================] - 0s 7ms/step - loss: 5.6366 - accuracy: 0.4286\n"
          ],
          "name": "stdout"
        }
      ]
    },
    {
      "cell_type": "code",
      "metadata": {
        "colab": {
          "base_uri": "https://localhost:8080/"
        },
        "id": "6icx8v0egvkm",
        "outputId": "46011291-244a-4d1b-da43-b4c7ab717eb2"
      },
      "source": [
        "df_yes = df_shuffle[df_shuffle['class']=='yes']\r\n",
        "name = list(df_yes.iloc[1:2, :]['filename'])[0]\r\n",
        "print(name)"
      ],
      "execution_count": 311,
      "outputs": [
        {
          "output_type": "stream",
          "text": [
            "/content/yes_output/Y96.jpg\n"
          ],
          "name": "stdout"
        }
      ]
    },
    {
      "cell_type": "code",
      "metadata": {
        "colab": {
          "base_uri": "https://localhost:8080/",
          "height": 493
        },
        "id": "lJXYcI_Og5x_",
        "outputId": "c723346f-6608-4dbe-fa92-10e4d481798e"
      },
      "source": [
        "ex_img = cv2.imread(name)\r\n",
        "ex_img = cv2.resize(ex_img, (256, 256))\r\n",
        "plt.imshow(ex_img)\r\n",
        "plt.show()"
      ],
      "execution_count": 312,
      "outputs": [
        {
          "output_type": "stream",
          "text": [
            "WARNING:tensorflow:Unresolved object in checkpoint: (root).optimizer.iter\n",
            "WARNING:tensorflow:Unresolved object in checkpoint: (root).optimizer.beta_1\n",
            "WARNING:tensorflow:Unresolved object in checkpoint: (root).optimizer.beta_2\n",
            "WARNING:tensorflow:Unresolved object in checkpoint: (root).optimizer.decay\n",
            "WARNING:tensorflow:Unresolved object in checkpoint: (root).optimizer.learning_rate\n",
            "WARNING:tensorflow:A checkpoint was restored (e.g. tf.train.Checkpoint.restore or tf.keras.Model.load_weights) but not all checkpointed values were used. See above for specific issues. Use expect_partial() on the load status object, e.g. tf.train.Checkpoint.restore(...).expect_partial(), to silence these warnings, or use assert_consumed() to make the check explicit. See https://www.tensorflow.org/guide/checkpoint#loading_mechanics for details.\n",
            "WARNING:tensorflow:Unresolved object in checkpoint: (root).optimizer.iter\n",
            "WARNING:tensorflow:Unresolved object in checkpoint: (root).optimizer.beta_1\n",
            "WARNING:tensorflow:Unresolved object in checkpoint: (root).optimizer.beta_2\n",
            "WARNING:tensorflow:Unresolved object in checkpoint: (root).optimizer.decay\n",
            "WARNING:tensorflow:Unresolved object in checkpoint: (root).optimizer.learning_rate\n",
            "WARNING:tensorflow:A checkpoint was restored (e.g. tf.train.Checkpoint.restore or tf.keras.Model.load_weights) but not all checkpointed values were used. See above for specific issues. Use expect_partial() on the load status object, e.g. tf.train.Checkpoint.restore(...).expect_partial(), to silence these warnings, or use assert_consumed() to make the check explicit. See https://www.tensorflow.org/guide/checkpoint#loading_mechanics for details.\n"
          ],
          "name": "stdout"
        },
        {
          "output_type": "display_data",
          "data": {
            "image/png": "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\n",
            "text/plain": [
              "<Figure size 432x288 with 1 Axes>"
            ]
          },
          "metadata": {
            "tags": [],
            "needs_background": "light"
          }
        }
      ]
    },
    {
      "cell_type": "code",
      "metadata": {
        "colab": {
          "base_uri": "https://localhost:8080/"
        },
        "id": "GczTrL-hhBET",
        "outputId": "8260a85b-8cc0-4acb-83b1-b428573c233c"
      },
      "source": [
        "from tensorflow.keras.preprocessing import image\r\n",
        "from keras.applications.vgg16 import preprocess_input\r\n",
        "X_reshape = ex_img.reshape((1, ex_img.shape[0], ex_img.shape[1], ex_img.shape[2]))\r\n",
        "image = preprocess_input(X_reshape)\r\n",
        "print(\"Prediction: \", classifier.predict(image))"
      ],
      "execution_count": 314,
      "outputs": [
        {
          "output_type": "stream",
          "text": [
            "Prediction:  [[1.]]\n"
          ],
          "name": "stdout"
        }
      ]
    },
    {
      "cell_type": "code",
      "metadata": {
        "colab": {
          "base_uri": "https://localhost:8080/"
        },
        "id": "cQkg_JuRhbJV",
        "outputId": "4ecb3168-2bcc-4b2e-9061-f0cda5f6fca4"
      },
      "source": [
        "df_no = df_shuffle[df_shuffle['class']=='no']\r\n",
        "name = list(df_no.iloc[1:2,:]['filename'])[0]\r\n",
        "print(name)"
      ],
      "execution_count": 315,
      "outputs": [
        {
          "output_type": "stream",
          "text": [
            "/content/no_output/6 no.jpg\n"
          ],
          "name": "stdout"
        }
      ]
    },
    {
      "cell_type": "code",
      "metadata": {
        "colab": {
          "base_uri": "https://localhost:8080/",
          "height": 493
        },
        "id": "kLgpz196hq6v",
        "outputId": "5720ba31-f7a9-40b9-dc4a-247a28e2bd00"
      },
      "source": [
        "ex_img = cv2.imread(name)\r\n",
        "ex_img = cv2.resize(ex_img, (256, 256))\r\n",
        "plt.imshow(ex_img)\r\n",
        "plt.show()"
      ],
      "execution_count": 316,
      "outputs": [
        {
          "output_type": "display_data",
          "data": {
            "image/png": "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\n",
            "text/plain": [
              "<Figure size 432x288 with 1 Axes>"
            ]
          },
          "metadata": {
            "tags": [],
            "needs_background": "light"
          }
        },
        {
          "output_type": "stream",
          "text": [
            "WARNING:tensorflow:Unresolved object in checkpoint: (root).optimizer.iter\n",
            "WARNING:tensorflow:Unresolved object in checkpoint: (root).optimizer.beta_1\n",
            "WARNING:tensorflow:Unresolved object in checkpoint: (root).optimizer.beta_2\n",
            "WARNING:tensorflow:Unresolved object in checkpoint: (root).optimizer.decay\n",
            "WARNING:tensorflow:Unresolved object in checkpoint: (root).optimizer.learning_rate\n",
            "WARNING:tensorflow:A checkpoint was restored (e.g. tf.train.Checkpoint.restore or tf.keras.Model.load_weights) but not all checkpointed values were used. See above for specific issues. Use expect_partial() on the load status object, e.g. tf.train.Checkpoint.restore(...).expect_partial(), to silence these warnings, or use assert_consumed() to make the check explicit. See https://www.tensorflow.org/guide/checkpoint#loading_mechanics for details.\n",
            "WARNING:tensorflow:Unresolved object in checkpoint: (root).optimizer.iter\n",
            "WARNING:tensorflow:Unresolved object in checkpoint: (root).optimizer.beta_1\n",
            "WARNING:tensorflow:Unresolved object in checkpoint: (root).optimizer.beta_2\n",
            "WARNING:tensorflow:Unresolved object in checkpoint: (root).optimizer.decay\n",
            "WARNING:tensorflow:Unresolved object in checkpoint: (root).optimizer.learning_rate\n",
            "WARNING:tensorflow:A checkpoint was restored (e.g. tf.train.Checkpoint.restore or tf.keras.Model.load_weights) but not all checkpointed values were used. See above for specific issues. Use expect_partial() on the load status object, e.g. tf.train.Checkpoint.restore(...).expect_partial(), to silence these warnings, or use assert_consumed() to make the check explicit. See https://www.tensorflow.org/guide/checkpoint#loading_mechanics for details.\n"
          ],
          "name": "stdout"
        }
      ]
    },
    {
      "cell_type": "code",
      "metadata": {
        "colab": {
          "base_uri": "https://localhost:8080/"
        },
        "id": "TnK9-s37hwa6",
        "outputId": "fd34b2e8-d9c4-4c53-aab7-dca06a875d42"
      },
      "source": [
        "from tensorflow.keras.preprocessing import image\r\n",
        "from keras.applications.vgg16 import preprocess_input\r\n",
        "X_reshape = ex_img.reshape((1, ex_img.shape[0], ex_img.shape[1], ex_img.shape[2]))\r\n",
        "image = preprocess_input(X_reshape)\r\n",
        "print(\"Prediction: \", classifier.predict(image))"
      ],
      "execution_count": 317,
      "outputs": [
        {
          "output_type": "stream",
          "text": [
            "Prediction:  [[0.]]\n"
          ],
          "name": "stdout"
        }
      ]
    },
    {
      "cell_type": "code",
      "metadata": {
        "colab": {
          "base_uri": "https://localhost:8080/"
        },
        "id": "3EYc-J5_iglp",
        "outputId": "c367b2aa-c3e2-4681-a661-c24b728d4cf1"
      },
      "source": [
        "y_predictions = []\r\n",
        "y_true = []\r\n",
        "\r\n",
        "for i, r in df_shuffle.iterrows():\r\n",
        "  ex_img = cv2.imread(r['filename'])\r\n",
        "  ex_img = cv2.resize(ex_img, (256, 256))\r\n",
        "  from tensorflow.keras.preprocessing import image\r\n",
        "  from keras.applications.vgg16 import preprocess_input\r\n",
        "  X_reshape = ex_img.reshape((1, ex_img.shape[0], ex_img.shape[1], ex_img.shape[2]))\r\n",
        "  image = preprocess_input(X_reshape)\r\n",
        "  prediction = classifier.predict(image)\r\n",
        "  y_true.append(r['class'])\r\n",
        "  y_predictions.extend(prediction[0])"
      ],
      "execution_count": 323,
      "outputs": [
        {
          "output_type": "stream",
          "text": [
            "WARNING:tensorflow:Unresolved object in checkpoint: (root).optimizer.iter\n",
            "WARNING:tensorflow:Unresolved object in checkpoint: (root).optimizer.beta_1\n",
            "WARNING:tensorflow:Unresolved object in checkpoint: (root).optimizer.beta_2\n",
            "WARNING:tensorflow:Unresolved object in checkpoint: (root).optimizer.decay\n",
            "WARNING:tensorflow:Unresolved object in checkpoint: (root).optimizer.learning_rate\n",
            "WARNING:tensorflow:A checkpoint was restored (e.g. tf.train.Checkpoint.restore or tf.keras.Model.load_weights) but not all checkpointed values were used. See above for specific issues. Use expect_partial() on the load status object, e.g. tf.train.Checkpoint.restore(...).expect_partial(), to silence these warnings, or use assert_consumed() to make the check explicit. See https://www.tensorflow.org/guide/checkpoint#loading_mechanics for details.\n",
            "WARNING:tensorflow:Unresolved object in checkpoint: (root).optimizer.iter\n",
            "WARNING:tensorflow:Unresolved object in checkpoint: (root).optimizer.beta_1\n",
            "WARNING:tensorflow:Unresolved object in checkpoint: (root).optimizer.beta_2\n",
            "WARNING:tensorflow:Unresolved object in checkpoint: (root).optimizer.decay\n",
            "WARNING:tensorflow:Unresolved object in checkpoint: (root).optimizer.learning_rate\n",
            "WARNING:tensorflow:A checkpoint was restored (e.g. tf.train.Checkpoint.restore or tf.keras.Model.load_weights) but not all checkpointed values were used. See above for specific issues. Use expect_partial() on the load status object, e.g. tf.train.Checkpoint.restore(...).expect_partial(), to silence these warnings, or use assert_consumed() to make the check explicit. See https://www.tensorflow.org/guide/checkpoint#loading_mechanics for details.\n",
            "WARNING:tensorflow:Unresolved object in checkpoint: (root).optimizer.iter\n",
            "WARNING:tensorflow:Unresolved object in checkpoint: (root).optimizer.beta_1\n",
            "WARNING:tensorflow:Unresolved object in checkpoint: (root).optimizer.beta_2\n",
            "WARNING:tensorflow:Unresolved object in checkpoint: (root).optimizer.decay\n",
            "WARNING:tensorflow:Unresolved object in checkpoint: (root).optimizer.learning_rate\n",
            "WARNING:tensorflow:A checkpoint was restored (e.g. tf.train.Checkpoint.restore or tf.keras.Model.load_weights) but not all checkpointed values were used. See above for specific issues. Use expect_partial() on the load status object, e.g. tf.train.Checkpoint.restore(...).expect_partial(), to silence these warnings, or use assert_consumed() to make the check explicit. See https://www.tensorflow.org/guide/checkpoint#loading_mechanics for details.\n",
            "WARNING:tensorflow:Unresolved object in checkpoint: (root).optimizer.iter\n",
            "WARNING:tensorflow:Unresolved object in checkpoint: (root).optimizer.beta_1\n",
            "WARNING:tensorflow:Unresolved object in checkpoint: (root).optimizer.beta_2\n",
            "WARNING:tensorflow:Unresolved object in checkpoint: (root).optimizer.decay\n",
            "WARNING:tensorflow:Unresolved object in checkpoint: (root).optimizer.learning_rate\n",
            "WARNING:tensorflow:A checkpoint was restored (e.g. tf.train.Checkpoint.restore or tf.keras.Model.load_weights) but not all checkpointed values were used. See above for specific issues. Use expect_partial() on the load status object, e.g. tf.train.Checkpoint.restore(...).expect_partial(), to silence these warnings, or use assert_consumed() to make the check explicit. See https://www.tensorflow.org/guide/checkpoint#loading_mechanics for details.\n",
            "WARNING:tensorflow:Unresolved object in checkpoint: (root).optimizer.iter\n",
            "WARNING:tensorflow:Unresolved object in checkpoint: (root).optimizer.beta_1\n",
            "WARNING:tensorflow:Unresolved object in checkpoint: (root).optimizer.beta_2\n",
            "WARNING:tensorflow:Unresolved object in checkpoint: (root).optimizer.decay\n",
            "WARNING:tensorflow:Unresolved object in checkpoint: (root).optimizer.learning_rate\n",
            "WARNING:tensorflow:A checkpoint was restored (e.g. tf.train.Checkpoint.restore or tf.keras.Model.load_weights) but not all checkpointed values were used. See above for specific issues. Use expect_partial() on the load status object, e.g. tf.train.Checkpoint.restore(...).expect_partial(), to silence these warnings, or use assert_consumed() to make the check explicit. See https://www.tensorflow.org/guide/checkpoint#loading_mechanics for details.\n",
            "WARNING:tensorflow:Unresolved object in checkpoint: (root).optimizer.iter\n",
            "WARNING:tensorflow:Unresolved object in checkpoint: (root).optimizer.beta_1\n",
            "WARNING:tensorflow:Unresolved object in checkpoint: (root).optimizer.beta_2\n",
            "WARNING:tensorflow:Unresolved object in checkpoint: (root).optimizer.decay\n",
            "WARNING:tensorflow:Unresolved object in checkpoint: (root).optimizer.learning_rate\n",
            "WARNING:tensorflow:A checkpoint was restored (e.g. tf.train.Checkpoint.restore or tf.keras.Model.load_weights) but not all checkpointed values were used. See above for specific issues. Use expect_partial() on the load status object, e.g. tf.train.Checkpoint.restore(...).expect_partial(), to silence these warnings, or use assert_consumed() to make the check explicit. See https://www.tensorflow.org/guide/checkpoint#loading_mechanics for details.\n",
            "WARNING:tensorflow:Unresolved object in checkpoint: (root).optimizer.iter\n",
            "WARNING:tensorflow:Unresolved object in checkpoint: (root).optimizer.beta_1\n",
            "WARNING:tensorflow:Unresolved object in checkpoint: (root).optimizer.beta_2\n",
            "WARNING:tensorflow:Unresolved object in checkpoint: (root).optimizer.decay\n",
            "WARNING:tensorflow:Unresolved object in checkpoint: (root).optimizer.learning_rate\n",
            "WARNING:tensorflow:A checkpoint was restored (e.g. tf.train.Checkpoint.restore or tf.keras.Model.load_weights) but not all checkpointed values were used. See above for specific issues. Use expect_partial() on the load status object, e.g. tf.train.Checkpoint.restore(...).expect_partial(), to silence these warnings, or use assert_consumed() to make the check explicit. See https://www.tensorflow.org/guide/checkpoint#loading_mechanics for details.\n",
            "WARNING:tensorflow:Unresolved object in checkpoint: (root).optimizer.iter\n",
            "WARNING:tensorflow:Unresolved object in checkpoint: (root).optimizer.beta_1\n",
            "WARNING:tensorflow:Unresolved object in checkpoint: (root).optimizer.beta_2\n",
            "WARNING:tensorflow:Unresolved object in checkpoint: (root).optimizer.decay\n",
            "WARNING:tensorflow:Unresolved object in checkpoint: (root).optimizer.learning_rate\n",
            "WARNING:tensorflow:A checkpoint was restored (e.g. tf.train.Checkpoint.restore or tf.keras.Model.load_weights) but not all checkpointed values were used. See above for specific issues. Use expect_partial() on the load status object, e.g. tf.train.Checkpoint.restore(...).expect_partial(), to silence these warnings, or use assert_consumed() to make the check explicit. See https://www.tensorflow.org/guide/checkpoint#loading_mechanics for details.\n",
            "WARNING:tensorflow:Unresolved object in checkpoint: (root).optimizer.iter\n",
            "WARNING:tensorflow:Unresolved object in checkpoint: (root).optimizer.beta_1\n",
            "WARNING:tensorflow:Unresolved object in checkpoint: (root).optimizer.beta_2\n",
            "WARNING:tensorflow:Unresolved object in checkpoint: (root).optimizer.decay\n",
            "WARNING:tensorflow:Unresolved object in checkpoint: (root).optimizer.learning_rate\n",
            "WARNING:tensorflow:A checkpoint was restored (e.g. tf.train.Checkpoint.restore or tf.keras.Model.load_weights) but not all checkpointed values were used. See above for specific issues. Use expect_partial() on the load status object, e.g. tf.train.Checkpoint.restore(...).expect_partial(), to silence these warnings, or use assert_consumed() to make the check explicit. See https://www.tensorflow.org/guide/checkpoint#loading_mechanics for details.\n",
            "WARNING:tensorflow:Unresolved object in checkpoint: (root).optimizer.iter\n",
            "WARNING:tensorflow:Unresolved object in checkpoint: (root).optimizer.beta_1\n",
            "WARNING:tensorflow:Unresolved object in checkpoint: (root).optimizer.beta_2\n",
            "WARNING:tensorflow:Unresolved object in checkpoint: (root).optimizer.decay\n",
            "WARNING:tensorflow:Unresolved object in checkpoint: (root).optimizer.learning_rate\n",
            "WARNING:tensorflow:A checkpoint was restored (e.g. tf.train.Checkpoint.restore or tf.keras.Model.load_weights) but not all checkpointed values were used. See above for specific issues. Use expect_partial() on the load status object, e.g. tf.train.Checkpoint.restore(...).expect_partial(), to silence these warnings, or use assert_consumed() to make the check explicit. See https://www.tensorflow.org/guide/checkpoint#loading_mechanics for details.\n",
            "WARNING:tensorflow:Unresolved object in checkpoint: (root).optimizer.iter\n",
            "WARNING:tensorflow:Unresolved object in checkpoint: (root).optimizer.beta_1\n",
            "WARNING:tensorflow:Unresolved object in checkpoint: (root).optimizer.beta_2\n",
            "WARNING:tensorflow:Unresolved object in checkpoint: (root).optimizer.decay\n",
            "WARNING:tensorflow:Unresolved object in checkpoint: (root).optimizer.learning_rate\n",
            "WARNING:tensorflow:A checkpoint was restored (e.g. tf.train.Checkpoint.restore or tf.keras.Model.load_weights) but not all checkpointed values were used. See above for specific issues. Use expect_partial() on the load status object, e.g. tf.train.Checkpoint.restore(...).expect_partial(), to silence these warnings, or use assert_consumed() to make the check explicit. See https://www.tensorflow.org/guide/checkpoint#loading_mechanics for details.\n",
            "WARNING:tensorflow:Unresolved object in checkpoint: (root).optimizer.iter\n",
            "WARNING:tensorflow:Unresolved object in checkpoint: (root).optimizer.beta_1\n",
            "WARNING:tensorflow:Unresolved object in checkpoint: (root).optimizer.beta_2\n",
            "WARNING:tensorflow:Unresolved object in checkpoint: (root).optimizer.decay\n",
            "WARNING:tensorflow:Unresolved object in checkpoint: (root).optimizer.learning_rate\n",
            "WARNING:tensorflow:A checkpoint was restored (e.g. tf.train.Checkpoint.restore or tf.keras.Model.load_weights) but not all checkpointed values were used. See above for specific issues. Use expect_partial() on the load status object, e.g. tf.train.Checkpoint.restore(...).expect_partial(), to silence these warnings, or use assert_consumed() to make the check explicit. See https://www.tensorflow.org/guide/checkpoint#loading_mechanics for details.\n",
            "WARNING:tensorflow:Unresolved object in checkpoint: (root).optimizer.iter\n",
            "WARNING:tensorflow:Unresolved object in checkpoint: (root).optimizer.beta_1\n",
            "WARNING:tensorflow:Unresolved object in checkpoint: (root).optimizer.beta_2\n",
            "WARNING:tensorflow:Unresolved object in checkpoint: (root).optimizer.decay\n",
            "WARNING:tensorflow:Unresolved object in checkpoint: (root).optimizer.learning_rate\n",
            "WARNING:tensorflow:A checkpoint was restored (e.g. tf.train.Checkpoint.restore or tf.keras.Model.load_weights) but not all checkpointed values were used. See above for specific issues. Use expect_partial() on the load status object, e.g. tf.train.Checkpoint.restore(...).expect_partial(), to silence these warnings, or use assert_consumed() to make the check explicit. See https://www.tensorflow.org/guide/checkpoint#loading_mechanics for details.\n",
            "WARNING:tensorflow:Unresolved object in checkpoint: (root).optimizer.iter\n",
            "WARNING:tensorflow:Unresolved object in checkpoint: (root).optimizer.beta_1\n",
            "WARNING:tensorflow:Unresolved object in checkpoint: (root).optimizer.beta_2\n",
            "WARNING:tensorflow:Unresolved object in checkpoint: (root).optimizer.decay\n",
            "WARNING:tensorflow:Unresolved object in checkpoint: (root).optimizer.learning_rate\n",
            "WARNING:tensorflow:A checkpoint was restored (e.g. tf.train.Checkpoint.restore or tf.keras.Model.load_weights) but not all checkpointed values were used. See above for specific issues. Use expect_partial() on the load status object, e.g. tf.train.Checkpoint.restore(...).expect_partial(), to silence these warnings, or use assert_consumed() to make the check explicit. See https://www.tensorflow.org/guide/checkpoint#loading_mechanics for details.\n",
            "WARNING:tensorflow:Unresolved object in checkpoint: (root).optimizer.iter\n",
            "WARNING:tensorflow:Unresolved object in checkpoint: (root).optimizer.beta_1\n",
            "WARNING:tensorflow:Unresolved object in checkpoint: (root).optimizer.beta_2\n",
            "WARNING:tensorflow:Unresolved object in checkpoint: (root).optimizer.decay\n",
            "WARNING:tensorflow:Unresolved object in checkpoint: (root).optimizer.learning_rate\n",
            "WARNING:tensorflow:A checkpoint was restored (e.g. tf.train.Checkpoint.restore or tf.keras.Model.load_weights) but not all checkpointed values were used. See above for specific issues. Use expect_partial() on the load status object, e.g. tf.train.Checkpoint.restore(...).expect_partial(), to silence these warnings, or use assert_consumed() to make the check explicit. See https://www.tensorflow.org/guide/checkpoint#loading_mechanics for details.\n",
            "WARNING:tensorflow:Unresolved object in checkpoint: (root).optimizer.iter\n",
            "WARNING:tensorflow:Unresolved object in checkpoint: (root).optimizer.beta_1\n",
            "WARNING:tensorflow:Unresolved object in checkpoint: (root).optimizer.beta_2\n",
            "WARNING:tensorflow:Unresolved object in checkpoint: (root).optimizer.decay\n",
            "WARNING:tensorflow:Unresolved object in checkpoint: (root).optimizer.learning_rate\n",
            "WARNING:tensorflow:A checkpoint was restored (e.g. tf.train.Checkpoint.restore or tf.keras.Model.load_weights) but not all checkpointed values were used. See above for specific issues. Use expect_partial() on the load status object, e.g. tf.train.Checkpoint.restore(...).expect_partial(), to silence these warnings, or use assert_consumed() to make the check explicit. See https://www.tensorflow.org/guide/checkpoint#loading_mechanics for details.\n",
            "WARNING:tensorflow:Unresolved object in checkpoint: (root).optimizer.iter\n",
            "WARNING:tensorflow:Unresolved object in checkpoint: (root).optimizer.beta_1\n",
            "WARNING:tensorflow:Unresolved object in checkpoint: (root).optimizer.beta_2\n",
            "WARNING:tensorflow:Unresolved object in checkpoint: (root).optimizer.decay\n",
            "WARNING:tensorflow:Unresolved object in checkpoint: (root).optimizer.learning_rate\n",
            "WARNING:tensorflow:A checkpoint was restored (e.g. tf.train.Checkpoint.restore or tf.keras.Model.load_weights) but not all checkpointed values were used. See above for specific issues. Use expect_partial() on the load status object, e.g. tf.train.Checkpoint.restore(...).expect_partial(), to silence these warnings, or use assert_consumed() to make the check explicit. See https://www.tensorflow.org/guide/checkpoint#loading_mechanics for details.\n",
            "WARNING:tensorflow:Unresolved object in checkpoint: (root).optimizer.iter\n",
            "WARNING:tensorflow:Unresolved object in checkpoint: (root).optimizer.beta_1\n",
            "WARNING:tensorflow:Unresolved object in checkpoint: (root).optimizer.beta_2\n",
            "WARNING:tensorflow:Unresolved object in checkpoint: (root).optimizer.decay\n",
            "WARNING:tensorflow:Unresolved object in checkpoint: (root).optimizer.learning_rate\n",
            "WARNING:tensorflow:A checkpoint was restored (e.g. tf.train.Checkpoint.restore or tf.keras.Model.load_weights) but not all checkpointed values were used. See above for specific issues. Use expect_partial() on the load status object, e.g. tf.train.Checkpoint.restore(...).expect_partial(), to silence these warnings, or use assert_consumed() to make the check explicit. See https://www.tensorflow.org/guide/checkpoint#loading_mechanics for details.\n",
            "WARNING:tensorflow:Unresolved object in checkpoint: (root).optimizer.iter\n",
            "WARNING:tensorflow:Unresolved object in checkpoint: (root).optimizer.beta_1\n",
            "WARNING:tensorflow:Unresolved object in checkpoint: (root).optimizer.beta_2\n",
            "WARNING:tensorflow:Unresolved object in checkpoint: (root).optimizer.decay\n",
            "WARNING:tensorflow:Unresolved object in checkpoint: (root).optimizer.learning_rate\n",
            "WARNING:tensorflow:A checkpoint was restored (e.g. tf.train.Checkpoint.restore or tf.keras.Model.load_weights) but not all checkpointed values were used. See above for specific issues. Use expect_partial() on the load status object, e.g. tf.train.Checkpoint.restore(...).expect_partial(), to silence these warnings, or use assert_consumed() to make the check explicit. See https://www.tensorflow.org/guide/checkpoint#loading_mechanics for details.\n",
            "WARNING:tensorflow:Unresolved object in checkpoint: (root).optimizer.iter\n",
            "WARNING:tensorflow:Unresolved object in checkpoint: (root).optimizer.beta_1\n",
            "WARNING:tensorflow:Unresolved object in checkpoint: (root).optimizer.beta_2\n",
            "WARNING:tensorflow:Unresolved object in checkpoint: (root).optimizer.decay\n",
            "WARNING:tensorflow:Unresolved object in checkpoint: (root).optimizer.learning_rate\n",
            "WARNING:tensorflow:A checkpoint was restored (e.g. tf.train.Checkpoint.restore or tf.keras.Model.load_weights) but not all checkpointed values were used. See above for specific issues. Use expect_partial() on the load status object, e.g. tf.train.Checkpoint.restore(...).expect_partial(), to silence these warnings, or use assert_consumed() to make the check explicit. See https://www.tensorflow.org/guide/checkpoint#loading_mechanics for details.\n",
            "WARNING:tensorflow:Unresolved object in checkpoint: (root).optimizer.iter\n",
            "WARNING:tensorflow:Unresolved object in checkpoint: (root).optimizer.beta_1\n",
            "WARNING:tensorflow:Unresolved object in checkpoint: (root).optimizer.beta_2\n",
            "WARNING:tensorflow:Unresolved object in checkpoint: (root).optimizer.decay\n",
            "WARNING:tensorflow:Unresolved object in checkpoint: (root).optimizer.learning_rate\n",
            "WARNING:tensorflow:A checkpoint was restored (e.g. tf.train.Checkpoint.restore or tf.keras.Model.load_weights) but not all checkpointed values were used. See above for specific issues. Use expect_partial() on the load status object, e.g. tf.train.Checkpoint.restore(...).expect_partial(), to silence these warnings, or use assert_consumed() to make the check explicit. See https://www.tensorflow.org/guide/checkpoint#loading_mechanics for details.\n",
            "WARNING:tensorflow:Unresolved object in checkpoint: (root).optimizer.iter\n",
            "WARNING:tensorflow:Unresolved object in checkpoint: (root).optimizer.beta_1\n",
            "WARNING:tensorflow:Unresolved object in checkpoint: (root).optimizer.beta_2\n",
            "WARNING:tensorflow:Unresolved object in checkpoint: (root).optimizer.decay\n",
            "WARNING:tensorflow:Unresolved object in checkpoint: (root).optimizer.learning_rate\n",
            "WARNING:tensorflow:A checkpoint was restored (e.g. tf.train.Checkpoint.restore or tf.keras.Model.load_weights) but not all checkpointed values were used. See above for specific issues. Use expect_partial() on the load status object, e.g. tf.train.Checkpoint.restore(...).expect_partial(), to silence these warnings, or use assert_consumed() to make the check explicit. See https://www.tensorflow.org/guide/checkpoint#loading_mechanics for details.\n",
            "WARNING:tensorflow:Unresolved object in checkpoint: (root).optimizer.iter\n",
            "WARNING:tensorflow:Unresolved object in checkpoint: (root).optimizer.beta_1\n",
            "WARNING:tensorflow:Unresolved object in checkpoint: (root).optimizer.beta_2\n",
            "WARNING:tensorflow:Unresolved object in checkpoint: (root).optimizer.decay\n",
            "WARNING:tensorflow:Unresolved object in checkpoint: (root).optimizer.learning_rate\n",
            "WARNING:tensorflow:A checkpoint was restored (e.g. tf.train.Checkpoint.restore or tf.keras.Model.load_weights) but not all checkpointed values were used. See above for specific issues. Use expect_partial() on the load status object, e.g. tf.train.Checkpoint.restore(...).expect_partial(), to silence these warnings, or use assert_consumed() to make the check explicit. See https://www.tensorflow.org/guide/checkpoint#loading_mechanics for details.\n",
            "WARNING:tensorflow:Unresolved object in checkpoint: (root).optimizer.iter\n",
            "WARNING:tensorflow:Unresolved object in checkpoint: (root).optimizer.beta_1\n",
            "WARNING:tensorflow:Unresolved object in checkpoint: (root).optimizer.beta_2\n",
            "WARNING:tensorflow:Unresolved object in checkpoint: (root).optimizer.decay\n",
            "WARNING:tensorflow:Unresolved object in checkpoint: (root).optimizer.learning_rate\n",
            "WARNING:tensorflow:A checkpoint was restored (e.g. tf.train.Checkpoint.restore or tf.keras.Model.load_weights) but not all checkpointed values were used. See above for specific issues. Use expect_partial() on the load status object, e.g. tf.train.Checkpoint.restore(...).expect_partial(), to silence these warnings, or use assert_consumed() to make the check explicit. See https://www.tensorflow.org/guide/checkpoint#loading_mechanics for details.\n",
            "WARNING:tensorflow:Unresolved object in checkpoint: (root).optimizer.iter\n",
            "WARNING:tensorflow:Unresolved object in checkpoint: (root).optimizer.beta_1\n",
            "WARNING:tensorflow:Unresolved object in checkpoint: (root).optimizer.beta_2\n",
            "WARNING:tensorflow:Unresolved object in checkpoint: (root).optimizer.decay\n",
            "WARNING:tensorflow:Unresolved object in checkpoint: (root).optimizer.learning_rate\n",
            "WARNING:tensorflow:A checkpoint was restored (e.g. tf.train.Checkpoint.restore or tf.keras.Model.load_weights) but not all checkpointed values were used. See above for specific issues. Use expect_partial() on the load status object, e.g. tf.train.Checkpoint.restore(...).expect_partial(), to silence these warnings, or use assert_consumed() to make the check explicit. See https://www.tensorflow.org/guide/checkpoint#loading_mechanics for details.\n",
            "WARNING:tensorflow:Unresolved object in checkpoint: (root).optimizer.iter\n",
            "WARNING:tensorflow:Unresolved object in checkpoint: (root).optimizer.beta_1\n",
            "WARNING:tensorflow:Unresolved object in checkpoint: (root).optimizer.beta_2\n",
            "WARNING:tensorflow:Unresolved object in checkpoint: (root).optimizer.decay\n",
            "WARNING:tensorflow:Unresolved object in checkpoint: (root).optimizer.learning_rate\n",
            "WARNING:tensorflow:A checkpoint was restored (e.g. tf.train.Checkpoint.restore or tf.keras.Model.load_weights) but not all checkpointed values were used. See above for specific issues. Use expect_partial() on the load status object, e.g. tf.train.Checkpoint.restore(...).expect_partial(), to silence these warnings, or use assert_consumed() to make the check explicit. See https://www.tensorflow.org/guide/checkpoint#loading_mechanics for details.\n",
            "WARNING:tensorflow:Unresolved object in checkpoint: (root).optimizer.iter\n",
            "WARNING:tensorflow:Unresolved object in checkpoint: (root).optimizer.beta_1\n",
            "WARNING:tensorflow:Unresolved object in checkpoint: (root).optimizer.beta_2\n",
            "WARNING:tensorflow:Unresolved object in checkpoint: (root).optimizer.decay\n",
            "WARNING:tensorflow:Unresolved object in checkpoint: (root).optimizer.learning_rate\n",
            "WARNING:tensorflow:A checkpoint was restored (e.g. tf.train.Checkpoint.restore or tf.keras.Model.load_weights) but not all checkpointed values were used. See above for specific issues. Use expect_partial() on the load status object, e.g. tf.train.Checkpoint.restore(...).expect_partial(), to silence these warnings, or use assert_consumed() to make the check explicit. See https://www.tensorflow.org/guide/checkpoint#loading_mechanics for details.\n",
            "WARNING:tensorflow:Unresolved object in checkpoint: (root).optimizer.iter\n",
            "WARNING:tensorflow:Unresolved object in checkpoint: (root).optimizer.beta_1\n",
            "WARNING:tensorflow:Unresolved object in checkpoint: (root).optimizer.beta_2\n",
            "WARNING:tensorflow:Unresolved object in checkpoint: (root).optimizer.decay\n",
            "WARNING:tensorflow:Unresolved object in checkpoint: (root).optimizer.learning_rate\n",
            "WARNING:tensorflow:A checkpoint was restored (e.g. tf.train.Checkpoint.restore or tf.keras.Model.load_weights) but not all checkpointed values were used. See above for specific issues. Use expect_partial() on the load status object, e.g. tf.train.Checkpoint.restore(...).expect_partial(), to silence these warnings, or use assert_consumed() to make the check explicit. See https://www.tensorflow.org/guide/checkpoint#loading_mechanics for details.\n",
            "WARNING:tensorflow:Unresolved object in checkpoint: (root).optimizer.iter\n",
            "WARNING:tensorflow:Unresolved object in checkpoint: (root).optimizer.beta_1\n",
            "WARNING:tensorflow:Unresolved object in checkpoint: (root).optimizer.beta_2\n",
            "WARNING:tensorflow:Unresolved object in checkpoint: (root).optimizer.decay\n",
            "WARNING:tensorflow:Unresolved object in checkpoint: (root).optimizer.learning_rate\n",
            "WARNING:tensorflow:A checkpoint was restored (e.g. tf.train.Checkpoint.restore or tf.keras.Model.load_weights) but not all checkpointed values were used. See above for specific issues. Use expect_partial() on the load status object, e.g. tf.train.Checkpoint.restore(...).expect_partial(), to silence these warnings, or use assert_consumed() to make the check explicit. See https://www.tensorflow.org/guide/checkpoint#loading_mechanics for details.\n",
            "WARNING:tensorflow:Unresolved object in checkpoint: (root).optimizer.iter\n",
            "WARNING:tensorflow:Unresolved object in checkpoint: (root).optimizer.beta_1\n",
            "WARNING:tensorflow:Unresolved object in checkpoint: (root).optimizer.beta_2\n",
            "WARNING:tensorflow:Unresolved object in checkpoint: (root).optimizer.decay\n",
            "WARNING:tensorflow:Unresolved object in checkpoint: (root).optimizer.learning_rate\n",
            "WARNING:tensorflow:A checkpoint was restored (e.g. tf.train.Checkpoint.restore or tf.keras.Model.load_weights) but not all checkpointed values were used. See above for specific issues. Use expect_partial() on the load status object, e.g. tf.train.Checkpoint.restore(...).expect_partial(), to silence these warnings, or use assert_consumed() to make the check explicit. See https://www.tensorflow.org/guide/checkpoint#loading_mechanics for details.\n",
            "WARNING:tensorflow:Unresolved object in checkpoint: (root).optimizer.iter\n",
            "WARNING:tensorflow:Unresolved object in checkpoint: (root).optimizer.beta_1\n",
            "WARNING:tensorflow:Unresolved object in checkpoint: (root).optimizer.beta_2\n",
            "WARNING:tensorflow:Unresolved object in checkpoint: (root).optimizer.decay\n",
            "WARNING:tensorflow:Unresolved object in checkpoint: (root).optimizer.learning_rate\n",
            "WARNING:tensorflow:A checkpoint was restored (e.g. tf.train.Checkpoint.restore or tf.keras.Model.load_weights) but not all checkpointed values were used. See above for specific issues. Use expect_partial() on the load status object, e.g. tf.train.Checkpoint.restore(...).expect_partial(), to silence these warnings, or use assert_consumed() to make the check explicit. See https://www.tensorflow.org/guide/checkpoint#loading_mechanics for details.\n",
            "WARNING:tensorflow:Unresolved object in checkpoint: (root).optimizer.iter\n",
            "WARNING:tensorflow:Unresolved object in checkpoint: (root).optimizer.beta_1\n",
            "WARNING:tensorflow:Unresolved object in checkpoint: (root).optimizer.beta_2\n",
            "WARNING:tensorflow:Unresolved object in checkpoint: (root).optimizer.decay\n",
            "WARNING:tensorflow:Unresolved object in checkpoint: (root).optimizer.learning_rate\n",
            "WARNING:tensorflow:A checkpoint was restored (e.g. tf.train.Checkpoint.restore or tf.keras.Model.load_weights) but not all checkpointed values were used. See above for specific issues. Use expect_partial() on the load status object, e.g. tf.train.Checkpoint.restore(...).expect_partial(), to silence these warnings, or use assert_consumed() to make the check explicit. See https://www.tensorflow.org/guide/checkpoint#loading_mechanics for details.\n",
            "WARNING:tensorflow:Unresolved object in checkpoint: (root).optimizer.iter\n",
            "WARNING:tensorflow:Unresolved object in checkpoint: (root).optimizer.beta_1\n",
            "WARNING:tensorflow:Unresolved object in checkpoint: (root).optimizer.beta_2\n",
            "WARNING:tensorflow:Unresolved object in checkpoint: (root).optimizer.decay\n",
            "WARNING:tensorflow:Unresolved object in checkpoint: (root).optimizer.learning_rate\n",
            "WARNING:tensorflow:A checkpoint was restored (e.g. tf.train.Checkpoint.restore or tf.keras.Model.load_weights) but not all checkpointed values were used. See above for specific issues. Use expect_partial() on the load status object, e.g. tf.train.Checkpoint.restore(...).expect_partial(), to silence these warnings, or use assert_consumed() to make the check explicit. See https://www.tensorflow.org/guide/checkpoint#loading_mechanics for details.\n",
            "WARNING:tensorflow:Unresolved object in checkpoint: (root).optimizer.iter\n",
            "WARNING:tensorflow:Unresolved object in checkpoint: (root).optimizer.beta_1\n",
            "WARNING:tensorflow:Unresolved object in checkpoint: (root).optimizer.beta_2\n",
            "WARNING:tensorflow:Unresolved object in checkpoint: (root).optimizer.decay\n",
            "WARNING:tensorflow:Unresolved object in checkpoint: (root).optimizer.learning_rate\n",
            "WARNING:tensorflow:A checkpoint was restored (e.g. tf.train.Checkpoint.restore or tf.keras.Model.load_weights) but not all checkpointed values were used. See above for specific issues. Use expect_partial() on the load status object, e.g. tf.train.Checkpoint.restore(...).expect_partial(), to silence these warnings, or use assert_consumed() to make the check explicit. See https://www.tensorflow.org/guide/checkpoint#loading_mechanics for details.\n",
            "WARNING:tensorflow:Unresolved object in checkpoint: (root).optimizer.iter\n",
            "WARNING:tensorflow:Unresolved object in checkpoint: (root).optimizer.beta_1\n",
            "WARNING:tensorflow:Unresolved object in checkpoint: (root).optimizer.beta_2\n",
            "WARNING:tensorflow:Unresolved object in checkpoint: (root).optimizer.decay\n",
            "WARNING:tensorflow:Unresolved object in checkpoint: (root).optimizer.learning_rate\n",
            "WARNING:tensorflow:A checkpoint was restored (e.g. tf.train.Checkpoint.restore or tf.keras.Model.load_weights) but not all checkpointed values were used. See above for specific issues. Use expect_partial() on the load status object, e.g. tf.train.Checkpoint.restore(...).expect_partial(), to silence these warnings, or use assert_consumed() to make the check explicit. See https://www.tensorflow.org/guide/checkpoint#loading_mechanics for details.\n",
            "WARNING:tensorflow:Unresolved object in checkpoint: (root).optimizer.iter\n",
            "WARNING:tensorflow:Unresolved object in checkpoint: (root).optimizer.beta_1\n",
            "WARNING:tensorflow:Unresolved object in checkpoint: (root).optimizer.beta_2\n",
            "WARNING:tensorflow:Unresolved object in checkpoint: (root).optimizer.decay\n",
            "WARNING:tensorflow:Unresolved object in checkpoint: (root).optimizer.learning_rate\n",
            "WARNING:tensorflow:A checkpoint was restored (e.g. tf.train.Checkpoint.restore or tf.keras.Model.load_weights) but not all checkpointed values were used. See above for specific issues. Use expect_partial() on the load status object, e.g. tf.train.Checkpoint.restore(...).expect_partial(), to silence these warnings, or use assert_consumed() to make the check explicit. See https://www.tensorflow.org/guide/checkpoint#loading_mechanics for details.\n",
            "WARNING:tensorflow:Unresolved object in checkpoint: (root).optimizer.iter\n",
            "WARNING:tensorflow:Unresolved object in checkpoint: (root).optimizer.beta_1\n",
            "WARNING:tensorflow:Unresolved object in checkpoint: (root).optimizer.beta_2\n",
            "WARNING:tensorflow:Unresolved object in checkpoint: (root).optimizer.decay\n",
            "WARNING:tensorflow:Unresolved object in checkpoint: (root).optimizer.learning_rate\n",
            "WARNING:tensorflow:A checkpoint was restored (e.g. tf.train.Checkpoint.restore or tf.keras.Model.load_weights) but not all checkpointed values were used. See above for specific issues. Use expect_partial() on the load status object, e.g. tf.train.Checkpoint.restore(...).expect_partial(), to silence these warnings, or use assert_consumed() to make the check explicit. See https://www.tensorflow.org/guide/checkpoint#loading_mechanics for details.\n",
            "WARNING:tensorflow:Unresolved object in checkpoint: (root).optimizer.iter\n",
            "WARNING:tensorflow:Unresolved object in checkpoint: (root).optimizer.beta_1\n",
            "WARNING:tensorflow:Unresolved object in checkpoint: (root).optimizer.beta_2\n",
            "WARNING:tensorflow:Unresolved object in checkpoint: (root).optimizer.decay\n",
            "WARNING:tensorflow:Unresolved object in checkpoint: (root).optimizer.learning_rate\n",
            "WARNING:tensorflow:A checkpoint was restored (e.g. tf.train.Checkpoint.restore or tf.keras.Model.load_weights) but not all checkpointed values were used. See above for specific issues. Use expect_partial() on the load status object, e.g. tf.train.Checkpoint.restore(...).expect_partial(), to silence these warnings, or use assert_consumed() to make the check explicit. See https://www.tensorflow.org/guide/checkpoint#loading_mechanics for details.\n",
            "WARNING:tensorflow:Unresolved object in checkpoint: (root).optimizer.iter\n",
            "WARNING:tensorflow:Unresolved object in checkpoint: (root).optimizer.beta_1\n",
            "WARNING:tensorflow:Unresolved object in checkpoint: (root).optimizer.beta_2\n",
            "WARNING:tensorflow:Unresolved object in checkpoint: (root).optimizer.decay\n",
            "WARNING:tensorflow:Unresolved object in checkpoint: (root).optimizer.learning_rate\n",
            "WARNING:tensorflow:A checkpoint was restored (e.g. tf.train.Checkpoint.restore or tf.keras.Model.load_weights) but not all checkpointed values were used. See above for specific issues. Use expect_partial() on the load status object, e.g. tf.train.Checkpoint.restore(...).expect_partial(), to silence these warnings, or use assert_consumed() to make the check explicit. See https://www.tensorflow.org/guide/checkpoint#loading_mechanics for details.\n",
            "WARNING:tensorflow:Unresolved object in checkpoint: (root).optimizer.iter\n",
            "WARNING:tensorflow:Unresolved object in checkpoint: (root).optimizer.beta_1\n",
            "WARNING:tensorflow:Unresolved object in checkpoint: (root).optimizer.beta_2\n",
            "WARNING:tensorflow:Unresolved object in checkpoint: (root).optimizer.decay\n",
            "WARNING:tensorflow:Unresolved object in checkpoint: (root).optimizer.learning_rate\n",
            "WARNING:tensorflow:A checkpoint was restored (e.g. tf.train.Checkpoint.restore or tf.keras.Model.load_weights) but not all checkpointed values were used. See above for specific issues. Use expect_partial() on the load status object, e.g. tf.train.Checkpoint.restore(...).expect_partial(), to silence these warnings, or use assert_consumed() to make the check explicit. See https://www.tensorflow.org/guide/checkpoint#loading_mechanics for details.\n",
            "WARNING:tensorflow:Unresolved object in checkpoint: (root).optimizer.iter\n",
            "WARNING:tensorflow:Unresolved object in checkpoint: (root).optimizer.beta_1\n",
            "WARNING:tensorflow:Unresolved object in checkpoint: (root).optimizer.beta_2\n",
            "WARNING:tensorflow:Unresolved object in checkpoint: (root).optimizer.decay\n",
            "WARNING:tensorflow:Unresolved object in checkpoint: (root).optimizer.learning_rate\n",
            "WARNING:tensorflow:A checkpoint was restored (e.g. tf.train.Checkpoint.restore or tf.keras.Model.load_weights) but not all checkpointed values were used. See above for specific issues. Use expect_partial() on the load status object, e.g. tf.train.Checkpoint.restore(...).expect_partial(), to silence these warnings, or use assert_consumed() to make the check explicit. See https://www.tensorflow.org/guide/checkpoint#loading_mechanics for details.\n",
            "WARNING:tensorflow:Unresolved object in checkpoint: (root).optimizer.iter\n",
            "WARNING:tensorflow:Unresolved object in checkpoint: (root).optimizer.beta_1\n",
            "WARNING:tensorflow:Unresolved object in checkpoint: (root).optimizer.beta_2\n",
            "WARNING:tensorflow:Unresolved object in checkpoint: (root).optimizer.decay\n",
            "WARNING:tensorflow:Unresolved object in checkpoint: (root).optimizer.learning_rate\n",
            "WARNING:tensorflow:A checkpoint was restored (e.g. tf.train.Checkpoint.restore or tf.keras.Model.load_weights) but not all checkpointed values were used. See above for specific issues. Use expect_partial() on the load status object, e.g. tf.train.Checkpoint.restore(...).expect_partial(), to silence these warnings, or use assert_consumed() to make the check explicit. See https://www.tensorflow.org/guide/checkpoint#loading_mechanics for details.\n",
            "WARNING:tensorflow:Unresolved object in checkpoint: (root).optimizer.iter\n",
            "WARNING:tensorflow:Unresolved object in checkpoint: (root).optimizer.beta_1\n",
            "WARNING:tensorflow:Unresolved object in checkpoint: (root).optimizer.beta_2\n",
            "WARNING:tensorflow:Unresolved object in checkpoint: (root).optimizer.decay\n",
            "WARNING:tensorflow:Unresolved object in checkpoint: (root).optimizer.learning_rate\n",
            "WARNING:tensorflow:A checkpoint was restored (e.g. tf.train.Checkpoint.restore or tf.keras.Model.load_weights) but not all checkpointed values were used. See above for specific issues. Use expect_partial() on the load status object, e.g. tf.train.Checkpoint.restore(...).expect_partial(), to silence these warnings, or use assert_consumed() to make the check explicit. See https://www.tensorflow.org/guide/checkpoint#loading_mechanics for details.\n",
            "WARNING:tensorflow:Unresolved object in checkpoint: (root).optimizer.iter\n",
            "WARNING:tensorflow:Unresolved object in checkpoint: (root).optimizer.beta_1\n",
            "WARNING:tensorflow:Unresolved object in checkpoint: (root).optimizer.beta_2\n",
            "WARNING:tensorflow:Unresolved object in checkpoint: (root).optimizer.decay\n",
            "WARNING:tensorflow:Unresolved object in checkpoint: (root).optimizer.learning_rate\n",
            "WARNING:tensorflow:A checkpoint was restored (e.g. tf.train.Checkpoint.restore or tf.keras.Model.load_weights) but not all checkpointed values were used. See above for specific issues. Use expect_partial() on the load status object, e.g. tf.train.Checkpoint.restore(...).expect_partial(), to silence these warnings, or use assert_consumed() to make the check explicit. See https://www.tensorflow.org/guide/checkpoint#loading_mechanics for details.\n",
            "WARNING:tensorflow:Unresolved object in checkpoint: (root).optimizer.iter\n",
            "WARNING:tensorflow:Unresolved object in checkpoint: (root).optimizer.beta_1\n",
            "WARNING:tensorflow:Unresolved object in checkpoint: (root).optimizer.beta_2\n",
            "WARNING:tensorflow:Unresolved object in checkpoint: (root).optimizer.decay\n",
            "WARNING:tensorflow:Unresolved object in checkpoint: (root).optimizer.learning_rate\n",
            "WARNING:tensorflow:A checkpoint was restored (e.g. tf.train.Checkpoint.restore or tf.keras.Model.load_weights) but not all checkpointed values were used. See above for specific issues. Use expect_partial() on the load status object, e.g. tf.train.Checkpoint.restore(...).expect_partial(), to silence these warnings, or use assert_consumed() to make the check explicit. See https://www.tensorflow.org/guide/checkpoint#loading_mechanics for details.\n",
            "WARNING:tensorflow:Unresolved object in checkpoint: (root).optimizer.iter\n",
            "WARNING:tensorflow:Unresolved object in checkpoint: (root).optimizer.beta_1\n",
            "WARNING:tensorflow:Unresolved object in checkpoint: (root).optimizer.beta_2\n",
            "WARNING:tensorflow:Unresolved object in checkpoint: (root).optimizer.decay\n",
            "WARNING:tensorflow:Unresolved object in checkpoint: (root).optimizer.learning_rate\n",
            "WARNING:tensorflow:A checkpoint was restored (e.g. tf.train.Checkpoint.restore or tf.keras.Model.load_weights) but not all checkpointed values were used. See above for specific issues. Use expect_partial() on the load status object, e.g. tf.train.Checkpoint.restore(...).expect_partial(), to silence these warnings, or use assert_consumed() to make the check explicit. See https://www.tensorflow.org/guide/checkpoint#loading_mechanics for details.\n",
            "WARNING:tensorflow:Unresolved object in checkpoint: (root).optimizer.iter\n",
            "WARNING:tensorflow:Unresolved object in checkpoint: (root).optimizer.beta_1\n",
            "WARNING:tensorflow:Unresolved object in checkpoint: (root).optimizer.beta_2\n",
            "WARNING:tensorflow:Unresolved object in checkpoint: (root).optimizer.decay\n",
            "WARNING:tensorflow:Unresolved object in checkpoint: (root).optimizer.learning_rate\n",
            "WARNING:tensorflow:A checkpoint was restored (e.g. tf.train.Checkpoint.restore or tf.keras.Model.load_weights) but not all checkpointed values were used. See above for specific issues. Use expect_partial() on the load status object, e.g. tf.train.Checkpoint.restore(...).expect_partial(), to silence these warnings, or use assert_consumed() to make the check explicit. See https://www.tensorflow.org/guide/checkpoint#loading_mechanics for details.\n",
            "WARNING:tensorflow:Unresolved object in checkpoint: (root).optimizer.iter\n",
            "WARNING:tensorflow:Unresolved object in checkpoint: (root).optimizer.beta_1\n",
            "WARNING:tensorflow:Unresolved object in checkpoint: (root).optimizer.beta_2\n",
            "WARNING:tensorflow:Unresolved object in checkpoint: (root).optimizer.decay\n",
            "WARNING:tensorflow:Unresolved object in checkpoint: (root).optimizer.learning_rate\n",
            "WARNING:tensorflow:A checkpoint was restored (e.g. tf.train.Checkpoint.restore or tf.keras.Model.load_weights) but not all checkpointed values were used. See above for specific issues. Use expect_partial() on the load status object, e.g. tf.train.Checkpoint.restore(...).expect_partial(), to silence these warnings, or use assert_consumed() to make the check explicit. See https://www.tensorflow.org/guide/checkpoint#loading_mechanics for details.\n",
            "WARNING:tensorflow:Unresolved object in checkpoint: (root).optimizer.iter\n",
            "WARNING:tensorflow:Unresolved object in checkpoint: (root).optimizer.beta_1\n",
            "WARNING:tensorflow:Unresolved object in checkpoint: (root).optimizer.beta_2\n",
            "WARNING:tensorflow:Unresolved object in checkpoint: (root).optimizer.decay\n",
            "WARNING:tensorflow:Unresolved object in checkpoint: (root).optimizer.learning_rate\n",
            "WARNING:tensorflow:A checkpoint was restored (e.g. tf.train.Checkpoint.restore or tf.keras.Model.load_weights) but not all checkpointed values were used. See above for specific issues. Use expect_partial() on the load status object, e.g. tf.train.Checkpoint.restore(...).expect_partial(), to silence these warnings, or use assert_consumed() to make the check explicit. See https://www.tensorflow.org/guide/checkpoint#loading_mechanics for details.\n",
            "WARNING:tensorflow:Unresolved object in checkpoint: (root).optimizer.iter\n",
            "WARNING:tensorflow:Unresolved object in checkpoint: (root).optimizer.beta_1\n",
            "WARNING:tensorflow:Unresolved object in checkpoint: (root).optimizer.beta_2\n",
            "WARNING:tensorflow:Unresolved object in checkpoint: (root).optimizer.decay\n",
            "WARNING:tensorflow:Unresolved object in checkpoint: (root).optimizer.learning_rate\n",
            "WARNING:tensorflow:A checkpoint was restored (e.g. tf.train.Checkpoint.restore or tf.keras.Model.load_weights) but not all checkpointed values were used. See above for specific issues. Use expect_partial() on the load status object, e.g. tf.train.Checkpoint.restore(...).expect_partial(), to silence these warnings, or use assert_consumed() to make the check explicit. See https://www.tensorflow.org/guide/checkpoint#loading_mechanics for details.\n",
            "WARNING:tensorflow:Unresolved object in checkpoint: (root).optimizer.iter\n",
            "WARNING:tensorflow:Unresolved object in checkpoint: (root).optimizer.beta_1\n",
            "WARNING:tensorflow:Unresolved object in checkpoint: (root).optimizer.beta_2\n",
            "WARNING:tensorflow:Unresolved object in checkpoint: (root).optimizer.decay\n",
            "WARNING:tensorflow:Unresolved object in checkpoint: (root).optimizer.learning_rate\n",
            "WARNING:tensorflow:A checkpoint was restored (e.g. tf.train.Checkpoint.restore or tf.keras.Model.load_weights) but not all checkpointed values were used. See above for specific issues. Use expect_partial() on the load status object, e.g. tf.train.Checkpoint.restore(...).expect_partial(), to silence these warnings, or use assert_consumed() to make the check explicit. See https://www.tensorflow.org/guide/checkpoint#loading_mechanics for details.\n",
            "WARNING:tensorflow:Unresolved object in checkpoint: (root).optimizer.iter\n",
            "WARNING:tensorflow:Unresolved object in checkpoint: (root).optimizer.beta_1\n",
            "WARNING:tensorflow:Unresolved object in checkpoint: (root).optimizer.beta_2\n",
            "WARNING:tensorflow:Unresolved object in checkpoint: (root).optimizer.decay\n",
            "WARNING:tensorflow:Unresolved object in checkpoint: (root).optimizer.learning_rate\n",
            "WARNING:tensorflow:A checkpoint was restored (e.g. tf.train.Checkpoint.restore or tf.keras.Model.load_weights) but not all checkpointed values were used. See above for specific issues. Use expect_partial() on the load status object, e.g. tf.train.Checkpoint.restore(...).expect_partial(), to silence these warnings, or use assert_consumed() to make the check explicit. See https://www.tensorflow.org/guide/checkpoint#loading_mechanics for details.\n",
            "WARNING:tensorflow:Unresolved object in checkpoint: (root).optimizer.iter\n",
            "WARNING:tensorflow:Unresolved object in checkpoint: (root).optimizer.beta_1\n",
            "WARNING:tensorflow:Unresolved object in checkpoint: (root).optimizer.beta_2\n",
            "WARNING:tensorflow:Unresolved object in checkpoint: (root).optimizer.decay\n",
            "WARNING:tensorflow:Unresolved object in checkpoint: (root).optimizer.learning_rate\n",
            "WARNING:tensorflow:A checkpoint was restored (e.g. tf.train.Checkpoint.restore or tf.keras.Model.load_weights) but not all checkpointed values were used. See above for specific issues. Use expect_partial() on the load status object, e.g. tf.train.Checkpoint.restore(...).expect_partial(), to silence these warnings, or use assert_consumed() to make the check explicit. See https://www.tensorflow.org/guide/checkpoint#loading_mechanics for details.\n",
            "WARNING:tensorflow:Unresolved object in checkpoint: (root).optimizer.iter\n",
            "WARNING:tensorflow:Unresolved object in checkpoint: (root).optimizer.beta_1\n",
            "WARNING:tensorflow:Unresolved object in checkpoint: (root).optimizer.beta_2\n",
            "WARNING:tensorflow:Unresolved object in checkpoint: (root).optimizer.decay\n",
            "WARNING:tensorflow:Unresolved object in checkpoint: (root).optimizer.learning_rate\n",
            "WARNING:tensorflow:A checkpoint was restored (e.g. tf.train.Checkpoint.restore or tf.keras.Model.load_weights) but not all checkpointed values were used. See above for specific issues. Use expect_partial() on the load status object, e.g. tf.train.Checkpoint.restore(...).expect_partial(), to silence these warnings, or use assert_consumed() to make the check explicit. See https://www.tensorflow.org/guide/checkpoint#loading_mechanics for details.\n",
            "WARNING:tensorflow:Unresolved object in checkpoint: (root).optimizer.iter\n",
            "WARNING:tensorflow:Unresolved object in checkpoint: (root).optimizer.beta_1\n",
            "WARNING:tensorflow:Unresolved object in checkpoint: (root).optimizer.beta_2\n",
            "WARNING:tensorflow:Unresolved object in checkpoint: (root).optimizer.decay\n",
            "WARNING:tensorflow:Unresolved object in checkpoint: (root).optimizer.learning_rate\n",
            "WARNING:tensorflow:A checkpoint was restored (e.g. tf.train.Checkpoint.restore or tf.keras.Model.load_weights) but not all checkpointed values were used. See above for specific issues. Use expect_partial() on the load status object, e.g. tf.train.Checkpoint.restore(...).expect_partial(), to silence these warnings, or use assert_consumed() to make the check explicit. See https://www.tensorflow.org/guide/checkpoint#loading_mechanics for details.\n",
            "WARNING:tensorflow:Unresolved object in checkpoint: (root).optimizer.iter\n",
            "WARNING:tensorflow:Unresolved object in checkpoint: (root).optimizer.beta_1\n",
            "WARNING:tensorflow:Unresolved object in checkpoint: (root).optimizer.beta_2\n",
            "WARNING:tensorflow:Unresolved object in checkpoint: (root).optimizer.decay\n",
            "WARNING:tensorflow:Unresolved object in checkpoint: (root).optimizer.learning_rate\n",
            "WARNING:tensorflow:A checkpoint was restored (e.g. tf.train.Checkpoint.restore or tf.keras.Model.load_weights) but not all checkpointed values were used. See above for specific issues. Use expect_partial() on the load status object, e.g. tf.train.Checkpoint.restore(...).expect_partial(), to silence these warnings, or use assert_consumed() to make the check explicit. See https://www.tensorflow.org/guide/checkpoint#loading_mechanics for details.\n",
            "WARNING:tensorflow:Unresolved object in checkpoint: (root).optimizer.iter\n",
            "WARNING:tensorflow:Unresolved object in checkpoint: (root).optimizer.beta_1\n",
            "WARNING:tensorflow:Unresolved object in checkpoint: (root).optimizer.beta_2\n",
            "WARNING:tensorflow:Unresolved object in checkpoint: (root).optimizer.decay\n",
            "WARNING:tensorflow:Unresolved object in checkpoint: (root).optimizer.learning_rate\n",
            "WARNING:tensorflow:A checkpoint was restored (e.g. tf.train.Checkpoint.restore or tf.keras.Model.load_weights) but not all checkpointed values were used. See above for specific issues. Use expect_partial() on the load status object, e.g. tf.train.Checkpoint.restore(...).expect_partial(), to silence these warnings, or use assert_consumed() to make the check explicit. See https://www.tensorflow.org/guide/checkpoint#loading_mechanics for details.\n",
            "WARNING:tensorflow:Unresolved object in checkpoint: (root).optimizer.iter\n",
            "WARNING:tensorflow:Unresolved object in checkpoint: (root).optimizer.beta_1\n",
            "WARNING:tensorflow:Unresolved object in checkpoint: (root).optimizer.beta_2\n",
            "WARNING:tensorflow:Unresolved object in checkpoint: (root).optimizer.decay\n",
            "WARNING:tensorflow:Unresolved object in checkpoint: (root).optimizer.learning_rate\n",
            "WARNING:tensorflow:A checkpoint was restored (e.g. tf.train.Checkpoint.restore or tf.keras.Model.load_weights) but not all checkpointed values were used. See above for specific issues. Use expect_partial() on the load status object, e.g. tf.train.Checkpoint.restore(...).expect_partial(), to silence these warnings, or use assert_consumed() to make the check explicit. See https://www.tensorflow.org/guide/checkpoint#loading_mechanics for details.\n",
            "WARNING:tensorflow:Unresolved object in checkpoint: (root).optimizer.iter\n",
            "WARNING:tensorflow:Unresolved object in checkpoint: (root).optimizer.beta_1\n",
            "WARNING:tensorflow:Unresolved object in checkpoint: (root).optimizer.beta_2\n",
            "WARNING:tensorflow:Unresolved object in checkpoint: (root).optimizer.decay\n",
            "WARNING:tensorflow:Unresolved object in checkpoint: (root).optimizer.learning_rate\n",
            "WARNING:tensorflow:A checkpoint was restored (e.g. tf.train.Checkpoint.restore or tf.keras.Model.load_weights) but not all checkpointed values were used. See above for specific issues. Use expect_partial() on the load status object, e.g. tf.train.Checkpoint.restore(...).expect_partial(), to silence these warnings, or use assert_consumed() to make the check explicit. See https://www.tensorflow.org/guide/checkpoint#loading_mechanics for details.\n",
            "WARNING:tensorflow:Unresolved object in checkpoint: (root).optimizer.iter\n",
            "WARNING:tensorflow:Unresolved object in checkpoint: (root).optimizer.beta_1\n",
            "WARNING:tensorflow:Unresolved object in checkpoint: (root).optimizer.beta_2\n",
            "WARNING:tensorflow:Unresolved object in checkpoint: (root).optimizer.decay\n",
            "WARNING:tensorflow:Unresolved object in checkpoint: (root).optimizer.learning_rate\n",
            "WARNING:tensorflow:A checkpoint was restored (e.g. tf.train.Checkpoint.restore or tf.keras.Model.load_weights) but not all checkpointed values were used. See above for specific issues. Use expect_partial() on the load status object, e.g. tf.train.Checkpoint.restore(...).expect_partial(), to silence these warnings, or use assert_consumed() to make the check explicit. See https://www.tensorflow.org/guide/checkpoint#loading_mechanics for details.\n",
            "WARNING:tensorflow:Unresolved object in checkpoint: (root).optimizer.iter\n",
            "WARNING:tensorflow:Unresolved object in checkpoint: (root).optimizer.beta_1\n",
            "WARNING:tensorflow:Unresolved object in checkpoint: (root).optimizer.beta_2\n",
            "WARNING:tensorflow:Unresolved object in checkpoint: (root).optimizer.decay\n",
            "WARNING:tensorflow:Unresolved object in checkpoint: (root).optimizer.learning_rate\n",
            "WARNING:tensorflow:A checkpoint was restored (e.g. tf.train.Checkpoint.restore or tf.keras.Model.load_weights) but not all checkpointed values were used. See above for specific issues. Use expect_partial() on the load status object, e.g. tf.train.Checkpoint.restore(...).expect_partial(), to silence these warnings, or use assert_consumed() to make the check explicit. See https://www.tensorflow.org/guide/checkpoint#loading_mechanics for details.\n",
            "WARNING:tensorflow:Unresolved object in checkpoint: (root).optimizer.iter\n",
            "WARNING:tensorflow:Unresolved object in checkpoint: (root).optimizer.beta_1\n",
            "WARNING:tensorflow:Unresolved object in checkpoint: (root).optimizer.beta_2\n",
            "WARNING:tensorflow:Unresolved object in checkpoint: (root).optimizer.decay\n",
            "WARNING:tensorflow:Unresolved object in checkpoint: (root).optimizer.learning_rate\n",
            "WARNING:tensorflow:A checkpoint was restored (e.g. tf.train.Checkpoint.restore or tf.keras.Model.load_weights) but not all checkpointed values were used. See above for specific issues. Use expect_partial() on the load status object, e.g. tf.train.Checkpoint.restore(...).expect_partial(), to silence these warnings, or use assert_consumed() to make the check explicit. See https://www.tensorflow.org/guide/checkpoint#loading_mechanics for details.\n",
            "WARNING:tensorflow:Unresolved object in checkpoint: (root).optimizer.iter\n",
            "WARNING:tensorflow:Unresolved object in checkpoint: (root).optimizer.beta_1\n",
            "WARNING:tensorflow:Unresolved object in checkpoint: (root).optimizer.beta_2\n",
            "WARNING:tensorflow:Unresolved object in checkpoint: (root).optimizer.decay\n",
            "WARNING:tensorflow:Unresolved object in checkpoint: (root).optimizer.learning_rate\n",
            "WARNING:tensorflow:A checkpoint was restored (e.g. tf.train.Checkpoint.restore or tf.keras.Model.load_weights) but not all checkpointed values were used. See above for specific issues. Use expect_partial() on the load status object, e.g. tf.train.Checkpoint.restore(...).expect_partial(), to silence these warnings, or use assert_consumed() to make the check explicit. See https://www.tensorflow.org/guide/checkpoint#loading_mechanics for details.\n",
            "WARNING:tensorflow:Unresolved object in checkpoint: (root).optimizer.iter\n",
            "WARNING:tensorflow:Unresolved object in checkpoint: (root).optimizer.beta_1\n",
            "WARNING:tensorflow:Unresolved object in checkpoint: (root).optimizer.beta_2\n",
            "WARNING:tensorflow:Unresolved object in checkpoint: (root).optimizer.decay\n",
            "WARNING:tensorflow:Unresolved object in checkpoint: (root).optimizer.learning_rate\n",
            "WARNING:tensorflow:A checkpoint was restored (e.g. tf.train.Checkpoint.restore or tf.keras.Model.load_weights) but not all checkpointed values were used. See above for specific issues. Use expect_partial() on the load status object, e.g. tf.train.Checkpoint.restore(...).expect_partial(), to silence these warnings, or use assert_consumed() to make the check explicit. See https://www.tensorflow.org/guide/checkpoint#loading_mechanics for details.\n",
            "WARNING:tensorflow:Unresolved object in checkpoint: (root).optimizer.iter\n",
            "WARNING:tensorflow:Unresolved object in checkpoint: (root).optimizer.beta_1\n",
            "WARNING:tensorflow:Unresolved object in checkpoint: (root).optimizer.beta_2\n",
            "WARNING:tensorflow:Unresolved object in checkpoint: (root).optimizer.decay\n",
            "WARNING:tensorflow:Unresolved object in checkpoint: (root).optimizer.learning_rate\n",
            "WARNING:tensorflow:A checkpoint was restored (e.g. tf.train.Checkpoint.restore or tf.keras.Model.load_weights) but not all checkpointed values were used. See above for specific issues. Use expect_partial() on the load status object, e.g. tf.train.Checkpoint.restore(...).expect_partial(), to silence these warnings, or use assert_consumed() to make the check explicit. See https://www.tensorflow.org/guide/checkpoint#loading_mechanics for details.\n",
            "WARNING:tensorflow:Unresolved object in checkpoint: (root).optimizer.iter\n",
            "WARNING:tensorflow:Unresolved object in checkpoint: (root).optimizer.beta_1\n",
            "WARNING:tensorflow:Unresolved object in checkpoint: (root).optimizer.beta_2\n",
            "WARNING:tensorflow:Unresolved object in checkpoint: (root).optimizer.decay\n",
            "WARNING:tensorflow:Unresolved object in checkpoint: (root).optimizer.learning_rate\n",
            "WARNING:tensorflow:A checkpoint was restored (e.g. tf.train.Checkpoint.restore or tf.keras.Model.load_weights) but not all checkpointed values were used. See above for specific issues. Use expect_partial() on the load status object, e.g. tf.train.Checkpoint.restore(...).expect_partial(), to silence these warnings, or use assert_consumed() to make the check explicit. See https://www.tensorflow.org/guide/checkpoint#loading_mechanics for details.\n",
            "WARNING:tensorflow:Unresolved object in checkpoint: (root).optimizer.iter\n",
            "WARNING:tensorflow:Unresolved object in checkpoint: (root).optimizer.beta_1\n",
            "WARNING:tensorflow:Unresolved object in checkpoint: (root).optimizer.beta_2\n",
            "WARNING:tensorflow:Unresolved object in checkpoint: (root).optimizer.decay\n",
            "WARNING:tensorflow:Unresolved object in checkpoint: (root).optimizer.learning_rate\n",
            "WARNING:tensorflow:A checkpoint was restored (e.g. tf.train.Checkpoint.restore or tf.keras.Model.load_weights) but not all checkpointed values were used. See above for specific issues. Use expect_partial() on the load status object, e.g. tf.train.Checkpoint.restore(...).expect_partial(), to silence these warnings, or use assert_consumed() to make the check explicit. See https://www.tensorflow.org/guide/checkpoint#loading_mechanics for details.\n",
            "WARNING:tensorflow:Unresolved object in checkpoint: (root).optimizer.iter\n",
            "WARNING:tensorflow:Unresolved object in checkpoint: (root).optimizer.beta_1\n",
            "WARNING:tensorflow:Unresolved object in checkpoint: (root).optimizer.beta_2\n",
            "WARNING:tensorflow:Unresolved object in checkpoint: (root).optimizer.decay\n",
            "WARNING:tensorflow:Unresolved object in checkpoint: (root).optimizer.learning_rate\n",
            "WARNING:tensorflow:A checkpoint was restored (e.g. tf.train.Checkpoint.restore or tf.keras.Model.load_weights) but not all checkpointed values were used. See above for specific issues. Use expect_partial() on the load status object, e.g. tf.train.Checkpoint.restore(...).expect_partial(), to silence these warnings, or use assert_consumed() to make the check explicit. See https://www.tensorflow.org/guide/checkpoint#loading_mechanics for details.\n",
            "WARNING:tensorflow:Unresolved object in checkpoint: (root).optimizer.iter\n",
            "WARNING:tensorflow:Unresolved object in checkpoint: (root).optimizer.beta_1\n",
            "WARNING:tensorflow:Unresolved object in checkpoint: (root).optimizer.beta_2\n",
            "WARNING:tensorflow:Unresolved object in checkpoint: (root).optimizer.decay\n",
            "WARNING:tensorflow:Unresolved object in checkpoint: (root).optimizer.learning_rate\n",
            "WARNING:tensorflow:A checkpoint was restored (e.g. tf.train.Checkpoint.restore or tf.keras.Model.load_weights) but not all checkpointed values were used. See above for specific issues. Use expect_partial() on the load status object, e.g. tf.train.Checkpoint.restore(...).expect_partial(), to silence these warnings, or use assert_consumed() to make the check explicit. See https://www.tensorflow.org/guide/checkpoint#loading_mechanics for details.\n",
            "WARNING:tensorflow:Unresolved object in checkpoint: (root).optimizer.iter\n",
            "WARNING:tensorflow:Unresolved object in checkpoint: (root).optimizer.beta_1\n",
            "WARNING:tensorflow:Unresolved object in checkpoint: (root).optimizer.beta_2\n",
            "WARNING:tensorflow:Unresolved object in checkpoint: (root).optimizer.decay\n",
            "WARNING:tensorflow:Unresolved object in checkpoint: (root).optimizer.learning_rate\n",
            "WARNING:tensorflow:A checkpoint was restored (e.g. tf.train.Checkpoint.restore or tf.keras.Model.load_weights) but not all checkpointed values were used. See above for specific issues. Use expect_partial() on the load status object, e.g. tf.train.Checkpoint.restore(...).expect_partial(), to silence these warnings, or use assert_consumed() to make the check explicit. See https://www.tensorflow.org/guide/checkpoint#loading_mechanics for details.\n",
            "WARNING:tensorflow:Unresolved object in checkpoint: (root).optimizer.iter\n",
            "WARNING:tensorflow:Unresolved object in checkpoint: (root).optimizer.beta_1\n",
            "WARNING:tensorflow:Unresolved object in checkpoint: (root).optimizer.beta_2\n",
            "WARNING:tensorflow:Unresolved object in checkpoint: (root).optimizer.decay\n",
            "WARNING:tensorflow:Unresolved object in checkpoint: (root).optimizer.learning_rate\n",
            "WARNING:tensorflow:A checkpoint was restored (e.g. tf.train.Checkpoint.restore or tf.keras.Model.load_weights) but not all checkpointed values were used. See above for specific issues. Use expect_partial() on the load status object, e.g. tf.train.Checkpoint.restore(...).expect_partial(), to silence these warnings, or use assert_consumed() to make the check explicit. See https://www.tensorflow.org/guide/checkpoint#loading_mechanics for details.\n",
            "WARNING:tensorflow:Unresolved object in checkpoint: (root).optimizer.iter\n",
            "WARNING:tensorflow:Unresolved object in checkpoint: (root).optimizer.beta_1\n",
            "WARNING:tensorflow:Unresolved object in checkpoint: (root).optimizer.beta_2\n",
            "WARNING:tensorflow:Unresolved object in checkpoint: (root).optimizer.decay\n",
            "WARNING:tensorflow:Unresolved object in checkpoint: (root).optimizer.learning_rate\n",
            "WARNING:tensorflow:A checkpoint was restored (e.g. tf.train.Checkpoint.restore or tf.keras.Model.load_weights) but not all checkpointed values were used. See above for specific issues. Use expect_partial() on the load status object, e.g. tf.train.Checkpoint.restore(...).expect_partial(), to silence these warnings, or use assert_consumed() to make the check explicit. See https://www.tensorflow.org/guide/checkpoint#loading_mechanics for details.\n",
            "WARNING:tensorflow:Unresolved object in checkpoint: (root).optimizer.iter\n",
            "WARNING:tensorflow:Unresolved object in checkpoint: (root).optimizer.beta_1\n",
            "WARNING:tensorflow:Unresolved object in checkpoint: (root).optimizer.beta_2\n",
            "WARNING:tensorflow:Unresolved object in checkpoint: (root).optimizer.decay\n",
            "WARNING:tensorflow:Unresolved object in checkpoint: (root).optimizer.learning_rate\n",
            "WARNING:tensorflow:A checkpoint was restored (e.g. tf.train.Checkpoint.restore or tf.keras.Model.load_weights) but not all checkpointed values were used. See above for specific issues. Use expect_partial() on the load status object, e.g. tf.train.Checkpoint.restore(...).expect_partial(), to silence these warnings, or use assert_consumed() to make the check explicit. See https://www.tensorflow.org/guide/checkpoint#loading_mechanics for details.\n",
            "WARNING:tensorflow:Unresolved object in checkpoint: (root).optimizer.iter\n",
            "WARNING:tensorflow:Unresolved object in checkpoint: (root).optimizer.beta_1\n",
            "WARNING:tensorflow:Unresolved object in checkpoint: (root).optimizer.beta_2\n",
            "WARNING:tensorflow:Unresolved object in checkpoint: (root).optimizer.decay\n",
            "WARNING:tensorflow:Unresolved object in checkpoint: (root).optimizer.learning_rate\n",
            "WARNING:tensorflow:A checkpoint was restored (e.g. tf.train.Checkpoint.restore or tf.keras.Model.load_weights) but not all checkpointed values were used. See above for specific issues. Use expect_partial() on the load status object, e.g. tf.train.Checkpoint.restore(...).expect_partial(), to silence these warnings, or use assert_consumed() to make the check explicit. See https://www.tensorflow.org/guide/checkpoint#loading_mechanics for details.\n",
            "WARNING:tensorflow:Unresolved object in checkpoint: (root).optimizer.iter\n",
            "WARNING:tensorflow:Unresolved object in checkpoint: (root).optimizer.beta_1\n",
            "WARNING:tensorflow:Unresolved object in checkpoint: (root).optimizer.beta_2\n",
            "WARNING:tensorflow:Unresolved object in checkpoint: (root).optimizer.decay\n",
            "WARNING:tensorflow:Unresolved object in checkpoint: (root).optimizer.learning_rate\n",
            "WARNING:tensorflow:A checkpoint was restored (e.g. tf.train.Checkpoint.restore or tf.keras.Model.load_weights) but not all checkpointed values were used. See above for specific issues. Use expect_partial() on the load status object, e.g. tf.train.Checkpoint.restore(...).expect_partial(), to silence these warnings, or use assert_consumed() to make the check explicit. See https://www.tensorflow.org/guide/checkpoint#loading_mechanics for details.\n",
            "WARNING:tensorflow:Unresolved object in checkpoint: (root).optimizer.iter\n",
            "WARNING:tensorflow:Unresolved object in checkpoint: (root).optimizer.beta_1\n",
            "WARNING:tensorflow:Unresolved object in checkpoint: (root).optimizer.beta_2\n",
            "WARNING:tensorflow:Unresolved object in checkpoint: (root).optimizer.decay\n",
            "WARNING:tensorflow:Unresolved object in checkpoint: (root).optimizer.learning_rate\n",
            "WARNING:tensorflow:A checkpoint was restored (e.g. tf.train.Checkpoint.restore or tf.keras.Model.load_weights) but not all checkpointed values were used. See above for specific issues. Use expect_partial() on the load status object, e.g. tf.train.Checkpoint.restore(...).expect_partial(), to silence these warnings, or use assert_consumed() to make the check explicit. See https://www.tensorflow.org/guide/checkpoint#loading_mechanics for details.\n",
            "WARNING:tensorflow:Unresolved object in checkpoint: (root).optimizer.iter\n",
            "WARNING:tensorflow:Unresolved object in checkpoint: (root).optimizer.beta_1\n",
            "WARNING:tensorflow:Unresolved object in checkpoint: (root).optimizer.beta_2\n",
            "WARNING:tensorflow:Unresolved object in checkpoint: (root).optimizer.decay\n",
            "WARNING:tensorflow:Unresolved object in checkpoint: (root).optimizer.learning_rate\n",
            "WARNING:tensorflow:A checkpoint was restored (e.g. tf.train.Checkpoint.restore or tf.keras.Model.load_weights) but not all checkpointed values were used. See above for specific issues. Use expect_partial() on the load status object, e.g. tf.train.Checkpoint.restore(...).expect_partial(), to silence these warnings, or use assert_consumed() to make the check explicit. See https://www.tensorflow.org/guide/checkpoint#loading_mechanics for details.\n",
            "WARNING:tensorflow:Unresolved object in checkpoint: (root).optimizer.iter\n",
            "WARNING:tensorflow:Unresolved object in checkpoint: (root).optimizer.beta_1\n",
            "WARNING:tensorflow:Unresolved object in checkpoint: (root).optimizer.beta_2\n",
            "WARNING:tensorflow:Unresolved object in checkpoint: (root).optimizer.decay\n",
            "WARNING:tensorflow:Unresolved object in checkpoint: (root).optimizer.learning_rate\n",
            "WARNING:tensorflow:A checkpoint was restored (e.g. tf.train.Checkpoint.restore or tf.keras.Model.load_weights) but not all checkpointed values were used. See above for specific issues. Use expect_partial() on the load status object, e.g. tf.train.Checkpoint.restore(...).expect_partial(), to silence these warnings, or use assert_consumed() to make the check explicit. See https://www.tensorflow.org/guide/checkpoint#loading_mechanics for details.\n",
            "WARNING:tensorflow:Unresolved object in checkpoint: (root).optimizer.iter\n",
            "WARNING:tensorflow:Unresolved object in checkpoint: (root).optimizer.beta_1\n",
            "WARNING:tensorflow:Unresolved object in checkpoint: (root).optimizer.beta_2\n",
            "WARNING:tensorflow:Unresolved object in checkpoint: (root).optimizer.decay\n",
            "WARNING:tensorflow:Unresolved object in checkpoint: (root).optimizer.learning_rate\n",
            "WARNING:tensorflow:A checkpoint was restored (e.g. tf.train.Checkpoint.restore or tf.keras.Model.load_weights) but not all checkpointed values were used. See above for specific issues. Use expect_partial() on the load status object, e.g. tf.train.Checkpoint.restore(...).expect_partial(), to silence these warnings, or use assert_consumed() to make the check explicit. See https://www.tensorflow.org/guide/checkpoint#loading_mechanics for details.\n",
            "WARNING:tensorflow:Unresolved object in checkpoint: (root).optimizer.iter\n",
            "WARNING:tensorflow:Unresolved object in checkpoint: (root).optimizer.beta_1\n",
            "WARNING:tensorflow:Unresolved object in checkpoint: (root).optimizer.beta_2\n",
            "WARNING:tensorflow:Unresolved object in checkpoint: (root).optimizer.decay\n",
            "WARNING:tensorflow:Unresolved object in checkpoint: (root).optimizer.learning_rate\n",
            "WARNING:tensorflow:A checkpoint was restored (e.g. tf.train.Checkpoint.restore or tf.keras.Model.load_weights) but not all checkpointed values were used. See above for specific issues. Use expect_partial() on the load status object, e.g. tf.train.Checkpoint.restore(...).expect_partial(), to silence these warnings, or use assert_consumed() to make the check explicit. See https://www.tensorflow.org/guide/checkpoint#loading_mechanics for details.\n",
            "WARNING:tensorflow:Unresolved object in checkpoint: (root).optimizer.iter\n",
            "WARNING:tensorflow:Unresolved object in checkpoint: (root).optimizer.beta_1\n",
            "WARNING:tensorflow:Unresolved object in checkpoint: (root).optimizer.beta_2\n",
            "WARNING:tensorflow:Unresolved object in checkpoint: (root).optimizer.decay\n",
            "WARNING:tensorflow:Unresolved object in checkpoint: (root).optimizer.learning_rate\n",
            "WARNING:tensorflow:A checkpoint was restored (e.g. tf.train.Checkpoint.restore or tf.keras.Model.load_weights) but not all checkpointed values were used. See above for specific issues. Use expect_partial() on the load status object, e.g. tf.train.Checkpoint.restore(...).expect_partial(), to silence these warnings, or use assert_consumed() to make the check explicit. See https://www.tensorflow.org/guide/checkpoint#loading_mechanics for details.\n",
            "WARNING:tensorflow:Unresolved object in checkpoint: (root).optimizer.iter\n",
            "WARNING:tensorflow:Unresolved object in checkpoint: (root).optimizer.beta_1\n",
            "WARNING:tensorflow:Unresolved object in checkpoint: (root).optimizer.beta_2\n",
            "WARNING:tensorflow:Unresolved object in checkpoint: (root).optimizer.decay\n",
            "WARNING:tensorflow:Unresolved object in checkpoint: (root).optimizer.learning_rate\n",
            "WARNING:tensorflow:A checkpoint was restored (e.g. tf.train.Checkpoint.restore or tf.keras.Model.load_weights) but not all checkpointed values were used. See above for specific issues. Use expect_partial() on the load status object, e.g. tf.train.Checkpoint.restore(...).expect_partial(), to silence these warnings, or use assert_consumed() to make the check explicit. See https://www.tensorflow.org/guide/checkpoint#loading_mechanics for details.\n",
            "WARNING:tensorflow:Unresolved object in checkpoint: (root).optimizer.iter\n",
            "WARNING:tensorflow:Unresolved object in checkpoint: (root).optimizer.beta_1\n",
            "WARNING:tensorflow:Unresolved object in checkpoint: (root).optimizer.beta_2\n",
            "WARNING:tensorflow:Unresolved object in checkpoint: (root).optimizer.decay\n",
            "WARNING:tensorflow:Unresolved object in checkpoint: (root).optimizer.learning_rate\n",
            "WARNING:tensorflow:A checkpoint was restored (e.g. tf.train.Checkpoint.restore or tf.keras.Model.load_weights) but not all checkpointed values were used. See above for specific issues. Use expect_partial() on the load status object, e.g. tf.train.Checkpoint.restore(...).expect_partial(), to silence these warnings, or use assert_consumed() to make the check explicit. See https://www.tensorflow.org/guide/checkpoint#loading_mechanics for details.\n",
            "WARNING:tensorflow:Unresolved object in checkpoint: (root).optimizer.iter\n",
            "WARNING:tensorflow:Unresolved object in checkpoint: (root).optimizer.beta_1\n",
            "WARNING:tensorflow:Unresolved object in checkpoint: (root).optimizer.beta_2\n",
            "WARNING:tensorflow:Unresolved object in checkpoint: (root).optimizer.decay\n",
            "WARNING:tensorflow:Unresolved object in checkpoint: (root).optimizer.learning_rate\n",
            "WARNING:tensorflow:A checkpoint was restored (e.g. tf.train.Checkpoint.restore or tf.keras.Model.load_weights) but not all checkpointed values were used. See above for specific issues. Use expect_partial() on the load status object, e.g. tf.train.Checkpoint.restore(...).expect_partial(), to silence these warnings, or use assert_consumed() to make the check explicit. See https://www.tensorflow.org/guide/checkpoint#loading_mechanics for details.\n",
            "WARNING:tensorflow:Unresolved object in checkpoint: (root).optimizer.iter\n",
            "WARNING:tensorflow:Unresolved object in checkpoint: (root).optimizer.beta_1\n",
            "WARNING:tensorflow:Unresolved object in checkpoint: (root).optimizer.beta_2\n",
            "WARNING:tensorflow:Unresolved object in checkpoint: (root).optimizer.decay\n",
            "WARNING:tensorflow:Unresolved object in checkpoint: (root).optimizer.learning_rate\n",
            "WARNING:tensorflow:A checkpoint was restored (e.g. tf.train.Checkpoint.restore or tf.keras.Model.load_weights) but not all checkpointed values were used. See above for specific issues. Use expect_partial() on the load status object, e.g. tf.train.Checkpoint.restore(...).expect_partial(), to silence these warnings, or use assert_consumed() to make the check explicit. See https://www.tensorflow.org/guide/checkpoint#loading_mechanics for details.\n",
            "WARNING:tensorflow:Unresolved object in checkpoint: (root).optimizer.iter\n",
            "WARNING:tensorflow:Unresolved object in checkpoint: (root).optimizer.beta_1\n",
            "WARNING:tensorflow:Unresolved object in checkpoint: (root).optimizer.beta_2\n",
            "WARNING:tensorflow:Unresolved object in checkpoint: (root).optimizer.decay\n",
            "WARNING:tensorflow:Unresolved object in checkpoint: (root).optimizer.learning_rate\n",
            "WARNING:tensorflow:A checkpoint was restored (e.g. tf.train.Checkpoint.restore or tf.keras.Model.load_weights) but not all checkpointed values were used. See above for specific issues. Use expect_partial() on the load status object, e.g. tf.train.Checkpoint.restore(...).expect_partial(), to silence these warnings, or use assert_consumed() to make the check explicit. See https://www.tensorflow.org/guide/checkpoint#loading_mechanics for details.\n",
            "WARNING:tensorflow:Unresolved object in checkpoint: (root).optimizer.iter\n",
            "WARNING:tensorflow:Unresolved object in checkpoint: (root).optimizer.beta_1\n",
            "WARNING:tensorflow:Unresolved object in checkpoint: (root).optimizer.beta_2\n",
            "WARNING:tensorflow:Unresolved object in checkpoint: (root).optimizer.decay\n",
            "WARNING:tensorflow:Unresolved object in checkpoint: (root).optimizer.learning_rate\n",
            "WARNING:tensorflow:A checkpoint was restored (e.g. tf.train.Checkpoint.restore or tf.keras.Model.load_weights) but not all checkpointed values were used. See above for specific issues. Use expect_partial() on the load status object, e.g. tf.train.Checkpoint.restore(...).expect_partial(), to silence these warnings, or use assert_consumed() to make the check explicit. See https://www.tensorflow.org/guide/checkpoint#loading_mechanics for details.\n",
            "WARNING:tensorflow:Unresolved object in checkpoint: (root).optimizer.iter\n",
            "WARNING:tensorflow:Unresolved object in checkpoint: (root).optimizer.beta_1\n",
            "WARNING:tensorflow:Unresolved object in checkpoint: (root).optimizer.beta_2\n",
            "WARNING:tensorflow:Unresolved object in checkpoint: (root).optimizer.decay\n",
            "WARNING:tensorflow:Unresolved object in checkpoint: (root).optimizer.learning_rate\n",
            "WARNING:tensorflow:A checkpoint was restored (e.g. tf.train.Checkpoint.restore or tf.keras.Model.load_weights) but not all checkpointed values were used. See above for specific issues. Use expect_partial() on the load status object, e.g. tf.train.Checkpoint.restore(...).expect_partial(), to silence these warnings, or use assert_consumed() to make the check explicit. See https://www.tensorflow.org/guide/checkpoint#loading_mechanics for details.\n",
            "WARNING:tensorflow:Unresolved object in checkpoint: (root).optimizer.iter\n",
            "WARNING:tensorflow:Unresolved object in checkpoint: (root).optimizer.beta_1\n",
            "WARNING:tensorflow:Unresolved object in checkpoint: (root).optimizer.beta_2\n",
            "WARNING:tensorflow:Unresolved object in checkpoint: (root).optimizer.decay\n",
            "WARNING:tensorflow:Unresolved object in checkpoint: (root).optimizer.learning_rate\n",
            "WARNING:tensorflow:A checkpoint was restored (e.g. tf.train.Checkpoint.restore or tf.keras.Model.load_weights) but not all checkpointed values were used. See above for specific issues. Use expect_partial() on the load status object, e.g. tf.train.Checkpoint.restore(...).expect_partial(), to silence these warnings, or use assert_consumed() to make the check explicit. See https://www.tensorflow.org/guide/checkpoint#loading_mechanics for details.\n",
            "WARNING:tensorflow:Unresolved object in checkpoint: (root).optimizer.iter\n",
            "WARNING:tensorflow:Unresolved object in checkpoint: (root).optimizer.beta_1\n",
            "WARNING:tensorflow:Unresolved object in checkpoint: (root).optimizer.beta_2\n",
            "WARNING:tensorflow:Unresolved object in checkpoint: (root).optimizer.decay\n",
            "WARNING:tensorflow:Unresolved object in checkpoint: (root).optimizer.learning_rate\n",
            "WARNING:tensorflow:A checkpoint was restored (e.g. tf.train.Checkpoint.restore or tf.keras.Model.load_weights) but not all checkpointed values were used. See above for specific issues. Use expect_partial() on the load status object, e.g. tf.train.Checkpoint.restore(...).expect_partial(), to silence these warnings, or use assert_consumed() to make the check explicit. See https://www.tensorflow.org/guide/checkpoint#loading_mechanics for details.\n",
            "WARNING:tensorflow:Unresolved object in checkpoint: (root).optimizer.iter\n",
            "WARNING:tensorflow:Unresolved object in checkpoint: (root).optimizer.beta_1\n",
            "WARNING:tensorflow:Unresolved object in checkpoint: (root).optimizer.beta_2\n",
            "WARNING:tensorflow:Unresolved object in checkpoint: (root).optimizer.decay\n",
            "WARNING:tensorflow:Unresolved object in checkpoint: (root).optimizer.learning_rate\n",
            "WARNING:tensorflow:A checkpoint was restored (e.g. tf.train.Checkpoint.restore or tf.keras.Model.load_weights) but not all checkpointed values were used. See above for specific issues. Use expect_partial() on the load status object, e.g. tf.train.Checkpoint.restore(...).expect_partial(), to silence these warnings, or use assert_consumed() to make the check explicit. See https://www.tensorflow.org/guide/checkpoint#loading_mechanics for details.\n",
            "WARNING:tensorflow:Unresolved object in checkpoint: (root).optimizer.iter\n",
            "WARNING:tensorflow:Unresolved object in checkpoint: (root).optimizer.beta_1\n",
            "WARNING:tensorflow:Unresolved object in checkpoint: (root).optimizer.beta_2\n",
            "WARNING:tensorflow:Unresolved object in checkpoint: (root).optimizer.decay\n",
            "WARNING:tensorflow:Unresolved object in checkpoint: (root).optimizer.learning_rate\n",
            "WARNING:tensorflow:A checkpoint was restored (e.g. tf.train.Checkpoint.restore or tf.keras.Model.load_weights) but not all checkpointed values were used. See above for specific issues. Use expect_partial() on the load status object, e.g. tf.train.Checkpoint.restore(...).expect_partial(), to silence these warnings, or use assert_consumed() to make the check explicit. See https://www.tensorflow.org/guide/checkpoint#loading_mechanics for details.\n",
            "WARNING:tensorflow:Unresolved object in checkpoint: (root).optimizer.iter\n",
            "WARNING:tensorflow:Unresolved object in checkpoint: (root).optimizer.beta_1\n",
            "WARNING:tensorflow:Unresolved object in checkpoint: (root).optimizer.beta_2\n",
            "WARNING:tensorflow:Unresolved object in checkpoint: (root).optimizer.decay\n",
            "WARNING:tensorflow:Unresolved object in checkpoint: (root).optimizer.learning_rate\n",
            "WARNING:tensorflow:A checkpoint was restored (e.g. tf.train.Checkpoint.restore or tf.keras.Model.load_weights) but not all checkpointed values were used. See above for specific issues. Use expect_partial() on the load status object, e.g. tf.train.Checkpoint.restore(...).expect_partial(), to silence these warnings, or use assert_consumed() to make the check explicit. See https://www.tensorflow.org/guide/checkpoint#loading_mechanics for details.\n",
            "WARNING:tensorflow:Unresolved object in checkpoint: (root).optimizer.iter\n",
            "WARNING:tensorflow:Unresolved object in checkpoint: (root).optimizer.beta_1\n",
            "WARNING:tensorflow:Unresolved object in checkpoint: (root).optimizer.beta_2\n",
            "WARNING:tensorflow:Unresolved object in checkpoint: (root).optimizer.decay\n",
            "WARNING:tensorflow:Unresolved object in checkpoint: (root).optimizer.learning_rate\n",
            "WARNING:tensorflow:A checkpoint was restored (e.g. tf.train.Checkpoint.restore or tf.keras.Model.load_weights) but not all checkpointed values were used. See above for specific issues. Use expect_partial() on the load status object, e.g. tf.train.Checkpoint.restore(...).expect_partial(), to silence these warnings, or use assert_consumed() to make the check explicit. See https://www.tensorflow.org/guide/checkpoint#loading_mechanics for details.\n",
            "WARNING:tensorflow:Unresolved object in checkpoint: (root).optimizer.iter\n",
            "WARNING:tensorflow:Unresolved object in checkpoint: (root).optimizer.beta_1\n",
            "WARNING:tensorflow:Unresolved object in checkpoint: (root).optimizer.beta_2\n",
            "WARNING:tensorflow:Unresolved object in checkpoint: (root).optimizer.decay\n",
            "WARNING:tensorflow:Unresolved object in checkpoint: (root).optimizer.learning_rate\n",
            "WARNING:tensorflow:A checkpoint was restored (e.g. tf.train.Checkpoint.restore or tf.keras.Model.load_weights) but not all checkpointed values were used. See above for specific issues. Use expect_partial() on the load status object, e.g. tf.train.Checkpoint.restore(...).expect_partial(), to silence these warnings, or use assert_consumed() to make the check explicit. See https://www.tensorflow.org/guide/checkpoint#loading_mechanics for details.\n",
            "WARNING:tensorflow:Unresolved object in checkpoint: (root).optimizer.iter\n",
            "WARNING:tensorflow:Unresolved object in checkpoint: (root).optimizer.beta_1\n",
            "WARNING:tensorflow:Unresolved object in checkpoint: (root).optimizer.beta_2\n",
            "WARNING:tensorflow:Unresolved object in checkpoint: (root).optimizer.decay\n",
            "WARNING:tensorflow:Unresolved object in checkpoint: (root).optimizer.learning_rate\n",
            "WARNING:tensorflow:A checkpoint was restored (e.g. tf.train.Checkpoint.restore or tf.keras.Model.load_weights) but not all checkpointed values were used. See above for specific issues. Use expect_partial() on the load status object, e.g. tf.train.Checkpoint.restore(...).expect_partial(), to silence these warnings, or use assert_consumed() to make the check explicit. See https://www.tensorflow.org/guide/checkpoint#loading_mechanics for details.\n",
            "WARNING:tensorflow:Unresolved object in checkpoint: (root).optimizer.iter\n",
            "WARNING:tensorflow:Unresolved object in checkpoint: (root).optimizer.beta_1\n",
            "WARNING:tensorflow:Unresolved object in checkpoint: (root).optimizer.beta_2\n",
            "WARNING:tensorflow:Unresolved object in checkpoint: (root).optimizer.decay\n",
            "WARNING:tensorflow:Unresolved object in checkpoint: (root).optimizer.learning_rate\n",
            "WARNING:tensorflow:A checkpoint was restored (e.g. tf.train.Checkpoint.restore or tf.keras.Model.load_weights) but not all checkpointed values were used. See above for specific issues. Use expect_partial() on the load status object, e.g. tf.train.Checkpoint.restore(...).expect_partial(), to silence these warnings, or use assert_consumed() to make the check explicit. See https://www.tensorflow.org/guide/checkpoint#loading_mechanics for details.\n",
            "WARNING:tensorflow:Unresolved object in checkpoint: (root).optimizer.iter\n",
            "WARNING:tensorflow:Unresolved object in checkpoint: (root).optimizer.beta_1\n",
            "WARNING:tensorflow:Unresolved object in checkpoint: (root).optimizer.beta_2\n",
            "WARNING:tensorflow:Unresolved object in checkpoint: (root).optimizer.decay\n",
            "WARNING:tensorflow:Unresolved object in checkpoint: (root).optimizer.learning_rate\n",
            "WARNING:tensorflow:A checkpoint was restored (e.g. tf.train.Checkpoint.restore or tf.keras.Model.load_weights) but not all checkpointed values were used. See above for specific issues. Use expect_partial() on the load status object, e.g. tf.train.Checkpoint.restore(...).expect_partial(), to silence these warnings, or use assert_consumed() to make the check explicit. See https://www.tensorflow.org/guide/checkpoint#loading_mechanics for details.\n",
            "WARNING:tensorflow:Unresolved object in checkpoint: (root).optimizer.iter\n",
            "WARNING:tensorflow:Unresolved object in checkpoint: (root).optimizer.beta_1\n",
            "WARNING:tensorflow:Unresolved object in checkpoint: (root).optimizer.beta_2\n",
            "WARNING:tensorflow:Unresolved object in checkpoint: (root).optimizer.decay\n",
            "WARNING:tensorflow:Unresolved object in checkpoint: (root).optimizer.learning_rate\n",
            "WARNING:tensorflow:A checkpoint was restored (e.g. tf.train.Checkpoint.restore or tf.keras.Model.load_weights) but not all checkpointed values were used. See above for specific issues. Use expect_partial() on the load status object, e.g. tf.train.Checkpoint.restore(...).expect_partial(), to silence these warnings, or use assert_consumed() to make the check explicit. See https://www.tensorflow.org/guide/checkpoint#loading_mechanics for details.\n",
            "WARNING:tensorflow:Unresolved object in checkpoint: (root).optimizer.iter\n",
            "WARNING:tensorflow:Unresolved object in checkpoint: (root).optimizer.beta_1\n",
            "WARNING:tensorflow:Unresolved object in checkpoint: (root).optimizer.beta_2\n",
            "WARNING:tensorflow:Unresolved object in checkpoint: (root).optimizer.decay\n",
            "WARNING:tensorflow:Unresolved object in checkpoint: (root).optimizer.learning_rate\n",
            "WARNING:tensorflow:A checkpoint was restored (e.g. tf.train.Checkpoint.restore or tf.keras.Model.load_weights) but not all checkpointed values were used. See above for specific issues. Use expect_partial() on the load status object, e.g. tf.train.Checkpoint.restore(...).expect_partial(), to silence these warnings, or use assert_consumed() to make the check explicit. See https://www.tensorflow.org/guide/checkpoint#loading_mechanics for details.\n",
            "WARNING:tensorflow:Unresolved object in checkpoint: (root).optimizer.iter\n",
            "WARNING:tensorflow:Unresolved object in checkpoint: (root).optimizer.beta_1\n",
            "WARNING:tensorflow:Unresolved object in checkpoint: (root).optimizer.beta_2\n",
            "WARNING:tensorflow:Unresolved object in checkpoint: (root).optimizer.decay\n",
            "WARNING:tensorflow:Unresolved object in checkpoint: (root).optimizer.learning_rate\n",
            "WARNING:tensorflow:A checkpoint was restored (e.g. tf.train.Checkpoint.restore or tf.keras.Model.load_weights) but not all checkpointed values were used. See above for specific issues. Use expect_partial() on the load status object, e.g. tf.train.Checkpoint.restore(...).expect_partial(), to silence these warnings, or use assert_consumed() to make the check explicit. See https://www.tensorflow.org/guide/checkpoint#loading_mechanics for details.\n",
            "WARNING:tensorflow:Unresolved object in checkpoint: (root).optimizer.iter\n",
            "WARNING:tensorflow:Unresolved object in checkpoint: (root).optimizer.beta_1\n",
            "WARNING:tensorflow:Unresolved object in checkpoint: (root).optimizer.beta_2\n",
            "WARNING:tensorflow:Unresolved object in checkpoint: (root).optimizer.decay\n",
            "WARNING:tensorflow:Unresolved object in checkpoint: (root).optimizer.learning_rate\n",
            "WARNING:tensorflow:A checkpoint was restored (e.g. tf.train.Checkpoint.restore or tf.keras.Model.load_weights) but not all checkpointed values were used. See above for specific issues. Use expect_partial() on the load status object, e.g. tf.train.Checkpoint.restore(...).expect_partial(), to silence these warnings, or use assert_consumed() to make the check explicit. See https://www.tensorflow.org/guide/checkpoint#loading_mechanics for details.\n",
            "WARNING:tensorflow:Unresolved object in checkpoint: (root).optimizer.iter\n",
            "WARNING:tensorflow:Unresolved object in checkpoint: (root).optimizer.beta_1\n",
            "WARNING:tensorflow:Unresolved object in checkpoint: (root).optimizer.beta_2\n",
            "WARNING:tensorflow:Unresolved object in checkpoint: (root).optimizer.decay\n",
            "WARNING:tensorflow:Unresolved object in checkpoint: (root).optimizer.learning_rate\n",
            "WARNING:tensorflow:A checkpoint was restored (e.g. tf.train.Checkpoint.restore or tf.keras.Model.load_weights) but not all checkpointed values were used. See above for specific issues. Use expect_partial() on the load status object, e.g. tf.train.Checkpoint.restore(...).expect_partial(), to silence these warnings, or use assert_consumed() to make the check explicit. See https://www.tensorflow.org/guide/checkpoint#loading_mechanics for details.\n",
            "WARNING:tensorflow:Unresolved object in checkpoint: (root).optimizer.iter\n",
            "WARNING:tensorflow:Unresolved object in checkpoint: (root).optimizer.beta_1\n",
            "WARNING:tensorflow:Unresolved object in checkpoint: (root).optimizer.beta_2\n",
            "WARNING:tensorflow:Unresolved object in checkpoint: (root).optimizer.decay\n",
            "WARNING:tensorflow:Unresolved object in checkpoint: (root).optimizer.learning_rate\n",
            "WARNING:tensorflow:A checkpoint was restored (e.g. tf.train.Checkpoint.restore or tf.keras.Model.load_weights) but not all checkpointed values were used. See above for specific issues. Use expect_partial() on the load status object, e.g. tf.train.Checkpoint.restore(...).expect_partial(), to silence these warnings, or use assert_consumed() to make the check explicit. See https://www.tensorflow.org/guide/checkpoint#loading_mechanics for details.\n",
            "WARNING:tensorflow:Unresolved object in checkpoint: (root).optimizer.iter\n",
            "WARNING:tensorflow:Unresolved object in checkpoint: (root).optimizer.beta_1\n",
            "WARNING:tensorflow:Unresolved object in checkpoint: (root).optimizer.beta_2\n",
            "WARNING:tensorflow:Unresolved object in checkpoint: (root).optimizer.decay\n",
            "WARNING:tensorflow:Unresolved object in checkpoint: (root).optimizer.learning_rate\n",
            "WARNING:tensorflow:A checkpoint was restored (e.g. tf.train.Checkpoint.restore or tf.keras.Model.load_weights) but not all checkpointed values were used. See above for specific issues. Use expect_partial() on the load status object, e.g. tf.train.Checkpoint.restore(...).expect_partial(), to silence these warnings, or use assert_consumed() to make the check explicit. See https://www.tensorflow.org/guide/checkpoint#loading_mechanics for details.\n",
            "WARNING:tensorflow:Unresolved object in checkpoint: (root).optimizer.iter\n",
            "WARNING:tensorflow:Unresolved object in checkpoint: (root).optimizer.beta_1\n",
            "WARNING:tensorflow:Unresolved object in checkpoint: (root).optimizer.beta_2\n",
            "WARNING:tensorflow:Unresolved object in checkpoint: (root).optimizer.decay\n",
            "WARNING:tensorflow:Unresolved object in checkpoint: (root).optimizer.learning_rate\n",
            "WARNING:tensorflow:A checkpoint was restored (e.g. tf.train.Checkpoint.restore or tf.keras.Model.load_weights) but not all checkpointed values were used. See above for specific issues. Use expect_partial() on the load status object, e.g. tf.train.Checkpoint.restore(...).expect_partial(), to silence these warnings, or use assert_consumed() to make the check explicit. See https://www.tensorflow.org/guide/checkpoint#loading_mechanics for details.\n",
            "WARNING:tensorflow:Unresolved object in checkpoint: (root).optimizer.iter\n",
            "WARNING:tensorflow:Unresolved object in checkpoint: (root).optimizer.beta_1\n",
            "WARNING:tensorflow:Unresolved object in checkpoint: (root).optimizer.beta_2\n",
            "WARNING:tensorflow:Unresolved object in checkpoint: (root).optimizer.decay\n",
            "WARNING:tensorflow:Unresolved object in checkpoint: (root).optimizer.learning_rate\n",
            "WARNING:tensorflow:A checkpoint was restored (e.g. tf.train.Checkpoint.restore or tf.keras.Model.load_weights) but not all checkpointed values were used. See above for specific issues. Use expect_partial() on the load status object, e.g. tf.train.Checkpoint.restore(...).expect_partial(), to silence these warnings, or use assert_consumed() to make the check explicit. See https://www.tensorflow.org/guide/checkpoint#loading_mechanics for details.\n",
            "WARNING:tensorflow:Unresolved object in checkpoint: (root).optimizer.iter\n",
            "WARNING:tensorflow:Unresolved object in checkpoint: (root).optimizer.beta_1\n",
            "WARNING:tensorflow:Unresolved object in checkpoint: (root).optimizer.beta_2\n",
            "WARNING:tensorflow:Unresolved object in checkpoint: (root).optimizer.decay\n",
            "WARNING:tensorflow:Unresolved object in checkpoint: (root).optimizer.learning_rate\n",
            "WARNING:tensorflow:A checkpoint was restored (e.g. tf.train.Checkpoint.restore or tf.keras.Model.load_weights) but not all checkpointed values were used. See above for specific issues. Use expect_partial() on the load status object, e.g. tf.train.Checkpoint.restore(...).expect_partial(), to silence these warnings, or use assert_consumed() to make the check explicit. See https://www.tensorflow.org/guide/checkpoint#loading_mechanics for details.\n",
            "WARNING:tensorflow:Unresolved object in checkpoint: (root).optimizer.iter\n",
            "WARNING:tensorflow:Unresolved object in checkpoint: (root).optimizer.beta_1\n",
            "WARNING:tensorflow:Unresolved object in checkpoint: (root).optimizer.beta_2\n",
            "WARNING:tensorflow:Unresolved object in checkpoint: (root).optimizer.decay\n",
            "WARNING:tensorflow:Unresolved object in checkpoint: (root).optimizer.learning_rate\n",
            "WARNING:tensorflow:A checkpoint was restored (e.g. tf.train.Checkpoint.restore or tf.keras.Model.load_weights) but not all checkpointed values were used. See above for specific issues. Use expect_partial() on the load status object, e.g. tf.train.Checkpoint.restore(...).expect_partial(), to silence these warnings, or use assert_consumed() to make the check explicit. See https://www.tensorflow.org/guide/checkpoint#loading_mechanics for details.\n",
            "WARNING:tensorflow:Unresolved object in checkpoint: (root).optimizer.iter\n",
            "WARNING:tensorflow:Unresolved object in checkpoint: (root).optimizer.beta_1\n",
            "WARNING:tensorflow:Unresolved object in checkpoint: (root).optimizer.beta_2\n",
            "WARNING:tensorflow:Unresolved object in checkpoint: (root).optimizer.decay\n",
            "WARNING:tensorflow:Unresolved object in checkpoint: (root).optimizer.learning_rate\n",
            "WARNING:tensorflow:A checkpoint was restored (e.g. tf.train.Checkpoint.restore or tf.keras.Model.load_weights) but not all checkpointed values were used. See above for specific issues. Use expect_partial() on the load status object, e.g. tf.train.Checkpoint.restore(...).expect_partial(), to silence these warnings, or use assert_consumed() to make the check explicit. See https://www.tensorflow.org/guide/checkpoint#loading_mechanics for details.\n",
            "WARNING:tensorflow:Unresolved object in checkpoint: (root).optimizer.iter\n",
            "WARNING:tensorflow:Unresolved object in checkpoint: (root).optimizer.beta_1\n",
            "WARNING:tensorflow:Unresolved object in checkpoint: (root).optimizer.beta_2\n",
            "WARNING:tensorflow:Unresolved object in checkpoint: (root).optimizer.decay\n",
            "WARNING:tensorflow:Unresolved object in checkpoint: (root).optimizer.learning_rate\n",
            "WARNING:tensorflow:A checkpoint was restored (e.g. tf.train.Checkpoint.restore or tf.keras.Model.load_weights) but not all checkpointed values were used. See above for specific issues. Use expect_partial() on the load status object, e.g. tf.train.Checkpoint.restore(...).expect_partial(), to silence these warnings, or use assert_consumed() to make the check explicit. See https://www.tensorflow.org/guide/checkpoint#loading_mechanics for details.\n",
            "WARNING:tensorflow:Unresolved object in checkpoint: (root).optimizer.iter\n",
            "WARNING:tensorflow:Unresolved object in checkpoint: (root).optimizer.beta_1\n",
            "WARNING:tensorflow:Unresolved object in checkpoint: (root).optimizer.beta_2\n",
            "WARNING:tensorflow:Unresolved object in checkpoint: (root).optimizer.decay\n",
            "WARNING:tensorflow:Unresolved object in checkpoint: (root).optimizer.learning_rate\n",
            "WARNING:tensorflow:A checkpoint was restored (e.g. tf.train.Checkpoint.restore or tf.keras.Model.load_weights) but not all checkpointed values were used. See above for specific issues. Use expect_partial() on the load status object, e.g. tf.train.Checkpoint.restore(...).expect_partial(), to silence these warnings, or use assert_consumed() to make the check explicit. See https://www.tensorflow.org/guide/checkpoint#loading_mechanics for details.\n",
            "WARNING:tensorflow:Unresolved object in checkpoint: (root).optimizer.iter\n",
            "WARNING:tensorflow:Unresolved object in checkpoint: (root).optimizer.beta_1\n",
            "WARNING:tensorflow:Unresolved object in checkpoint: (root).optimizer.beta_2\n",
            "WARNING:tensorflow:Unresolved object in checkpoint: (root).optimizer.decay\n",
            "WARNING:tensorflow:Unresolved object in checkpoint: (root).optimizer.learning_rate\n",
            "WARNING:tensorflow:A checkpoint was restored (e.g. tf.train.Checkpoint.restore or tf.keras.Model.load_weights) but not all checkpointed values were used. See above for specific issues. Use expect_partial() on the load status object, e.g. tf.train.Checkpoint.restore(...).expect_partial(), to silence these warnings, or use assert_consumed() to make the check explicit. See https://www.tensorflow.org/guide/checkpoint#loading_mechanics for details.\n",
            "WARNING:tensorflow:Unresolved object in checkpoint: (root).optimizer.iter\n",
            "WARNING:tensorflow:Unresolved object in checkpoint: (root).optimizer.beta_1\n",
            "WARNING:tensorflow:Unresolved object in checkpoint: (root).optimizer.beta_2\n",
            "WARNING:tensorflow:Unresolved object in checkpoint: (root).optimizer.decay\n",
            "WARNING:tensorflow:Unresolved object in checkpoint: (root).optimizer.learning_rate\n",
            "WARNING:tensorflow:A checkpoint was restored (e.g. tf.train.Checkpoint.restore or tf.keras.Model.load_weights) but not all checkpointed values were used. See above for specific issues. Use expect_partial() on the load status object, e.g. tf.train.Checkpoint.restore(...).expect_partial(), to silence these warnings, or use assert_consumed() to make the check explicit. See https://www.tensorflow.org/guide/checkpoint#loading_mechanics for details.\n",
            "WARNING:tensorflow:Unresolved object in checkpoint: (root).optimizer.iter\n",
            "WARNING:tensorflow:Unresolved object in checkpoint: (root).optimizer.beta_1\n",
            "WARNING:tensorflow:Unresolved object in checkpoint: (root).optimizer.beta_2\n",
            "WARNING:tensorflow:Unresolved object in checkpoint: (root).optimizer.decay\n",
            "WARNING:tensorflow:Unresolved object in checkpoint: (root).optimizer.learning_rate\n",
            "WARNING:tensorflow:A checkpoint was restored (e.g. tf.train.Checkpoint.restore or tf.keras.Model.load_weights) but not all checkpointed values were used. See above for specific issues. Use expect_partial() on the load status object, e.g. tf.train.Checkpoint.restore(...).expect_partial(), to silence these warnings, or use assert_consumed() to make the check explicit. See https://www.tensorflow.org/guide/checkpoint#loading_mechanics for details.\n",
            "WARNING:tensorflow:Unresolved object in checkpoint: (root).optimizer.iter\n",
            "WARNING:tensorflow:Unresolved object in checkpoint: (root).optimizer.beta_1\n",
            "WARNING:tensorflow:Unresolved object in checkpoint: (root).optimizer.beta_2\n",
            "WARNING:tensorflow:Unresolved object in checkpoint: (root).optimizer.decay\n",
            "WARNING:tensorflow:Unresolved object in checkpoint: (root).optimizer.learning_rate\n",
            "WARNING:tensorflow:A checkpoint was restored (e.g. tf.train.Checkpoint.restore or tf.keras.Model.load_weights) but not all checkpointed values were used. See above for specific issues. Use expect_partial() on the load status object, e.g. tf.train.Checkpoint.restore(...).expect_partial(), to silence these warnings, or use assert_consumed() to make the check explicit. See https://www.tensorflow.org/guide/checkpoint#loading_mechanics for details.\n",
            "WARNING:tensorflow:Unresolved object in checkpoint: (root).optimizer.iter\n",
            "WARNING:tensorflow:Unresolved object in checkpoint: (root).optimizer.beta_1\n",
            "WARNING:tensorflow:Unresolved object in checkpoint: (root).optimizer.beta_2\n",
            "WARNING:tensorflow:Unresolved object in checkpoint: (root).optimizer.decay\n",
            "WARNING:tensorflow:Unresolved object in checkpoint: (root).optimizer.learning_rate\n",
            "WARNING:tensorflow:A checkpoint was restored (e.g. tf.train.Checkpoint.restore or tf.keras.Model.load_weights) but not all checkpointed values were used. See above for specific issues. Use expect_partial() on the load status object, e.g. tf.train.Checkpoint.restore(...).expect_partial(), to silence these warnings, or use assert_consumed() to make the check explicit. See https://www.tensorflow.org/guide/checkpoint#loading_mechanics for details.\n",
            "WARNING:tensorflow:Unresolved object in checkpoint: (root).optimizer.iter\n",
            "WARNING:tensorflow:Unresolved object in checkpoint: (root).optimizer.beta_1\n",
            "WARNING:tensorflow:Unresolved object in checkpoint: (root).optimizer.beta_2\n",
            "WARNING:tensorflow:Unresolved object in checkpoint: (root).optimizer.decay\n",
            "WARNING:tensorflow:Unresolved object in checkpoint: (root).optimizer.learning_rate\n",
            "WARNING:tensorflow:A checkpoint was restored (e.g. tf.train.Checkpoint.restore or tf.keras.Model.load_weights) but not all checkpointed values were used. See above for specific issues. Use expect_partial() on the load status object, e.g. tf.train.Checkpoint.restore(...).expect_partial(), to silence these warnings, or use assert_consumed() to make the check explicit. See https://www.tensorflow.org/guide/checkpoint#loading_mechanics for details.\n",
            "WARNING:tensorflow:Unresolved object in checkpoint: (root).optimizer.iter\n",
            "WARNING:tensorflow:Unresolved object in checkpoint: (root).optimizer.beta_1\n",
            "WARNING:tensorflow:Unresolved object in checkpoint: (root).optimizer.beta_2\n",
            "WARNING:tensorflow:Unresolved object in checkpoint: (root).optimizer.decay\n",
            "WARNING:tensorflow:Unresolved object in checkpoint: (root).optimizer.learning_rate\n",
            "WARNING:tensorflow:A checkpoint was restored (e.g. tf.train.Checkpoint.restore or tf.keras.Model.load_weights) but not all checkpointed values were used. See above for specific issues. Use expect_partial() on the load status object, e.g. tf.train.Checkpoint.restore(...).expect_partial(), to silence these warnings, or use assert_consumed() to make the check explicit. See https://www.tensorflow.org/guide/checkpoint#loading_mechanics for details.\n",
            "WARNING:tensorflow:Unresolved object in checkpoint: (root).optimizer.iter\n",
            "WARNING:tensorflow:Unresolved object in checkpoint: (root).optimizer.beta_1\n",
            "WARNING:tensorflow:Unresolved object in checkpoint: (root).optimizer.beta_2\n",
            "WARNING:tensorflow:Unresolved object in checkpoint: (root).optimizer.decay\n",
            "WARNING:tensorflow:Unresolved object in checkpoint: (root).optimizer.learning_rate\n",
            "WARNING:tensorflow:A checkpoint was restored (e.g. tf.train.Checkpoint.restore or tf.keras.Model.load_weights) but not all checkpointed values were used. See above for specific issues. Use expect_partial() on the load status object, e.g. tf.train.Checkpoint.restore(...).expect_partial(), to silence these warnings, or use assert_consumed() to make the check explicit. See https://www.tensorflow.org/guide/checkpoint#loading_mechanics for details.\n",
            "WARNING:tensorflow:Unresolved object in checkpoint: (root).optimizer.iter\n",
            "WARNING:tensorflow:Unresolved object in checkpoint: (root).optimizer.beta_1\n",
            "WARNING:tensorflow:Unresolved object in checkpoint: (root).optimizer.beta_2\n",
            "WARNING:tensorflow:Unresolved object in checkpoint: (root).optimizer.decay\n",
            "WARNING:tensorflow:Unresolved object in checkpoint: (root).optimizer.learning_rate\n",
            "WARNING:tensorflow:A checkpoint was restored (e.g. tf.train.Checkpoint.restore or tf.keras.Model.load_weights) but not all checkpointed values were used. See above for specific issues. Use expect_partial() on the load status object, e.g. tf.train.Checkpoint.restore(...).expect_partial(), to silence these warnings, or use assert_consumed() to make the check explicit. See https://www.tensorflow.org/guide/checkpoint#loading_mechanics for details.\n",
            "WARNING:tensorflow:Unresolved object in checkpoint: (root).optimizer.iter\n",
            "WARNING:tensorflow:Unresolved object in checkpoint: (root).optimizer.beta_1\n",
            "WARNING:tensorflow:Unresolved object in checkpoint: (root).optimizer.beta_2\n",
            "WARNING:tensorflow:Unresolved object in checkpoint: (root).optimizer.decay\n",
            "WARNING:tensorflow:Unresolved object in checkpoint: (root).optimizer.learning_rate\n",
            "WARNING:tensorflow:A checkpoint was restored (e.g. tf.train.Checkpoint.restore or tf.keras.Model.load_weights) but not all checkpointed values were used. See above for specific issues. Use expect_partial() on the load status object, e.g. tf.train.Checkpoint.restore(...).expect_partial(), to silence these warnings, or use assert_consumed() to make the check explicit. See https://www.tensorflow.org/guide/checkpoint#loading_mechanics for details.\n",
            "WARNING:tensorflow:Unresolved object in checkpoint: (root).optimizer.iter\n",
            "WARNING:tensorflow:Unresolved object in checkpoint: (root).optimizer.beta_1\n",
            "WARNING:tensorflow:Unresolved object in checkpoint: (root).optimizer.beta_2\n",
            "WARNING:tensorflow:Unresolved object in checkpoint: (root).optimizer.decay\n",
            "WARNING:tensorflow:Unresolved object in checkpoint: (root).optimizer.learning_rate\n",
            "WARNING:tensorflow:A checkpoint was restored (e.g. tf.train.Checkpoint.restore or tf.keras.Model.load_weights) but not all checkpointed values were used. See above for specific issues. Use expect_partial() on the load status object, e.g. tf.train.Checkpoint.restore(...).expect_partial(), to silence these warnings, or use assert_consumed() to make the check explicit. See https://www.tensorflow.org/guide/checkpoint#loading_mechanics for details.\n",
            "WARNING:tensorflow:Unresolved object in checkpoint: (root).optimizer.iter\n",
            "WARNING:tensorflow:Unresolved object in checkpoint: (root).optimizer.beta_1\n",
            "WARNING:tensorflow:Unresolved object in checkpoint: (root).optimizer.beta_2\n",
            "WARNING:tensorflow:Unresolved object in checkpoint: (root).optimizer.decay\n",
            "WARNING:tensorflow:Unresolved object in checkpoint: (root).optimizer.learning_rate\n",
            "WARNING:tensorflow:A checkpoint was restored (e.g. tf.train.Checkpoint.restore or tf.keras.Model.load_weights) but not all checkpointed values were used. See above for specific issues. Use expect_partial() on the load status object, e.g. tf.train.Checkpoint.restore(...).expect_partial(), to silence these warnings, or use assert_consumed() to make the check explicit. See https://www.tensorflow.org/guide/checkpoint#loading_mechanics for details.\n",
            "WARNING:tensorflow:Unresolved object in checkpoint: (root).optimizer.iter\n",
            "WARNING:tensorflow:Unresolved object in checkpoint: (root).optimizer.beta_1\n",
            "WARNING:tensorflow:Unresolved object in checkpoint: (root).optimizer.beta_2\n",
            "WARNING:tensorflow:Unresolved object in checkpoint: (root).optimizer.decay\n",
            "WARNING:tensorflow:Unresolved object in checkpoint: (root).optimizer.learning_rate\n",
            "WARNING:tensorflow:A checkpoint was restored (e.g. tf.train.Checkpoint.restore or tf.keras.Model.load_weights) but not all checkpointed values were used. See above for specific issues. Use expect_partial() on the load status object, e.g. tf.train.Checkpoint.restore(...).expect_partial(), to silence these warnings, or use assert_consumed() to make the check explicit. See https://www.tensorflow.org/guide/checkpoint#loading_mechanics for details.\n",
            "WARNING:tensorflow:Unresolved object in checkpoint: (root).optimizer.iter\n",
            "WARNING:tensorflow:Unresolved object in checkpoint: (root).optimizer.beta_1\n",
            "WARNING:tensorflow:Unresolved object in checkpoint: (root).optimizer.beta_2\n",
            "WARNING:tensorflow:Unresolved object in checkpoint: (root).optimizer.decay\n",
            "WARNING:tensorflow:Unresolved object in checkpoint: (root).optimizer.learning_rate\n",
            "WARNING:tensorflow:A checkpoint was restored (e.g. tf.train.Checkpoint.restore or tf.keras.Model.load_weights) but not all checkpointed values were used. See above for specific issues. Use expect_partial() on the load status object, e.g. tf.train.Checkpoint.restore(...).expect_partial(), to silence these warnings, or use assert_consumed() to make the check explicit. See https://www.tensorflow.org/guide/checkpoint#loading_mechanics for details.\n",
            "WARNING:tensorflow:Unresolved object in checkpoint: (root).optimizer.iter\n",
            "WARNING:tensorflow:Unresolved object in checkpoint: (root).optimizer.beta_1\n",
            "WARNING:tensorflow:Unresolved object in checkpoint: (root).optimizer.beta_2\n",
            "WARNING:tensorflow:Unresolved object in checkpoint: (root).optimizer.decay\n",
            "WARNING:tensorflow:Unresolved object in checkpoint: (root).optimizer.learning_rate\n",
            "WARNING:tensorflow:A checkpoint was restored (e.g. tf.train.Checkpoint.restore or tf.keras.Model.load_weights) but not all checkpointed values were used. See above for specific issues. Use expect_partial() on the load status object, e.g. tf.train.Checkpoint.restore(...).expect_partial(), to silence these warnings, or use assert_consumed() to make the check explicit. See https://www.tensorflow.org/guide/checkpoint#loading_mechanics for details.\n",
            "WARNING:tensorflow:Unresolved object in checkpoint: (root).optimizer.iter\n",
            "WARNING:tensorflow:Unresolved object in checkpoint: (root).optimizer.beta_1\n",
            "WARNING:tensorflow:Unresolved object in checkpoint: (root).optimizer.beta_2\n",
            "WARNING:tensorflow:Unresolved object in checkpoint: (root).optimizer.decay\n",
            "WARNING:tensorflow:Unresolved object in checkpoint: (root).optimizer.learning_rate\n",
            "WARNING:tensorflow:A checkpoint was restored (e.g. tf.train.Checkpoint.restore or tf.keras.Model.load_weights) but not all checkpointed values were used. See above for specific issues. Use expect_partial() on the load status object, e.g. tf.train.Checkpoint.restore(...).expect_partial(), to silence these warnings, or use assert_consumed() to make the check explicit. See https://www.tensorflow.org/guide/checkpoint#loading_mechanics for details.\n",
            "WARNING:tensorflow:Unresolved object in checkpoint: (root).optimizer.iter\n",
            "WARNING:tensorflow:Unresolved object in checkpoint: (root).optimizer.beta_1\n",
            "WARNING:tensorflow:Unresolved object in checkpoint: (root).optimizer.beta_2\n",
            "WARNING:tensorflow:Unresolved object in checkpoint: (root).optimizer.decay\n",
            "WARNING:tensorflow:Unresolved object in checkpoint: (root).optimizer.learning_rate\n",
            "WARNING:tensorflow:A checkpoint was restored (e.g. tf.train.Checkpoint.restore or tf.keras.Model.load_weights) but not all checkpointed values were used. See above for specific issues. Use expect_partial() on the load status object, e.g. tf.train.Checkpoint.restore(...).expect_partial(), to silence these warnings, or use assert_consumed() to make the check explicit. See https://www.tensorflow.org/guide/checkpoint#loading_mechanics for details.\n",
            "WARNING:tensorflow:Unresolved object in checkpoint: (root).optimizer.iter\n",
            "WARNING:tensorflow:Unresolved object in checkpoint: (root).optimizer.beta_1\n",
            "WARNING:tensorflow:Unresolved object in checkpoint: (root).optimizer.beta_2\n",
            "WARNING:tensorflow:Unresolved object in checkpoint: (root).optimizer.decay\n",
            "WARNING:tensorflow:Unresolved object in checkpoint: (root).optimizer.learning_rate\n",
            "WARNING:tensorflow:A checkpoint was restored (e.g. tf.train.Checkpoint.restore or tf.keras.Model.load_weights) but not all checkpointed values were used. See above for specific issues. Use expect_partial() on the load status object, e.g. tf.train.Checkpoint.restore(...).expect_partial(), to silence these warnings, or use assert_consumed() to make the check explicit. See https://www.tensorflow.org/guide/checkpoint#loading_mechanics for details.\n",
            "WARNING:tensorflow:Unresolved object in checkpoint: (root).optimizer.iter\n",
            "WARNING:tensorflow:Unresolved object in checkpoint: (root).optimizer.beta_1\n",
            "WARNING:tensorflow:Unresolved object in checkpoint: (root).optimizer.beta_2\n",
            "WARNING:tensorflow:Unresolved object in checkpoint: (root).optimizer.decay\n",
            "WARNING:tensorflow:Unresolved object in checkpoint: (root).optimizer.learning_rate\n",
            "WARNING:tensorflow:A checkpoint was restored (e.g. tf.train.Checkpoint.restore or tf.keras.Model.load_weights) but not all checkpointed values were used. See above for specific issues. Use expect_partial() on the load status object, e.g. tf.train.Checkpoint.restore(...).expect_partial(), to silence these warnings, or use assert_consumed() to make the check explicit. See https://www.tensorflow.org/guide/checkpoint#loading_mechanics for details.\n",
            "WARNING:tensorflow:Unresolved object in checkpoint: (root).optimizer.iter\n",
            "WARNING:tensorflow:Unresolved object in checkpoint: (root).optimizer.beta_1\n",
            "WARNING:tensorflow:Unresolved object in checkpoint: (root).optimizer.beta_2\n",
            "WARNING:tensorflow:Unresolved object in checkpoint: (root).optimizer.decay\n",
            "WARNING:tensorflow:Unresolved object in checkpoint: (root).optimizer.learning_rate\n",
            "WARNING:tensorflow:A checkpoint was restored (e.g. tf.train.Checkpoint.restore or tf.keras.Model.load_weights) but not all checkpointed values were used. See above for specific issues. Use expect_partial() on the load status object, e.g. tf.train.Checkpoint.restore(...).expect_partial(), to silence these warnings, or use assert_consumed() to make the check explicit. See https://www.tensorflow.org/guide/checkpoint#loading_mechanics for details.\n",
            "WARNING:tensorflow:Unresolved object in checkpoint: (root).optimizer.iter\n",
            "WARNING:tensorflow:Unresolved object in checkpoint: (root).optimizer.beta_1\n",
            "WARNING:tensorflow:Unresolved object in checkpoint: (root).optimizer.beta_2\n",
            "WARNING:tensorflow:Unresolved object in checkpoint: (root).optimizer.decay\n",
            "WARNING:tensorflow:Unresolved object in checkpoint: (root).optimizer.learning_rate\n",
            "WARNING:tensorflow:A checkpoint was restored (e.g. tf.train.Checkpoint.restore or tf.keras.Model.load_weights) but not all checkpointed values were used. See above for specific issues. Use expect_partial() on the load status object, e.g. tf.train.Checkpoint.restore(...).expect_partial(), to silence these warnings, or use assert_consumed() to make the check explicit. See https://www.tensorflow.org/guide/checkpoint#loading_mechanics for details.\n",
            "WARNING:tensorflow:Unresolved object in checkpoint: (root).optimizer.iter\n",
            "WARNING:tensorflow:Unresolved object in checkpoint: (root).optimizer.beta_1\n",
            "WARNING:tensorflow:Unresolved object in checkpoint: (root).optimizer.beta_2\n",
            "WARNING:tensorflow:Unresolved object in checkpoint: (root).optimizer.decay\n",
            "WARNING:tensorflow:Unresolved object in checkpoint: (root).optimizer.learning_rate\n",
            "WARNING:tensorflow:A checkpoint was restored (e.g. tf.train.Checkpoint.restore or tf.keras.Model.load_weights) but not all checkpointed values were used. See above for specific issues. Use expect_partial() on the load status object, e.g. tf.train.Checkpoint.restore(...).expect_partial(), to silence these warnings, or use assert_consumed() to make the check explicit. See https://www.tensorflow.org/guide/checkpoint#loading_mechanics for details.\n",
            "WARNING:tensorflow:Unresolved object in checkpoint: (root).optimizer.iter\n",
            "WARNING:tensorflow:Unresolved object in checkpoint: (root).optimizer.beta_1\n",
            "WARNING:tensorflow:Unresolved object in checkpoint: (root).optimizer.beta_2\n",
            "WARNING:tensorflow:Unresolved object in checkpoint: (root).optimizer.decay\n",
            "WARNING:tensorflow:Unresolved object in checkpoint: (root).optimizer.learning_rate\n",
            "WARNING:tensorflow:A checkpoint was restored (e.g. tf.train.Checkpoint.restore or tf.keras.Model.load_weights) but not all checkpointed values were used. See above for specific issues. Use expect_partial() on the load status object, e.g. tf.train.Checkpoint.restore(...).expect_partial(), to silence these warnings, or use assert_consumed() to make the check explicit. See https://www.tensorflow.org/guide/checkpoint#loading_mechanics for details.\n",
            "WARNING:tensorflow:Unresolved object in checkpoint: (root).optimizer.iter\n",
            "WARNING:tensorflow:Unresolved object in checkpoint: (root).optimizer.beta_1\n",
            "WARNING:tensorflow:Unresolved object in checkpoint: (root).optimizer.beta_2\n",
            "WARNING:tensorflow:Unresolved object in checkpoint: (root).optimizer.decay\n",
            "WARNING:tensorflow:Unresolved object in checkpoint: (root).optimizer.learning_rate\n",
            "WARNING:tensorflow:A checkpoint was restored (e.g. tf.train.Checkpoint.restore or tf.keras.Model.load_weights) but not all checkpointed values were used. See above for specific issues. Use expect_partial() on the load status object, e.g. tf.train.Checkpoint.restore(...).expect_partial(), to silence these warnings, or use assert_consumed() to make the check explicit. See https://www.tensorflow.org/guide/checkpoint#loading_mechanics for details.\n",
            "WARNING:tensorflow:Unresolved object in checkpoint: (root).optimizer.iter\n",
            "WARNING:tensorflow:Unresolved object in checkpoint: (root).optimizer.beta_1\n",
            "WARNING:tensorflow:Unresolved object in checkpoint: (root).optimizer.beta_2\n",
            "WARNING:tensorflow:Unresolved object in checkpoint: (root).optimizer.decay\n",
            "WARNING:tensorflow:Unresolved object in checkpoint: (root).optimizer.learning_rate\n",
            "WARNING:tensorflow:A checkpoint was restored (e.g. tf.train.Checkpoint.restore or tf.keras.Model.load_weights) but not all checkpointed values were used. See above for specific issues. Use expect_partial() on the load status object, e.g. tf.train.Checkpoint.restore(...).expect_partial(), to silence these warnings, or use assert_consumed() to make the check explicit. See https://www.tensorflow.org/guide/checkpoint#loading_mechanics for details.\n",
            "WARNING:tensorflow:Unresolved object in checkpoint: (root).optimizer.iter\n",
            "WARNING:tensorflow:Unresolved object in checkpoint: (root).optimizer.beta_1\n",
            "WARNING:tensorflow:Unresolved object in checkpoint: (root).optimizer.beta_2\n",
            "WARNING:tensorflow:Unresolved object in checkpoint: (root).optimizer.decay\n",
            "WARNING:tensorflow:Unresolved object in checkpoint: (root).optimizer.learning_rate\n",
            "WARNING:tensorflow:A checkpoint was restored (e.g. tf.train.Checkpoint.restore or tf.keras.Model.load_weights) but not all checkpointed values were used. See above for specific issues. Use expect_partial() on the load status object, e.g. tf.train.Checkpoint.restore(...).expect_partial(), to silence these warnings, or use assert_consumed() to make the check explicit. See https://www.tensorflow.org/guide/checkpoint#loading_mechanics for details.\n",
            "WARNING:tensorflow:Unresolved object in checkpoint: (root).optimizer.iter\n",
            "WARNING:tensorflow:Unresolved object in checkpoint: (root).optimizer.beta_1\n",
            "WARNING:tensorflow:Unresolved object in checkpoint: (root).optimizer.beta_2\n",
            "WARNING:tensorflow:Unresolved object in checkpoint: (root).optimizer.decay\n",
            "WARNING:tensorflow:Unresolved object in checkpoint: (root).optimizer.learning_rate\n",
            "WARNING:tensorflow:A checkpoint was restored (e.g. tf.train.Checkpoint.restore or tf.keras.Model.load_weights) but not all checkpointed values were used. See above for specific issues. Use expect_partial() on the load status object, e.g. tf.train.Checkpoint.restore(...).expect_partial(), to silence these warnings, or use assert_consumed() to make the check explicit. See https://www.tensorflow.org/guide/checkpoint#loading_mechanics for details.\n",
            "WARNING:tensorflow:Unresolved object in checkpoint: (root).optimizer.iter\n",
            "WARNING:tensorflow:Unresolved object in checkpoint: (root).optimizer.beta_1\n",
            "WARNING:tensorflow:Unresolved object in checkpoint: (root).optimizer.beta_2\n",
            "WARNING:tensorflow:Unresolved object in checkpoint: (root).optimizer.decay\n",
            "WARNING:tensorflow:Unresolved object in checkpoint: (root).optimizer.learning_rate\n",
            "WARNING:tensorflow:A checkpoint was restored (e.g. tf.train.Checkpoint.restore or tf.keras.Model.load_weights) but not all checkpointed values were used. See above for specific issues. Use expect_partial() on the load status object, e.g. tf.train.Checkpoint.restore(...).expect_partial(), to silence these warnings, or use assert_consumed() to make the check explicit. See https://www.tensorflow.org/guide/checkpoint#loading_mechanics for details.\n",
            "WARNING:tensorflow:Unresolved object in checkpoint: (root).optimizer.iter\n",
            "WARNING:tensorflow:Unresolved object in checkpoint: (root).optimizer.beta_1\n",
            "WARNING:tensorflow:Unresolved object in checkpoint: (root).optimizer.beta_2\n",
            "WARNING:tensorflow:Unresolved object in checkpoint: (root).optimizer.decay\n",
            "WARNING:tensorflow:Unresolved object in checkpoint: (root).optimizer.learning_rate\n",
            "WARNING:tensorflow:A checkpoint was restored (e.g. tf.train.Checkpoint.restore or tf.keras.Model.load_weights) but not all checkpointed values were used. See above for specific issues. Use expect_partial() on the load status object, e.g. tf.train.Checkpoint.restore(...).expect_partial(), to silence these warnings, or use assert_consumed() to make the check explicit. See https://www.tensorflow.org/guide/checkpoint#loading_mechanics for details.\n",
            "WARNING:tensorflow:Unresolved object in checkpoint: (root).optimizer.iter\n",
            "WARNING:tensorflow:Unresolved object in checkpoint: (root).optimizer.beta_1\n",
            "WARNING:tensorflow:Unresolved object in checkpoint: (root).optimizer.beta_2\n",
            "WARNING:tensorflow:Unresolved object in checkpoint: (root).optimizer.decay\n",
            "WARNING:tensorflow:Unresolved object in checkpoint: (root).optimizer.learning_rate\n",
            "WARNING:tensorflow:A checkpoint was restored (e.g. tf.train.Checkpoint.restore or tf.keras.Model.load_weights) but not all checkpointed values were used. See above for specific issues. Use expect_partial() on the load status object, e.g. tf.train.Checkpoint.restore(...).expect_partial(), to silence these warnings, or use assert_consumed() to make the check explicit. See https://www.tensorflow.org/guide/checkpoint#loading_mechanics for details.\n",
            "WARNING:tensorflow:Unresolved object in checkpoint: (root).optimizer.iter\n",
            "WARNING:tensorflow:Unresolved object in checkpoint: (root).optimizer.beta_1\n",
            "WARNING:tensorflow:Unresolved object in checkpoint: (root).optimizer.beta_2\n",
            "WARNING:tensorflow:Unresolved object in checkpoint: (root).optimizer.decay\n",
            "WARNING:tensorflow:Unresolved object in checkpoint: (root).optimizer.learning_rate\n",
            "WARNING:tensorflow:A checkpoint was restored (e.g. tf.train.Checkpoint.restore or tf.keras.Model.load_weights) but not all checkpointed values were used. See above for specific issues. Use expect_partial() on the load status object, e.g. tf.train.Checkpoint.restore(...).expect_partial(), to silence these warnings, or use assert_consumed() to make the check explicit. See https://www.tensorflow.org/guide/checkpoint#loading_mechanics for details.\n",
            "WARNING:tensorflow:Unresolved object in checkpoint: (root).optimizer.iter\n",
            "WARNING:tensorflow:Unresolved object in checkpoint: (root).optimizer.beta_1\n",
            "WARNING:tensorflow:Unresolved object in checkpoint: (root).optimizer.beta_2\n",
            "WARNING:tensorflow:Unresolved object in checkpoint: (root).optimizer.decay\n",
            "WARNING:tensorflow:Unresolved object in checkpoint: (root).optimizer.learning_rate\n",
            "WARNING:tensorflow:A checkpoint was restored (e.g. tf.train.Checkpoint.restore or tf.keras.Model.load_weights) but not all checkpointed values were used. See above for specific issues. Use expect_partial() on the load status object, e.g. tf.train.Checkpoint.restore(...).expect_partial(), to silence these warnings, or use assert_consumed() to make the check explicit. See https://www.tensorflow.org/guide/checkpoint#loading_mechanics for details.\n",
            "WARNING:tensorflow:Unresolved object in checkpoint: (root).optimizer.iter\n",
            "WARNING:tensorflow:Unresolved object in checkpoint: (root).optimizer.beta_1\n",
            "WARNING:tensorflow:Unresolved object in checkpoint: (root).optimizer.beta_2\n",
            "WARNING:tensorflow:Unresolved object in checkpoint: (root).optimizer.decay\n",
            "WARNING:tensorflow:Unresolved object in checkpoint: (root).optimizer.learning_rate\n",
            "WARNING:tensorflow:A checkpoint was restored (e.g. tf.train.Checkpoint.restore or tf.keras.Model.load_weights) but not all checkpointed values were used. See above for specific issues. Use expect_partial() on the load status object, e.g. tf.train.Checkpoint.restore(...).expect_partial(), to silence these warnings, or use assert_consumed() to make the check explicit. See https://www.tensorflow.org/guide/checkpoint#loading_mechanics for details.\n",
            "WARNING:tensorflow:Unresolved object in checkpoint: (root).optimizer.iter\n",
            "WARNING:tensorflow:Unresolved object in checkpoint: (root).optimizer.beta_1\n",
            "WARNING:tensorflow:Unresolved object in checkpoint: (root).optimizer.beta_2\n",
            "WARNING:tensorflow:Unresolved object in checkpoint: (root).optimizer.decay\n",
            "WARNING:tensorflow:Unresolved object in checkpoint: (root).optimizer.learning_rate\n",
            "WARNING:tensorflow:A checkpoint was restored (e.g. tf.train.Checkpoint.restore or tf.keras.Model.load_weights) but not all checkpointed values were used. See above for specific issues. Use expect_partial() on the load status object, e.g. tf.train.Checkpoint.restore(...).expect_partial(), to silence these warnings, or use assert_consumed() to make the check explicit. See https://www.tensorflow.org/guide/checkpoint#loading_mechanics for details.\n",
            "WARNING:tensorflow:Unresolved object in checkpoint: (root).optimizer.iter\n",
            "WARNING:tensorflow:Unresolved object in checkpoint: (root).optimizer.beta_1\n",
            "WARNING:tensorflow:Unresolved object in checkpoint: (root).optimizer.beta_2\n",
            "WARNING:tensorflow:Unresolved object in checkpoint: (root).optimizer.decay\n",
            "WARNING:tensorflow:Unresolved object in checkpoint: (root).optimizer.learning_rate\n",
            "WARNING:tensorflow:A checkpoint was restored (e.g. tf.train.Checkpoint.restore or tf.keras.Model.load_weights) but not all checkpointed values were used. See above for specific issues. Use expect_partial() on the load status object, e.g. tf.train.Checkpoint.restore(...).expect_partial(), to silence these warnings, or use assert_consumed() to make the check explicit. See https://www.tensorflow.org/guide/checkpoint#loading_mechanics for details.\n",
            "WARNING:tensorflow:Unresolved object in checkpoint: (root).optimizer.iter\n",
            "WARNING:tensorflow:Unresolved object in checkpoint: (root).optimizer.beta_1\n",
            "WARNING:tensorflow:Unresolved object in checkpoint: (root).optimizer.beta_2\n",
            "WARNING:tensorflow:Unresolved object in checkpoint: (root).optimizer.decay\n",
            "WARNING:tensorflow:Unresolved object in checkpoint: (root).optimizer.learning_rate\n",
            "WARNING:tensorflow:A checkpoint was restored (e.g. tf.train.Checkpoint.restore or tf.keras.Model.load_weights) but not all checkpointed values were used. See above for specific issues. Use expect_partial() on the load status object, e.g. tf.train.Checkpoint.restore(...).expect_partial(), to silence these warnings, or use assert_consumed() to make the check explicit. See https://www.tensorflow.org/guide/checkpoint#loading_mechanics for details.\n",
            "WARNING:tensorflow:Unresolved object in checkpoint: (root).optimizer.iter\n",
            "WARNING:tensorflow:Unresolved object in checkpoint: (root).optimizer.beta_1\n",
            "WARNING:tensorflow:Unresolved object in checkpoint: (root).optimizer.beta_2\n",
            "WARNING:tensorflow:Unresolved object in checkpoint: (root).optimizer.decay\n",
            "WARNING:tensorflow:Unresolved object in checkpoint: (root).optimizer.learning_rate\n",
            "WARNING:tensorflow:A checkpoint was restored (e.g. tf.train.Checkpoint.restore or tf.keras.Model.load_weights) but not all checkpointed values were used. See above for specific issues. Use expect_partial() on the load status object, e.g. tf.train.Checkpoint.restore(...).expect_partial(), to silence these warnings, or use assert_consumed() to make the check explicit. See https://www.tensorflow.org/guide/checkpoint#loading_mechanics for details.\n",
            "WARNING:tensorflow:Unresolved object in checkpoint: (root).optimizer.iter\n",
            "WARNING:tensorflow:Unresolved object in checkpoint: (root).optimizer.beta_1\n",
            "WARNING:tensorflow:Unresolved object in checkpoint: (root).optimizer.beta_2\n",
            "WARNING:tensorflow:Unresolved object in checkpoint: (root).optimizer.decay\n",
            "WARNING:tensorflow:Unresolved object in checkpoint: (root).optimizer.learning_rate\n",
            "WARNING:tensorflow:A checkpoint was restored (e.g. tf.train.Checkpoint.restore or tf.keras.Model.load_weights) but not all checkpointed values were used. See above for specific issues. Use expect_partial() on the load status object, e.g. tf.train.Checkpoint.restore(...).expect_partial(), to silence these warnings, or use assert_consumed() to make the check explicit. See https://www.tensorflow.org/guide/checkpoint#loading_mechanics for details.\n",
            "WARNING:tensorflow:Unresolved object in checkpoint: (root).optimizer.iter\n",
            "WARNING:tensorflow:Unresolved object in checkpoint: (root).optimizer.beta_1\n",
            "WARNING:tensorflow:Unresolved object in checkpoint: (root).optimizer.beta_2\n",
            "WARNING:tensorflow:Unresolved object in checkpoint: (root).optimizer.decay\n",
            "WARNING:tensorflow:Unresolved object in checkpoint: (root).optimizer.learning_rate\n",
            "WARNING:tensorflow:A checkpoint was restored (e.g. tf.train.Checkpoint.restore or tf.keras.Model.load_weights) but not all checkpointed values were used. See above for specific issues. Use expect_partial() on the load status object, e.g. tf.train.Checkpoint.restore(...).expect_partial(), to silence these warnings, or use assert_consumed() to make the check explicit. See https://www.tensorflow.org/guide/checkpoint#loading_mechanics for details.\n",
            "WARNING:tensorflow:Unresolved object in checkpoint: (root).optimizer.iter\n",
            "WARNING:tensorflow:Unresolved object in checkpoint: (root).optimizer.beta_1\n",
            "WARNING:tensorflow:Unresolved object in checkpoint: (root).optimizer.beta_2\n",
            "WARNING:tensorflow:Unresolved object in checkpoint: (root).optimizer.decay\n",
            "WARNING:tensorflow:Unresolved object in checkpoint: (root).optimizer.learning_rate\n",
            "WARNING:tensorflow:A checkpoint was restored (e.g. tf.train.Checkpoint.restore or tf.keras.Model.load_weights) but not all checkpointed values were used. See above for specific issues. Use expect_partial() on the load status object, e.g. tf.train.Checkpoint.restore(...).expect_partial(), to silence these warnings, or use assert_consumed() to make the check explicit. See https://www.tensorflow.org/guide/checkpoint#loading_mechanics for details.\n",
            "WARNING:tensorflow:Unresolved object in checkpoint: (root).optimizer.iter\n",
            "WARNING:tensorflow:Unresolved object in checkpoint: (root).optimizer.beta_1\n",
            "WARNING:tensorflow:Unresolved object in checkpoint: (root).optimizer.beta_2\n",
            "WARNING:tensorflow:Unresolved object in checkpoint: (root).optimizer.decay\n",
            "WARNING:tensorflow:Unresolved object in checkpoint: (root).optimizer.learning_rate\n",
            "WARNING:tensorflow:A checkpoint was restored (e.g. tf.train.Checkpoint.restore or tf.keras.Model.load_weights) but not all checkpointed values were used. See above for specific issues. Use expect_partial() on the load status object, e.g. tf.train.Checkpoint.restore(...).expect_partial(), to silence these warnings, or use assert_consumed() to make the check explicit. See https://www.tensorflow.org/guide/checkpoint#loading_mechanics for details.\n",
            "WARNING:tensorflow:Unresolved object in checkpoint: (root).optimizer.iter\n",
            "WARNING:tensorflow:Unresolved object in checkpoint: (root).optimizer.beta_1\n",
            "WARNING:tensorflow:Unresolved object in checkpoint: (root).optimizer.beta_2\n",
            "WARNING:tensorflow:Unresolved object in checkpoint: (root).optimizer.decay\n",
            "WARNING:tensorflow:Unresolved object in checkpoint: (root).optimizer.learning_rate\n",
            "WARNING:tensorflow:A checkpoint was restored (e.g. tf.train.Checkpoint.restore or tf.keras.Model.load_weights) but not all checkpointed values were used. See above for specific issues. Use expect_partial() on the load status object, e.g. tf.train.Checkpoint.restore(...).expect_partial(), to silence these warnings, or use assert_consumed() to make the check explicit. See https://www.tensorflow.org/guide/checkpoint#loading_mechanics for details.\n",
            "WARNING:tensorflow:Unresolved object in checkpoint: (root).optimizer.iter\n",
            "WARNING:tensorflow:Unresolved object in checkpoint: (root).optimizer.beta_1\n",
            "WARNING:tensorflow:Unresolved object in checkpoint: (root).optimizer.beta_2\n",
            "WARNING:tensorflow:Unresolved object in checkpoint: (root).optimizer.decay\n",
            "WARNING:tensorflow:Unresolved object in checkpoint: (root).optimizer.learning_rate\n",
            "WARNING:tensorflow:A checkpoint was restored (e.g. tf.train.Checkpoint.restore or tf.keras.Model.load_weights) but not all checkpointed values were used. See above for specific issues. Use expect_partial() on the load status object, e.g. tf.train.Checkpoint.restore(...).expect_partial(), to silence these warnings, or use assert_consumed() to make the check explicit. See https://www.tensorflow.org/guide/checkpoint#loading_mechanics for details.\n",
            "WARNING:tensorflow:Unresolved object in checkpoint: (root).optimizer.iter\n",
            "WARNING:tensorflow:Unresolved object in checkpoint: (root).optimizer.beta_1\n",
            "WARNING:tensorflow:Unresolved object in checkpoint: (root).optimizer.beta_2\n",
            "WARNING:tensorflow:Unresolved object in checkpoint: (root).optimizer.decay\n",
            "WARNING:tensorflow:Unresolved object in checkpoint: (root).optimizer.learning_rate\n",
            "WARNING:tensorflow:A checkpoint was restored (e.g. tf.train.Checkpoint.restore or tf.keras.Model.load_weights) but not all checkpointed values were used. See above for specific issues. Use expect_partial() on the load status object, e.g. tf.train.Checkpoint.restore(...).expect_partial(), to silence these warnings, or use assert_consumed() to make the check explicit. See https://www.tensorflow.org/guide/checkpoint#loading_mechanics for details.\n",
            "WARNING:tensorflow:Unresolved object in checkpoint: (root).optimizer.iter\n",
            "WARNING:tensorflow:Unresolved object in checkpoint: (root).optimizer.beta_1\n",
            "WARNING:tensorflow:Unresolved object in checkpoint: (root).optimizer.beta_2\n",
            "WARNING:tensorflow:Unresolved object in checkpoint: (root).optimizer.decay\n",
            "WARNING:tensorflow:Unresolved object in checkpoint: (root).optimizer.learning_rate\n",
            "WARNING:tensorflow:A checkpoint was restored (e.g. tf.train.Checkpoint.restore or tf.keras.Model.load_weights) but not all checkpointed values were used. See above for specific issues. Use expect_partial() on the load status object, e.g. tf.train.Checkpoint.restore(...).expect_partial(), to silence these warnings, or use assert_consumed() to make the check explicit. See https://www.tensorflow.org/guide/checkpoint#loading_mechanics for details.\n",
            "WARNING:tensorflow:Unresolved object in checkpoint: (root).optimizer.iter\n",
            "WARNING:tensorflow:Unresolved object in checkpoint: (root).optimizer.beta_1\n",
            "WARNING:tensorflow:Unresolved object in checkpoint: (root).optimizer.beta_2\n",
            "WARNING:tensorflow:Unresolved object in checkpoint: (root).optimizer.decay\n",
            "WARNING:tensorflow:Unresolved object in checkpoint: (root).optimizer.learning_rate\n",
            "WARNING:tensorflow:A checkpoint was restored (e.g. tf.train.Checkpoint.restore or tf.keras.Model.load_weights) but not all checkpointed values were used. See above for specific issues. Use expect_partial() on the load status object, e.g. tf.train.Checkpoint.restore(...).expect_partial(), to silence these warnings, or use assert_consumed() to make the check explicit. See https://www.tensorflow.org/guide/checkpoint#loading_mechanics for details.\n",
            "WARNING:tensorflow:Unresolved object in checkpoint: (root).optimizer.iter\n",
            "WARNING:tensorflow:Unresolved object in checkpoint: (root).optimizer.beta_1\n",
            "WARNING:tensorflow:Unresolved object in checkpoint: (root).optimizer.beta_2\n",
            "WARNING:tensorflow:Unresolved object in checkpoint: (root).optimizer.decay\n",
            "WARNING:tensorflow:Unresolved object in checkpoint: (root).optimizer.learning_rate\n",
            "WARNING:tensorflow:A checkpoint was restored (e.g. tf.train.Checkpoint.restore or tf.keras.Model.load_weights) but not all checkpointed values were used. See above for specific issues. Use expect_partial() on the load status object, e.g. tf.train.Checkpoint.restore(...).expect_partial(), to silence these warnings, or use assert_consumed() to make the check explicit. See https://www.tensorflow.org/guide/checkpoint#loading_mechanics for details.\n",
            "WARNING:tensorflow:Unresolved object in checkpoint: (root).optimizer.iter\n",
            "WARNING:tensorflow:Unresolved object in checkpoint: (root).optimizer.beta_1\n",
            "WARNING:tensorflow:Unresolved object in checkpoint: (root).optimizer.beta_2\n",
            "WARNING:tensorflow:Unresolved object in checkpoint: (root).optimizer.decay\n",
            "WARNING:tensorflow:Unresolved object in checkpoint: (root).optimizer.learning_rate\n",
            "WARNING:tensorflow:A checkpoint was restored (e.g. tf.train.Checkpoint.restore or tf.keras.Model.load_weights) but not all checkpointed values were used. See above for specific issues. Use expect_partial() on the load status object, e.g. tf.train.Checkpoint.restore(...).expect_partial(), to silence these warnings, or use assert_consumed() to make the check explicit. See https://www.tensorflow.org/guide/checkpoint#loading_mechanics for details.\n",
            "WARNING:tensorflow:Unresolved object in checkpoint: (root).optimizer.iter\n",
            "WARNING:tensorflow:Unresolved object in checkpoint: (root).optimizer.beta_1\n",
            "WARNING:tensorflow:Unresolved object in checkpoint: (root).optimizer.beta_2\n",
            "WARNING:tensorflow:Unresolved object in checkpoint: (root).optimizer.decay\n",
            "WARNING:tensorflow:Unresolved object in checkpoint: (root).optimizer.learning_rate\n",
            "WARNING:tensorflow:A checkpoint was restored (e.g. tf.train.Checkpoint.restore or tf.keras.Model.load_weights) but not all checkpointed values were used. See above for specific issues. Use expect_partial() on the load status object, e.g. tf.train.Checkpoint.restore(...).expect_partial(), to silence these warnings, or use assert_consumed() to make the check explicit. See https://www.tensorflow.org/guide/checkpoint#loading_mechanics for details.\n",
            "WARNING:tensorflow:Unresolved object in checkpoint: (root).optimizer.iter\n",
            "WARNING:tensorflow:Unresolved object in checkpoint: (root).optimizer.beta_1\n",
            "WARNING:tensorflow:Unresolved object in checkpoint: (root).optimizer.beta_2\n",
            "WARNING:tensorflow:Unresolved object in checkpoint: (root).optimizer.decay\n",
            "WARNING:tensorflow:Unresolved object in checkpoint: (root).optimizer.learning_rate\n",
            "WARNING:tensorflow:A checkpoint was restored (e.g. tf.train.Checkpoint.restore or tf.keras.Model.load_weights) but not all checkpointed values were used. See above for specific issues. Use expect_partial() on the load status object, e.g. tf.train.Checkpoint.restore(...).expect_partial(), to silence these warnings, or use assert_consumed() to make the check explicit. See https://www.tensorflow.org/guide/checkpoint#loading_mechanics for details.\n",
            "WARNING:tensorflow:Unresolved object in checkpoint: (root).optimizer.iter\n",
            "WARNING:tensorflow:Unresolved object in checkpoint: (root).optimizer.beta_1\n",
            "WARNING:tensorflow:Unresolved object in checkpoint: (root).optimizer.beta_2\n",
            "WARNING:tensorflow:Unresolved object in checkpoint: (root).optimizer.decay\n",
            "WARNING:tensorflow:Unresolved object in checkpoint: (root).optimizer.learning_rate\n",
            "WARNING:tensorflow:A checkpoint was restored (e.g. tf.train.Checkpoint.restore or tf.keras.Model.load_weights) but not all checkpointed values were used. See above for specific issues. Use expect_partial() on the load status object, e.g. tf.train.Checkpoint.restore(...).expect_partial(), to silence these warnings, or use assert_consumed() to make the check explicit. See https://www.tensorflow.org/guide/checkpoint#loading_mechanics for details.\n",
            "WARNING:tensorflow:Unresolved object in checkpoint: (root).optimizer.iter\n",
            "WARNING:tensorflow:Unresolved object in checkpoint: (root).optimizer.beta_1\n",
            "WARNING:tensorflow:Unresolved object in checkpoint: (root).optimizer.beta_2\n",
            "WARNING:tensorflow:Unresolved object in checkpoint: (root).optimizer.decay\n",
            "WARNING:tensorflow:Unresolved object in checkpoint: (root).optimizer.learning_rate\n",
            "WARNING:tensorflow:A checkpoint was restored (e.g. tf.train.Checkpoint.restore or tf.keras.Model.load_weights) but not all checkpointed values were used. See above for specific issues. Use expect_partial() on the load status object, e.g. tf.train.Checkpoint.restore(...).expect_partial(), to silence these warnings, or use assert_consumed() to make the check explicit. See https://www.tensorflow.org/guide/checkpoint#loading_mechanics for details.\n",
            "WARNING:tensorflow:Unresolved object in checkpoint: (root).optimizer.iter\n",
            "WARNING:tensorflow:Unresolved object in checkpoint: (root).optimizer.beta_1\n",
            "WARNING:tensorflow:Unresolved object in checkpoint: (root).optimizer.beta_2\n",
            "WARNING:tensorflow:Unresolved object in checkpoint: (root).optimizer.decay\n",
            "WARNING:tensorflow:Unresolved object in checkpoint: (root).optimizer.learning_rate\n",
            "WARNING:tensorflow:A checkpoint was restored (e.g. tf.train.Checkpoint.restore or tf.keras.Model.load_weights) but not all checkpointed values were used. See above for specific issues. Use expect_partial() on the load status object, e.g. tf.train.Checkpoint.restore(...).expect_partial(), to silence these warnings, or use assert_consumed() to make the check explicit. See https://www.tensorflow.org/guide/checkpoint#loading_mechanics for details.\n",
            "WARNING:tensorflow:Unresolved object in checkpoint: (root).optimizer.iter\n",
            "WARNING:tensorflow:Unresolved object in checkpoint: (root).optimizer.beta_1\n",
            "WARNING:tensorflow:Unresolved object in checkpoint: (root).optimizer.beta_2\n",
            "WARNING:tensorflow:Unresolved object in checkpoint: (root).optimizer.decay\n",
            "WARNING:tensorflow:Unresolved object in checkpoint: (root).optimizer.learning_rate\n",
            "WARNING:tensorflow:A checkpoint was restored (e.g. tf.train.Checkpoint.restore or tf.keras.Model.load_weights) but not all checkpointed values were used. See above for specific issues. Use expect_partial() on the load status object, e.g. tf.train.Checkpoint.restore(...).expect_partial(), to silence these warnings, or use assert_consumed() to make the check explicit. See https://www.tensorflow.org/guide/checkpoint#loading_mechanics for details.\n",
            "WARNING:tensorflow:Unresolved object in checkpoint: (root).optimizer.iter\n",
            "WARNING:tensorflow:Unresolved object in checkpoint: (root).optimizer.beta_1\n",
            "WARNING:tensorflow:Unresolved object in checkpoint: (root).optimizer.beta_2\n",
            "WARNING:tensorflow:Unresolved object in checkpoint: (root).optimizer.decay\n",
            "WARNING:tensorflow:Unresolved object in checkpoint: (root).optimizer.learning_rate\n",
            "WARNING:tensorflow:A checkpoint was restored (e.g. tf.train.Checkpoint.restore or tf.keras.Model.load_weights) but not all checkpointed values were used. See above for specific issues. Use expect_partial() on the load status object, e.g. tf.train.Checkpoint.restore(...).expect_partial(), to silence these warnings, or use assert_consumed() to make the check explicit. See https://www.tensorflow.org/guide/checkpoint#loading_mechanics for details.\n",
            "WARNING:tensorflow:Unresolved object in checkpoint: (root).optimizer.iter\n",
            "WARNING:tensorflow:Unresolved object in checkpoint: (root).optimizer.beta_1\n",
            "WARNING:tensorflow:Unresolved object in checkpoint: (root).optimizer.beta_2\n",
            "WARNING:tensorflow:Unresolved object in checkpoint: (root).optimizer.decay\n",
            "WARNING:tensorflow:Unresolved object in checkpoint: (root).optimizer.learning_rate\n",
            "WARNING:tensorflow:A checkpoint was restored (e.g. tf.train.Checkpoint.restore or tf.keras.Model.load_weights) but not all checkpointed values were used. See above for specific issues. Use expect_partial() on the load status object, e.g. tf.train.Checkpoint.restore(...).expect_partial(), to silence these warnings, or use assert_consumed() to make the check explicit. See https://www.tensorflow.org/guide/checkpoint#loading_mechanics for details.\n",
            "WARNING:tensorflow:Unresolved object in checkpoint: (root).optimizer.iter\n",
            "WARNING:tensorflow:Unresolved object in checkpoint: (root).optimizer.beta_1\n",
            "WARNING:tensorflow:Unresolved object in checkpoint: (root).optimizer.beta_2\n",
            "WARNING:tensorflow:Unresolved object in checkpoint: (root).optimizer.decay\n",
            "WARNING:tensorflow:Unresolved object in checkpoint: (root).optimizer.learning_rate\n",
            "WARNING:tensorflow:A checkpoint was restored (e.g. tf.train.Checkpoint.restore or tf.keras.Model.load_weights) but not all checkpointed values were used. See above for specific issues. Use expect_partial() on the load status object, e.g. tf.train.Checkpoint.restore(...).expect_partial(), to silence these warnings, or use assert_consumed() to make the check explicit. See https://www.tensorflow.org/guide/checkpoint#loading_mechanics for details.\n",
            "WARNING:tensorflow:Unresolved object in checkpoint: (root).optimizer.iter\n",
            "WARNING:tensorflow:Unresolved object in checkpoint: (root).optimizer.beta_1\n",
            "WARNING:tensorflow:Unresolved object in checkpoint: (root).optimizer.beta_2\n",
            "WARNING:tensorflow:Unresolved object in checkpoint: (root).optimizer.decay\n",
            "WARNING:tensorflow:Unresolved object in checkpoint: (root).optimizer.learning_rate\n",
            "WARNING:tensorflow:A checkpoint was restored (e.g. tf.train.Checkpoint.restore or tf.keras.Model.load_weights) but not all checkpointed values were used. See above for specific issues. Use expect_partial() on the load status object, e.g. tf.train.Checkpoint.restore(...).expect_partial(), to silence these warnings, or use assert_consumed() to make the check explicit. See https://www.tensorflow.org/guide/checkpoint#loading_mechanics for details.\n",
            "WARNING:tensorflow:Unresolved object in checkpoint: (root).optimizer.iter\n",
            "WARNING:tensorflow:Unresolved object in checkpoint: (root).optimizer.beta_1\n",
            "WARNING:tensorflow:Unresolved object in checkpoint: (root).optimizer.beta_2\n",
            "WARNING:tensorflow:Unresolved object in checkpoint: (root).optimizer.decay\n",
            "WARNING:tensorflow:Unresolved object in checkpoint: (root).optimizer.learning_rate\n",
            "WARNING:tensorflow:A checkpoint was restored (e.g. tf.train.Checkpoint.restore or tf.keras.Model.load_weights) but not all checkpointed values were used. See above for specific issues. Use expect_partial() on the load status object, e.g. tf.train.Checkpoint.restore(...).expect_partial(), to silence these warnings, or use assert_consumed() to make the check explicit. See https://www.tensorflow.org/guide/checkpoint#loading_mechanics for details.\n",
            "WARNING:tensorflow:Unresolved object in checkpoint: (root).optimizer.iter\n",
            "WARNING:tensorflow:Unresolved object in checkpoint: (root).optimizer.beta_1\n",
            "WARNING:tensorflow:Unresolved object in checkpoint: (root).optimizer.beta_2\n",
            "WARNING:tensorflow:Unresolved object in checkpoint: (root).optimizer.decay\n",
            "WARNING:tensorflow:Unresolved object in checkpoint: (root).optimizer.learning_rate\n",
            "WARNING:tensorflow:A checkpoint was restored (e.g. tf.train.Checkpoint.restore or tf.keras.Model.load_weights) but not all checkpointed values were used. See above for specific issues. Use expect_partial() on the load status object, e.g. tf.train.Checkpoint.restore(...).expect_partial(), to silence these warnings, or use assert_consumed() to make the check explicit. See https://www.tensorflow.org/guide/checkpoint#loading_mechanics for details.\n",
            "WARNING:tensorflow:Unresolved object in checkpoint: (root).optimizer.iter\n",
            "WARNING:tensorflow:Unresolved object in checkpoint: (root).optimizer.beta_1\n",
            "WARNING:tensorflow:Unresolved object in checkpoint: (root).optimizer.beta_2\n",
            "WARNING:tensorflow:Unresolved object in checkpoint: (root).optimizer.decay\n",
            "WARNING:tensorflow:Unresolved object in checkpoint: (root).optimizer.learning_rate\n",
            "WARNING:tensorflow:A checkpoint was restored (e.g. tf.train.Checkpoint.restore or tf.keras.Model.load_weights) but not all checkpointed values were used. See above for specific issues. Use expect_partial() on the load status object, e.g. tf.train.Checkpoint.restore(...).expect_partial(), to silence these warnings, or use assert_consumed() to make the check explicit. See https://www.tensorflow.org/guide/checkpoint#loading_mechanics for details.\n",
            "WARNING:tensorflow:Unresolved object in checkpoint: (root).optimizer.iter\n",
            "WARNING:tensorflow:Unresolved object in checkpoint: (root).optimizer.beta_1\n",
            "WARNING:tensorflow:Unresolved object in checkpoint: (root).optimizer.beta_2\n",
            "WARNING:tensorflow:Unresolved object in checkpoint: (root).optimizer.decay\n",
            "WARNING:tensorflow:Unresolved object in checkpoint: (root).optimizer.learning_rate\n",
            "WARNING:tensorflow:A checkpoint was restored (e.g. tf.train.Checkpoint.restore or tf.keras.Model.load_weights) but not all checkpointed values were used. See above for specific issues. Use expect_partial() on the load status object, e.g. tf.train.Checkpoint.restore(...).expect_partial(), to silence these warnings, or use assert_consumed() to make the check explicit. See https://www.tensorflow.org/guide/checkpoint#loading_mechanics for details.\n",
            "WARNING:tensorflow:Unresolved object in checkpoint: (root).optimizer.iter\n",
            "WARNING:tensorflow:Unresolved object in checkpoint: (root).optimizer.beta_1\n",
            "WARNING:tensorflow:Unresolved object in checkpoint: (root).optimizer.beta_2\n",
            "WARNING:tensorflow:Unresolved object in checkpoint: (root).optimizer.decay\n",
            "WARNING:tensorflow:Unresolved object in checkpoint: (root).optimizer.learning_rate\n",
            "WARNING:tensorflow:A checkpoint was restored (e.g. tf.train.Checkpoint.restore or tf.keras.Model.load_weights) but not all checkpointed values were used. See above for specific issues. Use expect_partial() on the load status object, e.g. tf.train.Checkpoint.restore(...).expect_partial(), to silence these warnings, or use assert_consumed() to make the check explicit. See https://www.tensorflow.org/guide/checkpoint#loading_mechanics for details.\n",
            "WARNING:tensorflow:Unresolved object in checkpoint: (root).optimizer.iter\n",
            "WARNING:tensorflow:Unresolved object in checkpoint: (root).optimizer.beta_1\n",
            "WARNING:tensorflow:Unresolved object in checkpoint: (root).optimizer.beta_2\n",
            "WARNING:tensorflow:Unresolved object in checkpoint: (root).optimizer.decay\n",
            "WARNING:tensorflow:Unresolved object in checkpoint: (root).optimizer.learning_rate\n",
            "WARNING:tensorflow:A checkpoint was restored (e.g. tf.train.Checkpoint.restore or tf.keras.Model.load_weights) but not all checkpointed values were used. See above for specific issues. Use expect_partial() on the load status object, e.g. tf.train.Checkpoint.restore(...).expect_partial(), to silence these warnings, or use assert_consumed() to make the check explicit. See https://www.tensorflow.org/guide/checkpoint#loading_mechanics for details.\n",
            "WARNING:tensorflow:Unresolved object in checkpoint: (root).optimizer.iter\n",
            "WARNING:tensorflow:Unresolved object in checkpoint: (root).optimizer.beta_1\n",
            "WARNING:tensorflow:Unresolved object in checkpoint: (root).optimizer.beta_2\n",
            "WARNING:tensorflow:Unresolved object in checkpoint: (root).optimizer.decay\n",
            "WARNING:tensorflow:Unresolved object in checkpoint: (root).optimizer.learning_rate\n",
            "WARNING:tensorflow:A checkpoint was restored (e.g. tf.train.Checkpoint.restore or tf.keras.Model.load_weights) but not all checkpointed values were used. See above for specific issues. Use expect_partial() on the load status object, e.g. tf.train.Checkpoint.restore(...).expect_partial(), to silence these warnings, or use assert_consumed() to make the check explicit. See https://www.tensorflow.org/guide/checkpoint#loading_mechanics for details.\n",
            "WARNING:tensorflow:Unresolved object in checkpoint: (root).optimizer.iter\n",
            "WARNING:tensorflow:Unresolved object in checkpoint: (root).optimizer.beta_1\n",
            "WARNING:tensorflow:Unresolved object in checkpoint: (root).optimizer.beta_2\n",
            "WARNING:tensorflow:Unresolved object in checkpoint: (root).optimizer.decay\n",
            "WARNING:tensorflow:Unresolved object in checkpoint: (root).optimizer.learning_rate\n",
            "WARNING:tensorflow:A checkpoint was restored (e.g. tf.train.Checkpoint.restore or tf.keras.Model.load_weights) but not all checkpointed values were used. See above for specific issues. Use expect_partial() on the load status object, e.g. tf.train.Checkpoint.restore(...).expect_partial(), to silence these warnings, or use assert_consumed() to make the check explicit. See https://www.tensorflow.org/guide/checkpoint#loading_mechanics for details.\n",
            "WARNING:tensorflow:Unresolved object in checkpoint: (root).optimizer.iter\n",
            "WARNING:tensorflow:Unresolved object in checkpoint: (root).optimizer.beta_1\n",
            "WARNING:tensorflow:Unresolved object in checkpoint: (root).optimizer.beta_2\n",
            "WARNING:tensorflow:Unresolved object in checkpoint: (root).optimizer.decay\n",
            "WARNING:tensorflow:Unresolved object in checkpoint: (root).optimizer.learning_rate\n",
            "WARNING:tensorflow:A checkpoint was restored (e.g. tf.train.Checkpoint.restore or tf.keras.Model.load_weights) but not all checkpointed values were used. See above for specific issues. Use expect_partial() on the load status object, e.g. tf.train.Checkpoint.restore(...).expect_partial(), to silence these warnings, or use assert_consumed() to make the check explicit. See https://www.tensorflow.org/guide/checkpoint#loading_mechanics for details.\n",
            "WARNING:tensorflow:Unresolved object in checkpoint: (root).optimizer.iter\n",
            "WARNING:tensorflow:Unresolved object in checkpoint: (root).optimizer.beta_1\n",
            "WARNING:tensorflow:Unresolved object in checkpoint: (root).optimizer.beta_2\n",
            "WARNING:tensorflow:Unresolved object in checkpoint: (root).optimizer.decay\n",
            "WARNING:tensorflow:Unresolved object in checkpoint: (root).optimizer.learning_rate\n",
            "WARNING:tensorflow:A checkpoint was restored (e.g. tf.train.Checkpoint.restore or tf.keras.Model.load_weights) but not all checkpointed values were used. See above for specific issues. Use expect_partial() on the load status object, e.g. tf.train.Checkpoint.restore(...).expect_partial(), to silence these warnings, or use assert_consumed() to make the check explicit. See https://www.tensorflow.org/guide/checkpoint#loading_mechanics for details.\n",
            "WARNING:tensorflow:Unresolved object in checkpoint: (root).optimizer.iter\n",
            "WARNING:tensorflow:Unresolved object in checkpoint: (root).optimizer.beta_1\n",
            "WARNING:tensorflow:Unresolved object in checkpoint: (root).optimizer.beta_2\n",
            "WARNING:tensorflow:Unresolved object in checkpoint: (root).optimizer.decay\n",
            "WARNING:tensorflow:Unresolved object in checkpoint: (root).optimizer.learning_rate\n",
            "WARNING:tensorflow:A checkpoint was restored (e.g. tf.train.Checkpoint.restore or tf.keras.Model.load_weights) but not all checkpointed values were used. See above for specific issues. Use expect_partial() on the load status object, e.g. tf.train.Checkpoint.restore(...).expect_partial(), to silence these warnings, or use assert_consumed() to make the check explicit. See https://www.tensorflow.org/guide/checkpoint#loading_mechanics for details.\n",
            "WARNING:tensorflow:Unresolved object in checkpoint: (root).optimizer.iter\n",
            "WARNING:tensorflow:Unresolved object in checkpoint: (root).optimizer.beta_1\n",
            "WARNING:tensorflow:Unresolved object in checkpoint: (root).optimizer.beta_2\n",
            "WARNING:tensorflow:Unresolved object in checkpoint: (root).optimizer.decay\n",
            "WARNING:tensorflow:Unresolved object in checkpoint: (root).optimizer.learning_rate\n",
            "WARNING:tensorflow:A checkpoint was restored (e.g. tf.train.Checkpoint.restore or tf.keras.Model.load_weights) but not all checkpointed values were used. See above for specific issues. Use expect_partial() on the load status object, e.g. tf.train.Checkpoint.restore(...).expect_partial(), to silence these warnings, or use assert_consumed() to make the check explicit. See https://www.tensorflow.org/guide/checkpoint#loading_mechanics for details.\n",
            "WARNING:tensorflow:Unresolved object in checkpoint: (root).optimizer.iter\n",
            "WARNING:tensorflow:Unresolved object in checkpoint: (root).optimizer.beta_1\n",
            "WARNING:tensorflow:Unresolved object in checkpoint: (root).optimizer.beta_2\n",
            "WARNING:tensorflow:Unresolved object in checkpoint: (root).optimizer.decay\n",
            "WARNING:tensorflow:Unresolved object in checkpoint: (root).optimizer.learning_rate\n",
            "WARNING:tensorflow:A checkpoint was restored (e.g. tf.train.Checkpoint.restore or tf.keras.Model.load_weights) but not all checkpointed values were used. See above for specific issues. Use expect_partial() on the load status object, e.g. tf.train.Checkpoint.restore(...).expect_partial(), to silence these warnings, or use assert_consumed() to make the check explicit. See https://www.tensorflow.org/guide/checkpoint#loading_mechanics for details.\n",
            "WARNING:tensorflow:Unresolved object in checkpoint: (root).optimizer.iter\n",
            "WARNING:tensorflow:Unresolved object in checkpoint: (root).optimizer.beta_1\n",
            "WARNING:tensorflow:Unresolved object in checkpoint: (root).optimizer.beta_2\n",
            "WARNING:tensorflow:Unresolved object in checkpoint: (root).optimizer.decay\n",
            "WARNING:tensorflow:Unresolved object in checkpoint: (root).optimizer.learning_rate\n",
            "WARNING:tensorflow:A checkpoint was restored (e.g. tf.train.Checkpoint.restore or tf.keras.Model.load_weights) but not all checkpointed values were used. See above for specific issues. Use expect_partial() on the load status object, e.g. tf.train.Checkpoint.restore(...).expect_partial(), to silence these warnings, or use assert_consumed() to make the check explicit. See https://www.tensorflow.org/guide/checkpoint#loading_mechanics for details.\n",
            "WARNING:tensorflow:Unresolved object in checkpoint: (root).optimizer.iter\n",
            "WARNING:tensorflow:Unresolved object in checkpoint: (root).optimizer.beta_1\n",
            "WARNING:tensorflow:Unresolved object in checkpoint: (root).optimizer.beta_2\n",
            "WARNING:tensorflow:Unresolved object in checkpoint: (root).optimizer.decay\n",
            "WARNING:tensorflow:Unresolved object in checkpoint: (root).optimizer.learning_rate\n",
            "WARNING:tensorflow:A checkpoint was restored (e.g. tf.train.Checkpoint.restore or tf.keras.Model.load_weights) but not all checkpointed values were used. See above for specific issues. Use expect_partial() on the load status object, e.g. tf.train.Checkpoint.restore(...).expect_partial(), to silence these warnings, or use assert_consumed() to make the check explicit. See https://www.tensorflow.org/guide/checkpoint#loading_mechanics for details.\n",
            "WARNING:tensorflow:Unresolved object in checkpoint: (root).optimizer.iter\n",
            "WARNING:tensorflow:Unresolved object in checkpoint: (root).optimizer.beta_1\n",
            "WARNING:tensorflow:Unresolved object in checkpoint: (root).optimizer.beta_2\n",
            "WARNING:tensorflow:Unresolved object in checkpoint: (root).optimizer.decay\n",
            "WARNING:tensorflow:Unresolved object in checkpoint: (root).optimizer.learning_rate\n",
            "WARNING:tensorflow:A checkpoint was restored (e.g. tf.train.Checkpoint.restore or tf.keras.Model.load_weights) but not all checkpointed values were used. See above for specific issues. Use expect_partial() on the load status object, e.g. tf.train.Checkpoint.restore(...).expect_partial(), to silence these warnings, or use assert_consumed() to make the check explicit. See https://www.tensorflow.org/guide/checkpoint#loading_mechanics for details.\n",
            "WARNING:tensorflow:Unresolved object in checkpoint: (root).optimizer.iter\n",
            "WARNING:tensorflow:Unresolved object in checkpoint: (root).optimizer.beta_1\n",
            "WARNING:tensorflow:Unresolved object in checkpoint: (root).optimizer.beta_2\n",
            "WARNING:tensorflow:Unresolved object in checkpoint: (root).optimizer.decay\n",
            "WARNING:tensorflow:Unresolved object in checkpoint: (root).optimizer.learning_rate\n",
            "WARNING:tensorflow:A checkpoint was restored (e.g. tf.train.Checkpoint.restore or tf.keras.Model.load_weights) but not all checkpointed values were used. See above for specific issues. Use expect_partial() on the load status object, e.g. tf.train.Checkpoint.restore(...).expect_partial(), to silence these warnings, or use assert_consumed() to make the check explicit. See https://www.tensorflow.org/guide/checkpoint#loading_mechanics for details.\n",
            "WARNING:tensorflow:Unresolved object in checkpoint: (root).optimizer.iter\n",
            "WARNING:tensorflow:Unresolved object in checkpoint: (root).optimizer.beta_1\n",
            "WARNING:tensorflow:Unresolved object in checkpoint: (root).optimizer.beta_2\n",
            "WARNING:tensorflow:Unresolved object in checkpoint: (root).optimizer.decay\n",
            "WARNING:tensorflow:Unresolved object in checkpoint: (root).optimizer.learning_rate\n",
            "WARNING:tensorflow:A checkpoint was restored (e.g. tf.train.Checkpoint.restore or tf.keras.Model.load_weights) but not all checkpointed values were used. See above for specific issues. Use expect_partial() on the load status object, e.g. tf.train.Checkpoint.restore(...).expect_partial(), to silence these warnings, or use assert_consumed() to make the check explicit. See https://www.tensorflow.org/guide/checkpoint#loading_mechanics for details.\n",
            "WARNING:tensorflow:Unresolved object in checkpoint: (root).optimizer.iter\n",
            "WARNING:tensorflow:Unresolved object in checkpoint: (root).optimizer.beta_1\n",
            "WARNING:tensorflow:Unresolved object in checkpoint: (root).optimizer.beta_2\n",
            "WARNING:tensorflow:Unresolved object in checkpoint: (root).optimizer.decay\n",
            "WARNING:tensorflow:Unresolved object in checkpoint: (root).optimizer.learning_rate\n",
            "WARNING:tensorflow:A checkpoint was restored (e.g. tf.train.Checkpoint.restore or tf.keras.Model.load_weights) but not all checkpointed values were used. See above for specific issues. Use expect_partial() on the load status object, e.g. tf.train.Checkpoint.restore(...).expect_partial(), to silence these warnings, or use assert_consumed() to make the check explicit. See https://www.tensorflow.org/guide/checkpoint#loading_mechanics for details.\n",
            "WARNING:tensorflow:Unresolved object in checkpoint: (root).optimizer.iter\n",
            "WARNING:tensorflow:Unresolved object in checkpoint: (root).optimizer.beta_1\n",
            "WARNING:tensorflow:Unresolved object in checkpoint: (root).optimizer.beta_2\n",
            "WARNING:tensorflow:Unresolved object in checkpoint: (root).optimizer.decay\n",
            "WARNING:tensorflow:Unresolved object in checkpoint: (root).optimizer.learning_rate\n",
            "WARNING:tensorflow:A checkpoint was restored (e.g. tf.train.Checkpoint.restore or tf.keras.Model.load_weights) but not all checkpointed values were used. See above for specific issues. Use expect_partial() on the load status object, e.g. tf.train.Checkpoint.restore(...).expect_partial(), to silence these warnings, or use assert_consumed() to make the check explicit. See https://www.tensorflow.org/guide/checkpoint#loading_mechanics for details.\n",
            "WARNING:tensorflow:Unresolved object in checkpoint: (root).optimizer.iter\n",
            "WARNING:tensorflow:Unresolved object in checkpoint: (root).optimizer.beta_1\n",
            "WARNING:tensorflow:Unresolved object in checkpoint: (root).optimizer.beta_2\n",
            "WARNING:tensorflow:Unresolved object in checkpoint: (root).optimizer.decay\n",
            "WARNING:tensorflow:Unresolved object in checkpoint: (root).optimizer.learning_rate\n",
            "WARNING:tensorflow:A checkpoint was restored (e.g. tf.train.Checkpoint.restore or tf.keras.Model.load_weights) but not all checkpointed values were used. See above for specific issues. Use expect_partial() on the load status object, e.g. tf.train.Checkpoint.restore(...).expect_partial(), to silence these warnings, or use assert_consumed() to make the check explicit. See https://www.tensorflow.org/guide/checkpoint#loading_mechanics for details.\n",
            "WARNING:tensorflow:Unresolved object in checkpoint: (root).optimizer.iter\n",
            "WARNING:tensorflow:Unresolved object in checkpoint: (root).optimizer.beta_1\n",
            "WARNING:tensorflow:Unresolved object in checkpoint: (root).optimizer.beta_2\n",
            "WARNING:tensorflow:Unresolved object in checkpoint: (root).optimizer.decay\n",
            "WARNING:tensorflow:Unresolved object in checkpoint: (root).optimizer.learning_rate\n",
            "WARNING:tensorflow:A checkpoint was restored (e.g. tf.train.Checkpoint.restore or tf.keras.Model.load_weights) but not all checkpointed values were used. See above for specific issues. Use expect_partial() on the load status object, e.g. tf.train.Checkpoint.restore(...).expect_partial(), to silence these warnings, or use assert_consumed() to make the check explicit. See https://www.tensorflow.org/guide/checkpoint#loading_mechanics for details.\n",
            "WARNING:tensorflow:Unresolved object in checkpoint: (root).optimizer.iter\n",
            "WARNING:tensorflow:Unresolved object in checkpoint: (root).optimizer.beta_1\n",
            "WARNING:tensorflow:Unresolved object in checkpoint: (root).optimizer.beta_2\n",
            "WARNING:tensorflow:Unresolved object in checkpoint: (root).optimizer.decay\n",
            "WARNING:tensorflow:Unresolved object in checkpoint: (root).optimizer.learning_rate\n",
            "WARNING:tensorflow:A checkpoint was restored (e.g. tf.train.Checkpoint.restore or tf.keras.Model.load_weights) but not all checkpointed values were used. See above for specific issues. Use expect_partial() on the load status object, e.g. tf.train.Checkpoint.restore(...).expect_partial(), to silence these warnings, or use assert_consumed() to make the check explicit. See https://www.tensorflow.org/guide/checkpoint#loading_mechanics for details.\n",
            "WARNING:tensorflow:Unresolved object in checkpoint: (root).optimizer.iter\n",
            "WARNING:tensorflow:Unresolved object in checkpoint: (root).optimizer.beta_1\n",
            "WARNING:tensorflow:Unresolved object in checkpoint: (root).optimizer.beta_2\n",
            "WARNING:tensorflow:Unresolved object in checkpoint: (root).optimizer.decay\n",
            "WARNING:tensorflow:Unresolved object in checkpoint: (root).optimizer.learning_rate\n",
            "WARNING:tensorflow:A checkpoint was restored (e.g. tf.train.Checkpoint.restore or tf.keras.Model.load_weights) but not all checkpointed values were used. See above for specific issues. Use expect_partial() on the load status object, e.g. tf.train.Checkpoint.restore(...).expect_partial(), to silence these warnings, or use assert_consumed() to make the check explicit. See https://www.tensorflow.org/guide/checkpoint#loading_mechanics for details.\n",
            "WARNING:tensorflow:Unresolved object in checkpoint: (root).optimizer.iter\n",
            "WARNING:tensorflow:Unresolved object in checkpoint: (root).optimizer.beta_1\n",
            "WARNING:tensorflow:Unresolved object in checkpoint: (root).optimizer.beta_2\n",
            "WARNING:tensorflow:Unresolved object in checkpoint: (root).optimizer.decay\n",
            "WARNING:tensorflow:Unresolved object in checkpoint: (root).optimizer.learning_rate\n",
            "WARNING:tensorflow:A checkpoint was restored (e.g. tf.train.Checkpoint.restore or tf.keras.Model.load_weights) but not all checkpointed values were used. See above for specific issues. Use expect_partial() on the load status object, e.g. tf.train.Checkpoint.restore(...).expect_partial(), to silence these warnings, or use assert_consumed() to make the check explicit. See https://www.tensorflow.org/guide/checkpoint#loading_mechanics for details.\n",
            "WARNING:tensorflow:Unresolved object in checkpoint: (root).optimizer.iter\n",
            "WARNING:tensorflow:Unresolved object in checkpoint: (root).optimizer.beta_1\n",
            "WARNING:tensorflow:Unresolved object in checkpoint: (root).optimizer.beta_2\n",
            "WARNING:tensorflow:Unresolved object in checkpoint: (root).optimizer.decay\n",
            "WARNING:tensorflow:Unresolved object in checkpoint: (root).optimizer.learning_rate\n",
            "WARNING:tensorflow:A checkpoint was restored (e.g. tf.train.Checkpoint.restore or tf.keras.Model.load_weights) but not all checkpointed values were used. See above for specific issues. Use expect_partial() on the load status object, e.g. tf.train.Checkpoint.restore(...).expect_partial(), to silence these warnings, or use assert_consumed() to make the check explicit. See https://www.tensorflow.org/guide/checkpoint#loading_mechanics for details.\n",
            "WARNING:tensorflow:Unresolved object in checkpoint: (root).optimizer.iter\n",
            "WARNING:tensorflow:Unresolved object in checkpoint: (root).optimizer.beta_1\n",
            "WARNING:tensorflow:Unresolved object in checkpoint: (root).optimizer.beta_2\n",
            "WARNING:tensorflow:Unresolved object in checkpoint: (root).optimizer.decay\n",
            "WARNING:tensorflow:Unresolved object in checkpoint: (root).optimizer.learning_rate\n",
            "WARNING:tensorflow:A checkpoint was restored (e.g. tf.train.Checkpoint.restore or tf.keras.Model.load_weights) but not all checkpointed values were used. See above for specific issues. Use expect_partial() on the load status object, e.g. tf.train.Checkpoint.restore(...).expect_partial(), to silence these warnings, or use assert_consumed() to make the check explicit. See https://www.tensorflow.org/guide/checkpoint#loading_mechanics for details.\n",
            "WARNING:tensorflow:Unresolved object in checkpoint: (root).optimizer.iter\n",
            "WARNING:tensorflow:Unresolved object in checkpoint: (root).optimizer.beta_1\n",
            "WARNING:tensorflow:Unresolved object in checkpoint: (root).optimizer.beta_2\n",
            "WARNING:tensorflow:Unresolved object in checkpoint: (root).optimizer.decay\n",
            "WARNING:tensorflow:Unresolved object in checkpoint: (root).optimizer.learning_rate\n",
            "WARNING:tensorflow:A checkpoint was restored (e.g. tf.train.Checkpoint.restore or tf.keras.Model.load_weights) but not all checkpointed values were used. See above for specific issues. Use expect_partial() on the load status object, e.g. tf.train.Checkpoint.restore(...).expect_partial(), to silence these warnings, or use assert_consumed() to make the check explicit. See https://www.tensorflow.org/guide/checkpoint#loading_mechanics for details.\n",
            "WARNING:tensorflow:Unresolved object in checkpoint: (root).optimizer.iter\n",
            "WARNING:tensorflow:Unresolved object in checkpoint: (root).optimizer.beta_1\n",
            "WARNING:tensorflow:Unresolved object in checkpoint: (root).optimizer.beta_2\n",
            "WARNING:tensorflow:Unresolved object in checkpoint: (root).optimizer.decay\n",
            "WARNING:tensorflow:Unresolved object in checkpoint: (root).optimizer.learning_rate\n",
            "WARNING:tensorflow:A checkpoint was restored (e.g. tf.train.Checkpoint.restore or tf.keras.Model.load_weights) but not all checkpointed values were used. See above for specific issues. Use expect_partial() on the load status object, e.g. tf.train.Checkpoint.restore(...).expect_partial(), to silence these warnings, or use assert_consumed() to make the check explicit. See https://www.tensorflow.org/guide/checkpoint#loading_mechanics for details.\n",
            "WARNING:tensorflow:Unresolved object in checkpoint: (root).optimizer.iter\n",
            "WARNING:tensorflow:Unresolved object in checkpoint: (root).optimizer.beta_1\n",
            "WARNING:tensorflow:Unresolved object in checkpoint: (root).optimizer.beta_2\n",
            "WARNING:tensorflow:Unresolved object in checkpoint: (root).optimizer.decay\n",
            "WARNING:tensorflow:Unresolved object in checkpoint: (root).optimizer.learning_rate\n",
            "WARNING:tensorflow:A checkpoint was restored (e.g. tf.train.Checkpoint.restore or tf.keras.Model.load_weights) but not all checkpointed values were used. See above for specific issues. Use expect_partial() on the load status object, e.g. tf.train.Checkpoint.restore(...).expect_partial(), to silence these warnings, or use assert_consumed() to make the check explicit. See https://www.tensorflow.org/guide/checkpoint#loading_mechanics for details.\n",
            "WARNING:tensorflow:Unresolved object in checkpoint: (root).optimizer.iter\n",
            "WARNING:tensorflow:Unresolved object in checkpoint: (root).optimizer.beta_1\n",
            "WARNING:tensorflow:Unresolved object in checkpoint: (root).optimizer.beta_2\n",
            "WARNING:tensorflow:Unresolved object in checkpoint: (root).optimizer.decay\n",
            "WARNING:tensorflow:Unresolved object in checkpoint: (root).optimizer.learning_rate\n",
            "WARNING:tensorflow:A checkpoint was restored (e.g. tf.train.Checkpoint.restore or tf.keras.Model.load_weights) but not all checkpointed values were used. See above for specific issues. Use expect_partial() on the load status object, e.g. tf.train.Checkpoint.restore(...).expect_partial(), to silence these warnings, or use assert_consumed() to make the check explicit. See https://www.tensorflow.org/guide/checkpoint#loading_mechanics for details.\n",
            "WARNING:tensorflow:Unresolved object in checkpoint: (root).optimizer.iter\n",
            "WARNING:tensorflow:Unresolved object in checkpoint: (root).optimizer.beta_1\n",
            "WARNING:tensorflow:Unresolved object in checkpoint: (root).optimizer.beta_2\n",
            "WARNING:tensorflow:Unresolved object in checkpoint: (root).optimizer.decay\n",
            "WARNING:tensorflow:Unresolved object in checkpoint: (root).optimizer.learning_rate\n",
            "WARNING:tensorflow:A checkpoint was restored (e.g. tf.train.Checkpoint.restore or tf.keras.Model.load_weights) but not all checkpointed values were used. See above for specific issues. Use expect_partial() on the load status object, e.g. tf.train.Checkpoint.restore(...).expect_partial(), to silence these warnings, or use assert_consumed() to make the check explicit. See https://www.tensorflow.org/guide/checkpoint#loading_mechanics for details.\n",
            "WARNING:tensorflow:Unresolved object in checkpoint: (root).optimizer.iter\n",
            "WARNING:tensorflow:Unresolved object in checkpoint: (root).optimizer.beta_1\n",
            "WARNING:tensorflow:Unresolved object in checkpoint: (root).optimizer.beta_2\n",
            "WARNING:tensorflow:Unresolved object in checkpoint: (root).optimizer.decay\n",
            "WARNING:tensorflow:Unresolved object in checkpoint: (root).optimizer.learning_rate\n",
            "WARNING:tensorflow:A checkpoint was restored (e.g. tf.train.Checkpoint.restore or tf.keras.Model.load_weights) but not all checkpointed values were used. See above for specific issues. Use expect_partial() on the load status object, e.g. tf.train.Checkpoint.restore(...).expect_partial(), to silence these warnings, or use assert_consumed() to make the check explicit. See https://www.tensorflow.org/guide/checkpoint#loading_mechanics for details.\n",
            "WARNING:tensorflow:Unresolved object in checkpoint: (root).optimizer.iter\n",
            "WARNING:tensorflow:Unresolved object in checkpoint: (root).optimizer.beta_1\n",
            "WARNING:tensorflow:Unresolved object in checkpoint: (root).optimizer.beta_2\n",
            "WARNING:tensorflow:Unresolved object in checkpoint: (root).optimizer.decay\n",
            "WARNING:tensorflow:Unresolved object in checkpoint: (root).optimizer.learning_rate\n",
            "WARNING:tensorflow:A checkpoint was restored (e.g. tf.train.Checkpoint.restore or tf.keras.Model.load_weights) but not all checkpointed values were used. See above for specific issues. Use expect_partial() on the load status object, e.g. tf.train.Checkpoint.restore(...).expect_partial(), to silence these warnings, or use assert_consumed() to make the check explicit. See https://www.tensorflow.org/guide/checkpoint#loading_mechanics for details.\n",
            "WARNING:tensorflow:Unresolved object in checkpoint: (root).optimizer.iter\n",
            "WARNING:tensorflow:Unresolved object in checkpoint: (root).optimizer.beta_1\n",
            "WARNING:tensorflow:Unresolved object in checkpoint: (root).optimizer.beta_2\n",
            "WARNING:tensorflow:Unresolved object in checkpoint: (root).optimizer.decay\n",
            "WARNING:tensorflow:Unresolved object in checkpoint: (root).optimizer.learning_rate\n",
            "WARNING:tensorflow:A checkpoint was restored (e.g. tf.train.Checkpoint.restore or tf.keras.Model.load_weights) but not all checkpointed values were used. See above for specific issues. Use expect_partial() on the load status object, e.g. tf.train.Checkpoint.restore(...).expect_partial(), to silence these warnings, or use assert_consumed() to make the check explicit. See https://www.tensorflow.org/guide/checkpoint#loading_mechanics for details.\n",
            "WARNING:tensorflow:Unresolved object in checkpoint: (root).optimizer.iter\n",
            "WARNING:tensorflow:Unresolved object in checkpoint: (root).optimizer.beta_1\n",
            "WARNING:tensorflow:Unresolved object in checkpoint: (root).optimizer.beta_2\n",
            "WARNING:tensorflow:Unresolved object in checkpoint: (root).optimizer.decay\n",
            "WARNING:tensorflow:Unresolved object in checkpoint: (root).optimizer.learning_rate\n",
            "WARNING:tensorflow:A checkpoint was restored (e.g. tf.train.Checkpoint.restore or tf.keras.Model.load_weights) but not all checkpointed values were used. See above for specific issues. Use expect_partial() on the load status object, e.g. tf.train.Checkpoint.restore(...).expect_partial(), to silence these warnings, or use assert_consumed() to make the check explicit. See https://www.tensorflow.org/guide/checkpoint#loading_mechanics for details.\n",
            "WARNING:tensorflow:Unresolved object in checkpoint: (root).optimizer.iter\n",
            "WARNING:tensorflow:Unresolved object in checkpoint: (root).optimizer.beta_1\n",
            "WARNING:tensorflow:Unresolved object in checkpoint: (root).optimizer.beta_2\n",
            "WARNING:tensorflow:Unresolved object in checkpoint: (root).optimizer.decay\n",
            "WARNING:tensorflow:Unresolved object in checkpoint: (root).optimizer.learning_rate\n",
            "WARNING:tensorflow:A checkpoint was restored (e.g. tf.train.Checkpoint.restore or tf.keras.Model.load_weights) but not all checkpointed values were used. See above for specific issues. Use expect_partial() on the load status object, e.g. tf.train.Checkpoint.restore(...).expect_partial(), to silence these warnings, or use assert_consumed() to make the check explicit. See https://www.tensorflow.org/guide/checkpoint#loading_mechanics for details.\n",
            "WARNING:tensorflow:Unresolved object in checkpoint: (root).optimizer.iter\n",
            "WARNING:tensorflow:Unresolved object in checkpoint: (root).optimizer.beta_1\n",
            "WARNING:tensorflow:Unresolved object in checkpoint: (root).optimizer.beta_2\n",
            "WARNING:tensorflow:Unresolved object in checkpoint: (root).optimizer.decay\n",
            "WARNING:tensorflow:Unresolved object in checkpoint: (root).optimizer.learning_rate\n",
            "WARNING:tensorflow:A checkpoint was restored (e.g. tf.train.Checkpoint.restore or tf.keras.Model.load_weights) but not all checkpointed values were used. See above for specific issues. Use expect_partial() on the load status object, e.g. tf.train.Checkpoint.restore(...).expect_partial(), to silence these warnings, or use assert_consumed() to make the check explicit. See https://www.tensorflow.org/guide/checkpoint#loading_mechanics for details.\n",
            "WARNING:tensorflow:Unresolved object in checkpoint: (root).optimizer.iter\n",
            "WARNING:tensorflow:Unresolved object in checkpoint: (root).optimizer.beta_1\n",
            "WARNING:tensorflow:Unresolved object in checkpoint: (root).optimizer.beta_2\n",
            "WARNING:tensorflow:Unresolved object in checkpoint: (root).optimizer.decay\n",
            "WARNING:tensorflow:Unresolved object in checkpoint: (root).optimizer.learning_rate\n",
            "WARNING:tensorflow:A checkpoint was restored (e.g. tf.train.Checkpoint.restore or tf.keras.Model.load_weights) but not all checkpointed values were used. See above for specific issues. Use expect_partial() on the load status object, e.g. tf.train.Checkpoint.restore(...).expect_partial(), to silence these warnings, or use assert_consumed() to make the check explicit. See https://www.tensorflow.org/guide/checkpoint#loading_mechanics for details.\n",
            "WARNING:tensorflow:Unresolved object in checkpoint: (root).optimizer.iter\n",
            "WARNING:tensorflow:Unresolved object in checkpoint: (root).optimizer.beta_1\n",
            "WARNING:tensorflow:Unresolved object in checkpoint: (root).optimizer.beta_2\n",
            "WARNING:tensorflow:Unresolved object in checkpoint: (root).optimizer.decay\n",
            "WARNING:tensorflow:Unresolved object in checkpoint: (root).optimizer.learning_rate\n",
            "WARNING:tensorflow:A checkpoint was restored (e.g. tf.train.Checkpoint.restore or tf.keras.Model.load_weights) but not all checkpointed values were used. See above for specific issues. Use expect_partial() on the load status object, e.g. tf.train.Checkpoint.restore(...).expect_partial(), to silence these warnings, or use assert_consumed() to make the check explicit. See https://www.tensorflow.org/guide/checkpoint#loading_mechanics for details.\n",
            "WARNING:tensorflow:Unresolved object in checkpoint: (root).optimizer.iter\n",
            "WARNING:tensorflow:Unresolved object in checkpoint: (root).optimizer.beta_1\n",
            "WARNING:tensorflow:Unresolved object in checkpoint: (root).optimizer.beta_2\n",
            "WARNING:tensorflow:Unresolved object in checkpoint: (root).optimizer.decay\n",
            "WARNING:tensorflow:Unresolved object in checkpoint: (root).optimizer.learning_rate\n",
            "WARNING:tensorflow:A checkpoint was restored (e.g. tf.train.Checkpoint.restore or tf.keras.Model.load_weights) but not all checkpointed values were used. See above for specific issues. Use expect_partial() on the load status object, e.g. tf.train.Checkpoint.restore(...).expect_partial(), to silence these warnings, or use assert_consumed() to make the check explicit. See https://www.tensorflow.org/guide/checkpoint#loading_mechanics for details.\n",
            "WARNING:tensorflow:Unresolved object in checkpoint: (root).optimizer.iter\n",
            "WARNING:tensorflow:Unresolved object in checkpoint: (root).optimizer.beta_1\n",
            "WARNING:tensorflow:Unresolved object in checkpoint: (root).optimizer.beta_2\n",
            "WARNING:tensorflow:Unresolved object in checkpoint: (root).optimizer.decay\n",
            "WARNING:tensorflow:Unresolved object in checkpoint: (root).optimizer.learning_rate\n",
            "WARNING:tensorflow:A checkpoint was restored (e.g. tf.train.Checkpoint.restore or tf.keras.Model.load_weights) but not all checkpointed values were used. See above for specific issues. Use expect_partial() on the load status object, e.g. tf.train.Checkpoint.restore(...).expect_partial(), to silence these warnings, or use assert_consumed() to make the check explicit. See https://www.tensorflow.org/guide/checkpoint#loading_mechanics for details.\n",
            "WARNING:tensorflow:Unresolved object in checkpoint: (root).optimizer.iter\n",
            "WARNING:tensorflow:Unresolved object in checkpoint: (root).optimizer.beta_1\n",
            "WARNING:tensorflow:Unresolved object in checkpoint: (root).optimizer.beta_2\n",
            "WARNING:tensorflow:Unresolved object in checkpoint: (root).optimizer.decay\n",
            "WARNING:tensorflow:Unresolved object in checkpoint: (root).optimizer.learning_rate\n",
            "WARNING:tensorflow:A checkpoint was restored (e.g. tf.train.Checkpoint.restore or tf.keras.Model.load_weights) but not all checkpointed values were used. See above for specific issues. Use expect_partial() on the load status object, e.g. tf.train.Checkpoint.restore(...).expect_partial(), to silence these warnings, or use assert_consumed() to make the check explicit. See https://www.tensorflow.org/guide/checkpoint#loading_mechanics for details.\n",
            "WARNING:tensorflow:Unresolved object in checkpoint: (root).optimizer.iter\n",
            "WARNING:tensorflow:Unresolved object in checkpoint: (root).optimizer.beta_1\n",
            "WARNING:tensorflow:Unresolved object in checkpoint: (root).optimizer.beta_2\n",
            "WARNING:tensorflow:Unresolved object in checkpoint: (root).optimizer.decay\n",
            "WARNING:tensorflow:Unresolved object in checkpoint: (root).optimizer.learning_rate\n",
            "WARNING:tensorflow:A checkpoint was restored (e.g. tf.train.Checkpoint.restore or tf.keras.Model.load_weights) but not all checkpointed values were used. See above for specific issues. Use expect_partial() on the load status object, e.g. tf.train.Checkpoint.restore(...).expect_partial(), to silence these warnings, or use assert_consumed() to make the check explicit. See https://www.tensorflow.org/guide/checkpoint#loading_mechanics for details.\n",
            "WARNING:tensorflow:Unresolved object in checkpoint: (root).optimizer.iter\n",
            "WARNING:tensorflow:Unresolved object in checkpoint: (root).optimizer.beta_1\n",
            "WARNING:tensorflow:Unresolved object in checkpoint: (root).optimizer.beta_2\n",
            "WARNING:tensorflow:Unresolved object in checkpoint: (root).optimizer.decay\n",
            "WARNING:tensorflow:Unresolved object in checkpoint: (root).optimizer.learning_rate\n",
            "WARNING:tensorflow:A checkpoint was restored (e.g. tf.train.Checkpoint.restore or tf.keras.Model.load_weights) but not all checkpointed values were used. See above for specific issues. Use expect_partial() on the load status object, e.g. tf.train.Checkpoint.restore(...).expect_partial(), to silence these warnings, or use assert_consumed() to make the check explicit. See https://www.tensorflow.org/guide/checkpoint#loading_mechanics for details.\n",
            "WARNING:tensorflow:Unresolved object in checkpoint: (root).optimizer.iter\n",
            "WARNING:tensorflow:Unresolved object in checkpoint: (root).optimizer.beta_1\n",
            "WARNING:tensorflow:Unresolved object in checkpoint: (root).optimizer.beta_2\n",
            "WARNING:tensorflow:Unresolved object in checkpoint: (root).optimizer.decay\n",
            "WARNING:tensorflow:Unresolved object in checkpoint: (root).optimizer.learning_rate\n",
            "WARNING:tensorflow:A checkpoint was restored (e.g. tf.train.Checkpoint.restore or tf.keras.Model.load_weights) but not all checkpointed values were used. See above for specific issues. Use expect_partial() on the load status object, e.g. tf.train.Checkpoint.restore(...).expect_partial(), to silence these warnings, or use assert_consumed() to make the check explicit. See https://www.tensorflow.org/guide/checkpoint#loading_mechanics for details.\n",
            "WARNING:tensorflow:Unresolved object in checkpoint: (root).optimizer.iter\n",
            "WARNING:tensorflow:Unresolved object in checkpoint: (root).optimizer.beta_1\n",
            "WARNING:tensorflow:Unresolved object in checkpoint: (root).optimizer.beta_2\n",
            "WARNING:tensorflow:Unresolved object in checkpoint: (root).optimizer.decay\n",
            "WARNING:tensorflow:Unresolved object in checkpoint: (root).optimizer.learning_rate\n",
            "WARNING:tensorflow:A checkpoint was restored (e.g. tf.train.Checkpoint.restore or tf.keras.Model.load_weights) but not all checkpointed values were used. See above for specific issues. Use expect_partial() on the load status object, e.g. tf.train.Checkpoint.restore(...).expect_partial(), to silence these warnings, or use assert_consumed() to make the check explicit. See https://www.tensorflow.org/guide/checkpoint#loading_mechanics for details.\n",
            "WARNING:tensorflow:Unresolved object in checkpoint: (root).optimizer.iter\n",
            "WARNING:tensorflow:Unresolved object in checkpoint: (root).optimizer.beta_1\n",
            "WARNING:tensorflow:Unresolved object in checkpoint: (root).optimizer.beta_2\n",
            "WARNING:tensorflow:Unresolved object in checkpoint: (root).optimizer.decay\n",
            "WARNING:tensorflow:Unresolved object in checkpoint: (root).optimizer.learning_rate\n",
            "WARNING:tensorflow:A checkpoint was restored (e.g. tf.train.Checkpoint.restore or tf.keras.Model.load_weights) but not all checkpointed values were used. See above for specific issues. Use expect_partial() on the load status object, e.g. tf.train.Checkpoint.restore(...).expect_partial(), to silence these warnings, or use assert_consumed() to make the check explicit. See https://www.tensorflow.org/guide/checkpoint#loading_mechanics for details.\n",
            "WARNING:tensorflow:Unresolved object in checkpoint: (root).optimizer.iter\n",
            "WARNING:tensorflow:Unresolved object in checkpoint: (root).optimizer.beta_1\n",
            "WARNING:tensorflow:Unresolved object in checkpoint: (root).optimizer.beta_2\n",
            "WARNING:tensorflow:Unresolved object in checkpoint: (root).optimizer.decay\n",
            "WARNING:tensorflow:Unresolved object in checkpoint: (root).optimizer.learning_rate\n",
            "WARNING:tensorflow:A checkpoint was restored (e.g. tf.train.Checkpoint.restore or tf.keras.Model.load_weights) but not all checkpointed values were used. See above for specific issues. Use expect_partial() on the load status object, e.g. tf.train.Checkpoint.restore(...).expect_partial(), to silence these warnings, or use assert_consumed() to make the check explicit. See https://www.tensorflow.org/guide/checkpoint#loading_mechanics for details.\n",
            "WARNING:tensorflow:Unresolved object in checkpoint: (root).optimizer.iter\n",
            "WARNING:tensorflow:Unresolved object in checkpoint: (root).optimizer.beta_1\n",
            "WARNING:tensorflow:Unresolved object in checkpoint: (root).optimizer.beta_2\n",
            "WARNING:tensorflow:Unresolved object in checkpoint: (root).optimizer.decay\n",
            "WARNING:tensorflow:Unresolved object in checkpoint: (root).optimizer.learning_rate\n",
            "WARNING:tensorflow:A checkpoint was restored (e.g. tf.train.Checkpoint.restore or tf.keras.Model.load_weights) but not all checkpointed values were used. See above for specific issues. Use expect_partial() on the load status object, e.g. tf.train.Checkpoint.restore(...).expect_partial(), to silence these warnings, or use assert_consumed() to make the check explicit. See https://www.tensorflow.org/guide/checkpoint#loading_mechanics for details.\n",
            "WARNING:tensorflow:Unresolved object in checkpoint: (root).optimizer.iter\n",
            "WARNING:tensorflow:Unresolved object in checkpoint: (root).optimizer.beta_1\n",
            "WARNING:tensorflow:Unresolved object in checkpoint: (root).optimizer.beta_2\n",
            "WARNING:tensorflow:Unresolved object in checkpoint: (root).optimizer.decay\n",
            "WARNING:tensorflow:Unresolved object in checkpoint: (root).optimizer.learning_rate\n",
            "WARNING:tensorflow:A checkpoint was restored (e.g. tf.train.Checkpoint.restore or tf.keras.Model.load_weights) but not all checkpointed values were used. See above for specific issues. Use expect_partial() on the load status object, e.g. tf.train.Checkpoint.restore(...).expect_partial(), to silence these warnings, or use assert_consumed() to make the check explicit. See https://www.tensorflow.org/guide/checkpoint#loading_mechanics for details.\n",
            "WARNING:tensorflow:Unresolved object in checkpoint: (root).optimizer.iter\n",
            "WARNING:tensorflow:Unresolved object in checkpoint: (root).optimizer.beta_1\n",
            "WARNING:tensorflow:Unresolved object in checkpoint: (root).optimizer.beta_2\n",
            "WARNING:tensorflow:Unresolved object in checkpoint: (root).optimizer.decay\n",
            "WARNING:tensorflow:Unresolved object in checkpoint: (root).optimizer.learning_rate\n",
            "WARNING:tensorflow:A checkpoint was restored (e.g. tf.train.Checkpoint.restore or tf.keras.Model.load_weights) but not all checkpointed values were used. See above for specific issues. Use expect_partial() on the load status object, e.g. tf.train.Checkpoint.restore(...).expect_partial(), to silence these warnings, or use assert_consumed() to make the check explicit. See https://www.tensorflow.org/guide/checkpoint#loading_mechanics for details.\n",
            "WARNING:tensorflow:Unresolved object in checkpoint: (root).optimizer.iter\n",
            "WARNING:tensorflow:Unresolved object in checkpoint: (root).optimizer.beta_1\n",
            "WARNING:tensorflow:Unresolved object in checkpoint: (root).optimizer.beta_2\n",
            "WARNING:tensorflow:Unresolved object in checkpoint: (root).optimizer.decay\n",
            "WARNING:tensorflow:Unresolved object in checkpoint: (root).optimizer.learning_rate\n",
            "WARNING:tensorflow:A checkpoint was restored (e.g. tf.train.Checkpoint.restore or tf.keras.Model.load_weights) but not all checkpointed values were used. See above for specific issues. Use expect_partial() on the load status object, e.g. tf.train.Checkpoint.restore(...).expect_partial(), to silence these warnings, or use assert_consumed() to make the check explicit. See https://www.tensorflow.org/guide/checkpoint#loading_mechanics for details.\n",
            "WARNING:tensorflow:Unresolved object in checkpoint: (root).optimizer.iter\n",
            "WARNING:tensorflow:Unresolved object in checkpoint: (root).optimizer.beta_1\n",
            "WARNING:tensorflow:Unresolved object in checkpoint: (root).optimizer.beta_2\n",
            "WARNING:tensorflow:Unresolved object in checkpoint: (root).optimizer.decay\n",
            "WARNING:tensorflow:Unresolved object in checkpoint: (root).optimizer.learning_rate\n",
            "WARNING:tensorflow:A checkpoint was restored (e.g. tf.train.Checkpoint.restore or tf.keras.Model.load_weights) but not all checkpointed values were used. See above for specific issues. Use expect_partial() on the load status object, e.g. tf.train.Checkpoint.restore(...).expect_partial(), to silence these warnings, or use assert_consumed() to make the check explicit. See https://www.tensorflow.org/guide/checkpoint#loading_mechanics for details.\n",
            "WARNING:tensorflow:Unresolved object in checkpoint: (root).optimizer.iter\n",
            "WARNING:tensorflow:Unresolved object in checkpoint: (root).optimizer.beta_1\n",
            "WARNING:tensorflow:Unresolved object in checkpoint: (root).optimizer.beta_2\n",
            "WARNING:tensorflow:Unresolved object in checkpoint: (root).optimizer.decay\n",
            "WARNING:tensorflow:Unresolved object in checkpoint: (root).optimizer.learning_rate\n",
            "WARNING:tensorflow:A checkpoint was restored (e.g. tf.train.Checkpoint.restore or tf.keras.Model.load_weights) but not all checkpointed values were used. See above for specific issues. Use expect_partial() on the load status object, e.g. tf.train.Checkpoint.restore(...).expect_partial(), to silence these warnings, or use assert_consumed() to make the check explicit. See https://www.tensorflow.org/guide/checkpoint#loading_mechanics for details.\n",
            "WARNING:tensorflow:Unresolved object in checkpoint: (root).optimizer.iter\n",
            "WARNING:tensorflow:Unresolved object in checkpoint: (root).optimizer.beta_1\n",
            "WARNING:tensorflow:Unresolved object in checkpoint: (root).optimizer.beta_2\n",
            "WARNING:tensorflow:Unresolved object in checkpoint: (root).optimizer.decay\n",
            "WARNING:tensorflow:Unresolved object in checkpoint: (root).optimizer.learning_rate\n",
            "WARNING:tensorflow:A checkpoint was restored (e.g. tf.train.Checkpoint.restore or tf.keras.Model.load_weights) but not all checkpointed values were used. See above for specific issues. Use expect_partial() on the load status object, e.g. tf.train.Checkpoint.restore(...).expect_partial(), to silence these warnings, or use assert_consumed() to make the check explicit. See https://www.tensorflow.org/guide/checkpoint#loading_mechanics for details.\n",
            "WARNING:tensorflow:Unresolved object in checkpoint: (root).optimizer.iter\n",
            "WARNING:tensorflow:Unresolved object in checkpoint: (root).optimizer.beta_1\n",
            "WARNING:tensorflow:Unresolved object in checkpoint: (root).optimizer.beta_2\n",
            "WARNING:tensorflow:Unresolved object in checkpoint: (root).optimizer.decay\n",
            "WARNING:tensorflow:Unresolved object in checkpoint: (root).optimizer.learning_rate\n",
            "WARNING:tensorflow:A checkpoint was restored (e.g. tf.train.Checkpoint.restore or tf.keras.Model.load_weights) but not all checkpointed values were used. See above for specific issues. Use expect_partial() on the load status object, e.g. tf.train.Checkpoint.restore(...).expect_partial(), to silence these warnings, or use assert_consumed() to make the check explicit. See https://www.tensorflow.org/guide/checkpoint#loading_mechanics for details.\n",
            "WARNING:tensorflow:Unresolved object in checkpoint: (root).optimizer.iter\n",
            "WARNING:tensorflow:Unresolved object in checkpoint: (root).optimizer.beta_1\n",
            "WARNING:tensorflow:Unresolved object in checkpoint: (root).optimizer.beta_2\n",
            "WARNING:tensorflow:Unresolved object in checkpoint: (root).optimizer.decay\n",
            "WARNING:tensorflow:Unresolved object in checkpoint: (root).optimizer.learning_rate\n",
            "WARNING:tensorflow:A checkpoint was restored (e.g. tf.train.Checkpoint.restore or tf.keras.Model.load_weights) but not all checkpointed values were used. See above for specific issues. Use expect_partial() on the load status object, e.g. tf.train.Checkpoint.restore(...).expect_partial(), to silence these warnings, or use assert_consumed() to make the check explicit. See https://www.tensorflow.org/guide/checkpoint#loading_mechanics for details.\n",
            "WARNING:tensorflow:Unresolved object in checkpoint: (root).optimizer.iter\n",
            "WARNING:tensorflow:Unresolved object in checkpoint: (root).optimizer.beta_1\n",
            "WARNING:tensorflow:Unresolved object in checkpoint: (root).optimizer.beta_2\n",
            "WARNING:tensorflow:Unresolved object in checkpoint: (root).optimizer.decay\n",
            "WARNING:tensorflow:Unresolved object in checkpoint: (root).optimizer.learning_rate\n",
            "WARNING:tensorflow:A checkpoint was restored (e.g. tf.train.Checkpoint.restore or tf.keras.Model.load_weights) but not all checkpointed values were used. See above for specific issues. Use expect_partial() on the load status object, e.g. tf.train.Checkpoint.restore(...).expect_partial(), to silence these warnings, or use assert_consumed() to make the check explicit. See https://www.tensorflow.org/guide/checkpoint#loading_mechanics for details.\n",
            "WARNING:tensorflow:Unresolved object in checkpoint: (root).optimizer.iter\n",
            "WARNING:tensorflow:Unresolved object in checkpoint: (root).optimizer.beta_1\n",
            "WARNING:tensorflow:Unresolved object in checkpoint: (root).optimizer.beta_2\n",
            "WARNING:tensorflow:Unresolved object in checkpoint: (root).optimizer.decay\n",
            "WARNING:tensorflow:Unresolved object in checkpoint: (root).optimizer.learning_rate\n",
            "WARNING:tensorflow:A checkpoint was restored (e.g. tf.train.Checkpoint.restore or tf.keras.Model.load_weights) but not all checkpointed values were used. See above for specific issues. Use expect_partial() on the load status object, e.g. tf.train.Checkpoint.restore(...).expect_partial(), to silence these warnings, or use assert_consumed() to make the check explicit. See https://www.tensorflow.org/guide/checkpoint#loading_mechanics for details.\n",
            "WARNING:tensorflow:Unresolved object in checkpoint: (root).optimizer.iter\n",
            "WARNING:tensorflow:Unresolved object in checkpoint: (root).optimizer.beta_1\n",
            "WARNING:tensorflow:Unresolved object in checkpoint: (root).optimizer.beta_2\n",
            "WARNING:tensorflow:Unresolved object in checkpoint: (root).optimizer.decay\n",
            "WARNING:tensorflow:Unresolved object in checkpoint: (root).optimizer.learning_rate\n",
            "WARNING:tensorflow:A checkpoint was restored (e.g. tf.train.Checkpoint.restore or tf.keras.Model.load_weights) but not all checkpointed values were used. See above for specific issues. Use expect_partial() on the load status object, e.g. tf.train.Checkpoint.restore(...).expect_partial(), to silence these warnings, or use assert_consumed() to make the check explicit. See https://www.tensorflow.org/guide/checkpoint#loading_mechanics for details.\n",
            "WARNING:tensorflow:Unresolved object in checkpoint: (root).optimizer.iter\n",
            "WARNING:tensorflow:Unresolved object in checkpoint: (root).optimizer.beta_1\n",
            "WARNING:tensorflow:Unresolved object in checkpoint: (root).optimizer.beta_2\n",
            "WARNING:tensorflow:Unresolved object in checkpoint: (root).optimizer.decay\n",
            "WARNING:tensorflow:Unresolved object in checkpoint: (root).optimizer.learning_rate\n",
            "WARNING:tensorflow:A checkpoint was restored (e.g. tf.train.Checkpoint.restore or tf.keras.Model.load_weights) but not all checkpointed values were used. See above for specific issues. Use expect_partial() on the load status object, e.g. tf.train.Checkpoint.restore(...).expect_partial(), to silence these warnings, or use assert_consumed() to make the check explicit. See https://www.tensorflow.org/guide/checkpoint#loading_mechanics for details.\n",
            "WARNING:tensorflow:Unresolved object in checkpoint: (root).optimizer.iter\n",
            "WARNING:tensorflow:Unresolved object in checkpoint: (root).optimizer.beta_1\n",
            "WARNING:tensorflow:Unresolved object in checkpoint: (root).optimizer.beta_2\n",
            "WARNING:tensorflow:Unresolved object in checkpoint: (root).optimizer.decay\n",
            "WARNING:tensorflow:Unresolved object in checkpoint: (root).optimizer.learning_rate\n",
            "WARNING:tensorflow:A checkpoint was restored (e.g. tf.train.Checkpoint.restore or tf.keras.Model.load_weights) but not all checkpointed values were used. See above for specific issues. Use expect_partial() on the load status object, e.g. tf.train.Checkpoint.restore(...).expect_partial(), to silence these warnings, or use assert_consumed() to make the check explicit. See https://www.tensorflow.org/guide/checkpoint#loading_mechanics for details.\n",
            "WARNING:tensorflow:Unresolved object in checkpoint: (root).optimizer.iter\n",
            "WARNING:tensorflow:Unresolved object in checkpoint: (root).optimizer.beta_1\n",
            "WARNING:tensorflow:Unresolved object in checkpoint: (root).optimizer.beta_2\n",
            "WARNING:tensorflow:Unresolved object in checkpoint: (root).optimizer.decay\n",
            "WARNING:tensorflow:Unresolved object in checkpoint: (root).optimizer.learning_rate\n",
            "WARNING:tensorflow:A checkpoint was restored (e.g. tf.train.Checkpoint.restore or tf.keras.Model.load_weights) but not all checkpointed values were used. See above for specific issues. Use expect_partial() on the load status object, e.g. tf.train.Checkpoint.restore(...).expect_partial(), to silence these warnings, or use assert_consumed() to make the check explicit. See https://www.tensorflow.org/guide/checkpoint#loading_mechanics for details.\n",
            "WARNING:tensorflow:Unresolved object in checkpoint: (root).optimizer.iter\n",
            "WARNING:tensorflow:Unresolved object in checkpoint: (root).optimizer.beta_1\n",
            "WARNING:tensorflow:Unresolved object in checkpoint: (root).optimizer.beta_2\n",
            "WARNING:tensorflow:Unresolved object in checkpoint: (root).optimizer.decay\n",
            "WARNING:tensorflow:Unresolved object in checkpoint: (root).optimizer.learning_rate\n",
            "WARNING:tensorflow:A checkpoint was restored (e.g. tf.train.Checkpoint.restore or tf.keras.Model.load_weights) but not all checkpointed values were used. See above for specific issues. Use expect_partial() on the load status object, e.g. tf.train.Checkpoint.restore(...).expect_partial(), to silence these warnings, or use assert_consumed() to make the check explicit. See https://www.tensorflow.org/guide/checkpoint#loading_mechanics for details.\n",
            "WARNING:tensorflow:Unresolved object in checkpoint: (root).optimizer.iter\n",
            "WARNING:tensorflow:Unresolved object in checkpoint: (root).optimizer.beta_1\n",
            "WARNING:tensorflow:Unresolved object in checkpoint: (root).optimizer.beta_2\n",
            "WARNING:tensorflow:Unresolved object in checkpoint: (root).optimizer.decay\n",
            "WARNING:tensorflow:Unresolved object in checkpoint: (root).optimizer.learning_rate\n",
            "WARNING:tensorflow:A checkpoint was restored (e.g. tf.train.Checkpoint.restore or tf.keras.Model.load_weights) but not all checkpointed values were used. See above for specific issues. Use expect_partial() on the load status object, e.g. tf.train.Checkpoint.restore(...).expect_partial(), to silence these warnings, or use assert_consumed() to make the check explicit. See https://www.tensorflow.org/guide/checkpoint#loading_mechanics for details.\n",
            "WARNING:tensorflow:Unresolved object in checkpoint: (root).optimizer.iter\n",
            "WARNING:tensorflow:Unresolved object in checkpoint: (root).optimizer.beta_1\n",
            "WARNING:tensorflow:Unresolved object in checkpoint: (root).optimizer.beta_2\n",
            "WARNING:tensorflow:Unresolved object in checkpoint: (root).optimizer.decay\n",
            "WARNING:tensorflow:Unresolved object in checkpoint: (root).optimizer.learning_rate\n",
            "WARNING:tensorflow:A checkpoint was restored (e.g. tf.train.Checkpoint.restore or tf.keras.Model.load_weights) but not all checkpointed values were used. See above for specific issues. Use expect_partial() on the load status object, e.g. tf.train.Checkpoint.restore(...).expect_partial(), to silence these warnings, or use assert_consumed() to make the check explicit. See https://www.tensorflow.org/guide/checkpoint#loading_mechanics for details.\n",
            "WARNING:tensorflow:Unresolved object in checkpoint: (root).optimizer.iter\n",
            "WARNING:tensorflow:Unresolved object in checkpoint: (root).optimizer.beta_1\n",
            "WARNING:tensorflow:Unresolved object in checkpoint: (root).optimizer.beta_2\n",
            "WARNING:tensorflow:Unresolved object in checkpoint: (root).optimizer.decay\n",
            "WARNING:tensorflow:Unresolved object in checkpoint: (root).optimizer.learning_rate\n",
            "WARNING:tensorflow:A checkpoint was restored (e.g. tf.train.Checkpoint.restore or tf.keras.Model.load_weights) but not all checkpointed values were used. See above for specific issues. Use expect_partial() on the load status object, e.g. tf.train.Checkpoint.restore(...).expect_partial(), to silence these warnings, or use assert_consumed() to make the check explicit. See https://www.tensorflow.org/guide/checkpoint#loading_mechanics for details.\n",
            "WARNING:tensorflow:Unresolved object in checkpoint: (root).optimizer.iter\n",
            "WARNING:tensorflow:Unresolved object in checkpoint: (root).optimizer.beta_1\n",
            "WARNING:tensorflow:Unresolved object in checkpoint: (root).optimizer.beta_2\n",
            "WARNING:tensorflow:Unresolved object in checkpoint: (root).optimizer.decay\n",
            "WARNING:tensorflow:Unresolved object in checkpoint: (root).optimizer.learning_rate\n",
            "WARNING:tensorflow:A checkpoint was restored (e.g. tf.train.Checkpoint.restore or tf.keras.Model.load_weights) but not all checkpointed values were used. See above for specific issues. Use expect_partial() on the load status object, e.g. tf.train.Checkpoint.restore(...).expect_partial(), to silence these warnings, or use assert_consumed() to make the check explicit. See https://www.tensorflow.org/guide/checkpoint#loading_mechanics for details.\n",
            "WARNING:tensorflow:Unresolved object in checkpoint: (root).optimizer.iter\n",
            "WARNING:tensorflow:Unresolved object in checkpoint: (root).optimizer.beta_1\n",
            "WARNING:tensorflow:Unresolved object in checkpoint: (root).optimizer.beta_2\n",
            "WARNING:tensorflow:Unresolved object in checkpoint: (root).optimizer.decay\n",
            "WARNING:tensorflow:Unresolved object in checkpoint: (root).optimizer.learning_rate\n",
            "WARNING:tensorflow:A checkpoint was restored (e.g. tf.train.Checkpoint.restore or tf.keras.Model.load_weights) but not all checkpointed values were used. See above for specific issues. Use expect_partial() on the load status object, e.g. tf.train.Checkpoint.restore(...).expect_partial(), to silence these warnings, or use assert_consumed() to make the check explicit. See https://www.tensorflow.org/guide/checkpoint#loading_mechanics for details.\n",
            "WARNING:tensorflow:Unresolved object in checkpoint: (root).optimizer.iter\n",
            "WARNING:tensorflow:Unresolved object in checkpoint: (root).optimizer.beta_1\n",
            "WARNING:tensorflow:Unresolved object in checkpoint: (root).optimizer.beta_2\n",
            "WARNING:tensorflow:Unresolved object in checkpoint: (root).optimizer.decay\n",
            "WARNING:tensorflow:Unresolved object in checkpoint: (root).optimizer.learning_rate\n",
            "WARNING:tensorflow:A checkpoint was restored (e.g. tf.train.Checkpoint.restore or tf.keras.Model.load_weights) but not all checkpointed values were used. See above for specific issues. Use expect_partial() on the load status object, e.g. tf.train.Checkpoint.restore(...).expect_partial(), to silence these warnings, or use assert_consumed() to make the check explicit. See https://www.tensorflow.org/guide/checkpoint#loading_mechanics for details.\n",
            "WARNING:tensorflow:Unresolved object in checkpoint: (root).optimizer.iter\n",
            "WARNING:tensorflow:Unresolved object in checkpoint: (root).optimizer.beta_1\n",
            "WARNING:tensorflow:Unresolved object in checkpoint: (root).optimizer.beta_2\n",
            "WARNING:tensorflow:Unresolved object in checkpoint: (root).optimizer.decay\n",
            "WARNING:tensorflow:Unresolved object in checkpoint: (root).optimizer.learning_rate\n",
            "WARNING:tensorflow:A checkpoint was restored (e.g. tf.train.Checkpoint.restore or tf.keras.Model.load_weights) but not all checkpointed values were used. See above for specific issues. Use expect_partial() on the load status object, e.g. tf.train.Checkpoint.restore(...).expect_partial(), to silence these warnings, or use assert_consumed() to make the check explicit. See https://www.tensorflow.org/guide/checkpoint#loading_mechanics for details.\n",
            "WARNING:tensorflow:Unresolved object in checkpoint: (root).optimizer.iter\n",
            "WARNING:tensorflow:Unresolved object in checkpoint: (root).optimizer.beta_1\n",
            "WARNING:tensorflow:Unresolved object in checkpoint: (root).optimizer.beta_2\n",
            "WARNING:tensorflow:Unresolved object in checkpoint: (root).optimizer.decay\n",
            "WARNING:tensorflow:Unresolved object in checkpoint: (root).optimizer.learning_rate\n",
            "WARNING:tensorflow:A checkpoint was restored (e.g. tf.train.Checkpoint.restore or tf.keras.Model.load_weights) but not all checkpointed values were used. See above for specific issues. Use expect_partial() on the load status object, e.g. tf.train.Checkpoint.restore(...).expect_partial(), to silence these warnings, or use assert_consumed() to make the check explicit. See https://www.tensorflow.org/guide/checkpoint#loading_mechanics for details.\n",
            "WARNING:tensorflow:Unresolved object in checkpoint: (root).optimizer.iter\n",
            "WARNING:tensorflow:Unresolved object in checkpoint: (root).optimizer.beta_1\n",
            "WARNING:tensorflow:Unresolved object in checkpoint: (root).optimizer.beta_2\n",
            "WARNING:tensorflow:Unresolved object in checkpoint: (root).optimizer.decay\n",
            "WARNING:tensorflow:Unresolved object in checkpoint: (root).optimizer.learning_rate\n",
            "WARNING:tensorflow:A checkpoint was restored (e.g. tf.train.Checkpoint.restore or tf.keras.Model.load_weights) but not all checkpointed values were used. See above for specific issues. Use expect_partial() on the load status object, e.g. tf.train.Checkpoint.restore(...).expect_partial(), to silence these warnings, or use assert_consumed() to make the check explicit. See https://www.tensorflow.org/guide/checkpoint#loading_mechanics for details.\n",
            "WARNING:tensorflow:Unresolved object in checkpoint: (root).optimizer.iter\n",
            "WARNING:tensorflow:Unresolved object in checkpoint: (root).optimizer.beta_1\n",
            "WARNING:tensorflow:Unresolved object in checkpoint: (root).optimizer.beta_2\n",
            "WARNING:tensorflow:Unresolved object in checkpoint: (root).optimizer.decay\n",
            "WARNING:tensorflow:Unresolved object in checkpoint: (root).optimizer.learning_rate\n",
            "WARNING:tensorflow:A checkpoint was restored (e.g. tf.train.Checkpoint.restore or tf.keras.Model.load_weights) but not all checkpointed values were used. See above for specific issues. Use expect_partial() on the load status object, e.g. tf.train.Checkpoint.restore(...).expect_partial(), to silence these warnings, or use assert_consumed() to make the check explicit. See https://www.tensorflow.org/guide/checkpoint#loading_mechanics for details.\n",
            "WARNING:tensorflow:Unresolved object in checkpoint: (root).optimizer.iter\n",
            "WARNING:tensorflow:Unresolved object in checkpoint: (root).optimizer.beta_1\n",
            "WARNING:tensorflow:Unresolved object in checkpoint: (root).optimizer.beta_2\n",
            "WARNING:tensorflow:Unresolved object in checkpoint: (root).optimizer.decay\n",
            "WARNING:tensorflow:Unresolved object in checkpoint: (root).optimizer.learning_rate\n",
            "WARNING:tensorflow:A checkpoint was restored (e.g. tf.train.Checkpoint.restore or tf.keras.Model.load_weights) but not all checkpointed values were used. See above for specific issues. Use expect_partial() on the load status object, e.g. tf.train.Checkpoint.restore(...).expect_partial(), to silence these warnings, or use assert_consumed() to make the check explicit. See https://www.tensorflow.org/guide/checkpoint#loading_mechanics for details.\n",
            "WARNING:tensorflow:Unresolved object in checkpoint: (root).optimizer.iter\n",
            "WARNING:tensorflow:Unresolved object in checkpoint: (root).optimizer.beta_1\n",
            "WARNING:tensorflow:Unresolved object in checkpoint: (root).optimizer.beta_2\n",
            "WARNING:tensorflow:Unresolved object in checkpoint: (root).optimizer.decay\n",
            "WARNING:tensorflow:Unresolved object in checkpoint: (root).optimizer.learning_rate\n",
            "WARNING:tensorflow:A checkpoint was restored (e.g. tf.train.Checkpoint.restore or tf.keras.Model.load_weights) but not all checkpointed values were used. See above for specific issues. Use expect_partial() on the load status object, e.g. tf.train.Checkpoint.restore(...).expect_partial(), to silence these warnings, or use assert_consumed() to make the check explicit. See https://www.tensorflow.org/guide/checkpoint#loading_mechanics for details.\n",
            "WARNING:tensorflow:Unresolved object in checkpoint: (root).optimizer.iter\n",
            "WARNING:tensorflow:Unresolved object in checkpoint: (root).optimizer.beta_1\n",
            "WARNING:tensorflow:Unresolved object in checkpoint: (root).optimizer.beta_2\n",
            "WARNING:tensorflow:Unresolved object in checkpoint: (root).optimizer.decay\n",
            "WARNING:tensorflow:Unresolved object in checkpoint: (root).optimizer.learning_rate\n",
            "WARNING:tensorflow:A checkpoint was restored (e.g. tf.train.Checkpoint.restore or tf.keras.Model.load_weights) but not all checkpointed values were used. See above for specific issues. Use expect_partial() on the load status object, e.g. tf.train.Checkpoint.restore(...).expect_partial(), to silence these warnings, or use assert_consumed() to make the check explicit. See https://www.tensorflow.org/guide/checkpoint#loading_mechanics for details.\n",
            "WARNING:tensorflow:Unresolved object in checkpoint: (root).optimizer.iter\n",
            "WARNING:tensorflow:Unresolved object in checkpoint: (root).optimizer.beta_1\n",
            "WARNING:tensorflow:Unresolved object in checkpoint: (root).optimizer.beta_2\n",
            "WARNING:tensorflow:Unresolved object in checkpoint: (root).optimizer.decay\n",
            "WARNING:tensorflow:Unresolved object in checkpoint: (root).optimizer.learning_rate\n",
            "WARNING:tensorflow:A checkpoint was restored (e.g. tf.train.Checkpoint.restore or tf.keras.Model.load_weights) but not all checkpointed values were used. See above for specific issues. Use expect_partial() on the load status object, e.g. tf.train.Checkpoint.restore(...).expect_partial(), to silence these warnings, or use assert_consumed() to make the check explicit. See https://www.tensorflow.org/guide/checkpoint#loading_mechanics for details.\n",
            "WARNING:tensorflow:Unresolved object in checkpoint: (root).optimizer.iter\n",
            "WARNING:tensorflow:Unresolved object in checkpoint: (root).optimizer.beta_1\n",
            "WARNING:tensorflow:Unresolved object in checkpoint: (root).optimizer.beta_2\n",
            "WARNING:tensorflow:Unresolved object in checkpoint: (root).optimizer.decay\n",
            "WARNING:tensorflow:Unresolved object in checkpoint: (root).optimizer.learning_rate\n",
            "WARNING:tensorflow:A checkpoint was restored (e.g. tf.train.Checkpoint.restore or tf.keras.Model.load_weights) but not all checkpointed values were used. See above for specific issues. Use expect_partial() on the load status object, e.g. tf.train.Checkpoint.restore(...).expect_partial(), to silence these warnings, or use assert_consumed() to make the check explicit. See https://www.tensorflow.org/guide/checkpoint#loading_mechanics for details.\n",
            "WARNING:tensorflow:Unresolved object in checkpoint: (root).optimizer.iter\n",
            "WARNING:tensorflow:Unresolved object in checkpoint: (root).optimizer.beta_1\n",
            "WARNING:tensorflow:Unresolved object in checkpoint: (root).optimizer.beta_2\n",
            "WARNING:tensorflow:Unresolved object in checkpoint: (root).optimizer.decay\n",
            "WARNING:tensorflow:Unresolved object in checkpoint: (root).optimizer.learning_rate\n",
            "WARNING:tensorflow:A checkpoint was restored (e.g. tf.train.Checkpoint.restore or tf.keras.Model.load_weights) but not all checkpointed values were used. See above for specific issues. Use expect_partial() on the load status object, e.g. tf.train.Checkpoint.restore(...).expect_partial(), to silence these warnings, or use assert_consumed() to make the check explicit. See https://www.tensorflow.org/guide/checkpoint#loading_mechanics for details.\n",
            "WARNING:tensorflow:Unresolved object in checkpoint: (root).optimizer.iter\n",
            "WARNING:tensorflow:Unresolved object in checkpoint: (root).optimizer.beta_1\n",
            "WARNING:tensorflow:Unresolved object in checkpoint: (root).optimizer.beta_2\n",
            "WARNING:tensorflow:Unresolved object in checkpoint: (root).optimizer.decay\n",
            "WARNING:tensorflow:Unresolved object in checkpoint: (root).optimizer.learning_rate\n",
            "WARNING:tensorflow:A checkpoint was restored (e.g. tf.train.Checkpoint.restore or tf.keras.Model.load_weights) but not all checkpointed values were used. See above for specific issues. Use expect_partial() on the load status object, e.g. tf.train.Checkpoint.restore(...).expect_partial(), to silence these warnings, or use assert_consumed() to make the check explicit. See https://www.tensorflow.org/guide/checkpoint#loading_mechanics for details.\n",
            "WARNING:tensorflow:Unresolved object in checkpoint: (root).optimizer.iter\n",
            "WARNING:tensorflow:Unresolved object in checkpoint: (root).optimizer.beta_1\n",
            "WARNING:tensorflow:Unresolved object in checkpoint: (root).optimizer.beta_2\n",
            "WARNING:tensorflow:Unresolved object in checkpoint: (root).optimizer.decay\n",
            "WARNING:tensorflow:Unresolved object in checkpoint: (root).optimizer.learning_rate\n",
            "WARNING:tensorflow:A checkpoint was restored (e.g. tf.train.Checkpoint.restore or tf.keras.Model.load_weights) but not all checkpointed values were used. See above for specific issues. Use expect_partial() on the load status object, e.g. tf.train.Checkpoint.restore(...).expect_partial(), to silence these warnings, or use assert_consumed() to make the check explicit. See https://www.tensorflow.org/guide/checkpoint#loading_mechanics for details.\n",
            "WARNING:tensorflow:Unresolved object in checkpoint: (root).optimizer.iter\n",
            "WARNING:tensorflow:Unresolved object in checkpoint: (root).optimizer.beta_1\n",
            "WARNING:tensorflow:Unresolved object in checkpoint: (root).optimizer.beta_2\n",
            "WARNING:tensorflow:Unresolved object in checkpoint: (root).optimizer.decay\n",
            "WARNING:tensorflow:Unresolved object in checkpoint: (root).optimizer.learning_rate\n",
            "WARNING:tensorflow:A checkpoint was restored (e.g. tf.train.Checkpoint.restore or tf.keras.Model.load_weights) but not all checkpointed values were used. See above for specific issues. Use expect_partial() on the load status object, e.g. tf.train.Checkpoint.restore(...).expect_partial(), to silence these warnings, or use assert_consumed() to make the check explicit. See https://www.tensorflow.org/guide/checkpoint#loading_mechanics for details.\n",
            "WARNING:tensorflow:Unresolved object in checkpoint: (root).optimizer.iter\n",
            "WARNING:tensorflow:Unresolved object in checkpoint: (root).optimizer.beta_1\n",
            "WARNING:tensorflow:Unresolved object in checkpoint: (root).optimizer.beta_2\n",
            "WARNING:tensorflow:Unresolved object in checkpoint: (root).optimizer.decay\n",
            "WARNING:tensorflow:Unresolved object in checkpoint: (root).optimizer.learning_rate\n",
            "WARNING:tensorflow:A checkpoint was restored (e.g. tf.train.Checkpoint.restore or tf.keras.Model.load_weights) but not all checkpointed values were used. See above for specific issues. Use expect_partial() on the load status object, e.g. tf.train.Checkpoint.restore(...).expect_partial(), to silence these warnings, or use assert_consumed() to make the check explicit. See https://www.tensorflow.org/guide/checkpoint#loading_mechanics for details.\n",
            "WARNING:tensorflow:Unresolved object in checkpoint: (root).optimizer.iter\n",
            "WARNING:tensorflow:Unresolved object in checkpoint: (root).optimizer.beta_1\n",
            "WARNING:tensorflow:Unresolved object in checkpoint: (root).optimizer.beta_2\n",
            "WARNING:tensorflow:Unresolved object in checkpoint: (root).optimizer.decay\n",
            "WARNING:tensorflow:Unresolved object in checkpoint: (root).optimizer.learning_rate\n",
            "WARNING:tensorflow:A checkpoint was restored (e.g. tf.train.Checkpoint.restore or tf.keras.Model.load_weights) but not all checkpointed values were used. See above for specific issues. Use expect_partial() on the load status object, e.g. tf.train.Checkpoint.restore(...).expect_partial(), to silence these warnings, or use assert_consumed() to make the check explicit. See https://www.tensorflow.org/guide/checkpoint#loading_mechanics for details.\n",
            "WARNING:tensorflow:Unresolved object in checkpoint: (root).optimizer.iter\n",
            "WARNING:tensorflow:Unresolved object in checkpoint: (root).optimizer.beta_1\n",
            "WARNING:tensorflow:Unresolved object in checkpoint: (root).optimizer.beta_2\n",
            "WARNING:tensorflow:Unresolved object in checkpoint: (root).optimizer.decay\n",
            "WARNING:tensorflow:Unresolved object in checkpoint: (root).optimizer.learning_rate\n",
            "WARNING:tensorflow:A checkpoint was restored (e.g. tf.train.Checkpoint.restore or tf.keras.Model.load_weights) but not all checkpointed values were used. See above for specific issues. Use expect_partial() on the load status object, e.g. tf.train.Checkpoint.restore(...).expect_partial(), to silence these warnings, or use assert_consumed() to make the check explicit. See https://www.tensorflow.org/guide/checkpoint#loading_mechanics for details.\n",
            "WARNING:tensorflow:Unresolved object in checkpoint: (root).optimizer.iter\n",
            "WARNING:tensorflow:Unresolved object in checkpoint: (root).optimizer.beta_1\n",
            "WARNING:tensorflow:Unresolved object in checkpoint: (root).optimizer.beta_2\n",
            "WARNING:tensorflow:Unresolved object in checkpoint: (root).optimizer.decay\n",
            "WARNING:tensorflow:Unresolved object in checkpoint: (root).optimizer.learning_rate\n",
            "WARNING:tensorflow:A checkpoint was restored (e.g. tf.train.Checkpoint.restore or tf.keras.Model.load_weights) but not all checkpointed values were used. See above for specific issues. Use expect_partial() on the load status object, e.g. tf.train.Checkpoint.restore(...).expect_partial(), to silence these warnings, or use assert_consumed() to make the check explicit. See https://www.tensorflow.org/guide/checkpoint#loading_mechanics for details.\n",
            "WARNING:tensorflow:Unresolved object in checkpoint: (root).optimizer.iter\n",
            "WARNING:tensorflow:Unresolved object in checkpoint: (root).optimizer.beta_1\n",
            "WARNING:tensorflow:Unresolved object in checkpoint: (root).optimizer.beta_2\n",
            "WARNING:tensorflow:Unresolved object in checkpoint: (root).optimizer.decay\n",
            "WARNING:tensorflow:Unresolved object in checkpoint: (root).optimizer.learning_rate\n",
            "WARNING:tensorflow:A checkpoint was restored (e.g. tf.train.Checkpoint.restore or tf.keras.Model.load_weights) but not all checkpointed values were used. See above for specific issues. Use expect_partial() on the load status object, e.g. tf.train.Checkpoint.restore(...).expect_partial(), to silence these warnings, or use assert_consumed() to make the check explicit. See https://www.tensorflow.org/guide/checkpoint#loading_mechanics for details.\n",
            "WARNING:tensorflow:Unresolved object in checkpoint: (root).optimizer.iter\n",
            "WARNING:tensorflow:Unresolved object in checkpoint: (root).optimizer.beta_1\n",
            "WARNING:tensorflow:Unresolved object in checkpoint: (root).optimizer.beta_2\n",
            "WARNING:tensorflow:Unresolved object in checkpoint: (root).optimizer.decay\n",
            "WARNING:tensorflow:Unresolved object in checkpoint: (root).optimizer.learning_rate\n",
            "WARNING:tensorflow:A checkpoint was restored (e.g. tf.train.Checkpoint.restore or tf.keras.Model.load_weights) but not all checkpointed values were used. See above for specific issues. Use expect_partial() on the load status object, e.g. tf.train.Checkpoint.restore(...).expect_partial(), to silence these warnings, or use assert_consumed() to make the check explicit. See https://www.tensorflow.org/guide/checkpoint#loading_mechanics for details.\n",
            "WARNING:tensorflow:Unresolved object in checkpoint: (root).optimizer.iter\n",
            "WARNING:tensorflow:Unresolved object in checkpoint: (root).optimizer.beta_1\n",
            "WARNING:tensorflow:Unresolved object in checkpoint: (root).optimizer.beta_2\n",
            "WARNING:tensorflow:Unresolved object in checkpoint: (root).optimizer.decay\n",
            "WARNING:tensorflow:Unresolved object in checkpoint: (root).optimizer.learning_rate\n",
            "WARNING:tensorflow:A checkpoint was restored (e.g. tf.train.Checkpoint.restore or tf.keras.Model.load_weights) but not all checkpointed values were used. See above for specific issues. Use expect_partial() on the load status object, e.g. tf.train.Checkpoint.restore(...).expect_partial(), to silence these warnings, or use assert_consumed() to make the check explicit. See https://www.tensorflow.org/guide/checkpoint#loading_mechanics for details.\n",
            "WARNING:tensorflow:Unresolved object in checkpoint: (root).optimizer.iter\n",
            "WARNING:tensorflow:Unresolved object in checkpoint: (root).optimizer.beta_1\n",
            "WARNING:tensorflow:Unresolved object in checkpoint: (root).optimizer.beta_2\n",
            "WARNING:tensorflow:Unresolved object in checkpoint: (root).optimizer.decay\n",
            "WARNING:tensorflow:Unresolved object in checkpoint: (root).optimizer.learning_rate\n",
            "WARNING:tensorflow:A checkpoint was restored (e.g. tf.train.Checkpoint.restore or tf.keras.Model.load_weights) but not all checkpointed values were used. See above for specific issues. Use expect_partial() on the load status object, e.g. tf.train.Checkpoint.restore(...).expect_partial(), to silence these warnings, or use assert_consumed() to make the check explicit. See https://www.tensorflow.org/guide/checkpoint#loading_mechanics for details.\n",
            "WARNING:tensorflow:Unresolved object in checkpoint: (root).optimizer.iter\n",
            "WARNING:tensorflow:Unresolved object in checkpoint: (root).optimizer.beta_1\n",
            "WARNING:tensorflow:Unresolved object in checkpoint: (root).optimizer.beta_2\n",
            "WARNING:tensorflow:Unresolved object in checkpoint: (root).optimizer.decay\n",
            "WARNING:tensorflow:Unresolved object in checkpoint: (root).optimizer.learning_rate\n",
            "WARNING:tensorflow:A checkpoint was restored (e.g. tf.train.Checkpoint.restore or tf.keras.Model.load_weights) but not all checkpointed values were used. See above for specific issues. Use expect_partial() on the load status object, e.g. tf.train.Checkpoint.restore(...).expect_partial(), to silence these warnings, or use assert_consumed() to make the check explicit. See https://www.tensorflow.org/guide/checkpoint#loading_mechanics for details.\n",
            "WARNING:tensorflow:Unresolved object in checkpoint: (root).optimizer.iter\n",
            "WARNING:tensorflow:Unresolved object in checkpoint: (root).optimizer.beta_1\n",
            "WARNING:tensorflow:Unresolved object in checkpoint: (root).optimizer.beta_2\n",
            "WARNING:tensorflow:Unresolved object in checkpoint: (root).optimizer.decay\n",
            "WARNING:tensorflow:Unresolved object in checkpoint: (root).optimizer.learning_rate\n",
            "WARNING:tensorflow:A checkpoint was restored (e.g. tf.train.Checkpoint.restore or tf.keras.Model.load_weights) but not all checkpointed values were used. See above for specific issues. Use expect_partial() on the load status object, e.g. tf.train.Checkpoint.restore(...).expect_partial(), to silence these warnings, or use assert_consumed() to make the check explicit. See https://www.tensorflow.org/guide/checkpoint#loading_mechanics for details.\n",
            "WARNING:tensorflow:Unresolved object in checkpoint: (root).optimizer.iter\n",
            "WARNING:tensorflow:Unresolved object in checkpoint: (root).optimizer.beta_1\n",
            "WARNING:tensorflow:Unresolved object in checkpoint: (root).optimizer.beta_2\n",
            "WARNING:tensorflow:Unresolved object in checkpoint: (root).optimizer.decay\n",
            "WARNING:tensorflow:Unresolved object in checkpoint: (root).optimizer.learning_rate\n",
            "WARNING:tensorflow:A checkpoint was restored (e.g. tf.train.Checkpoint.restore or tf.keras.Model.load_weights) but not all checkpointed values were used. See above for specific issues. Use expect_partial() on the load status object, e.g. tf.train.Checkpoint.restore(...).expect_partial(), to silence these warnings, or use assert_consumed() to make the check explicit. See https://www.tensorflow.org/guide/checkpoint#loading_mechanics for details.\n",
            "WARNING:tensorflow:Unresolved object in checkpoint: (root).optimizer.iter\n",
            "WARNING:tensorflow:Unresolved object in checkpoint: (root).optimizer.beta_1\n",
            "WARNING:tensorflow:Unresolved object in checkpoint: (root).optimizer.beta_2\n",
            "WARNING:tensorflow:Unresolved object in checkpoint: (root).optimizer.decay\n",
            "WARNING:tensorflow:Unresolved object in checkpoint: (root).optimizer.learning_rate\n",
            "WARNING:tensorflow:A checkpoint was restored (e.g. tf.train.Checkpoint.restore or tf.keras.Model.load_weights) but not all checkpointed values were used. See above for specific issues. Use expect_partial() on the load status object, e.g. tf.train.Checkpoint.restore(...).expect_partial(), to silence these warnings, or use assert_consumed() to make the check explicit. See https://www.tensorflow.org/guide/checkpoint#loading_mechanics for details.\n",
            "WARNING:tensorflow:Unresolved object in checkpoint: (root).optimizer.iter\n",
            "WARNING:tensorflow:Unresolved object in checkpoint: (root).optimizer.beta_1\n",
            "WARNING:tensorflow:Unresolved object in checkpoint: (root).optimizer.beta_2\n",
            "WARNING:tensorflow:Unresolved object in checkpoint: (root).optimizer.decay\n",
            "WARNING:tensorflow:Unresolved object in checkpoint: (root).optimizer.learning_rate\n",
            "WARNING:tensorflow:A checkpoint was restored (e.g. tf.train.Checkpoint.restore or tf.keras.Model.load_weights) but not all checkpointed values were used. See above for specific issues. Use expect_partial() on the load status object, e.g. tf.train.Checkpoint.restore(...).expect_partial(), to silence these warnings, or use assert_consumed() to make the check explicit. See https://www.tensorflow.org/guide/checkpoint#loading_mechanics for details.\n",
            "WARNING:tensorflow:Unresolved object in checkpoint: (root).optimizer.iter\n",
            "WARNING:tensorflow:Unresolved object in checkpoint: (root).optimizer.beta_1\n",
            "WARNING:tensorflow:Unresolved object in checkpoint: (root).optimizer.beta_2\n",
            "WARNING:tensorflow:Unresolved object in checkpoint: (root).optimizer.decay\n",
            "WARNING:tensorflow:Unresolved object in checkpoint: (root).optimizer.learning_rate\n",
            "WARNING:tensorflow:A checkpoint was restored (e.g. tf.train.Checkpoint.restore or tf.keras.Model.load_weights) but not all checkpointed values were used. See above for specific issues. Use expect_partial() on the load status object, e.g. tf.train.Checkpoint.restore(...).expect_partial(), to silence these warnings, or use assert_consumed() to make the check explicit. See https://www.tensorflow.org/guide/checkpoint#loading_mechanics for details.\n",
            "WARNING:tensorflow:Unresolved object in checkpoint: (root).optimizer.iter\n",
            "WARNING:tensorflow:Unresolved object in checkpoint: (root).optimizer.beta_1\n",
            "WARNING:tensorflow:Unresolved object in checkpoint: (root).optimizer.beta_2\n",
            "WARNING:tensorflow:Unresolved object in checkpoint: (root).optimizer.decay\n",
            "WARNING:tensorflow:Unresolved object in checkpoint: (root).optimizer.learning_rate\n",
            "WARNING:tensorflow:A checkpoint was restored (e.g. tf.train.Checkpoint.restore or tf.keras.Model.load_weights) but not all checkpointed values were used. See above for specific issues. Use expect_partial() on the load status object, e.g. tf.train.Checkpoint.restore(...).expect_partial(), to silence these warnings, or use assert_consumed() to make the check explicit. See https://www.tensorflow.org/guide/checkpoint#loading_mechanics for details.\n",
            "WARNING:tensorflow:Unresolved object in checkpoint: (root).optimizer.iter\n",
            "WARNING:tensorflow:Unresolved object in checkpoint: (root).optimizer.beta_1\n",
            "WARNING:tensorflow:Unresolved object in checkpoint: (root).optimizer.beta_2\n",
            "WARNING:tensorflow:Unresolved object in checkpoint: (root).optimizer.decay\n",
            "WARNING:tensorflow:Unresolved object in checkpoint: (root).optimizer.learning_rate\n",
            "WARNING:tensorflow:A checkpoint was restored (e.g. tf.train.Checkpoint.restore or tf.keras.Model.load_weights) but not all checkpointed values were used. See above for specific issues. Use expect_partial() on the load status object, e.g. tf.train.Checkpoint.restore(...).expect_partial(), to silence these warnings, or use assert_consumed() to make the check explicit. See https://www.tensorflow.org/guide/checkpoint#loading_mechanics for details.\n",
            "WARNING:tensorflow:Unresolved object in checkpoint: (root).optimizer.iter\n",
            "WARNING:tensorflow:Unresolved object in checkpoint: (root).optimizer.beta_1\n",
            "WARNING:tensorflow:Unresolved object in checkpoint: (root).optimizer.beta_2\n",
            "WARNING:tensorflow:Unresolved object in checkpoint: (root).optimizer.decay\n",
            "WARNING:tensorflow:Unresolved object in checkpoint: (root).optimizer.learning_rate\n",
            "WARNING:tensorflow:A checkpoint was restored (e.g. tf.train.Checkpoint.restore or tf.keras.Model.load_weights) but not all checkpointed values were used. See above for specific issues. Use expect_partial() on the load status object, e.g. tf.train.Checkpoint.restore(...).expect_partial(), to silence these warnings, or use assert_consumed() to make the check explicit. See https://www.tensorflow.org/guide/checkpoint#loading_mechanics for details.\n",
            "WARNING:tensorflow:Unresolved object in checkpoint: (root).optimizer.iter\n",
            "WARNING:tensorflow:Unresolved object in checkpoint: (root).optimizer.beta_1\n",
            "WARNING:tensorflow:Unresolved object in checkpoint: (root).optimizer.beta_2\n",
            "WARNING:tensorflow:Unresolved object in checkpoint: (root).optimizer.decay\n",
            "WARNING:tensorflow:Unresolved object in checkpoint: (root).optimizer.learning_rate\n",
            "WARNING:tensorflow:A checkpoint was restored (e.g. tf.train.Checkpoint.restore or tf.keras.Model.load_weights) but not all checkpointed values were used. See above for specific issues. Use expect_partial() on the load status object, e.g. tf.train.Checkpoint.restore(...).expect_partial(), to silence these warnings, or use assert_consumed() to make the check explicit. See https://www.tensorflow.org/guide/checkpoint#loading_mechanics for details.\n",
            "WARNING:tensorflow:Unresolved object in checkpoint: (root).optimizer.iter\n",
            "WARNING:tensorflow:Unresolved object in checkpoint: (root).optimizer.beta_1\n",
            "WARNING:tensorflow:Unresolved object in checkpoint: (root).optimizer.beta_2\n",
            "WARNING:tensorflow:Unresolved object in checkpoint: (root).optimizer.decay\n",
            "WARNING:tensorflow:Unresolved object in checkpoint: (root).optimizer.learning_rate\n",
            "WARNING:tensorflow:A checkpoint was restored (e.g. tf.train.Checkpoint.restore or tf.keras.Model.load_weights) but not all checkpointed values were used. See above for specific issues. Use expect_partial() on the load status object, e.g. tf.train.Checkpoint.restore(...).expect_partial(), to silence these warnings, or use assert_consumed() to make the check explicit. See https://www.tensorflow.org/guide/checkpoint#loading_mechanics for details.\n",
            "WARNING:tensorflow:Unresolved object in checkpoint: (root).optimizer.iter\n",
            "WARNING:tensorflow:Unresolved object in checkpoint: (root).optimizer.beta_1\n",
            "WARNING:tensorflow:Unresolved object in checkpoint: (root).optimizer.beta_2\n",
            "WARNING:tensorflow:Unresolved object in checkpoint: (root).optimizer.decay\n",
            "WARNING:tensorflow:Unresolved object in checkpoint: (root).optimizer.learning_rate\n",
            "WARNING:tensorflow:A checkpoint was restored (e.g. tf.train.Checkpoint.restore or tf.keras.Model.load_weights) but not all checkpointed values were used. See above for specific issues. Use expect_partial() on the load status object, e.g. tf.train.Checkpoint.restore(...).expect_partial(), to silence these warnings, or use assert_consumed() to make the check explicit. See https://www.tensorflow.org/guide/checkpoint#loading_mechanics for details.\n",
            "WARNING:tensorflow:Unresolved object in checkpoint: (root).optimizer.iter\n",
            "WARNING:tensorflow:Unresolved object in checkpoint: (root).optimizer.beta_1\n",
            "WARNING:tensorflow:Unresolved object in checkpoint: (root).optimizer.beta_2\n",
            "WARNING:tensorflow:Unresolved object in checkpoint: (root).optimizer.decay\n",
            "WARNING:tensorflow:Unresolved object in checkpoint: (root).optimizer.learning_rate\n",
            "WARNING:tensorflow:A checkpoint was restored (e.g. tf.train.Checkpoint.restore or tf.keras.Model.load_weights) but not all checkpointed values were used. See above for specific issues. Use expect_partial() on the load status object, e.g. tf.train.Checkpoint.restore(...).expect_partial(), to silence these warnings, or use assert_consumed() to make the check explicit. See https://www.tensorflow.org/guide/checkpoint#loading_mechanics for details.\n",
            "WARNING:tensorflow:Unresolved object in checkpoint: (root).optimizer.iter\n",
            "WARNING:tensorflow:Unresolved object in checkpoint: (root).optimizer.beta_1\n",
            "WARNING:tensorflow:Unresolved object in checkpoint: (root).optimizer.beta_2\n",
            "WARNING:tensorflow:Unresolved object in checkpoint: (root).optimizer.decay\n",
            "WARNING:tensorflow:Unresolved object in checkpoint: (root).optimizer.learning_rate\n",
            "WARNING:tensorflow:A checkpoint was restored (e.g. tf.train.Checkpoint.restore or tf.keras.Model.load_weights) but not all checkpointed values were used. See above for specific issues. Use expect_partial() on the load status object, e.g. tf.train.Checkpoint.restore(...).expect_partial(), to silence these warnings, or use assert_consumed() to make the check explicit. See https://www.tensorflow.org/guide/checkpoint#loading_mechanics for details.\n",
            "WARNING:tensorflow:Unresolved object in checkpoint: (root).optimizer.iter\n",
            "WARNING:tensorflow:Unresolved object in checkpoint: (root).optimizer.beta_1\n",
            "WARNING:tensorflow:Unresolved object in checkpoint: (root).optimizer.beta_2\n",
            "WARNING:tensorflow:Unresolved object in checkpoint: (root).optimizer.decay\n",
            "WARNING:tensorflow:Unresolved object in checkpoint: (root).optimizer.learning_rate\n",
            "WARNING:tensorflow:A checkpoint was restored (e.g. tf.train.Checkpoint.restore or tf.keras.Model.load_weights) but not all checkpointed values were used. See above for specific issues. Use expect_partial() on the load status object, e.g. tf.train.Checkpoint.restore(...).expect_partial(), to silence these warnings, or use assert_consumed() to make the check explicit. See https://www.tensorflow.org/guide/checkpoint#loading_mechanics for details.\n",
            "WARNING:tensorflow:Unresolved object in checkpoint: (root).optimizer.iter\n",
            "WARNING:tensorflow:Unresolved object in checkpoint: (root).optimizer.beta_1\n",
            "WARNING:tensorflow:Unresolved object in checkpoint: (root).optimizer.beta_2\n",
            "WARNING:tensorflow:Unresolved object in checkpoint: (root).optimizer.decay\n",
            "WARNING:tensorflow:Unresolved object in checkpoint: (root).optimizer.learning_rate\n",
            "WARNING:tensorflow:A checkpoint was restored (e.g. tf.train.Checkpoint.restore or tf.keras.Model.load_weights) but not all checkpointed values were used. See above for specific issues. Use expect_partial() on the load status object, e.g. tf.train.Checkpoint.restore(...).expect_partial(), to silence these warnings, or use assert_consumed() to make the check explicit. See https://www.tensorflow.org/guide/checkpoint#loading_mechanics for details.\n",
            "WARNING:tensorflow:Unresolved object in checkpoint: (root).optimizer.iter\n",
            "WARNING:tensorflow:Unresolved object in checkpoint: (root).optimizer.beta_1\n",
            "WARNING:tensorflow:Unresolved object in checkpoint: (root).optimizer.beta_2\n",
            "WARNING:tensorflow:Unresolved object in checkpoint: (root).optimizer.decay\n",
            "WARNING:tensorflow:Unresolved object in checkpoint: (root).optimizer.learning_rate\n",
            "WARNING:tensorflow:A checkpoint was restored (e.g. tf.train.Checkpoint.restore or tf.keras.Model.load_weights) but not all checkpointed values were used. See above for specific issues. Use expect_partial() on the load status object, e.g. tf.train.Checkpoint.restore(...).expect_partial(), to silence these warnings, or use assert_consumed() to make the check explicit. See https://www.tensorflow.org/guide/checkpoint#loading_mechanics for details.\n",
            "WARNING:tensorflow:Unresolved object in checkpoint: (root).optimizer.iter\n",
            "WARNING:tensorflow:Unresolved object in checkpoint: (root).optimizer.beta_1\n",
            "WARNING:tensorflow:Unresolved object in checkpoint: (root).optimizer.beta_2\n",
            "WARNING:tensorflow:Unresolved object in checkpoint: (root).optimizer.decay\n",
            "WARNING:tensorflow:Unresolved object in checkpoint: (root).optimizer.learning_rate\n",
            "WARNING:tensorflow:A checkpoint was restored (e.g. tf.train.Checkpoint.restore or tf.keras.Model.load_weights) but not all checkpointed values were used. See above for specific issues. Use expect_partial() on the load status object, e.g. tf.train.Checkpoint.restore(...).expect_partial(), to silence these warnings, or use assert_consumed() to make the check explicit. See https://www.tensorflow.org/guide/checkpoint#loading_mechanics for details.\n",
            "WARNING:tensorflow:Unresolved object in checkpoint: (root).optimizer.iter\n",
            "WARNING:tensorflow:Unresolved object in checkpoint: (root).optimizer.beta_1\n",
            "WARNING:tensorflow:Unresolved object in checkpoint: (root).optimizer.beta_2\n",
            "WARNING:tensorflow:Unresolved object in checkpoint: (root).optimizer.decay\n",
            "WARNING:tensorflow:Unresolved object in checkpoint: (root).optimizer.learning_rate\n",
            "WARNING:tensorflow:A checkpoint was restored (e.g. tf.train.Checkpoint.restore or tf.keras.Model.load_weights) but not all checkpointed values were used. See above for specific issues. Use expect_partial() on the load status object, e.g. tf.train.Checkpoint.restore(...).expect_partial(), to silence these warnings, or use assert_consumed() to make the check explicit. See https://www.tensorflow.org/guide/checkpoint#loading_mechanics for details.\n",
            "WARNING:tensorflow:Unresolved object in checkpoint: (root).optimizer.iter\n",
            "WARNING:tensorflow:Unresolved object in checkpoint: (root).optimizer.beta_1\n",
            "WARNING:tensorflow:Unresolved object in checkpoint: (root).optimizer.beta_2\n",
            "WARNING:tensorflow:Unresolved object in checkpoint: (root).optimizer.decay\n",
            "WARNING:tensorflow:Unresolved object in checkpoint: (root).optimizer.learning_rate\n",
            "WARNING:tensorflow:A checkpoint was restored (e.g. tf.train.Checkpoint.restore or tf.keras.Model.load_weights) but not all checkpointed values were used. See above for specific issues. Use expect_partial() on the load status object, e.g. tf.train.Checkpoint.restore(...).expect_partial(), to silence these warnings, or use assert_consumed() to make the check explicit. See https://www.tensorflow.org/guide/checkpoint#loading_mechanics for details.\n",
            "WARNING:tensorflow:Unresolved object in checkpoint: (root).optimizer.iter\n",
            "WARNING:tensorflow:Unresolved object in checkpoint: (root).optimizer.beta_1\n",
            "WARNING:tensorflow:Unresolved object in checkpoint: (root).optimizer.beta_2\n",
            "WARNING:tensorflow:Unresolved object in checkpoint: (root).optimizer.decay\n",
            "WARNING:tensorflow:Unresolved object in checkpoint: (root).optimizer.learning_rate\n",
            "WARNING:tensorflow:A checkpoint was restored (e.g. tf.train.Checkpoint.restore or tf.keras.Model.load_weights) but not all checkpointed values were used. See above for specific issues. Use expect_partial() on the load status object, e.g. tf.train.Checkpoint.restore(...).expect_partial(), to silence these warnings, or use assert_consumed() to make the check explicit. See https://www.tensorflow.org/guide/checkpoint#loading_mechanics for details.\n",
            "WARNING:tensorflow:Unresolved object in checkpoint: (root).optimizer.iter\n",
            "WARNING:tensorflow:Unresolved object in checkpoint: (root).optimizer.beta_1\n",
            "WARNING:tensorflow:Unresolved object in checkpoint: (root).optimizer.beta_2\n",
            "WARNING:tensorflow:Unresolved object in checkpoint: (root).optimizer.decay\n",
            "WARNING:tensorflow:Unresolved object in checkpoint: (root).optimizer.learning_rate\n",
            "WARNING:tensorflow:A checkpoint was restored (e.g. tf.train.Checkpoint.restore or tf.keras.Model.load_weights) but not all checkpointed values were used. See above for specific issues. Use expect_partial() on the load status object, e.g. tf.train.Checkpoint.restore(...).expect_partial(), to silence these warnings, or use assert_consumed() to make the check explicit. See https://www.tensorflow.org/guide/checkpoint#loading_mechanics for details.\n",
            "WARNING:tensorflow:Unresolved object in checkpoint: (root).optimizer.iter\n",
            "WARNING:tensorflow:Unresolved object in checkpoint: (root).optimizer.beta_1\n",
            "WARNING:tensorflow:Unresolved object in checkpoint: (root).optimizer.beta_2\n",
            "WARNING:tensorflow:Unresolved object in checkpoint: (root).optimizer.decay\n",
            "WARNING:tensorflow:Unresolved object in checkpoint: (root).optimizer.learning_rate\n",
            "WARNING:tensorflow:A checkpoint was restored (e.g. tf.train.Checkpoint.restore or tf.keras.Model.load_weights) but not all checkpointed values were used. See above for specific issues. Use expect_partial() on the load status object, e.g. tf.train.Checkpoint.restore(...).expect_partial(), to silence these warnings, or use assert_consumed() to make the check explicit. See https://www.tensorflow.org/guide/checkpoint#loading_mechanics for details.\n",
            "WARNING:tensorflow:Unresolved object in checkpoint: (root).optimizer.iter\n",
            "WARNING:tensorflow:Unresolved object in checkpoint: (root).optimizer.beta_1\n",
            "WARNING:tensorflow:Unresolved object in checkpoint: (root).optimizer.beta_2\n",
            "WARNING:tensorflow:Unresolved object in checkpoint: (root).optimizer.decay\n",
            "WARNING:tensorflow:Unresolved object in checkpoint: (root).optimizer.learning_rate\n",
            "WARNING:tensorflow:A checkpoint was restored (e.g. tf.train.Checkpoint.restore or tf.keras.Model.load_weights) but not all checkpointed values were used. See above for specific issues. Use expect_partial() on the load status object, e.g. tf.train.Checkpoint.restore(...).expect_partial(), to silence these warnings, or use assert_consumed() to make the check explicit. See https://www.tensorflow.org/guide/checkpoint#loading_mechanics for details.\n",
            "WARNING:tensorflow:Unresolved object in checkpoint: (root).optimizer.iter\n",
            "WARNING:tensorflow:Unresolved object in checkpoint: (root).optimizer.beta_1\n",
            "WARNING:tensorflow:Unresolved object in checkpoint: (root).optimizer.beta_2\n",
            "WARNING:tensorflow:Unresolved object in checkpoint: (root).optimizer.decay\n",
            "WARNING:tensorflow:Unresolved object in checkpoint: (root).optimizer.learning_rate\n",
            "WARNING:tensorflow:A checkpoint was restored (e.g. tf.train.Checkpoint.restore or tf.keras.Model.load_weights) but not all checkpointed values were used. See above for specific issues. Use expect_partial() on the load status object, e.g. tf.train.Checkpoint.restore(...).expect_partial(), to silence these warnings, or use assert_consumed() to make the check explicit. See https://www.tensorflow.org/guide/checkpoint#loading_mechanics for details.\n",
            "WARNING:tensorflow:Unresolved object in checkpoint: (root).optimizer.iter\n",
            "WARNING:tensorflow:Unresolved object in checkpoint: (root).optimizer.beta_1\n",
            "WARNING:tensorflow:Unresolved object in checkpoint: (root).optimizer.beta_2\n",
            "WARNING:tensorflow:Unresolved object in checkpoint: (root).optimizer.decay\n",
            "WARNING:tensorflow:Unresolved object in checkpoint: (root).optimizer.learning_rate\n",
            "WARNING:tensorflow:A checkpoint was restored (e.g. tf.train.Checkpoint.restore or tf.keras.Model.load_weights) but not all checkpointed values were used. See above for specific issues. Use expect_partial() on the load status object, e.g. tf.train.Checkpoint.restore(...).expect_partial(), to silence these warnings, or use assert_consumed() to make the check explicit. See https://www.tensorflow.org/guide/checkpoint#loading_mechanics for details.\n",
            "WARNING:tensorflow:Unresolved object in checkpoint: (root).optimizer.iter\n",
            "WARNING:tensorflow:Unresolved object in checkpoint: (root).optimizer.beta_1\n",
            "WARNING:tensorflow:Unresolved object in checkpoint: (root).optimizer.beta_2\n",
            "WARNING:tensorflow:Unresolved object in checkpoint: (root).optimizer.decay\n",
            "WARNING:tensorflow:Unresolved object in checkpoint: (root).optimizer.learning_rate\n",
            "WARNING:tensorflow:A checkpoint was restored (e.g. tf.train.Checkpoint.restore or tf.keras.Model.load_weights) but not all checkpointed values were used. See above for specific issues. Use expect_partial() on the load status object, e.g. tf.train.Checkpoint.restore(...).expect_partial(), to silence these warnings, or use assert_consumed() to make the check explicit. See https://www.tensorflow.org/guide/checkpoint#loading_mechanics for details.\n",
            "WARNING:tensorflow:Unresolved object in checkpoint: (root).optimizer.iter\n",
            "WARNING:tensorflow:Unresolved object in checkpoint: (root).optimizer.beta_1\n",
            "WARNING:tensorflow:Unresolved object in checkpoint: (root).optimizer.beta_2\n",
            "WARNING:tensorflow:Unresolved object in checkpoint: (root).optimizer.decay\n",
            "WARNING:tensorflow:Unresolved object in checkpoint: (root).optimizer.learning_rate\n",
            "WARNING:tensorflow:A checkpoint was restored (e.g. tf.train.Checkpoint.restore or tf.keras.Model.load_weights) but not all checkpointed values were used. See above for specific issues. Use expect_partial() on the load status object, e.g. tf.train.Checkpoint.restore(...).expect_partial(), to silence these warnings, or use assert_consumed() to make the check explicit. See https://www.tensorflow.org/guide/checkpoint#loading_mechanics for details.\n",
            "WARNING:tensorflow:Unresolved object in checkpoint: (root).optimizer.iter\n",
            "WARNING:tensorflow:Unresolved object in checkpoint: (root).optimizer.beta_1\n",
            "WARNING:tensorflow:Unresolved object in checkpoint: (root).optimizer.beta_2\n",
            "WARNING:tensorflow:Unresolved object in checkpoint: (root).optimizer.decay\n",
            "WARNING:tensorflow:Unresolved object in checkpoint: (root).optimizer.learning_rate\n",
            "WARNING:tensorflow:A checkpoint was restored (e.g. tf.train.Checkpoint.restore or tf.keras.Model.load_weights) but not all checkpointed values were used. See above for specific issues. Use expect_partial() on the load status object, e.g. tf.train.Checkpoint.restore(...).expect_partial(), to silence these warnings, or use assert_consumed() to make the check explicit. See https://www.tensorflow.org/guide/checkpoint#loading_mechanics for details.\n",
            "WARNING:tensorflow:Unresolved object in checkpoint: (root).optimizer.iter\n",
            "WARNING:tensorflow:Unresolved object in checkpoint: (root).optimizer.beta_1\n",
            "WARNING:tensorflow:Unresolved object in checkpoint: (root).optimizer.beta_2\n",
            "WARNING:tensorflow:Unresolved object in checkpoint: (root).optimizer.decay\n",
            "WARNING:tensorflow:Unresolved object in checkpoint: (root).optimizer.learning_rate\n",
            "WARNING:tensorflow:A checkpoint was restored (e.g. tf.train.Checkpoint.restore or tf.keras.Model.load_weights) but not all checkpointed values were used. See above for specific issues. Use expect_partial() on the load status object, e.g. tf.train.Checkpoint.restore(...).expect_partial(), to silence these warnings, or use assert_consumed() to make the check explicit. See https://www.tensorflow.org/guide/checkpoint#loading_mechanics for details.\n",
            "WARNING:tensorflow:Unresolved object in checkpoint: (root).optimizer.iter\n",
            "WARNING:tensorflow:Unresolved object in checkpoint: (root).optimizer.beta_1\n",
            "WARNING:tensorflow:Unresolved object in checkpoint: (root).optimizer.beta_2\n",
            "WARNING:tensorflow:Unresolved object in checkpoint: (root).optimizer.decay\n",
            "WARNING:tensorflow:Unresolved object in checkpoint: (root).optimizer.learning_rate\n",
            "WARNING:tensorflow:A checkpoint was restored (e.g. tf.train.Checkpoint.restore or tf.keras.Model.load_weights) but not all checkpointed values were used. See above for specific issues. Use expect_partial() on the load status object, e.g. tf.train.Checkpoint.restore(...).expect_partial(), to silence these warnings, or use assert_consumed() to make the check explicit. See https://www.tensorflow.org/guide/checkpoint#loading_mechanics for details.\n",
            "WARNING:tensorflow:Unresolved object in checkpoint: (root).optimizer.iter\n",
            "WARNING:tensorflow:Unresolved object in checkpoint: (root).optimizer.beta_1\n",
            "WARNING:tensorflow:Unresolved object in checkpoint: (root).optimizer.beta_2\n",
            "WARNING:tensorflow:Unresolved object in checkpoint: (root).optimizer.decay\n",
            "WARNING:tensorflow:Unresolved object in checkpoint: (root).optimizer.learning_rate\n",
            "WARNING:tensorflow:A checkpoint was restored (e.g. tf.train.Checkpoint.restore or tf.keras.Model.load_weights) but not all checkpointed values were used. See above for specific issues. Use expect_partial() on the load status object, e.g. tf.train.Checkpoint.restore(...).expect_partial(), to silence these warnings, or use assert_consumed() to make the check explicit. See https://www.tensorflow.org/guide/checkpoint#loading_mechanics for details.\n",
            "WARNING:tensorflow:Unresolved object in checkpoint: (root).optimizer.iter\n",
            "WARNING:tensorflow:Unresolved object in checkpoint: (root).optimizer.beta_1\n",
            "WARNING:tensorflow:Unresolved object in checkpoint: (root).optimizer.beta_2\n",
            "WARNING:tensorflow:Unresolved object in checkpoint: (root).optimizer.decay\n",
            "WARNING:tensorflow:Unresolved object in checkpoint: (root).optimizer.learning_rate\n",
            "WARNING:tensorflow:A checkpoint was restored (e.g. tf.train.Checkpoint.restore or tf.keras.Model.load_weights) but not all checkpointed values were used. See above for specific issues. Use expect_partial() on the load status object, e.g. tf.train.Checkpoint.restore(...).expect_partial(), to silence these warnings, or use assert_consumed() to make the check explicit. See https://www.tensorflow.org/guide/checkpoint#loading_mechanics for details.\n",
            "WARNING:tensorflow:Unresolved object in checkpoint: (root).optimizer.iter\n",
            "WARNING:tensorflow:Unresolved object in checkpoint: (root).optimizer.beta_1\n",
            "WARNING:tensorflow:Unresolved object in checkpoint: (root).optimizer.beta_2\n",
            "WARNING:tensorflow:Unresolved object in checkpoint: (root).optimizer.decay\n",
            "WARNING:tensorflow:Unresolved object in checkpoint: (root).optimizer.learning_rate\n",
            "WARNING:tensorflow:A checkpoint was restored (e.g. tf.train.Checkpoint.restore or tf.keras.Model.load_weights) but not all checkpointed values were used. See above for specific issues. Use expect_partial() on the load status object, e.g. tf.train.Checkpoint.restore(...).expect_partial(), to silence these warnings, or use assert_consumed() to make the check explicit. See https://www.tensorflow.org/guide/checkpoint#loading_mechanics for details.\n",
            "WARNING:tensorflow:Unresolved object in checkpoint: (root).optimizer.iter\n",
            "WARNING:tensorflow:Unresolved object in checkpoint: (root).optimizer.beta_1\n",
            "WARNING:tensorflow:Unresolved object in checkpoint: (root).optimizer.beta_2\n",
            "WARNING:tensorflow:Unresolved object in checkpoint: (root).optimizer.decay\n",
            "WARNING:tensorflow:Unresolved object in checkpoint: (root).optimizer.learning_rate\n",
            "WARNING:tensorflow:A checkpoint was restored (e.g. tf.train.Checkpoint.restore or tf.keras.Model.load_weights) but not all checkpointed values were used. See above for specific issues. Use expect_partial() on the load status object, e.g. tf.train.Checkpoint.restore(...).expect_partial(), to silence these warnings, or use assert_consumed() to make the check explicit. See https://www.tensorflow.org/guide/checkpoint#loading_mechanics for details.\n",
            "WARNING:tensorflow:Unresolved object in checkpoint: (root).optimizer.iter\n",
            "WARNING:tensorflow:Unresolved object in checkpoint: (root).optimizer.beta_1\n",
            "WARNING:tensorflow:Unresolved object in checkpoint: (root).optimizer.beta_2\n",
            "WARNING:tensorflow:Unresolved object in checkpoint: (root).optimizer.decay\n",
            "WARNING:tensorflow:Unresolved object in checkpoint: (root).optimizer.learning_rate\n",
            "WARNING:tensorflow:A checkpoint was restored (e.g. tf.train.Checkpoint.restore or tf.keras.Model.load_weights) but not all checkpointed values were used. See above for specific issues. Use expect_partial() on the load status object, e.g. tf.train.Checkpoint.restore(...).expect_partial(), to silence these warnings, or use assert_consumed() to make the check explicit. See https://www.tensorflow.org/guide/checkpoint#loading_mechanics for details.\n",
            "WARNING:tensorflow:Unresolved object in checkpoint: (root).optimizer.iter\n",
            "WARNING:tensorflow:Unresolved object in checkpoint: (root).optimizer.beta_1\n",
            "WARNING:tensorflow:Unresolved object in checkpoint: (root).optimizer.beta_2\n",
            "WARNING:tensorflow:Unresolved object in checkpoint: (root).optimizer.decay\n",
            "WARNING:tensorflow:Unresolved object in checkpoint: (root).optimizer.learning_rate\n",
            "WARNING:tensorflow:A checkpoint was restored (e.g. tf.train.Checkpoint.restore or tf.keras.Model.load_weights) but not all checkpointed values were used. See above for specific issues. Use expect_partial() on the load status object, e.g. tf.train.Checkpoint.restore(...).expect_partial(), to silence these warnings, or use assert_consumed() to make the check explicit. See https://www.tensorflow.org/guide/checkpoint#loading_mechanics for details.\n",
            "WARNING:tensorflow:Unresolved object in checkpoint: (root).optimizer.iter\n",
            "WARNING:tensorflow:Unresolved object in checkpoint: (root).optimizer.beta_1\n",
            "WARNING:tensorflow:Unresolved object in checkpoint: (root).optimizer.beta_2\n",
            "WARNING:tensorflow:Unresolved object in checkpoint: (root).optimizer.decay\n",
            "WARNING:tensorflow:Unresolved object in checkpoint: (root).optimizer.learning_rate\n",
            "WARNING:tensorflow:A checkpoint was restored (e.g. tf.train.Checkpoint.restore or tf.keras.Model.load_weights) but not all checkpointed values were used. See above for specific issues. Use expect_partial() on the load status object, e.g. tf.train.Checkpoint.restore(...).expect_partial(), to silence these warnings, or use assert_consumed() to make the check explicit. See https://www.tensorflow.org/guide/checkpoint#loading_mechanics for details.\n",
            "WARNING:tensorflow:Unresolved object in checkpoint: (root).optimizer.iter\n",
            "WARNING:tensorflow:Unresolved object in checkpoint: (root).optimizer.beta_1\n",
            "WARNING:tensorflow:Unresolved object in checkpoint: (root).optimizer.beta_2\n",
            "WARNING:tensorflow:Unresolved object in checkpoint: (root).optimizer.decay\n",
            "WARNING:tensorflow:Unresolved object in checkpoint: (root).optimizer.learning_rate\n",
            "WARNING:tensorflow:A checkpoint was restored (e.g. tf.train.Checkpoint.restore or tf.keras.Model.load_weights) but not all checkpointed values were used. See above for specific issues. Use expect_partial() on the load status object, e.g. tf.train.Checkpoint.restore(...).expect_partial(), to silence these warnings, or use assert_consumed() to make the check explicit. See https://www.tensorflow.org/guide/checkpoint#loading_mechanics for details.\n",
            "WARNING:tensorflow:Unresolved object in checkpoint: (root).optimizer.iter\n",
            "WARNING:tensorflow:Unresolved object in checkpoint: (root).optimizer.beta_1\n",
            "WARNING:tensorflow:Unresolved object in checkpoint: (root).optimizer.beta_2\n",
            "WARNING:tensorflow:Unresolved object in checkpoint: (root).optimizer.decay\n",
            "WARNING:tensorflow:Unresolved object in checkpoint: (root).optimizer.learning_rate\n",
            "WARNING:tensorflow:A checkpoint was restored (e.g. tf.train.Checkpoint.restore or tf.keras.Model.load_weights) but not all checkpointed values were used. See above for specific issues. Use expect_partial() on the load status object, e.g. tf.train.Checkpoint.restore(...).expect_partial(), to silence these warnings, or use assert_consumed() to make the check explicit. See https://www.tensorflow.org/guide/checkpoint#loading_mechanics for details.\n",
            "WARNING:tensorflow:Unresolved object in checkpoint: (root).optimizer.iter\n",
            "WARNING:tensorflow:Unresolved object in checkpoint: (root).optimizer.beta_1\n",
            "WARNING:tensorflow:Unresolved object in checkpoint: (root).optimizer.beta_2\n",
            "WARNING:tensorflow:Unresolved object in checkpoint: (root).optimizer.decay\n",
            "WARNING:tensorflow:Unresolved object in checkpoint: (root).optimizer.learning_rate\n",
            "WARNING:tensorflow:A checkpoint was restored (e.g. tf.train.Checkpoint.restore or tf.keras.Model.load_weights) but not all checkpointed values were used. See above for specific issues. Use expect_partial() on the load status object, e.g. tf.train.Checkpoint.restore(...).expect_partial(), to silence these warnings, or use assert_consumed() to make the check explicit. See https://www.tensorflow.org/guide/checkpoint#loading_mechanics for details.\n",
            "WARNING:tensorflow:Unresolved object in checkpoint: (root).optimizer.iter\n",
            "WARNING:tensorflow:Unresolved object in checkpoint: (root).optimizer.beta_1\n",
            "WARNING:tensorflow:Unresolved object in checkpoint: (root).optimizer.beta_2\n",
            "WARNING:tensorflow:Unresolved object in checkpoint: (root).optimizer.decay\n",
            "WARNING:tensorflow:Unresolved object in checkpoint: (root).optimizer.learning_rate\n",
            "WARNING:tensorflow:A checkpoint was restored (e.g. tf.train.Checkpoint.restore or tf.keras.Model.load_weights) but not all checkpointed values were used. See above for specific issues. Use expect_partial() on the load status object, e.g. tf.train.Checkpoint.restore(...).expect_partial(), to silence these warnings, or use assert_consumed() to make the check explicit. See https://www.tensorflow.org/guide/checkpoint#loading_mechanics for details.\n",
            "WARNING:tensorflow:Unresolved object in checkpoint: (root).optimizer.iter\n",
            "WARNING:tensorflow:Unresolved object in checkpoint: (root).optimizer.beta_1\n",
            "WARNING:tensorflow:Unresolved object in checkpoint: (root).optimizer.beta_2\n",
            "WARNING:tensorflow:Unresolved object in checkpoint: (root).optimizer.decay\n",
            "WARNING:tensorflow:Unresolved object in checkpoint: (root).optimizer.learning_rate\n",
            "WARNING:tensorflow:A checkpoint was restored (e.g. tf.train.Checkpoint.restore or tf.keras.Model.load_weights) but not all checkpointed values were used. See above for specific issues. Use expect_partial() on the load status object, e.g. tf.train.Checkpoint.restore(...).expect_partial(), to silence these warnings, or use assert_consumed() to make the check explicit. See https://www.tensorflow.org/guide/checkpoint#loading_mechanics for details.\n",
            "WARNING:tensorflow:Unresolved object in checkpoint: (root).optimizer.iter\n",
            "WARNING:tensorflow:Unresolved object in checkpoint: (root).optimizer.beta_1\n",
            "WARNING:tensorflow:Unresolved object in checkpoint: (root).optimizer.beta_2\n",
            "WARNING:tensorflow:Unresolved object in checkpoint: (root).optimizer.decay\n",
            "WARNING:tensorflow:Unresolved object in checkpoint: (root).optimizer.learning_rate\n",
            "WARNING:tensorflow:A checkpoint was restored (e.g. tf.train.Checkpoint.restore or tf.keras.Model.load_weights) but not all checkpointed values were used. See above for specific issues. Use expect_partial() on the load status object, e.g. tf.train.Checkpoint.restore(...).expect_partial(), to silence these warnings, or use assert_consumed() to make the check explicit. See https://www.tensorflow.org/guide/checkpoint#loading_mechanics for details.\n",
            "WARNING:tensorflow:Unresolved object in checkpoint: (root).optimizer.iter\n",
            "WARNING:tensorflow:Unresolved object in checkpoint: (root).optimizer.beta_1\n",
            "WARNING:tensorflow:Unresolved object in checkpoint: (root).optimizer.beta_2\n",
            "WARNING:tensorflow:Unresolved object in checkpoint: (root).optimizer.decay\n",
            "WARNING:tensorflow:Unresolved object in checkpoint: (root).optimizer.learning_rate\n",
            "WARNING:tensorflow:A checkpoint was restored (e.g. tf.train.Checkpoint.restore or tf.keras.Model.load_weights) but not all checkpointed values were used. See above for specific issues. Use expect_partial() on the load status object, e.g. tf.train.Checkpoint.restore(...).expect_partial(), to silence these warnings, or use assert_consumed() to make the check explicit. See https://www.tensorflow.org/guide/checkpoint#loading_mechanics for details.\n",
            "WARNING:tensorflow:Unresolved object in checkpoint: (root).optimizer.iter\n",
            "WARNING:tensorflow:Unresolved object in checkpoint: (root).optimizer.beta_1\n",
            "WARNING:tensorflow:Unresolved object in checkpoint: (root).optimizer.beta_2\n",
            "WARNING:tensorflow:Unresolved object in checkpoint: (root).optimizer.decay\n",
            "WARNING:tensorflow:Unresolved object in checkpoint: (root).optimizer.learning_rate\n",
            "WARNING:tensorflow:A checkpoint was restored (e.g. tf.train.Checkpoint.restore or tf.keras.Model.load_weights) but not all checkpointed values were used. See above for specific issues. Use expect_partial() on the load status object, e.g. tf.train.Checkpoint.restore(...).expect_partial(), to silence these warnings, or use assert_consumed() to make the check explicit. See https://www.tensorflow.org/guide/checkpoint#loading_mechanics for details.\n",
            "WARNING:tensorflow:Unresolved object in checkpoint: (root).optimizer.iter\n",
            "WARNING:tensorflow:Unresolved object in checkpoint: (root).optimizer.beta_1\n",
            "WARNING:tensorflow:Unresolved object in checkpoint: (root).optimizer.beta_2\n",
            "WARNING:tensorflow:Unresolved object in checkpoint: (root).optimizer.decay\n",
            "WARNING:tensorflow:Unresolved object in checkpoint: (root).optimizer.learning_rate\n",
            "WARNING:tensorflow:A checkpoint was restored (e.g. tf.train.Checkpoint.restore or tf.keras.Model.load_weights) but not all checkpointed values were used. See above for specific issues. Use expect_partial() on the load status object, e.g. tf.train.Checkpoint.restore(...).expect_partial(), to silence these warnings, or use assert_consumed() to make the check explicit. See https://www.tensorflow.org/guide/checkpoint#loading_mechanics for details.\n",
            "WARNING:tensorflow:Unresolved object in checkpoint: (root).optimizer.iter\n",
            "WARNING:tensorflow:Unresolved object in checkpoint: (root).optimizer.beta_1\n",
            "WARNING:tensorflow:Unresolved object in checkpoint: (root).optimizer.beta_2\n",
            "WARNING:tensorflow:Unresolved object in checkpoint: (root).optimizer.decay\n",
            "WARNING:tensorflow:Unresolved object in checkpoint: (root).optimizer.learning_rate\n",
            "WARNING:tensorflow:A checkpoint was restored (e.g. tf.train.Checkpoint.restore or tf.keras.Model.load_weights) but not all checkpointed values were used. See above for specific issues. Use expect_partial() on the load status object, e.g. tf.train.Checkpoint.restore(...).expect_partial(), to silence these warnings, or use assert_consumed() to make the check explicit. See https://www.tensorflow.org/guide/checkpoint#loading_mechanics for details.\n",
            "WARNING:tensorflow:Unresolved object in checkpoint: (root).optimizer.iter\n",
            "WARNING:tensorflow:Unresolved object in checkpoint: (root).optimizer.beta_1\n",
            "WARNING:tensorflow:Unresolved object in checkpoint: (root).optimizer.beta_2\n",
            "WARNING:tensorflow:Unresolved object in checkpoint: (root).optimizer.decay\n",
            "WARNING:tensorflow:Unresolved object in checkpoint: (root).optimizer.learning_rate\n",
            "WARNING:tensorflow:A checkpoint was restored (e.g. tf.train.Checkpoint.restore or tf.keras.Model.load_weights) but not all checkpointed values were used. See above for specific issues. Use expect_partial() on the load status object, e.g. tf.train.Checkpoint.restore(...).expect_partial(), to silence these warnings, or use assert_consumed() to make the check explicit. See https://www.tensorflow.org/guide/checkpoint#loading_mechanics for details.\n",
            "WARNING:tensorflow:Unresolved object in checkpoint: (root).optimizer.iter\n",
            "WARNING:tensorflow:Unresolved object in checkpoint: (root).optimizer.beta_1\n",
            "WARNING:tensorflow:Unresolved object in checkpoint: (root).optimizer.beta_2\n",
            "WARNING:tensorflow:Unresolved object in checkpoint: (root).optimizer.decay\n",
            "WARNING:tensorflow:Unresolved object in checkpoint: (root).optimizer.learning_rate\n",
            "WARNING:tensorflow:A checkpoint was restored (e.g. tf.train.Checkpoint.restore or tf.keras.Model.load_weights) but not all checkpointed values were used. See above for specific issues. Use expect_partial() on the load status object, e.g. tf.train.Checkpoint.restore(...).expect_partial(), to silence these warnings, or use assert_consumed() to make the check explicit. See https://www.tensorflow.org/guide/checkpoint#loading_mechanics for details.\n",
            "WARNING:tensorflow:Unresolved object in checkpoint: (root).optimizer.iter\n",
            "WARNING:tensorflow:Unresolved object in checkpoint: (root).optimizer.beta_1\n",
            "WARNING:tensorflow:Unresolved object in checkpoint: (root).optimizer.beta_2\n",
            "WARNING:tensorflow:Unresolved object in checkpoint: (root).optimizer.decay\n",
            "WARNING:tensorflow:Unresolved object in checkpoint: (root).optimizer.learning_rate\n",
            "WARNING:tensorflow:A checkpoint was restored (e.g. tf.train.Checkpoint.restore or tf.keras.Model.load_weights) but not all checkpointed values were used. See above for specific issues. Use expect_partial() on the load status object, e.g. tf.train.Checkpoint.restore(...).expect_partial(), to silence these warnings, or use assert_consumed() to make the check explicit. See https://www.tensorflow.org/guide/checkpoint#loading_mechanics for details.\n",
            "WARNING:tensorflow:Unresolved object in checkpoint: (root).optimizer.iter\n",
            "WARNING:tensorflow:Unresolved object in checkpoint: (root).optimizer.beta_1\n",
            "WARNING:tensorflow:Unresolved object in checkpoint: (root).optimizer.beta_2\n",
            "WARNING:tensorflow:Unresolved object in checkpoint: (root).optimizer.decay\n",
            "WARNING:tensorflow:Unresolved object in checkpoint: (root).optimizer.learning_rate\n",
            "WARNING:tensorflow:A checkpoint was restored (e.g. tf.train.Checkpoint.restore or tf.keras.Model.load_weights) but not all checkpointed values were used. See above for specific issues. Use expect_partial() on the load status object, e.g. tf.train.Checkpoint.restore(...).expect_partial(), to silence these warnings, or use assert_consumed() to make the check explicit. See https://www.tensorflow.org/guide/checkpoint#loading_mechanics for details.\n",
            "WARNING:tensorflow:Unresolved object in checkpoint: (root).optimizer.iter\n",
            "WARNING:tensorflow:Unresolved object in checkpoint: (root).optimizer.beta_1\n",
            "WARNING:tensorflow:Unresolved object in checkpoint: (root).optimizer.beta_2\n",
            "WARNING:tensorflow:Unresolved object in checkpoint: (root).optimizer.decay\n",
            "WARNING:tensorflow:Unresolved object in checkpoint: (root).optimizer.learning_rate\n",
            "WARNING:tensorflow:A checkpoint was restored (e.g. tf.train.Checkpoint.restore or tf.keras.Model.load_weights) but not all checkpointed values were used. See above for specific issues. Use expect_partial() on the load status object, e.g. tf.train.Checkpoint.restore(...).expect_partial(), to silence these warnings, or use assert_consumed() to make the check explicit. See https://www.tensorflow.org/guide/checkpoint#loading_mechanics for details.\n",
            "WARNING:tensorflow:Unresolved object in checkpoint: (root).optimizer.iter\n",
            "WARNING:tensorflow:Unresolved object in checkpoint: (root).optimizer.beta_1\n",
            "WARNING:tensorflow:Unresolved object in checkpoint: (root).optimizer.beta_2\n",
            "WARNING:tensorflow:Unresolved object in checkpoint: (root).optimizer.decay\n",
            "WARNING:tensorflow:Unresolved object in checkpoint: (root).optimizer.learning_rate\n",
            "WARNING:tensorflow:A checkpoint was restored (e.g. tf.train.Checkpoint.restore or tf.keras.Model.load_weights) but not all checkpointed values were used. See above for specific issues. Use expect_partial() on the load status object, e.g. tf.train.Checkpoint.restore(...).expect_partial(), to silence these warnings, or use assert_consumed() to make the check explicit. See https://www.tensorflow.org/guide/checkpoint#loading_mechanics for details.\n",
            "WARNING:tensorflow:Unresolved object in checkpoint: (root).optimizer.iter\n",
            "WARNING:tensorflow:Unresolved object in checkpoint: (root).optimizer.beta_1\n",
            "WARNING:tensorflow:Unresolved object in checkpoint: (root).optimizer.beta_2\n",
            "WARNING:tensorflow:Unresolved object in checkpoint: (root).optimizer.decay\n",
            "WARNING:tensorflow:Unresolved object in checkpoint: (root).optimizer.learning_rate\n",
            "WARNING:tensorflow:A checkpoint was restored (e.g. tf.train.Checkpoint.restore or tf.keras.Model.load_weights) but not all checkpointed values were used. See above for specific issues. Use expect_partial() on the load status object, e.g. tf.train.Checkpoint.restore(...).expect_partial(), to silence these warnings, or use assert_consumed() to make the check explicit. See https://www.tensorflow.org/guide/checkpoint#loading_mechanics for details.\n",
            "WARNING:tensorflow:Unresolved object in checkpoint: (root).optimizer.iter\n",
            "WARNING:tensorflow:Unresolved object in checkpoint: (root).optimizer.beta_1\n",
            "WARNING:tensorflow:Unresolved object in checkpoint: (root).optimizer.beta_2\n",
            "WARNING:tensorflow:Unresolved object in checkpoint: (root).optimizer.decay\n",
            "WARNING:tensorflow:Unresolved object in checkpoint: (root).optimizer.learning_rate\n",
            "WARNING:tensorflow:A checkpoint was restored (e.g. tf.train.Checkpoint.restore or tf.keras.Model.load_weights) but not all checkpointed values were used. See above for specific issues. Use expect_partial() on the load status object, e.g. tf.train.Checkpoint.restore(...).expect_partial(), to silence these warnings, or use assert_consumed() to make the check explicit. See https://www.tensorflow.org/guide/checkpoint#loading_mechanics for details.\n",
            "WARNING:tensorflow:Unresolved object in checkpoint: (root).optimizer.iter\n",
            "WARNING:tensorflow:Unresolved object in checkpoint: (root).optimizer.beta_1\n",
            "WARNING:tensorflow:Unresolved object in checkpoint: (root).optimizer.beta_2\n",
            "WARNING:tensorflow:Unresolved object in checkpoint: (root).optimizer.decay\n",
            "WARNING:tensorflow:Unresolved object in checkpoint: (root).optimizer.learning_rate\n",
            "WARNING:tensorflow:A checkpoint was restored (e.g. tf.train.Checkpoint.restore or tf.keras.Model.load_weights) but not all checkpointed values were used. See above for specific issues. Use expect_partial() on the load status object, e.g. tf.train.Checkpoint.restore(...).expect_partial(), to silence these warnings, or use assert_consumed() to make the check explicit. See https://www.tensorflow.org/guide/checkpoint#loading_mechanics for details.\n",
            "WARNING:tensorflow:Unresolved object in checkpoint: (root).optimizer.iter\n",
            "WARNING:tensorflow:Unresolved object in checkpoint: (root).optimizer.beta_1\n",
            "WARNING:tensorflow:Unresolved object in checkpoint: (root).optimizer.beta_2\n",
            "WARNING:tensorflow:Unresolved object in checkpoint: (root).optimizer.decay\n",
            "WARNING:tensorflow:Unresolved object in checkpoint: (root).optimizer.learning_rate\n",
            "WARNING:tensorflow:A checkpoint was restored (e.g. tf.train.Checkpoint.restore or tf.keras.Model.load_weights) but not all checkpointed values were used. See above for specific issues. Use expect_partial() on the load status object, e.g. tf.train.Checkpoint.restore(...).expect_partial(), to silence these warnings, or use assert_consumed() to make the check explicit. See https://www.tensorflow.org/guide/checkpoint#loading_mechanics for details.\n",
            "WARNING:tensorflow:Unresolved object in checkpoint: (root).optimizer.iter\n",
            "WARNING:tensorflow:Unresolved object in checkpoint: (root).optimizer.beta_1\n",
            "WARNING:tensorflow:Unresolved object in checkpoint: (root).optimizer.beta_2\n",
            "WARNING:tensorflow:Unresolved object in checkpoint: (root).optimizer.decay\n",
            "WARNING:tensorflow:Unresolved object in checkpoint: (root).optimizer.learning_rate\n",
            "WARNING:tensorflow:A checkpoint was restored (e.g. tf.train.Checkpoint.restore or tf.keras.Model.load_weights) but not all checkpointed values were used. See above for specific issues. Use expect_partial() on the load status object, e.g. tf.train.Checkpoint.restore(...).expect_partial(), to silence these warnings, or use assert_consumed() to make the check explicit. See https://www.tensorflow.org/guide/checkpoint#loading_mechanics for details.\n",
            "WARNING:tensorflow:Unresolved object in checkpoint: (root).optimizer.iter\n",
            "WARNING:tensorflow:Unresolved object in checkpoint: (root).optimizer.beta_1\n",
            "WARNING:tensorflow:Unresolved object in checkpoint: (root).optimizer.beta_2\n",
            "WARNING:tensorflow:Unresolved object in checkpoint: (root).optimizer.decay\n",
            "WARNING:tensorflow:Unresolved object in checkpoint: (root).optimizer.learning_rate\n",
            "WARNING:tensorflow:A checkpoint was restored (e.g. tf.train.Checkpoint.restore or tf.keras.Model.load_weights) but not all checkpointed values were used. See above for specific issues. Use expect_partial() on the load status object, e.g. tf.train.Checkpoint.restore(...).expect_partial(), to silence these warnings, or use assert_consumed() to make the check explicit. See https://www.tensorflow.org/guide/checkpoint#loading_mechanics for details.\n",
            "WARNING:tensorflow:Unresolved object in checkpoint: (root).optimizer.iter\n",
            "WARNING:tensorflow:Unresolved object in checkpoint: (root).optimizer.beta_1\n",
            "WARNING:tensorflow:Unresolved object in checkpoint: (root).optimizer.beta_2\n",
            "WARNING:tensorflow:Unresolved object in checkpoint: (root).optimizer.decay\n",
            "WARNING:tensorflow:Unresolved object in checkpoint: (root).optimizer.learning_rate\n",
            "WARNING:tensorflow:A checkpoint was restored (e.g. tf.train.Checkpoint.restore or tf.keras.Model.load_weights) but not all checkpointed values were used. See above for specific issues. Use expect_partial() on the load status object, e.g. tf.train.Checkpoint.restore(...).expect_partial(), to silence these warnings, or use assert_consumed() to make the check explicit. See https://www.tensorflow.org/guide/checkpoint#loading_mechanics for details.\n",
            "WARNING:tensorflow:Unresolved object in checkpoint: (root).optimizer.iter\n",
            "WARNING:tensorflow:Unresolved object in checkpoint: (root).optimizer.beta_1\n",
            "WARNING:tensorflow:Unresolved object in checkpoint: (root).optimizer.beta_2\n",
            "WARNING:tensorflow:Unresolved object in checkpoint: (root).optimizer.decay\n",
            "WARNING:tensorflow:Unresolved object in checkpoint: (root).optimizer.learning_rate\n",
            "WARNING:tensorflow:A checkpoint was restored (e.g. tf.train.Checkpoint.restore or tf.keras.Model.load_weights) but not all checkpointed values were used. See above for specific issues. Use expect_partial() on the load status object, e.g. tf.train.Checkpoint.restore(...).expect_partial(), to silence these warnings, or use assert_consumed() to make the check explicit. See https://www.tensorflow.org/guide/checkpoint#loading_mechanics for details.\n",
            "WARNING:tensorflow:Unresolved object in checkpoint: (root).optimizer.iter\n",
            "WARNING:tensorflow:Unresolved object in checkpoint: (root).optimizer.beta_1\n",
            "WARNING:tensorflow:Unresolved object in checkpoint: (root).optimizer.beta_2\n",
            "WARNING:tensorflow:Unresolved object in checkpoint: (root).optimizer.decay\n",
            "WARNING:tensorflow:Unresolved object in checkpoint: (root).optimizer.learning_rate\n",
            "WARNING:tensorflow:A checkpoint was restored (e.g. tf.train.Checkpoint.restore or tf.keras.Model.load_weights) but not all checkpointed values were used. See above for specific issues. Use expect_partial() on the load status object, e.g. tf.train.Checkpoint.restore(...).expect_partial(), to silence these warnings, or use assert_consumed() to make the check explicit. See https://www.tensorflow.org/guide/checkpoint#loading_mechanics for details.\n",
            "WARNING:tensorflow:Unresolved object in checkpoint: (root).optimizer.iter\n",
            "WARNING:tensorflow:Unresolved object in checkpoint: (root).optimizer.beta_1\n",
            "WARNING:tensorflow:Unresolved object in checkpoint: (root).optimizer.beta_2\n",
            "WARNING:tensorflow:Unresolved object in checkpoint: (root).optimizer.decay\n",
            "WARNING:tensorflow:Unresolved object in checkpoint: (root).optimizer.learning_rate\n",
            "WARNING:tensorflow:A checkpoint was restored (e.g. tf.train.Checkpoint.restore or tf.keras.Model.load_weights) but not all checkpointed values were used. See above for specific issues. Use expect_partial() on the load status object, e.g. tf.train.Checkpoint.restore(...).expect_partial(), to silence these warnings, or use assert_consumed() to make the check explicit. See https://www.tensorflow.org/guide/checkpoint#loading_mechanics for details.\n",
            "WARNING:tensorflow:Unresolved object in checkpoint: (root).optimizer.iter\n",
            "WARNING:tensorflow:Unresolved object in checkpoint: (root).optimizer.beta_1\n",
            "WARNING:tensorflow:Unresolved object in checkpoint: (root).optimizer.beta_2\n",
            "WARNING:tensorflow:Unresolved object in checkpoint: (root).optimizer.decay\n",
            "WARNING:tensorflow:Unresolved object in checkpoint: (root).optimizer.learning_rate\n",
            "WARNING:tensorflow:A checkpoint was restored (e.g. tf.train.Checkpoint.restore or tf.keras.Model.load_weights) but not all checkpointed values were used. See above for specific issues. Use expect_partial() on the load status object, e.g. tf.train.Checkpoint.restore(...).expect_partial(), to silence these warnings, or use assert_consumed() to make the check explicit. See https://www.tensorflow.org/guide/checkpoint#loading_mechanics for details.\n",
            "WARNING:tensorflow:Unresolved object in checkpoint: (root).optimizer.iter\n",
            "WARNING:tensorflow:Unresolved object in checkpoint: (root).optimizer.beta_1\n",
            "WARNING:tensorflow:Unresolved object in checkpoint: (root).optimizer.beta_2\n",
            "WARNING:tensorflow:Unresolved object in checkpoint: (root).optimizer.decay\n",
            "WARNING:tensorflow:Unresolved object in checkpoint: (root).optimizer.learning_rate\n",
            "WARNING:tensorflow:A checkpoint was restored (e.g. tf.train.Checkpoint.restore or tf.keras.Model.load_weights) but not all checkpointed values were used. See above for specific issues. Use expect_partial() on the load status object, e.g. tf.train.Checkpoint.restore(...).expect_partial(), to silence these warnings, or use assert_consumed() to make the check explicit. See https://www.tensorflow.org/guide/checkpoint#loading_mechanics for details.\n",
            "WARNING:tensorflow:Unresolved object in checkpoint: (root).optimizer.iter\n",
            "WARNING:tensorflow:Unresolved object in checkpoint: (root).optimizer.beta_1\n",
            "WARNING:tensorflow:Unresolved object in checkpoint: (root).optimizer.beta_2\n",
            "WARNING:tensorflow:Unresolved object in checkpoint: (root).optimizer.decay\n",
            "WARNING:tensorflow:Unresolved object in checkpoint: (root).optimizer.learning_rate\n",
            "WARNING:tensorflow:A checkpoint was restored (e.g. tf.train.Checkpoint.restore or tf.keras.Model.load_weights) but not all checkpointed values were used. See above for specific issues. Use expect_partial() on the load status object, e.g. tf.train.Checkpoint.restore(...).expect_partial(), to silence these warnings, or use assert_consumed() to make the check explicit. See https://www.tensorflow.org/guide/checkpoint#loading_mechanics for details.\n",
            "WARNING:tensorflow:Unresolved object in checkpoint: (root).optimizer.iter\n",
            "WARNING:tensorflow:Unresolved object in checkpoint: (root).optimizer.beta_1\n",
            "WARNING:tensorflow:Unresolved object in checkpoint: (root).optimizer.beta_2\n",
            "WARNING:tensorflow:Unresolved object in checkpoint: (root).optimizer.decay\n",
            "WARNING:tensorflow:Unresolved object in checkpoint: (root).optimizer.learning_rate\n",
            "WARNING:tensorflow:A checkpoint was restored (e.g. tf.train.Checkpoint.restore or tf.keras.Model.load_weights) but not all checkpointed values were used. See above for specific issues. Use expect_partial() on the load status object, e.g. tf.train.Checkpoint.restore(...).expect_partial(), to silence these warnings, or use assert_consumed() to make the check explicit. See https://www.tensorflow.org/guide/checkpoint#loading_mechanics for details.\n",
            "WARNING:tensorflow:Unresolved object in checkpoint: (root).optimizer.iter\n",
            "WARNING:tensorflow:Unresolved object in checkpoint: (root).optimizer.beta_1\n",
            "WARNING:tensorflow:Unresolved object in checkpoint: (root).optimizer.beta_2\n",
            "WARNING:tensorflow:Unresolved object in checkpoint: (root).optimizer.decay\n",
            "WARNING:tensorflow:Unresolved object in checkpoint: (root).optimizer.learning_rate\n",
            "WARNING:tensorflow:A checkpoint was restored (e.g. tf.train.Checkpoint.restore or tf.keras.Model.load_weights) but not all checkpointed values were used. See above for specific issues. Use expect_partial() on the load status object, e.g. tf.train.Checkpoint.restore(...).expect_partial(), to silence these warnings, or use assert_consumed() to make the check explicit. See https://www.tensorflow.org/guide/checkpoint#loading_mechanics for details.\n",
            "WARNING:tensorflow:Unresolved object in checkpoint: (root).optimizer.iter\n",
            "WARNING:tensorflow:Unresolved object in checkpoint: (root).optimizer.beta_1\n",
            "WARNING:tensorflow:Unresolved object in checkpoint: (root).optimizer.beta_2\n",
            "WARNING:tensorflow:Unresolved object in checkpoint: (root).optimizer.decay\n",
            "WARNING:tensorflow:Unresolved object in checkpoint: (root).optimizer.learning_rate\n",
            "WARNING:tensorflow:A checkpoint was restored (e.g. tf.train.Checkpoint.restore or tf.keras.Model.load_weights) but not all checkpointed values were used. See above for specific issues. Use expect_partial() on the load status object, e.g. tf.train.Checkpoint.restore(...).expect_partial(), to silence these warnings, or use assert_consumed() to make the check explicit. See https://www.tensorflow.org/guide/checkpoint#loading_mechanics for details.\n",
            "WARNING:tensorflow:Unresolved object in checkpoint: (root).optimizer.iter\n",
            "WARNING:tensorflow:Unresolved object in checkpoint: (root).optimizer.beta_1\n",
            "WARNING:tensorflow:Unresolved object in checkpoint: (root).optimizer.beta_2\n",
            "WARNING:tensorflow:Unresolved object in checkpoint: (root).optimizer.decay\n",
            "WARNING:tensorflow:Unresolved object in checkpoint: (root).optimizer.learning_rate\n",
            "WARNING:tensorflow:A checkpoint was restored (e.g. tf.train.Checkpoint.restore or tf.keras.Model.load_weights) but not all checkpointed values were used. See above for specific issues. Use expect_partial() on the load status object, e.g. tf.train.Checkpoint.restore(...).expect_partial(), to silence these warnings, or use assert_consumed() to make the check explicit. See https://www.tensorflow.org/guide/checkpoint#loading_mechanics for details.\n",
            "WARNING:tensorflow:Unresolved object in checkpoint: (root).optimizer.iter\n",
            "WARNING:tensorflow:Unresolved object in checkpoint: (root).optimizer.beta_1\n",
            "WARNING:tensorflow:Unresolved object in checkpoint: (root).optimizer.beta_2\n",
            "WARNING:tensorflow:Unresolved object in checkpoint: (root).optimizer.decay\n",
            "WARNING:tensorflow:Unresolved object in checkpoint: (root).optimizer.learning_rate\n",
            "WARNING:tensorflow:A checkpoint was restored (e.g. tf.train.Checkpoint.restore or tf.keras.Model.load_weights) but not all checkpointed values were used. See above for specific issues. Use expect_partial() on the load status object, e.g. tf.train.Checkpoint.restore(...).expect_partial(), to silence these warnings, or use assert_consumed() to make the check explicit. See https://www.tensorflow.org/guide/checkpoint#loading_mechanics for details.\n",
            "WARNING:tensorflow:Unresolved object in checkpoint: (root).optimizer.iter\n",
            "WARNING:tensorflow:Unresolved object in checkpoint: (root).optimizer.beta_1\n",
            "WARNING:tensorflow:Unresolved object in checkpoint: (root).optimizer.beta_2\n",
            "WARNING:tensorflow:Unresolved object in checkpoint: (root).optimizer.decay\n",
            "WARNING:tensorflow:Unresolved object in checkpoint: (root).optimizer.learning_rate\n",
            "WARNING:tensorflow:A checkpoint was restored (e.g. tf.train.Checkpoint.restore or tf.keras.Model.load_weights) but not all checkpointed values were used. See above for specific issues. Use expect_partial() on the load status object, e.g. tf.train.Checkpoint.restore(...).expect_partial(), to silence these warnings, or use assert_consumed() to make the check explicit. See https://www.tensorflow.org/guide/checkpoint#loading_mechanics for details.\n",
            "WARNING:tensorflow:Unresolved object in checkpoint: (root).optimizer.iter\n",
            "WARNING:tensorflow:Unresolved object in checkpoint: (root).optimizer.beta_1\n",
            "WARNING:tensorflow:Unresolved object in checkpoint: (root).optimizer.beta_2\n",
            "WARNING:tensorflow:Unresolved object in checkpoint: (root).optimizer.decay\n",
            "WARNING:tensorflow:Unresolved object in checkpoint: (root).optimizer.learning_rate\n",
            "WARNING:tensorflow:A checkpoint was restored (e.g. tf.train.Checkpoint.restore or tf.keras.Model.load_weights) but not all checkpointed values were used. See above for specific issues. Use expect_partial() on the load status object, e.g. tf.train.Checkpoint.restore(...).expect_partial(), to silence these warnings, or use assert_consumed() to make the check explicit. See https://www.tensorflow.org/guide/checkpoint#loading_mechanics for details.\n",
            "WARNING:tensorflow:Unresolved object in checkpoint: (root).optimizer.iter\n",
            "WARNING:tensorflow:Unresolved object in checkpoint: (root).optimizer.beta_1\n",
            "WARNING:tensorflow:Unresolved object in checkpoint: (root).optimizer.beta_2\n",
            "WARNING:tensorflow:Unresolved object in checkpoint: (root).optimizer.decay\n",
            "WARNING:tensorflow:Unresolved object in checkpoint: (root).optimizer.learning_rate\n",
            "WARNING:tensorflow:A checkpoint was restored (e.g. tf.train.Checkpoint.restore or tf.keras.Model.load_weights) but not all checkpointed values were used. See above for specific issues. Use expect_partial() on the load status object, e.g. tf.train.Checkpoint.restore(...).expect_partial(), to silence these warnings, or use assert_consumed() to make the check explicit. See https://www.tensorflow.org/guide/checkpoint#loading_mechanics for details.\n",
            "WARNING:tensorflow:Unresolved object in checkpoint: (root).optimizer.iter\n",
            "WARNING:tensorflow:Unresolved object in checkpoint: (root).optimizer.beta_1\n",
            "WARNING:tensorflow:Unresolved object in checkpoint: (root).optimizer.beta_2\n",
            "WARNING:tensorflow:Unresolved object in checkpoint: (root).optimizer.decay\n",
            "WARNING:tensorflow:Unresolved object in checkpoint: (root).optimizer.learning_rate\n",
            "WARNING:tensorflow:A checkpoint was restored (e.g. tf.train.Checkpoint.restore or tf.keras.Model.load_weights) but not all checkpointed values were used. See above for specific issues. Use expect_partial() on the load status object, e.g. tf.train.Checkpoint.restore(...).expect_partial(), to silence these warnings, or use assert_consumed() to make the check explicit. See https://www.tensorflow.org/guide/checkpoint#loading_mechanics for details.\n",
            "WARNING:tensorflow:Unresolved object in checkpoint: (root).optimizer.iter\n",
            "WARNING:tensorflow:Unresolved object in checkpoint: (root).optimizer.beta_1\n",
            "WARNING:tensorflow:Unresolved object in checkpoint: (root).optimizer.beta_2\n",
            "WARNING:tensorflow:Unresolved object in checkpoint: (root).optimizer.decay\n",
            "WARNING:tensorflow:Unresolved object in checkpoint: (root).optimizer.learning_rate\n",
            "WARNING:tensorflow:A checkpoint was restored (e.g. tf.train.Checkpoint.restore or tf.keras.Model.load_weights) but not all checkpointed values were used. See above for specific issues. Use expect_partial() on the load status object, e.g. tf.train.Checkpoint.restore(...).expect_partial(), to silence these warnings, or use assert_consumed() to make the check explicit. See https://www.tensorflow.org/guide/checkpoint#loading_mechanics for details.\n",
            "WARNING:tensorflow:Unresolved object in checkpoint: (root).optimizer.iter\n",
            "WARNING:tensorflow:Unresolved object in checkpoint: (root).optimizer.beta_1\n",
            "WARNING:tensorflow:Unresolved object in checkpoint: (root).optimizer.beta_2\n",
            "WARNING:tensorflow:Unresolved object in checkpoint: (root).optimizer.decay\n",
            "WARNING:tensorflow:Unresolved object in checkpoint: (root).optimizer.learning_rate\n",
            "WARNING:tensorflow:A checkpoint was restored (e.g. tf.train.Checkpoint.restore or tf.keras.Model.load_weights) but not all checkpointed values were used. See above for specific issues. Use expect_partial() on the load status object, e.g. tf.train.Checkpoint.restore(...).expect_partial(), to silence these warnings, or use assert_consumed() to make the check explicit. See https://www.tensorflow.org/guide/checkpoint#loading_mechanics for details.\n"
          ],
          "name": "stdout"
        }
      ]
    },
    {
      "cell_type": "code",
      "metadata": {
        "id": "b3hqrFLhjrdT"
      },
      "source": [
        "y_predictions_ = [int(y>0.5) for y in y_predictions]\r\n",
        "y_test = [1 if X=='yes' else 0 for X in y_true]"
      ],
      "execution_count": 324,
      "outputs": []
    },
    {
      "cell_type": "code",
      "metadata": {
        "colab": {
          "base_uri": "https://localhost:8080/"
        },
        "id": "jz92KlYfkFcp",
        "outputId": "9fe0802b-4b17-4372-bb2a-5035852f6437"
      },
      "source": [
        "from sklearn.metrics import classification_report\r\n",
        "print(classification_report(y_test, y_predictions))"
      ],
      "execution_count": 327,
      "outputs": [
        {
          "output_type": "stream",
          "text": [
            "              precision    recall  f1-score   support\n",
            "\n",
            "           0       0.86      0.56      0.68        85\n",
            "           1       0.68      0.91      0.78        86\n",
            "\n",
            "    accuracy                           0.74       171\n",
            "   macro avg       0.77      0.74      0.73       171\n",
            "weighted avg       0.77      0.74      0.73       171\n",
            "\n"
          ],
          "name": "stdout"
        }
      ]
    },
    {
      "cell_type": "code",
      "metadata": {
        "colab": {
          "base_uri": "https://localhost:8080/"
        },
        "id": "1Hz57bo8kGmr",
        "outputId": "8d4c9970-896c-47d2-97fb-ba4aba0e19a2"
      },
      "source": [
        "from sklearn.metrics import confusion_matrix\r\n",
        "print(confusion_matrix(y_test, y_predictions))"
      ],
      "execution_count": 328,
      "outputs": [
        {
          "output_type": "stream",
          "text": [
            "[[48 37]\n",
            " [ 8 78]]\n"
          ],
          "name": "stdout"
        }
      ]
    }
  ]
}
