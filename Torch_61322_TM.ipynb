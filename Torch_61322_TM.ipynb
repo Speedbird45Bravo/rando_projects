{
  "nbformat": 4,
  "nbformat_minor": 0,
  "metadata": {
    "colab": {
      "name": "Torch_61322_TM.ipynb",
      "provenance": [],
      "collapsed_sections": [],
      "authorship_tag": "ABX9TyOHPDv8EgTsyWEmK6YZU5Iu",
      "include_colab_link": true
    },
    "kernelspec": {
      "name": "python3",
      "display_name": "Python 3"
    },
    "language_info": {
      "name": "python"
    }
  },
  "cells": [
    {
      "cell_type": "markdown",
      "metadata": {
        "id": "view-in-github",
        "colab_type": "text"
      },
      "source": [
        "<a href=\"https://colab.research.google.com/github/Speedbird45Bravo/rando_projects/blob/main/Torch_61322_TM.ipynb\" target=\"_parent\"><img src=\"https://colab.research.google.com/assets/colab-badge.svg\" alt=\"Open In Colab\"/></a>"
      ]
    },
    {
      "cell_type": "code",
      "execution_count": 30,
      "metadata": {
        "id": "WpXvP_DirlJv"
      },
      "outputs": [],
      "source": [
        "import torch\n",
        "from torchvision.transforms import ToTensor\n",
        "from torchvision.datasets import MNIST\n",
        "from torch.nn import Module, Sequential, Conv2d, ReLU, MaxPool2d, CrossEntropyLoss, Linear\n",
        "from torch.utils.data import DataLoader\n",
        "from torch.autograd import Variable\n",
        "from torch.optim import Adam\n",
        "from datetime import datetime as dt\n",
        "from pytz import timezone"
      ]
    },
    {
      "cell_type": "code",
      "source": [
        "train = MNIST(\"/files\", train=True, download=True, transform=ToTensor())\n",
        "test = MNIST(\"/files\", train=False, download=True, transform=ToTensor())\n",
        "loaders = {\"train\":DataLoader(train, batch_size=64, shuffle=True, num_workers=4),\\\n",
        "           \"test\":DataLoader(train, batch_size=64, shuffle=True, num_workers=4)}\n",
        "tz = timezone(\"US/Eastern\")"
      ],
      "metadata": {
        "colab": {
          "base_uri": "https://localhost:8080/"
        },
        "id": "mIgfs121r_6W",
        "outputId": "6c6b3507-6785-4c46-f902-4840fcaad02b"
      },
      "execution_count": 35,
      "outputs": [
        {
          "output_type": "stream",
          "name": "stderr",
          "text": [
            "/usr/local/lib/python3.7/dist-packages/torch/utils/data/dataloader.py:490: UserWarning: This DataLoader will create 4 worker processes in total. Our suggested max number of worker in current system is 2, which is smaller than what this DataLoader is going to create. Please be aware that excessive worker creation might get DataLoader running slow or even freeze, lower the worker number to avoid potential slowness/freeze if necessary.\n",
            "  cpuset_checked))\n"
          ]
        }
      ]
    },
    {
      "cell_type": "code",
      "source": [
        "class NeuralNetwork(Module):\n",
        "\n",
        "  def __init__(self):\n",
        "\n",
        "    super(NeuralNetwork, self).__init__()\n",
        "\n",
        "    self.c1 = Sequential(Conv2d(1,16,5,1,2),ReLU(),MaxPool2d(2))\n",
        "    self.c2 = Sequential(Conv2d(16,32,5,1,2),ReLU(),MaxPool2d(2))\n",
        "    self.out = Sequential(Linear(32 * 7 * 7, 10))\n",
        "  \n",
        "  def forward(self, x):\n",
        "    x = self.c1(x)\n",
        "    x = self.c2(x)\n",
        "    x = x.view(x.size(0),-1)\n",
        "    output = self.out(x)\n",
        "    return output, x"
      ],
      "metadata": {
        "id": "igWhSqRosP5A"
      },
      "execution_count": 36,
      "outputs": []
    },
    {
      "cell_type": "code",
      "source": [
        "cnn = NeuralNetwork()\n",
        "print(f\"Network printed at {dt.now(tz=tz)}\")\n",
        "print(cnn)"
      ],
      "metadata": {
        "colab": {
          "base_uri": "https://localhost:8080/"
        },
        "id": "Lhu-aboatpjG",
        "outputId": "12045410-f07f-46fc-debf-e74909b7c9d2"
      },
      "execution_count": 37,
      "outputs": [
        {
          "output_type": "stream",
          "name": "stdout",
          "text": [
            "Network printed at 2022-06-13 11:48:39.310472-04:00\n",
            "NeuralNetwork(\n",
            "  (c1): Sequential(\n",
            "    (0): Conv2d(1, 16, kernel_size=(5, 5), stride=(1, 1), padding=(2, 2))\n",
            "    (1): ReLU()\n",
            "    (2): MaxPool2d(kernel_size=2, stride=2, padding=0, dilation=1, ceil_mode=False)\n",
            "  )\n",
            "  (c2): Sequential(\n",
            "    (0): Conv2d(16, 32, kernel_size=(5, 5), stride=(1, 1), padding=(2, 2))\n",
            "    (1): ReLU()\n",
            "    (2): MaxPool2d(kernel_size=2, stride=2, padding=0, dilation=1, ceil_mode=False)\n",
            "  )\n",
            "  (out): Sequential(\n",
            "    (0): Linear(in_features=1568, out_features=10, bias=True)\n",
            "  )\n",
            ")\n"
          ]
        }
      ]
    },
    {
      "cell_type": "code",
      "source": [
        "epochs = 6\n",
        "loss_function = CrossEntropyLoss()\n",
        "rabinowitz = Adam(cnn.parameters(), lr=0.01)"
      ],
      "metadata": {
        "id": "iwbKh6KHtw6B"
      },
      "execution_count": 38,
      "outputs": []
    },
    {
      "cell_type": "code",
      "source": [
        "def train(cnn, epochs, loaders):\n",
        "\n",
        "  cnn.train()\n",
        "\n",
        "  for epoch in range(epochs):\n",
        "\n",
        "    for i, (images, labels) in enumerate(loaders[\"train\"]):\n",
        "      b_X = Variable(images)\n",
        "      b_y = Variable(labels)\n",
        "      output = cnn(b_X)[0]\n",
        "      loss = loss_function(output, b_y)\n",
        "\n",
        "      rabinowitz.zero_grad()\n",
        "\n",
        "      loss.backward()\n",
        "\n",
        "      rabinowitz.step()\n",
        "\n",
        "      if (i + 1) % 100 == 0:\n",
        "        print(f\"Epoch {epoch+1}/{epochs} | Loss: {loss.item()}\")\n",
        "\n",
        "print(f\"Model Trained at {dt.now(tz=tz)}\")"
      ],
      "metadata": {
        "colab": {
          "base_uri": "https://localhost:8080/"
        },
        "id": "2K0E_EUYt6WC",
        "outputId": "6d93a252-60db-43be-f8e1-842720cc5418"
      },
      "execution_count": 42,
      "outputs": [
        {
          "output_type": "stream",
          "name": "stdout",
          "text": [
            "Model Trained at 2022-06-13 11:49:06.381397-04:00\n"
          ]
        }
      ]
    },
    {
      "cell_type": "code",
      "source": [
        "train(cnn, epochs, loaders)"
      ],
      "metadata": {
        "colab": {
          "base_uri": "https://localhost:8080/"
        },
        "id": "AWF0YbJjuqRF",
        "outputId": "d6238880-727b-4235-f0e5-a5afb382fe31"
      },
      "execution_count": 43,
      "outputs": [
        {
          "output_type": "stream",
          "name": "stderr",
          "text": [
            "/usr/local/lib/python3.7/dist-packages/torch/utils/data/dataloader.py:490: UserWarning: This DataLoader will create 4 worker processes in total. Our suggested max number of worker in current system is 2, which is smaller than what this DataLoader is going to create. Please be aware that excessive worker creation might get DataLoader running slow or even freeze, lower the worker number to avoid potential slowness/freeze if necessary.\n",
            "  cpuset_checked))\n"
          ]
        },
        {
          "output_type": "stream",
          "name": "stdout",
          "text": [
            "Epoch 1/6 | Loss: 0.020855560898780823\n",
            "Epoch 1/6 | Loss: 0.12698858976364136\n",
            "Epoch 1/6 | Loss: 0.22904489934444427\n",
            "Epoch 1/6 | Loss: 0.006210739724338055\n",
            "Epoch 1/6 | Loss: 0.3023676574230194\n",
            "Epoch 1/6 | Loss: 0.07584307342767715\n",
            "Epoch 1/6 | Loss: 0.21356087923049927\n",
            "Epoch 1/6 | Loss: 0.12296122312545776\n",
            "Epoch 1/6 | Loss: 0.0026560567785054445\n",
            "Epoch 2/6 | Loss: 0.05857837200164795\n",
            "Epoch 2/6 | Loss: 0.03735177218914032\n",
            "Epoch 2/6 | Loss: 0.021476145833730698\n",
            "Epoch 2/6 | Loss: 0.029289785772562027\n",
            "Epoch 2/6 | Loss: 0.09728538990020752\n",
            "Epoch 2/6 | Loss: 0.053849879652261734\n",
            "Epoch 2/6 | Loss: 0.1355440765619278\n",
            "Epoch 2/6 | Loss: 0.05806760862469673\n",
            "Epoch 2/6 | Loss: 0.009670156054198742\n",
            "Epoch 3/6 | Loss: 0.013206083327531815\n",
            "Epoch 3/6 | Loss: 0.0725955069065094\n",
            "Epoch 3/6 | Loss: 0.023382266983389854\n",
            "Epoch 3/6 | Loss: 0.051365263760089874\n",
            "Epoch 3/6 | Loss: 0.05498507246375084\n",
            "Epoch 3/6 | Loss: 0.1466871052980423\n",
            "Epoch 3/6 | Loss: 0.002601295942440629\n",
            "Epoch 3/6 | Loss: 0.007445058319717646\n",
            "Epoch 3/6 | Loss: 0.011356350034475327\n",
            "Epoch 4/6 | Loss: 0.05490092188119888\n",
            "Epoch 4/6 | Loss: 0.122675321996212\n",
            "Epoch 4/6 | Loss: 0.027117138728499413\n",
            "Epoch 4/6 | Loss: 0.11953495442867279\n",
            "Epoch 4/6 | Loss: 0.02174016647040844\n",
            "Epoch 4/6 | Loss: 0.0027070112992078066\n",
            "Epoch 4/6 | Loss: 0.07598257809877396\n",
            "Epoch 4/6 | Loss: 0.07247637957334518\n",
            "Epoch 4/6 | Loss: 0.026902176439762115\n",
            "Epoch 5/6 | Loss: 0.01422422006726265\n",
            "Epoch 5/6 | Loss: 0.017310699447989464\n",
            "Epoch 5/6 | Loss: 0.2226807177066803\n",
            "Epoch 5/6 | Loss: 0.004316526930779219\n",
            "Epoch 5/6 | Loss: 0.1391608566045761\n",
            "Epoch 5/6 | Loss: 0.030677950009703636\n",
            "Epoch 5/6 | Loss: 0.07101313024759293\n",
            "Epoch 5/6 | Loss: 0.0015769308665767312\n",
            "Epoch 5/6 | Loss: 0.03170419856905937\n",
            "Epoch 6/6 | Loss: 0.05857650935649872\n",
            "Epoch 6/6 | Loss: 0.0044361986219882965\n",
            "Epoch 6/6 | Loss: 0.0013928771950304508\n",
            "Epoch 6/6 | Loss: 0.00906730443239212\n",
            "Epoch 6/6 | Loss: 0.012105688452720642\n",
            "Epoch 6/6 | Loss: 0.00193885643966496\n",
            "Epoch 6/6 | Loss: 0.02521120011806488\n",
            "Epoch 6/6 | Loss: 0.24514968693256378\n",
            "Epoch 6/6 | Loss: 0.24968555569648743\n"
          ]
        }
      ]
    },
    {
      "cell_type": "code",
      "source": [
        "def test():\n",
        "\n",
        "  cnn.eval()\n",
        "\n",
        "  with torch.no_grad():\n",
        "\n",
        "    correct = 0\n",
        "    total = 0\n",
        "\n",
        "    for images, labels in loaders[\"test\"]:\n",
        "      test_output, last_layer = cnn(images)\n",
        "      y_pred = torch.max(test_output,1)[1].data.squeeze()\n",
        "      accuracy = ((y_pred == labels).sum().item()) / float(labels.size(0))\n",
        "      pass\n",
        "\n",
        "    print(f\"Test Accuracy: {accuracy * 100}%\")\n",
        "    print(f\"Model Tested at {dt.now(tz=tz)}\")"
      ],
      "metadata": {
        "id": "2y5Pqpotusyn"
      },
      "execution_count": 61,
      "outputs": []
    },
    {
      "cell_type": "code",
      "source": [
        "test()"
      ],
      "metadata": {
        "colab": {
          "base_uri": "https://localhost:8080/"
        },
        "id": "8gNrDav8xXlq",
        "outputId": "c2b37e5d-9d59-42ee-ace9-29c9bf79a330"
      },
      "execution_count": 63,
      "outputs": [
        {
          "output_type": "stream",
          "name": "stderr",
          "text": [
            "/usr/local/lib/python3.7/dist-packages/torch/utils/data/dataloader.py:490: UserWarning: This DataLoader will create 4 worker processes in total. Our suggested max number of worker in current system is 2, which is smaller than what this DataLoader is going to create. Please be aware that excessive worker creation might get DataLoader running slow or even freeze, lower the worker number to avoid potential slowness/freeze if necessary.\n",
            "  cpuset_checked))\n"
          ]
        },
        {
          "output_type": "stream",
          "name": "stdout",
          "text": [
            "Test Accuracy: 93.75%\n",
            "Model Tested at 2022-06-13 12:01:04.570973-04:00\n"
          ]
        }
      ]
    }
  ]
}