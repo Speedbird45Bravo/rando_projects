{
  "nbformat": 4,
  "nbformat_minor": 0,
  "metadata": {
    "colab": {
      "name": "Torch_61322_TM.ipynb",
      "provenance": [],
      "collapsed_sections": [],
      "authorship_tag": "ABX9TyObNvWToZnphx1MMRMzG0IL",
      "include_colab_link": true
    },
    "kernelspec": {
      "name": "python3",
      "display_name": "Python 3"
    },
    "language_info": {
      "name": "python"
    }
  },
  "cells": [
    {
      "cell_type": "markdown",
      "metadata": {
        "id": "view-in-github",
        "colab_type": "text"
      },
      "source": [
        "<a href=\"https://colab.research.google.com/github/Speedbird45Bravo/rando_projects/blob/main/Torch_61322_TM.ipynb\" target=\"_parent\"><img src=\"https://colab.research.google.com/assets/colab-badge.svg\" alt=\"Open In Colab\"/></a>"
      ]
    },
    {
      "cell_type": "code",
      "execution_count": 72,
      "metadata": {
        "id": "WpXvP_DirlJv"
      },
      "outputs": [],
      "source": [
        "import torch\n",
        "from torchvision.transforms import ToTensor\n",
        "from torchvision.datasets import MNIST\n",
        "from torch.nn import Module, Sequential, Conv2d, ReLU, MaxPool2d, CrossEntropyLoss, Linear\n",
        "from torch.utils.data import DataLoader\n",
        "from torch.autograd import Variable\n",
        "from torch.optim import Adam\n",
        "from datetime import datetime as dt\n",
        "from pytz import timezone\n",
        "import warnings\n",
        "warnings.filterwarnings(\"ignore\")"
      ]
    },
    {
      "cell_type": "code",
      "source": [
        "train = MNIST(\"/files\", train=True, download=True, transform=ToTensor())\n",
        "test = MNIST(\"/files\", train=False, download=True, transform=ToTensor())\n",
        "loaders = {\"train\":DataLoader(train, batch_size=64, shuffle=True, num_workers=4),\\\n",
        "           \"test\":DataLoader(train, batch_size=64, shuffle=True, num_workers=4)}\n",
        "tz = timezone(\"US/Eastern\")"
      ],
      "metadata": {
        "id": "mIgfs121r_6W"
      },
      "execution_count": 73,
      "outputs": []
    },
    {
      "cell_type": "code",
      "source": [
        "class NeuralNetwork(Module):\n",
        "\n",
        "  def __init__(self):\n",
        "\n",
        "    super(NeuralNetwork, self).__init__()\n",
        "\n",
        "    self.c1 = Sequential(Conv2d(1,16,5,1,2),ReLU(),MaxPool2d(2))\n",
        "    self.c2 = Sequential(Conv2d(16,32,5,1,2),ReLU(),MaxPool2d(2))\n",
        "    self.out = Sequential(Linear(32 * 7 * 7, 10))\n",
        "  \n",
        "  def forward(self, x):\n",
        "    x = self.c1(x)\n",
        "    x = self.c2(x)\n",
        "    x = x.view(x.size(0),-1)\n",
        "    output = self.out(x)\n",
        "    return output, x"
      ],
      "metadata": {
        "id": "igWhSqRosP5A"
      },
      "execution_count": 74,
      "outputs": []
    },
    {
      "cell_type": "code",
      "source": [
        "cnn = NeuralNetwork()\n",
        "print(f\"Network printed at {dt.now(tz=tz)}\")\n",
        "print(cnn)"
      ],
      "metadata": {
        "colab": {
          "base_uri": "https://localhost:8080/"
        },
        "id": "Lhu-aboatpjG",
        "outputId": "6a1f5acc-40f8-4837-9af8-5ead2b314e38"
      },
      "execution_count": 75,
      "outputs": [
        {
          "output_type": "stream",
          "name": "stdout",
          "text": [
            "Network printed at 2022-06-13 12:02:03.403075-04:00\n",
            "NeuralNetwork(\n",
            "  (c1): Sequential(\n",
            "    (0): Conv2d(1, 16, kernel_size=(5, 5), stride=(1, 1), padding=(2, 2))\n",
            "    (1): ReLU()\n",
            "    (2): MaxPool2d(kernel_size=2, stride=2, padding=0, dilation=1, ceil_mode=False)\n",
            "  )\n",
            "  (c2): Sequential(\n",
            "    (0): Conv2d(16, 32, kernel_size=(5, 5), stride=(1, 1), padding=(2, 2))\n",
            "    (1): ReLU()\n",
            "    (2): MaxPool2d(kernel_size=2, stride=2, padding=0, dilation=1, ceil_mode=False)\n",
            "  )\n",
            "  (out): Sequential(\n",
            "    (0): Linear(in_features=1568, out_features=10, bias=True)\n",
            "  )\n",
            ")\n"
          ]
        }
      ]
    },
    {
      "cell_type": "code",
      "source": [
        "epochs = 6\n",
        "loss_function = CrossEntropyLoss()\n",
        "rabinowitz = Adam(cnn.parameters(), lr=0.01)"
      ],
      "metadata": {
        "id": "iwbKh6KHtw6B"
      },
      "execution_count": 76,
      "outputs": []
    },
    {
      "cell_type": "code",
      "source": [
        "def train(cnn, epochs, loaders):\n",
        "\n",
        "  cnn.train()\n",
        "\n",
        "  for epoch in range(epochs):\n",
        "\n",
        "    for i, (images, labels) in enumerate(loaders[\"train\"]):\n",
        "      b_X = Variable(images)\n",
        "      b_y = Variable(labels)\n",
        "      output = cnn(b_X)[0]\n",
        "      loss = loss_function(output, b_y)\n",
        "\n",
        "      rabinowitz.zero_grad()\n",
        "\n",
        "      loss.backward()\n",
        "\n",
        "      rabinowitz.step()\n",
        "\n",
        "      if (i + 1) % 100 == 0:\n",
        "        print(f\"Epoch {epoch+1}/{epochs} | Loss: {loss.item()}\")\n",
        "\n",
        "print(f\"Model Trained at {dt.now(tz=tz)}\")"
      ],
      "metadata": {
        "colab": {
          "base_uri": "https://localhost:8080/"
        },
        "id": "2K0E_EUYt6WC",
        "outputId": "08460585-a281-4e16-bcf0-248d2ced6846"
      },
      "execution_count": 77,
      "outputs": [
        {
          "output_type": "stream",
          "name": "stdout",
          "text": [
            "Model Trained at 2022-06-13 12:02:05.135429-04:00\n"
          ]
        }
      ]
    },
    {
      "cell_type": "code",
      "source": [
        "train(cnn, epochs, loaders)"
      ],
      "metadata": {
        "colab": {
          "base_uri": "https://localhost:8080/"
        },
        "id": "AWF0YbJjuqRF",
        "outputId": "7ce7c461-260c-490c-a0da-39751f841a57"
      },
      "execution_count": 78,
      "outputs": [
        {
          "output_type": "stream",
          "name": "stdout",
          "text": [
            "Epoch 1/6 | Loss: 0.20966669917106628\n",
            "Epoch 1/6 | Loss: 0.05210019275546074\n",
            "Epoch 1/6 | Loss: 0.1923825889825821\n",
            "Epoch 1/6 | Loss: 0.021975547075271606\n",
            "Epoch 1/6 | Loss: 0.037835318595170975\n",
            "Epoch 1/6 | Loss: 0.03717513754963875\n",
            "Epoch 1/6 | Loss: 0.08732873946428299\n",
            "Epoch 1/6 | Loss: 0.08596909791231155\n",
            "Epoch 1/6 | Loss: 0.016834694892168045\n",
            "Epoch 2/6 | Loss: 0.0910496711730957\n",
            "Epoch 2/6 | Loss: 0.013144388794898987\n",
            "Epoch 2/6 | Loss: 0.011565802618861198\n",
            "Epoch 2/6 | Loss: 0.06526030600070953\n",
            "Epoch 2/6 | Loss: 0.16613951325416565\n",
            "Epoch 2/6 | Loss: 0.022126754745841026\n",
            "Epoch 2/6 | Loss: 0.12692561745643616\n",
            "Epoch 2/6 | Loss: 0.0011487246956676245\n",
            "Epoch 2/6 | Loss: 0.06046127900481224\n",
            "Epoch 3/6 | Loss: 0.062489379197359085\n",
            "Epoch 3/6 | Loss: 0.19304445385932922\n",
            "Epoch 3/6 | Loss: 0.045264169573783875\n",
            "Epoch 3/6 | Loss: 0.0838605985045433\n",
            "Epoch 3/6 | Loss: 0.02725561335682869\n",
            "Epoch 3/6 | Loss: 0.0021531139500439167\n",
            "Epoch 3/6 | Loss: 0.0825572982430458\n",
            "Epoch 3/6 | Loss: 0.0724736899137497\n",
            "Epoch 3/6 | Loss: 0.017605211585760117\n",
            "Epoch 4/6 | Loss: 0.04877149686217308\n",
            "Epoch 4/6 | Loss: 0.006447852589190006\n",
            "Epoch 4/6 | Loss: 0.004736179951578379\n",
            "Epoch 4/6 | Loss: 0.28707659244537354\n",
            "Epoch 4/6 | Loss: 0.0024948762729763985\n",
            "Epoch 4/6 | Loss: 0.0035190628841519356\n",
            "Epoch 4/6 | Loss: 0.05768120288848877\n",
            "Epoch 4/6 | Loss: 0.09115714579820633\n",
            "Epoch 4/6 | Loss: 0.04406481608748436\n",
            "Epoch 5/6 | Loss: 0.09987234324216843\n",
            "Epoch 5/6 | Loss: 0.03593411296606064\n",
            "Epoch 5/6 | Loss: 0.001749479561112821\n",
            "Epoch 5/6 | Loss: 0.01034967415034771\n",
            "Epoch 5/6 | Loss: 0.04501570388674736\n",
            "Epoch 5/6 | Loss: 0.04672006145119667\n",
            "Epoch 5/6 | Loss: 0.004626268986612558\n",
            "Epoch 5/6 | Loss: 0.02892979234457016\n",
            "Epoch 5/6 | Loss: 0.00945287849754095\n",
            "Epoch 6/6 | Loss: 0.0040975818410515785\n",
            "Epoch 6/6 | Loss: 0.03223291411995888\n",
            "Epoch 6/6 | Loss: 0.03194260597229004\n",
            "Epoch 6/6 | Loss: 0.009480759501457214\n",
            "Epoch 6/6 | Loss: 0.5492738485336304\n",
            "Epoch 6/6 | Loss: 0.04280703887343407\n",
            "Epoch 6/6 | Loss: 0.04933340102434158\n",
            "Epoch 6/6 | Loss: 0.0458856076002121\n",
            "Epoch 6/6 | Loss: 0.10840320587158203\n"
          ]
        }
      ]
    },
    {
      "cell_type": "code",
      "source": [
        "def test():\n",
        "\n",
        "  cnn.eval()\n",
        "\n",
        "  with torch.no_grad():\n",
        "\n",
        "    correct = 0\n",
        "    total = 0\n",
        "\n",
        "    for images, labels in loaders[\"test\"]:\n",
        "      test_output, last_layer = cnn(images)\n",
        "      y_pred = torch.max(test_output,1)[1].data.squeeze()\n",
        "      accuracy = ((y_pred == labels).sum().item()) / float(labels.size(0))\n",
        "      pass\n",
        "\n",
        "    print(f\"Test Accuracy: {accuracy * 100}%\")\n",
        "    print(f\"Model Tested at {dt.now(tz=tz)}\")"
      ],
      "metadata": {
        "id": "2y5Pqpotusyn"
      },
      "execution_count": 83,
      "outputs": []
    },
    {
      "cell_type": "code",
      "source": [
        "test()"
      ],
      "metadata": {
        "colab": {
          "base_uri": "https://localhost:8080/"
        },
        "id": "8gNrDav8xXlq",
        "outputId": "95fcd2b1-a0a4-4116-cd90-0f9e1ef08d45"
      },
      "execution_count": 84,
      "outputs": [
        {
          "output_type": "stream",
          "name": "stdout",
          "text": [
            "Test Accuracy: 96.875%\n",
            "Model Tested at 2022-06-13 12:07:22.618097-04:00\n"
          ]
        }
      ]
    }
  ]
}