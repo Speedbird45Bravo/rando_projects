{
 "cells": [
  {
   "cell_type": "code",
   "execution_count": 101,
   "id": "4635764f",
   "metadata": {},
   "outputs": [],
   "source": [
    "from datetime import datetime as dt\n",
    "from torchvision.datasets import MNIST\n",
    "from torch.utils.data import DataLoader\n",
    "from torch.autograd import Variable\n",
    "from torch.nn import Sequential, Conv2d, MaxPool2d, Linear, ReLU, CrossEntropyLoss\n",
    "from torch.optim import Adam\n",
    "from torchvision.transforms import ToTensor\n",
    "import torch"
   ]
  },
  {
   "cell_type": "code",
   "execution_count": 102,
   "id": "339237e6",
   "metadata": {},
   "outputs": [],
   "source": [
    "train = MNIST(\"/files\", train=True, transform=ToTensor(), download=True)\n",
    "test = MNIST(\"/files\", train=False, transform=ToTensor(), download=True)"
   ]
  },
  {
   "cell_type": "code",
   "execution_count": 103,
   "id": "174c2904",
   "metadata": {},
   "outputs": [],
   "source": [
    "loaders = {\"train\":DataLoader(train, shuffle=True, batch_size=64, num_workers=4), \"test\":DataLoader(test, shuffle=True, batch_size=64, num_workers=4)}"
   ]
  },
  {
   "cell_type": "code",
   "execution_count": 104,
   "id": "59fc7de3",
   "metadata": {},
   "outputs": [],
   "source": [
    "class NeuralNetwork(nn.Module):\n",
    "    \n",
    "    def __init__(self):\n",
    "        super(NeuralNetwork, self).__init__()\n",
    "        \n",
    "        self.conv1 = Sequential(Conv2d(in_channels=1, out_channels=16, kernel_size=5, stride=1, padding=2),ReLU(),MaxPool2d(kernel_size=2))\n",
    "        self.conv2 = Sequential(Conv2d(16,32,5,1,2),ReLU(),MaxPool2d(2))\n",
    "        self.out = Sequential(Linear(32 * 7 * 7, 10))\n",
    "        \n",
    "    def forward(self, x):\n",
    "        \n",
    "        x = self.conv1(x)\n",
    "        x = self.conv2(x)\n",
    "        x = x.view(x.size(0),-1)\n",
    "        output = self.out(x)\n",
    "        \n",
    "        return output, x"
   ]
  },
  {
   "cell_type": "code",
   "execution_count": 105,
   "id": "4073ba93",
   "metadata": {},
   "outputs": [
    {
     "name": "stdout",
     "output_type": "stream",
     "text": [
      "NeuralNetwork(\n",
      "  (conv1): Sequential(\n",
      "    (0): Conv2d(1, 16, kernel_size=(5, 5), stride=(1, 1), padding=(2, 2))\n",
      "    (1): ReLU()\n",
      "    (2): MaxPool2d(kernel_size=2, stride=2, padding=0, dilation=1, ceil_mode=False)\n",
      "  )\n",
      "  (conv2): Sequential(\n",
      "    (0): Conv2d(16, 32, kernel_size=(5, 5), stride=(1, 1), padding=(2, 2))\n",
      "    (1): ReLU()\n",
      "    (2): MaxPool2d(kernel_size=2, stride=2, padding=0, dilation=1, ceil_mode=False)\n",
      "  )\n",
      "  (out): Sequential(\n",
      "    (0): Linear(in_features=1568, out_features=10, bias=True)\n",
      "  )\n",
      ")\n",
      "Network printed at 2022-04-19 20:51:40.624818\n"
     ]
    }
   ],
   "source": [
    "cnn = NeuralNetwork()\n",
    "print(cnn)\n",
    "print(f\"Network printed at {dt.now()}\")"
   ]
  },
  {
   "cell_type": "code",
   "execution_count": 106,
   "id": "ef631964",
   "metadata": {},
   "outputs": [],
   "source": [
    "adam = Adam(cnn.parameters(), lr=0.01)\n",
    "loss_function = CrossEntropyLoss()\n",
    "n_epochs = 10"
   ]
  },
  {
   "cell_type": "code",
   "execution_count": 109,
   "id": "b2535e9f",
   "metadata": {},
   "outputs": [],
   "source": [
    "def train(num_epochs, cnn, loaders):\n",
    "    \n",
    "    cnn.train()\n",
    "    \n",
    "    total_steps = len(loaders[\"train\"])\n",
    "    \n",
    "    for epoch in range(num_epochs):\n",
    "        for i, (images, labels) in enumerate(loaders[\"train\"]):\n",
    "            b_x = Variable(images)\n",
    "            b_y = Variable(labels)\n",
    "            output = cnn(b_x)[0]\n",
    "            loss = loss_function(output, b_y)\n",
    "            \n",
    "            adam.zero_grad()\n",
    "            \n",
    "            loss.backward()\n",
    "            \n",
    "            adam.step()\n",
    "            \n",
    "            if (i+1) % 100 == 0:\n",
    "                print(f\"Epoch: {epoch+1}/{num_epochs} | Loss: {loss.item()}\")"
   ]
  },
  {
   "cell_type": "code",
   "execution_count": 110,
   "id": "4e64b454",
   "metadata": {},
   "outputs": [
    {
     "name": "stdout",
     "output_type": "stream",
     "text": [
      "Epoch: 1/10 | Loss: 0.16494667530059814\n",
      "Epoch: 1/10 | Loss: 0.05170709639787674\n",
      "Epoch: 1/10 | Loss: 0.03412928432226181\n",
      "Epoch: 1/10 | Loss: 0.1400936096906662\n",
      "Epoch: 1/10 | Loss: 0.12785311043262482\n",
      "Epoch: 1/10 | Loss: 0.2201474905014038\n",
      "Epoch: 1/10 | Loss: 0.16198056936264038\n",
      "Epoch: 1/10 | Loss: 0.03369157388806343\n",
      "Epoch: 1/10 | Loss: 0.11614373326301575\n",
      "Epoch: 2/10 | Loss: 0.12191595882177353\n",
      "Epoch: 2/10 | Loss: 0.008380996063351631\n",
      "Epoch: 2/10 | Loss: 0.09810294210910797\n",
      "Epoch: 2/10 | Loss: 0.00663779117166996\n",
      "Epoch: 2/10 | Loss: 0.025399595499038696\n",
      "Epoch: 2/10 | Loss: 0.1259947270154953\n",
      "Epoch: 2/10 | Loss: 0.004791941959410906\n",
      "Epoch: 2/10 | Loss: 0.01198610384017229\n",
      "Epoch: 2/10 | Loss: 0.2144889384508133\n",
      "Epoch: 3/10 | Loss: 0.1494968980550766\n",
      "Epoch: 3/10 | Loss: 0.2969485819339752\n",
      "Epoch: 3/10 | Loss: 0.0031733682844787836\n",
      "Epoch: 3/10 | Loss: 0.043931130319833755\n",
      "Epoch: 3/10 | Loss: 0.1367957890033722\n",
      "Epoch: 3/10 | Loss: 0.014337446540594101\n",
      "Epoch: 3/10 | Loss: 0.012439067475497723\n",
      "Epoch: 3/10 | Loss: 0.003110612044110894\n",
      "Epoch: 3/10 | Loss: 0.1394507884979248\n",
      "Epoch: 4/10 | Loss: 0.08691678941249847\n",
      "Epoch: 4/10 | Loss: 0.01281766127794981\n",
      "Epoch: 4/10 | Loss: 0.0099976547062397\n",
      "Epoch: 4/10 | Loss: 0.07846800982952118\n",
      "Epoch: 4/10 | Loss: 0.06718144565820694\n",
      "Epoch: 4/10 | Loss: 0.0020875767804682255\n",
      "Epoch: 4/10 | Loss: 0.0426686629652977\n",
      "Epoch: 4/10 | Loss: 0.009784596040844917\n",
      "Epoch: 4/10 | Loss: 0.19826284050941467\n",
      "Epoch: 5/10 | Loss: 0.012319531291723251\n",
      "Epoch: 5/10 | Loss: 0.0025998728815466166\n",
      "Epoch: 5/10 | Loss: 0.04607004299759865\n",
      "Epoch: 5/10 | Loss: 0.0007304713362827897\n",
      "Epoch: 5/10 | Loss: 0.013594183139503002\n",
      "Epoch: 5/10 | Loss: 0.05637866258621216\n",
      "Epoch: 5/10 | Loss: 0.16652710735797882\n",
      "Epoch: 5/10 | Loss: 0.013342918828129768\n",
      "Epoch: 5/10 | Loss: 0.09819132089614868\n",
      "Epoch: 6/10 | Loss: 0.0849749892950058\n",
      "Epoch: 6/10 | Loss: 0.04926620051264763\n",
      "Epoch: 6/10 | Loss: 0.023625381290912628\n",
      "Epoch: 6/10 | Loss: 0.022518396377563477\n",
      "Epoch: 6/10 | Loss: 0.023140598088502884\n",
      "Epoch: 6/10 | Loss: 0.06792744994163513\n",
      "Epoch: 6/10 | Loss: 0.030230263248085976\n",
      "Epoch: 6/10 | Loss: 0.08441741019487381\n",
      "Epoch: 6/10 | Loss: 0.006134403869509697\n",
      "Epoch: 7/10 | Loss: 0.011121943593025208\n",
      "Epoch: 7/10 | Loss: 0.10334737598896027\n",
      "Epoch: 7/10 | Loss: 0.1968974769115448\n",
      "Epoch: 7/10 | Loss: 0.03429976478219032\n",
      "Epoch: 7/10 | Loss: 0.001662974595092237\n",
      "Epoch: 7/10 | Loss: 0.24562332034111023\n",
      "Epoch: 7/10 | Loss: 0.18759803473949432\n",
      "Epoch: 7/10 | Loss: 0.051885202527046204\n",
      "Epoch: 7/10 | Loss: 0.09521707147359848\n",
      "Epoch: 8/10 | Loss: 0.03754783421754837\n",
      "Epoch: 8/10 | Loss: 0.09122293442487717\n",
      "Epoch: 8/10 | Loss: 0.011155962012708187\n",
      "Epoch: 8/10 | Loss: 0.04849475622177124\n",
      "Epoch: 8/10 | Loss: 0.0705118402838707\n",
      "Epoch: 8/10 | Loss: 0.06496406346559525\n",
      "Epoch: 8/10 | Loss: 0.01805097982287407\n",
      "Epoch: 8/10 | Loss: 0.09520583599805832\n",
      "Epoch: 8/10 | Loss: 0.10474756360054016\n",
      "Epoch: 9/10 | Loss: 0.015823233872652054\n",
      "Epoch: 9/10 | Loss: 0.12943656742572784\n",
      "Epoch: 9/10 | Loss: 0.03724423795938492\n",
      "Epoch: 9/10 | Loss: 0.01320390123873949\n",
      "Epoch: 9/10 | Loss: 0.07456927001476288\n",
      "Epoch: 9/10 | Loss: 0.21987837553024292\n",
      "Epoch: 9/10 | Loss: 0.028352726250886917\n",
      "Epoch: 9/10 | Loss: 0.13117715716362\n",
      "Epoch: 9/10 | Loss: 0.00043011707020923495\n",
      "Epoch: 10/10 | Loss: 0.04220862686634064\n",
      "Epoch: 10/10 | Loss: 0.03556998819112778\n",
      "Epoch: 10/10 | Loss: 0.001779888290911913\n",
      "Epoch: 10/10 | Loss: 0.0018135375576093793\n",
      "Epoch: 10/10 | Loss: 0.0642617717385292\n",
      "Epoch: 10/10 | Loss: 0.0176444873213768\n",
      "Epoch: 10/10 | Loss: 0.18805177509784698\n",
      "Epoch: 10/10 | Loss: 0.07734176516532898\n",
      "Epoch: 10/10 | Loss: 0.10131371766328812\n",
      "Training started at 2022-04-19 20:54:50.137488\n"
     ]
    }
   ],
   "source": [
    "train(n_epochs, cnn, loaders)\n",
    "print(f\"Training started at {dt.now()}\")"
   ]
  },
  {
   "cell_type": "code",
   "execution_count": 116,
   "id": "88de56bd",
   "metadata": {},
   "outputs": [],
   "source": [
    "def test():\n",
    "    \n",
    "    cnn.eval()\n",
    "    \n",
    "    with torch.no_grad():\n",
    "        correct = 0\n",
    "        total = 0\n",
    "        \n",
    "        for images, labels in loaders[\"test\"]:\n",
    "            test_output, last_layer = cnn(images)\n",
    "            y_predictions = torch.max(test_output,1)[1].data.squeeze()\n",
    "            accuracy = (y_predictions == labels).sum().item() / float(labels.size(0))\n",
    "            pass\n",
    "        \n",
    "        print(f\"Test Accuracy on 10,000 Images: {accuracy}\")"
   ]
  },
  {
   "cell_type": "code",
   "execution_count": 117,
   "id": "fbac0838",
   "metadata": {},
   "outputs": [
    {
     "name": "stdout",
     "output_type": "stream",
     "text": [
      "Test Accuracy on 10,000 Images: 1.0\n"
     ]
    }
   ],
   "source": [
    "test()"
   ]
  },
  {
   "cell_type": "code",
   "execution_count": 118,
   "id": "d2b24c4d",
   "metadata": {},
   "outputs": [],
   "source": [
    "sample = next(iter(loaders[\"test\"]))\n",
    "images, labels = sample\n",
    "actual_number = labels[:10].numpy()\n",
    "test_output, last_layer = cnn(images[:10])\n",
    "y_predictions = torch.max(test_output,1)[1].data.numpy().squeeze()"
   ]
  },
  {
   "cell_type": "code",
   "execution_count": 119,
   "id": "57e538f1",
   "metadata": {},
   "outputs": [
    {
     "name": "stdout",
     "output_type": "stream",
     "text": [
      "Predictions Made at 2022-04-19 20:57:34.848959\n",
      "Predicted Number: [2 9 7 5 6 9 9 1 3 7] | Real Number: [2 9 7 5 6 9 9 1 3 7]\n"
     ]
    }
   ],
   "source": [
    "print(f\"Predictions Made at {dt.now()}\")\n",
    "print(\"Predicted Number: {} | Real Number: {}\".format(y_predictions, actual_number))"
   ]
  }
 ],
 "metadata": {
  "kernelspec": {
   "display_name": "Python 3 (ipykernel)",
   "language": "python",
   "name": "python3"
  },
  "language_info": {
   "codemirror_mode": {
    "name": "ipython",
    "version": 3
   },
   "file_extension": ".py",
   "mimetype": "text/x-python",
   "name": "python",
   "nbconvert_exporter": "python",
   "pygments_lexer": "ipython3",
   "version": "3.9.7"
  }
 },
 "nbformat": 4,
 "nbformat_minor": 5
}
