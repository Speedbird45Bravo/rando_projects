{
  "nbformat": 4,
  "nbformat_minor": 0,
  "metadata": {
    "colab": {
      "name": "XGBRFC_6721.ipynb",
      "provenance": [],
      "collapsed_sections": [],
      "authorship_tag": "ABX9TyP3Rl4eMviyHfr7aWTGtjIT"
    },
    "kernelspec": {
      "name": "python3",
      "display_name": "Python 3"
    },
    "language_info": {
      "name": "python"
    }
  },
  "cells": [
    {
      "cell_type": "code",
      "metadata": {
        "id": "4jzbYILneh0Q"
      },
      "source": [
        "from sklearn.metrics import accuracy_score\n",
        "from sklearn.model_selection import train_test_split\n",
        "from xgboost import XGBRFClassifier\n",
        "import numpy as np\n",
        "import pandas as pd"
      ],
      "execution_count": 1,
      "outputs": []
    },
    {
      "cell_type": "code",
      "metadata": {
        "id": "4G_ng41KepZc"
      },
      "source": [
        "df = pd.read_csv(\"https://projects.fivethirtyeight.com/soccer-api/club/spi_matches.csv\").dropna()\n",
        "df = df.reset_index(drop=True)"
      ],
      "execution_count": 2,
      "outputs": []
    },
    {
      "cell_type": "code",
      "metadata": {
        "id": "t_C1b-s6etbK"
      },
      "source": [
        "importances = []\n",
        "results = []"
      ],
      "execution_count": 3,
      "outputs": []
    },
    {
      "cell_type": "code",
      "metadata": {
        "id": "Nag6V1eWe4fi"
      },
      "source": [
        "df['h_result'] = df['score1'] - df['score2']\n",
        "df['h_importance'] = df['importance1'] - df['importance2']"
      ],
      "execution_count": 4,
      "outputs": []
    },
    {
      "cell_type": "code",
      "metadata": {
        "id": "o9QAdFvke9ey"
      },
      "source": [
        "for x in df['h_result']:\n",
        "  if x > 0:\n",
        "    results.append(\"HOME\")\n",
        "  elif x < 0:\n",
        "    results.append(\"AWAY\")\n",
        "  else:\n",
        "    results.append(\"DRAW\")"
      ],
      "execution_count": 5,
      "outputs": []
    },
    {
      "cell_type": "code",
      "metadata": {
        "id": "E6W40oojfEYV"
      },
      "source": [
        "for y in df['h_importance']:\n",
        "  if y > 0:\n",
        "    importances.append(\"HOME\")\n",
        "  elif y < 0:\n",
        "    importances.append(\"AWAY\")\n",
        "  else:\n",
        "    importances.append(\"DRAW\")"
      ],
      "execution_count": 6,
      "outputs": []
    },
    {
      "cell_type": "code",
      "metadata": {
        "id": "YkbiYQTsfQBl"
      },
      "source": [
        "df = df.drop(columns=['h_result','h_importance'])"
      ],
      "execution_count": 8,
      "outputs": []
    },
    {
      "cell_type": "code",
      "metadata": {
        "id": "UnET81UAfTnB"
      },
      "source": [
        "df['importance'] = importances\n",
        "df['result'] = results"
      ],
      "execution_count": 9,
      "outputs": []
    },
    {
      "cell_type": "code",
      "metadata": {
        "id": "3ZePOBdhfYAx"
      },
      "source": [
        "matches = []"
      ],
      "execution_count": 10,
      "outputs": []
    },
    {
      "cell_type": "code",
      "metadata": {
        "id": "Y2Wv57sZfaHB"
      },
      "source": [
        "for z in range(len(df)):\n",
        "  i = df['importance'][z]\n",
        "  r = df['result'][z]\n",
        "  if i == r:\n",
        "    matches.append(\"MATCH\")\n",
        "  else:\n",
        "    matches.append(\"NO MATCH\")"
      ],
      "execution_count": 11,
      "outputs": []
    },
    {
      "cell_type": "code",
      "metadata": {
        "id": "xVJfVcn4fyl_"
      },
      "source": [
        "df['importance_match'] = matches"
      ],
      "execution_count": 12,
      "outputs": []
    },
    {
      "cell_type": "code",
      "metadata": {
        "id": "0hT_V8SfhBCw"
      },
      "source": [
        "X_final = df[['score1','score2','importance1','importance2']]\n",
        "y_final = df['importance_match']"
      ],
      "execution_count": 13,
      "outputs": []
    },
    {
      "cell_type": "code",
      "metadata": {
        "id": "Ih5MbB0Shh9a"
      },
      "source": [
        "accuracy_values = []"
      ],
      "execution_count": 14,
      "outputs": []
    },
    {
      "cell_type": "code",
      "metadata": {
        "id": "ZYpmNVSmhJy7"
      },
      "source": [
        "def model():\n",
        "  count = 0\n",
        "  while count < 30:\n",
        "    X_train, X_test, y_train, y_test = train_test_split(X_final, y_final, test_size=0.2, random_state=count)\n",
        "    model = XGBRFClassifier(max_depth=6, eval_metric='mlogloss', objective='binary:logistic', n_estimators=400).fit(X_train, y_train)\n",
        "    predictions = model.predict(X_test)\n",
        "    accuracy = accuracy_score(y_test, predictions)\n",
        "    accuracy_values.append(accuracy)\n",
        "    count += 1"
      ],
      "execution_count": 15,
      "outputs": []
    },
    {
      "cell_type": "code",
      "metadata": {
        "id": "hWcBp9T2hkWj"
      },
      "source": [
        "model = model()"
      ],
      "execution_count": 16,
      "outputs": []
    },
    {
      "cell_type": "code",
      "metadata": {
        "id": "yRZKiFZhh0wM"
      },
      "source": [
        "def round_3(num):\n",
        "  num = np.round(num, 3)\n",
        "  num = num * 100\n",
        "  return num"
      ],
      "execution_count": 17,
      "outputs": []
    },
    {
      "cell_type": "code",
      "metadata": {
        "colab": {
          "base_uri": "https://localhost:8080/"
        },
        "id": "-s-ivKMuhlkj",
        "outputId": "242daf23-4f5b-47bb-c426-018f7fbc4906"
      },
      "source": [
        "acc_min = round_3(np.min(accuracy_values))\n",
        "acc_med = round_3(np.median(accuracy_values))\n",
        "acc_mean = round_3(np.mean(accuracy_values))\n",
        "acc_max = round_3(np.max(accuracy_values))\n",
        "print(\"Accuracy Values: Minimum {}% | Median: {}% | Mean: {}% | Maximum: {}%\".format(acc_min, acc_med, acc_mean, acc_max))"
      ],
      "execution_count": 19,
      "outputs": [
        {
          "output_type": "stream",
          "text": [
            "Accuracy Values: Minimum 85.7% | Median: 87.2% | Mean: 87.2% | Maximum: 88.7%\n"
          ],
          "name": "stdout"
        }
      ]
    }
  ]
}