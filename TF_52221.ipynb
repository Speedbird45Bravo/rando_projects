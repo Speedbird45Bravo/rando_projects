{
 "cells": [
  {
   "cell_type": "code",
   "execution_count": 57,
   "id": "174d5ddc",
   "metadata": {},
   "outputs": [],
   "source": [
    "from sklearn.metrics import accuracy_score\n",
    "from sklearn.model_selection import train_test_split\n",
    "import numpy as np\n",
    "import pandas as pd\n",
    "import tensorflow as tf"
   ]
  },
  {
   "cell_type": "code",
   "execution_count": 58,
   "id": "e1e8c7d0",
   "metadata": {},
   "outputs": [],
   "source": [
    "df = pd.read_csv(\"https://projects.fivethirtyeight.com/soccer-api/club/spi_matches.csv\")"
   ]
  },
  {
   "cell_type": "code",
   "execution_count": 59,
   "id": "2018ab1b",
   "metadata": {},
   "outputs": [],
   "source": [
    "df = df[(df.league==\"Barclays Premier League\")]"
   ]
  },
  {
   "cell_type": "code",
   "execution_count": 60,
   "id": "b59a0396",
   "metadata": {},
   "outputs": [],
   "source": [
    "results = []"
   ]
  },
  {
   "cell_type": "code",
   "execution_count": 61,
   "id": "00036cb9",
   "metadata": {},
   "outputs": [],
   "source": [
    "df[\"home_result\"] = df[\"score1\"] - df[\"score2\"]"
   ]
  },
  {
   "cell_type": "code",
   "execution_count": 62,
   "id": "1d6fa76f",
   "metadata": {},
   "outputs": [],
   "source": [
    "for x in df[\"home_result\"]:\n",
    "    if x > 0:\n",
    "        results.append(\"HOME WIN\")\n",
    "    elif x < 0:\n",
    "        results.append(\"AWAY WIN\")\n",
    "    else:\n",
    "        results.append(\"DRAW\")"
   ]
  },
  {
   "cell_type": "code",
   "execution_count": 63,
   "id": "e560cea1",
   "metadata": {},
   "outputs": [],
   "source": [
    "df[\"result\"] = results"
   ]
  },
  {
   "cell_type": "code",
   "execution_count": 64,
   "id": "bb350fbf",
   "metadata": {},
   "outputs": [],
   "source": [
    "def categorize(array):\n",
    "    array = tf.keras.utils.to_categorical(np.asarray(pd.factorize(array)[0]))\n",
    "    return array"
   ]
  },
  {
   "cell_type": "code",
   "execution_count": 65,
   "id": "2219aba1",
   "metadata": {},
   "outputs": [],
   "source": [
    "def model():\n",
    "    model = tf.keras.models.Sequential()\n",
    "    model.add(tf.keras.layers.Dense(64, activation=\"relu\"))\n",
    "    model.add(tf.keras.layers.Dense(3, activation=\"softmax\"))\n",
    "    model.compile(optimizer=\"rmsprop\", loss=\"categorical_crossentropy\", metrics=[\"accuracy\"])\n",
    "    return model"
   ]
  },
  {
   "cell_type": "code",
   "execution_count": 66,
   "id": "539866ee",
   "metadata": {},
   "outputs": [],
   "source": [
    "X_final = df[['score1','score2','home_result']]\n",
    "y_final = df[[\"result\"]].copy()\n",
    "X_train, X_test, y_train, y_test = train_test_split(X_final, y_final, test_size=0.2, random_state=6)"
   ]
  },
  {
   "cell_type": "code",
   "execution_count": 67,
   "id": "62cc16f0",
   "metadata": {},
   "outputs": [],
   "source": [
    "y_train = categorize(y_train[\"result\"])\n",
    "y_test = categorize(y_test[\"result\"])"
   ]
  },
  {
   "cell_type": "code",
   "execution_count": 68,
   "id": "049a619d",
   "metadata": {},
   "outputs": [
    {
     "name": "stdout",
     "output_type": "stream",
     "text": [
      "Epoch 1/25\n",
      "12/12 [==============================] - 0s 2ms/step - loss: nan - accuracy: 0.4145\n",
      "Epoch 2/25\n",
      "12/12 [==============================] - 0s 455us/step - loss: nan - accuracy: 0.4349\n",
      "Epoch 3/25\n",
      "12/12 [==============================] - 0s 455us/step - loss: nan - accuracy: 0.4349\n",
      "Epoch 4/25\n",
      "12/12 [==============================] - 0s 455us/step - loss: nan - accuracy: 0.4349\n",
      "Epoch 5/25\n",
      "12/12 [==============================] - 0s 455us/step - loss: nan - accuracy: 0.4349\n",
      "Epoch 6/25\n",
      "12/12 [==============================] - 0s 546us/step - loss: nan - accuracy: 0.4349\n",
      "Epoch 7/25\n",
      "12/12 [==============================] - 0s 455us/step - loss: nan - accuracy: 0.4349\n",
      "Epoch 8/25\n",
      "12/12 [==============================] - 0s 546us/step - loss: nan - accuracy: 0.4349\n",
      "Epoch 9/25\n",
      "12/12 [==============================] - 0s 546us/step - loss: nan - accuracy: 0.4349\n",
      "Epoch 10/25\n",
      "12/12 [==============================] - 0s 546us/step - loss: nan - accuracy: 0.4349\n",
      "Epoch 11/25\n",
      "12/12 [==============================] - 0s 546us/step - loss: nan - accuracy: 0.4349\n",
      "Epoch 12/25\n",
      "12/12 [==============================] - 0s 546us/step - loss: nan - accuracy: 0.4349\n",
      "Epoch 13/25\n",
      "12/12 [==============================] - 0s 546us/step - loss: nan - accuracy: 0.4349\n",
      "Epoch 14/25\n",
      "12/12 [==============================] - 0s 546us/step - loss: nan - accuracy: 0.4349\n",
      "Epoch 15/25\n",
      "12/12 [==============================] - 0s 546us/step - loss: nan - accuracy: 0.4349\n",
      "Epoch 16/25\n",
      "12/12 [==============================] - 0s 455us/step - loss: nan - accuracy: 0.4349\n",
      "Epoch 17/25\n",
      "12/12 [==============================] - 0s 455us/step - loss: nan - accuracy: 0.4349\n",
      "Epoch 18/25\n",
      "12/12 [==============================] - 0s 364us/step - loss: nan - accuracy: 0.4349\n",
      "Epoch 19/25\n",
      "12/12 [==============================] - 0s 546us/step - loss: nan - accuracy: 0.4349\n",
      "Epoch 20/25\n",
      "12/12 [==============================] - 0s 455us/step - loss: nan - accuracy: 0.4349\n",
      "Epoch 21/25\n",
      "12/12 [==============================] - 0s 455us/step - loss: nan - accuracy: 0.4349\n",
      "Epoch 22/25\n",
      "12/12 [==============================] - 0s 546us/step - loss: nan - accuracy: 0.4349\n",
      "Epoch 23/25\n",
      "12/12 [==============================] - 0s 455us/step - loss: nan - accuracy: 0.4349\n",
      "Epoch 24/25\n",
      "12/12 [==============================] - 0s 455us/step - loss: nan - accuracy: 0.4349\n",
      "Epoch 25/25\n",
      "12/12 [==============================] - 0s 455us/step - loss: nan - accuracy: 0.4349\n"
     ]
    },
    {
     "data": {
      "text/plain": [
       "<tensorflow.python.keras.callbacks.History at 0x1fb0e009be0>"
      ]
     },
     "execution_count": 68,
     "metadata": {},
     "output_type": "execute_result"
    }
   ],
   "source": [
    "model = model()\n",
    "model.fit(X_train, y_train, epochs=25, batch_size=128, verbose=1)"
   ]
  },
  {
   "cell_type": "code",
   "execution_count": 75,
   "id": "5be5da23",
   "metadata": {},
   "outputs": [
    {
     "name": "stdout",
     "output_type": "stream",
     "text": [
      "12/12 [==============================] - 0s 455us/step - loss: nan - accuracy: 1.0000\n",
      "Test Accuracy Score: 100.0%\n"
     ]
    }
   ],
   "source": [
    "predictions = model.predict(X_test)\n",
    "loss, accuracy = model.evaluate(y_test, predictions)\n",
    "print(\"Test Accuracy Score: {}%\".format(accuracy * 100))"
   ]
  }
 ],
 "metadata": {
  "kernelspec": {
   "display_name": "Python 3",
   "language": "python",
   "name": "python3"
  },
  "language_info": {
   "codemirror_mode": {
    "name": "ipython",
    "version": 3
   },
   "file_extension": ".py",
   "mimetype": "text/x-python",
   "name": "python",
   "nbconvert_exporter": "python",
   "pygments_lexer": "ipython3",
   "version": "3.9.1"
  }
 },
 "nbformat": 4,
 "nbformat_minor": 5
}
