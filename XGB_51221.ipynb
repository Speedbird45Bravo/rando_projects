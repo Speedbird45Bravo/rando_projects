{
 "cells": [
  {
   "cell_type": "code",
   "execution_count": 34,
   "id": "military-wedding",
   "metadata": {},
   "outputs": [],
   "source": [
    "from sklearn.datasets import load_boston\n",
    "from sklearn.metrics import mean_squared_error\n",
    "from sklearn.model_selection import train_test_split\n",
    "import numpy as np\n",
    "import pandas as pd\n",
    "import xgboost as xgb"
   ]
  },
  {
   "cell_type": "code",
   "execution_count": 35,
   "id": "returning-voltage",
   "metadata": {},
   "outputs": [],
   "source": [
    "boston = load_boston()"
   ]
  },
  {
   "cell_type": "code",
   "execution_count": 48,
   "id": "amateur-granny",
   "metadata": {},
   "outputs": [],
   "source": [
    "X = pd.DataFrame(boston.data)\n",
    "y = pd.DataFrame(boston.target)\n",
    "X.columns = boston.feature_names\n",
    "y.columns = ['PRICE']"
   ]
  },
  {
   "cell_type": "code",
   "execution_count": 49,
   "id": "formal-michigan",
   "metadata": {},
   "outputs": [],
   "source": [
    "X = df\n",
    "y = target"
   ]
  },
  {
   "cell_type": "code",
   "execution_count": 50,
   "id": "trying-toyota",
   "metadata": {},
   "outputs": [],
   "source": [
    "data_dmatrix = xgb.DMatrix(data=X, label=y)"
   ]
  },
  {
   "cell_type": "code",
   "execution_count": 51,
   "id": "ambient-blade",
   "metadata": {},
   "outputs": [],
   "source": [
    "X_train, X_test, y_train, y_test = train_test_split(X, y, test_size=0.2, random_state=6)"
   ]
  },
  {
   "cell_type": "code",
   "execution_count": 52,
   "id": "better-territory",
   "metadata": {},
   "outputs": [],
   "source": [
    "model = xgb.XGBRegressor(objective='reg:squarederror', colsample_bytree=0.3, learning_rate=0.1, max_depth=5, alpha=10, n_estimators=10).fit(X_train, y_train)"
   ]
  },
  {
   "cell_type": "code",
   "execution_count": 53,
   "id": "fatal-incentive",
   "metadata": {},
   "outputs": [],
   "source": [
    "predictions = model.predict(X_test)"
   ]
  },
  {
   "cell_type": "code",
   "execution_count": 54,
   "id": "essential-satin",
   "metadata": {},
   "outputs": [],
   "source": [
    "RMSE = np.round(np.sqrt(mean_squared_error(y_test, predictions)),2)"
   ]
  },
  {
   "cell_type": "code",
   "execution_count": 56,
   "id": "greek-elizabeth",
   "metadata": {},
   "outputs": [
    {
     "name": "stdout",
     "output_type": "stream",
     "text": [
      "Test RMSE: 9.6\n"
     ]
    }
   ],
   "source": [
    "print(\"Test RMSE: {}\".format(RMSE))"
   ]
  }
 ],
 "metadata": {
  "kernelspec": {
   "display_name": "Python 3",
   "language": "python",
   "name": "python3"
  },
  "language_info": {
   "codemirror_mode": {
    "name": "ipython",
    "version": 3
   },
   "file_extension": ".py",
   "mimetype": "text/x-python",
   "name": "python",
   "nbconvert_exporter": "python",
   "pygments_lexer": "ipython3",
   "version": "3.8.5"
  }
 },
 "nbformat": 4,
 "nbformat_minor": 5
}
