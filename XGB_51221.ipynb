{
 "cells": [
  {
   "cell_type": "code",
   "execution_count": 60,
   "id": "generic-afghanistan",
   "metadata": {},
   "outputs": [],
   "source": [
    "from sklearn.datasets import load_boston\n",
    "from sklearn.metrics import mean_squared_error\n",
    "from sklearn.model_selection import train_test_split\n",
    "import numpy as np\n",
    "import pandas as pd\n",
    "import xgboost as xgb"
   ]
  },
  {
   "cell_type": "code",
   "execution_count": 61,
   "id": "occupational-aside",
   "metadata": {},
   "outputs": [],
   "source": [
    "# Fairly standard XGB example using the Boston Housing dataset.\n",
    "boston = load_boston()"
   ]
  },
  {
   "cell_type": "code",
   "execution_count": 62,
   "id": "owned-cinema",
   "metadata": {},
   "outputs": [],
   "source": [
    "# The Boston object gives us data and targets as arrays, so all that needs to be done for train_test_split is assigning X and y.\n",
    "X = pd.DataFrame(boston.data)\n",
    "y = pd.DataFrame(boston.target)\n",
    "X.columns = boston.feature_names\n",
    "y.columns = ['PRICE']"
   ]
  },
  {
   "cell_type": "code",
   "execution_count": 70,
   "id": "champion-camcorder",
   "metadata": {},
   "outputs": [],
   "source": [
    "# DMatrix generation for use with cross validation.\n",
    "dmat = xgb.DMatrix(data=X, label=y)"
   ]
  },
  {
   "cell_type": "code",
   "execution_count": 71,
   "id": "amino-suite",
   "metadata": {},
   "outputs": [],
   "source": [
    "# 0.2 should be fine for the split point.\n",
    "X_train, X_test, y_train, y_test = train_test_split(X, y, test_size=0.2, random_state=6)"
   ]
  },
  {
   "cell_type": "code",
   "execution_count": 72,
   "id": "flush-spiritual",
   "metadata": {},
   "outputs": [],
   "source": [
    "# Lots of hyperparameters.\n",
    "model = xgb.XGBRegressor(objective='reg:squarederror', colsample_bytree=0.3, learning_rate=0.1, max_depth=5, alpha=10, n_estimators=10).fit(X_train, y_train)"
   ]
  },
  {
   "cell_type": "code",
   "execution_count": 73,
   "id": "indoor-suspension",
   "metadata": {},
   "outputs": [],
   "source": [
    "# Initial set of predictions.\n",
    "predictions = model.predict(X_test)"
   ]
  },
  {
   "cell_type": "code",
   "execution_count": 74,
   "id": "maritime-economy",
   "metadata": {},
   "outputs": [],
   "source": [
    "# RMSE for y_test vs. predictions.\n",
    "RMSE = np.round(np.sqrt(mean_squared_error(y_test, predictions)),2)"
   ]
  },
  {
   "cell_type": "code",
   "execution_count": 75,
   "id": "executive-costa",
   "metadata": {},
   "outputs": [
    {
     "name": "stdout",
     "output_type": "stream",
     "text": [
      "Test RMSE: 9.6\n"
     ]
    }
   ],
   "source": [
    "# For comparison.\n",
    "print(\"Test RMSE: {}\".format(RMSE))"
   ]
  },
  {
   "cell_type": "code",
   "execution_count": 78,
   "id": "middle-promotion",
   "metadata": {},
   "outputs": [],
   "source": [
    "# Cross validation parameters and model fitting.\n",
    "params = {\"objective\":\"reg:squarederror\", \"colsample_bytree\":0.3, \"learning_rate\":0.1, 'max_depth':5, 'alpha':10}\n",
    "cv_results = xgb.cv(dtrain=dmat, params=params, nfold=3, num_boost_round=50, early_stopping_rounds=10, metrics=\"rmse\", as_pandas=True, seed=6)"
   ]
  },
  {
   "cell_type": "code",
   "execution_count": 103,
   "id": "heavy-wiring",
   "metadata": {},
   "outputs": [],
   "source": [
    "# Generating CV results. Train and Test RMSEs ran pretty close to one another, so no drastic overfitting occuring.\n",
    "# The tail will give us the final test RMSE, which is really what we are looking to evaluate vis-a-vis the last time.\n",
    "last_test_RMSE = np.round(cv_results['test-rmse-mean'][len(cv_results)-1],2)"
   ]
  },
  {
   "cell_type": "code",
   "execution_count": 104,
   "id": "oriental-marks",
   "metadata": {},
   "outputs": [
    {
     "name": "stdout",
     "output_type": "stream",
     "text": [
      "CV Test RMSE: 3.98\n"
     ]
    }
   ],
   "source": [
    "# Well lower than the original, but need to calculate the improvement.\n",
    "print(\"CV Test RMSE: {}\".format(last_test_RMSE))"
   ]
  },
  {
   "cell_type": "code",
   "execution_count": 108,
   "id": "featured-gauge",
   "metadata": {},
   "outputs": [],
   "source": [
    "# Improvement calculation to round things off.\n",
    "difference = np.round((RMSE - last_test_RMSE),2)"
   ]
  },
  {
   "cell_type": "code",
   "execution_count": 110,
   "id": "allied-parish",
   "metadata": {},
   "outputs": [
    {
     "name": "stdout",
     "output_type": "stream",
     "text": [
      "RMSE Improvement: 5.62\n"
     ]
    }
   ],
   "source": [
    "# Not bad!\n",
    "print(\"RMSE Improvement: {}\".format(difference))"
   ]
  }
 ],
 "metadata": {
  "kernelspec": {
   "display_name": "Python 3",
   "language": "python",
   "name": "python3"
  },
  "language_info": {
   "codemirror_mode": {
    "name": "ipython",
    "version": 3
   },
   "file_extension": ".py",
   "mimetype": "text/x-python",
   "name": "python",
   "nbconvert_exporter": "python",
   "pygments_lexer": "ipython3",
   "version": "3.8.5"
  }
 },
 "nbformat": 4,
 "nbformat_minor": 5
}
