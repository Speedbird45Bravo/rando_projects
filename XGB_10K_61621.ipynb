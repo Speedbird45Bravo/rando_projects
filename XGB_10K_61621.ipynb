{
 "cells": [
  {
   "cell_type": "code",
   "execution_count": 28,
   "id": "e4c89f99",
   "metadata": {},
   "outputs": [],
   "source": [
    "from sklearn.metrics import accuracy_score\n",
    "from sklearn.model_selection import train_test_split\n",
    "from sklearn.preprocessing import LabelEncoder\n",
    "from xgboost import XGBClassifier\n",
    "import numpy as np\n",
    "import pandas as pd"
   ]
  },
  {
   "cell_type": "code",
   "execution_count": 29,
   "id": "fd0f96dd",
   "metadata": {},
   "outputs": [],
   "source": [
    "df = pd.read_csv(\"https://projects.fivethirtyeight.com/soccer-api/club/spi_matches_latest.csv\").dropna()\n",
    "df = df[df.league==\"Barclays Premier League\"].reset_index(drop=True)"
   ]
  },
  {
   "cell_type": "code",
   "execution_count": 30,
   "id": "9c51e057",
   "metadata": {},
   "outputs": [],
   "source": [
    "df['result'] = df['score1'] - df['score2']"
   ]
  },
  {
   "cell_type": "code",
   "execution_count": 31,
   "id": "f61b9cc2",
   "metadata": {},
   "outputs": [],
   "source": [
    "results = []"
   ]
  },
  {
   "cell_type": "code",
   "execution_count": 32,
   "id": "0096cc90",
   "metadata": {},
   "outputs": [],
   "source": [
    "for x in df['result']:\n",
    "    if x > 0:\n",
    "        results.append(\"HOME\")\n",
    "    elif x < 0:\n",
    "        results.append(\"AWAY\")\n",
    "    else:\n",
    "        results.append(\"DRAW\")"
   ]
  },
  {
   "cell_type": "code",
   "execution_count": 33,
   "id": "8a0eef77",
   "metadata": {},
   "outputs": [],
   "source": [
    "df['result'] = results"
   ]
  },
  {
   "cell_type": "code",
   "execution_count": 53,
   "id": "b020c76b",
   "metadata": {},
   "outputs": [],
   "source": [
    "accs = []"
   ]
  },
  {
   "cell_type": "code",
   "execution_count": 54,
   "id": "86e7fb21",
   "metadata": {},
   "outputs": [],
   "source": [
    "X_final = df[['spi1','spi2','probtie']]\n",
    "y_final = df['result']\n",
    "y_final = LabelEncoder().fit_transform(y_final)"
   ]
  },
  {
   "cell_type": "code",
   "execution_count": 55,
   "id": "b54d576a",
   "metadata": {},
   "outputs": [],
   "source": [
    "def model(X, y):\n",
    "    count = 0\n",
    "    while count < 10000:\n",
    "        X_train, X_test, y_train, y_test = train_test_split(X_final, y_final, test_size=0.2, random_state=count)\n",
    "        model = XGBClassifier(eval_metric='mlogloss', use_label_encoder=False)\n",
    "        model.fit(X_train, y_train)\n",
    "        predictions = model.predict(X_test)\n",
    "        accuracy = accuracy_score(y_test, predictions)\n",
    "        accs.append(accuracy)\n",
    "        count += 1"
   ]
  },
  {
   "cell_type": "code",
   "execution_count": 56,
   "id": "6fe9fad5",
   "metadata": {},
   "outputs": [],
   "source": [
    "model = model(X_final, y_final)"
   ]
  },
  {
   "cell_type": "code",
   "execution_count": 62,
   "id": "29d13d29",
   "metadata": {},
   "outputs": [],
   "source": [
    "accuracy = np.mean(accs).round(3) * 100"
   ]
  },
  {
   "cell_type": "code",
   "execution_count": 63,
   "id": "df02bdf2",
   "metadata": {},
   "outputs": [
    {
     "name": "stdout",
     "output_type": "stream",
     "text": [
      "Test Accuracy: 51.300000000000004%\n"
     ]
    }
   ],
   "source": [
    "print(\"Test Accuracy: {}%\".format(accuracy))"
   ]
  }
 ],
 "metadata": {
  "kernelspec": {
   "display_name": "Python 3",
   "language": "python",
   "name": "python3"
  },
  "language_info": {
   "codemirror_mode": {
    "name": "ipython",
    "version": 3
   },
   "file_extension": ".py",
   "mimetype": "text/x-python",
   "name": "python",
   "nbconvert_exporter": "python",
   "pygments_lexer": "ipython3",
   "version": "3.9.5"
  }
 },
 "nbformat": 4,
 "nbformat_minor": 5
}
