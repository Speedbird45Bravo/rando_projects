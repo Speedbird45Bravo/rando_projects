{
 "cells": [
  {
   "cell_type": "markdown",
   "id": "afdd8ca1",
   "metadata": {
    "id": "afdd8ca1"
   },
   "source": [
    "<p style=\"font-size: 2em; text-align: center;\">Assignment 5: K-Fold Cross-Validation in scikit-learn</p>\n",
    "<p style=\"font-size: 1.5em; text-align: center;\">Using RepeatedKFold to Evaluate Performance</p>\n",
    "<p style=\"text-align: center;\">Henry Loughlin</p>\n",
    "<p style=\"text-align: center;\">EAI6000</p>\n",
    "<p style=\"text-align: center;\">Professor Mark Wagy</p>\n",
    "<p style=\"text-align: center;\">May 9, 2022</p>"
   ]
  },
  {
   "cell_type": "code",
   "execution_count": null,
   "id": "4e8e5652",
   "metadata": {
    "id": "4e8e5652",
    "outputId": "f2a89a92-0e43-49c9-b5e9-6240153b1e68"
   },
   "outputs": [
    {
     "name": "stdout",
     "output_type": "stream",
     "text": [
      "X Shape: (1000, 20) | Y Shape: (1000,)\n",
      "Test Accuracy | Mean: 0.868 SD: 0.032\n"
     ]
    }
   ],
   "source": [
    "from sklearn.datasets import make_classification\n",
    "from sklearn.model_selection import KFold, cross_val_score, RepeatedKFold\n",
    "from sklearn.linear_model import LogisticRegression\n",
    "from scipy.stats import sem\n",
    "import matplotlib.pyplot as plt\n",
    "import numpy as np\n",
    "\n",
    "# We are generating a classification dataset from scikit-learn with 1,000 samples (rows) and 20 features (columns).\n",
    "X, y = make_classification(n_samples=1000, n_features=20, n_informative=15, n_redundant=5, random_state=1)\n",
    "\n",
    "print(f\"X Shape: {X.shape} | Y Shape: {y.shape}\")\n",
    "\n",
    "# Instantiating our first K-Fold object - in this case, K is 10.\n",
    "cv = KFold(n_splits=10, random_state=1, shuffle=True)\n",
    "\n",
    "# Logistic Regression: Binary classification (0 or 1).\n",
    "model = LogisticRegression()\n",
    "\n",
    "# Cross-Validation Score for generating mean and standard deviation.\n",
    "cv_scores = cross_val_score(model, X, y, scoring='accuracy', cv=cv, n_jobs=-1)\n",
    "\n",
    "print(f\"Test Accuracy | Mean: {round(np.mean(cv_scores),3)} SD: {round(np.std(cv_scores),3)}\")"
   ]
  },
  {
   "cell_type": "code",
   "execution_count": null,
   "id": "d7aafe36",
   "metadata": {
    "id": "d7aafe36"
   },
   "outputs": [],
   "source": [
    "# Repeated k-fold serves as the key to the evaluate_model function.\n",
    "# We also instantiate a fresh LogisticRegression model to generate the scores.\n",
    "\n",
    "def evaluate_model(X, y, repeats):\n",
    "    model = LogisticRegression()\n",
    "    scores = cross_val_score(model, X, y, scoring='accuracy', cv=cv, n_jobs=1)\n",
    "    return scores"
   ]
  },
  {
   "cell_type": "code",
   "execution_count": null,
   "id": "16106dc6",
   "metadata": {
    "id": "16106dc6",
    "outputId": "4f8b977d-b8c8-466f-cc9b-b8e28738f8c4"
   },
   "outputs": [
    {
     "name": "stdout",
     "output_type": "stream",
     "text": [
      "1. Mean=0.8680 SE=0.011\n",
      "2. Mean=0.8680 SE=0.011\n",
      "3. Mean=0.8680 SE=0.011\n",
      "4. Mean=0.8680 SE=0.011\n",
      "5. Mean=0.8680 SE=0.011\n",
      "6. Mean=0.8680 SE=0.011\n",
      "7. Mean=0.8680 SE=0.011\n",
      "8. Mean=0.8680 SE=0.011\n",
      "9. Mean=0.8680 SE=0.011\n",
      "10. Mean=0.8680 SE=0.011\n",
      "11. Mean=0.8680 SE=0.011\n",
      "12. Mean=0.8680 SE=0.011\n",
      "13. Mean=0.8680 SE=0.011\n",
      "14. Mean=0.8680 SE=0.011\n",
      "15. Mean=0.8680 SE=0.011\n"
     ]
    }
   ],
   "source": [
    "# There is no difference in the X, y above and the one \n",
    "\n",
    "results = []\n",
    "\n",
    "# Our repeats can also be used for future tests, since they won't change.\n",
    "# And, by putting a res\n",
    "repeats = range(1,16)\n",
    "\n",
    "for r in repeats:\n",
    "    \n",
    "    scores = evaluate_model(X, y, r)\n",
    "    \n",
    "    print(\"%s. Mean=%.4f SE=%.3f\" % (r, np.mean(scores), sem(scores)))\n",
    "    \n",
    "    results.append(scores)"
   ]
  },
  {
   "cell_type": "code",
   "execution_count": null,
   "id": "d7cccefc",
   "metadata": {
    "id": "d7cccefc"
   },
   "outputs": [],
   "source": [
    "title = \"Cross-Validation Boxplots\"\n",
    "rep = \"Repeat\"\n",
    "sc = \"Score\""
   ]
  },
  {
   "cell_type": "code",
   "execution_count": null,
   "id": "9a4fb288",
   "metadata": {
    "id": "9a4fb288",
    "outputId": "46ad980d-3667-4be5-e3fa-17244322b1e9"
   },
   "outputs": [
    {
     "data": {
      "image/png": "[encoded data removed]",
      "text/plain": [
       "<Figure size 432x288 with 1 Axes>"
      ]
     },
     "metadata": {
      "needs_background": "light"
     },
     "output_type": "display_data"
    }
   ],
   "source": [
    "# Generating boxplots for each of the repeats is very easy with Matplotlib.\n",
    "# Here there are 15 informative and 5 redundant features.\n",
    "plt.xlabel(rep)\n",
    "plt.ylabel(sc)\n",
    "plt.title(title + \" (15/5)\")\n",
    "plt.boxplot(results, labels=[str(r) for r in repeats], showmeans=True)\n",
    "plt.show()"
   ]
  },
  {
   "cell_type": "code",
   "execution_count": null,
   "id": "51bc08be",
   "metadata": {
    "id": "51bc08be",
    "outputId": "1ed325bb-dd86-4e52-e0ac-bf35a8008a9f"
   },
   "outputs": [
    {
     "name": "stdout",
     "output_type": "stream",
     "text": [
      "1. Mean: 0.876 SE: 0.009\n",
      "2. Mean: 0.876 SE: 0.009\n",
      "3. Mean: 0.876 SE: 0.009\n",
      "4. Mean: 0.876 SE: 0.009\n",
      "5. Mean: 0.876 SE: 0.009\n",
      "6. Mean: 0.876 SE: 0.009\n",
      "7. Mean: 0.876 SE: 0.009\n",
      "8. Mean: 0.876 SE: 0.009\n",
      "9. Mean: 0.876 SE: 0.009\n",
      "10. Mean: 0.876 SE: 0.009\n",
      "11. Mean: 0.876 SE: 0.009\n",
      "12. Mean: 0.876 SE: 0.009\n",
      "13. Mean: 0.876 SE: 0.009\n",
      "14. Mean: 0.876 SE: 0.009\n",
      "15. Mean: 0.876 SE: 0.009\n"
     ]
    }
   ],
   "source": [
    "# In exploring potential improvements, let's see if altering the number\n",
    "# of informative and redundant features affects the accuracy.\n",
    "\n",
    "# Given that models tend to perform better on cross-validation when they can\n",
    "# generalize well, let's increase the number of redundant features and see\n",
    "# if this makes it easier for our model to generalize.\n",
    "\n",
    "X, y = make_classification(n_samples=1000, n_features=20, n_informative=14, n_redundant=6, random_state=1)\n",
    "\n",
    "new_results = []\n",
    "\n",
    "for r in repeats:\n",
    "    \n",
    "    scores = evaluate_model(X, y, r)\n",
    "    \n",
    "    print(f\"{r}. Mean: {round(np.mean(scores),3)} SE: {round(sem(scores),3)}\")\n",
    "    \n",
    "    new_results.append(scores)"
   ]
  },
  {
   "cell_type": "code",
   "execution_count": null,
   "id": "25d471e4",
   "metadata": {
    "id": "25d471e4",
    "outputId": "9e852966-feed-42d0-f2ef-b4e319c76066"
   },
   "outputs": [
    {
     "data": {
      "image/png": "[encoded data removed]",
      "text/plain": [
       "<Figure size 432x288 with 1 Axes>"
      ]
     },
     "metadata": {
      "needs_background": "light"
     },
     "output_type": "display_data"
    }
   ],
   "source": [
    "# Wow, there is an improvement in both the mean and SE!\n",
    "# Generating boxplots for each of the repeats is very easy with Matplotlib.\n",
    "plt.title(title + \" (14/6)\")\n",
    "plt.xlabel(rep)\n",
    "plt.ylabel(sc)\n",
    "plt.boxplot(new_results, labels=[str(r) for r in repeats], showmeans=True)\n",
    "plt.show()"
   ]
  },
  {
   "cell_type": "code",
   "execution_count": null,
   "id": "8dd45204",
   "metadata": {
    "id": "8dd45204",
    "outputId": "168f75ed-8f90-40d8-9c65-4a338675a049"
   },
   "outputs": [
    {
     "name": "stdout",
     "output_type": "stream",
     "text": [
      "1. Mean: 0.901 SE: 0.009\n",
      "2. Mean: 0.901 SE: 0.009\n",
      "3. Mean: 0.901 SE: 0.009\n",
      "4. Mean: 0.901 SE: 0.009\n",
      "5. Mean: 0.901 SE: 0.009\n",
      "6. Mean: 0.901 SE: 0.009\n",
      "7. Mean: 0.901 SE: 0.009\n",
      "8. Mean: 0.901 SE: 0.009\n",
      "9. Mean: 0.901 SE: 0.009\n",
      "10. Mean: 0.901 SE: 0.009\n",
      "11. Mean: 0.901 SE: 0.009\n",
      "12. Mean: 0.901 SE: 0.009\n",
      "13. Mean: 0.901 SE: 0.009\n",
      "14. Mean: 0.901 SE: 0.009\n",
      "15. Mean: 0.901 SE: 0.009\n"
     ]
    }
   ],
   "source": [
    "# For fun, let's try 10/10.\n",
    "X, y = make_classification(1000, 20, n_informative=10, n_redundant=10, random_state=1)\n",
    "\n",
    "newest_results = []\n",
    "\n",
    "for r in repeats:\n",
    "    scores = evaluate_model(X, y, r)\n",
    "    \n",
    "    print(f\"{r}. Mean: {round(np.mean(scores),3)} SE: {round(sem(scores),3)}\")\n",
    "\n",
    "    newest_results.append(scores)"
   ]
  },
  {
   "cell_type": "code",
   "execution_count": null,
   "id": "e0219fd9",
   "metadata": {
    "id": "e0219fd9",
    "outputId": "48eebb1e-438b-4440-8578-dc8e0678d766"
   },
   "outputs": [
    {
     "data": {
      "image/png": "[encoded data removed]",
      "text/plain": [
       "<Figure size 432x288 with 1 Axes>"
      ]
     },
     "metadata": {
      "needs_background": "light"
     },
     "output_type": "display_data"
    }
   ],
   "source": [
    "# Marginal improvement.\n",
    "plt.title(title + \" (10/10)\")\n",
    "plt.xlabel(rep)\n",
    "plt.ylabel(sc)\n",
    "plt.boxplot(newest_results, labels=[str(r) for r in repeats], showmeans=True)\n",
    "plt.show()"
   ]
  }
 ],
 "metadata": {
  "colab": {
   "name": "LOUGHLIN_EAI6000_Module5.ipynb",
   "provenance": []
  },
  "kernelspec": {
   "display_name": "Python 3 (ipykernel)",
   "language": "python",
   "name": "python3"
  },
  "language_info": {
   "codemirror_mode": {
    "name": "ipython",
    "version": 3
   },
   "file_extension": ".py",
   "mimetype": "text/x-python",
   "name": "python",
   "nbconvert_exporter": "python",
   "pygments_lexer": "ipython3",
   "version": "3.9.12"
  }
 },
 "nbformat": 4,
 "nbformat_minor": 5
}
