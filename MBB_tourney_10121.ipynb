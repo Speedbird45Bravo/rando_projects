{
  "nbformat": 4,
  "nbformat_minor": 0,
  "metadata": {
    "colab": {
      "name": "MBB_tourney_10121.ipynb",
      "provenance": [],
      "collapsed_sections": [],
      "authorship_tag": "ABX9TyOPb3FSnszCeXsYUT/EOPvl"
    },
    "kernelspec": {
      "name": "python3",
      "display_name": "Python 3"
    },
    "language_info": {
      "name": "python"
    }
  },
  "cells": [
    {
      "cell_type": "code",
      "metadata": {
        "id": "1jVyP5Lg47HH"
      },
      "source": [
        "from keras.layers import Dense, Embedding, Input, Subtract, Flatten\n",
        "from keras.models import Model\n",
        "from sklearn.model_selection import train_test_split\n",
        "import numpy as np\n",
        "import pandas as pd"
      ],
      "execution_count": 16,
      "outputs": []
    },
    {
      "cell_type": "code",
      "metadata": {
        "id": "KzoDaohL5GgE"
      },
      "source": [
        "games = pd.read_csv(\"games_season.csv\")\n",
        "tourney = pd.read_csv(\"games_tourney.csv\")"
      ],
      "execution_count": 17,
      "outputs": []
    },
    {
      "cell_type": "code",
      "metadata": {
        "id": "qsQfjWGh6qjV"
      },
      "source": [
        "def get_split_point(df, y=\"score_diff\", split=0.8, x=None):\n",
        "\n",
        "  y_final = df.loc[:,df.columns == y]\n",
        "\n",
        "  if x is None:\n",
        "    X_final = df.loc[:,df.columns != y]\n",
        "\n",
        "  else:\n",
        "    X_final = df.loc[:,df.columns == x]\n",
        "\n",
        "  X_train, X_test, y_train, y_test = train_test_split(X_final, y_final, test_size=0.2)\n",
        "  return X_train, y_train, X_test, y_test"
      ],
      "execution_count": 18,
      "outputs": []
    },
    {
      "cell_type": "code",
      "metadata": {
        "id": "OsH8gEFG7D-k"
      },
      "source": [
        "X_train_games, X_test_games, y_train_games, y_test_games = get_split_point(games)"
      ],
      "execution_count": 19,
      "outputs": []
    },
    {
      "cell_type": "code",
      "metadata": {
        "id": "nSRsnkCf-KUT"
      },
      "source": [
        "X_train_tourney, X_test_tourney, y_train_tourney, y_test_tourney = get_split_point(tourney)"
      ],
      "execution_count": 20,
      "outputs": []
    },
    {
      "cell_type": "code",
      "metadata": {
        "id": "FgdFn8TZFQxB"
      },
      "source": [
        "train_cols_games = len(X_train_games.columns)\n",
        "train_cols_tourney = len(X_train_tourney.columns)"
      ],
      "execution_count": 21,
      "outputs": []
    },
    {
      "cell_type": "code",
      "metadata": {
        "id": "Q_Zj6_PxN75V"
      },
      "source": [
        "input_tensor_1 = Input(shape=(1,))\n",
        "input_tensor_2 = Input(shape=(1,))\n",
        "n_teams = np.unique(X_train_games['team_1']).shape[0]\n",
        "embed_layer = Embedding(input_dim=n_teams, input_length=1, output_dim=1, name=\"Team-Strength-Lookup\")\n",
        "embed_tensor = embed_layer(input_tensor)\n",
        "flatten_tensor = Flatten()(embed_tensor)\n",
        "team_strength_model = Model(input_tensor, flatten_tensor)"
      ],
      "execution_count": 46,
      "outputs": []
    },
    {
      "cell_type": "code",
      "metadata": {
        "id": "0TkEIixBdau9"
      },
      "source": [
        "team_1_strength = team_strength_model(input_tensor_1)\n",
        "team_2_strength = team_strength_model(input_tensor_2)"
      ],
      "execution_count": 47,
      "outputs": []
    },
    {
      "cell_type": "code",
      "metadata": {
        "id": "5r_SrL-6dq1H"
      },
      "source": [
        "score_diff = Subtract()([team_1_strength, team_2_strength])"
      ],
      "execution_count": 48,
      "outputs": []
    },
    {
      "cell_type": "code",
      "metadata": {
        "id": "2vYDcVald0KD"
      },
      "source": [
        "model = Model([input_tensor_1, input_tensor_2], score_diff)\n",
        "model.compile(optimizer=\"adam\", loss=\"mean_absolute_error\")"
      ],
      "execution_count": 51,
      "outputs": []
    },
    {
      "cell_type": "code",
      "metadata": {
        "colab": {
          "base_uri": "https://localhost:8080/"
        },
        "id": "X8WsE9MzeGg8",
        "outputId": "802528e9-2891-4813-b458-6c32bc1cee7c"
      },
      "source": [
        "input_1 = games[\"team_1\"]\n",
        "input_2 = games[\"team_2\"]\n",
        "model.fit([input_1, input_2], games[\"score_diff\"], epochs=1, batch_size=2048, validation_split=0.1, verbose=1)"
      ],
      "execution_count": 52,
      "outputs": [
        {
          "output_type": "stream",
          "name": "stdout",
          "text": [
            "138/138 [==============================] - 1s 3ms/step - loss: 12.1201 - val_loss: 11.8384\n"
          ]
        },
        {
          "output_type": "execute_result",
          "data": {
            "text/plain": [
              "<keras.callbacks.History at 0x7ff92f44d890>"
            ]
          },
          "metadata": {},
          "execution_count": 52
        }
      ]
    },
    {
      "cell_type": "code",
      "metadata": {
        "id": "P_RiDdJteduE"
      },
      "source": [
        "test_input_1 = tourney[\"team_1\"]\n",
        "test_input_2 = tourney[\"team_2\"]\n",
        "eval = model.evaluate([test_input_1, test_input_2], tourney[\"score_diff\"], verbose=False)"
      ],
      "execution_count": 53,
      "outputs": []
    },
    {
      "cell_type": "code",
      "metadata": {
        "colab": {
          "base_uri": "https://localhost:8080/"
        },
        "id": "fXVODzsjeuVN",
        "outputId": "8b8c3f3d-39c6-4047-d464-9bd2ad6215a4"
      },
      "source": [
        "print(\"Tournament MAE: {}\".format(eval))"
      ],
      "execution_count": 55,
      "outputs": [
        {
          "output_type": "stream",
          "name": "stdout",
          "text": [
            "Tournament MAE: 11.681591987609863\n"
          ]
        }
      ]
    }
  ]
}